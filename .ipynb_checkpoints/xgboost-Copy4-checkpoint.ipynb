{
 "cells": [
  {
   "cell_type": "code",
   "execution_count": 1,
   "id": "73b20828-5422-423d-85ff-449137ac570c",
   "metadata": {},
   "outputs": [],
   "source": [
    "import xgboost as xgb\n",
    "import os\n",
    "import seaborn as sns\n",
    "import pandas as pd\n",
    "import numpy as np\n",
    "from xgboost import XGBRegressor\n",
    "from sklearn.model_selection import train_test_split\n",
    "from sklearn.preprocessing import OneHotEncoder, LabelEncoder, OrdinalEncoder\n",
    "from sklearn.metrics import mean_squared_error, r2_score\n",
    "import time\n",
    "# from sklearn.externals import joblib\n",
    "import joblib\n",
    "import pickle\n",
    "import pylab as plt\n",
    "from sklearn.model_selection import cross_val_score\n",
    "import warnings\n",
    "import torch.nn as nn\n",
    "warnings.filterwarnings('ignore')\n",
    "\n",
    "pd.set_option('display.max_rows', 100)\n",
    "pd.set_option('display.max_columns', None)\n",
    "pd.set_option('display.float_format', lambda x: '%.4f' % x)\n",
    "np.set_printoptions(suppress=True)\n",
    "sns.set_style({'font.sans-serif': ['simhei', 'Arial']})   # 解决画图中文乱码\n",
    "\n",
    "%matplotlib inline"
   ]
  },
  {
   "cell_type": "code",
   "execution_count": 2,
   "id": "5638c9d2-20d8-4cfc-be0c-e635641bb771",
   "metadata": {},
   "outputs": [
    {
     "data": {
      "text/html": [
       "<div>\n",
       "<style scoped>\n",
       "    .dataframe tbody tr th:only-of-type {\n",
       "        vertical-align: middle;\n",
       "    }\n",
       "\n",
       "    .dataframe tbody tr th {\n",
       "        vertical-align: top;\n",
       "    }\n",
       "\n",
       "    .dataframe thead th {\n",
       "        text-align: right;\n",
       "    }\n",
       "</style>\n",
       "<table border=\"1\" class=\"dataframe\">\n",
       "  <thead>\n",
       "    <tr style=\"text-align: right;\">\n",
       "      <th></th>\n",
       "      <th>id</th>\n",
       "      <th>site_id</th>\n",
       "      <th>asin</th>\n",
       "      <th>data_date</th>\n",
       "      <th>product_title</th>\n",
       "      <th>ordered_revenue</th>\n",
       "      <th>ordered_revenue_of_total</th>\n",
       "      <th>ordered_revenue_last_year</th>\n",
       "      <th>ordered_units</th>\n",
       "      <th>ordered_units_of_total</th>\n",
       "      <th>ordered_units_prior_period</th>\n",
       "      <th>ordered_units_last_year</th>\n",
       "      <th>subcategory_sales_rank</th>\n",
       "      <th>average_sales_price</th>\n",
       "      <th>average_sales_price_prior_period</th>\n",
       "      <th>glance_views</th>\n",
       "      <th>change_in_glance_view_prior_period</th>\n",
       "      <th>change_in_gv_last_year</th>\n",
       "      <th>conversion_rate</th>\n",
       "      <th>rep_oos</th>\n",
       "      <th>rep_oos_of_total</th>\n",
       "      <th>rep_oos_prior_period</th>\n",
       "      <th>lbb_price</th>\n",
       "      <th>create_time</th>\n",
       "      <th>update_time</th>\n",
       "    </tr>\n",
       "  </thead>\n",
       "  <tbody>\n",
       "    <tr>\n",
       "      <th>0</th>\n",
       "      <td>1</td>\n",
       "      <td>eb766123-9f24-436e-9117-49c739816794</td>\n",
       "      <td>B07GJBBGHG</td>\n",
       "      <td>2021/1/2</td>\n",
       "      <td>COSORI 5.8QT Electric Hot Air Fryers Oven Oill...</td>\n",
       "      <td>153827.1800</td>\n",
       "      <td>0.1300</td>\n",
       "      <td>1.2600</td>\n",
       "      <td>1284</td>\n",
       "      <td>0.0600</td>\n",
       "      <td>-0.1300</td>\n",
       "      <td>1.2600</td>\n",
       "      <td>1.0000</td>\n",
       "      <td>119.8000</td>\n",
       "      <td>0.0000</td>\n",
       "      <td>40220.0000</td>\n",
       "      <td>0.0000</td>\n",
       "      <td>1.1900</td>\n",
       "      <td>0.0300</td>\n",
       "      <td>0.0200</td>\n",
       "      <td>0.1400</td>\n",
       "      <td>0.1500</td>\n",
       "      <td>0.0000</td>\n",
       "      <td>2021/1/4 6:48</td>\n",
       "      <td>2021/1/4 6:48</td>\n",
       "    </tr>\n",
       "  </tbody>\n",
       "</table>\n",
       "</div>"
      ],
      "text/plain": [
       "   id                               site_id        asin data_date  \\\n",
       "0   1  eb766123-9f24-436e-9117-49c739816794  B07GJBBGHG  2021/1/2   \n",
       "\n",
       "                                       product_title  ordered_revenue  \\\n",
       "0  COSORI 5.8QT Electric Hot Air Fryers Oven Oill...      153827.1800   \n",
       "\n",
       "   ordered_revenue_of_total  ordered_revenue_last_year  ordered_units  \\\n",
       "0                    0.1300                     1.2600           1284   \n",
       "\n",
       "   ordered_units_of_total  ordered_units_prior_period  \\\n",
       "0                  0.0600                     -0.1300   \n",
       "\n",
       "   ordered_units_last_year  subcategory_sales_rank  average_sales_price  \\\n",
       "0                   1.2600                  1.0000             119.8000   \n",
       "\n",
       "   average_sales_price_prior_period  glance_views  \\\n",
       "0                            0.0000    40220.0000   \n",
       "\n",
       "   change_in_glance_view_prior_period  change_in_gv_last_year  \\\n",
       "0                              0.0000                  1.1900   \n",
       "\n",
       "   conversion_rate  rep_oos  rep_oos_of_total  rep_oos_prior_period  \\\n",
       "0           0.0300   0.0200            0.1400                0.1500   \n",
       "\n",
       "   lbb_price    create_time    update_time  \n",
       "0     0.0000  2021/1/4 6:48  2021/1/4 6:48  "
      ]
     },
     "execution_count": 2,
     "metadata": {},
     "output_type": "execute_result"
    }
   ],
   "source": [
    "data = pd.read_csv('./data.csv', encoding='GBK')\n",
    "data.head(1)"
   ]
  },
  {
   "cell_type": "code",
   "execution_count": 3,
   "id": "73a2d885-5e0e-4a4d-8108-14b7bb49492f",
   "metadata": {},
   "outputs": [],
   "source": [
    "data.data_date = pd.to_datetime(data.data_date)"
   ]
  },
  {
   "cell_type": "code",
   "execution_count": 26,
   "id": "c6ee435b-a599-4410-8b4d-b15cea8a9aaa",
   "metadata": {},
   "outputs": [],
   "source": [
    "train = data[(data['data_date'] >= '2019-12-02')\n",
    "              & (data['data_date'] <= '2021-07-22') \n",
    "              & (data.asin == 'B07QHSZGXC')].copy()[['data_date',  'ordered_units']]"
   ]
  },
  {
   "cell_type": "code",
   "execution_count": 27,
   "id": "2aae123c-6239-4230-a6d0-7600ae4cdd5f",
   "metadata": {},
   "outputs": [
    {
     "data": {
      "text/plain": [
       "(595, 2)"
      ]
     },
     "execution_count": 27,
     "metadata": {},
     "output_type": "execute_result"
    }
   ],
   "source": [
    "train.shape"
   ]
  },
  {
   "cell_type": "code",
   "execution_count": 28,
   "id": "025fb67e-bc3e-45c5-9a7c-ab4c9df968ad",
   "metadata": {},
   "outputs": [],
   "source": [
    "test = data[(data['data_date'] >= '2021-07-23')\n",
    "             & (data['data_date'] <= '2021-08-22')\n",
    "            & (data.asin == 'B07QHSZGXC')].copy()[['data_date', 'ordered_units']]"
   ]
  },
  {
   "cell_type": "code",
   "execution_count": 29,
   "id": "ff0010c1-1ba2-4d1f-b29b-ebdc461a38ac",
   "metadata": {},
   "outputs": [
    {
     "data": {
      "text/html": [
       "<div>\n",
       "<style scoped>\n",
       "    .dataframe tbody tr th:only-of-type {\n",
       "        vertical-align: middle;\n",
       "    }\n",
       "\n",
       "    .dataframe tbody tr th {\n",
       "        vertical-align: top;\n",
       "    }\n",
       "\n",
       "    .dataframe thead th {\n",
       "        text-align: right;\n",
       "    }\n",
       "</style>\n",
       "<table border=\"1\" class=\"dataframe\">\n",
       "  <thead>\n",
       "    <tr style=\"text-align: right;\">\n",
       "      <th></th>\n",
       "      <th>data_date</th>\n",
       "      <th>ordered_units</th>\n",
       "    </tr>\n",
       "  </thead>\n",
       "  <tbody>\n",
       "    <tr>\n",
       "      <th>7</th>\n",
       "      <td>2021-01-02</td>\n",
       "      <td>325</td>\n",
       "    </tr>\n",
       "    <tr>\n",
       "      <th>58</th>\n",
       "      <td>2021-01-01</td>\n",
       "      <td>333</td>\n",
       "    </tr>\n",
       "    <tr>\n",
       "      <th>26926</th>\n",
       "      <td>2021-07-21</td>\n",
       "      <td>160</td>\n",
       "    </tr>\n",
       "    <tr>\n",
       "      <th>27288</th>\n",
       "      <td>2021-07-22</td>\n",
       "      <td>171</td>\n",
       "    </tr>\n",
       "  </tbody>\n",
       "</table>\n",
       "</div>"
      ],
      "text/plain": [
       "       data_date  ordered_units\n",
       "7     2021-01-02            325\n",
       "58    2021-01-01            333\n",
       "26926 2021-07-21            160\n",
       "27288 2021-07-22            171"
      ]
     },
     "execution_count": 29,
     "metadata": {},
     "output_type": "execute_result"
    }
   ],
   "source": [
    "train.head(2).append(train.tail(2))"
   ]
  },
  {
   "cell_type": "markdown",
   "id": "58c6edc5-6d2d-4656-873f-a46cb3f01d4b",
   "metadata": {},
   "source": [
    "## ordered_units"
   ]
  },
  {
   "cell_type": "code",
   "execution_count": 9,
   "id": "ad1529b7-2591-4158-8a02-44c38f7e3798",
   "metadata": {},
   "outputs": [],
   "source": [
    "from scipy.stats import norm"
   ]
  },
  {
   "cell_type": "code",
   "execution_count": 10,
   "id": "5668c4ad-14a6-4a6c-828f-371347ef28c8",
   "metadata": {},
   "outputs": [
    {
     "data": {
      "text/plain": [
       "<AxesSubplot:xlabel='ordered_units', ylabel='Density'>"
      ]
     },
     "execution_count": 10,
     "metadata": {},
     "output_type": "execute_result"
    },
    {
     "data": {
      "image/png": "[encoded data removed]",
      "text/plain": [
       "<Figure size 432x288 with 1 Axes>"
      ]
     },
     "metadata": {
      "needs_background": "light"
     },
     "output_type": "display_data"
    }
   ],
   "source": [
    "sns.distplot(train.ordered_units, kde=True, fit=norm)"
   ]
  },
  {
   "cell_type": "markdown",
   "id": "b6f8616d-c4ed-45c2-ade3-c8147bbc9e09",
   "metadata": {},
   "source": [
    "## 数据预处理"
   ]
  },
  {
   "cell_type": "markdown",
   "id": "f33d9ffc-ad44-4c9a-8409-3004615fbaba",
   "metadata": {},
   "source": [
    "### 异常值，删除小于等于0的数值和离群点"
   ]
  },
  {
   "cell_type": "code",
   "execution_count": 30,
   "id": "6ad7f835-580d-4e82-995c-ecbfa1f2ca2d",
   "metadata": {},
   "outputs": [],
   "source": [
    "train.drop(train[train.ordered_units <= 0].index, inplace=True)"
   ]
  },
  {
   "cell_type": "code",
   "execution_count": 31,
   "id": "acc2edf9-eeef-42bf-8973-708a5385c24f",
   "metadata": {
    "tags": []
   },
   "outputs": [
    {
     "data": {
      "text/plain": [
       "<AxesSubplot:xlabel='ordered_units'>"
      ]
     },
     "execution_count": 31,
     "metadata": {},
     "output_type": "execute_result"
    },
    {
     "data": {
      "image/png": "[encoded data removed]",
      "text/plain": [
       "<Figure size 432x288 with 1 Axes>"
      ]
     },
     "metadata": {
      "needs_background": "light"
     },
     "output_type": "display_data"
    }
   ],
   "source": [
    "sns.boxplot(train.ordered_units)"
   ]
  },
  {
   "cell_type": "code",
   "execution_count": 32,
   "id": "c0afff07-277a-4dad-a31d-d68a95038a15",
   "metadata": {},
   "outputs": [],
   "source": [
    "train.drop(train[train.ordered_units > 1000].index, inplace=True)"
   ]
  },
  {
   "cell_type": "code",
   "execution_count": 33,
   "id": "812c61fd-d731-4c15-9818-9c18b4091107",
   "metadata": {},
   "outputs": [
    {
     "data": {
      "text/plain": [
       "(581, 2)"
      ]
     },
     "execution_count": 33,
     "metadata": {},
     "output_type": "execute_result"
    }
   ],
   "source": [
    "train.shape"
   ]
  },
  {
   "cell_type": "code",
   "execution_count": 34,
   "id": "347df92c-4bf2-41b3-89a5-a313a68a6087",
   "metadata": {},
   "outputs": [
    {
     "data": {
      "text/html": [
       "<div>\n",
       "<style scoped>\n",
       "    .dataframe tbody tr th:only-of-type {\n",
       "        vertical-align: middle;\n",
       "    }\n",
       "\n",
       "    .dataframe tbody tr th {\n",
       "        vertical-align: top;\n",
       "    }\n",
       "\n",
       "    .dataframe thead th {\n",
       "        text-align: right;\n",
       "    }\n",
       "</style>\n",
       "<table border=\"1\" class=\"dataframe\">\n",
       "  <thead>\n",
       "    <tr style=\"text-align: right;\">\n",
       "      <th></th>\n",
       "      <th>data_date</th>\n",
       "      <th>ordered_units</th>\n",
       "    </tr>\n",
       "  </thead>\n",
       "  <tbody>\n",
       "    <tr>\n",
       "      <th>15937</th>\n",
       "      <td>2019-12-03</td>\n",
       "      <td>193</td>\n",
       "    </tr>\n",
       "    <tr>\n",
       "      <th>15902</th>\n",
       "      <td>2019-12-04</td>\n",
       "      <td>212</td>\n",
       "    </tr>\n",
       "    <tr>\n",
       "      <th>15869</th>\n",
       "      <td>2019-12-05</td>\n",
       "      <td>211</td>\n",
       "    </tr>\n",
       "    <tr>\n",
       "      <th>15837</th>\n",
       "      <td>2019-12-06</td>\n",
       "      <td>225</td>\n",
       "    </tr>\n",
       "    <tr>\n",
       "      <th>15814</th>\n",
       "      <td>2019-12-07</td>\n",
       "      <td>28</td>\n",
       "    </tr>\n",
       "  </tbody>\n",
       "</table>\n",
       "</div>"
      ],
      "text/plain": [
       "       data_date  ordered_units\n",
       "15937 2019-12-03            193\n",
       "15902 2019-12-04            212\n",
       "15869 2019-12-05            211\n",
       "15837 2019-12-06            225\n",
       "15814 2019-12-07             28"
      ]
     },
     "execution_count": 34,
     "metadata": {},
     "output_type": "execute_result"
    }
   ],
   "source": [
    "train.sort_values('data_date').head()"
   ]
  },
  {
   "cell_type": "markdown",
   "id": "9b402ed9-0a79-4124-9105-adc4d2bfc621",
   "metadata": {},
   "source": [
    "### 设置权重"
   ]
  },
  {
   "cell_type": "code",
   "execution_count": 35,
   "id": "f44e85c2-44a2-4369-87e5-f1b8f30f6eaf",
   "metadata": {},
   "outputs": [],
   "source": [
    "weight = train.data_date.apply(lambda x: (x-pd.to_datetime('2019-12-02')).days)"
   ]
  },
  {
   "cell_type": "markdown",
   "id": "7760e0c0-69df-453b-a770-ffe63b16d73e",
   "metadata": {},
   "source": [
    "### 缺失值"
   ]
  },
  {
   "cell_type": "code",
   "execution_count": 16,
   "id": "c8d0af97-d65f-4a7a-b103-bc85154e7930",
   "metadata": {},
   "outputs": [
    {
     "data": {
      "text/plain": [
       "data_date        0\n",
       "ordered_units    0\n",
       "dtype: int64"
      ]
     },
     "execution_count": 16,
     "metadata": {},
     "output_type": "execute_result"
    }
   ],
   "source": [
    "train.isnull().sum()"
   ]
  },
  {
   "cell_type": "markdown",
   "id": "de005c50-1832-458f-89d9-17c41a7d01b5",
   "metadata": {},
   "source": [
    "无缺失值不用处理"
   ]
  },
  {
   "cell_type": "markdown",
   "id": "1145eda8-a6d2-4b3a-98f0-4d48d9e15384",
   "metadata": {},
   "source": [
    "### 创造特征"
   ]
  },
  {
   "cell_type": "code",
   "execution_count": 36,
   "id": "da1ad1d7-93fe-4028-b470-d3b0faa4ee2b",
   "metadata": {},
   "outputs": [],
   "source": [
    "def create_feature(df):\n",
    "    df['year'] = df.data_date.dt.year\n",
    "    df['month'] = df.data_date.dt.month\n",
    "    df['day'] = df.data_date.dt.day\n",
    "    df['weekday'] = df.data_date.dt.weekday\n",
    "    \n",
    "    df.drop('data_date', axis=1, inplace=True)\n",
    "    return df"
   ]
  },
  {
   "cell_type": "code",
   "execution_count": 37,
   "id": "96a34693-43cf-4ebd-a38d-00d3e59531b2",
   "metadata": {},
   "outputs": [],
   "source": [
    "train = create_feature(train)"
   ]
  },
  {
   "cell_type": "code",
   "execution_count": 38,
   "id": "ba3c67ee-d208-46fa-8a3b-ba8f033eb54d",
   "metadata": {},
   "outputs": [
    {
     "data": {
      "text/html": [
       "<div>\n",
       "<style scoped>\n",
       "    .dataframe tbody tr th:only-of-type {\n",
       "        vertical-align: middle;\n",
       "    }\n",
       "\n",
       "    .dataframe tbody tr th {\n",
       "        vertical-align: top;\n",
       "    }\n",
       "\n",
       "    .dataframe thead th {\n",
       "        text-align: right;\n",
       "    }\n",
       "</style>\n",
       "<table border=\"1\" class=\"dataframe\">\n",
       "  <thead>\n",
       "    <tr style=\"text-align: right;\">\n",
       "      <th></th>\n",
       "      <th>ordered_units</th>\n",
       "      <th>year</th>\n",
       "      <th>month</th>\n",
       "      <th>day</th>\n",
       "      <th>weekday</th>\n",
       "    </tr>\n",
       "  </thead>\n",
       "  <tbody>\n",
       "    <tr>\n",
       "      <th>7</th>\n",
       "      <td>325</td>\n",
       "      <td>2021</td>\n",
       "      <td>1</td>\n",
       "      <td>2</td>\n",
       "      <td>5</td>\n",
       "    </tr>\n",
       "    <tr>\n",
       "      <th>58</th>\n",
       "      <td>333</td>\n",
       "      <td>2021</td>\n",
       "      <td>1</td>\n",
       "      <td>1</td>\n",
       "      <td>4</td>\n",
       "    </tr>\n",
       "    <tr>\n",
       "      <th>110</th>\n",
       "      <td>236</td>\n",
       "      <td>2020</td>\n",
       "      <td>12</td>\n",
       "      <td>31</td>\n",
       "      <td>3</td>\n",
       "    </tr>\n",
       "  </tbody>\n",
       "</table>\n",
       "</div>"
      ],
      "text/plain": [
       "     ordered_units  year  month  day  weekday\n",
       "7              325  2021      1    2        5\n",
       "58             333  2021      1    1        4\n",
       "110            236  2020     12   31        3"
      ]
     },
     "execution_count": 38,
     "metadata": {},
     "output_type": "execute_result"
    }
   ],
   "source": [
    "train.head(3)"
   ]
  },
  {
   "cell_type": "code",
   "execution_count": 39,
   "id": "38fcdf42-2692-4980-902d-c8b2441ff3e6",
   "metadata": {},
   "outputs": [],
   "source": [
    "x_train = train.drop('ordered_units', axis=1)\n",
    "y_train = train['ordered_units']"
   ]
  },
  {
   "cell_type": "code",
   "execution_count": 40,
   "id": "1c0711d3-fafc-4d01-a35c-a0c9376209aa",
   "metadata": {},
   "outputs": [
    {
     "data": {
      "text/plain": [
       "(581, 5)"
      ]
     },
     "execution_count": 40,
     "metadata": {},
     "output_type": "execute_result"
    }
   ],
   "source": [
    "train.shape"
   ]
  },
  {
   "cell_type": "code",
   "execution_count": 41,
   "id": "c14b2997-dbfa-47dd-a41f-84ef8da75de2",
   "metadata": {
    "tags": []
   },
   "outputs": [
    {
     "data": {
      "text/plain": [
       "<AxesSubplot:xlabel='year', ylabel='ordered_units'>"
      ]
     },
     "execution_count": 41,
     "metadata": {},
     "output_type": "execute_result"
    },
    {
     "data": {
      "image/png": "[encoded data removed]",
      "text/plain": [
       "<Figure size 432x288 with 1 Axes>"
      ]
     },
     "metadata": {
      "needs_background": "light"
     },
     "output_type": "display_data"
    }
   ],
   "source": [
    "sns.barplot('year', 'ordered_units', data=train, estimator=np.sum)"
   ]
  },
  {
   "cell_type": "code",
   "execution_count": 28,
   "id": "ca75f9c7-54c6-4ded-b36f-13c9688b3858",
   "metadata": {
    "collapsed": true,
    "jupyter": {
     "outputs_hidden": true
    },
    "tags": []
   },
   "outputs": [
    {
     "data": {
      "text/plain": [
       "<AxesSubplot:xlabel='day', ylabel='ordered_units'>"
      ]
     },
     "execution_count": 28,
     "metadata": {},
     "output_type": "execute_result"
    },
    {
     "data": {
      "image/png": "[encoded data removed]",
      "text/plain": [
       "<Figure size 720x360 with 1 Axes>"
      ]
     },
     "metadata": {
      "needs_background": "light"
     },
     "output_type": "display_data"
    }
   ],
   "source": [
    "plt.figure(figsize=(10, 5))\n",
    "plt.xticks(rotation=90)\n",
    "sns.barplot('day', 'ordered_units', data=train, ci=0, estimator=np.sum)"
   ]
  },
  {
   "cell_type": "code",
   "execution_count": 29,
   "id": "f300436f-ea2c-40fc-b42b-a3f562f557d5",
   "metadata": {
    "collapsed": true,
    "jupyter": {
     "outputs_hidden": true
    },
    "tags": []
   },
   "outputs": [
    {
     "data": {
      "text/plain": [
       "<AxesSubplot:xlabel='month', ylabel='ordered_units'>"
      ]
     },
     "execution_count": 29,
     "metadata": {},
     "output_type": "execute_result"
    },
    {
     "data": {
      "image/png": "[encoded data removed]",
      "text/plain": [
       "<Figure size 720x360 with 1 Axes>"
      ]
     },
     "metadata": {
      "needs_background": "light"
     },
     "output_type": "display_data"
    }
   ],
   "source": [
    "plt.figure(figsize=(10, 5))\n",
    "plt.xticks(rotation=90)\n",
    "sns.barplot('month', 'ordered_units', data=train, ci=0, estimator=np.sum)"
   ]
  },
  {
   "cell_type": "markdown",
   "id": "fadb456c-69e7-4faa-a107-faf5f2bd1993",
   "metadata": {},
   "source": [
    "### 编码"
   ]
  },
  {
   "cell_type": "code",
   "execution_count": 42,
   "id": "20299f7b-5858-4b8b-bc71-543eae38dc4b",
   "metadata": {},
   "outputs": [
    {
     "data": {
      "text/plain": [
       "(581, 53)"
      ]
     },
     "execution_count": 42,
     "metadata": {},
     "output_type": "execute_result"
    }
   ],
   "source": [
    "encoder = OneHotEncoder(sparse=False, handle_unknown='ignore')\n",
    "x_train = encoder.fit_transform(x_train)\n",
    "x_train.shape"
   ]
  },
  {
   "cell_type": "markdown",
   "id": "06c62239-e109-4ca8-bf7c-57f98f2255cb",
   "metadata": {},
   "source": [
    "## 数据转换"
   ]
  },
  {
   "cell_type": "code",
   "execution_count": 22,
   "id": "efb2f302-b48d-470c-8625-26f8af88fab5",
   "metadata": {},
   "outputs": [],
   "source": [
    "train.ordered_units = np.log1p(train.ordered_units)"
   ]
  },
  {
   "cell_type": "code",
   "execution_count": 23,
   "id": "486b6ea0-279b-4208-bfb4-886da71f6c35",
   "metadata": {},
   "outputs": [
    {
     "data": {
      "text/plain": [
       "<AxesSubplot:xlabel='ordered_units', ylabel='Density'>"
      ]
     },
     "execution_count": 23,
     "metadata": {},
     "output_type": "execute_result"
    },
    {
     "data": {
      "image/png": "[encoded data removed]",
      "text/plain": [
       "<Figure size 432x288 with 1 Axes>"
      ]
     },
     "metadata": {
      "needs_background": "light"
     },
     "output_type": "display_data"
    }
   ],
   "source": [
    "sns.distplot(train.ordered_units)"
   ]
  },
  {
   "cell_type": "markdown",
   "id": "0b25cf6f-0109-4077-9e7f-108d80e33729",
   "metadata": {},
   "source": [
    "## 训练"
   ]
  },
  {
   "cell_type": "code",
   "execution_count": 43,
   "id": "dd55c4b0-77e2-46aa-8fab-214590843d8c",
   "metadata": {},
   "outputs": [],
   "source": [
    "dtrain = xgb.DMatrix(x_train, y_train, weight=weight)"
   ]
  },
  {
   "cell_type": "code",
   "execution_count": 44,
   "id": "2906beb6-3968-4d67-aed4-64708d5a2031",
   "metadata": {},
   "outputs": [
    {
     "name": "stdout",
     "output_type": "stream",
     "text": [
      "running time: 0.748\n"
     ]
    }
   ],
   "source": [
    "ts = time.time()\n",
    "params = {'eta': 0.3,\n",
    "          'objective': 'reg:squarederror',\n",
    "          'gamma': 0,\n",
    "          'max_depth': 3,\n",
    "          'subsample': 0.8,\n",
    "          'colsample_bytree': 1,\n",
    "#           'min_child_weight': 15,\n",
    "          'n_jobs': 8}\n",
    "model = xgb.train(params, dtrain, 1500)\n",
    "print('running time: {:.3f}'.format(time.time() - ts))"
   ]
  },
  {
   "cell_type": "code",
   "execution_count": 50,
   "id": "c63efd39-4013-4281-ae23-8ff87ab8d256",
   "metadata": {
    "collapsed": true,
    "jupyter": {
     "outputs_hidden": true
    },
    "tags": []
   },
   "outputs": [
    {
     "data": {
      "image/svg+xml": [
       "<?xml version=\"1.0\" encoding=\"UTF-8\" standalone=\"no\"?>\r\n",
       "<!DOCTYPE svg PUBLIC \"-//W3C//DTD SVG 1.1//EN\"\r\n",
       " \"http://www.w3.org/Graphics/SVG/1.1/DTD/svg11.dtd\">\r\n",
       "<!-- Generated by graphviz version 2.49.0 (20210828.1703)\r\n",
       " -->\r\n",
       "<!-- Pages: 1 -->\r\n",
       "<svg width=\"1265pt\" height=\"305pt\"\r\n",
       " viewBox=\"0.00 0.00 1265.29 305.00\" xmlns=\"http://www.w3.org/2000/svg\" xmlns:xlink=\"http://www.w3.org/1999/xlink\">\r\n",
       "<g id=\"graph0\" class=\"graph\" transform=\"scale(1 1) rotate(0) translate(4 301)\">\r\n",
       "<polygon fill=\"white\" stroke=\"transparent\" points=\"-4,4 -4,-301 1261.29,-301 1261.29,4 -4,4\"/>\r\n",
       "<!-- 0 -->\r\n",
       "<g id=\"node1\" class=\"node\">\r\n",
       "<title>0</title>\r\n",
       "<ellipse fill=\"none\" stroke=\"black\" cx=\"669.84\" cy=\"-279\" rx=\"38.99\" ry=\"18\"/>\r\n",
       "<text text-anchor=\"middle\" x=\"669.84\" y=\"-275.3\" font-family=\"Times New Roman,serif\" font-size=\"14.00\">f14&lt;0.5</text>\r\n",
       "</g>\r\n",
       "<!-- 1 -->\r\n",
       "<g id=\"node2\" class=\"node\">\r\n",
       "<title>1</title>\r\n",
       "<ellipse fill=\"none\" stroke=\"black\" cx=\"493.84\" cy=\"-192\" rx=\"34.39\" ry=\"18\"/>\r\n",
       "<text text-anchor=\"middle\" x=\"493.84\" y=\"-188.3\" font-family=\"Times New Roman,serif\" font-size=\"14.00\">f7&lt;0.5</text>\r\n",
       "</g>\r\n",
       "<!-- 0&#45;&gt;1 -->\r\n",
       "<g id=\"edge1\" class=\"edge\">\r\n",
       "<title>0&#45;&gt;1</title>\r\n",
       "<path fill=\"none\" stroke=\"cyan\" d=\"M643.87,-265.46C612.93,-250.52 561.18,-225.52 527.27,-209.15\"/>\r\n",
       "<polygon fill=\"cyan\" stroke=\"cyan\" points=\"528.74,-205.97 518.22,-204.77 525.7,-212.27 528.74,-205.97\"/>\r\n",
       "<text text-anchor=\"middle\" x=\"627.34\" y=\"-231.8\" font-family=\"Times New Roman,serif\" font-size=\"14.00\">yes, missing</text>\r\n",
       "</g>\r\n",
       "<!-- 2 -->\r\n",
       "<g id=\"node3\" class=\"node\">\r\n",
       "<title>2</title>\r\n",
       "<ellipse fill=\"none\" stroke=\"black\" cx=\"766.84\" cy=\"-192\" rx=\"38.99\" ry=\"18\"/>\r\n",
       "<text text-anchor=\"middle\" x=\"766.84\" y=\"-188.3\" font-family=\"Times New Roman,serif\" font-size=\"14.00\">f37&lt;0.5</text>\r\n",
       "</g>\r\n",
       "<!-- 0&#45;&gt;2 -->\r\n",
       "<g id=\"edge2\" class=\"edge\">\r\n",
       "<title>0&#45;&gt;2</title>\r\n",
       "<path fill=\"none\" stroke=\"#ff0000\" d=\"M687.19,-262.8C702.26,-249.59 724.31,-230.27 741.39,-215.3\"/>\r\n",
       "<polygon fill=\"#ff0000\" stroke=\"#ff0000\" points=\"744.11,-217.57 749.33,-208.35 739.5,-212.31 744.11,-217.57\"/>\r\n",
       "<text text-anchor=\"middle\" x=\"732.34\" y=\"-231.8\" font-family=\"Times New Roman,serif\" font-size=\"14.00\">no</text>\r\n",
       "</g>\r\n",
       "<!-- 3 -->\r\n",
       "<g id=\"node4\" class=\"node\">\r\n",
       "<title>3</title>\r\n",
       "<ellipse fill=\"none\" stroke=\"black\" cx=\"230.84\" cy=\"-105\" rx=\"34.39\" ry=\"18\"/>\r\n",
       "<text text-anchor=\"middle\" x=\"230.84\" y=\"-101.3\" font-family=\"Times New Roman,serif\" font-size=\"14.00\">f6&lt;0.5</text>\r\n",
       "</g>\r\n",
       "<!-- 1&#45;&gt;3 -->\r\n",
       "<g id=\"edge3\" class=\"edge\">\r\n",
       "<title>1&#45;&gt;3</title>\r\n",
       "<path fill=\"none\" stroke=\"cyan\" d=\"M465.2,-181.74C417.67,-166.38 322.49,-135.62 269.21,-118.4\"/>\r\n",
       "<polygon fill=\"cyan\" stroke=\"cyan\" points=\"270.05,-114.99 259.45,-115.25 267.89,-121.65 270.05,-114.99\"/>\r\n",
       "<text text-anchor=\"middle\" x=\"413.34\" y=\"-144.8\" font-family=\"Times New Roman,serif\" font-size=\"14.00\">yes, missing</text>\r\n",
       "</g>\r\n",
       "<!-- 4 -->\r\n",
       "<g id=\"node5\" class=\"node\">\r\n",
       "<title>4</title>\r\n",
       "<ellipse fill=\"none\" stroke=\"black\" cx=\"493.84\" cy=\"-105\" rx=\"38.99\" ry=\"18\"/>\r\n",
       "<text text-anchor=\"middle\" x=\"493.84\" y=\"-101.3\" font-family=\"Times New Roman,serif\" font-size=\"14.00\">f17&lt;0.5</text>\r\n",
       "</g>\r\n",
       "<!-- 1&#45;&gt;4 -->\r\n",
       "<g id=\"edge4\" class=\"edge\">\r\n",
       "<title>1&#45;&gt;4</title>\r\n",
       "<path fill=\"none\" stroke=\"#ff0000\" d=\"M493.84,-173.8C493.84,-162.16 493.84,-146.55 493.84,-133.24\"/>\r\n",
       "<polygon fill=\"#ff0000\" stroke=\"#ff0000\" points=\"497.34,-133.18 493.84,-123.18 490.34,-133.18 497.34,-133.18\"/>\r\n",
       "<text text-anchor=\"middle\" x=\"501.34\" y=\"-144.8\" font-family=\"Times New Roman,serif\" font-size=\"14.00\">no</text>\r\n",
       "</g>\r\n",
       "<!-- 5 -->\r\n",
       "<g id=\"node10\" class=\"node\">\r\n",
       "<title>5</title>\r\n",
       "<ellipse fill=\"none\" stroke=\"black\" cx=\"766.84\" cy=\"-105\" rx=\"38.99\" ry=\"18\"/>\r\n",
       "<text text-anchor=\"middle\" x=\"766.84\" y=\"-101.3\" font-family=\"Times New Roman,serif\" font-size=\"14.00\">f18&lt;0.5</text>\r\n",
       "</g>\r\n",
       "<!-- 2&#45;&gt;5 -->\r\n",
       "<g id=\"edge9\" class=\"edge\">\r\n",
       "<title>2&#45;&gt;5</title>\r\n",
       "<path fill=\"none\" stroke=\"cyan\" d=\"M766.84,-173.8C766.84,-162.16 766.84,-146.55 766.84,-133.24\"/>\r\n",
       "<polygon fill=\"cyan\" stroke=\"cyan\" points=\"770.34,-133.18 766.84,-123.18 763.34,-133.18 770.34,-133.18\"/>\r\n",
       "<text text-anchor=\"middle\" x=\"801.34\" y=\"-144.8\" font-family=\"Times New Roman,serif\" font-size=\"14.00\">yes, missing</text>\r\n",
       "</g>\r\n",
       "<!-- 6 -->\r\n",
       "<g id=\"node11\" class=\"node\">\r\n",
       "<title>6</title>\r\n",
       "<ellipse fill=\"none\" stroke=\"black\" cx=\"1025.84\" cy=\"-105\" rx=\"34.39\" ry=\"18\"/>\r\n",
       "<text text-anchor=\"middle\" x=\"1025.84\" y=\"-101.3\" font-family=\"Times New Roman,serif\" font-size=\"14.00\">f0&lt;0.5</text>\r\n",
       "</g>\r\n",
       "<!-- 2&#45;&gt;6 -->\r\n",
       "<g id=\"edge10\" class=\"edge\">\r\n",
       "<title>2&#45;&gt;6</title>\r\n",
       "<path fill=\"none\" stroke=\"#ff0000\" d=\"M797.57,-180.92C845.06,-165.33 936.16,-135.43 987.76,-118.5\"/>\r\n",
       "<polygon fill=\"#ff0000\" stroke=\"#ff0000\" points=\"989.12,-121.74 997.53,-115.29 986.94,-115.09 989.12,-121.74\"/>\r\n",
       "<text text-anchor=\"middle\" x=\"920.34\" y=\"-144.8\" font-family=\"Times New Roman,serif\" font-size=\"14.00\">no</text>\r\n",
       "</g>\r\n",
       "<!-- 7 -->\r\n",
       "<g id=\"node6\" class=\"node\">\r\n",
       "<title>7</title>\r\n",
       "<ellipse fill=\"none\" stroke=\"black\" cx=\"70.84\" cy=\"-18\" rx=\"70.69\" ry=\"18\"/>\r\n",
       "<text text-anchor=\"middle\" x=\"70.84\" y=\"-14.3\" font-family=\"Times New Roman,serif\" font-size=\"14.00\">leaf=35.2458572</text>\r\n",
       "</g>\r\n",
       "<!-- 3&#45;&gt;7 -->\r\n",
       "<g id=\"edge5\" class=\"edge\">\r\n",
       "<title>3&#45;&gt;7</title>\r\n",
       "<path fill=\"none\" stroke=\"cyan\" d=\"M205.61,-92.47C191.45,-85.85 173.52,-77.25 157.84,-69 140.57,-59.91 121.76,-49.21 106.06,-40.04\"/>\r\n",
       "<polygon fill=\"cyan\" stroke=\"cyan\" points=\"107.61,-36.88 97.21,-34.84 104.06,-42.92 107.61,-36.88\"/>\r\n",
       "<text text-anchor=\"middle\" x=\"192.34\" y=\"-57.8\" font-family=\"Times New Roman,serif\" font-size=\"14.00\">yes, missing</text>\r\n",
       "</g>\r\n",
       "<!-- 8 -->\r\n",
       "<g id=\"node7\" class=\"node\">\r\n",
       "<title>8</title>\r\n",
       "<ellipse fill=\"none\" stroke=\"black\" cx=\"230.84\" cy=\"-18\" rx=\"70.69\" ry=\"18\"/>\r\n",
       "<text text-anchor=\"middle\" x=\"230.84\" y=\"-14.3\" font-family=\"Times New Roman,serif\" font-size=\"14.00\">leaf=25.9012928</text>\r\n",
       "</g>\r\n",
       "<!-- 3&#45;&gt;8 -->\r\n",
       "<g id=\"edge6\" class=\"edge\">\r\n",
       "<title>3&#45;&gt;8</title>\r\n",
       "<path fill=\"none\" stroke=\"#ff0000\" d=\"M230.84,-86.8C230.84,-75.16 230.84,-59.55 230.84,-46.24\"/>\r\n",
       "<polygon fill=\"#ff0000\" stroke=\"#ff0000\" points=\"234.34,-46.18 230.84,-36.18 227.34,-46.18 234.34,-46.18\"/>\r\n",
       "<text text-anchor=\"middle\" x=\"238.34\" y=\"-57.8\" font-family=\"Times New Roman,serif\" font-size=\"14.00\">no</text>\r\n",
       "</g>\r\n",
       "<!-- 9 -->\r\n",
       "<g id=\"node8\" class=\"node\">\r\n",
       "<title>9</title>\r\n",
       "<ellipse fill=\"none\" stroke=\"black\" cx=\"390.84\" cy=\"-18\" rx=\"70.69\" ry=\"18\"/>\r\n",
       "<text text-anchor=\"middle\" x=\"390.84\" y=\"-14.3\" font-family=\"Times New Roman,serif\" font-size=\"14.00\">leaf=23.0938492</text>\r\n",
       "</g>\r\n",
       "<!-- 4&#45;&gt;9 -->\r\n",
       "<g id=\"edge7\" class=\"edge\">\r\n",
       "<title>4&#45;&gt;9</title>\r\n",
       "<path fill=\"none\" stroke=\"cyan\" d=\"M473.42,-89.4C465.05,-83.26 455.36,-75.95 446.84,-69 436.59,-60.63 425.66,-51.03 416.2,-42.5\"/>\r\n",
       "<polygon fill=\"cyan\" stroke=\"cyan\" points=\"418.4,-39.77 408.65,-35.63 413.69,-44.95 418.4,-39.77\"/>\r\n",
       "<text text-anchor=\"middle\" x=\"481.34\" y=\"-57.8\" font-family=\"Times New Roman,serif\" font-size=\"14.00\">yes, missing</text>\r\n",
       "</g>\r\n",
       "<!-- 10 -->\r\n",
       "<g id=\"node9\" class=\"node\">\r\n",
       "<title>10</title>\r\n",
       "<ellipse fill=\"none\" stroke=\"black\" cx=\"550.84\" cy=\"-18\" rx=\"70.69\" ry=\"18\"/>\r\n",
       "<text text-anchor=\"middle\" x=\"550.84\" y=\"-14.3\" font-family=\"Times New Roman,serif\" font-size=\"14.00\">leaf=45.3891068</text>\r\n",
       "</g>\r\n",
       "<!-- 4&#45;&gt;10 -->\r\n",
       "<g id=\"edge8\" class=\"edge\">\r\n",
       "<title>4&#45;&gt;10</title>\r\n",
       "<path fill=\"none\" stroke=\"#ff0000\" d=\"M504.83,-87.61C513.01,-75.42 524.32,-58.56 533.68,-44.6\"/>\r\n",
       "<polygon fill=\"#ff0000\" stroke=\"#ff0000\" points=\"536.83,-46.18 539.5,-35.92 531.02,-42.28 536.83,-46.18\"/>\r\n",
       "<text text-anchor=\"middle\" x=\"533.34\" y=\"-57.8\" font-family=\"Times New Roman,serif\" font-size=\"14.00\">no</text>\r\n",
       "</g>\r\n",
       "<!-- 11 -->\r\n",
       "<g id=\"node12\" class=\"node\">\r\n",
       "<title>11</title>\r\n",
       "<ellipse fill=\"none\" stroke=\"black\" cx=\"710.84\" cy=\"-18\" rx=\"70.69\" ry=\"18\"/>\r\n",
       "<text text-anchor=\"middle\" x=\"710.84\" y=\"-14.3\" font-family=\"Times New Roman,serif\" font-size=\"14.00\">leaf=78.0261612</text>\r\n",
       "</g>\r\n",
       "<!-- 5&#45;&gt;11 -->\r\n",
       "<g id=\"edge11\" class=\"edge\">\r\n",
       "<title>5&#45;&gt;11</title>\r\n",
       "<path fill=\"none\" stroke=\"cyan\" d=\"M756.05,-87.61C748.02,-75.42 736.9,-58.56 727.71,-44.6\"/>\r\n",
       "<polygon fill=\"cyan\" stroke=\"cyan\" points=\"730.42,-42.35 721.99,-35.92 724.57,-46.2 730.42,-42.35\"/>\r\n",
       "<text text-anchor=\"middle\" x=\"777.34\" y=\"-57.8\" font-family=\"Times New Roman,serif\" font-size=\"14.00\">yes, missing</text>\r\n",
       "</g>\r\n",
       "<!-- 12 -->\r\n",
       "<g id=\"node13\" class=\"node\">\r\n",
       "<title>12</title>\r\n",
       "<ellipse fill=\"none\" stroke=\"black\" cx=\"870.84\" cy=\"-18\" rx=\"70.69\" ry=\"18\"/>\r\n",
       "<text text-anchor=\"middle\" x=\"870.84\" y=\"-14.3\" font-family=\"Times New Roman,serif\" font-size=\"14.00\">leaf=145.071991</text>\r\n",
       "</g>\r\n",
       "<!-- 5&#45;&gt;12 -->\r\n",
       "<g id=\"edge12\" class=\"edge\">\r\n",
       "<title>5&#45;&gt;12</title>\r\n",
       "<path fill=\"none\" stroke=\"#ff0000\" d=\"M788.23,-89.54C796.96,-83.43 807.06,-76.09 815.84,-69 826.04,-60.77 836.81,-51.2 846.08,-42.65\"/>\r\n",
       "<polygon fill=\"#ff0000\" stroke=\"#ff0000\" points=\"848.55,-45.14 853.48,-35.76 843.77,-40.01 848.55,-45.14\"/>\r\n",
       "<text text-anchor=\"middle\" x=\"841.34\" y=\"-57.8\" font-family=\"Times New Roman,serif\" font-size=\"14.00\">no</text>\r\n",
       "</g>\r\n",
       "<!-- 13 -->\r\n",
       "<g id=\"node14\" class=\"node\">\r\n",
       "<title>13</title>\r\n",
       "<ellipse fill=\"none\" stroke=\"black\" cx=\"1025.84\" cy=\"-18\" rx=\"66.09\" ry=\"18\"/>\r\n",
       "<text text-anchor=\"middle\" x=\"1025.84\" y=\"-14.3\" font-family=\"Times New Roman,serif\" font-size=\"14.00\">leaf=11.664732</text>\r\n",
       "</g>\r\n",
       "<!-- 6&#45;&gt;13 -->\r\n",
       "<g id=\"edge13\" class=\"edge\">\r\n",
       "<title>6&#45;&gt;13</title>\r\n",
       "<path fill=\"none\" stroke=\"cyan\" d=\"M1025.84,-86.8C1025.84,-75.16 1025.84,-59.55 1025.84,-46.24\"/>\r\n",
       "<polygon fill=\"cyan\" stroke=\"cyan\" points=\"1029.34,-46.18 1025.84,-36.18 1022.34,-46.18 1029.34,-46.18\"/>\r\n",
       "<text text-anchor=\"middle\" x=\"1060.34\" y=\"-57.8\" font-family=\"Times New Roman,serif\" font-size=\"14.00\">yes, missing</text>\r\n",
       "</g>\r\n",
       "<!-- 14 -->\r\n",
       "<g id=\"node15\" class=\"node\">\r\n",
       "<title>14</title>\r\n",
       "<ellipse fill=\"none\" stroke=\"black\" cx=\"1183.84\" cy=\"-18\" rx=\"73.39\" ry=\"18\"/>\r\n",
       "<text text-anchor=\"middle\" x=\"1183.84\" y=\"-14.3\" font-family=\"Times New Roman,serif\" font-size=\"14.00\">leaf=&#45;2.29580307</text>\r\n",
       "</g>\r\n",
       "<!-- 6&#45;&gt;14 -->\r\n",
       "<g id=\"edge14\" class=\"edge\">\r\n",
       "<title>6&#45;&gt;14</title>\r\n",
       "<path fill=\"none\" stroke=\"#ff0000\" d=\"M1051.11,-92.53C1065.28,-85.93 1083.21,-77.33 1098.84,-69 1115.77,-59.98 1134.16,-49.29 1149.49,-40.1\"/>\r\n",
       "<polygon fill=\"#ff0000\" stroke=\"#ff0000\" points=\"1151.37,-43.06 1158.13,-34.9 1147.75,-37.06 1151.37,-43.06\"/>\r\n",
       "<text text-anchor=\"middle\" x=\"1132.34\" y=\"-57.8\" font-family=\"Times New Roman,serif\" font-size=\"14.00\">no</text>\r\n",
       "</g>\r\n",
       "</g>\r\n",
       "</svg>\r\n"
      ],
      "text/plain": [
       "<graphviz.files.Source at 0x1eeaf083898>"
      ]
     },
     "execution_count": 50,
     "metadata": {},
     "output_type": "execute_result"
    }
   ],
   "source": [
    "xgb.to_graphviz(model, num_trees=1, yes_color='cyan')"
   ]
  },
  {
   "cell_type": "code",
   "execution_count": 51,
   "id": "b30014a4-3159-45ed-abdb-2d10a14ea8c9",
   "metadata": {},
   "outputs": [],
   "source": [
    "result_cv = xgb.cv(params, dtrain, num_boost_round=1500)"
   ]
  },
  {
   "cell_type": "code",
   "execution_count": 52,
   "id": "166f3c1d-aa48-4da9-a15a-de6b69d28298",
   "metadata": {},
   "outputs": [
    {
     "data": {
      "text/plain": [
       "<matplotlib.legend.Legend at 0x1eeaf0654e0>"
      ]
     },
     "execution_count": 52,
     "metadata": {},
     "output_type": "execute_result"
    },
    {
     "data": {
      "image/png": "[encoded data removed]",
      "text/plain": [
       "<Figure size 432x288 with 1 Axes>"
      ]
     },
     "metadata": {
      "needs_background": "light"
     },
     "output_type": "display_data"
    }
   ],
   "source": [
    "plt.plot(result_cv.iloc[:, 0], label='train')\n",
    "plt.plot(result_cv.iloc[:, 2], label='valid')\n",
    "plt.legend()"
   ]
  },
  {
   "cell_type": "markdown",
   "id": "2f5a47d3-c613-4ce5-b06e-9e109fc2e576",
   "metadata": {},
   "source": [
    "## 评判标准"
   ]
  },
  {
   "cell_type": "markdown",
   "id": "bf1be26c-e59f-4f45-97f6-2339e8e25d30",
   "metadata": {},
   "source": [
    "- 分开\n",
    "- 添加特征，weekday\n",
    "- 赋予权重"
   ]
  },
  {
   "cell_type": "code",
   "execution_count": 53,
   "id": "ee276bf0-170a-4bb9-97a4-fd7ac9876741",
   "metadata": {},
   "outputs": [],
   "source": [
    "def metrics1(y_true, y_pred):\n",
    "    return 1 - (abs(y_true.sum() - y_pred.sum()) / y_true.sum())\n",
    "\n",
    "def metrics2(y_true, y_pred):\n",
    "    return 1 - (abs(y_true - y_pred) / y_true).mean()"
   ]
  },
  {
   "cell_type": "markdown",
   "id": "49a56c4a-088f-4fbf-8c99-7e236b54fb7c",
   "metadata": {},
   "source": [
    "## 测试4：B07QHSZGXC, 炸锅配件"
   ]
  },
  {
   "cell_type": "code",
   "execution_count": 55,
   "id": "a6ff4887-cdb4-4946-ad9a-4f8bdd15fe10",
   "metadata": {},
   "outputs": [],
   "source": [
    "test4 = create_feature(test)"
   ]
  },
  {
   "cell_type": "code",
   "execution_count": 56,
   "id": "d7e51d24-54be-470d-a8e3-70e9e7de9f66",
   "metadata": {},
   "outputs": [],
   "source": [
    "x_test_4 = test4.drop('ordered_units', axis=1)\n",
    "y_test_4 = test4['ordered_units']"
   ]
  },
  {
   "cell_type": "code",
   "execution_count": 57,
   "id": "12fa444e-da95-4158-b126-ba8e36746efb",
   "metadata": {
    "tags": []
   },
   "outputs": [],
   "source": [
    "x_test_4 = encoder.transform(x_test_4)\n",
    "dtest = xgb.DMatrix(x_test_4, y_test_4)\n",
    "y_pred_4 = model.predict(dtest)"
   ]
  },
  {
   "cell_type": "code",
   "execution_count": 59,
   "id": "5a062489-12c6-42f6-bae3-06d8e4ac61cc",
   "metadata": {},
   "outputs": [
    {
     "data": {
      "text/plain": [
       "(0.7627657454534872, 0.6929184567440583)"
      ]
     },
     "execution_count": 59,
     "metadata": {},
     "output_type": "execute_result"
    }
   ],
   "source": [
    "metrics1(y_test_4, y_pred_4), metrics2(y_test_4, y_pred_4)"
   ]
  },
  {
   "cell_type": "code",
   "execution_count": 60,
   "id": "8d64e389-ffae-4baa-94ed-6687a8a652c8",
   "metadata": {},
   "outputs": [
    {
     "data": {
      "text/plain": [
       "<matplotlib.legend.Legend at 0x1eeb1152c18>"
      ]
     },
     "execution_count": 60,
     "metadata": {},
     "output_type": "execute_result"
    },
    {
     "data": {
      "image/png": "[encoded data removed]",
      "text/plain": [
       "<Figure size 720x360 with 1 Axes>"
      ]
     },
     "metadata": {
      "needs_background": "light"
     },
     "output_type": "display_data"
    }
   ],
   "source": [
    "plt.figure(figsize=(10,5))\n",
    "plt.plot(y_test_4.values, label='true')\n",
    "plt.plot(y_pred_4, label='predict')\n",
    "plt.xticks(rotation=90)\n",
    "plt.grid()\n",
    "plt.legend()"
   ]
  },
  {
   "cell_type": "code",
   "execution_count": 76,
   "id": "e0636bb9-17ce-4068-b643-b65107a8d651",
   "metadata": {
    "tags": []
   },
   "outputs": [
    {
     "ename": "AttributeError",
     "evalue": "'XGBClassifier' object has no attribute 'get_score'",
     "output_type": "error",
     "traceback": [
      "\u001b[1;31m---------------------------------------------------------------------------\u001b[0m",
      "\u001b[1;31mAttributeError\u001b[0m                            Traceback (most recent call last)",
      "\u001b[1;32m<ipython-input-76-a9ddaca710ea>\u001b[0m in \u001b[0;36m<module>\u001b[1;34m\u001b[0m\n\u001b[1;32m----> 1\u001b[1;33m \u001b[0mmodel\u001b[0m\u001b[1;33m.\u001b[0m\u001b[0mget_score\u001b[0m\u001b[1;33m(\u001b[0m\u001b[0mimportance_type\u001b[0m\u001b[1;33m=\u001b[0m\u001b[1;34m'gain'\u001b[0m\u001b[1;33m)\u001b[0m\u001b[1;33m\u001b[0m\u001b[0m\n\u001b[0m",
      "\u001b[1;31mAttributeError\u001b[0m: 'XGBClassifier' object has no attribute 'get_score'"
     ]
    }
   ],
   "source": [
    "model.get_score(importance_type='gain')"
   ]
  },
  {
   "cell_type": "code",
   "execution_count": 66,
   "id": "471c6358-fc9a-4fd2-b827-7f87583206e4",
   "metadata": {},
   "outputs": [
    {
     "data": {
      "image/svg+xml": [
       "<?xml version=\"1.0\" encoding=\"UTF-8\" standalone=\"no\"?>\r\n",
       "<!DOCTYPE svg PUBLIC \"-//W3C//DTD SVG 1.1//EN\"\r\n",
       " \"http://www.w3.org/Graphics/SVG/1.1/DTD/svg11.dtd\">\r\n",
       "<!-- Generated by graphviz version 2.49.0 (20210828.1703)\r\n",
       " -->\r\n",
       "<!-- Pages: 1 -->\r\n",
       "<svg width=\"1250pt\" height=\"305pt\"\r\n",
       " viewBox=\"0.00 0.00 1250.14 305.00\" xmlns=\"http://www.w3.org/2000/svg\" xmlns:xlink=\"http://www.w3.org/1999/xlink\">\r\n",
       "<g id=\"graph0\" class=\"graph\" transform=\"scale(1 1) rotate(0) translate(4 301)\">\r\n",
       "<polygon fill=\"white\" stroke=\"transparent\" points=\"-4,4 -4,-301 1246.14,-301 1246.14,4 -4,4\"/>\r\n",
       "<!-- 0 -->\r\n",
       "<g id=\"node1\" class=\"node\">\r\n",
       "<title>0</title>\r\n",
       "<ellipse fill=\"none\" stroke=\"black\" cx=\"561.29\" cy=\"-279\" rx=\"38.99\" ry=\"18\"/>\r\n",
       "<text text-anchor=\"middle\" x=\"561.29\" y=\"-275.3\" font-family=\"Times New Roman,serif\" font-size=\"14.00\">f14&lt;0.5</text>\r\n",
       "</g>\r\n",
       "<!-- 1 -->\r\n",
       "<g id=\"node2\" class=\"node\">\r\n",
       "<title>1</title>\r\n",
       "<ellipse fill=\"none\" stroke=\"black\" cx=\"484.29\" cy=\"-192\" rx=\"38.99\" ry=\"18\"/>\r\n",
       "<text text-anchor=\"middle\" x=\"484.29\" y=\"-188.3\" font-family=\"Times New Roman,serif\" font-size=\"14.00\">f13&lt;0.5</text>\r\n",
       "</g>\r\n",
       "<!-- 0&#45;&gt;1 -->\r\n",
       "<g id=\"edge1\" class=\"edge\">\r\n",
       "<title>0&#45;&gt;1</title>\r\n",
       "<path fill=\"none\" stroke=\"#0000ff\" d=\"M546.81,-262.01C535.2,-249.19 518.72,-231.01 505.6,-216.52\"/>\r\n",
       "<polygon fill=\"#0000ff\" stroke=\"#0000ff\" points=\"508.02,-213.98 498.71,-208.92 502.83,-218.68 508.02,-213.98\"/>\r\n",
       "<text text-anchor=\"middle\" x=\"562.79\" y=\"-231.8\" font-family=\"Times New Roman,serif\" font-size=\"14.00\">yes, missing</text>\r\n",
       "</g>\r\n",
       "<!-- 2 -->\r\n",
       "<g id=\"node3\" class=\"node\">\r\n",
       "<title>2</title>\r\n",
       "<ellipse fill=\"none\" stroke=\"black\" cx=\"752.29\" cy=\"-192\" rx=\"38.99\" ry=\"18\"/>\r\n",
       "<text text-anchor=\"middle\" x=\"752.29\" y=\"-188.3\" font-family=\"Times New Roman,serif\" font-size=\"14.00\">f19&lt;0.5</text>\r\n",
       "</g>\r\n",
       "<!-- 0&#45;&gt;2 -->\r\n",
       "<g id=\"edge2\" class=\"edge\">\r\n",
       "<title>0&#45;&gt;2</title>\r\n",
       "<path fill=\"none\" stroke=\"#ff0000\" d=\"M588.66,-265.82C622.09,-250.95 678.75,-225.73 715.84,-209.22\"/>\r\n",
       "<polygon fill=\"#ff0000\" stroke=\"#ff0000\" points=\"717.57,-212.28 725.29,-205.02 714.73,-205.89 717.57,-212.28\"/>\r\n",
       "<text text-anchor=\"middle\" x=\"675.79\" y=\"-231.8\" font-family=\"Times New Roman,serif\" font-size=\"14.00\">no</text>\r\n",
       "</g>\r\n",
       "<!-- 3 -->\r\n",
       "<g id=\"node4\" class=\"node\">\r\n",
       "<title>3</title>\r\n",
       "<ellipse fill=\"none\" stroke=\"black\" cx=\"221.29\" cy=\"-105\" rx=\"34.39\" ry=\"18\"/>\r\n",
       "<text text-anchor=\"middle\" x=\"221.29\" y=\"-101.3\" font-family=\"Times New Roman,serif\" font-size=\"14.00\">f9&lt;0.5</text>\r\n",
       "</g>\r\n",
       "<!-- 1&#45;&gt;3 -->\r\n",
       "<g id=\"edge3\" class=\"edge\">\r\n",
       "<title>1&#45;&gt;3</title>\r\n",
       "<path fill=\"none\" stroke=\"#0000ff\" d=\"M453.35,-181C405,-165.37 311.68,-135.21 259.31,-118.29\"/>\r\n",
       "<polygon fill=\"#0000ff\" stroke=\"#0000ff\" points=\"260.31,-114.93 249.72,-115.19 258.16,-121.59 260.31,-114.93\"/>\r\n",
       "<text text-anchor=\"middle\" x=\"403.79\" y=\"-144.8\" font-family=\"Times New Roman,serif\" font-size=\"14.00\">yes, missing</text>\r\n",
       "</g>\r\n",
       "<!-- 4 -->\r\n",
       "<g id=\"node5\" class=\"node\">\r\n",
       "<title>4</title>\r\n",
       "<ellipse fill=\"none\" stroke=\"black\" cx=\"484.29\" cy=\"-105\" rx=\"38.99\" ry=\"18\"/>\r\n",
       "<text text-anchor=\"middle\" x=\"484.29\" y=\"-101.3\" font-family=\"Times New Roman,serif\" font-size=\"14.00\">f43&lt;0.5</text>\r\n",
       "</g>\r\n",
       "<!-- 1&#45;&gt;4 -->\r\n",
       "<g id=\"edge4\" class=\"edge\">\r\n",
       "<title>1&#45;&gt;4</title>\r\n",
       "<path fill=\"none\" stroke=\"#ff0000\" d=\"M484.29,-173.8C484.29,-162.16 484.29,-146.55 484.29,-133.24\"/>\r\n",
       "<polygon fill=\"#ff0000\" stroke=\"#ff0000\" points=\"487.79,-133.18 484.29,-123.18 480.79,-133.18 487.79,-133.18\"/>\r\n",
       "<text text-anchor=\"middle\" x=\"491.79\" y=\"-144.8\" font-family=\"Times New Roman,serif\" font-size=\"14.00\">no</text>\r\n",
       "</g>\r\n",
       "<!-- 5 -->\r\n",
       "<g id=\"node10\" class=\"node\">\r\n",
       "<title>5</title>\r\n",
       "<ellipse fill=\"none\" stroke=\"black\" cx=\"752.29\" cy=\"-105\" rx=\"38.99\" ry=\"18\"/>\r\n",
       "<text text-anchor=\"middle\" x=\"752.29\" y=\"-101.3\" font-family=\"Times New Roman,serif\" font-size=\"14.00\">f38&lt;0.5</text>\r\n",
       "</g>\r\n",
       "<!-- 2&#45;&gt;5 -->\r\n",
       "<g id=\"edge9\" class=\"edge\">\r\n",
       "<title>2&#45;&gt;5</title>\r\n",
       "<path fill=\"none\" stroke=\"#0000ff\" d=\"M752.29,-173.8C752.29,-162.16 752.29,-146.55 752.29,-133.24\"/>\r\n",
       "<polygon fill=\"#0000ff\" stroke=\"#0000ff\" points=\"755.79,-133.18 752.29,-123.18 748.79,-133.18 755.79,-133.18\"/>\r\n",
       "<text text-anchor=\"middle\" x=\"786.79\" y=\"-144.8\" font-family=\"Times New Roman,serif\" font-size=\"14.00\">yes, missing</text>\r\n",
       "</g>\r\n",
       "<!-- 6 -->\r\n",
       "<g id=\"node11\" class=\"node\">\r\n",
       "<title>6</title>\r\n",
       "<ellipse fill=\"none\" stroke=\"black\" cx=\"1011.29\" cy=\"-105\" rx=\"34.39\" ry=\"18\"/>\r\n",
       "<text text-anchor=\"middle\" x=\"1011.29\" y=\"-101.3\" font-family=\"Times New Roman,serif\" font-size=\"14.00\">f0&lt;0.5</text>\r\n",
       "</g>\r\n",
       "<!-- 2&#45;&gt;6 -->\r\n",
       "<g id=\"edge10\" class=\"edge\">\r\n",
       "<title>2&#45;&gt;6</title>\r\n",
       "<path fill=\"none\" stroke=\"#ff0000\" d=\"M783.02,-180.92C830.51,-165.33 921.61,-135.43 973.21,-118.5\"/>\r\n",
       "<polygon fill=\"#ff0000\" stroke=\"#ff0000\" points=\"974.57,-121.74 982.98,-115.29 972.39,-115.09 974.57,-121.74\"/>\r\n",
       "<text text-anchor=\"middle\" x=\"905.79\" y=\"-144.8\" font-family=\"Times New Roman,serif\" font-size=\"14.00\">no</text>\r\n",
       "</g>\r\n",
       "<!-- 7 -->\r\n",
       "<g id=\"node6\" class=\"node\">\r\n",
       "<title>7</title>\r\n",
       "<ellipse fill=\"none\" stroke=\"black\" cx=\"66.29\" cy=\"-18\" rx=\"66.09\" ry=\"18\"/>\r\n",
       "<text text-anchor=\"middle\" x=\"66.29\" y=\"-14.3\" font-family=\"Times New Roman,serif\" font-size=\"14.00\">leaf=44.318779</text>\r\n",
       "</g>\r\n",
       "<!-- 3&#45;&gt;7 -->\r\n",
       "<g id=\"edge5\" class=\"edge\">\r\n",
       "<title>3&#45;&gt;7</title>\r\n",
       "<path fill=\"none\" stroke=\"#0000ff\" d=\"M195.98,-92.63C181.79,-86.06 163.86,-77.45 148.29,-69 131.91,-60.11 114.2,-49.45 99.44,-40.26\"/>\r\n",
       "<polygon fill=\"#0000ff\" stroke=\"#0000ff\" points=\"101.01,-37.11 90.68,-34.75 97.28,-43.03 101.01,-37.11\"/>\r\n",
       "<text text-anchor=\"middle\" x=\"182.79\" y=\"-57.8\" font-family=\"Times New Roman,serif\" font-size=\"14.00\">yes, missing</text>\r\n",
       "</g>\r\n",
       "<!-- 8 -->\r\n",
       "<g id=\"node7\" class=\"node\">\r\n",
       "<title>8</title>\r\n",
       "<ellipse fill=\"none\" stroke=\"black\" cx=\"221.29\" cy=\"-18\" rx=\"70.69\" ry=\"18\"/>\r\n",
       "<text text-anchor=\"middle\" x=\"221.29\" y=\"-14.3\" font-family=\"Times New Roman,serif\" font-size=\"14.00\">leaf=56.6718597</text>\r\n",
       "</g>\r\n",
       "<!-- 3&#45;&gt;8 -->\r\n",
       "<g id=\"edge6\" class=\"edge\">\r\n",
       "<title>3&#45;&gt;8</title>\r\n",
       "<path fill=\"none\" stroke=\"#ff0000\" d=\"M221.29,-86.8C221.29,-75.16 221.29,-59.55 221.29,-46.24\"/>\r\n",
       "<polygon fill=\"#ff0000\" stroke=\"#ff0000\" points=\"224.79,-46.18 221.29,-36.18 217.79,-46.18 224.79,-46.18\"/>\r\n",
       "<text text-anchor=\"middle\" x=\"228.79\" y=\"-57.8\" font-family=\"Times New Roman,serif\" font-size=\"14.00\">no</text>\r\n",
       "</g>\r\n",
       "<!-- 9 -->\r\n",
       "<g id=\"node8\" class=\"node\">\r\n",
       "<title>9</title>\r\n",
       "<ellipse fill=\"none\" stroke=\"black\" cx=\"381.29\" cy=\"-18\" rx=\"70.69\" ry=\"18\"/>\r\n",
       "<text text-anchor=\"middle\" x=\"381.29\" y=\"-14.3\" font-family=\"Times New Roman,serif\" font-size=\"14.00\">leaf=58.0692291</text>\r\n",
       "</g>\r\n",
       "<!-- 4&#45;&gt;9 -->\r\n",
       "<g id=\"edge7\" class=\"edge\">\r\n",
       "<title>4&#45;&gt;9</title>\r\n",
       "<path fill=\"none\" stroke=\"#0000ff\" d=\"M463.87,-89.4C455.5,-83.26 445.81,-75.95 437.29,-69 427.04,-60.63 416.11,-51.03 406.65,-42.5\"/>\r\n",
       "<polygon fill=\"#0000ff\" stroke=\"#0000ff\" points=\"408.85,-39.77 399.1,-35.63 404.14,-44.95 408.85,-39.77\"/>\r\n",
       "<text text-anchor=\"middle\" x=\"471.79\" y=\"-57.8\" font-family=\"Times New Roman,serif\" font-size=\"14.00\">yes, missing</text>\r\n",
       "</g>\r\n",
       "<!-- 10 -->\r\n",
       "<g id=\"node9\" class=\"node\">\r\n",
       "<title>10</title>\r\n",
       "<ellipse fill=\"none\" stroke=\"black\" cx=\"541.29\" cy=\"-18\" rx=\"70.69\" ry=\"18\"/>\r\n",
       "<text text-anchor=\"middle\" x=\"541.29\" y=\"-14.3\" font-family=\"Times New Roman,serif\" font-size=\"14.00\">leaf=183.843552</text>\r\n",
       "</g>\r\n",
       "<!-- 4&#45;&gt;10 -->\r\n",
       "<g id=\"edge8\" class=\"edge\">\r\n",
       "<title>4&#45;&gt;10</title>\r\n",
       "<path fill=\"none\" stroke=\"#ff0000\" d=\"M495.28,-87.61C503.46,-75.42 514.77,-58.56 524.13,-44.6\"/>\r\n",
       "<polygon fill=\"#ff0000\" stroke=\"#ff0000\" points=\"527.28,-46.18 529.95,-35.92 521.47,-42.28 527.28,-46.18\"/>\r\n",
       "<text text-anchor=\"middle\" x=\"523.79\" y=\"-57.8\" font-family=\"Times New Roman,serif\" font-size=\"14.00\">no</text>\r\n",
       "</g>\r\n",
       "<!-- 11 -->\r\n",
       "<g id=\"node12\" class=\"node\">\r\n",
       "<title>11</title>\r\n",
       "<ellipse fill=\"none\" stroke=\"black\" cx=\"696.29\" cy=\"-18\" rx=\"66.09\" ry=\"18\"/>\r\n",
       "<text text-anchor=\"middle\" x=\"696.29\" y=\"-14.3\" font-family=\"Times New Roman,serif\" font-size=\"14.00\">leaf=113.51709</text>\r\n",
       "</g>\r\n",
       "<!-- 5&#45;&gt;11 -->\r\n",
       "<g id=\"edge11\" class=\"edge\">\r\n",
       "<title>5&#45;&gt;11</title>\r\n",
       "<path fill=\"none\" stroke=\"#0000ff\" d=\"M741.5,-87.61C733.47,-75.42 722.35,-58.56 713.16,-44.6\"/>\r\n",
       "<polygon fill=\"#0000ff\" stroke=\"#0000ff\" points=\"715.87,-42.35 707.44,-35.92 710.02,-46.2 715.87,-42.35\"/>\r\n",
       "<text text-anchor=\"middle\" x=\"762.79\" y=\"-57.8\" font-family=\"Times New Roman,serif\" font-size=\"14.00\">yes, missing</text>\r\n",
       "</g>\r\n",
       "<!-- 12 -->\r\n",
       "<g id=\"node13\" class=\"node\">\r\n",
       "<title>12</title>\r\n",
       "<ellipse fill=\"none\" stroke=\"black\" cx=\"851.29\" cy=\"-18\" rx=\"70.69\" ry=\"18\"/>\r\n",
       "<text text-anchor=\"middle\" x=\"851.29\" y=\"-14.3\" font-family=\"Times New Roman,serif\" font-size=\"14.00\">leaf=32.7642365</text>\r\n",
       "</g>\r\n",
       "<!-- 5&#45;&gt;12 -->\r\n",
       "<g id=\"edge12\" class=\"edge\">\r\n",
       "<title>5&#45;&gt;12</title>\r\n",
       "<path fill=\"none\" stroke=\"#ff0000\" d=\"M773.85,-89.75C782.61,-83.67 792.68,-76.3 801.29,-69 810.62,-61.1 820.25,-51.79 828.54,-43.35\"/>\r\n",
       "<polygon fill=\"#ff0000\" stroke=\"#ff0000\" points=\"831.29,-45.54 835.73,-35.92 826.26,-40.67 831.29,-45.54\"/>\r\n",
       "<text text-anchor=\"middle\" x=\"824.79\" y=\"-57.8\" font-family=\"Times New Roman,serif\" font-size=\"14.00\">no</text>\r\n",
       "</g>\r\n",
       "<!-- 13 -->\r\n",
       "<g id=\"node14\" class=\"node\">\r\n",
       "<title>13</title>\r\n",
       "<ellipse fill=\"none\" stroke=\"black\" cx=\"1011.29\" cy=\"-18\" rx=\"70.69\" ry=\"18\"/>\r\n",
       "<text text-anchor=\"middle\" x=\"1011.29\" y=\"-14.3\" font-family=\"Times New Roman,serif\" font-size=\"14.00\">leaf=215.565811</text>\r\n",
       "</g>\r\n",
       "<!-- 6&#45;&gt;13 -->\r\n",
       "<g id=\"edge13\" class=\"edge\">\r\n",
       "<title>6&#45;&gt;13</title>\r\n",
       "<path fill=\"none\" stroke=\"#0000ff\" d=\"M1011.29,-86.8C1011.29,-75.16 1011.29,-59.55 1011.29,-46.24\"/>\r\n",
       "<polygon fill=\"#0000ff\" stroke=\"#0000ff\" points=\"1014.79,-46.18 1011.29,-36.18 1007.79,-46.18 1014.79,-46.18\"/>\r\n",
       "<text text-anchor=\"middle\" x=\"1045.79\" y=\"-57.8\" font-family=\"Times New Roman,serif\" font-size=\"14.00\">yes, missing</text>\r\n",
       "</g>\r\n",
       "<!-- 14 -->\r\n",
       "<g id=\"node15\" class=\"node\">\r\n",
       "<title>14</title>\r\n",
       "<ellipse fill=\"none\" stroke=\"black\" cx=\"1171.29\" cy=\"-18\" rx=\"70.69\" ry=\"18\"/>\r\n",
       "<text text-anchor=\"middle\" x=\"1171.29\" y=\"-14.3\" font-family=\"Times New Roman,serif\" font-size=\"14.00\">leaf=47.3625031</text>\r\n",
       "</g>\r\n",
       "<!-- 6&#45;&gt;14 -->\r\n",
       "<g id=\"edge14\" class=\"edge\">\r\n",
       "<title>6&#45;&gt;14</title>\r\n",
       "<path fill=\"none\" stroke=\"#ff0000\" d=\"M1036.53,-92.47C1050.69,-85.85 1068.62,-77.25 1084.29,-69 1101.56,-59.91 1120.38,-49.21 1136.08,-40.04\"/>\r\n",
       "<polygon fill=\"#ff0000\" stroke=\"#ff0000\" points=\"1138.08,-42.92 1144.93,-34.84 1134.53,-36.88 1138.08,-42.92\"/>\r\n",
       "<text text-anchor=\"middle\" x=\"1117.79\" y=\"-57.8\" font-family=\"Times New Roman,serif\" font-size=\"14.00\">no</text>\r\n",
       "</g>\r\n",
       "</g>\r\n",
       "</svg>\r\n"
      ],
      "text/plain": [
       "<graphviz.files.Source at 0x1eeb1be25c0>"
      ]
     },
     "execution_count": 66,
     "metadata": {},
     "output_type": "execute_result"
    }
   ],
   "source": [
    "xgb.to_graphviz(model, num_trees=0)"
   ]
  },
  {
   "cell_type": "code",
   "execution_count": 71,
   "id": "3d66f43c-243d-4c29-8e55-8679fd60e0d1",
   "metadata": {},
   "outputs": [
    {
     "name": "stdout",
     "output_type": "stream",
     "text": [
      "[10:31:43] WARNING: C:/Users/Administrator/workspace/xgboost-win64_release_1.4.0/src/learner.cc:1095: Starting in XGBoost 1.3.0, the default evaluation metric used with the objective 'multi:softprob' was changed from 'merror' to 'mlogloss'. Explicitly set eval_metric if you'd like to restore the old behavior.\n"
     ]
    },
    {
     "data": {
      "text/plain": [
       "array([0.00959796, 0.01645038, 0.67658573, 0.29736587], dtype=float32)"
      ]
     },
     "execution_count": 71,
     "metadata": {},
     "output_type": "execute_result"
    },
    {
     "data": {
      "image/png": "[encoded data removed]",
      "text/plain": [
       "<Figure size 432x288 with 1 Axes>"
      ]
     },
     "metadata": {
      "needs_background": "light"
     },
     "output_type": "display_data"
    }
   ],
   "source": [
    "import xgboost\n",
    "from xgboost import XGBClassifier\n",
    "from sklearn.datasets import load_iris\n",
    "\n",
    "iris = load_iris()\n",
    "x, y = iris.data, iris.target\n",
    "model = XGBClassifier()\n",
    "model.fit(x, y)\n",
    "# 如果输入是没有表头的array,会自动以f1,f2开始,需要更换表头\n",
    "# 画树结构图的时候也需要替换表头\n",
    "\n",
    "model.get_booster().feature_names = iris.feature_names\n",
    "# max_num_features指定排名最靠前的多少特征\n",
    "# height=0.2指定柱状图每个柱子的粗细,默认是0.2\n",
    "# importance_type='weight'默认是用特征子树中的出现次数(被选择次数),还有\"gain\"和\"cover\"\n",
    "xgboost.plot_importance(model, max_num_features=5,importance_type='gain')\n",
    "\n",
    "# f_score就是feature score\n",
    "model.feature_importances_  # 这里的特征重要性就是gain进行归一化之后的值"
   ]
  },
  {
   "cell_type": "code",
   "execution_count": 69,
   "id": "dd4b31d8-f739-4a84-92f8-9afe79e24dec",
   "metadata": {},
   "outputs": [
    {
     "data": {
      "text/plain": [
       "1.0"
      ]
     },
     "execution_count": 69,
     "metadata": {},
     "output_type": "execute_result"
    }
   ],
   "source": [
    "model.feature_importances_.sum()"
   ]
  },
  {
   "cell_type": "code",
   "execution_count": 73,
   "id": "4c049132-c614-473f-8d0f-b19f32f17f4c",
   "metadata": {},
   "outputs": [
    {
     "data": {
      "text/plain": [
       "0.6766022886607264"
      ]
     },
     "execution_count": 73,
     "metadata": {},
     "output_type": "execute_result"
    }
   ],
   "source": [
    "2.9918/(2.9918+1.3149+0.0727+0.0424)"
   ]
  },
  {
   "cell_type": "code",
   "execution_count": 75,
   "id": "6f243925-4941-47e8-a29c-4125a1fd33ae",
   "metadata": {},
   "outputs": [
    {
     "data": {
      "image/svg+xml": [
       "<?xml version=\"1.0\" encoding=\"UTF-8\" standalone=\"no\"?>\r\n",
       "<!DOCTYPE svg PUBLIC \"-//W3C//DTD SVG 1.1//EN\"\r\n",
       " \"http://www.w3.org/Graphics/SVG/1.1/DTD/svg11.dtd\">\r\n",
       "<!-- Generated by graphviz version 2.49.0 (20210828.1703)\r\n",
       " -->\r\n",
       "<!-- Pages: 1 -->\r\n",
       "<svg width=\"955pt\" height=\"392pt\"\r\n",
       " viewBox=\"0.00 0.00 955.39 392.00\" xmlns=\"http://www.w3.org/2000/svg\" xmlns:xlink=\"http://www.w3.org/1999/xlink\">\r\n",
       "<g id=\"graph0\" class=\"graph\" transform=\"scale(1 1) rotate(0) translate(4 388)\">\r\n",
       "<polygon fill=\"white\" stroke=\"transparent\" points=\"-4,4 -4,-388 951.39,-388 951.39,4 -4,4\"/>\r\n",
       "<!-- 0 -->\r\n",
       "<g id=\"node1\" class=\"node\">\r\n",
       "<title>0</title>\r\n",
       "<ellipse fill=\"none\" stroke=\"black\" cx=\"439.39\" cy=\"-366\" rx=\"118.08\" ry=\"18\"/>\r\n",
       "<text text-anchor=\"middle\" x=\"439.39\" y=\"-362.3\" font-family=\"Times New Roman,serif\" font-size=\"14.00\">petal length (cm)&lt;2.45000005</text>\r\n",
       "</g>\r\n",
       "<!-- 1 -->\r\n",
       "<g id=\"node2\" class=\"node\">\r\n",
       "<title>1</title>\r\n",
       "<ellipse fill=\"none\" stroke=\"black\" cx=\"393.39\" cy=\"-279\" rx=\"77.99\" ry=\"18\"/>\r\n",
       "<text text-anchor=\"middle\" x=\"393.39\" y=\"-275.3\" font-family=\"Times New Roman,serif\" font-size=\"14.00\">leaf=&#45;0.215311036</text>\r\n",
       "</g>\r\n",
       "<!-- 0&#45;&gt;1 -->\r\n",
       "<g id=\"edge1\" class=\"edge\">\r\n",
       "<title>0&#45;&gt;1</title>\r\n",
       "<path fill=\"none\" stroke=\"#0000ff\" d=\"M430.08,-347.8C423.56,-335.74 414.72,-319.4 407.35,-305.79\"/>\r\n",
       "<polygon fill=\"#0000ff\" stroke=\"#0000ff\" points=\"410.37,-304.01 402.53,-296.89 404.21,-307.35 410.37,-304.01\"/>\r\n",
       "<text text-anchor=\"middle\" x=\"453.89\" y=\"-318.8\" font-family=\"Times New Roman,serif\" font-size=\"14.00\">yes, missing</text>\r\n",
       "</g>\r\n",
       "<!-- 2 -->\r\n",
       "<g id=\"node3\" class=\"node\">\r\n",
       "<title>2</title>\r\n",
       "<ellipse fill=\"none\" stroke=\"black\" cx=\"580.39\" cy=\"-279\" rx=\"90.98\" ry=\"18\"/>\r\n",
       "<text text-anchor=\"middle\" x=\"580.39\" y=\"-275.3\" font-family=\"Times New Roman,serif\" font-size=\"14.00\">petal width (cm)&lt;1.75</text>\r\n",
       "</g>\r\n",
       "<!-- 0&#45;&gt;2 -->\r\n",
       "<g id=\"edge2\" class=\"edge\">\r\n",
       "<title>0&#45;&gt;2</title>\r\n",
       "<path fill=\"none\" stroke=\"#ff0000\" d=\"M466.91,-348.41C489.09,-335.04 520.43,-316.15 544.56,-301.6\"/>\r\n",
       "<polygon fill=\"#ff0000\" stroke=\"#ff0000\" points=\"546.66,-304.42 553.42,-296.26 543.05,-298.43 546.66,-304.42\"/>\r\n",
       "<text text-anchor=\"middle\" x=\"525.89\" y=\"-318.8\" font-family=\"Times New Roman,serif\" font-size=\"14.00\">no</text>\r\n",
       "</g>\r\n",
       "<!-- 3 -->\r\n",
       "<g id=\"node4\" class=\"node\">\r\n",
       "<title>3</title>\r\n",
       "<ellipse fill=\"none\" stroke=\"black\" cx=\"433.39\" cy=\"-192\" rx=\"118.08\" ry=\"18\"/>\r\n",
       "<text text-anchor=\"middle\" x=\"433.39\" y=\"-188.3\" font-family=\"Times New Roman,serif\" font-size=\"14.00\">petal length (cm)&lt;4.94999981</text>\r\n",
       "</g>\r\n",
       "<!-- 2&#45;&gt;3 -->\r\n",
       "<g id=\"edge3\" class=\"edge\">\r\n",
       "<title>2&#45;&gt;3</title>\r\n",
       "<path fill=\"none\" stroke=\"#0000ff\" d=\"M552.4,-261.81C529.32,-248.47 496.39,-229.43 471.01,-214.75\"/>\r\n",
       "<polygon fill=\"#0000ff\" stroke=\"#0000ff\" points=\"472.45,-211.54 462.04,-209.56 468.94,-217.6 472.45,-211.54\"/>\r\n",
       "<text text-anchor=\"middle\" x=\"550.89\" y=\"-231.8\" font-family=\"Times New Roman,serif\" font-size=\"14.00\">yes, missing</text>\r\n",
       "</g>\r\n",
       "<!-- 4 -->\r\n",
       "<g id=\"node5\" class=\"node\">\r\n",
       "<title>4</title>\r\n",
       "<ellipse fill=\"none\" stroke=\"black\" cx=\"688.39\" cy=\"-192\" rx=\"118.08\" ry=\"18\"/>\r\n",
       "<text text-anchor=\"middle\" x=\"688.39\" y=\"-188.3\" font-family=\"Times New Roman,serif\" font-size=\"14.00\">petal length (cm)&lt;4.85000038</text>\r\n",
       "</g>\r\n",
       "<!-- 2&#45;&gt;4 -->\r\n",
       "<g id=\"edge4\" class=\"edge\">\r\n",
       "<title>2&#45;&gt;4</title>\r\n",
       "<path fill=\"none\" stroke=\"#ff0000\" d=\"M601.47,-261.41C617.87,-248.51 640.81,-230.45 659.01,-216.13\"/>\r\n",
       "<polygon fill=\"#ff0000\" stroke=\"#ff0000\" points=\"661.3,-218.77 667,-209.84 656.97,-213.27 661.3,-218.77\"/>\r\n",
       "<text text-anchor=\"middle\" x=\"648.89\" y=\"-231.8\" font-family=\"Times New Roman,serif\" font-size=\"14.00\">no</text>\r\n",
       "</g>\r\n",
       "<!-- 5 -->\r\n",
       "<g id=\"node6\" class=\"node\">\r\n",
       "<title>5</title>\r\n",
       "<ellipse fill=\"none\" stroke=\"black\" cx=\"204.39\" cy=\"-105\" rx=\"116.98\" ry=\"18\"/>\r\n",
       "<text text-anchor=\"middle\" x=\"204.39\" y=\"-101.3\" font-family=\"Times New Roman,serif\" font-size=\"14.00\">petal width (cm)&lt;1.54999995</text>\r\n",
       "</g>\r\n",
       "<!-- 3&#45;&gt;5 -->\r\n",
       "<g id=\"edge5\" class=\"edge\">\r\n",
       "<title>3&#45;&gt;5</title>\r\n",
       "<path fill=\"none\" stroke=\"#0000ff\" d=\"M390.59,-175.11C352.6,-161.01 296.98,-140.37 256.43,-125.32\"/>\r\n",
       "<polygon fill=\"#0000ff\" stroke=\"#0000ff\" points=\"257.58,-122.01 246.99,-121.81 255.14,-128.57 257.58,-122.01\"/>\r\n",
       "<text text-anchor=\"middle\" x=\"367.89\" y=\"-144.8\" font-family=\"Times New Roman,serif\" font-size=\"14.00\">yes, missing</text>\r\n",
       "</g>\r\n",
       "<!-- 6 -->\r\n",
       "<g id=\"node7\" class=\"node\">\r\n",
       "<title>6</title>\r\n",
       "<ellipse fill=\"none\" stroke=\"black\" cx=\"456.39\" cy=\"-105\" rx=\"116.98\" ry=\"18\"/>\r\n",
       "<text text-anchor=\"middle\" x=\"456.39\" y=\"-101.3\" font-family=\"Times New Roman,serif\" font-size=\"14.00\">petal width (cm)&lt;1.54999995</text>\r\n",
       "</g>\r\n",
       "<!-- 3&#45;&gt;6 -->\r\n",
       "<g id=\"edge6\" class=\"edge\">\r\n",
       "<title>3&#45;&gt;6</title>\r\n",
       "<path fill=\"none\" stroke=\"#ff0000\" d=\"M438.05,-173.8C441.23,-162.05 445.51,-146.24 449.13,-132.84\"/>\r\n",
       "<polygon fill=\"#ff0000\" stroke=\"#ff0000\" points=\"452.51,-133.74 451.75,-123.18 445.76,-131.91 452.51,-133.74\"/>\r\n",
       "<text text-anchor=\"middle\" x=\"453.89\" y=\"-144.8\" font-family=\"Times New Roman,serif\" font-size=\"14.00\">no</text>\r\n",
       "</g>\r\n",
       "<!-- 7 -->\r\n",
       "<g id=\"node12\" class=\"node\">\r\n",
       "<title>7</title>\r\n",
       "<ellipse fill=\"none\" stroke=\"black\" cx=\"684.39\" cy=\"-105\" rx=\"89.08\" ry=\"18\"/>\r\n",
       "<text text-anchor=\"middle\" x=\"684.39\" y=\"-101.3\" font-family=\"Times New Roman,serif\" font-size=\"14.00\">leaf=&#45;7.66345476e&#45;09</text>\r\n",
       "</g>\r\n",
       "<!-- 4&#45;&gt;7 -->\r\n",
       "<g id=\"edge11\" class=\"edge\">\r\n",
       "<title>4&#45;&gt;7</title>\r\n",
       "<path fill=\"none\" stroke=\"#0000ff\" d=\"M687.58,-173.8C687.04,-162.16 686.3,-146.55 685.68,-133.24\"/>\r\n",
       "<polygon fill=\"#0000ff\" stroke=\"#0000ff\" points=\"689.17,-133 685.2,-123.18 682.18,-133.33 689.17,-133\"/>\r\n",
       "<text text-anchor=\"middle\" x=\"721.89\" y=\"-144.8\" font-family=\"Times New Roman,serif\" font-size=\"14.00\">yes, missing</text>\r\n",
       "</g>\r\n",
       "<!-- 8 -->\r\n",
       "<g id=\"node13\" class=\"node\">\r\n",
       "<title>8</title>\r\n",
       "<ellipse fill=\"none\" stroke=\"black\" cx=\"869.39\" cy=\"-105\" rx=\"77.99\" ry=\"18\"/>\r\n",
       "<text text-anchor=\"middle\" x=\"869.39\" y=\"-101.3\" font-family=\"Times New Roman,serif\" font-size=\"14.00\">leaf=&#45;0.213812172</text>\r\n",
       "</g>\r\n",
       "<!-- 4&#45;&gt;8 -->\r\n",
       "<g id=\"edge12\" class=\"edge\">\r\n",
       "<title>4&#45;&gt;8</title>\r\n",
       "<path fill=\"none\" stroke=\"#ff0000\" d=\"M723.29,-174.61C752.9,-160.71 795.46,-140.72 827.02,-125.9\"/>\r\n",
       "<polygon fill=\"#ff0000\" stroke=\"#ff0000\" points=\"828.87,-128.9 836.43,-121.48 825.89,-122.56 828.87,-128.9\"/>\r\n",
       "<text text-anchor=\"middle\" x=\"796.89\" y=\"-144.8\" font-family=\"Times New Roman,serif\" font-size=\"14.00\">no</text>\r\n",
       "</g>\r\n",
       "<!-- 9 -->\r\n",
       "<g id=\"node8\" class=\"node\">\r\n",
       "<title>9</title>\r\n",
       "<ellipse fill=\"none\" stroke=\"black\" cx=\"75.39\" cy=\"-18\" rx=\"75.29\" ry=\"18\"/>\r\n",
       "<text text-anchor=\"middle\" x=\"75.39\" y=\"-14.3\" font-family=\"Times New Roman,serif\" font-size=\"14.00\">leaf=0.428571463</text>\r\n",
       "</g>\r\n",
       "<!-- 5&#45;&gt;9 -->\r\n",
       "<g id=\"edge7\" class=\"edge\">\r\n",
       "<title>5&#45;&gt;9</title>\r\n",
       "<path fill=\"none\" stroke=\"#0000ff\" d=\"M178,-87.41C168.9,-81.64 158.67,-75.08 149.39,-69 135.59,-59.95 120.48,-49.78 107.52,-40.99\"/>\r\n",
       "<polygon fill=\"#0000ff\" stroke=\"#0000ff\" points=\"109.18,-37.88 98.94,-35.15 105.24,-43.67 109.18,-37.88\"/>\r\n",
       "<text text-anchor=\"middle\" x=\"183.89\" y=\"-57.8\" font-family=\"Times New Roman,serif\" font-size=\"14.00\">yes, missing</text>\r\n",
       "</g>\r\n",
       "<!-- 10 -->\r\n",
       "<g id=\"node9\" class=\"node\">\r\n",
       "<title>10</title>\r\n",
       "<ellipse fill=\"none\" stroke=\"black\" cx=\"244.39\" cy=\"-18\" rx=\"75.29\" ry=\"18\"/>\r\n",
       "<text text-anchor=\"middle\" x=\"244.39\" y=\"-14.3\" font-family=\"Times New Roman,serif\" font-size=\"14.00\">leaf=0.128571421</text>\r\n",
       "</g>\r\n",
       "<!-- 5&#45;&gt;10 -->\r\n",
       "<g id=\"edge8\" class=\"edge\">\r\n",
       "<title>5&#45;&gt;10</title>\r\n",
       "<path fill=\"none\" stroke=\"#ff0000\" d=\"M212.49,-86.8C218.07,-74.93 225.6,-58.93 231.95,-45.45\"/>\r\n",
       "<polygon fill=\"#ff0000\" stroke=\"#ff0000\" points=\"235.22,-46.71 236.31,-36.18 228.89,-43.73 235.22,-46.71\"/>\r\n",
       "<text text-anchor=\"middle\" x=\"234.89\" y=\"-57.8\" font-family=\"Times New Roman,serif\" font-size=\"14.00\">no</text>\r\n",
       "</g>\r\n",
       "<!-- 11 -->\r\n",
       "<g id=\"node10\" class=\"node\">\r\n",
       "<title>11</title>\r\n",
       "<ellipse fill=\"none\" stroke=\"black\" cx=\"435.39\" cy=\"-18\" rx=\"77.99\" ry=\"18\"/>\r\n",
       "<text text-anchor=\"middle\" x=\"435.39\" y=\"-14.3\" font-family=\"Times New Roman,serif\" font-size=\"14.00\">leaf=&#45;0.128571451</text>\r\n",
       "</g>\r\n",
       "<!-- 6&#45;&gt;11 -->\r\n",
       "<g id=\"edge9\" class=\"edge\">\r\n",
       "<title>6&#45;&gt;11</title>\r\n",
       "<path fill=\"none\" stroke=\"#0000ff\" d=\"M452.14,-86.8C449.27,-75.16 445.41,-59.55 442.12,-46.24\"/>\r\n",
       "<polygon fill=\"#0000ff\" stroke=\"#0000ff\" points=\"445.43,-45.04 439.64,-36.18 438.64,-46.72 445.43,-45.04\"/>\r\n",
       "<text text-anchor=\"middle\" x=\"481.89\" y=\"-57.8\" font-family=\"Times New Roman,serif\" font-size=\"14.00\">yes, missing</text>\r\n",
       "</g>\r\n",
       "<!-- 12 -->\r\n",
       "<g id=\"node11\" class=\"node\">\r\n",
       "<title>12</title>\r\n",
       "<ellipse fill=\"none\" stroke=\"black\" cx=\"606.39\" cy=\"-18\" rx=\"75.29\" ry=\"18\"/>\r\n",
       "<text text-anchor=\"middle\" x=\"606.39\" y=\"-14.3\" font-family=\"Times New Roman,serif\" font-size=\"14.00\">leaf=0.128571421</text>\r\n",
       "</g>\r\n",
       "<!-- 6&#45;&gt;12 -->\r\n",
       "<g id=\"edge10\" class=\"edge\">\r\n",
       "<title>6&#45;&gt;12</title>\r\n",
       "<path fill=\"none\" stroke=\"#ff0000\" d=\"M486.76,-87.6C497.43,-81.79 509.47,-75.16 520.39,-69 536.99,-59.64 555.26,-49.06 570.67,-40.05\"/>\r\n",
       "<polygon fill=\"#ff0000\" stroke=\"#ff0000\" points=\"572.52,-43.02 579.38,-34.95 568.99,-36.98 572.52,-43.02\"/>\r\n",
       "<text text-anchor=\"middle\" x=\"554.89\" y=\"-57.8\" font-family=\"Times New Roman,serif\" font-size=\"14.00\">no</text>\r\n",
       "</g>\r\n",
       "</g>\r\n",
       "</svg>\r\n"
      ],
      "text/plain": [
       "<graphviz.files.Source at 0x1eeb36e63c8>"
      ]
     },
     "execution_count": 75,
     "metadata": {},
     "output_type": "execute_result"
    }
   ],
   "source": [
    "xgb.to_graphviz(model, num_trees=1)"
   ]
  },
  {
   "cell_type": "code",
   "execution_count": 77,
   "id": "c5381199-7c3d-4994-ada5-241bc2b93f37",
   "metadata": {},
   "outputs": [],
   "source": [
    "from sklearn.tree import DecisionTreeClassifier"
   ]
  },
  {
   "cell_type": "code",
   "execution_count": 109,
   "id": "d447552f-45a8-409b-b90b-b065c7d59901",
   "metadata": {},
   "outputs": [],
   "source": [
    "dt = DecisionTreeClassifier(max_depth=2)"
   ]
  },
  {
   "cell_type": "code",
   "execution_count": 110,
   "id": "69db9610-8e22-4734-81bd-5396cb7cb7b0",
   "metadata": {},
   "outputs": [
    {
     "data": {
      "text/plain": [
       "DecisionTreeClassifier(max_depth=2)"
      ]
     },
     "execution_count": 110,
     "metadata": {},
     "output_type": "execute_result"
    }
   ],
   "source": [
    "dt.fit(x,y)"
   ]
  },
  {
   "cell_type": "code",
   "execution_count": 111,
   "id": "fce50630-1bfb-405a-a1fc-0d04f9e1d32f",
   "metadata": {},
   "outputs": [],
   "source": [
    "import graphviz\n",
    "from sklearn import tree\n",
    "import pydotplus\n",
    "from IPython.display import Image"
   ]
  },
  {
   "cell_type": "code",
   "execution_count": 112,
   "id": "b2ef1d0a-2def-471d-89b9-1477a9cf57d3",
   "metadata": {},
   "outputs": [
    {
     "data": {
      "text/plain": [
       "array([0.        , 0.        , 0.56199095, 0.43800905])"
      ]
     },
     "execution_count": 112,
     "metadata": {},
     "output_type": "execute_result"
    }
   ],
   "source": [
    "# 对于决策树来说，特征重要性就等于这个特征分裂的时候的总信息增益，这个特征有可能分裂，加到一起就行\n",
    "dt.feature_importances_"
   ]
  },
  {
   "cell_type": "code",
   "execution_count": 113,
   "id": "43fa5105-deda-4418-9822-2ab931b1c52c",
   "metadata": {},
   "outputs": [
    {
     "data": {
      "image/png": "[encoded data removed]",
      "text/plain": [
       "<IPython.core.display.Image object>"
      ]
     },
     "execution_count": 113,
     "metadata": {},
     "output_type": "execute_result"
    }
   ],
   "source": [
    "dot = tree.export_graphviz(dt)\n",
    "graph = pydotplus.graph_from_dot_data(dot)\n",
    "Image(graph.create_png())"
   ]
  }
 ],
 "metadata": {
  "kernelspec": {
   "display_name": "Python 3",
   "language": "python",
   "name": "python3"
  },
  "language_info": {
   "codemirror_mode": {
    "name": "ipython",
    "version": 3
   },
   "file_extension": ".py",
   "mimetype": "text/x-python",
   "name": "python",
   "nbconvert_exporter": "python",
   "pygments_lexer": "ipython3",
   "version": "3.7.0"
  },
  "toc-autonumbering": false,
  "toc-showcode": false,
  "toc-showmarkdowntxt": false
 },
 "nbformat": 4,
 "nbformat_minor": 5
}
