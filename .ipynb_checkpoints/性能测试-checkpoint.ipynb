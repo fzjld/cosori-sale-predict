{
 "cells": [
  {
   "cell_type": "markdown",
   "id": "c6ad37c2-1ddd-4518-8f6a-4c8991b86849",
   "metadata": {},
   "source": [
    "- 用接下来两个月的数据进行测试"
   ]
  },
  {
   "cell_type": "code",
   "execution_count": 4,
   "id": "c210762c-c805-44c5-aa0e-b28a58e48e28",
   "metadata": {},
   "outputs": [],
   "source": [
    "import joblib\n",
    "from utils import *\n",
    "import numpy as np\n",
    "from sklearn.metrics import r2_score\n",
    "import pylab as plt\n",
    "np.set_printoptions(suppress=True)\n",
    "%matplotlib inline"
   ]
  },
  {
   "cell_type": "code",
   "execution_count": 5,
   "id": "0d3c4bbd-9a83-4e5a-a40a-db43544e5338",
   "metadata": {},
   "outputs": [],
   "source": [
    "asin = 'B07FKN76ZS'"
   ]
  },
  {
   "cell_type": "code",
   "execution_count": 6,
   "id": "07621ff9-3a9f-431b-a27b-f7749abcd0c7",
   "metadata": {},
   "outputs": [],
   "source": [
    "model = joblib.load('./model/' + asin + '.pkl')"
   ]
  },
  {
   "cell_type": "code",
   "execution_count": null,
   "id": "b93a228c-ca4e-458b-8f37-b10042e8be3a",
   "metadata": {
    "tags": []
   },
   "outputs": [],
   "source": [
    "date_pred = pd.DataFrame({'data_date': pd.date_range('2021-8-23', periods=83)})\n",
    "date_pred\n",
    "prediction = model.predict(create_feature(date_pred))"
   ]
  },
  {
   "cell_type": "code",
   "execution_count": null,
   "id": "a991dc45-c9de-4107-9c8c-fff2e40eb4b6",
   "metadata": {},
   "outputs": [],
   "source": [
    "data = pd.read_csv('./data.csv', encoding='gbk')\n",
    "data.data_date = pd.to_datetime(data.data_date)"
   ]
  },
  {
   "cell_type": "code",
   "execution_count": null,
   "id": "65eaaa50-8cef-49b4-ae8a-36aeaad17b83",
   "metadata": {},
   "outputs": [],
   "source": [
    "last = data[data.asin == asin].sort_values(by='data_date').tail(1)"
   ]
  },
  {
   "cell_type": "code",
   "execution_count": null,
   "id": "21f0f777-6506-47c1-8b1d-901b49d94d32",
   "metadata": {},
   "outputs": [],
   "source": [
    "data1 = pd.read_csv('./cosori_2021-10-13.csv')\n",
    "\n",
    "data1.data_date = pd.to_datetime(data1.data_date)\n",
    "\n",
    "last.data_date.values[0]\n",
    "\n",
    "target = data1[(data1.asin == asin) & (data1.data_date > last.data_date.values[0])\n",
    "               ].sort_values(by='data_date').ordered_units.values"
   ]
  },
  {
   "cell_type": "code",
   "execution_count": null,
   "id": "a70db242-36bd-436b-a246-cdfe85a94e8a",
   "metadata": {},
   "outputs": [],
   "source": [
    "target.shape"
   ]
  },
  {
   "cell_type": "code",
   "execution_count": null,
   "id": "b17c21c8-a103-458a-9259-d7e5556841b5",
   "metadata": {},
   "outputs": [],
   "source": [
    "r2_score(target, prediction)"
   ]
  },
  {
   "cell_type": "code",
   "execution_count": null,
   "id": "e260d047-6a0d-4ff0-bba7-3c4ad35806a2",
   "metadata": {},
   "outputs": [],
   "source": [
    "plt.figure(figsize=(10,5))\n",
    "plt.plot(target, label='true')\n",
    "plt.plot(prediction)\n",
    "plt.legend()"
   ]
  },
  {
   "cell_type": "code",
   "execution_count": null,
   "id": "39efce55-b09b-42f6-ae14-de8cc361bf41",
   "metadata": {},
   "outputs": [],
   "source": [
    "pd.DataFrame({'true': target, 'predict': prediction})"
   ]
  }
 ],
 "metadata": {
  "kernelspec": {
   "display_name": "Python 3",
   "language": "python",
   "name": "python3"
  },
  "language_info": {
   "codemirror_mode": {
    "name": "ipython",
    "version": 3
   },
   "file_extension": ".py",
   "mimetype": "text/x-python",
   "name": "python",
   "nbconvert_exporter": "python",
   "pygments_lexer": "ipython3",
   "version": "3.7.0"
  }
 },
 "nbformat": 4,
 "nbformat_minor": 5
}
