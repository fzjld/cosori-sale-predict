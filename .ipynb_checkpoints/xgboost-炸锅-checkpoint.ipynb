{
 "cells": [
  {
   "cell_type": "markdown",
   "id": "a8d04ebd-6bcb-4755-8f82-950541c326bd",
   "metadata": {},
   "source": [
    "- 添加更多的特征，例如季度\n",
    "- 使用网格搜索技术设置超参数"
   ]
  },
  {
   "cell_type": "code",
   "execution_count": 1,
   "id": "73b20828-5422-423d-85ff-449137ac570c",
   "metadata": {},
   "outputs": [],
   "source": [
    "import xgboost as xgb\n",
    "import os\n",
    "import seaborn as sns\n",
    "import pandas as pd\n",
    "import numpy as np\n",
    "from xgboost import XGBRegressor\n",
    "from sklearn.model_selection import train_test_split\n",
    "from sklearn.preprocessing import OneHotEncoder, LabelEncoder, OrdinalEncoder\n",
    "from sklearn.metrics import mean_squared_error, r2_score\n",
    "from time import time\n",
    "from scipy import stats\n",
    "import joblib\n",
    "import pickle\n",
    "import pylab as plt\n",
    "from sklearn.model_selection import cross_val_score, GridSearchCV\n",
    "import torch.nn as nn\n",
    "\n",
    "\n",
    "import warnings\n",
    "warnings.filterwarnings('ignore')\n",
    "\n",
    "pd.set_option('display.max_rows', 100)\n",
    "pd.set_option('display.max_columns', None)\n",
    "pd.set_option('display.float_format', lambda x: '%.4f' % x)\n",
    "np.set_printoptions(suppress=True)\n",
    "sns.set_style({'font.sans-serif': ['simhei', 'Arial']})   # 解决画图中文乱码\n",
    "\n",
    "%matplotlib inline"
   ]
  },
  {
   "cell_type": "code",
   "execution_count": 2,
   "id": "5638c9d2-20d8-4cfc-be0c-e635641bb771",
   "metadata": {},
   "outputs": [
    {
     "data": {
      "text/html": [
       "<div>\n",
       "<style scoped>\n",
       "    .dataframe tbody tr th:only-of-type {\n",
       "        vertical-align: middle;\n",
       "    }\n",
       "\n",
       "    .dataframe tbody tr th {\n",
       "        vertical-align: top;\n",
       "    }\n",
       "\n",
       "    .dataframe thead th {\n",
       "        text-align: right;\n",
       "    }\n",
       "</style>\n",
       "<table border=\"1\" class=\"dataframe\">\n",
       "  <thead>\n",
       "    <tr style=\"text-align: right;\">\n",
       "      <th></th>\n",
       "      <th>id</th>\n",
       "      <th>site_id</th>\n",
       "      <th>asin</th>\n",
       "      <th>data_date</th>\n",
       "      <th>product_title</th>\n",
       "      <th>ordered_revenue</th>\n",
       "      <th>ordered_revenue_of_total</th>\n",
       "      <th>ordered_revenue_last_year</th>\n",
       "      <th>ordered_units</th>\n",
       "      <th>ordered_units_of_total</th>\n",
       "      <th>ordered_units_prior_period</th>\n",
       "      <th>ordered_units_last_year</th>\n",
       "      <th>subcategory_sales_rank</th>\n",
       "      <th>average_sales_price</th>\n",
       "      <th>average_sales_price_prior_period</th>\n",
       "      <th>glance_views</th>\n",
       "      <th>change_in_glance_view_prior_period</th>\n",
       "      <th>change_in_gv_last_year</th>\n",
       "      <th>conversion_rate</th>\n",
       "      <th>rep_oos</th>\n",
       "      <th>rep_oos_of_total</th>\n",
       "      <th>rep_oos_prior_period</th>\n",
       "      <th>lbb_price</th>\n",
       "      <th>create_time</th>\n",
       "      <th>update_time</th>\n",
       "    </tr>\n",
       "  </thead>\n",
       "  <tbody>\n",
       "    <tr>\n",
       "      <th>0</th>\n",
       "      <td>1</td>\n",
       "      <td>eb766123-9f24-436e-9117-49c739816794</td>\n",
       "      <td>B07GJBBGHG</td>\n",
       "      <td>2021-01-02</td>\n",
       "      <td>COSORI 5.8QT Electric Hot Air Fryers Oven Oill...</td>\n",
       "      <td>153827.1800</td>\n",
       "      <td>0.1300</td>\n",
       "      <td>1.2600</td>\n",
       "      <td>1284</td>\n",
       "      <td>0.0600</td>\n",
       "      <td>-0.1300</td>\n",
       "      <td>1.2600</td>\n",
       "      <td>1.0000</td>\n",
       "      <td>119.8000</td>\n",
       "      <td>0.0000</td>\n",
       "      <td>40220.0000</td>\n",
       "      <td>0.0000</td>\n",
       "      <td>1.1900</td>\n",
       "      <td>0.0300</td>\n",
       "      <td>0.0200</td>\n",
       "      <td>0.1400</td>\n",
       "      <td>0.1500</td>\n",
       "      <td>0.0000</td>\n",
       "      <td>2021/1/4 6:48</td>\n",
       "      <td>2021/1/4 6:48</td>\n",
       "    </tr>\n",
       "  </tbody>\n",
       "</table>\n",
       "</div>"
      ],
      "text/plain": [
       "   id                               site_id        asin  data_date  \\\n",
       "0   1  eb766123-9f24-436e-9117-49c739816794  B07GJBBGHG 2021-01-02   \n",
       "\n",
       "                                       product_title  ordered_revenue  \\\n",
       "0  COSORI 5.8QT Electric Hot Air Fryers Oven Oill...      153827.1800   \n",
       "\n",
       "   ordered_revenue_of_total  ordered_revenue_last_year  ordered_units  \\\n",
       "0                    0.1300                     1.2600           1284   \n",
       "\n",
       "   ordered_units_of_total  ordered_units_prior_period  \\\n",
       "0                  0.0600                     -0.1300   \n",
       "\n",
       "   ordered_units_last_year  subcategory_sales_rank  average_sales_price  \\\n",
       "0                   1.2600                  1.0000             119.8000   \n",
       "\n",
       "   average_sales_price_prior_period  glance_views  \\\n",
       "0                            0.0000    40220.0000   \n",
       "\n",
       "   change_in_glance_view_prior_period  change_in_gv_last_year  \\\n",
       "0                              0.0000                  1.1900   \n",
       "\n",
       "   conversion_rate  rep_oos  rep_oos_of_total  rep_oos_prior_period  \\\n",
       "0           0.0300   0.0200            0.1400                0.1500   \n",
       "\n",
       "   lbb_price    create_time    update_time  \n",
       "0     0.0000  2021/1/4 6:48  2021/1/4 6:48  "
      ]
     },
     "execution_count": 2,
     "metadata": {},
     "output_type": "execute_result"
    }
   ],
   "source": [
    "data = pd.read_csv('./data.csv', encoding='GBK')\n",
    "data.data_date = pd.to_datetime(data.data_date)\n",
    "data.head(1)"
   ]
  },
  {
   "cell_type": "code",
   "execution_count": 3,
   "id": "62525d6e-4824-410f-84df-1ad6bb5d15df",
   "metadata": {},
   "outputs": [
    {
     "data": {
      "text/plain": [
       "(626, 2)"
      ]
     },
     "execution_count": 3,
     "metadata": {},
     "output_type": "execute_result"
    }
   ],
   "source": [
    "alldata = data[(data.asin == 'B07GJBBGHG')][['data_date',\n",
    "                                             'ordered_units']].sort_values('data_date')\n",
    "alldata.shape"
   ]
  },
  {
   "cell_type": "code",
   "execution_count": 4,
   "id": "c6d14d10-df30-4a18-9496-b9a10c5fd0db",
   "metadata": {},
   "outputs": [
    {
     "data": {
      "text/html": [
       "<div>\n",
       "<style scoped>\n",
       "    .dataframe tbody tr th:only-of-type {\n",
       "        vertical-align: middle;\n",
       "    }\n",
       "\n",
       "    .dataframe tbody tr th {\n",
       "        vertical-align: top;\n",
       "    }\n",
       "\n",
       "    .dataframe thead th {\n",
       "        text-align: right;\n",
       "    }\n",
       "</style>\n",
       "<table border=\"1\" class=\"dataframe\">\n",
       "  <thead>\n",
       "    <tr style=\"text-align: right;\">\n",
       "      <th></th>\n",
       "      <th>data_date</th>\n",
       "      <th>ordered_units</th>\n",
       "    </tr>\n",
       "  </thead>\n",
       "  <tbody>\n",
       "    <tr>\n",
       "      <th>15966</th>\n",
       "      <td>2019-12-02</td>\n",
       "      <td>10709</td>\n",
       "    </tr>\n",
       "    <tr>\n",
       "      <th>15931</th>\n",
       "      <td>2019-12-03</td>\n",
       "      <td>1353</td>\n",
       "    </tr>\n",
       "  </tbody>\n",
       "</table>\n",
       "</div>"
      ],
      "text/plain": [
       "       data_date  ordered_units\n",
       "15966 2019-12-02          10709\n",
       "15931 2019-12-03           1353"
      ]
     },
     "execution_count": 4,
     "metadata": {},
     "output_type": "execute_result"
    }
   ],
   "source": [
    "alldata.head(2)"
   ]
  },
  {
   "cell_type": "code",
   "execution_count": 5,
   "id": "c6ffca30-169a-457f-a85c-a83bcacf0716",
   "metadata": {},
   "outputs": [
    {
     "data": {
      "text/plain": [
       "[<matplotlib.lines.Line2D at 0x1db3f856400>]"
      ]
     },
     "execution_count": 5,
     "metadata": {},
     "output_type": "execute_result"
    },
    {
     "data": {
      "image/png": "[encoded data removed]",
      "text/plain": [
       "<Figure size 1080x360 with 1 Axes>"
      ]
     },
     "metadata": {
      "needs_background": "light"
     },
     "output_type": "display_data"
    }
   ],
   "source": [
    "plt.figure(figsize=(15, 5))\n",
    "plt.xticks(rotation=90)\n",
    "plt.plot(alldata.data_date, alldata.ordered_units)"
   ]
  },
  {
   "cell_type": "code",
   "execution_count": 6,
   "id": "ba1e819a-67a7-4140-b434-f00f08d8bf54",
   "metadata": {},
   "outputs": [
    {
     "data": {
      "text/plain": [
       "<AxesSubplot:xlabel='ordered_units', ylabel='Density'>"
      ]
     },
     "execution_count": 6,
     "metadata": {},
     "output_type": "execute_result"
    },
    {
     "data": {
      "image/png": "[encoded data removed]",
      "text/plain": [
       "<Figure size 432x288 with 1 Axes>"
      ]
     },
     "metadata": {
      "needs_background": "light"
     },
     "output_type": "display_data"
    }
   ],
   "source": [
    "sns.distplot(alldata.ordered_units, fit=stats.norm)"
   ]
  },
  {
   "cell_type": "code",
   "execution_count": 7,
   "id": "684672f2-b245-4319-9c16-4ab341ca7555",
   "metadata": {},
   "outputs": [
    {
     "data": {
      "text/plain": [
       "(7.5340006644908195, -3.616558075453425)"
      ]
     },
     "execution_count": 7,
     "metadata": {},
     "output_type": "execute_result"
    }
   ],
   "source": [
    "alldata.ordered_units.skew(), np.log1p(alldata.ordered_units).skew()"
   ]
  },
  {
   "cell_type": "code",
   "execution_count": 8,
   "id": "2caaf226-81bb-4873-b1d9-36fa8884f5df",
   "metadata": {},
   "outputs": [
    {
     "data": {
      "text/plain": [
       "0.022899662729770277"
      ]
     },
     "execution_count": 8,
     "metadata": {},
     "output_type": "execute_result"
    }
   ],
   "source": [
    "from scipy.special import boxcox1p\n",
    "boxcox1p(alldata.ordered_units, 0.21).skew()"
   ]
  },
  {
   "cell_type": "code",
   "execution_count": 10,
   "id": "394d939d-8c82-425d-9c0d-0b423ca8d60e",
   "metadata": {},
   "outputs": [
    {
     "data": {
      "text/plain": [
       "<AxesSubplot:xlabel='ordered_units', ylabel='Density'>"
      ]
     },
     "execution_count": 10,
     "metadata": {},
     "output_type": "execute_result"
    },
    {
     "data": {
      "image/png": "[encoded data removed]",
      "text/plain": [
       "<Figure size 432x288 with 1 Axes>"
      ]
     },
     "metadata": {
      "needs_background": "light"
     },
     "output_type": "display_data"
    }
   ],
   "source": [
    "sns.distplot(boxcox1p(alldata.ordered_units, 0.21), fit=stats.norm)"
   ]
  },
  {
   "cell_type": "markdown",
   "id": "b6f8616d-c4ed-45c2-ade3-c8147bbc9e09",
   "metadata": {},
   "source": [
    "## 数据预处理"
   ]
  },
  {
   "cell_type": "markdown",
   "id": "f33d9ffc-ad44-4c9a-8409-3004615fbaba",
   "metadata": {},
   "source": [
    "### 异常值，删除小于等于0的数值和离群点"
   ]
  },
  {
   "cell_type": "code",
   "execution_count": 15,
   "id": "5b8650ff-e9bc-499a-9f58-06c1f624bc3b",
   "metadata": {},
   "outputs": [
    {
     "data": {
      "text/plain": [
       "Int64Index([13872, 13839, 13809, 13778, 10365, 10327, 10290, 10255, 10220,\n",
       "            5849],\n",
       "           dtype='int64')"
      ]
     },
     "execution_count": 15,
     "metadata": {},
     "output_type": "execute_result"
    }
   ],
   "source": [
    "alldata[alldata.ordered_units <= 0].index"
   ]
  },
  {
   "cell_type": "code",
   "execution_count": 16,
   "id": "6ad7f835-580d-4e82-995c-ecbfa1f2ca2d",
   "metadata": {},
   "outputs": [],
   "source": [
    "alldata.drop(alldata[alldata.ordered_units <= 0].index, inplace=True)"
   ]
  },
  {
   "cell_type": "code",
   "execution_count": 17,
   "id": "acc2edf9-eeef-42bf-8973-708a5385c24f",
   "metadata": {
    "tags": []
   },
   "outputs": [
    {
     "data": {
      "text/plain": [
       "<AxesSubplot:xlabel='ordered_units'>"
      ]
     },
     "execution_count": 17,
     "metadata": {},
     "output_type": "execute_result"
    },
    {
     "data": {
      "image/png": "[encoded data removed]",
      "text/plain": [
       "<Figure size 432x288 with 1 Axes>"
      ]
     },
     "metadata": {
      "needs_background": "light"
     },
     "output_type": "display_data"
    }
   ],
   "source": [
    "sns.boxplot(alldata.ordered_units)"
   ]
  },
  {
   "cell_type": "code",
   "execution_count": 18,
   "id": "352e29d5-97ac-4e2b-8934-3b84352eca5b",
   "metadata": {},
   "outputs": [
    {
     "data": {
      "text/plain": [
       "Int64Index([15966, 3924, 1824, 1680, 1437, 1387, 25152], dtype='int64')"
      ]
     },
     "execution_count": 18,
     "metadata": {},
     "output_type": "execute_result"
    }
   ],
   "source": [
    "alldata[alldata.ordered_units > 5000].index"
   ]
  },
  {
   "cell_type": "code",
   "execution_count": 19,
   "id": "c0afff07-277a-4dad-a31d-d68a95038a15",
   "metadata": {},
   "outputs": [],
   "source": [
    "alldata.drop(alldata[alldata.ordered_units > 5000].index, inplace=True)"
   ]
  },
  {
   "cell_type": "code",
   "execution_count": 20,
   "id": "812c61fd-d731-4c15-9818-9c18b4091107",
   "metadata": {},
   "outputs": [
    {
     "data": {
      "text/plain": [
       "(609, 2)"
      ]
     },
     "execution_count": 20,
     "metadata": {},
     "output_type": "execute_result"
    }
   ],
   "source": [
    "alldata.shape"
   ]
  },
  {
   "cell_type": "markdown",
   "id": "9b402ed9-0a79-4124-9105-adc4d2bfc621",
   "metadata": {},
   "source": [
    "### 设置样本权重"
   ]
  },
  {
   "cell_type": "code",
   "execution_count": 21,
   "id": "f44e85c2-44a2-4369-87e5-f1b8f30f6eaf",
   "metadata": {},
   "outputs": [],
   "source": [
    "alldata['weight'] = alldata.data_date.apply(lambda x: (\n",
    "    x - pd.to_datetime('2019-12-02')).days)"
   ]
  },
  {
   "cell_type": "code",
   "execution_count": 22,
   "id": "addba760-c1c1-49ac-9d56-604b63c2a744",
   "metadata": {},
   "outputs": [
    {
     "data": {
      "text/html": [
       "<div>\n",
       "<style scoped>\n",
       "    .dataframe tbody tr th:only-of-type {\n",
       "        vertical-align: middle;\n",
       "    }\n",
       "\n",
       "    .dataframe tbody tr th {\n",
       "        vertical-align: top;\n",
       "    }\n",
       "\n",
       "    .dataframe thead th {\n",
       "        text-align: right;\n",
       "    }\n",
       "</style>\n",
       "<table border=\"1\" class=\"dataframe\">\n",
       "  <thead>\n",
       "    <tr style=\"text-align: right;\">\n",
       "      <th></th>\n",
       "      <th>data_date</th>\n",
       "      <th>ordered_units</th>\n",
       "      <th>weight</th>\n",
       "    </tr>\n",
       "  </thead>\n",
       "  <tbody>\n",
       "    <tr>\n",
       "      <th>15931</th>\n",
       "      <td>2019-12-03</td>\n",
       "      <td>1353</td>\n",
       "      <td>1</td>\n",
       "    </tr>\n",
       "  </tbody>\n",
       "</table>\n",
       "</div>"
      ],
      "text/plain": [
       "       data_date  ordered_units  weight\n",
       "15931 2019-12-03           1353       1"
      ]
     },
     "execution_count": 22,
     "metadata": {},
     "output_type": "execute_result"
    }
   ],
   "source": [
    "alldata.head(1)"
   ]
  },
  {
   "cell_type": "markdown",
   "id": "7760e0c0-69df-453b-a770-ffe63b16d73e",
   "metadata": {},
   "source": [
    "### 缺失值"
   ]
  },
  {
   "cell_type": "code",
   "execution_count": 23,
   "id": "c8d0af97-d65f-4a7a-b103-bc85154e7930",
   "metadata": {},
   "outputs": [
    {
     "data": {
      "text/plain": [
       "data_date        0\n",
       "ordered_units    0\n",
       "weight           0\n",
       "dtype: int64"
      ]
     },
     "execution_count": 23,
     "metadata": {},
     "output_type": "execute_result"
    }
   ],
   "source": [
    "alldata.isnull().sum()"
   ]
  },
  {
   "cell_type": "markdown",
   "id": "de005c50-1832-458f-89d9-17c41a7d01b5",
   "metadata": {},
   "source": [
    "无缺失值不用处理"
   ]
  },
  {
   "cell_type": "markdown",
   "id": "1145eda8-a6d2-4b3a-98f0-4d48d9e15384",
   "metadata": {},
   "source": [
    "### 创造特征"
   ]
  },
  {
   "cell_type": "code",
   "execution_count": 24,
   "id": "da1ad1d7-93fe-4028-b470-d3b0faa4ee2b",
   "metadata": {},
   "outputs": [],
   "source": [
    "def create_feature(df):\n",
    "    df['year'] = df.data_date.dt.year\n",
    "    df['month'] = df.data_date.dt.month\n",
    "    df['day'] = df.data_date.dt.day\n",
    "    df['weekday'] = df.data_date.dt.weekday  # 周几\n",
    "    df['quarter'] = df.data_date.dt.quarter  # 季度\n",
    "    df['weekofyear'] = df.data_date.dt.weekofyear\n",
    "\n",
    "    df.drop('data_date', axis=1, inplace=True)\n",
    "    return df"
   ]
  },
  {
   "cell_type": "code",
   "execution_count": 25,
   "id": "96a34693-43cf-4ebd-a38d-00d3e59531b2",
   "metadata": {},
   "outputs": [],
   "source": [
    "alldata = create_feature(alldata)"
   ]
  },
  {
   "cell_type": "code",
   "execution_count": 26,
   "id": "ba3c67ee-d208-46fa-8a3b-ba8f033eb54d",
   "metadata": {},
   "outputs": [
    {
     "data": {
      "text/html": [
       "<div>\n",
       "<style scoped>\n",
       "    .dataframe tbody tr th:only-of-type {\n",
       "        vertical-align: middle;\n",
       "    }\n",
       "\n",
       "    .dataframe tbody tr th {\n",
       "        vertical-align: top;\n",
       "    }\n",
       "\n",
       "    .dataframe thead th {\n",
       "        text-align: right;\n",
       "    }\n",
       "</style>\n",
       "<table border=\"1\" class=\"dataframe\">\n",
       "  <thead>\n",
       "    <tr style=\"text-align: right;\">\n",
       "      <th></th>\n",
       "      <th>ordered_units</th>\n",
       "      <th>weight</th>\n",
       "      <th>year</th>\n",
       "      <th>month</th>\n",
       "      <th>day</th>\n",
       "      <th>weekday</th>\n",
       "      <th>quarter</th>\n",
       "      <th>weekofyear</th>\n",
       "    </tr>\n",
       "  </thead>\n",
       "  <tbody>\n",
       "    <tr>\n",
       "      <th>15931</th>\n",
       "      <td>1353</td>\n",
       "      <td>1</td>\n",
       "      <td>2019</td>\n",
       "      <td>12</td>\n",
       "      <td>3</td>\n",
       "      <td>1</td>\n",
       "      <td>4</td>\n",
       "      <td>49</td>\n",
       "    </tr>\n",
       "    <tr>\n",
       "      <th>15897</th>\n",
       "      <td>1369</td>\n",
       "      <td>2</td>\n",
       "      <td>2019</td>\n",
       "      <td>12</td>\n",
       "      <td>4</td>\n",
       "      <td>2</td>\n",
       "      <td>4</td>\n",
       "      <td>49</td>\n",
       "    </tr>\n",
       "    <tr>\n",
       "      <th>15864</th>\n",
       "      <td>1282</td>\n",
       "      <td>3</td>\n",
       "      <td>2019</td>\n",
       "      <td>12</td>\n",
       "      <td>5</td>\n",
       "      <td>3</td>\n",
       "      <td>4</td>\n",
       "      <td>49</td>\n",
       "    </tr>\n",
       "  </tbody>\n",
       "</table>\n",
       "</div>"
      ],
      "text/plain": [
       "       ordered_units  weight  year  month  day  weekday  quarter  weekofyear\n",
       "15931           1353       1  2019     12    3        1        4          49\n",
       "15897           1369       2  2019     12    4        2        4          49\n",
       "15864           1282       3  2019     12    5        3        4          49"
      ]
     },
     "execution_count": 26,
     "metadata": {},
     "output_type": "execute_result"
    }
   ],
   "source": [
    "alldata.head(3)"
   ]
  },
  {
   "cell_type": "code",
   "execution_count": 40,
   "id": "79f58828-3de5-42b8-8b2a-a6e671e14d86",
   "metadata": {},
   "outputs": [],
   "source": [
    "x = alldata.drop('ordered_units', axis=1)\n",
    "y = alldata['ordered_units']\n",
    "x_train, x_test, y_train, y_test = train_test_split(\n",
    "    x, y, test_size=0.1)"
   ]
  },
  {
   "cell_type": "code",
   "execution_count": 41,
   "id": "c92a23e5-cf4b-48aa-9b4b-5a7985b58984",
   "metadata": {},
   "outputs": [
    {
     "data": {
      "text/html": [
       "<div>\n",
       "<style scoped>\n",
       "    .dataframe tbody tr th:only-of-type {\n",
       "        vertical-align: middle;\n",
       "    }\n",
       "\n",
       "    .dataframe tbody tr th {\n",
       "        vertical-align: top;\n",
       "    }\n",
       "\n",
       "    .dataframe thead th {\n",
       "        text-align: right;\n",
       "    }\n",
       "</style>\n",
       "<table border=\"1\" class=\"dataframe\">\n",
       "  <thead>\n",
       "    <tr style=\"text-align: right;\">\n",
       "      <th></th>\n",
       "      <th>weight</th>\n",
       "      <th>year</th>\n",
       "      <th>month</th>\n",
       "      <th>day</th>\n",
       "      <th>weekday</th>\n",
       "      <th>quarter</th>\n",
       "      <th>weekofyear</th>\n",
       "    </tr>\n",
       "  </thead>\n",
       "  <tbody>\n",
       "    <tr>\n",
       "      <th>786</th>\n",
       "      <td>382</td>\n",
       "      <td>2020</td>\n",
       "      <td>12</td>\n",
       "      <td>18</td>\n",
       "      <td>4</td>\n",
       "      <td>4</td>\n",
       "      <td>51</td>\n",
       "    </tr>\n",
       "    <tr>\n",
       "      <th>3510</th>\n",
       "      <td>325</td>\n",
       "      <td>2020</td>\n",
       "      <td>10</td>\n",
       "      <td>22</td>\n",
       "      <td>3</td>\n",
       "      <td>4</td>\n",
       "      <td>43</td>\n",
       "    </tr>\n",
       "    <tr>\n",
       "      <th>25965</th>\n",
       "      <td>581</td>\n",
       "      <td>2021</td>\n",
       "      <td>7</td>\n",
       "      <td>5</td>\n",
       "      <td>0</td>\n",
       "      <td>3</td>\n",
       "      <td>27</td>\n",
       "    </tr>\n",
       "    <tr>\n",
       "      <th>13487</th>\n",
       "      <td>72</td>\n",
       "      <td>2020</td>\n",
       "      <td>2</td>\n",
       "      <td>12</td>\n",
       "      <td>2</td>\n",
       "      <td>1</td>\n",
       "      <td>7</td>\n",
       "    </tr>\n",
       "    <tr>\n",
       "      <th>8395</th>\n",
       "      <td>208</td>\n",
       "      <td>2020</td>\n",
       "      <td>6</td>\n",
       "      <td>27</td>\n",
       "      <td>5</td>\n",
       "      <td>2</td>\n",
       "      <td>26</td>\n",
       "    </tr>\n",
       "    <tr>\n",
       "      <th>...</th>\n",
       "      <td>...</td>\n",
       "      <td>...</td>\n",
       "      <td>...</td>\n",
       "      <td>...</td>\n",
       "      <td>...</td>\n",
       "      <td>...</td>\n",
       "      <td>...</td>\n",
       "    </tr>\n",
       "    <tr>\n",
       "      <th>1038</th>\n",
       "      <td>377</td>\n",
       "      <td>2020</td>\n",
       "      <td>12</td>\n",
       "      <td>13</td>\n",
       "      <td>6</td>\n",
       "      <td>4</td>\n",
       "      <td>50</td>\n",
       "    </tr>\n",
       "    <tr>\n",
       "      <th>26083</th>\n",
       "      <td>583</td>\n",
       "      <td>2021</td>\n",
       "      <td>7</td>\n",
       "      <td>7</td>\n",
       "      <td>2</td>\n",
       "      <td>3</td>\n",
       "      <td>27</td>\n",
       "    </tr>\n",
       "    <tr>\n",
       "      <th>4608</th>\n",
       "      <td>301</td>\n",
       "      <td>2020</td>\n",
       "      <td>9</td>\n",
       "      <td>28</td>\n",
       "      <td>0</td>\n",
       "      <td>3</td>\n",
       "      <td>40</td>\n",
       "    </tr>\n",
       "    <tr>\n",
       "      <th>28842</th>\n",
       "      <td>629</td>\n",
       "      <td>2021</td>\n",
       "      <td>8</td>\n",
       "      <td>22</td>\n",
       "      <td>6</td>\n",
       "      <td>3</td>\n",
       "      <td>33</td>\n",
       "    </tr>\n",
       "    <tr>\n",
       "      <th>18886</th>\n",
       "      <td>459</td>\n",
       "      <td>2021</td>\n",
       "      <td>3</td>\n",
       "      <td>5</td>\n",
       "      <td>4</td>\n",
       "      <td>1</td>\n",
       "      <td>9</td>\n",
       "    </tr>\n",
       "  </tbody>\n",
       "</table>\n",
       "<p>548 rows × 7 columns</p>\n",
       "</div>"
      ],
      "text/plain": [
       "       weight  year  month  day  weekday  quarter  weekofyear\n",
       "786       382  2020     12   18        4        4          51\n",
       "3510      325  2020     10   22        3        4          43\n",
       "25965     581  2021      7    5        0        3          27\n",
       "13487      72  2020      2   12        2        1           7\n",
       "8395      208  2020      6   27        5        2          26\n",
       "...       ...   ...    ...  ...      ...      ...         ...\n",
       "1038      377  2020     12   13        6        4          50\n",
       "26083     583  2021      7    7        2        3          27\n",
       "4608      301  2020      9   28        0        3          40\n",
       "28842     629  2021      8   22        6        3          33\n",
       "18886     459  2021      3    5        4        1           9\n",
       "\n",
       "[548 rows x 7 columns]"
      ]
     },
     "execution_count": 41,
     "metadata": {},
     "output_type": "execute_result"
    }
   ],
   "source": [
    "x_train"
   ]
  },
  {
   "cell_type": "markdown",
   "id": "fadb456c-69e7-4faa-a107-faf5f2bd1993",
   "metadata": {},
   "source": [
    "### 编码"
   ]
  },
  {
   "cell_type": "code",
   "execution_count": 44,
   "id": "39c75cd8-a009-4cf5-8a8d-144b152e084c",
   "metadata": {},
   "outputs": [
    {
     "data": {
      "text/html": [
       "<div>\n",
       "<style scoped>\n",
       "    .dataframe tbody tr th:only-of-type {\n",
       "        vertical-align: middle;\n",
       "    }\n",
       "\n",
       "    .dataframe tbody tr th {\n",
       "        vertical-align: top;\n",
       "    }\n",
       "\n",
       "    .dataframe thead th {\n",
       "        text-align: right;\n",
       "    }\n",
       "</style>\n",
       "<table border=\"1\" class=\"dataframe\">\n",
       "  <thead>\n",
       "    <tr style=\"text-align: right;\">\n",
       "      <th></th>\n",
       "      <th>weight</th>\n",
       "      <th>year</th>\n",
       "      <th>month</th>\n",
       "      <th>day</th>\n",
       "      <th>weekday</th>\n",
       "      <th>quarter</th>\n",
       "      <th>weekofyear</th>\n",
       "    </tr>\n",
       "  </thead>\n",
       "  <tbody>\n",
       "    <tr>\n",
       "      <th>786</th>\n",
       "      <td>382</td>\n",
       "      <td>2020</td>\n",
       "      <td>12</td>\n",
       "      <td>18</td>\n",
       "      <td>4</td>\n",
       "      <td>4</td>\n",
       "      <td>51</td>\n",
       "    </tr>\n",
       "    <tr>\n",
       "      <th>3510</th>\n",
       "      <td>325</td>\n",
       "      <td>2020</td>\n",
       "      <td>10</td>\n",
       "      <td>22</td>\n",
       "      <td>3</td>\n",
       "      <td>4</td>\n",
       "      <td>43</td>\n",
       "    </tr>\n",
       "  </tbody>\n",
       "</table>\n",
       "</div>"
      ],
      "text/plain": [
       "      weight  year  month  day  weekday  quarter  weekofyear\n",
       "786      382  2020     12   18        4        4          51\n",
       "3510     325  2020     10   22        3        4          43"
      ]
     },
     "execution_count": 44,
     "metadata": {},
     "output_type": "execute_result"
    }
   ],
   "source": [
    "x_train.head(2)"
   ]
  },
  {
   "cell_type": "code",
   "execution_count": 45,
   "id": "20299f7b-5858-4b8b-bc71-543eae38dc4b",
   "metadata": {},
   "outputs": [
    {
     "data": {
      "text/plain": [
       "((548, 658), (61, 658))"
      ]
     },
     "execution_count": 45,
     "metadata": {},
     "output_type": "execute_result"
    }
   ],
   "source": [
    "encoder = OneHotEncoder(sparse=False, handle_unknown='ignore')\n",
    "x_train = encoder.fit_transform(x_train)\n",
    "x_test = encoder.transform(x_test)\n",
    "x_train.shape, x_test.shape"
   ]
  },
  {
   "cell_type": "markdown",
   "id": "6006a595-bcb9-4e71-9770-8d1295c21928",
   "metadata": {},
   "source": [
    "## 评判标准"
   ]
  },
  {
   "cell_type": "code",
   "execution_count": 30,
   "id": "400c6c26-6cd7-485b-ad00-1f91a9cfb6d8",
   "metadata": {},
   "outputs": [],
   "source": [
    "def metrics1(y_true, y_pred):\n",
    "    return 1 - (abs(y_true.sum() - y_pred.sum()) / y_true.sum())\n",
    "\n",
    "def metrics2(y_true, y_pred):\n",
    "    return 1 - (abs(y_true - y_pred) / y_true).mean()"
   ]
  },
  {
   "cell_type": "markdown",
   "id": "0b25cf6f-0109-4077-9e7f-108d80e33729",
   "metadata": {},
   "source": [
    "## 训练"
   ]
  },
  {
   "cell_type": "markdown",
   "id": "167490ec-f77f-4b52-bca1-35e268b3d722",
   "metadata": {},
   "source": [
    "### sklearn api"
   ]
  },
  {
   "cell_type": "code",
   "execution_count": 46,
   "id": "0e8d3478-5ed1-4afc-a713-318b6f015ef1",
   "metadata": {
    "tags": []
   },
   "outputs": [
    {
     "ename": "TypeError",
     "evalue": "Expected sequence or array-like, got <class 'xgboost.core.DMatrix'>",
     "output_type": "error",
     "traceback": [
      "\u001b[1;31m---------------------------------------------------------------------------\u001b[0m",
      "\u001b[1;31mTypeError\u001b[0m                                 Traceback (most recent call last)",
      "\u001b[1;32m<ipython-input-46-baf8e3ef1389>\u001b[0m in \u001b[0;36m<module>\u001b[1;34m\u001b[0m\n\u001b[0;32m     10\u001b[0m \u001b[1;33m\u001b[0m\u001b[0m\n\u001b[0;32m     11\u001b[0m xgbr.fit(x_train, y_train, eval_set=[(x_train, y_train), (x_test, y_test)], eval_metric=r2_score,\n\u001b[1;32m---> 12\u001b[1;33m          early_stopping_rounds=20, verbose=True)\n\u001b[0m",
      "\u001b[1;32mE:\\anaconda\\lib\\site-packages\\xgboost\\core.py\u001b[0m in \u001b[0;36minner_f\u001b[1;34m(*args, **kwargs)\u001b[0m\n\u001b[0;32m    434\u001b[0m         \u001b[1;32mfor\u001b[0m \u001b[0mk\u001b[0m\u001b[1;33m,\u001b[0m \u001b[0marg\u001b[0m \u001b[1;32min\u001b[0m \u001b[0mzip\u001b[0m\u001b[1;33m(\u001b[0m\u001b[0msig\u001b[0m\u001b[1;33m.\u001b[0m\u001b[0mparameters\u001b[0m\u001b[1;33m,\u001b[0m \u001b[0margs\u001b[0m\u001b[1;33m)\u001b[0m\u001b[1;33m:\u001b[0m\u001b[1;33m\u001b[0m\u001b[0m\n\u001b[0;32m    435\u001b[0m             \u001b[0mkwargs\u001b[0m\u001b[1;33m[\u001b[0m\u001b[0mk\u001b[0m\u001b[1;33m]\u001b[0m \u001b[1;33m=\u001b[0m \u001b[0marg\u001b[0m\u001b[1;33m\u001b[0m\u001b[0m\n\u001b[1;32m--> 436\u001b[1;33m         \u001b[1;32mreturn\u001b[0m \u001b[0mf\u001b[0m\u001b[1;33m(\u001b[0m\u001b[1;33m**\u001b[0m\u001b[0mkwargs\u001b[0m\u001b[1;33m)\u001b[0m\u001b[1;33m\u001b[0m\u001b[0m\n\u001b[0m\u001b[0;32m    437\u001b[0m \u001b[1;33m\u001b[0m\u001b[0m\n\u001b[0;32m    438\u001b[0m     \u001b[1;32mreturn\u001b[0m \u001b[0minner_f\u001b[0m\u001b[1;33m\u001b[0m\u001b[0m\n",
      "\u001b[1;32mE:\\anaconda\\lib\\site-packages\\xgboost\\sklearn.py\u001b[0m in \u001b[0;36mfit\u001b[1;34m(self, X, y, sample_weight, base_margin, eval_set, eval_metric, early_stopping_rounds, verbose, xgb_model, sample_weight_eval_set, base_margin_eval_set, feature_weights, callbacks)\u001b[0m\n\u001b[0;32m    745\u001b[0m             \u001b[0mverbose_eval\u001b[0m\u001b[1;33m=\u001b[0m\u001b[0mverbose\u001b[0m\u001b[1;33m,\u001b[0m\u001b[1;33m\u001b[0m\u001b[0m\n\u001b[0;32m    746\u001b[0m             \u001b[0mxgb_model\u001b[0m\u001b[1;33m=\u001b[0m\u001b[0mmodel\u001b[0m\u001b[1;33m,\u001b[0m\u001b[1;33m\u001b[0m\u001b[0m\n\u001b[1;32m--> 747\u001b[1;33m             \u001b[0mcallbacks\u001b[0m\u001b[1;33m=\u001b[0m\u001b[0mcallbacks\u001b[0m\u001b[1;33m,\u001b[0m\u001b[1;33m\u001b[0m\u001b[0m\n\u001b[0m\u001b[0;32m    748\u001b[0m         )\n\u001b[0;32m    749\u001b[0m \u001b[1;33m\u001b[0m\u001b[0m\n",
      "\u001b[1;32mE:\\anaconda\\lib\\site-packages\\xgboost\\training.py\u001b[0m in \u001b[0;36mtrain\u001b[1;34m(params, dtrain, num_boost_round, evals, obj, feval, maximize, early_stopping_rounds, evals_result, verbose_eval, xgb_model, callbacks)\u001b[0m\n\u001b[0;32m    195\u001b[0m                           \u001b[0mevals_result\u001b[0m\u001b[1;33m=\u001b[0m\u001b[0mevals_result\u001b[0m\u001b[1;33m,\u001b[0m\u001b[1;33m\u001b[0m\u001b[0m\n\u001b[0;32m    196\u001b[0m                           \u001b[0mmaximize\u001b[0m\u001b[1;33m=\u001b[0m\u001b[0mmaximize\u001b[0m\u001b[1;33m,\u001b[0m\u001b[1;33m\u001b[0m\u001b[0m\n\u001b[1;32m--> 197\u001b[1;33m                           early_stopping_rounds=early_stopping_rounds)\n\u001b[0m\u001b[0;32m    198\u001b[0m     \u001b[1;32mreturn\u001b[0m \u001b[0mbst\u001b[0m\u001b[1;33m\u001b[0m\u001b[0m\n\u001b[0;32m    199\u001b[0m \u001b[1;33m\u001b[0m\u001b[0m\n",
      "\u001b[1;32mE:\\anaconda\\lib\\site-packages\\xgboost\\training.py\u001b[0m in \u001b[0;36m_train_internal\u001b[1;34m(params, dtrain, num_boost_round, evals, obj, feval, xgb_model, callbacks, evals_result, maximize, verbose_eval, early_stopping_rounds)\u001b[0m\n\u001b[0;32m     80\u001b[0m             \u001b[1;32mbreak\u001b[0m\u001b[1;33m\u001b[0m\u001b[0m\n\u001b[0;32m     81\u001b[0m         \u001b[0mbst\u001b[0m\u001b[1;33m.\u001b[0m\u001b[0mupdate\u001b[0m\u001b[1;33m(\u001b[0m\u001b[0mdtrain\u001b[0m\u001b[1;33m,\u001b[0m \u001b[0mi\u001b[0m\u001b[1;33m,\u001b[0m \u001b[0mobj\u001b[0m\u001b[1;33m)\u001b[0m\u001b[1;33m\u001b[0m\u001b[0m\n\u001b[1;32m---> 82\u001b[1;33m         \u001b[1;32mif\u001b[0m \u001b[0mcallbacks\u001b[0m\u001b[1;33m.\u001b[0m\u001b[0mafter_iteration\u001b[0m\u001b[1;33m(\u001b[0m\u001b[0mbst\u001b[0m\u001b[1;33m,\u001b[0m \u001b[0mi\u001b[0m\u001b[1;33m,\u001b[0m \u001b[0mdtrain\u001b[0m\u001b[1;33m,\u001b[0m \u001b[0mevals\u001b[0m\u001b[1;33m)\u001b[0m\u001b[1;33m:\u001b[0m\u001b[1;33m\u001b[0m\u001b[0m\n\u001b[0m\u001b[0;32m     83\u001b[0m             \u001b[1;32mbreak\u001b[0m\u001b[1;33m\u001b[0m\u001b[0m\n\u001b[0;32m     84\u001b[0m \u001b[1;33m\u001b[0m\u001b[0m\n",
      "\u001b[1;32mE:\\anaconda\\lib\\site-packages\\xgboost\\callback.py\u001b[0m in \u001b[0;36mafter_iteration\u001b[1;34m(self, model, epoch, dtrain, evals)\u001b[0m\n\u001b[0;32m    430\u001b[0m             \u001b[1;32mfor\u001b[0m \u001b[0m_\u001b[0m\u001b[1;33m,\u001b[0m \u001b[0mname\u001b[0m \u001b[1;32min\u001b[0m \u001b[0mevals\u001b[0m\u001b[1;33m:\u001b[0m\u001b[1;33m\u001b[0m\u001b[0m\n\u001b[0;32m    431\u001b[0m                 \u001b[1;32massert\u001b[0m \u001b[0mname\u001b[0m\u001b[1;33m.\u001b[0m\u001b[0mfind\u001b[0m\u001b[1;33m(\u001b[0m\u001b[1;34m'-'\u001b[0m\u001b[1;33m)\u001b[0m \u001b[1;33m==\u001b[0m \u001b[1;33m-\u001b[0m\u001b[1;36m1\u001b[0m\u001b[1;33m,\u001b[0m \u001b[1;34m'Dataset name should not contain `-`'\u001b[0m\u001b[1;33m\u001b[0m\u001b[0m\n\u001b[1;32m--> 432\u001b[1;33m             \u001b[0mscore\u001b[0m \u001b[1;33m=\u001b[0m \u001b[0mmodel\u001b[0m\u001b[1;33m.\u001b[0m\u001b[0meval_set\u001b[0m\u001b[1;33m(\u001b[0m\u001b[0mevals\u001b[0m\u001b[1;33m,\u001b[0m \u001b[0mepoch\u001b[0m\u001b[1;33m,\u001b[0m \u001b[0mself\u001b[0m\u001b[1;33m.\u001b[0m\u001b[0mmetric\u001b[0m\u001b[1;33m)\u001b[0m\u001b[1;33m\u001b[0m\u001b[0m\n\u001b[0m\u001b[0;32m    433\u001b[0m             \u001b[0mscore\u001b[0m \u001b[1;33m=\u001b[0m \u001b[0mscore\u001b[0m\u001b[1;33m.\u001b[0m\u001b[0msplit\u001b[0m\u001b[1;33m(\u001b[0m\u001b[1;33m)\u001b[0m\u001b[1;33m[\u001b[0m\u001b[1;36m1\u001b[0m\u001b[1;33m:\u001b[0m\u001b[1;33m]\u001b[0m  \u001b[1;31m# into datasets\u001b[0m\u001b[1;33m\u001b[0m\u001b[0m\n\u001b[0;32m    434\u001b[0m             \u001b[1;31m# split up `test-error:0.1234`\u001b[0m\u001b[1;33m\u001b[0m\u001b[1;33m\u001b[0m\u001b[0m\n",
      "\u001b[1;32mE:\\anaconda\\lib\\site-packages\\xgboost\\core.py\u001b[0m in \u001b[0;36meval_set\u001b[1;34m(self, evals, iteration, feval)\u001b[0m\n\u001b[0;32m   1572\u001b[0m             \u001b[1;32mfor\u001b[0m \u001b[0mdmat\u001b[0m\u001b[1;33m,\u001b[0m \u001b[0mevname\u001b[0m \u001b[1;32min\u001b[0m \u001b[0mevals\u001b[0m\u001b[1;33m:\u001b[0m\u001b[1;33m\u001b[0m\u001b[0m\n\u001b[0;32m   1573\u001b[0m                 feval_ret = feval(self.predict(dmat, training=False,\n\u001b[1;32m-> 1574\u001b[1;33m                                                output_margin=True), dmat)\n\u001b[0m\u001b[0;32m   1575\u001b[0m                 \u001b[1;32mif\u001b[0m \u001b[0misinstance\u001b[0m\u001b[1;33m(\u001b[0m\u001b[0mfeval_ret\u001b[0m\u001b[1;33m,\u001b[0m \u001b[0mlist\u001b[0m\u001b[1;33m)\u001b[0m\u001b[1;33m:\u001b[0m\u001b[1;33m\u001b[0m\u001b[0m\n\u001b[0;32m   1576\u001b[0m                     \u001b[1;32mfor\u001b[0m \u001b[0mname\u001b[0m\u001b[1;33m,\u001b[0m \u001b[0mval\u001b[0m \u001b[1;32min\u001b[0m \u001b[0mfeval_ret\u001b[0m\u001b[1;33m:\u001b[0m\u001b[1;33m\u001b[0m\u001b[0m\n",
      "\u001b[1;32mE:\\anaconda\\lib\\site-packages\\sklearn\\utils\\validation.py\u001b[0m in \u001b[0;36minner_f\u001b[1;34m(*args, **kwargs)\u001b[0m\n\u001b[0;32m     61\u001b[0m             \u001b[0mextra_args\u001b[0m \u001b[1;33m=\u001b[0m \u001b[0mlen\u001b[0m\u001b[1;33m(\u001b[0m\u001b[0margs\u001b[0m\u001b[1;33m)\u001b[0m \u001b[1;33m-\u001b[0m \u001b[0mlen\u001b[0m\u001b[1;33m(\u001b[0m\u001b[0mall_args\u001b[0m\u001b[1;33m)\u001b[0m\u001b[1;33m\u001b[0m\u001b[0m\n\u001b[0;32m     62\u001b[0m             \u001b[1;32mif\u001b[0m \u001b[0mextra_args\u001b[0m \u001b[1;33m<=\u001b[0m \u001b[1;36m0\u001b[0m\u001b[1;33m:\u001b[0m\u001b[1;33m\u001b[0m\u001b[0m\n\u001b[1;32m---> 63\u001b[1;33m                 \u001b[1;32mreturn\u001b[0m \u001b[0mf\u001b[0m\u001b[1;33m(\u001b[0m\u001b[1;33m*\u001b[0m\u001b[0margs\u001b[0m\u001b[1;33m,\u001b[0m \u001b[1;33m**\u001b[0m\u001b[0mkwargs\u001b[0m\u001b[1;33m)\u001b[0m\u001b[1;33m\u001b[0m\u001b[0m\n\u001b[0m\u001b[0;32m     64\u001b[0m \u001b[1;33m\u001b[0m\u001b[0m\n\u001b[0;32m     65\u001b[0m             \u001b[1;31m# extra_args > 0\u001b[0m\u001b[1;33m\u001b[0m\u001b[1;33m\u001b[0m\u001b[0m\n",
      "\u001b[1;32mE:\\anaconda\\lib\\site-packages\\sklearn\\metrics\\_regression.py\u001b[0m in \u001b[0;36mr2_score\u001b[1;34m(y_true, y_pred, sample_weight, multioutput)\u001b[0m\n\u001b[0;32m    675\u001b[0m     \"\"\"\n\u001b[0;32m    676\u001b[0m     y_type, y_true, y_pred, multioutput = _check_reg_targets(\n\u001b[1;32m--> 677\u001b[1;33m         y_true, y_pred, multioutput)\n\u001b[0m\u001b[0;32m    678\u001b[0m     \u001b[0mcheck_consistent_length\u001b[0m\u001b[1;33m(\u001b[0m\u001b[0my_true\u001b[0m\u001b[1;33m,\u001b[0m \u001b[0my_pred\u001b[0m\u001b[1;33m,\u001b[0m \u001b[0msample_weight\u001b[0m\u001b[1;33m)\u001b[0m\u001b[1;33m\u001b[0m\u001b[0m\n\u001b[0;32m    679\u001b[0m \u001b[1;33m\u001b[0m\u001b[0m\n",
      "\u001b[1;32mE:\\anaconda\\lib\\site-packages\\sklearn\\metrics\\_regression.py\u001b[0m in \u001b[0;36m_check_reg_targets\u001b[1;34m(y_true, y_pred, multioutput, dtype)\u001b[0m\n\u001b[0;32m     86\u001b[0m         \u001b[0mthe\u001b[0m \u001b[0mdtype\u001b[0m \u001b[0margument\u001b[0m \u001b[0mpassed\u001b[0m \u001b[0mto\u001b[0m \u001b[0mcheck_array\u001b[0m\u001b[1;33m.\u001b[0m\u001b[1;33m\u001b[0m\u001b[0m\n\u001b[0;32m     87\u001b[0m     \"\"\"\n\u001b[1;32m---> 88\u001b[1;33m     \u001b[0mcheck_consistent_length\u001b[0m\u001b[1;33m(\u001b[0m\u001b[0my_true\u001b[0m\u001b[1;33m,\u001b[0m \u001b[0my_pred\u001b[0m\u001b[1;33m)\u001b[0m\u001b[1;33m\u001b[0m\u001b[0m\n\u001b[0m\u001b[0;32m     89\u001b[0m     \u001b[0my_true\u001b[0m \u001b[1;33m=\u001b[0m \u001b[0mcheck_array\u001b[0m\u001b[1;33m(\u001b[0m\u001b[0my_true\u001b[0m\u001b[1;33m,\u001b[0m \u001b[0mensure_2d\u001b[0m\u001b[1;33m=\u001b[0m\u001b[1;32mFalse\u001b[0m\u001b[1;33m,\u001b[0m \u001b[0mdtype\u001b[0m\u001b[1;33m=\u001b[0m\u001b[0mdtype\u001b[0m\u001b[1;33m)\u001b[0m\u001b[1;33m\u001b[0m\u001b[0m\n\u001b[0;32m     90\u001b[0m     \u001b[0my_pred\u001b[0m \u001b[1;33m=\u001b[0m \u001b[0mcheck_array\u001b[0m\u001b[1;33m(\u001b[0m\u001b[0my_pred\u001b[0m\u001b[1;33m,\u001b[0m \u001b[0mensure_2d\u001b[0m\u001b[1;33m=\u001b[0m\u001b[1;32mFalse\u001b[0m\u001b[1;33m,\u001b[0m \u001b[0mdtype\u001b[0m\u001b[1;33m=\u001b[0m\u001b[0mdtype\u001b[0m\u001b[1;33m)\u001b[0m\u001b[1;33m\u001b[0m\u001b[0m\n",
      "\u001b[1;32mE:\\anaconda\\lib\\site-packages\\sklearn\\utils\\validation.py\u001b[0m in \u001b[0;36mcheck_consistent_length\u001b[1;34m(*arrays)\u001b[0m\n\u001b[0;32m    314\u001b[0m     \"\"\"\n\u001b[0;32m    315\u001b[0m \u001b[1;33m\u001b[0m\u001b[0m\n\u001b[1;32m--> 316\u001b[1;33m     \u001b[0mlengths\u001b[0m \u001b[1;33m=\u001b[0m \u001b[1;33m[\u001b[0m\u001b[0m_num_samples\u001b[0m\u001b[1;33m(\u001b[0m\u001b[0mX\u001b[0m\u001b[1;33m)\u001b[0m \u001b[1;32mfor\u001b[0m \u001b[0mX\u001b[0m \u001b[1;32min\u001b[0m \u001b[0marrays\u001b[0m \u001b[1;32mif\u001b[0m \u001b[0mX\u001b[0m \u001b[1;32mis\u001b[0m \u001b[1;32mnot\u001b[0m \u001b[1;32mNone\u001b[0m\u001b[1;33m]\u001b[0m\u001b[1;33m\u001b[0m\u001b[0m\n\u001b[0m\u001b[0;32m    317\u001b[0m     \u001b[0muniques\u001b[0m \u001b[1;33m=\u001b[0m \u001b[0mnp\u001b[0m\u001b[1;33m.\u001b[0m\u001b[0munique\u001b[0m\u001b[1;33m(\u001b[0m\u001b[0mlengths\u001b[0m\u001b[1;33m)\u001b[0m\u001b[1;33m\u001b[0m\u001b[0m\n\u001b[0;32m    318\u001b[0m     \u001b[1;32mif\u001b[0m \u001b[0mlen\u001b[0m\u001b[1;33m(\u001b[0m\u001b[0muniques\u001b[0m\u001b[1;33m)\u001b[0m \u001b[1;33m>\u001b[0m \u001b[1;36m1\u001b[0m\u001b[1;33m:\u001b[0m\u001b[1;33m\u001b[0m\u001b[0m\n",
      "\u001b[1;32mE:\\anaconda\\lib\\site-packages\\sklearn\\utils\\validation.py\u001b[0m in \u001b[0;36m<listcomp>\u001b[1;34m(.0)\u001b[0m\n\u001b[0;32m    314\u001b[0m     \"\"\"\n\u001b[0;32m    315\u001b[0m \u001b[1;33m\u001b[0m\u001b[0m\n\u001b[1;32m--> 316\u001b[1;33m     \u001b[0mlengths\u001b[0m \u001b[1;33m=\u001b[0m \u001b[1;33m[\u001b[0m\u001b[0m_num_samples\u001b[0m\u001b[1;33m(\u001b[0m\u001b[0mX\u001b[0m\u001b[1;33m)\u001b[0m \u001b[1;32mfor\u001b[0m \u001b[0mX\u001b[0m \u001b[1;32min\u001b[0m \u001b[0marrays\u001b[0m \u001b[1;32mif\u001b[0m \u001b[0mX\u001b[0m \u001b[1;32mis\u001b[0m \u001b[1;32mnot\u001b[0m \u001b[1;32mNone\u001b[0m\u001b[1;33m]\u001b[0m\u001b[1;33m\u001b[0m\u001b[0m\n\u001b[0m\u001b[0;32m    317\u001b[0m     \u001b[0muniques\u001b[0m \u001b[1;33m=\u001b[0m \u001b[0mnp\u001b[0m\u001b[1;33m.\u001b[0m\u001b[0munique\u001b[0m\u001b[1;33m(\u001b[0m\u001b[0mlengths\u001b[0m\u001b[1;33m)\u001b[0m\u001b[1;33m\u001b[0m\u001b[0m\n\u001b[0;32m    318\u001b[0m     \u001b[1;32mif\u001b[0m \u001b[0mlen\u001b[0m\u001b[1;33m(\u001b[0m\u001b[0muniques\u001b[0m\u001b[1;33m)\u001b[0m \u001b[1;33m>\u001b[0m \u001b[1;36m1\u001b[0m\u001b[1;33m:\u001b[0m\u001b[1;33m\u001b[0m\u001b[0m\n",
      "\u001b[1;32mE:\\anaconda\\lib\\site-packages\\sklearn\\utils\\validation.py\u001b[0m in \u001b[0;36m_num_samples\u001b[1;34m(x)\u001b[0m\n\u001b[0;32m    253\u001b[0m             \u001b[0mx\u001b[0m \u001b[1;33m=\u001b[0m \u001b[0mnp\u001b[0m\u001b[1;33m.\u001b[0m\u001b[0masarray\u001b[0m\u001b[1;33m(\u001b[0m\u001b[0mx\u001b[0m\u001b[1;33m)\u001b[0m\u001b[1;33m\u001b[0m\u001b[0m\n\u001b[0;32m    254\u001b[0m         \u001b[1;32melse\u001b[0m\u001b[1;33m:\u001b[0m\u001b[1;33m\u001b[0m\u001b[0m\n\u001b[1;32m--> 255\u001b[1;33m             \u001b[1;32mraise\u001b[0m \u001b[0mTypeError\u001b[0m\u001b[1;33m(\u001b[0m\u001b[0mmessage\u001b[0m\u001b[1;33m)\u001b[0m\u001b[1;33m\u001b[0m\u001b[0m\n\u001b[0m\u001b[0;32m    256\u001b[0m \u001b[1;33m\u001b[0m\u001b[0m\n\u001b[0;32m    257\u001b[0m     \u001b[1;32mif\u001b[0m \u001b[0mhasattr\u001b[0m\u001b[1;33m(\u001b[0m\u001b[0mx\u001b[0m\u001b[1;33m,\u001b[0m \u001b[1;34m'shape'\u001b[0m\u001b[1;33m)\u001b[0m \u001b[1;32mand\u001b[0m \u001b[0mx\u001b[0m\u001b[1;33m.\u001b[0m\u001b[0mshape\u001b[0m \u001b[1;32mis\u001b[0m \u001b[1;32mnot\u001b[0m \u001b[1;32mNone\u001b[0m\u001b[1;33m:\u001b[0m\u001b[1;33m\u001b[0m\u001b[0m\n",
      "\u001b[1;31mTypeError\u001b[0m: Expected sequence or array-like, got <class 'xgboost.core.DMatrix'>"
     ]
    }
   ],
   "source": [
    "xgbr = XGBRegressor(n_estimators=200,\n",
    "                    learning_rate=0.35,\n",
    "                    max_depth=7,\n",
    "                    subsample=0.5,\n",
    "                    colsample_bytree=0.7,\n",
    "                    objective='reg:squarederror',\n",
    "                    base_score=0.5,\n",
    "                    gamma=0,\n",
    "                    n_jobs=8, verbosity=1)\n",
    "\n",
    "xgbr.fit(x_train, y_train, eval_set=[(x_train, y_train), (x_test, y_test)], eval_metric=r2_score,\n",
    "         early_stopping_rounds=20, verbose=True)"
   ]
  },
  {
   "cell_type": "code",
   "execution_count": null,
   "id": "eede13fb-f7de-4082-828c-563b6b20d160",
   "metadata": {},
   "outputs": [],
   "source": [
    "# 网格搜索\n",
    "# params_grid = {'learning_rate': np.arange(0, 1, 0.05)}\n",
    "\n",
    "# params_grid = {'max_depth': range(0, 8, 1)}\n",
    "\n",
    "# params_grid = {'subsample': np.arange(0, 1, 0.05)}\n",
    "params_grid = {'colsample_bytree': np.arange(0, 1, 0.05)}\n",
    "\n",
    "gridCV = GridSearchCV(xgbr, params_grid, cv=5, scoring='r2', n_jobs=8)\n",
    "\n",
    "ts = time()\n",
    "gridCV.fit(x_train, y_train)\n",
    "print(time() - ts)\n",
    "gridCV.best_params_, gridCV.best_score_"
   ]
  },
  {
   "cell_type": "code",
   "execution_count": null,
   "id": "8760765a-f182-4231-90bb-3ab0d43af422",
   "metadata": {},
   "outputs": [],
   "source": [
    "result = xgbr.evals_result()\n",
    "plt.plot(result['validation_0']['rmse'])\n",
    "plt.plot(result['validation_1']['rmse'])"
   ]
  },
  {
   "cell_type": "markdown",
   "id": "bb3ba10d-23b7-4765-b2f7-ffb93222c625",
   "metadata": {},
   "source": [
    "### xgboost api"
   ]
  },
  {
   "cell_type": "code",
   "execution_count": 38,
   "id": "4c6405e4-872c-47f3-8b98-7fe970c712b6",
   "metadata": {
    "collapsed": true,
    "jupyter": {
     "outputs_hidden": true
    },
    "tags": []
   },
   "outputs": [
    {
     "name": "stdout",
     "output_type": "stream",
     "text": [
      "[0]\ttest-rmse:787.05859\n",
      "[1]\ttest-rmse:605.59271\n",
      "[2]\ttest-rmse:535.71790\n",
      "[3]\ttest-rmse:504.41638\n",
      "[4]\ttest-rmse:451.57785\n",
      "[5]\ttest-rmse:416.67691\n",
      "[6]\ttest-rmse:368.91260\n",
      "[7]\ttest-rmse:337.75443\n",
      "[8]\ttest-rmse:336.24973\n",
      "[9]\ttest-rmse:334.07410\n",
      "[10]\ttest-rmse:320.31738\n",
      "[11]\ttest-rmse:320.45258\n",
      "[12]\ttest-rmse:305.20642\n",
      "[13]\ttest-rmse:285.16476\n",
      "[14]\ttest-rmse:286.65512\n",
      "[15]\ttest-rmse:284.19476\n",
      "[16]\ttest-rmse:284.05826\n",
      "[17]\ttest-rmse:283.70371\n",
      "[18]\ttest-rmse:279.53226\n",
      "[19]\ttest-rmse:281.19687\n",
      "[20]\ttest-rmse:277.47406\n",
      "[21]\ttest-rmse:278.99527\n",
      "[22]\ttest-rmse:273.31439\n",
      "[23]\ttest-rmse:263.51685\n",
      "[24]\ttest-rmse:261.43713\n",
      "[25]\ttest-rmse:255.99350\n",
      "[26]\ttest-rmse:256.36807\n",
      "[27]\ttest-rmse:255.47286\n",
      "[28]\ttest-rmse:254.09540\n",
      "[29]\ttest-rmse:256.87180\n",
      "[30]\ttest-rmse:258.02121\n",
      "[31]\ttest-rmse:252.14825\n",
      "[32]\ttest-rmse:259.23050\n",
      "[33]\ttest-rmse:261.94702\n",
      "[34]\ttest-rmse:259.51361\n",
      "[35]\ttest-rmse:260.83997\n",
      "[36]\ttest-rmse:257.71121\n",
      "[37]\ttest-rmse:259.52267\n",
      "[38]\ttest-rmse:266.07889\n",
      "[39]\ttest-rmse:259.49432\n",
      "[40]\ttest-rmse:259.80453\n",
      "[41]\ttest-rmse:260.76218\n",
      "[42]\ttest-rmse:260.21356\n",
      "[43]\ttest-rmse:252.00769\n",
      "[44]\ttest-rmse:250.13261\n",
      "[45]\ttest-rmse:252.78278\n",
      "[46]\ttest-rmse:250.78601\n",
      "[47]\ttest-rmse:253.06047\n",
      "[48]\ttest-rmse:252.72423\n",
      "[49]\ttest-rmse:254.15414\n",
      "[50]\ttest-rmse:254.56889\n",
      "[51]\ttest-rmse:257.14062\n",
      "[52]\ttest-rmse:255.93312\n",
      "[53]\ttest-rmse:254.03284\n",
      "[54]\ttest-rmse:252.11551\n",
      "[55]\ttest-rmse:250.71370\n",
      "[56]\ttest-rmse:249.98627\n",
      "[57]\ttest-rmse:249.21081\n",
      "[58]\ttest-rmse:249.09166\n",
      "[59]\ttest-rmse:249.54633\n",
      "[60]\ttest-rmse:249.08185\n",
      "[61]\ttest-rmse:247.98508\n",
      "[62]\ttest-rmse:246.80408\n",
      "[63]\ttest-rmse:248.27844\n",
      "[64]\ttest-rmse:247.30556\n",
      "[65]\ttest-rmse:246.65703\n",
      "[66]\ttest-rmse:244.42323\n",
      "[67]\ttest-rmse:241.21217\n",
      "[68]\ttest-rmse:238.19881\n",
      "[69]\ttest-rmse:242.58142\n",
      "[70]\ttest-rmse:244.56546\n",
      "[71]\ttest-rmse:244.74786\n",
      "[72]\ttest-rmse:246.17410\n",
      "[73]\ttest-rmse:246.11646\n",
      "[74]\ttest-rmse:247.32744\n",
      "[75]\ttest-rmse:246.04793\n",
      "[76]\ttest-rmse:243.21490\n",
      "[77]\ttest-rmse:243.78812\n",
      "[78]\ttest-rmse:247.25171\n",
      "[79]\ttest-rmse:251.47815\n",
      "[80]\ttest-rmse:252.76279\n",
      "[81]\ttest-rmse:251.71710\n",
      "[82]\ttest-rmse:251.40764\n",
      "[83]\ttest-rmse:252.60289\n",
      "[84]\ttest-rmse:251.46544\n",
      "[85]\ttest-rmse:252.78674\n",
      "[86]\ttest-rmse:253.49190\n",
      "[87]\ttest-rmse:251.10969\n"
     ]
    }
   ],
   "source": [
    "dtrain = xgb.DMatrix(x_train, y_train)\n",
    "dtest = xgb.DMatrix(x_test, y_test)\n",
    "\n",
    "params = {'eta': 0.3,\n",
    "          'objective': 'reg:squarederror',\n",
    "          'gamma': 0,\n",
    "          'max_depth': 5,\n",
    "          'subsample': 0.5,\n",
    "          'colsample_bytree': 1,\n",
    "          'base_score': 0.5,\n",
    "          'n_jobs': 8}\n",
    "\n",
    "a = {}  # 记录验证集结果\n",
    "model = xgb.train(params, dtrain, 300, early_stopping_rounds=20, evals=[\n",
    "                  (dtest, 'test')], evals_result=a, verbose_eval=True)"
   ]
  },
  {
   "cell_type": "markdown",
   "id": "fe419330-41b8-4fdd-af00-e644bf902f6e",
   "metadata": {},
   "source": [
    "## 测试"
   ]
  },
  {
   "cell_type": "markdown",
   "id": "00330fe6-0bb7-4d91-b043-c147319b68a4",
   "metadata": {},
   "source": [
    "### sklearn api"
   ]
  },
  {
   "cell_type": "code",
   "execution_count": 33,
   "id": "76cc57f4-433c-42a0-ac47-204abae2f94b",
   "metadata": {},
   "outputs": [
    {
     "name": "stdout",
     "output_type": "stream",
     "text": [
      "metrics1: 0.935\n",
      "metrics2: 0.713\n",
      "r2: 0.836\n"
     ]
    }
   ],
   "source": [
    "y_pred = xgbr.predict(x_test)\n",
    "print('metrics1: {:.3f}\\nmetrics2: {:.3f}\\nr2: {:.3f}'.format(metrics1(y_test, y_pred),\n",
    "                                                              metrics2(y_test, y_pred),\n",
    "                                                              r2_score(y_test, y_pred)))"
   ]
  },
  {
   "cell_type": "code",
   "execution_count": 34,
   "id": "6e52120a-87b8-4acc-8ddf-5fbc4100bcab",
   "metadata": {
    "tags": []
   },
   "outputs": [
    {
     "data": {
      "text/plain": [
       "<matplotlib.legend.Legend at 0x1db41fba240>"
      ]
     },
     "execution_count": 34,
     "metadata": {},
     "output_type": "execute_result"
    },
    {
     "data": {
      "image/png": "[encoded data removed]",
      "text/plain": [
       "<Figure size 1080x288 with 1 Axes>"
      ]
     },
     "metadata": {
      "needs_background": "light"
     },
     "output_type": "display_data"
    }
   ],
   "source": [
    "plt.figure(figsize=(15, 4))\n",
    "plt.plot(y_test.values, label='true')\n",
    "plt.plot(y_pred, label='predict')\n",
    "plt.xticks(rotation=90)\n",
    "plt.grid()\n",
    "plt.legend()"
   ]
  },
  {
   "cell_type": "markdown",
   "id": "3de6b509-1f09-45e9-93e1-41ce0fca1fac",
   "metadata": {},
   "source": [
    "### xgboost api"
   ]
  },
  {
   "cell_type": "code",
   "execution_count": 35,
   "id": "11feb4c5-759d-4f9d-9c7e-e5e19209a0b6",
   "metadata": {},
   "outputs": [],
   "source": [
    "dtest = xgb.DMatrix(x_test, y_test)"
   ]
  },
  {
   "cell_type": "code",
   "execution_count": 36,
   "id": "2a1fcba7-c825-47a5-8aad-d9da7b5e4b05",
   "metadata": {
    "tags": []
   },
   "outputs": [
    {
     "name": "stdout",
     "output_type": "stream",
     "text": [
      "metrics1: 0.939\n",
      "metrics2: 0.732\n",
      "r2: 0.858\n"
     ]
    }
   ],
   "source": [
    "y_pred = model.predict(dtest)\n",
    "print('metrics1: {:.3f}\\nmetrics2: {:.3f}\\nr2: {:.3f}'.format(metrics1(y_test, y_pred),\n",
    "                                                              metrics2(\n",
    "                                                                  y_test, y_pred),\n",
    "                                                              r2_score(y_test, y_pred)))"
   ]
  },
  {
   "cell_type": "code",
   "execution_count": 37,
   "id": "8d64e389-ffae-4baa-94ed-6687a8a652c8",
   "metadata": {
    "tags": []
   },
   "outputs": [
    {
     "data": {
      "text/plain": [
       "<matplotlib.legend.Legend at 0x1db41b59f98>"
      ]
     },
     "execution_count": 37,
     "metadata": {},
     "output_type": "execute_result"
    },
    {
     "data": {
      "image/png": "[encoded data removed]",
      "text/plain": [
       "<Figure size 1080x288 with 1 Axes>"
      ]
     },
     "metadata": {
      "needs_background": "light"
     },
     "output_type": "display_data"
    }
   ],
   "source": [
    "plt.figure(figsize=(15, 4))\n",
    "plt.plot(y_test.values, label='true')\n",
    "plt.plot(y_pred, label='predict')\n",
    "plt.xticks(rotation=90)\n",
    "plt.grid()\n",
    "plt.legend()"
   ]
  },
  {
   "cell_type": "code",
   "execution_count": null,
   "id": "e0636bb9-17ce-4068-b643-b65107a8d651",
   "metadata": {
    "tags": []
   },
   "outputs": [],
   "source": [
    "model.get_score(importance_type='gain')"
   ]
  },
  {
   "cell_type": "code",
   "execution_count": null,
   "id": "471c6358-fc9a-4fd2-b827-7f87583206e4",
   "metadata": {},
   "outputs": [],
   "source": [
    "xgb.to_graphviz(model, num_trees=0)"
   ]
  },
  {
   "cell_type": "code",
   "execution_count": null,
   "id": "3d66f43c-243d-4c29-8e55-8679fd60e0d1",
   "metadata": {},
   "outputs": [],
   "source": [
    "import xgboost\n",
    "from xgboost import XGBClassifier\n",
    "from sklearn.datasets import load_iris\n",
    "\n",
    "iris = load_iris()\n",
    "x, y = iris.data, iris.target\n",
    "model = XGBClassifier()\n",
    "model.fit(x, y)\n",
    "# 如果输入是没有表头的array,会自动以f1,f2开始,需要更换表头\n",
    "# 画树结构图的时候也需要替换表头\n",
    "\n",
    "model.get_booster().feature_names = iris.feature_names\n",
    "# max_num_features指定排名最靠前的多少特征\n",
    "# height=0.2指定柱状图每个柱子的粗细,默认是0.2\n",
    "# importance_type='weight'默认是用特征子树中的出现次数(被选择次数),还有\"gain\"和\"cover\"\n",
    "xgboost.plot_importance(model, max_num_features=5, importance_type='gain')\n",
    "\n",
    "# f_score就是feature score\n",
    "model.feature_importances_  # 这里的特征重要性就是gain进行归一化之后的值"
   ]
  },
  {
   "cell_type": "code",
   "execution_count": null,
   "id": "dd4b31d8-f739-4a84-92f8-9afe79e24dec",
   "metadata": {},
   "outputs": [],
   "source": [
    "model.feature_importances_.sum()"
   ]
  },
  {
   "cell_type": "code",
   "execution_count": null,
   "id": "4c049132-c614-473f-8d0f-b19f32f17f4c",
   "metadata": {},
   "outputs": [],
   "source": [
    "2.9918/(2.9918+1.3149+0.0727+0.0424)"
   ]
  },
  {
   "cell_type": "code",
   "execution_count": null,
   "id": "6f243925-4941-47e8-a29c-4125a1fd33ae",
   "metadata": {},
   "outputs": [],
   "source": [
    "xgb.to_graphviz(model, num_trees=1)"
   ]
  },
  {
   "cell_type": "code",
   "execution_count": null,
   "id": "c5381199-7c3d-4994-ada5-241bc2b93f37",
   "metadata": {},
   "outputs": [],
   "source": [
    "from sklearn.tree import DecisionTreeClassifier"
   ]
  },
  {
   "cell_type": "code",
   "execution_count": null,
   "id": "d447552f-45a8-409b-b90b-b065c7d59901",
   "metadata": {},
   "outputs": [],
   "source": [
    "dt = DecisionTreeClassifier(max_depth=2)"
   ]
  },
  {
   "cell_type": "code",
   "execution_count": null,
   "id": "69db9610-8e22-4734-81bd-5396cb7cb7b0",
   "metadata": {},
   "outputs": [],
   "source": [
    "dt.fit(x, y)"
   ]
  },
  {
   "cell_type": "code",
   "execution_count": null,
   "id": "fce50630-1bfb-405a-a1fc-0d04f9e1d32f",
   "metadata": {},
   "outputs": [],
   "source": [
    "import graphviz\n",
    "from sklearn import tree\n",
    "import pydotplus\n",
    "from IPython.display import Image"
   ]
  },
  {
   "cell_type": "code",
   "execution_count": null,
   "id": "b2ef1d0a-2def-471d-89b9-1477a9cf57d3",
   "metadata": {},
   "outputs": [],
   "source": [
    "# 对于决策树来说，特征重要性就等于这个特征分裂的时候的总信息增益，这个特征有可能分裂，加到一起就行\n",
    "dt.feature_importances_"
   ]
  },
  {
   "cell_type": "code",
   "execution_count": null,
   "id": "43fa5105-deda-4418-9822-2ab931b1c52c",
   "metadata": {},
   "outputs": [],
   "source": [
    "dot = tree.export_graphviz(dt)\n",
    "graph = pydotplus.graph_from_dot_data(dot)\n",
    "Image(graph.create_png())"
   ]
  }
 ],
 "metadata": {
  "kernelspec": {
   "display_name": "Python 3",
   "language": "python",
   "name": "python3"
  },
  "language_info": {
   "codemirror_mode": {
    "name": "ipython",
    "version": 3
   },
   "file_extension": ".py",
   "mimetype": "text/x-python",
   "name": "python",
   "nbconvert_exporter": "python",
   "pygments_lexer": "ipython3",
   "version": "3.7.0"
  },
  "toc-autonumbering": false,
  "toc-showcode": false,
  "toc-showmarkdowntxt": false
 },
 "nbformat": 4,
 "nbformat_minor": 5
}
