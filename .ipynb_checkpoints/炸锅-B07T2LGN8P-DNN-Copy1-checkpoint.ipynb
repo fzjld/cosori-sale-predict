{
 "cells": [
  {
   "cell_type": "code",
   "execution_count": 1,
   "id": "73b20828-5422-423d-85ff-449137ac570c",
   "metadata": {},
   "outputs": [
    {
     "name": "stderr",
     "output_type": "stream",
     "text": [
      "E:\\anaconda\\lib\\site-packages\\tensorflow\\python\\framework\\dtypes.py:516: FutureWarning: Passing (type, 1) or '1type' as a synonym of type is deprecated; in a future version of numpy, it will be understood as (type, (1,)) / '(1,)type'.\n",
      "  _np_qint8 = np.dtype([(\"qint8\", np.int8, 1)])\n",
      "E:\\anaconda\\lib\\site-packages\\tensorflow\\python\\framework\\dtypes.py:517: FutureWarning: Passing (type, 1) or '1type' as a synonym of type is deprecated; in a future version of numpy, it will be understood as (type, (1,)) / '(1,)type'.\n",
      "  _np_quint8 = np.dtype([(\"quint8\", np.uint8, 1)])\n",
      "E:\\anaconda\\lib\\site-packages\\tensorflow\\python\\framework\\dtypes.py:518: FutureWarning: Passing (type, 1) or '1type' as a synonym of type is deprecated; in a future version of numpy, it will be understood as (type, (1,)) / '(1,)type'.\n",
      "  _np_qint16 = np.dtype([(\"qint16\", np.int16, 1)])\n",
      "E:\\anaconda\\lib\\site-packages\\tensorflow\\python\\framework\\dtypes.py:519: FutureWarning: Passing (type, 1) or '1type' as a synonym of type is deprecated; in a future version of numpy, it will be understood as (type, (1,)) / '(1,)type'.\n",
      "  _np_quint16 = np.dtype([(\"quint16\", np.uint16, 1)])\n",
      "E:\\anaconda\\lib\\site-packages\\tensorflow\\python\\framework\\dtypes.py:520: FutureWarning: Passing (type, 1) or '1type' as a synonym of type is deprecated; in a future version of numpy, it will be understood as (type, (1,)) / '(1,)type'.\n",
      "  _np_qint32 = np.dtype([(\"qint32\", np.int32, 1)])\n",
      "E:\\anaconda\\lib\\site-packages\\tensorflow\\python\\framework\\dtypes.py:525: FutureWarning: Passing (type, 1) or '1type' as a synonym of type is deprecated; in a future version of numpy, it will be understood as (type, (1,)) / '(1,)type'.\n",
      "  np_resource = np.dtype([(\"resource\", np.ubyte, 1)])\n",
      "E:\\anaconda\\lib\\site-packages\\tensorboard\\compat\\tensorflow_stub\\dtypes.py:541: FutureWarning: Passing (type, 1) or '1type' as a synonym of type is deprecated; in a future version of numpy, it will be understood as (type, (1,)) / '(1,)type'.\n",
      "  _np_qint8 = np.dtype([(\"qint8\", np.int8, 1)])\n",
      "E:\\anaconda\\lib\\site-packages\\tensorboard\\compat\\tensorflow_stub\\dtypes.py:542: FutureWarning: Passing (type, 1) or '1type' as a synonym of type is deprecated; in a future version of numpy, it will be understood as (type, (1,)) / '(1,)type'.\n",
      "  _np_quint8 = np.dtype([(\"quint8\", np.uint8, 1)])\n",
      "E:\\anaconda\\lib\\site-packages\\tensorboard\\compat\\tensorflow_stub\\dtypes.py:543: FutureWarning: Passing (type, 1) or '1type' as a synonym of type is deprecated; in a future version of numpy, it will be understood as (type, (1,)) / '(1,)type'.\n",
      "  _np_qint16 = np.dtype([(\"qint16\", np.int16, 1)])\n",
      "E:\\anaconda\\lib\\site-packages\\tensorboard\\compat\\tensorflow_stub\\dtypes.py:544: FutureWarning: Passing (type, 1) or '1type' as a synonym of type is deprecated; in a future version of numpy, it will be understood as (type, (1,)) / '(1,)type'.\n",
      "  _np_quint16 = np.dtype([(\"quint16\", np.uint16, 1)])\n",
      "E:\\anaconda\\lib\\site-packages\\tensorboard\\compat\\tensorflow_stub\\dtypes.py:545: FutureWarning: Passing (type, 1) or '1type' as a synonym of type is deprecated; in a future version of numpy, it will be understood as (type, (1,)) / '(1,)type'.\n",
      "  _np_qint32 = np.dtype([(\"qint32\", np.int32, 1)])\n",
      "E:\\anaconda\\lib\\site-packages\\tensorboard\\compat\\tensorflow_stub\\dtypes.py:550: FutureWarning: Passing (type, 1) or '1type' as a synonym of type is deprecated; in a future version of numpy, it will be understood as (type, (1,)) / '(1,)type'.\n",
      "  np_resource = np.dtype([(\"resource\", np.ubyte, 1)])\n"
     ]
    }
   ],
   "source": [
    "import xgboost as xgb\n",
    "import os\n",
    "import seaborn as sns\n",
    "import pandas as pd\n",
    "import numpy as np\n",
    "from xgboost import XGBRegressor\n",
    "from sklearn.model_selection import train_test_split\n",
    "from sklearn.preprocessing import OneHotEncoder, LabelEncoder, OrdinalEncoder\n",
    "from sklearn.metrics import mean_squared_error, r2_score\n",
    "from time import time\n",
    "from scipy import stats\n",
    "import joblib\n",
    "import pickle\n",
    "import pylab as plt\n",
    "from sklearn.model_selection import cross_val_score, GridSearchCV, KFold, TimeSeriesSplit\n",
    "import torch.nn as nn\n",
    "import lightgbm as lgb\n",
    "from utils import *\n",
    "from xgboost import plot_importance\n",
    "from statsmodels.tsa.stattools import adfuller\n",
    "from sklearn.preprocessing import MinMaxScaler\n",
    "from tensorflow import keras\n",
    "import numpy\n",
    "from tensorflow.keras.layers import LSTM, Dense\n",
    "from tensorflow.keras.models import Sequential\n",
    "\n",
    "import torch.nn as nn\n",
    "import torch.utils.data as Data\n",
    "import torch\n",
    "\n",
    "import warnings\n",
    "warnings.filterwarnings('ignore')\n",
    "\n",
    "pd.set_option('display.max_rows', 100)\n",
    "pd.set_option('display.max_columns', None)\n",
    "pd.set_option('display.float_format', lambda x: '%.4f' % x)\n",
    "np.set_printoptions(suppress=True)\n",
    "sns.set_style({'font.sans-serif': ['simhei', 'Arial']})   # 解决画图中文乱码\n",
    "\n",
    "%matplotlib inline"
   ]
  },
  {
   "cell_type": "code",
   "execution_count": 2,
   "id": "5638c9d2-20d8-4cfc-be0c-e635641bb771",
   "metadata": {},
   "outputs": [
    {
     "data": {
      "text/html": [
       "<div>\n",
       "<style scoped>\n",
       "    .dataframe tbody tr th:only-of-type {\n",
       "        vertical-align: middle;\n",
       "    }\n",
       "\n",
       "    .dataframe tbody tr th {\n",
       "        vertical-align: top;\n",
       "    }\n",
       "\n",
       "    .dataframe thead th {\n",
       "        text-align: right;\n",
       "    }\n",
       "</style>\n",
       "<table border=\"1\" class=\"dataframe\">\n",
       "  <thead>\n",
       "    <tr style=\"text-align: right;\">\n",
       "      <th></th>\n",
       "      <th>id</th>\n",
       "      <th>site_id</th>\n",
       "      <th>asin</th>\n",
       "      <th>data_date</th>\n",
       "      <th>product_title</th>\n",
       "      <th>ordered_revenue</th>\n",
       "      <th>ordered_revenue_of_total</th>\n",
       "      <th>ordered_revenue_last_year</th>\n",
       "      <th>ordered_units</th>\n",
       "      <th>ordered_units_of_total</th>\n",
       "      <th>ordered_units_prior_period</th>\n",
       "      <th>ordered_units_last_year</th>\n",
       "      <th>subcategory_sales_rank</th>\n",
       "      <th>average_sales_price</th>\n",
       "      <th>average_sales_price_prior_period</th>\n",
       "      <th>glance_views</th>\n",
       "      <th>change_in_glance_view_prior_period</th>\n",
       "      <th>change_in_gv_last_year</th>\n",
       "      <th>conversion_rate</th>\n",
       "      <th>rep_oos</th>\n",
       "      <th>rep_oos_of_total</th>\n",
       "      <th>rep_oos_prior_period</th>\n",
       "      <th>lbb_price</th>\n",
       "      <th>create_time</th>\n",
       "      <th>update_time</th>\n",
       "    </tr>\n",
       "  </thead>\n",
       "  <tbody>\n",
       "    <tr>\n",
       "      <th>0</th>\n",
       "      <td>1</td>\n",
       "      <td>eb766123-9f24-436e-9117-49c739816794</td>\n",
       "      <td>B07GJBBGHG</td>\n",
       "      <td>2021-01-02</td>\n",
       "      <td>COSORI 5.8QT Electric Hot Air Fryers Oven Oill...</td>\n",
       "      <td>153827.1800</td>\n",
       "      <td>0.1300</td>\n",
       "      <td>1.2600</td>\n",
       "      <td>1284</td>\n",
       "      <td>0.0600</td>\n",
       "      <td>-0.1300</td>\n",
       "      <td>1.2600</td>\n",
       "      <td>1.0000</td>\n",
       "      <td>119.8000</td>\n",
       "      <td>0.0000</td>\n",
       "      <td>40220.0000</td>\n",
       "      <td>0.0000</td>\n",
       "      <td>1.1900</td>\n",
       "      <td>0.0300</td>\n",
       "      <td>0.0200</td>\n",
       "      <td>0.1400</td>\n",
       "      <td>0.1500</td>\n",
       "      <td>0.0000</td>\n",
       "      <td>2021/1/4 6:48</td>\n",
       "      <td>2021/1/4 6:48</td>\n",
       "    </tr>\n",
       "  </tbody>\n",
       "</table>\n",
       "</div>"
      ],
      "text/plain": [
       "   id                               site_id        asin  data_date  \\\n",
       "0   1  eb766123-9f24-436e-9117-49c739816794  B07GJBBGHG 2021-01-02   \n",
       "\n",
       "                                       product_title  ordered_revenue  \\\n",
       "0  COSORI 5.8QT Electric Hot Air Fryers Oven Oill...      153827.1800   \n",
       "\n",
       "   ordered_revenue_of_total  ordered_revenue_last_year  ordered_units  \\\n",
       "0                    0.1300                     1.2600           1284   \n",
       "\n",
       "   ordered_units_of_total  ordered_units_prior_period  \\\n",
       "0                  0.0600                     -0.1300   \n",
       "\n",
       "   ordered_units_last_year  subcategory_sales_rank  average_sales_price  \\\n",
       "0                   1.2600                  1.0000             119.8000   \n",
       "\n",
       "   average_sales_price_prior_period  glance_views  \\\n",
       "0                            0.0000    40220.0000   \n",
       "\n",
       "   change_in_glance_view_prior_period  change_in_gv_last_year  \\\n",
       "0                              0.0000                  1.1900   \n",
       "\n",
       "   conversion_rate  rep_oos  rep_oos_of_total  rep_oos_prior_period  \\\n",
       "0           0.0300   0.0200            0.1400                0.1500   \n",
       "\n",
       "   lbb_price    create_time    update_time  \n",
       "0     0.0000  2021/1/4 6:48  2021/1/4 6:48  "
      ]
     },
     "execution_count": 2,
     "metadata": {},
     "output_type": "execute_result"
    }
   ],
   "source": [
    "data = pd.read_csv('./data.csv', encoding='GBK')\n",
    "data.data_date = pd.to_datetime(data.data_date)\n",
    "data.head(1)"
   ]
  },
  {
   "cell_type": "code",
   "execution_count": 3,
   "id": "62525d6e-4824-410f-84df-1ad6bb5d15df",
   "metadata": {},
   "outputs": [],
   "source": [
    "alldata = data[(data.asin == 'B07WBSVH33')][['data_date',\n",
    "                                             'ordered_units']].sort_values('data_date')\n",
    "alldata.shape\n",
    "alldata = alldata.set_index('data_date')"
   ]
  },
  {
   "cell_type": "code",
   "execution_count": 4,
   "id": "155c3dd4-3379-4062-9472-3e9a6865dfd5",
   "metadata": {},
   "outputs": [
    {
     "data": {
      "text/html": [
       "<div>\n",
       "<style scoped>\n",
       "    .dataframe tbody tr th:only-of-type {\n",
       "        vertical-align: middle;\n",
       "    }\n",
       "\n",
       "    .dataframe tbody tr th {\n",
       "        vertical-align: top;\n",
       "    }\n",
       "\n",
       "    .dataframe thead th {\n",
       "        text-align: right;\n",
       "    }\n",
       "</style>\n",
       "<table border=\"1\" class=\"dataframe\">\n",
       "  <thead>\n",
       "    <tr style=\"text-align: right;\">\n",
       "      <th></th>\n",
       "      <th>ordered_units</th>\n",
       "    </tr>\n",
       "    <tr>\n",
       "      <th>data_date</th>\n",
       "      <th></th>\n",
       "    </tr>\n",
       "  </thead>\n",
       "  <tbody>\n",
       "    <tr>\n",
       "      <th>2019-12-02</th>\n",
       "      <td>29</td>\n",
       "    </tr>\n",
       "    <tr>\n",
       "      <th>2019-12-03</th>\n",
       "      <td>1</td>\n",
       "    </tr>\n",
       "    <tr>\n",
       "      <th>2019-12-04</th>\n",
       "      <td>1</td>\n",
       "    </tr>\n",
       "    <tr>\n",
       "      <th>2019-12-05</th>\n",
       "      <td>2</td>\n",
       "    </tr>\n",
       "    <tr>\n",
       "      <th>2019-12-06</th>\n",
       "      <td>1</td>\n",
       "    </tr>\n",
       "  </tbody>\n",
       "</table>\n",
       "</div>"
      ],
      "text/plain": [
       "            ordered_units\n",
       "data_date                \n",
       "2019-12-02             29\n",
       "2019-12-03              1\n",
       "2019-12-04              1\n",
       "2019-12-05              2\n",
       "2019-12-06              1"
      ]
     },
     "execution_count": 4,
     "metadata": {},
     "output_type": "execute_result"
    }
   ],
   "source": [
    "alldata.head()"
   ]
  },
  {
   "cell_type": "code",
   "execution_count": 5,
   "id": "9be2e44d-1118-4b06-a7ec-14a6f72b33d0",
   "metadata": {},
   "outputs": [
    {
     "data": {
      "text/plain": [
       "47.56239870340357"
      ]
     },
     "execution_count": 5,
     "metadata": {},
     "output_type": "execute_result"
    }
   ],
   "source": [
    "alldata.ordered_units.mean()"
   ]
  },
  {
   "cell_type": "code",
   "execution_count": 6,
   "id": "6824e04a-4b52-4f24-acd4-ad28cb162a52",
   "metadata": {},
   "outputs": [
    {
     "data": {
      "text/plain": [
       "[<matplotlib.lines.Line2D at 0x20ffb5df438>]"
      ]
     },
     "execution_count": 6,
     "metadata": {},
     "output_type": "execute_result"
    },
    {
     "data": {
      "image/png": "[encoded data removed]",
      "text/plain": [
       "<Figure size 720x360 with 1 Axes>"
      ]
     },
     "metadata": {
      "needs_background": "light"
     },
     "output_type": "display_data"
    }
   ],
   "source": [
    "plt.figure(figsize=(10, 5))\n",
    "plt.xticks(rotation=90)\n",
    "plt.plot(alldata)"
   ]
  },
  {
   "cell_type": "markdown",
   "id": "e6eb8ea2-de96-4eb9-a4d4-04ce54a9a0b2",
   "metadata": {},
   "source": [
    "### 数据预处理"
   ]
  },
  {
   "cell_type": "code",
   "execution_count": 7,
   "id": "2da137f0-9d40-492d-8116-70d7d49f4b32",
   "metadata": {},
   "outputs": [
    {
     "data": {
      "text/plain": [
       "DatetimeIndex(['2019-12-08', '2020-08-21', '2020-08-31', '2020-09-01',\n",
       "               '2020-09-02', '2020-09-03', '2020-09-04', '2020-09-05',\n",
       "               '2020-09-06', '2020-09-07', '2020-09-08', '2020-09-09',\n",
       "               '2020-09-10', '2020-09-11', '2020-09-12', '2020-09-13',\n",
       "               '2020-09-14', '2020-09-15', '2020-09-16'],\n",
       "              dtype='datetime64[ns]', name='data_date', freq=None)"
      ]
     },
     "execution_count": 7,
     "metadata": {},
     "output_type": "execute_result"
    }
   ],
   "source": [
    "alldata[alldata.ordered_units <= 0].index"
   ]
  },
  {
   "cell_type": "code",
   "execution_count": 8,
   "id": "d1a7a22a-e75e-41f4-b802-2a6faf6c2227",
   "metadata": {},
   "outputs": [],
   "source": [
    "alldata.drop(alldata[alldata.ordered_units <= 0].index, inplace=True)"
   ]
  },
  {
   "cell_type": "code",
   "execution_count": 9,
   "id": "1d4919f1-d592-44cd-a2df-be2a58ce9115",
   "metadata": {
    "tags": []
   },
   "outputs": [
    {
     "data": {
      "text/plain": [
       "<AxesSubplot:xlabel='ordered_units'>"
      ]
     },
     "execution_count": 9,
     "metadata": {},
     "output_type": "execute_result"
    },
    {
     "data": {
      "image/png": "[encoded data removed]",
      "text/plain": [
       "<Figure size 432x288 with 1 Axes>"
      ]
     },
     "metadata": {
      "needs_background": "light"
     },
     "output_type": "display_data"
    }
   ],
   "source": [
    "sns.boxplot(alldata.ordered_units)"
   ]
  },
  {
   "cell_type": "code",
   "execution_count": 10,
   "id": "3ea32836-0411-46a0-9302-2ef5bfc31125",
   "metadata": {},
   "outputs": [
    {
     "data": {
      "text/plain": [
       "DatetimeIndex(['2020-08-05', '2020-11-30'], dtype='datetime64[ns]', name='data_date', freq=None)"
      ]
     },
     "execution_count": 10,
     "metadata": {},
     "output_type": "execute_result"
    }
   ],
   "source": [
    "alldata[alldata.ordered_units > 1000].index"
   ]
  },
  {
   "cell_type": "code",
   "execution_count": 11,
   "id": "08274e94-1631-45fc-b4ac-1c083bec5b65",
   "metadata": {},
   "outputs": [],
   "source": [
    "alldata.drop(alldata[alldata.ordered_units > 1000].index, inplace=True)"
   ]
  },
  {
   "cell_type": "code",
   "execution_count": 12,
   "id": "3cda308b-23e0-4e07-8f13-79ef06c71586",
   "metadata": {},
   "outputs": [
    {
     "data": {
      "text/plain": [
       "(596, 1)"
      ]
     },
     "execution_count": 12,
     "metadata": {},
     "output_type": "execute_result"
    }
   ],
   "source": [
    "alldata.shape"
   ]
  },
  {
   "cell_type": "code",
   "execution_count": 13,
   "id": "c6d14d10-df30-4a18-9496-b9a10c5fd0db",
   "metadata": {
    "tags": []
   },
   "outputs": [
    {
     "data": {
      "text/html": [
       "<div>\n",
       "<style scoped>\n",
       "    .dataframe tbody tr th:only-of-type {\n",
       "        vertical-align: middle;\n",
       "    }\n",
       "\n",
       "    .dataframe tbody tr th {\n",
       "        vertical-align: top;\n",
       "    }\n",
       "\n",
       "    .dataframe thead th {\n",
       "        text-align: right;\n",
       "    }\n",
       "</style>\n",
       "<table border=\"1\" class=\"dataframe\">\n",
       "  <thead>\n",
       "    <tr style=\"text-align: right;\">\n",
       "      <th></th>\n",
       "      <th>ordered_units</th>\n",
       "    </tr>\n",
       "    <tr>\n",
       "      <th>data_date</th>\n",
       "      <th></th>\n",
       "    </tr>\n",
       "  </thead>\n",
       "  <tbody>\n",
       "    <tr>\n",
       "      <th>2019-12-02</th>\n",
       "      <td>29</td>\n",
       "    </tr>\n",
       "    <tr>\n",
       "      <th>2019-12-03</th>\n",
       "      <td>1</td>\n",
       "    </tr>\n",
       "    <tr>\n",
       "      <th>2021-08-21</th>\n",
       "      <td>35</td>\n",
       "    </tr>\n",
       "    <tr>\n",
       "      <th>2021-08-22</th>\n",
       "      <td>43</td>\n",
       "    </tr>\n",
       "  </tbody>\n",
       "</table>\n",
       "</div>"
      ],
      "text/plain": [
       "            ordered_units\n",
       "data_date                \n",
       "2019-12-02             29\n",
       "2019-12-03              1\n",
       "2021-08-21             35\n",
       "2021-08-22             43"
      ]
     },
     "execution_count": 13,
     "metadata": {},
     "output_type": "execute_result"
    }
   ],
   "source": [
    "alldata.head(2).append(alldata.tail(2))"
   ]
  },
  {
   "cell_type": "code",
   "execution_count": 14,
   "id": "78c07f55-0aec-412a-8957-3891b731e7c9",
   "metadata": {
    "tags": []
   },
   "outputs": [
    {
     "data": {
      "text/plain": [
       "[<matplotlib.lines.Line2D at 0x20ffb7ef748>]"
      ]
     },
     "execution_count": 14,
     "metadata": {},
     "output_type": "execute_result"
    },
    {
     "data": {
      "image/png": "[encoded data removed]",
      "text/plain": [
       "<Figure size 1080x360 with 1 Axes>"
      ]
     },
     "metadata": {
      "needs_background": "light"
     },
     "output_type": "display_data"
    }
   ],
   "source": [
    "plt.figure(figsize=(15, 5))\n",
    "plt.xticks(rotation=90)\n",
    "plt.plot(alldata)"
   ]
  },
  {
   "cell_type": "markdown",
   "id": "00782a23-e3a6-442e-a536-5df3ad7a2edb",
   "metadata": {},
   "source": [
    "### 判定平稳性"
   ]
  },
  {
   "cell_type": "code",
   "execution_count": 15,
   "id": "68834e5c-f1be-4f0c-9f07-8f7df4199fbc",
   "metadata": {},
   "outputs": [
    {
     "data": {
      "text/plain": [
       "(-5.111395621026638,\n",
       " 1.3297880693907978e-05,\n",
       " 8,\n",
       " 587,\n",
       " {'1%': -3.4415393130846725,\n",
       "  '5%': -2.866476335860869,\n",
       "  '10%': -2.5693989358590006},\n",
       " 5866.46091751342)"
      ]
     },
     "execution_count": 15,
     "metadata": {},
     "output_type": "execute_result"
    }
   ],
   "source": [
    "adfuller(alldata.ordered_units)"
   ]
  },
  {
   "cell_type": "markdown",
   "id": "e03e29ba-4abf-4a2e-a854-bac42adbf87d",
   "metadata": {},
   "source": [
    "序列平稳"
   ]
  },
  {
   "cell_type": "markdown",
   "id": "758a3882-2ca8-485e-ada4-969f61b01ce9",
   "metadata": {},
   "source": [
    "### 划分数据集"
   ]
  },
  {
   "cell_type": "code",
   "execution_count": 16,
   "id": "2b3a29f1-d7ab-4243-b08e-4bd6917905ab",
   "metadata": {},
   "outputs": [],
   "source": [
    "train = alldata.truncate(\n",
    "    after='2021-7-1', axis=0).ordered_units.values.reshape(-1, 1)\n",
    "test = alldata.truncate(\n",
    "    before='2021-7-2', axis=0).ordered_units.values.reshape(-1, 1)"
   ]
  },
  {
   "cell_type": "code",
   "execution_count": 17,
   "id": "e209d6f3-85fd-4241-b25a-4182aee1358a",
   "metadata": {},
   "outputs": [
    {
     "data": {
      "text/plain": [
       "((544, 1), (52, 1))"
      ]
     },
     "execution_count": 17,
     "metadata": {},
     "output_type": "execute_result"
    }
   ],
   "source": [
    "train.shape, test.shape"
   ]
  },
  {
   "cell_type": "markdown",
   "id": "637473b3-d7e5-4d78-ba0f-fa5425427ec0",
   "metadata": {},
   "source": [
    "### 数据归一化"
   ]
  },
  {
   "cell_type": "code",
   "execution_count": 18,
   "id": "9b664776-5eb9-4a67-8ff1-461305302bbf",
   "metadata": {
    "tags": []
   },
   "outputs": [
    {
     "data": {
      "text/plain": [
       "array([[0.04560261],\n",
       "       [0.        ],\n",
       "       [0.        ],\n",
       "       [0.00162866],\n",
       "       [0.        ]])"
      ]
     },
     "execution_count": 18,
     "metadata": {},
     "output_type": "execute_result"
    }
   ],
   "source": [
    "scaler = MinMaxScaler()\n",
    "train = scaler.fit_transform(train)\n",
    "test = scaler.transform(test)\n",
    "train[:5]"
   ]
  },
  {
   "cell_type": "code",
   "execution_count": 19,
   "id": "993c8bed-9176-4f95-9c39-2fb421dc1c09",
   "metadata": {},
   "outputs": [
    {
     "data": {
      "text/plain": [
       "<AxesSubplot:ylabel='Count'>"
      ]
     },
     "execution_count": 19,
     "metadata": {},
     "output_type": "execute_result"
    },
    {
     "data": {
      "image/png": "[encoded data removed]",
      "text/plain": [
       "<Figure size 432x288 with 1 Axes>"
      ]
     },
     "metadata": {
      "needs_background": "light"
     },
     "output_type": "display_data"
    }
   ],
   "source": [
    "sns.histplot(train)"
   ]
  },
  {
   "cell_type": "markdown",
   "id": "c50e0a3e-c7c1-4aa5-80d9-4dc255dbd0cf",
   "metadata": {},
   "source": [
    "### 数据集划分"
   ]
  },
  {
   "cell_type": "code",
   "execution_count": 21,
   "id": "859b4fc9-2fd3-4f19-a00a-d5f8c1ebcc41",
   "metadata": {},
   "outputs": [],
   "source": [
    "def create_dataset(dataset, look_back):\n",
    "    # 这里的look_back与timestep相同\n",
    "    dataX, dataY = [], []\n",
    "    for i in range(len(dataset) - look_back - 1):\n",
    "        a = dataset[i:(i + look_back)]\n",
    "        dataX.append(a)\n",
    "        dataY.append(dataset[i + look_back])\n",
    "    return np.array(dataX), np.array(dataY)"
   ]
  },
  {
   "cell_type": "code",
   "execution_count": 22,
   "id": "7a03e6da-da3a-4ead-9530-17ec9a9dd80f",
   "metadata": {},
   "outputs": [],
   "source": [
    "x_train, y_train = create_dataset(train, 2)\n",
    "x_test, y_test = create_dataset(test, 2)"
   ]
  },
  {
   "cell_type": "code",
   "execution_count": 23,
   "id": "c5932769-de52-46b7-9576-0dac1f9e3dbf",
   "metadata": {
    "tags": []
   },
   "outputs": [],
   "source": [
    "x_train = np.reshape(x_train, (x_train.shape[0], x_train.shape[1], 1))\n",
    "x_test = np.reshape(x_test, (x_test.shape[0], x_test.shape[1], 1))"
   ]
  },
  {
   "cell_type": "code",
   "execution_count": 24,
   "id": "783ab3d5-8eb6-42fa-bee8-8b62f035e0a4",
   "metadata": {
    "collapsed": true,
    "jupyter": {
     "outputs_hidden": true
    },
    "tags": []
   },
   "outputs": [
    {
     "name": "stdout",
     "output_type": "stream",
     "text": [
      "WARNING:tensorflow:From E:\\anaconda\\lib\\site-packages\\tensorflow\\python\\ops\\init_ops.py:1251: calling VarianceScaling.__init__ (from tensorflow.python.ops.init_ops) with dtype is deprecated and will be removed in a future version.\n",
      "Instructions for updating:\n",
      "Call initializer instance with the dtype argument instead of passing it to the constructor\n",
      "WARNING:tensorflow:From E:\\anaconda\\lib\\site-packages\\tensorflow\\python\\ops\\math_grad.py:1250: add_dispatch_support.<locals>.wrapper (from tensorflow.python.ops.array_ops) is deprecated and will be removed in a future version.\n",
      "Instructions for updating:\n",
      "Use tf.where in 2.0, which has the same broadcast rule as np.where\n",
      "Epoch 1/100\n",
      "541/541 - 1s - loss: 0.0069\n",
      "Epoch 2/100\n",
      "541/541 - 1s - loss: 0.0060\n",
      "Epoch 3/100\n",
      "541/541 - 1s - loss: 0.0060\n",
      "Epoch 4/100\n",
      "541/541 - 1s - loss: 0.0061\n",
      "Epoch 5/100\n",
      "541/541 - 1s - loss: 0.0058\n",
      "Epoch 6/100\n",
      "541/541 - 1s - loss: 0.0057\n",
      "Epoch 7/100\n",
      "541/541 - 1s - loss: 0.0058\n",
      "Epoch 8/100\n",
      "541/541 - 1s - loss: 0.0058\n",
      "Epoch 9/100\n",
      "541/541 - 1s - loss: 0.0056\n",
      "Epoch 10/100\n",
      "541/541 - 1s - loss: 0.0057\n",
      "Epoch 11/100\n",
      "541/541 - 1s - loss: 0.0057\n",
      "Epoch 12/100\n",
      "541/541 - 1s - loss: 0.0057\n",
      "Epoch 13/100\n",
      "541/541 - 1s - loss: 0.0054\n",
      "Epoch 14/100\n",
      "541/541 - 1s - loss: 0.0055\n",
      "Epoch 15/100\n",
      "541/541 - 1s - loss: 0.0055\n",
      "Epoch 16/100\n",
      "541/541 - 1s - loss: 0.0054\n",
      "Epoch 17/100\n",
      "541/541 - 1s - loss: 0.0055\n",
      "Epoch 18/100\n",
      "541/541 - 1s - loss: 0.0055\n",
      "Epoch 19/100\n",
      "541/541 - 1s - loss: 0.0053\n",
      "Epoch 20/100\n",
      "541/541 - 1s - loss: 0.0056\n",
      "Epoch 21/100\n",
      "541/541 - 1s - loss: 0.0054\n",
      "Epoch 22/100\n",
      "541/541 - 1s - loss: 0.0055\n",
      "Epoch 23/100\n",
      "541/541 - 1s - loss: 0.0053\n",
      "Epoch 24/100\n",
      "541/541 - 1s - loss: 0.0053\n",
      "Epoch 25/100\n",
      "541/541 - 1s - loss: 0.0054\n",
      "Epoch 26/100\n",
      "541/541 - 1s - loss: 0.0054\n",
      "Epoch 27/100\n",
      "541/541 - 1s - loss: 0.0054\n",
      "Epoch 28/100\n",
      "541/541 - 1s - loss: 0.0053\n",
      "Epoch 29/100\n",
      "541/541 - 1s - loss: 0.0053\n",
      "Epoch 30/100\n",
      "541/541 - 1s - loss: 0.0053\n",
      "Epoch 31/100\n",
      "541/541 - 1s - loss: 0.0052\n",
      "Epoch 32/100\n",
      "541/541 - 1s - loss: 0.0054\n",
      "Epoch 33/100\n",
      "541/541 - 1s - loss: 0.0053\n",
      "Epoch 34/100\n",
      "541/541 - 1s - loss: 0.0053\n",
      "Epoch 35/100\n",
      "541/541 - 1s - loss: 0.0052\n",
      "Epoch 36/100\n",
      "541/541 - 1s - loss: 0.0052\n",
      "Epoch 37/100\n",
      "541/541 - 1s - loss: 0.0051\n",
      "Epoch 38/100\n",
      "541/541 - 1s - loss: 0.0051\n",
      "Epoch 39/100\n",
      "541/541 - 1s - loss: 0.0052\n",
      "Epoch 40/100\n",
      "541/541 - 1s - loss: 0.0052\n",
      "Epoch 41/100\n",
      "541/541 - 1s - loss: 0.0051\n",
      "Epoch 42/100\n",
      "541/541 - 1s - loss: 0.0051\n",
      "Epoch 43/100\n",
      "541/541 - 1s - loss: 0.0051\n",
      "Epoch 44/100\n",
      "541/541 - 1s - loss: 0.0051\n",
      "Epoch 45/100\n",
      "541/541 - 1s - loss: 0.0051\n",
      "Epoch 46/100\n",
      "541/541 - 1s - loss: 0.0051\n",
      "Epoch 47/100\n",
      "541/541 - 1s - loss: 0.0050\n",
      "Epoch 48/100\n",
      "541/541 - 1s - loss: 0.0050\n",
      "Epoch 49/100\n",
      "541/541 - 1s - loss: 0.0050\n",
      "Epoch 50/100\n",
      "541/541 - 1s - loss: 0.0049\n",
      "Epoch 51/100\n",
      "541/541 - 1s - loss: 0.0050\n",
      "Epoch 52/100\n",
      "541/541 - 1s - loss: 0.0050\n",
      "Epoch 53/100\n",
      "541/541 - 1s - loss: 0.0050\n",
      "Epoch 54/100\n",
      "541/541 - 1s - loss: 0.0049\n",
      "Epoch 55/100\n",
      "541/541 - 1s - loss: 0.0048\n",
      "Epoch 56/100\n",
      "541/541 - 1s - loss: 0.0049\n",
      "Epoch 57/100\n",
      "541/541 - 1s - loss: 0.0048\n",
      "Epoch 58/100\n",
      "541/541 - 1s - loss: 0.0048\n",
      "Epoch 59/100\n",
      "541/541 - 1s - loss: 0.0048\n",
      "Epoch 60/100\n",
      "541/541 - 1s - loss: 0.0048\n",
      "Epoch 61/100\n",
      "541/541 - 1s - loss: 0.0048\n",
      "Epoch 62/100\n",
      "541/541 - 1s - loss: 0.0048\n",
      "Epoch 63/100\n",
      "541/541 - 1s - loss: 0.0048\n",
      "Epoch 64/100\n",
      "541/541 - 1s - loss: 0.0048\n",
      "Epoch 65/100\n",
      "541/541 - 1s - loss: 0.0048\n",
      "Epoch 66/100\n",
      "541/541 - 1s - loss: 0.0047\n",
      "Epoch 67/100\n",
      "541/541 - 1s - loss: 0.0048\n",
      "Epoch 68/100\n",
      "541/541 - 1s - loss: 0.0046\n",
      "Epoch 69/100\n",
      "541/541 - 1s - loss: 0.0048\n",
      "Epoch 70/100\n",
      "541/541 - 1s - loss: 0.0047\n",
      "Epoch 71/100\n",
      "541/541 - 1s - loss: 0.0047\n",
      "Epoch 72/100\n",
      "541/541 - 1s - loss: 0.0047\n",
      "Epoch 73/100\n",
      "541/541 - 1s - loss: 0.0047\n",
      "Epoch 74/100\n",
      "541/541 - 1s - loss: 0.0047\n",
      "Epoch 75/100\n",
      "541/541 - 1s - loss: 0.0047\n",
      "Epoch 76/100\n",
      "541/541 - 1s - loss: 0.0047\n",
      "Epoch 77/100\n",
      "541/541 - 1s - loss: 0.0048\n",
      "Epoch 78/100\n",
      "541/541 - 1s - loss: 0.0047\n",
      "Epoch 79/100\n",
      "541/541 - 1s - loss: 0.0047\n",
      "Epoch 80/100\n",
      "541/541 - 1s - loss: 0.0047\n",
      "Epoch 81/100\n",
      "541/541 - 1s - loss: 0.0046\n",
      "Epoch 82/100\n",
      "541/541 - 1s - loss: 0.0046\n",
      "Epoch 83/100\n",
      "541/541 - 1s - loss: 0.0047\n",
      "Epoch 84/100\n",
      "541/541 - 1s - loss: 0.0047\n",
      "Epoch 85/100\n",
      "541/541 - 1s - loss: 0.0047\n",
      "Epoch 86/100\n",
      "541/541 - 1s - loss: 0.0047\n",
      "Epoch 87/100\n",
      "541/541 - 1s - loss: 0.0047\n",
      "Epoch 88/100\n",
      "541/541 - 1s - loss: 0.0047\n",
      "Epoch 89/100\n",
      "541/541 - 1s - loss: 0.0047\n",
      "Epoch 90/100\n",
      "541/541 - 1s - loss: 0.0047\n",
      "Epoch 91/100\n",
      "541/541 - 1s - loss: 0.0047\n",
      "Epoch 92/100\n",
      "541/541 - 1s - loss: 0.0046\n",
      "Epoch 93/100\n",
      "541/541 - 1s - loss: 0.0047\n",
      "Epoch 94/100\n",
      "541/541 - 1s - loss: 0.0046\n",
      "Epoch 95/100\n",
      "541/541 - 1s - loss: 0.0046\n",
      "Epoch 96/100\n",
      "541/541 - 1s - loss: 0.0047\n",
      "Epoch 97/100\n",
      "541/541 - 1s - loss: 0.0046\n",
      "Epoch 98/100\n",
      "541/541 - 1s - loss: 0.0047\n",
      "Epoch 99/100\n",
      "541/541 - 1s - loss: 0.0046\n",
      "Epoch 100/100\n",
      "541/541 - 1s - loss: 0.0046\n"
     ]
    },
    {
     "data": {
      "text/plain": [
       "<tensorflow.python.keras.callbacks.History at 0x20f83029f28>"
      ]
     },
     "execution_count": 24,
     "metadata": {},
     "output_type": "execute_result"
    }
   ],
   "source": [
    "# create and fit the LSTM network\n",
    "model = Sequential()\n",
    "model.add(LSTM(100, input_shape=(None, 1)))\n",
    "model.add(Dense(1))\n",
    "model.compile(loss='mean_squared_error', optimizer='adam')\n",
    "model.fit(x_train, y_train, epochs=100, batch_size=1, verbose=2)"
   ]
  },
  {
   "cell_type": "code",
   "execution_count": 25,
   "id": "46f7ce81-e4ca-477c-a184-08d80515b794",
   "metadata": {},
   "outputs": [],
   "source": [
    "train_pred = model.predict(x_train)\n",
    "train_pred = scaler.inverse_transform(train_pred)\n",
    "y_train = scaler.inverse_transform(y_train)"
   ]
  },
  {
   "cell_type": "code",
   "execution_count": null,
   "id": "5f4297e0-52da-4b26-91ad-3128f2e0ee1a",
   "metadata": {},
   "outputs": [],
   "source": [
    "np.append(output, 1)"
   ]
  },
  {
   "cell_type": "code",
   "execution_count": null,
   "id": "de8ada0b-f252-44a1-b482-25c205f2d8d8",
   "metadata": {},
   "outputs": [],
   "source": [
    "output = x_train[-1:].squeeze().tolist()\n",
    "output[-2:]"
   ]
  },
  {
   "cell_type": "code",
   "execution_count": null,
   "id": "bc6c58cf-4a5e-4dc6-9267-14ac22003b24",
   "metadata": {},
   "outputs": [],
   "source": [
    "np.array(output[-2:]).reshape(1,2,1)"
   ]
  },
  {
   "cell_type": "code",
   "execution_count": null,
   "id": "dbdc3177-0046-44a9-ac27-9b8d9834d80d",
   "metadata": {},
   "outputs": [],
   "source": [
    "out = model.predict(np.array(output[-2:]).reshape(1,2,1))"
   ]
  },
  {
   "cell_type": "code",
   "execution_count": null,
   "id": "42cb4dfa-3189-452d-b93a-a75a444763a9",
   "metadata": {},
   "outputs": [],
   "source": [
    "out.squeeze().tolist()"
   ]
  },
  {
   "cell_type": "code",
   "execution_count": 26,
   "id": "18c67bcb-dd28-4378-a8ec-feff24cc1f4f",
   "metadata": {},
   "outputs": [],
   "source": [
    "output = x_train[-1:].squeeze().tolist()\n",
    "for i in range(49):\n",
    "    out = model.predict(np.array(output[-2:]).reshape(1,2,1))\n",
    "    output.append(out.squeeze().tolist())"
   ]
  },
  {
   "cell_type": "code",
   "execution_count": 27,
   "id": "b38a665a-f424-44c1-a2e1-b479e594a60d",
   "metadata": {},
   "outputs": [
    {
     "data": {
      "text/plain": [
       "51"
      ]
     },
     "execution_count": 27,
     "metadata": {},
     "output_type": "execute_result"
    }
   ],
   "source": [
    "len(output)"
   ]
  },
  {
   "cell_type": "code",
   "execution_count": 29,
   "id": "3e31a0f0-97e2-4db1-a39c-c7ae3b40a5ae",
   "metadata": {
    "tags": []
   },
   "outputs": [
    {
     "data": {
      "text/plain": [
       "-275.0555994890613"
      ]
     },
     "execution_count": 29,
     "metadata": {},
     "output_type": "execute_result"
    }
   ],
   "source": [
    "r2_score(scaler.inverse_transform(y_test), scaler.inverse_transform(np.array(output).reshape(-1,1))[2:])"
   ]
  },
  {
   "cell_type": "code",
   "execution_count": null,
   "id": "579c888f-2dec-4d07-8d10-d8540041986f",
   "metadata": {
    "tags": []
   },
   "outputs": [],
   "source": [
    "scaler.inverse_transform(np.array(output).reshape(-1, 1))"
   ]
  },
  {
   "cell_type": "code",
   "execution_count": 32,
   "id": "402d788d-36de-4c52-b1ad-3c2da81b855a",
   "metadata": {},
   "outputs": [
    {
     "data": {
      "text/plain": [
       "tensor([[0., 0., 0.],\n",
       "        [0., 0., 0.],\n",
       "        [0., 0., 0.]])"
      ]
     },
     "execution_count": 32,
     "metadata": {},
     "output_type": "execute_result"
    }
   ],
   "source": [
    "torch.zeros(3,3)"
   ]
  },
  {
   "cell_type": "code",
   "execution_count": 30,
   "id": "da7295d8-37af-4274-bf6c-575fb0cf30f2",
   "metadata": {},
   "outputs": [
    {
     "data": {
      "text/plain": [
       "[<matplotlib.lines.Line2D at 0x20f830479e8>]"
      ]
     },
     "execution_count": 30,
     "metadata": {},
     "output_type": "execute_result"
    },
    {
     "data": {
      "image/png": "[encoded data removed]",
      "text/plain": [
       "<Figure size 432x288 with 1 Axes>"
      ]
     },
     "metadata": {
      "needs_background": "light"
     },
     "output_type": "display_data"
    }
   ],
   "source": [
    "plt.plot(scaler.inverse_transform(y_test))\n",
    "plt.plot(scaler.inverse_transform(np.array(output).reshape(-1,1)))"
   ]
  },
  {
   "cell_type": "code",
   "execution_count": null,
   "id": "42235f55-61e7-49c5-8e9a-eb4e7f00961a",
   "metadata": {},
   "outputs": [],
   "source": [
    "y_pred = model.predict(x_test)\n",
    "y_pred = scaler.inverse_transform(y_pred)\n",
    "y_test = scaler.inverse_transform(y_test)"
   ]
  },
  {
   "cell_type": "code",
   "execution_count": null,
   "id": "05113d4c-2bc8-478e-a7cb-006d5a77e568",
   "metadata": {},
   "outputs": [],
   "source": [
    "r2_score(y_test, y_pred)"
   ]
  },
  {
   "cell_type": "code",
   "execution_count": null,
   "id": "34762611-9181-463c-8d48-6a14b2776bfd",
   "metadata": {},
   "outputs": [],
   "source": [
    "y_pred_rounded = y_pred.round()"
   ]
  },
  {
   "cell_type": "code",
   "execution_count": null,
   "id": "d704d7ce-d1e8-4db6-b29d-7db91d731d57",
   "metadata": {},
   "outputs": [],
   "source": [
    "r2_score(y_test, y_pred_rounded)"
   ]
  },
  {
   "cell_type": "code",
   "execution_count": null,
   "id": "d8a47980-85a2-428a-8ea8-64039bc5f82d",
   "metadata": {},
   "outputs": [],
   "source": [
    "y_test[:10], y_pred[:10]"
   ]
  },
  {
   "cell_type": "code",
   "execution_count": null,
   "id": "0bffd0a2-2371-49b0-89cb-3923bf79d873",
   "metadata": {},
   "outputs": [],
   "source": [
    "pd.DataFrame({'true': y_test[:100].squeeze(), 'prediction': y_pred_rounded[:100].squeeze()})"
   ]
  },
  {
   "cell_type": "code",
   "execution_count": null,
   "id": "dd203bb4-0dc7-4043-ad03-6cae0fffbf3d",
   "metadata": {},
   "outputs": [],
   "source": [
    "plt.figure(figsize=(30, 5))\n",
    "plt.plot(y_pred)\n",
    "plt.plot(y_test)"
   ]
  },
  {
   "cell_type": "code",
   "execution_count": null,
   "id": "c8fa49e7-21cb-4e19-9941-247e81d80970",
   "metadata": {},
   "outputs": [],
   "source": [
    "scaler.inverse_transform(x_train.squeeze())[:3]"
   ]
  },
  {
   "cell_type": "code",
   "execution_count": null,
   "id": "7c099cf5-ca64-4eda-8381-6c1e25e1abac",
   "metadata": {},
   "outputs": [],
   "source": [
    "y_train[:3], train_pred[:3]"
   ]
  },
  {
   "cell_type": "code",
   "execution_count": null,
   "id": "98cdd166-f469-4551-87fc-5b40bd793e76",
   "metadata": {},
   "outputs": [],
   "source": [
    "plt.figure(figsize=(30, 5))\n",
    "plt.plot(train_pred, label='prediction')\n",
    "plt.plot(y_train, label='true')\n",
    "plt.legend()"
   ]
  },
  {
   "cell_type": "code",
   "execution_count": null,
   "id": "07515fc9-fa39-4965-9fca-9bb6ee64d250",
   "metadata": {},
   "outputs": [],
   "source": [
    "r2_score(y_train, train_pred)"
   ]
  },
  {
   "cell_type": "code",
   "execution_count": null,
   "id": "ff6efbcc-1149-43c3-bc7b-b273021af8f7",
   "metadata": {},
   "outputs": [],
   "source": [
    "train_set = Data.TensorDataset(torch.Tensor(x_train), torch.Tensor(y_train))\n",
    "train_loader = Data.DataLoader(train_set, batch_size=1, shuffle=True)"
   ]
  },
  {
   "cell_type": "code",
   "execution_count": null,
   "id": "93d7cc21-13db-4f26-844a-35c773a38061",
   "metadata": {},
   "outputs": [],
   "source": [
    "train.shape, test.shape"
   ]
  },
  {
   "cell_type": "code",
   "execution_count": null,
   "id": "82cc0123-c4cf-44df-9ad2-ee41fd366e1e",
   "metadata": {},
   "outputs": [],
   "source": [
    "train = train.reset_index()\n",
    "train.drop('data_date', axis=1)"
   ]
  },
  {
   "cell_type": "code",
   "execution_count": null,
   "id": "736b99ce-989f-4ce9-8546-acec787463e6",
   "metadata": {},
   "outputs": [],
   "source": [
    "x = torch.linspace(0, 10, 100).reshape(-1, 1)\n",
    "y = torch.sin(x) + 0.02*torch.randn(x.shape)"
   ]
  },
  {
   "cell_type": "code",
   "execution_count": null,
   "id": "adc63de8-b4a3-4637-880a-301bf988ac36",
   "metadata": {},
   "outputs": [],
   "source": [
    "x = torch.Tensor(list(range(len(train)))).reshape(-1, 1)\n",
    "y = torch.Tensor(train.ordered_units.values)"
   ]
  },
  {
   "cell_type": "code",
   "execution_count": null,
   "id": "8c5a5f16-87c1-456f-95bd-b634872aea8b",
   "metadata": {},
   "outputs": [],
   "source": [
    "dataset = Data.TensorDataset(x, y)"
   ]
  },
  {
   "cell_type": "code",
   "execution_count": null,
   "id": "1fe7aa3c-f760-48e2-974a-412a4148c1e6",
   "metadata": {
    "tags": []
   },
   "outputs": [],
   "source": [
    "plt.plot(x, y)"
   ]
  },
  {
   "cell_type": "code",
   "execution_count": null,
   "id": "1a2eaf6c-cc15-4324-8c28-1a3e06847de5",
   "metadata": {},
   "outputs": [],
   "source": [
    "dataloader = Data.DataLoader(dataset, batch_size=10, shuffle=True)"
   ]
  },
  {
   "cell_type": "code",
   "execution_count": null,
   "id": "4e8c8eca-237e-40d3-a5de-414dc362d1f1",
   "metadata": {},
   "outputs": [],
   "source": [
    "class DNN(nn.Module):\n",
    "    def __init__(self):\n",
    "        super().__init__()\n",
    "        self.main = nn.Sequential(\n",
    "            nn.Linear(1, 200),\n",
    "            nn.ReLU(),\n",
    "            nn.Linear(200, 200),\n",
    "            nn.ReLU(),\n",
    "            nn.Linear(200, 200),\n",
    "            nn.ReLU(),\n",
    "            nn.Linear(200, 1),\n",
    "\n",
    "        )\n",
    "\n",
    "    def forward(self, x):\n",
    "        out = self.main(x)\n",
    "        return out\n",
    "\n",
    "\n",
    "dnn = DNN()\n",
    "\n",
    "loss_func = torch.nn.MSELoss()\n",
    "optimizer = torch.optim.Adam(dnn.parameters(), lr=0.001)"
   ]
  },
  {
   "cell_type": "code",
   "execution_count": null,
   "id": "f0b88ccf-d017-4367-8e00-aa1e675f717f",
   "metadata": {
    "tags": []
   },
   "outputs": [],
   "source": [
    "epochs = 10000\n",
    "\n",
    "for epoch in range(epochs):\n",
    "    for data, target in dataloader:\n",
    "        pred = dnn(data)\n",
    "        loss = loss_func(pred, target)\n",
    "\n",
    "        optimizer.zero_grad()\n",
    "        loss.backward()\n",
    "        optimizer.step()\n",
    "\n",
    "    if epoch % 50 == 0:\n",
    "        print(loss)"
   ]
  },
  {
   "cell_type": "code",
   "execution_count": null,
   "id": "fc508a10-2a68-41e2-88e5-bceda8312db6",
   "metadata": {
    "tags": []
   },
   "outputs": [],
   "source": [
    "plt.plot(x, dnn(x).detach().numpy())"
   ]
  },
  {
   "cell_type": "code",
   "execution_count": null,
   "id": "dea4449a-1c9a-44c8-b006-cccb931b4868",
   "metadata": {},
   "outputs": [],
   "source": [
    "y_test = test.ordered_units.values\n",
    "x_test = torch.arange(567, 567 + 52).reshape(-1, 1).float()\n",
    "dnn(x)"
   ]
  },
  {
   "cell_type": "markdown",
   "id": "4b9bd2f5-5957-45bb-b1f9-d3035e906aac",
   "metadata": {},
   "source": [
    "2019-12-2到2021-8-22一共是630天的数据，所以这里少了6天的数据"
   ]
  },
  {
   "cell_type": "code",
   "execution_count": null,
   "id": "e76ee881-5db1-419b-a5a3-90662cd697fa",
   "metadata": {
    "tags": []
   },
   "outputs": [],
   "source": [
    "# 缺少了多少天的数据\n",
    "set(pd.date_range('2019-12-2', '2021-8-22')).difference(set(alldata.data_date))"
   ]
  },
  {
   "cell_type": "code",
   "execution_count": null,
   "id": "0936d247-72b9-402b-9600-1763f2199904",
   "metadata": {},
   "outputs": [],
   "source": [
    "# 每天的平均销量\n",
    "alldata.ordered_units.mean()"
   ]
  },
  {
   "cell_type": "code",
   "execution_count": null,
   "id": "c6ffca30-169a-457f-a85c-a83bcacf0716",
   "metadata": {},
   "outputs": [],
   "source": [
    "plt.figure(figsize=(15, 5))\n",
    "plt.xticks(rotation=90)\n",
    "plt.plot(alldata.data_date, alldata.ordered_units)\n",
    "plt.plot(alldata.data_date, alldata.ordered_units.rolling(10).mean())"
   ]
  },
  {
   "cell_type": "code",
   "execution_count": null,
   "id": "61fd26f8-0c39-4498-849c-429d7332f046",
   "metadata": {},
   "outputs": [],
   "source": [
    "print(adfuller(alldata.ordered_units, 1))"
   ]
  },
  {
   "cell_type": "markdown",
   "id": "89e90912-7706-4d5f-8730-f3f5f326b541",
   "metadata": {},
   "source": [
    "序列平稳"
   ]
  },
  {
   "cell_type": "code",
   "execution_count": null,
   "id": "ce5e6510-7a29-4cea-911e-a3b4eb2f8ad5",
   "metadata": {},
   "outputs": [],
   "source": [
    "roll_window = alldata.ordered_units.rolling(10, )"
   ]
  },
  {
   "cell_type": "code",
   "execution_count": null,
   "id": "7e6bbece-eee6-4f12-b4d1-b6e02fb920ca",
   "metadata": {},
   "outputs": [],
   "source": [
    "plt.plot(roll_window.mean().values)"
   ]
  },
  {
   "cell_type": "code",
   "execution_count": null,
   "id": "ba1e819a-67a7-4140-b434-f00f08d8bf54",
   "metadata": {},
   "outputs": [],
   "source": [
    "sns.distplot(alldata.ordered_units, fit=stats.norm)"
   ]
  },
  {
   "cell_type": "code",
   "execution_count": null,
   "id": "684672f2-b245-4319-9c16-4ab341ca7555",
   "metadata": {},
   "outputs": [],
   "source": [
    "# 偏度\n",
    "alldata.ordered_units.skew()"
   ]
  },
  {
   "cell_type": "code",
   "execution_count": null,
   "id": "2caaf226-81bb-4873-b1d9-36fa8884f5df",
   "metadata": {},
   "outputs": [],
   "source": [
    "from scipy.special import boxcox1p\n",
    "boxcox1p(alldata.ordered_units, 0.21).skew()"
   ]
  },
  {
   "cell_type": "code",
   "execution_count": null,
   "id": "394d939d-8c82-425d-9c0d-0b423ca8d60e",
   "metadata": {},
   "outputs": [],
   "source": [
    "sns.distplot(boxcox1p(alldata.ordered_units, 0.21), fit=stats.norm)"
   ]
  },
  {
   "cell_type": "markdown",
   "id": "b6f8616d-c4ed-45c2-ade3-c8147bbc9e09",
   "metadata": {},
   "source": [
    "## 数据预处理"
   ]
  },
  {
   "cell_type": "markdown",
   "id": "f33d9ffc-ad44-4c9a-8409-3004615fbaba",
   "metadata": {},
   "source": [
    "### 异常值，删除小于等于0的数值和离群点"
   ]
  },
  {
   "cell_type": "markdown",
   "id": "7760e0c0-69df-453b-a770-ffe63b16d73e",
   "metadata": {},
   "source": [
    "### 缺失值"
   ]
  },
  {
   "cell_type": "code",
   "execution_count": null,
   "id": "c8d0af97-d65f-4a7a-b103-bc85154e7930",
   "metadata": {},
   "outputs": [],
   "source": [
    "alldata.isnull().sum()"
   ]
  },
  {
   "cell_type": "markdown",
   "id": "de005c50-1832-458f-89d9-17c41a7d01b5",
   "metadata": {},
   "source": [
    "无缺失值不用处理"
   ]
  },
  {
   "cell_type": "markdown",
   "id": "1145eda8-a6d2-4b3a-98f0-4d48d9e15384",
   "metadata": {},
   "source": [
    "### 创造特征"
   ]
  },
  {
   "cell_type": "code",
   "execution_count": null,
   "id": "da1ad1d7-93fe-4028-b470-d3b0faa4ee2b",
   "metadata": {},
   "outputs": [],
   "source": [
    "def create_feature(df):\n",
    "    # 添加权重特征\n",
    "    df['weight'] = df.data_date.apply(lambda x: (\n",
    "        x - pd.to_datetime('2019-12-02')).days)\n",
    "    df['year'] = df.data_date.dt.year\n",
    "    df['month'] = df.data_date.dt.month\n",
    "    df['day'] = df.data_date.dt.day\n",
    "    df['weekday'] = df.data_date.dt.weekday  # 周几\n",
    "    df['quarter'] = df.data_date.dt.quarter  # 季度\n",
    "    df['weekofyear'] = df.data_date.dt.weekofyear\n",
    "\n",
    "    df.drop('data_date', axis=1, inplace=True)\n",
    "    return df"
   ]
  },
  {
   "cell_type": "code",
   "execution_count": null,
   "id": "96a34693-43cf-4ebd-a38d-00d3e59531b2",
   "metadata": {},
   "outputs": [],
   "source": [
    "alldata = create_feature(alldata)"
   ]
  },
  {
   "cell_type": "code",
   "execution_count": null,
   "id": "ba3c67ee-d208-46fa-8a3b-ba8f033eb54d",
   "metadata": {},
   "outputs": [],
   "source": [
    "alldata.head(3)"
   ]
  },
  {
   "cell_type": "code",
   "execution_count": null,
   "id": "79f58828-3de5-42b8-8b2a-a6e671e14d86",
   "metadata": {},
   "outputs": [],
   "source": [
    "x = alldata.drop('ordered_units', axis=1)\n",
    "y = alldata['ordered_units']\n",
    "x_train, x_test, y_train, y_test = train_test_split(\n",
    "    x, y, test_size=0.1, random_state=0, shuffle=False)"
   ]
  },
  {
   "cell_type": "code",
   "execution_count": null,
   "id": "699d6b3d-3f32-4a22-9c31-675137fe43c7",
   "metadata": {},
   "outputs": [],
   "source": [
    "x_train.shape, x_test.shape"
   ]
  },
  {
   "cell_type": "code",
   "execution_count": null,
   "id": "c92a23e5-cf4b-48aa-9b4b-5a7985b58984",
   "metadata": {},
   "outputs": [],
   "source": [
    "x_train.head(2)"
   ]
  },
  {
   "cell_type": "code",
   "execution_count": null,
   "id": "1d1a1b2a-5bf4-41bd-aad7-64cb5c85fd14",
   "metadata": {},
   "outputs": [],
   "source": [
    "x_test.head(2)"
   ]
  },
  {
   "cell_type": "markdown",
   "id": "fadb456c-69e7-4faa-a107-faf5f2bd1993",
   "metadata": {},
   "source": [
    "### 编码"
   ]
  },
  {
   "cell_type": "code",
   "execution_count": null,
   "id": "7d1ea43f-bad7-49ac-b803-80501cc5ada0",
   "metadata": {},
   "outputs": [],
   "source": [
    "weight_cat = list(range(1000))\n",
    "year_category = [2019, 2020, 2021, 2022]\n",
    "month_category = list(range(1, 13))\n",
    "day_category = list(range(1, 32))\n",
    "weekday_cat = list(range(7))\n",
    "quarter_cat = [1, 2, 3, 4]\n",
    "weekofyear_cat = list(range(1, 54))\n",
    "\n",
    "encoder = OneHotEncoder(sparse=False,\n",
    "                        categories=[weight_cat, year_category, month_category,\n",
    "                                    day_category, weekday_cat, quarter_cat, weekofyear_cat],\n",
    "                        handle_unknown='error')\n",
    "\n",
    "x_train = encoder.fit_transform(x_train)\n",
    "x_test = encoder.transform(x_test)\n",
    "x_train.shape, x_test.shape"
   ]
  },
  {
   "cell_type": "code",
   "execution_count": null,
   "id": "09f01c50-67bb-48f1-96da-f9b8dd51c585",
   "metadata": {},
   "outputs": [],
   "source": [
    "x_train = pd.DataFrame(x_train, columns=encoder.get_feature_names())\n",
    "x_test = pd.DataFrame(x_test, columns=encoder.get_feature_names())\n",
    "x_train.head(1)"
   ]
  },
  {
   "cell_type": "markdown",
   "id": "0b25cf6f-0109-4077-9e7f-108d80e33729",
   "metadata": {},
   "source": [
    "## 训练"
   ]
  },
  {
   "cell_type": "markdown",
   "id": "167490ec-f77f-4b52-bca1-35e268b3d722",
   "metadata": {},
   "source": [
    "### sklearn api"
   ]
  },
  {
   "cell_type": "code",
   "execution_count": null,
   "id": "7ca3fdef-f483-434c-ae85-0a3e8081365a",
   "metadata": {
    "tags": []
   },
   "outputs": [],
   "source": [
    "xgbr = XGBRegressor(n_estimators=200,\n",
    "                    learning_rate=0.35,\n",
    "                    max_depth=7,\n",
    "                    subsample=0.6,\n",
    "                    colsample_bytree=0.7,\n",
    "                    objective='reg:squarederror',\n",
    "                    base_score=0.5,\n",
    "                    gamma=1,\n",
    "                    n_jobs=8, verbosity=1)"
   ]
  },
  {
   "cell_type": "code",
   "execution_count": null,
   "id": "1a3a5551-d56c-4043-bc89-a7c54dce37ea",
   "metadata": {},
   "outputs": [],
   "source": [
    "ts = time()\n",
    "kf = KFold()\n",
    "print(cross_val_score(xgbr, x, y, cv=kf))\n",
    "time() - ts"
   ]
  },
  {
   "cell_type": "code",
   "execution_count": null,
   "id": "b18bd84e-96df-4522-8ca9-f328c2c0d3b2",
   "metadata": {},
   "outputs": [],
   "source": [
    "ts = time()\n",
    "tscv = TimeSeriesSplit(10)\n",
    "print(cross_val_score(xgbr, x_train, y_train, cv=tscv))\n",
    "time() - ts"
   ]
  },
  {
   "cell_type": "code",
   "execution_count": null,
   "id": "9de5e727-f8ec-4cc3-ba4f-5e1b35bf8363",
   "metadata": {
    "tags": []
   },
   "outputs": [],
   "source": [
    "xgbr.fit(x_train, y_train, eval_set=[(x_train, y_train), (x_test, y_test)],\n",
    "         early_stopping_rounds=20, verbose=True)"
   ]
  },
  {
   "cell_type": "code",
   "execution_count": null,
   "id": "f171ed1a-9dd7-4925-9d52-ee65901d3b91",
   "metadata": {},
   "outputs": [],
   "source": [
    "# # 网格搜索\n",
    "# # params_grid = {'learning_rate': np.arange(0, 1, 0.05)}\n",
    "\n",
    "# # params_grid = {'max_depth': range(0, 8, 1)}\n",
    "\n",
    "# # params_grid = {'subsample': np.arange(0, 1, 0.05)}\n",
    "# params_grid = {'colsample_bytree': np.arange(0, 1, 0.05)}\n",
    "\n",
    "# gridCV = GridSearchCV(xgbr, params_grid, cv=5, scoring='r2', n_jobs=8)\n",
    "\n",
    "# ts = time()\n",
    "# gridCV.fit(x_train, y_train)\n",
    "# print(time() - ts)\n",
    "# gridCV.best_params_, gridCV.best_score_"
   ]
  },
  {
   "cell_type": "code",
   "execution_count": null,
   "id": "8760765a-f182-4231-90bb-3ab0d43af422",
   "metadata": {},
   "outputs": [],
   "source": [
    "# result = xgbr.evals_result()\n",
    "# plt.plot(result['validation_0']['rmse'])\n",
    "# plt.plot(result['validation_1']['rmse'])"
   ]
  },
  {
   "cell_type": "markdown",
   "id": "fe419330-41b8-4fdd-af00-e644bf902f6e",
   "metadata": {},
   "source": [
    "## 测试"
   ]
  },
  {
   "cell_type": "markdown",
   "id": "00330fe6-0bb7-4d91-b043-c147319b68a4",
   "metadata": {},
   "source": [
    "### sklearn api"
   ]
  },
  {
   "cell_type": "code",
   "execution_count": null,
   "id": "76cc57f4-433c-42a0-ac47-204abae2f94b",
   "metadata": {},
   "outputs": [],
   "source": [
    "y_pred = xgbr.predict(x_test)\n",
    "print('metrics1: {:.3f}\\nmetrics2: {:.3f}\\nr2: {:.3f}'.format(metrics1(y_test, y_pred),\n",
    "                                                              metrics2(\n",
    "                                                                  y_test, y_pred),\n",
    "                                                              r2_score(y_test, y_pred)))"
   ]
  },
  {
   "cell_type": "code",
   "execution_count": null,
   "id": "6e52120a-87b8-4acc-8ddf-5fbc4100bcab",
   "metadata": {
    "tags": []
   },
   "outputs": [],
   "source": [
    "plt.figure(figsize=(15, 4))\n",
    "plt.plot(y_test.values, label='true')\n",
    "plt.plot(y_pred, label='predict')\n",
    "plt.xticks(rotation=90)\n",
    "plt.grid()\n",
    "plt.legend(fontsize=15)"
   ]
  },
  {
   "cell_type": "code",
   "execution_count": null,
   "id": "62ecea5d-9ec2-44ed-9c75-3f6bad3d8a58",
   "metadata": {
    "tags": []
   },
   "outputs": [],
   "source": [
    "date_pred = pd.DataFrame({'data_date': pd.date_range('2021-8-23', periods=30)})"
   ]
  },
  {
   "cell_type": "code",
   "execution_count": null,
   "id": "3e3d90ba-fd4f-4ac7-9870-e79cfc7a8250",
   "metadata": {
    "tags": []
   },
   "outputs": [],
   "source": [
    "create_feature(date_pred)"
   ]
  },
  {
   "cell_type": "code",
   "execution_count": null,
   "id": "b5fc4566-1cf6-42d2-abb4-acf4d48515e9",
   "metadata": {},
   "outputs": [],
   "source": [
    "date_pred = encoder.transform(date_pred)"
   ]
  },
  {
   "cell_type": "code",
   "execution_count": null,
   "id": "c4b32e27-e0cb-40b3-8965-f22641232085",
   "metadata": {},
   "outputs": [],
   "source": [
    "pred = xgbr.predict(date_pred)"
   ]
  },
  {
   "cell_type": "code",
   "execution_count": null,
   "id": "37e3fc26-6ee3-4662-b7fd-9bdad1eb41db",
   "metadata": {},
   "outputs": [],
   "source": [
    "pred"
   ]
  },
  {
   "cell_type": "code",
   "execution_count": null,
   "id": "d5f80e14-b3d8-4cb2-986a-f59cd2dfa984",
   "metadata": {},
   "outputs": [],
   "source": [
    "plt.plot(pred)"
   ]
  },
  {
   "cell_type": "code",
   "execution_count": null,
   "id": "614b3f7e-0cf9-4be1-924c-e95e3006a8e2",
   "metadata": {
    "tags": []
   },
   "outputs": [],
   "source": [
    "a = xgbr.get_booster().get_score(importance_type='gain')\n",
    "# len(a)\n",
    "sorted(a.items(), key=lambda x: x[1], reverse=True)"
   ]
  },
  {
   "cell_type": "markdown",
   "id": "3de6b509-1f09-45e9-93e1-41ce0fca1fac",
   "metadata": {},
   "source": [
    "### xgboost api"
   ]
  },
  {
   "cell_type": "code",
   "execution_count": null,
   "id": "11feb4c5-759d-4f9d-9c7e-e5e19209a0b6",
   "metadata": {},
   "outputs": [],
   "source": [
    "dtest = xgb.DMatrix(x_test, y_test)"
   ]
  },
  {
   "cell_type": "code",
   "execution_count": null,
   "id": "2a1fcba7-c825-47a5-8aad-d9da7b5e4b05",
   "metadata": {
    "tags": []
   },
   "outputs": [],
   "source": [
    "y_pred = model.predict(dtest)\n",
    "print('metrics1: {:.3f}\\nmetrics2: {:.3f}\\nr2: {:.3f}'.format(metrics1(y_test, y_pred),\n",
    "                                                              metrics2(\n",
    "                                                                  y_test, y_pred),\n",
    "                                                              r2_score(y_test, y_pred)))"
   ]
  },
  {
   "cell_type": "code",
   "execution_count": null,
   "id": "8d64e389-ffae-4baa-94ed-6687a8a652c8",
   "metadata": {
    "tags": []
   },
   "outputs": [],
   "source": [
    "plt.figure(figsize=(15, 4))\n",
    "plt.plot(y_test.values, label='true')\n",
    "plt.plot(y_pred, label='predict')\n",
    "plt.xticks(rotation=90)\n",
    "plt.grid()\n",
    "plt.legend()"
   ]
  },
  {
   "cell_type": "code",
   "execution_count": null,
   "id": "e0636bb9-17ce-4068-b643-b65107a8d651",
   "metadata": {
    "tags": []
   },
   "outputs": [],
   "source": [
    "model.get_score(importance_type='gain')"
   ]
  },
  {
   "cell_type": "code",
   "execution_count": null,
   "id": "471c6358-fc9a-4fd2-b827-7f87583206e4",
   "metadata": {},
   "outputs": [],
   "source": [
    "xgb.to_graphviz(model, num_trees=0)"
   ]
  },
  {
   "cell_type": "code",
   "execution_count": null,
   "id": "3d66f43c-243d-4c29-8e55-8679fd60e0d1",
   "metadata": {},
   "outputs": [],
   "source": [
    "import xgboost\n",
    "from xgboost import XGBClassifier\n",
    "from sklearn.datasets import load_iris\n",
    "\n",
    "iris = load_iris()\n",
    "x, y = iris.data, iris.target\n",
    "model = XGBClassifier()\n",
    "model.fit(x, y)\n",
    "# 如果输入是没有表头的array,会自动以f1,f2开始,需要更换表头\n",
    "# 画树结构图的时候也需要替换表头\n",
    "\n",
    "model.get_booster().feature_names = iris.feature_names\n",
    "# max_num_features指定排名最靠前的多少特征\n",
    "# height=0.2指定柱状图每个柱子的粗细,默认是0.2\n",
    "# importance_type='weight'默认是用特征子树中的出现次数(被选择次数),还有\"gain\"和\"cover\"\n",
    "xgboost.plot_importance(model, max_num_features=5, importance_type='gain')\n",
    "\n",
    "# f_score就是feature score\n",
    "model.feature_importances_  # 这里的特征重要性就是gain进行归一化之后的值"
   ]
  },
  {
   "cell_type": "code",
   "execution_count": null,
   "id": "dd4b31d8-f739-4a84-92f8-9afe79e24dec",
   "metadata": {},
   "outputs": [],
   "source": [
    "model.feature_importances_.sum()"
   ]
  },
  {
   "cell_type": "code",
   "execution_count": null,
   "id": "4c049132-c614-473f-8d0f-b19f32f17f4c",
   "metadata": {},
   "outputs": [],
   "source": [
    "2.9918/(2.9918+1.3149+0.0727+0.0424)"
   ]
  },
  {
   "cell_type": "code",
   "execution_count": null,
   "id": "6f243925-4941-47e8-a29c-4125a1fd33ae",
   "metadata": {},
   "outputs": [],
   "source": [
    "xgb.to_graphviz(model, num_trees=1)"
   ]
  },
  {
   "cell_type": "code",
   "execution_count": null,
   "id": "c5381199-7c3d-4994-ada5-241bc2b93f37",
   "metadata": {},
   "outputs": [],
   "source": [
    "from sklearn.tree import DecisionTreeClassifier"
   ]
  },
  {
   "cell_type": "code",
   "execution_count": null,
   "id": "d447552f-45a8-409b-b90b-b065c7d59901",
   "metadata": {},
   "outputs": [],
   "source": [
    "dt = DecisionTreeClassifier(max_depth=2)"
   ]
  },
  {
   "cell_type": "code",
   "execution_count": null,
   "id": "69db9610-8e22-4734-81bd-5396cb7cb7b0",
   "metadata": {},
   "outputs": [],
   "source": [
    "dt.fit(x, y)"
   ]
  },
  {
   "cell_type": "code",
   "execution_count": null,
   "id": "fce50630-1bfb-405a-a1fc-0d04f9e1d32f",
   "metadata": {},
   "outputs": [],
   "source": [
    "import graphviz\n",
    "from sklearn import tree\n",
    "import pydotplus\n",
    "from IPython.display import Image"
   ]
  },
  {
   "cell_type": "code",
   "execution_count": null,
   "id": "b2ef1d0a-2def-471d-89b9-1477a9cf57d3",
   "metadata": {},
   "outputs": [],
   "source": [
    "# 对于决策树来说，特征重要性就等于这个特征分裂的时候的总信息增益，这个特征有可能分裂，加到一起就行\n",
    "dt.feature_importances_"
   ]
  },
  {
   "cell_type": "code",
   "execution_count": null,
   "id": "43fa5105-deda-4418-9822-2ab931b1c52c",
   "metadata": {},
   "outputs": [],
   "source": [
    "dot = tree.export_graphviz(dt)\n",
    "graph = pydotplus.graph_from_dot_data(dot)\n",
    "Image(graph.create_png())"
   ]
  }
 ],
 "metadata": {
  "kernelspec": {
   "display_name": "Python 3",
   "language": "python",
   "name": "python3"
  },
  "language_info": {
   "codemirror_mode": {
    "name": "ipython",
    "version": 3
   },
   "file_extension": ".py",
   "mimetype": "text/x-python",
   "name": "python",
   "nbconvert_exporter": "python",
   "pygments_lexer": "ipython3",
   "version": "3.7.0"
  },
  "toc-autonumbering": false,
  "toc-showcode": false,
  "toc-showmarkdowntxt": false
 },
 "nbformat": 4,
 "nbformat_minor": 5
}
