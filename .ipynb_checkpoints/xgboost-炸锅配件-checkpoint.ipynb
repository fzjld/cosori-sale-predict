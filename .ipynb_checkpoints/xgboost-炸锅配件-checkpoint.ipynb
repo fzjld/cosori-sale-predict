{
 "cells": [
  {
   "cell_type": "markdown",
   "id": "a8d04ebd-6bcb-4755-8f82-950541c326bd",
   "metadata": {},
   "source": [
    "- 添加更多的特征，例如季度\n",
    "- 使用网格搜索技术设置超参数"
   ]
  },
  {
   "cell_type": "code",
   "execution_count": 1,
   "id": "73b20828-5422-423d-85ff-449137ac570c",
   "metadata": {},
   "outputs": [],
   "source": [
    "import xgboost as xgb\n",
    "import os\n",
    "import seaborn as sns\n",
    "import pandas as pd\n",
    "import numpy as np\n",
    "from xgboost import XGBRegressor\n",
    "from sklearn.model_selection import RandomizedSearchCV,  TimeSeriesSplit, GridSearchCV, KFold\n",
    "from sklearn.preprocessing import OneHotEncoder, LabelEncoder, OrdinalEncoder\n",
    "from sklearn.metrics import mean_squared_error, r2_score\n",
    "from time import time\n",
    "import joblib\n",
    "import pickle\n",
    "import pylab as plt\n",
    "import warnings\n",
    "import torch.nn as nn\n",
    "import random\n",
    "from utils import *\n",
    "warnings.filterwarnings('ignore')\n",
    "\n",
    "pd.set_option('display.max_rows', 100)\n",
    "pd.set_option('display.max_columns', None)\n",
    "pd.set_option('display.float_format', lambda x: '%.4f' % x)\n",
    "np.set_printoptions(suppress=True)\n",
    "sns.set_style({'font.sans-serif': ['simhei', 'Arial']})   # 解决画图中文乱码\n",
    "\n",
    "%matplotlib inline"
   ]
  },
  {
   "cell_type": "code",
   "execution_count": 6,
   "id": "51ba87a8-a620-4161-8bff-836b0dd8bb51",
   "metadata": {},
   "outputs": [],
   "source": [
    "def train(asin):\n",
    "    '''\n",
    "    :param asin: 产品asin\n",
    "    :return: 训练后的模型，保存为产品asin+.pkl\n",
    "    '''\n",
    "    data = pd.read_csv('./data.csv', encoding='GBK')\n",
    "    data.data_date = pd.to_datetime(data.data_date)\n",
    "    train = data[data.asin == asin][[\n",
    "        'data_date', 'ordered_units']].sort_values('data_date')\n",
    "\n",
    "    # 异常值处理\n",
    "    # 删除掉小于0的销量\n",
    "    train.drop(train[train.ordered_units <= 0].index, inplace=True)\n",
    "    #\n",
    "#     train.drop(train.ordered_units.nlargest(\n",
    "#         random.choice([3, 4, 5, 6])).index, inplace=True)\n",
    "\n",
    "    # 特征构造\n",
    "    train_featured = create_feature(train)\n",
    "\n",
    "    # 随机网格参数搜索\n",
    "    xgbr = XGBRegressor(n_estimators=1500,\n",
    "                        learning_rate=0.1,\n",
    "                        min_child_weight=0.2,\n",
    "                        max_depth=5,\n",
    "                        subsample=0.7,\n",
    "                        colsample_bytree=1,\n",
    "                        objective='reg:squarederror',\n",
    "                        gamma=2,\n",
    "                        n_jobs=8)\n",
    "\n",
    "    params_dict = {'n_estimators': np.arange(200, 600, 100),\n",
    "                   'learning_rate': np.arange(0, 1, 0.1),\n",
    "                   'max_depth': np.arange(2, 9),\n",
    "                   'subsample': np.arange(0.5, 1.0, 0.1),\n",
    "                   'colsample_bytree': np.arange(0.5, 1.0, 0.1),\n",
    "                   'min_child_weight': np.arange(0, 5, 1),\n",
    "                   'gamma': np.arange(0, 5, 1),\n",
    "                   }\n",
    "\n",
    "    timeKF = TimeSeriesSplit(n_splits=5)\n",
    "    rscv = RandomizedSearchCV(xgbr, params_dict, n_iter=100, cv=timeKF, scoring='r2')\n",
    "    x = train_featured.drop('ordered_units', axis=1)\n",
    "    y = train_featured.ordered_units\n",
    "    rscv.fit(x, y)\n",
    "\n",
    "    # 使用最好的参数进行训练\n",
    "    xgbr = XGBRegressor(**rscv.best_params_)\n",
    "    xgbr.fit(x, y, verbose=0)\n",
    "\n",
    "    # 保存模型\n",
    "    save_path = os.path.join('model', asin)\n",
    "    joblib.dump(xgbr, save_path + '.pkl')"
   ]
  },
  {
   "cell_type": "code",
   "execution_count": 7,
   "id": "b90b1235-42c5-4cf9-8dd6-d4c996fbb1fc",
   "metadata": {},
   "outputs": [],
   "source": [
    "def predict(asin, start, end, digits=None):\n",
    "    xgbr_load = joblib.load('model/' + asin + '.pkl')\n",
    "    daterange = pd.DataFrame(\n",
    "        {'data_date': pd.date_range(start=start, end=end)})\n",
    "    feature = create_feature(daterange)\n",
    "    prediction = xgbr_load.predict(feature)\n",
    "    prediction = [(\"%.\"+str(digits)+\"f\") % i for i in prediction.tolist()]\n",
    "    return prediction"
   ]
  },
  {
   "cell_type": "code",
   "execution_count": 8,
   "id": "fee4321b-c5eb-41a9-90be-1420ab472a66",
   "metadata": {
    "tags": []
   },
   "outputs": [],
   "source": [
    "asin = 'B07MPC7C8G'\n",
    "train(asin)\n",
    "prediction = predict(asin, '2021-8-23', '2022-2-23', 15)"
   ]
  },
  {
   "cell_type": "code",
   "execution_count": 9,
   "id": "b21caa47-a261-4b6f-80f0-cefb87d42887",
   "metadata": {},
   "outputs": [
    {
     "data": {
      "image/png": "[encoded data removed]",
      "text/plain": [
       "<Figure size 1080x360 with 1 Axes>"
      ]
     },
     "metadata": {
      "needs_background": "light"
     },
     "output_type": "display_data"
    }
   ],
   "source": [
    "plt.figure(figsize=(15, 5))\n",
    "plt.plot([float(i) for i in prediction])\n",
    "plt.grid()"
   ]
  },
  {
   "cell_type": "code",
   "execution_count": 44,
   "id": "08122f47-1360-4bd6-94e6-165deec768d6",
   "metadata": {},
   "outputs": [],
   "source": [
    "model = joblib.load('./model/B07MPC7C8G.pkl')"
   ]
  },
  {
   "cell_type": "code",
   "execution_count": 45,
   "id": "06ed1928-220e-4f01-a221-1744bd21e04d",
   "metadata": {},
   "outputs": [
    {
     "data": {
      "text/plain": [
       "array([0.5, 0.5, 0.5, 0.5, 0.5, 0.5, 0.5, 0.5, 0.5, 0.5, 0.5, 0.5, 0.5,\n",
       "       0.5, 0.5, 0.5, 0.5, 0.5, 0.5, 0.5, 0.5, 0.5, 0.5, 0.5, 0.5, 0.5,\n",
       "       0.5, 0.5, 0.5, 0.5, 0.5, 0.5, 0.5, 0.5, 0.5, 0.5, 0.5, 0.5, 0.5,\n",
       "       0.5, 0.5, 0.5, 0.5, 0.5, 0.5, 0.5, 0.5, 0.5, 0.5, 0.5, 0.5, 0.5,\n",
       "       0.5, 0.5, 0.5, 0.5, 0.5, 0.5, 0.5, 0.5, 0.5, 0.5, 0.5, 0.5, 0.5,\n",
       "       0.5, 0.5, 0.5, 0.5, 0.5, 0.5, 0.5, 0.5, 0.5, 0.5, 0.5, 0.5, 0.5,\n",
       "       0.5, 0.5, 0.5, 0.5, 0.5, 0.5, 0.5, 0.5, 0.5, 0.5, 0.5, 0.5, 0.5,\n",
       "       0.5, 0.5, 0.5, 0.5, 0.5, 0.5, 0.5, 0.5, 0.5, 0.5, 0.5, 0.5, 0.5,\n",
       "       0.5, 0.5, 0.5, 0.5, 0.5, 0.5, 0.5, 0.5, 0.5, 0.5, 0.5, 0.5, 0.5,\n",
       "       0.5, 0.5, 0.5, 0.5, 0.5, 0.5, 0.5, 0.5, 0.5, 0.5, 0.5, 0.5, 0.5,\n",
       "       0.5, 0.5, 0.5, 0.5, 0.5, 0.5, 0.5, 0.5, 0.5, 0.5, 0.5, 0.5, 0.5,\n",
       "       0.5, 0.5, 0.5, 0.5, 0.5, 0.5, 0.5, 0.5, 0.5, 0.5, 0.5, 0.5, 0.5,\n",
       "       0.5, 0.5, 0.5, 0.5, 0.5, 0.5, 0.5, 0.5, 0.5, 0.5, 0.5, 0.5, 0.5,\n",
       "       0.5, 0.5, 0.5, 0.5, 0.5, 0.5, 0.5, 0.5, 0.5, 0.5, 0.5, 0.5, 0.5,\n",
       "       0.5, 0.5, 0.5, 0.5, 0.5, 0.5, 0.5, 0.5, 0.5, 0.5, 0.5, 0.5, 0.5,\n",
       "       0.5, 0.5, 0.5, 0.5, 0.5, 0.5, 0.5, 0.5, 0.5, 0.5, 0.5, 0.5, 0.5,\n",
       "       0.5, 0.5, 0.5, 0.5, 0.5, 0.5, 0.5, 0.5, 0.5, 0.5, 0.5, 0.5, 0.5,\n",
       "       0.5, 0.5, 0.5, 0.5, 0.5, 0.5, 0.5, 0.5, 0.5, 0.5, 0.5, 0.5, 0.5,\n",
       "       0.5, 0.5, 0.5, 0.5, 0.5, 0.5, 0.5, 0.5, 0.5, 0.5, 0.5, 0.5, 0.5,\n",
       "       0.5, 0.5, 0.5, 0.5, 0.5, 0.5, 0.5, 0.5, 0.5, 0.5, 0.5, 0.5, 0.5,\n",
       "       0.5, 0.5, 0.5, 0.5, 0.5, 0.5, 0.5, 0.5, 0.5, 0.5, 0.5, 0.5, 0.5,\n",
       "       0.5, 0.5, 0.5, 0.5, 0.5, 0.5, 0.5, 0.5, 0.5, 0.5, 0.5, 0.5, 0.5,\n",
       "       0.5, 0.5, 0.5, 0.5, 0.5, 0.5, 0.5, 0.5, 0.5, 0.5, 0.5, 0.5, 0.5,\n",
       "       0.5, 0.5, 0.5, 0.5, 0.5, 0.5, 0.5, 0.5, 0.5, 0.5, 0.5, 0.5, 0.5,\n",
       "       0.5, 0.5, 0.5, 0.5, 0.5, 0.5, 0.5, 0.5, 0.5, 0.5, 0.5, 0.5, 0.5,\n",
       "       0.5, 0.5, 0.5, 0.5, 0.5, 0.5, 0.5, 0.5, 0.5, 0.5, 0.5, 0.5, 0.5,\n",
       "       0.5, 0.5, 0.5, 0.5, 0.5, 0.5, 0.5, 0.5, 0.5, 0.5, 0.5, 0.5, 0.5,\n",
       "       0.5, 0.5, 0.5, 0.5, 0.5, 0.5, 0.5, 0.5, 0.5, 0.5, 0.5, 0.5, 0.5,\n",
       "       0.5, 0.5, 0.5, 0.5, 0.5, 0.5, 0.5, 0.5, 0.5, 0.5, 0.5, 0.5, 0.5,\n",
       "       0.5, 0.5, 0.5, 0.5, 0.5, 0.5, 0.5, 0.5, 0.5, 0.5, 0.5, 0.5, 0.5,\n",
       "       0.5, 0.5, 0.5, 0.5, 0.5, 0.5, 0.5, 0.5, 0.5, 0.5, 0.5, 0.5, 0.5,\n",
       "       0.5, 0.5, 0.5, 0.5, 0.5, 0.5, 0.5, 0.5, 0.5, 0.5, 0.5, 0.5, 0.5,\n",
       "       0.5, 0.5, 0.5, 0.5, 0.5, 0.5, 0.5, 0.5, 0.5, 0.5, 0.5, 0.5, 0.5,\n",
       "       0.5, 0.5, 0.5, 0.5, 0.5, 0.5, 0.5, 0.5, 0.5, 0.5, 0.5, 0.5, 0.5,\n",
       "       0.5, 0.5, 0.5, 0.5, 0.5, 0.5, 0.5, 0.5, 0.5, 0.5, 0.5, 0.5, 0.5,\n",
       "       0.5, 0.5, 0.5, 0.5, 0.5, 0.5, 0.5, 0.5, 0.5, 0.5, 0.5, 0.5, 0.5,\n",
       "       0.5, 0.5, 0.5, 0.5, 0.5, 0.5, 0.5, 0.5, 0.5, 0.5, 0.5, 0.5, 0.5,\n",
       "       0.5, 0.5, 0.5, 0.5, 0.5, 0.5, 0.5, 0.5, 0.5, 0.5, 0.5, 0.5, 0.5,\n",
       "       0.5, 0.5, 0.5, 0.5, 0.5, 0.5, 0.5, 0.5, 0.5, 0.5, 0.5, 0.5, 0.5,\n",
       "       0.5, 0.5, 0.5, 0.5, 0.5, 0.5, 0.5, 0.5, 0.5, 0.5, 0.5, 0.5, 0.5,\n",
       "       0.5, 0.5, 0.5, 0.5, 0.5, 0.5, 0.5, 0.5, 0.5, 0.5, 0.5, 0.5, 0.5,\n",
       "       0.5, 0.5, 0.5, 0.5, 0.5, 0.5, 0.5, 0.5, 0.5, 0.5, 0.5, 0.5, 0.5,\n",
       "       0.5, 0.5, 0.5, 0.5, 0.5, 0.5, 0.5, 0.5, 0.5, 0.5, 0.5, 0.5, 0.5,\n",
       "       0.5, 0.5, 0.5, 0.5, 0.5, 0.5, 0.5, 0.5, 0.5, 0.5, 0.5, 0.5, 0.5,\n",
       "       0.5, 0.5, 0.5, 0.5, 0.5, 0.5, 0.5, 0.5, 0.5, 0.5, 0.5, 0.5, 0.5,\n",
       "       0.5, 0.5, 0.5, 0.5, 0.5, 0.5, 0.5, 0.5, 0.5, 0.5, 0.5, 0.5, 0.5,\n",
       "       0.5, 0.5, 0.5, 0.5, 0.5, 0.5, 0.5, 0.5, 0.5, 0.5, 0.5, 0.5, 0.5,\n",
       "       0.5, 0.5, 0.5, 0.5, 0.5, 0.5, 0.5, 0.5, 0.5, 0.5, 0.5, 0.5, 0.5,\n",
       "       0.5, 0.5, 0.5, 0.5, 0.5, 0.5, 0.5, 0.5, 0.5, 0.5, 0.5, 0.5, 0.5,\n",
       "       0.5, 0.5, 0.5, 0.5, 0.5, 0.5, 0.5, 0.5, 0.5, 0.5, 0.5, 0.5, 0.5,\n",
       "       0.5, 0.5, 0.5, 0.5, 0.5, 0.5, 0.5, 0.5, 0.5, 0.5, 0.5, 0.5, 0.5,\n",
       "       0.5, 0.5, 0.5, 0.5, 0.5, 0.5, 0.5, 0.5, 0.5, 0.5, 0.5, 0.5, 0.5,\n",
       "       0.5, 0.5, 0.5, 0.5, 0.5, 0.5, 0.5, 0.5, 0.5, 0.5, 0.5, 0.5, 0.5,\n",
       "       0.5, 0.5, 0.5, 0.5, 0.5, 0.5, 0.5, 0.5, 0.5, 0.5, 0.5, 0.5, 0.5,\n",
       "       0.5, 0.5, 0.5, 0.5, 0.5, 0.5, 0.5, 0.5, 0.5, 0.5, 0.5, 0.5, 0.5,\n",
       "       0.5, 0.5, 0.5, 0.5, 0.5, 0.5, 0.5, 0.5, 0.5, 0.5, 0.5, 0.5, 0.5,\n",
       "       0.5, 0.5, 0.5, 0.5, 0.5, 0.5, 0.5, 0.5, 0.5, 0.5, 0.5, 0.5, 0.5,\n",
       "       0.5, 0.5, 0.5, 0.5, 0.5, 0.5, 0.5, 0.5, 0.5, 0.5, 0.5, 0.5, 0.5,\n",
       "       0.5, 0.5, 0.5, 0.5, 0.5, 0.5, 0.5, 0.5, 0.5, 0.5, 0.5, 0.5, 0.5,\n",
       "       0.5, 0.5, 0.5, 0.5, 0.5, 0.5, 0.5, 0.5, 0.5, 0.5, 0.5, 0.5, 0.5,\n",
       "       0.5, 0.5, 0.5, 0.5, 0.5, 0.5, 0.5, 0.5, 0.5, 0.5, 0.5, 0.5, 0.5,\n",
       "       0.5, 0.5, 0.5, 0.5, 0.5, 0.5, 0.5, 0.5, 0.5, 0.5, 0.5, 0.5, 0.5,\n",
       "       0.5, 0.5, 0.5, 0.5, 0.5, 0.5, 0.5, 0.5, 0.5, 0.5, 0.5, 0.5, 0.5,\n",
       "       0.5, 0.5, 0.5, 0.5, 0.5, 0.5, 0.5, 0.5, 0.5, 0.5, 0.5, 0.5, 0.5,\n",
       "       0.5, 0.5, 0.5, 0.5, 0.5, 0.5, 0.5, 0.5, 0.5, 0.5, 0.5, 0.5, 0.5,\n",
       "       0.5, 0.5, 0.5, 0.5, 0.5, 0.5, 0.5, 0.5, 0.5, 0.5, 0.5, 0.5, 0.5,\n",
       "       0.5, 0.5, 0.5, 0.5, 0.5, 0.5, 0.5, 0.5, 0.5, 0.5, 0.5, 0.5, 0.5,\n",
       "       0.5, 0.5, 0.5, 0.5, 0.5, 0.5, 0.5, 0.5, 0.5, 0.5, 0.5, 0.5, 0.5,\n",
       "       0.5, 0.5, 0.5, 0.5, 0.5, 0.5, 0.5, 0.5, 0.5, 0.5, 0.5, 0.5, 0.5,\n",
       "       0.5, 0.5, 0.5, 0.5, 0.5, 0.5, 0.5, 0.5, 0.5, 0.5, 0.5, 0.5, 0.5,\n",
       "       0.5, 0.5, 0.5, 0.5, 0.5, 0.5, 0.5, 0.5, 0.5, 0.5, 0.5, 0.5, 0.5,\n",
       "       0.5, 0.5, 0.5, 0.5, 0.5, 0.5, 0.5, 0.5, 0.5, 0.5, 0.5, 0.5, 0.5,\n",
       "       0.5, 0.5, 0.5, 0.5, 0.5, 0.5, 0.5, 0.5, 0.5], dtype=float32)"
      ]
     },
     "execution_count": 45,
     "metadata": {},
     "output_type": "execute_result"
    }
   ],
   "source": [
    "model.predict(create_feature(pd.DataFrame(\n",
    "        {'data_date': pd.date_range(start='2019-1-29', end='2021-8-30')})))"
   ]
  },
  {
   "cell_type": "code",
   "execution_count": 21,
   "id": "5638c9d2-20d8-4cfc-be0c-e635641bb771",
   "metadata": {},
   "outputs": [
    {
     "data": {
      "text/html": [
       "<div>\n",
       "<style scoped>\n",
       "    .dataframe tbody tr th:only-of-type {\n",
       "        vertical-align: middle;\n",
       "    }\n",
       "\n",
       "    .dataframe tbody tr th {\n",
       "        vertical-align: top;\n",
       "    }\n",
       "\n",
       "    .dataframe thead th {\n",
       "        text-align: right;\n",
       "    }\n",
       "</style>\n",
       "<table border=\"1\" class=\"dataframe\">\n",
       "  <thead>\n",
       "    <tr style=\"text-align: right;\">\n",
       "      <th></th>\n",
       "      <th>id</th>\n",
       "      <th>site_id</th>\n",
       "      <th>asin</th>\n",
       "      <th>data_date</th>\n",
       "      <th>product_title</th>\n",
       "      <th>ordered_revenue</th>\n",
       "      <th>ordered_revenue_of_total</th>\n",
       "      <th>ordered_revenue_last_year</th>\n",
       "      <th>ordered_units</th>\n",
       "      <th>ordered_units_of_total</th>\n",
       "      <th>ordered_units_prior_period</th>\n",
       "      <th>ordered_units_last_year</th>\n",
       "      <th>subcategory_sales_rank</th>\n",
       "      <th>average_sales_price</th>\n",
       "      <th>average_sales_price_prior_period</th>\n",
       "      <th>glance_views</th>\n",
       "      <th>change_in_glance_view_prior_period</th>\n",
       "      <th>change_in_gv_last_year</th>\n",
       "      <th>conversion_rate</th>\n",
       "      <th>rep_oos</th>\n",
       "      <th>rep_oos_of_total</th>\n",
       "      <th>rep_oos_prior_period</th>\n",
       "      <th>lbb_price</th>\n",
       "      <th>create_time</th>\n",
       "      <th>update_time</th>\n",
       "    </tr>\n",
       "  </thead>\n",
       "  <tbody>\n",
       "    <tr>\n",
       "      <th>0</th>\n",
       "      <td>1</td>\n",
       "      <td>eb766123-9f24-436e-9117-49c739816794</td>\n",
       "      <td>B07GJBBGHG</td>\n",
       "      <td>2021-01-02</td>\n",
       "      <td>COSORI 5.8QT Electric Hot Air Fryers Oven Oill...</td>\n",
       "      <td>153827.1800</td>\n",
       "      <td>0.1300</td>\n",
       "      <td>1.2600</td>\n",
       "      <td>1284</td>\n",
       "      <td>0.0600</td>\n",
       "      <td>-0.1300</td>\n",
       "      <td>1.2600</td>\n",
       "      <td>1.0000</td>\n",
       "      <td>119.8000</td>\n",
       "      <td>0.0000</td>\n",
       "      <td>40220.0000</td>\n",
       "      <td>0.0000</td>\n",
       "      <td>1.1900</td>\n",
       "      <td>0.0300</td>\n",
       "      <td>0.0200</td>\n",
       "      <td>0.1400</td>\n",
       "      <td>0.1500</td>\n",
       "      <td>0.0000</td>\n",
       "      <td>2021/1/4 6:48</td>\n",
       "      <td>2021/1/4 6:48</td>\n",
       "    </tr>\n",
       "  </tbody>\n",
       "</table>\n",
       "</div>"
      ],
      "text/plain": [
       "   id                               site_id        asin  data_date  \\\n",
       "0   1  eb766123-9f24-436e-9117-49c739816794  B07GJBBGHG 2021-01-02   \n",
       "\n",
       "                                       product_title  ordered_revenue  \\\n",
       "0  COSORI 5.8QT Electric Hot Air Fryers Oven Oill...      153827.1800   \n",
       "\n",
       "   ordered_revenue_of_total  ordered_revenue_last_year  ordered_units  \\\n",
       "0                    0.1300                     1.2600           1284   \n",
       "\n",
       "   ordered_units_of_total  ordered_units_prior_period  \\\n",
       "0                  0.0600                     -0.1300   \n",
       "\n",
       "   ordered_units_last_year  subcategory_sales_rank  average_sales_price  \\\n",
       "0                   1.2600                  1.0000             119.8000   \n",
       "\n",
       "   average_sales_price_prior_period  glance_views  \\\n",
       "0                            0.0000    40220.0000   \n",
       "\n",
       "   change_in_glance_view_prior_period  change_in_gv_last_year  \\\n",
       "0                              0.0000                  1.1900   \n",
       "\n",
       "   conversion_rate  rep_oos  rep_oos_of_total  rep_oos_prior_period  \\\n",
       "0           0.0300   0.0200            0.1400                0.1500   \n",
       "\n",
       "   lbb_price    create_time    update_time  \n",
       "0     0.0000  2021/1/4 6:48  2021/1/4 6:48  "
      ]
     },
     "execution_count": 21,
     "metadata": {},
     "output_type": "execute_result"
    }
   ],
   "source": [
    "data = pd.read_csv('./data.csv', encoding='GBK')\n",
    "data.data_date = pd.to_datetime(data.data_date)\n",
    "data.head(1)"
   ]
  },
  {
   "cell_type": "code",
   "execution_count": 23,
   "id": "62525d6e-4824-410f-84df-1ad6bb5d15df",
   "metadata": {},
   "outputs": [
    {
     "data": {
      "text/plain": [
       "(626, 2)"
      ]
     },
     "execution_count": 23,
     "metadata": {},
     "output_type": "execute_result"
    }
   ],
   "source": [
    "alldata = data[(data.asin == 'B07QHSZGXC')][['data_date',\n",
    "                                             'ordered_units']].sort_values('data_date')\n",
    "alldata.shape"
   ]
  },
  {
   "cell_type": "code",
   "execution_count": 24,
   "id": "c6d14d10-df30-4a18-9496-b9a10c5fd0db",
   "metadata": {},
   "outputs": [
    {
     "data": {
      "text/html": [
       "<div>\n",
       "<style scoped>\n",
       "    .dataframe tbody tr th:only-of-type {\n",
       "        vertical-align: middle;\n",
       "    }\n",
       "\n",
       "    .dataframe tbody tr th {\n",
       "        vertical-align: top;\n",
       "    }\n",
       "\n",
       "    .dataframe thead th {\n",
       "        text-align: right;\n",
       "    }\n",
       "</style>\n",
       "<table border=\"1\" class=\"dataframe\">\n",
       "  <thead>\n",
       "    <tr style=\"text-align: right;\">\n",
       "      <th></th>\n",
       "      <th>data_date</th>\n",
       "      <th>ordered_units</th>\n",
       "    </tr>\n",
       "  </thead>\n",
       "  <tbody>\n",
       "    <tr>\n",
       "      <th>15974</th>\n",
       "      <td>2019-12-02</td>\n",
       "      <td>1034</td>\n",
       "    </tr>\n",
       "    <tr>\n",
       "      <th>15937</th>\n",
       "      <td>2019-12-03</td>\n",
       "      <td>193</td>\n",
       "    </tr>\n",
       "  </tbody>\n",
       "</table>\n",
       "</div>"
      ],
      "text/plain": [
       "       data_date  ordered_units\n",
       "15974 2019-12-02           1034\n",
       "15937 2019-12-03            193"
      ]
     },
     "execution_count": 24,
     "metadata": {},
     "output_type": "execute_result"
    }
   ],
   "source": [
    "alldata.head(2)"
   ]
  },
  {
   "cell_type": "code",
   "execution_count": 40,
   "id": "88163c42-7616-4030-94a4-b90160d87360",
   "metadata": {},
   "outputs": [
    {
     "data": {
      "text/html": [
       "<div>\n",
       "<style scoped>\n",
       "    .dataframe tbody tr th:only-of-type {\n",
       "        vertical-align: middle;\n",
       "    }\n",
       "\n",
       "    .dataframe tbody tr th {\n",
       "        vertical-align: top;\n",
       "    }\n",
       "\n",
       "    .dataframe thead th {\n",
       "        text-align: right;\n",
       "    }\n",
       "</style>\n",
       "<table border=\"1\" class=\"dataframe\">\n",
       "  <thead>\n",
       "    <tr style=\"text-align: right;\">\n",
       "      <th></th>\n",
       "      <th>data_date</th>\n",
       "      <th>ordered_units</th>\n",
       "    </tr>\n",
       "  </thead>\n",
       "  <tbody>\n",
       "    <tr>\n",
       "      <th>3187</th>\n",
       "      <td>2020-10-30</td>\n",
       "      <td>-1</td>\n",
       "    </tr>\n",
       "    <tr>\n",
       "      <th>19212</th>\n",
       "      <td>2021-02-28</td>\n",
       "      <td>0</td>\n",
       "    </tr>\n",
       "    <tr>\n",
       "      <th>18446</th>\n",
       "      <td>2021-02-27</td>\n",
       "      <td>0</td>\n",
       "    </tr>\n",
       "    <tr>\n",
       "      <th>18502</th>\n",
       "      <td>2021-02-26</td>\n",
       "      <td>0</td>\n",
       "    </tr>\n",
       "    <tr>\n",
       "      <th>18556</th>\n",
       "      <td>2021-02-25</td>\n",
       "      <td>0</td>\n",
       "    </tr>\n",
       "    <tr>\n",
       "      <th>...</th>\n",
       "      <td>...</td>\n",
       "      <td>...</td>\n",
       "    </tr>\n",
       "    <tr>\n",
       "      <th>1393</th>\n",
       "      <td>2020-12-06</td>\n",
       "      <td>1024</td>\n",
       "    </tr>\n",
       "    <tr>\n",
       "      <th>15974</th>\n",
       "      <td>2019-12-02</td>\n",
       "      <td>1034</td>\n",
       "    </tr>\n",
       "    <tr>\n",
       "      <th>25219</th>\n",
       "      <td>2021-06-22</td>\n",
       "      <td>1344</td>\n",
       "    </tr>\n",
       "    <tr>\n",
       "      <th>1688</th>\n",
       "      <td>2020-11-30</td>\n",
       "      <td>1509</td>\n",
       "    </tr>\n",
       "    <tr>\n",
       "      <th>25159</th>\n",
       "      <td>2021-06-21</td>\n",
       "      <td>1892</td>\n",
       "    </tr>\n",
       "  </tbody>\n",
       "</table>\n",
       "<p>626 rows × 2 columns</p>\n",
       "</div>"
      ],
      "text/plain": [
       "       data_date  ordered_units\n",
       "3187  2020-10-30             -1\n",
       "19212 2021-02-28              0\n",
       "18446 2021-02-27              0\n",
       "18502 2021-02-26              0\n",
       "18556 2021-02-25              0\n",
       "...          ...            ...\n",
       "1393  2020-12-06           1024\n",
       "15974 2019-12-02           1034\n",
       "25219 2021-06-22           1344\n",
       "1688  2020-11-30           1509\n",
       "25159 2021-06-21           1892\n",
       "\n",
       "[626 rows x 2 columns]"
      ]
     },
     "execution_count": 40,
     "metadata": {},
     "output_type": "execute_result"
    }
   ],
   "source": [
    "alldata.sort_values('ordered_units')"
   ]
  },
  {
   "cell_type": "code",
   "execution_count": 41,
   "id": "997b18db-3a39-447b-893a-2e5daddbcc49",
   "metadata": {},
   "outputs": [
    {
     "data": {
      "text/plain": [
       "Int64Index([25159, 1688, 25219], dtype='int64')"
      ]
     },
     "execution_count": 41,
     "metadata": {},
     "output_type": "execute_result"
    }
   ],
   "source": [
    "alldata.ordered_units.nlargest(3).index"
   ]
  },
  {
   "cell_type": "code",
   "execution_count": 27,
   "id": "a757ebb8-a18c-453a-a3c9-f84eddfd88da",
   "metadata": {},
   "outputs": [
    {
     "data": {
      "text/plain": [
       "[<matplotlib.lines.Line2D at 0x238f4dc01d0>]"
      ]
     },
     "execution_count": 27,
     "metadata": {},
     "output_type": "execute_result"
    },
    {
     "data": {
      "image/png": "[encoded data removed]",
      "text/plain": [
       "<Figure size 1080x360 with 1 Axes>"
      ]
     },
     "metadata": {
      "needs_background": "light"
     },
     "output_type": "display_data"
    }
   ],
   "source": [
    "plt.figure(figsize=(15, 5))\n",
    "plt.plot(alldata.data_date, alldata.ordered_units)"
   ]
  },
  {
   "cell_type": "markdown",
   "id": "b6f8616d-c4ed-45c2-ade3-c8147bbc9e09",
   "metadata": {},
   "source": [
    "## 数据预处理"
   ]
  },
  {
   "cell_type": "markdown",
   "id": "f33d9ffc-ad44-4c9a-8409-3004615fbaba",
   "metadata": {},
   "source": [
    "### 异常值，删除小于等于0的数值和离群点"
   ]
  },
  {
   "cell_type": "code",
   "execution_count": 5,
   "id": "6ad7f835-580d-4e82-995c-ecbfa1f2ca2d",
   "metadata": {},
   "outputs": [],
   "source": [
    "alldata.drop(alldata[alldata.ordered_units <= 0].index, inplace=True)"
   ]
  },
  {
   "cell_type": "code",
   "execution_count": 6,
   "id": "acc2edf9-eeef-42bf-8973-708a5385c24f",
   "metadata": {
    "tags": []
   },
   "outputs": [
    {
     "data": {
      "text/plain": [
       "<AxesSubplot:xlabel='ordered_units'>"
      ]
     },
     "execution_count": 6,
     "metadata": {},
     "output_type": "execute_result"
    },
    {
     "data": {
      "image/png": "[encoded data removed]",
      "text/plain": [
       "<Figure size 432x288 with 1 Axes>"
      ]
     },
     "metadata": {
      "needs_background": "light"
     },
     "output_type": "display_data"
    }
   ],
   "source": [
    "sns.boxplot(alldata.ordered_units)"
   ]
  },
  {
   "cell_type": "code",
   "execution_count": 7,
   "id": "c0afff07-277a-4dad-a31d-d68a95038a15",
   "metadata": {},
   "outputs": [],
   "source": [
    "alldata.drop(alldata[alldata.ordered_units > 1000].index, inplace=True)"
   ]
  },
  {
   "cell_type": "code",
   "execution_count": 8,
   "id": "812c61fd-d731-4c15-9818-9c18b4091107",
   "metadata": {},
   "outputs": [
    {
     "data": {
      "text/plain": [
       "(612, 2)"
      ]
     },
     "execution_count": 8,
     "metadata": {},
     "output_type": "execute_result"
    }
   ],
   "source": [
    "alldata.shape"
   ]
  },
  {
   "cell_type": "markdown",
   "id": "9b402ed9-0a79-4124-9105-adc4d2bfc621",
   "metadata": {},
   "source": [
    "### 设置样本权重"
   ]
  },
  {
   "cell_type": "code",
   "execution_count": 9,
   "id": "f44e85c2-44a2-4369-87e5-f1b8f30f6eaf",
   "metadata": {},
   "outputs": [],
   "source": [
    "alldata['weight'] = alldata.data_date.apply(lambda x: (\n",
    "    x - pd.to_datetime('2019-12-02')).days)"
   ]
  },
  {
   "cell_type": "code",
   "execution_count": 10,
   "id": "addba760-c1c1-49ac-9d56-604b63c2a744",
   "metadata": {},
   "outputs": [
    {
     "data": {
      "text/html": [
       "<div>\n",
       "<style scoped>\n",
       "    .dataframe tbody tr th:only-of-type {\n",
       "        vertical-align: middle;\n",
       "    }\n",
       "\n",
       "    .dataframe tbody tr th {\n",
       "        vertical-align: top;\n",
       "    }\n",
       "\n",
       "    .dataframe thead th {\n",
       "        text-align: right;\n",
       "    }\n",
       "</style>\n",
       "<table border=\"1\" class=\"dataframe\">\n",
       "  <thead>\n",
       "    <tr style=\"text-align: right;\">\n",
       "      <th></th>\n",
       "      <th>data_date</th>\n",
       "      <th>ordered_units</th>\n",
       "      <th>weight</th>\n",
       "    </tr>\n",
       "  </thead>\n",
       "  <tbody>\n",
       "    <tr>\n",
       "      <th>15937</th>\n",
       "      <td>2019-12-03</td>\n",
       "      <td>193</td>\n",
       "      <td>1</td>\n",
       "    </tr>\n",
       "  </tbody>\n",
       "</table>\n",
       "</div>"
      ],
      "text/plain": [
       "       data_date  ordered_units  weight\n",
       "15937 2019-12-03            193       1"
      ]
     },
     "execution_count": 10,
     "metadata": {},
     "output_type": "execute_result"
    }
   ],
   "source": [
    "alldata.head(1)"
   ]
  },
  {
   "cell_type": "markdown",
   "id": "7760e0c0-69df-453b-a770-ffe63b16d73e",
   "metadata": {},
   "source": [
    "### 缺失值"
   ]
  },
  {
   "cell_type": "code",
   "execution_count": 11,
   "id": "c8d0af97-d65f-4a7a-b103-bc85154e7930",
   "metadata": {},
   "outputs": [
    {
     "data": {
      "text/plain": [
       "data_date        0\n",
       "ordered_units    0\n",
       "weight           0\n",
       "dtype: int64"
      ]
     },
     "execution_count": 11,
     "metadata": {},
     "output_type": "execute_result"
    }
   ],
   "source": [
    "alldata.isnull().sum()"
   ]
  },
  {
   "cell_type": "markdown",
   "id": "de005c50-1832-458f-89d9-17c41a7d01b5",
   "metadata": {},
   "source": [
    "无缺失值不用处理"
   ]
  },
  {
   "cell_type": "markdown",
   "id": "1145eda8-a6d2-4b3a-98f0-4d48d9e15384",
   "metadata": {},
   "source": [
    "### 创造特征"
   ]
  },
  {
   "cell_type": "code",
   "execution_count": 12,
   "id": "da1ad1d7-93fe-4028-b470-d3b0faa4ee2b",
   "metadata": {},
   "outputs": [],
   "source": [
    "def create_feature(df):\n",
    "    df['year'] = df.data_date.dt.year\n",
    "    df['month'] = df.data_date.dt.month\n",
    "    df['day'] = df.data_date.dt.day\n",
    "    df['weekday'] = df.data_date.dt.weekday  # 周几\n",
    "    df['quarter'] = df.data_date.dt.quarter  # 季度\n",
    "    df['weekofyear'] = df.data_date.dt.weekofyear\n",
    "\n",
    "    df.drop('data_date', axis=1, inplace=True)\n",
    "    return df"
   ]
  },
  {
   "cell_type": "code",
   "execution_count": 13,
   "id": "96a34693-43cf-4ebd-a38d-00d3e59531b2",
   "metadata": {},
   "outputs": [],
   "source": [
    "alldata = create_feature(alldata)"
   ]
  },
  {
   "cell_type": "code",
   "execution_count": 14,
   "id": "ba3c67ee-d208-46fa-8a3b-ba8f033eb54d",
   "metadata": {},
   "outputs": [
    {
     "data": {
      "text/html": [
       "<div>\n",
       "<style scoped>\n",
       "    .dataframe tbody tr th:only-of-type {\n",
       "        vertical-align: middle;\n",
       "    }\n",
       "\n",
       "    .dataframe tbody tr th {\n",
       "        vertical-align: top;\n",
       "    }\n",
       "\n",
       "    .dataframe thead th {\n",
       "        text-align: right;\n",
       "    }\n",
       "</style>\n",
       "<table border=\"1\" class=\"dataframe\">\n",
       "  <thead>\n",
       "    <tr style=\"text-align: right;\">\n",
       "      <th></th>\n",
       "      <th>ordered_units</th>\n",
       "      <th>weight</th>\n",
       "      <th>year</th>\n",
       "      <th>month</th>\n",
       "      <th>day</th>\n",
       "      <th>weekday</th>\n",
       "      <th>quarter</th>\n",
       "      <th>weekofyear</th>\n",
       "    </tr>\n",
       "  </thead>\n",
       "  <tbody>\n",
       "    <tr>\n",
       "      <th>15937</th>\n",
       "      <td>193</td>\n",
       "      <td>1</td>\n",
       "      <td>2019</td>\n",
       "      <td>12</td>\n",
       "      <td>3</td>\n",
       "      <td>1</td>\n",
       "      <td>4</td>\n",
       "      <td>49</td>\n",
       "    </tr>\n",
       "    <tr>\n",
       "      <th>15902</th>\n",
       "      <td>212</td>\n",
       "      <td>2</td>\n",
       "      <td>2019</td>\n",
       "      <td>12</td>\n",
       "      <td>4</td>\n",
       "      <td>2</td>\n",
       "      <td>4</td>\n",
       "      <td>49</td>\n",
       "    </tr>\n",
       "    <tr>\n",
       "      <th>15869</th>\n",
       "      <td>211</td>\n",
       "      <td>3</td>\n",
       "      <td>2019</td>\n",
       "      <td>12</td>\n",
       "      <td>5</td>\n",
       "      <td>3</td>\n",
       "      <td>4</td>\n",
       "      <td>49</td>\n",
       "    </tr>\n",
       "  </tbody>\n",
       "</table>\n",
       "</div>"
      ],
      "text/plain": [
       "       ordered_units  weight  year  month  day  weekday  quarter  weekofyear\n",
       "15937            193       1  2019     12    3        1        4          49\n",
       "15902            212       2  2019     12    4        2        4          49\n",
       "15869            211       3  2019     12    5        3        4          49"
      ]
     },
     "execution_count": 14,
     "metadata": {},
     "output_type": "execute_result"
    }
   ],
   "source": [
    "alldata.head(3)"
   ]
  },
  {
   "cell_type": "code",
   "execution_count": 15,
   "id": "79f58828-3de5-42b8-8b2a-a6e671e14d86",
   "metadata": {},
   "outputs": [],
   "source": [
    "x = alldata.drop('ordered_units', axis=1)\n",
    "y = alldata['ordered_units']\n",
    "x_train, x_test, y_train, y_test = train_test_split(\n",
    "    x, y, test_size=0.1)"
   ]
  },
  {
   "cell_type": "markdown",
   "id": "fadb456c-69e7-4faa-a107-faf5f2bd1993",
   "metadata": {},
   "source": [
    "### 编码"
   ]
  },
  {
   "cell_type": "code",
   "execution_count": 16,
   "id": "39c75cd8-a009-4cf5-8a8d-144b152e084c",
   "metadata": {},
   "outputs": [
    {
     "data": {
      "text/html": [
       "<div>\n",
       "<style scoped>\n",
       "    .dataframe tbody tr th:only-of-type {\n",
       "        vertical-align: middle;\n",
       "    }\n",
       "\n",
       "    .dataframe tbody tr th {\n",
       "        vertical-align: top;\n",
       "    }\n",
       "\n",
       "    .dataframe thead th {\n",
       "        text-align: right;\n",
       "    }\n",
       "</style>\n",
       "<table border=\"1\" class=\"dataframe\">\n",
       "  <thead>\n",
       "    <tr style=\"text-align: right;\">\n",
       "      <th></th>\n",
       "      <th>weight</th>\n",
       "      <th>year</th>\n",
       "      <th>month</th>\n",
       "      <th>day</th>\n",
       "      <th>weekday</th>\n",
       "      <th>quarter</th>\n",
       "      <th>weekofyear</th>\n",
       "    </tr>\n",
       "  </thead>\n",
       "  <tbody>\n",
       "    <tr>\n",
       "      <th>12351</th>\n",
       "      <td>103</td>\n",
       "      <td>2020</td>\n",
       "      <td>3</td>\n",
       "      <td>14</td>\n",
       "      <td>5</td>\n",
       "      <td>1</td>\n",
       "      <td>11</td>\n",
       "    </tr>\n",
       "    <tr>\n",
       "      <th>7585</th>\n",
       "      <td>229</td>\n",
       "      <td>2020</td>\n",
       "      <td>7</td>\n",
       "      <td>18</td>\n",
       "      <td>5</td>\n",
       "      <td>3</td>\n",
       "      <td>29</td>\n",
       "    </tr>\n",
       "  </tbody>\n",
       "</table>\n",
       "</div>"
      ],
      "text/plain": [
       "       weight  year  month  day  weekday  quarter  weekofyear\n",
       "12351     103  2020      3   14        5        1          11\n",
       "7585      229  2020      7   18        5        3          29"
      ]
     },
     "execution_count": 16,
     "metadata": {},
     "output_type": "execute_result"
    }
   ],
   "source": [
    "x_train.head(2)"
   ]
  },
  {
   "cell_type": "code",
   "execution_count": 17,
   "id": "20299f7b-5858-4b8b-bc71-543eae38dc4b",
   "metadata": {},
   "outputs": [
    {
     "data": {
      "text/plain": [
       "((550, 660), (62, 660))"
      ]
     },
     "execution_count": 17,
     "metadata": {},
     "output_type": "execute_result"
    }
   ],
   "source": [
    "encoder = OneHotEncoder(sparse=False, handle_unknown='ignore')\n",
    "x_train = encoder.fit_transform(x_train)\n",
    "x_test = encoder.transform(x_test)\n",
    "x_train.shape, x_test.shape"
   ]
  },
  {
   "cell_type": "markdown",
   "id": "6006a595-bcb9-4e71-9770-8d1295c21928",
   "metadata": {},
   "source": [
    "## 评判标准"
   ]
  },
  {
   "cell_type": "code",
   "execution_count": 18,
   "id": "400c6c26-6cd7-485b-ad00-1f91a9cfb6d8",
   "metadata": {},
   "outputs": [],
   "source": [
    "def metrics1(y_true, y_pred):\n",
    "    return 1 - (abs(y_true.sum() - y_pred.sum()) / y_true.sum())\n",
    "\n",
    "\n",
    "def metrics2(y_true, y_pred):\n",
    "    return 1 - (abs(y_true - y_pred) / y_true).mean()"
   ]
  },
  {
   "cell_type": "markdown",
   "id": "0b25cf6f-0109-4077-9e7f-108d80e33729",
   "metadata": {},
   "source": [
    "## 训练"
   ]
  },
  {
   "cell_type": "markdown",
   "id": "167490ec-f77f-4b52-bca1-35e268b3d722",
   "metadata": {},
   "source": [
    "### sklearn api"
   ]
  },
  {
   "cell_type": "code",
   "execution_count": 49,
   "id": "0e8d3478-5ed1-4afc-a713-318b6f015ef1",
   "metadata": {
    "tags": []
   },
   "outputs": [
    {
     "name": "stdout",
     "output_type": "stream",
     "text": [
      "[0]\tvalidation_0-rmse:137.23231\tvalidation_1-rmse:148.64851\n",
      "[1]\tvalidation_0-rmse:102.18877\tvalidation_1-rmse:112.25932\n",
      "[2]\tvalidation_0-rmse:82.39137\tvalidation_1-rmse:91.82483\n",
      "[3]\tvalidation_0-rmse:65.87305\tvalidation_1-rmse:76.12993\n",
      "[4]\tvalidation_0-rmse:58.12199\tvalidation_1-rmse:69.76698\n",
      "[5]\tvalidation_0-rmse:55.44275\tvalidation_1-rmse:68.32814\n",
      "[6]\tvalidation_0-rmse:52.51867\tvalidation_1-rmse:66.00207\n",
      "[7]\tvalidation_0-rmse:49.84221\tvalidation_1-rmse:66.52445\n",
      "[8]\tvalidation_0-rmse:47.18337\tvalidation_1-rmse:67.08934\n",
      "[9]\tvalidation_0-rmse:45.99870\tvalidation_1-rmse:67.07909\n",
      "[10]\tvalidation_0-rmse:45.60914\tvalidation_1-rmse:67.13400\n",
      "[11]\tvalidation_0-rmse:43.87772\tvalidation_1-rmse:65.27140\n",
      "[12]\tvalidation_0-rmse:42.43055\tvalidation_1-rmse:65.31500\n",
      "[13]\tvalidation_0-rmse:40.78472\tvalidation_1-rmse:62.38766\n",
      "[14]\tvalidation_0-rmse:39.38165\tvalidation_1-rmse:62.65072\n",
      "[15]\tvalidation_0-rmse:38.38655\tvalidation_1-rmse:61.82032\n",
      "[16]\tvalidation_0-rmse:37.12559\tvalidation_1-rmse:62.66297\n",
      "[17]\tvalidation_0-rmse:36.45423\tvalidation_1-rmse:62.04208\n",
      "[18]\tvalidation_0-rmse:35.64075\tvalidation_1-rmse:61.97604\n",
      "[19]\tvalidation_0-rmse:35.00243\tvalidation_1-rmse:60.58559\n",
      "[20]\tvalidation_0-rmse:34.16584\tvalidation_1-rmse:60.41018\n",
      "[21]\tvalidation_0-rmse:33.45467\tvalidation_1-rmse:60.52049\n",
      "[22]\tvalidation_0-rmse:31.58826\tvalidation_1-rmse:57.91354\n",
      "[23]\tvalidation_0-rmse:30.73275\tvalidation_1-rmse:58.52848\n",
      "[24]\tvalidation_0-rmse:30.34835\tvalidation_1-rmse:58.50128\n",
      "[25]\tvalidation_0-rmse:29.66820\tvalidation_1-rmse:57.37108\n",
      "[26]\tvalidation_0-rmse:29.49669\tvalidation_1-rmse:57.57235\n",
      "[27]\tvalidation_0-rmse:28.96839\tvalidation_1-rmse:56.64864\n",
      "[28]\tvalidation_0-rmse:28.63901\tvalidation_1-rmse:55.46476\n",
      "[29]\tvalidation_0-rmse:28.17291\tvalidation_1-rmse:56.08282\n",
      "[30]\tvalidation_0-rmse:27.54059\tvalidation_1-rmse:55.45256\n",
      "[31]\tvalidation_0-rmse:27.04728\tvalidation_1-rmse:55.50288\n",
      "[32]\tvalidation_0-rmse:26.53604\tvalidation_1-rmse:55.65136\n",
      "[33]\tvalidation_0-rmse:26.33748\tvalidation_1-rmse:55.27299\n",
      "[34]\tvalidation_0-rmse:26.04686\tvalidation_1-rmse:55.10741\n",
      "[35]\tvalidation_0-rmse:25.41696\tvalidation_1-rmse:55.08484\n",
      "[36]\tvalidation_0-rmse:24.97942\tvalidation_1-rmse:55.45204\n",
      "[37]\tvalidation_0-rmse:24.68358\tvalidation_1-rmse:54.80936\n",
      "[38]\tvalidation_0-rmse:24.07212\tvalidation_1-rmse:54.66383\n",
      "[39]\tvalidation_0-rmse:23.81150\tvalidation_1-rmse:54.73092\n",
      "[40]\tvalidation_0-rmse:23.39859\tvalidation_1-rmse:54.68373\n",
      "[41]\tvalidation_0-rmse:22.96227\tvalidation_1-rmse:54.33989\n",
      "[42]\tvalidation_0-rmse:22.93802\tvalidation_1-rmse:54.15847\n",
      "[43]\tvalidation_0-rmse:22.50117\tvalidation_1-rmse:54.27963\n",
      "[44]\tvalidation_0-rmse:21.80424\tvalidation_1-rmse:53.52396\n",
      "[45]\tvalidation_0-rmse:21.38918\tvalidation_1-rmse:54.26661\n",
      "[46]\tvalidation_0-rmse:21.17241\tvalidation_1-rmse:54.57582\n",
      "[47]\tvalidation_0-rmse:20.84928\tvalidation_1-rmse:54.67939\n",
      "[48]\tvalidation_0-rmse:20.55458\tvalidation_1-rmse:54.76310\n",
      "[49]\tvalidation_0-rmse:20.24057\tvalidation_1-rmse:54.81902\n",
      "[50]\tvalidation_0-rmse:19.89050\tvalidation_1-rmse:53.86869\n",
      "[51]\tvalidation_0-rmse:19.60643\tvalidation_1-rmse:53.79698\n",
      "[52]\tvalidation_0-rmse:19.39683\tvalidation_1-rmse:54.04749\n",
      "[53]\tvalidation_0-rmse:19.05723\tvalidation_1-rmse:54.08537\n",
      "[54]\tvalidation_0-rmse:18.75324\tvalidation_1-rmse:54.33028\n",
      "[55]\tvalidation_0-rmse:18.52461\tvalidation_1-rmse:54.25198\n",
      "[56]\tvalidation_0-rmse:18.25229\tvalidation_1-rmse:53.90703\n",
      "[57]\tvalidation_0-rmse:17.96772\tvalidation_1-rmse:53.77808\n",
      "[58]\tvalidation_0-rmse:17.92211\tvalidation_1-rmse:53.68729\n",
      "[59]\tvalidation_0-rmse:17.68367\tvalidation_1-rmse:53.80014\n",
      "[60]\tvalidation_0-rmse:17.35928\tvalidation_1-rmse:53.94292\n",
      "[61]\tvalidation_0-rmse:16.90967\tvalidation_1-rmse:53.85244\n",
      "[62]\tvalidation_0-rmse:16.69051\tvalidation_1-rmse:53.85417\n",
      "[63]\tvalidation_0-rmse:16.44533\tvalidation_1-rmse:53.49272\n",
      "[64]\tvalidation_0-rmse:16.36813\tvalidation_1-rmse:53.47964\n",
      "[65]\tvalidation_0-rmse:16.10547\tvalidation_1-rmse:53.42385\n",
      "[66]\tvalidation_0-rmse:15.93168\tvalidation_1-rmse:53.38795\n",
      "[67]\tvalidation_0-rmse:15.84475\tvalidation_1-rmse:53.42064\n",
      "[68]\tvalidation_0-rmse:15.72101\tvalidation_1-rmse:53.82341\n",
      "[69]\tvalidation_0-rmse:15.28535\tvalidation_1-rmse:53.56305\n",
      "[70]\tvalidation_0-rmse:15.14158\tvalidation_1-rmse:53.68579\n",
      "[71]\tvalidation_0-rmse:14.87794\tvalidation_1-rmse:53.55029\n",
      "[72]\tvalidation_0-rmse:14.46403\tvalidation_1-rmse:53.23593\n",
      "[73]\tvalidation_0-rmse:14.29531\tvalidation_1-rmse:52.83188\n",
      "[74]\tvalidation_0-rmse:14.06935\tvalidation_1-rmse:53.02321\n",
      "[75]\tvalidation_0-rmse:13.92798\tvalidation_1-rmse:52.55993\n",
      "[76]\tvalidation_0-rmse:13.73775\tvalidation_1-rmse:52.58225\n",
      "[77]\tvalidation_0-rmse:13.55221\tvalidation_1-rmse:52.62643\n",
      "[78]\tvalidation_0-rmse:13.32743\tvalidation_1-rmse:52.43448\n",
      "[79]\tvalidation_0-rmse:13.07272\tvalidation_1-rmse:52.20784\n",
      "[80]\tvalidation_0-rmse:12.92042\tvalidation_1-rmse:52.25143\n",
      "[81]\tvalidation_0-rmse:12.80797\tvalidation_1-rmse:51.71469\n",
      "[82]\tvalidation_0-rmse:12.63439\tvalidation_1-rmse:52.12246\n",
      "[83]\tvalidation_0-rmse:12.44338\tvalidation_1-rmse:52.30759\n",
      "[84]\tvalidation_0-rmse:12.16732\tvalidation_1-rmse:52.51870\n",
      "[85]\tvalidation_0-rmse:11.92613\tvalidation_1-rmse:52.72459\n",
      "[86]\tvalidation_0-rmse:11.77843\tvalidation_1-rmse:52.65506\n",
      "[87]\tvalidation_0-rmse:11.62562\tvalidation_1-rmse:52.76413\n",
      "[88]\tvalidation_0-rmse:11.55755\tvalidation_1-rmse:52.95672\n",
      "[89]\tvalidation_0-rmse:11.51467\tvalidation_1-rmse:53.03863\n",
      "[90]\tvalidation_0-rmse:11.41924\tvalidation_1-rmse:53.04788\n",
      "[91]\tvalidation_0-rmse:11.22903\tvalidation_1-rmse:52.85535\n",
      "[92]\tvalidation_0-rmse:11.20209\tvalidation_1-rmse:52.69430\n",
      "[93]\tvalidation_0-rmse:11.07916\tvalidation_1-rmse:52.49219\n",
      "[94]\tvalidation_0-rmse:11.04361\tvalidation_1-rmse:52.44277\n",
      "[95]\tvalidation_0-rmse:10.86210\tvalidation_1-rmse:52.27489\n",
      "[96]\tvalidation_0-rmse:10.71236\tvalidation_1-rmse:52.63992\n",
      "[97]\tvalidation_0-rmse:10.54011\tvalidation_1-rmse:52.67171\n",
      "[98]\tvalidation_0-rmse:10.40222\tvalidation_1-rmse:52.74698\n",
      "[99]\tvalidation_0-rmse:10.29291\tvalidation_1-rmse:52.77790\n",
      "[100]\tvalidation_0-rmse:10.19740\tvalidation_1-rmse:53.26071\n"
     ]
    },
    {
     "data": {
      "text/plain": [
       "XGBRegressor(base_score=0.5, booster='gbtree', colsample_bylevel=1,\n",
       "             colsample_bynode=1, colsample_bytree=0.7, gamma=0, gpu_id=-1,\n",
       "             importance_type='gain', interaction_constraints='',\n",
       "             learning_rate=0.35, max_delta_step=0, max_depth=7,\n",
       "             min_child_weight=1, missing=nan, monotone_constraints='()',\n",
       "             n_estimators=200, n_jobs=8, num_parallel_tree=1, random_state=0,\n",
       "             reg_alpha=0, reg_lambda=1, scale_pos_weight=1, subsample=0.5,\n",
       "             tree_method='exact', validate_parameters=1, verbosity=1)"
      ]
     },
     "execution_count": 49,
     "metadata": {},
     "output_type": "execute_result"
    }
   ],
   "source": [
    "xgbr = XGBRegressor(n_estimators=200,\n",
    "                    learning_rate=0.35,\n",
    "                    max_depth=7,\n",
    "                    subsample=0.5,\n",
    "                    colsample_bytree=0.7,\n",
    "                    objective='reg:squarederror',\n",
    "                    base_score=0.5,\n",
    "                    gamma=0,\n",
    "                    n_jobs=8, verbosity=1)\n",
    "\n",
    "xgbr.fit(x_train, y_train, eval_set=[(x_train, y_train), (x_test, y_test)],\n",
    "         early_stopping_rounds=20, verbose=True)"
   ]
  },
  {
   "cell_type": "code",
   "execution_count": 42,
   "id": "eede13fb-f7de-4082-828c-563b6b20d160",
   "metadata": {},
   "outputs": [
    {
     "name": "stdout",
     "output_type": "stream",
     "text": [
      "25.799872398376465\n"
     ]
    },
    {
     "data": {
      "text/plain": [
       "({'colsample_bytree': 0.35000000000000003}, 0.5401603236938546)"
      ]
     },
     "execution_count": 42,
     "metadata": {},
     "output_type": "execute_result"
    }
   ],
   "source": [
    "# 网格搜索\n",
    "# params_grid = {'learning_rate': np.arange(0, 1, 0.05)}\n",
    "\n",
    "# params_grid = {'max_depth': range(0, 8, 1)}\n",
    "\n",
    "# params_grid = {'subsample': np.arange(0, 1, 0.05)}\n",
    "params_grid = {'colsample_bytree': np.arange(0, 1, 0.05)}\n",
    "\n",
    "gridCV = GridSearchCV(xgbr, params_grid, cv=5, scoring='r2', n_jobs=8)\n",
    "\n",
    "ts = time()\n",
    "gridCV.fit(x_train, y_train)\n",
    "print(time() - ts)\n",
    "gridCV.best_params_, gridCV.best_score_"
   ]
  },
  {
   "cell_type": "code",
   "execution_count": 21,
   "id": "8760765a-f182-4231-90bb-3ab0d43af422",
   "metadata": {},
   "outputs": [
    {
     "data": {
      "text/plain": [
       "[<matplotlib.lines.Line2D at 0x22ef5e00e48>]"
      ]
     },
     "execution_count": 21,
     "metadata": {},
     "output_type": "execute_result"
    },
    {
     "data": {
      "image/png": "[encoded data removed]",
      "text/plain": [
       "<Figure size 432x288 with 1 Axes>"
      ]
     },
     "metadata": {
      "needs_background": "light"
     },
     "output_type": "display_data"
    }
   ],
   "source": [
    "result = xgbr.evals_result()\n",
    "plt.plot(result['validation_0']['rmse'])\n",
    "plt.plot(result['validation_1']['rmse'])"
   ]
  },
  {
   "cell_type": "markdown",
   "id": "bb3ba10d-23b7-4765-b2f7-ffb93222c625",
   "metadata": {},
   "source": [
    "### xgboost api"
   ]
  },
  {
   "cell_type": "code",
   "execution_count": 54,
   "id": "d167e1d9-fa79-4010-b362-117c5673b791",
   "metadata": {},
   "outputs": [],
   "source": [
    "from scipy import stats"
   ]
  },
  {
   "cell_type": "code",
   "execution_count": 61,
   "id": "87325242-a2e5-48f7-9bf3-229828bed23b",
   "metadata": {},
   "outputs": [],
   "source": [
    "a = alldata['ordered_units'].values"
   ]
  },
  {
   "cell_type": "code",
   "execution_count": 70,
   "id": "9c562102-a7fd-445f-8622-3120693e9658",
   "metadata": {},
   "outputs": [
    {
     "data": {
      "text/plain": [
       "2.4194993342466002"
      ]
     },
     "execution_count": 70,
     "metadata": {},
     "output_type": "execute_result"
    }
   ],
   "source": [
    "alldata['ordered_units'].skew()"
   ]
  },
  {
   "cell_type": "code",
   "execution_count": 72,
   "id": "17631994-2984-4ba7-a712-2b6db8c61236",
   "metadata": {},
   "outputs": [
    {
     "data": {
      "text/plain": [
       "-1.8515227570106834"
      ]
     },
     "execution_count": 72,
     "metadata": {},
     "output_type": "execute_result"
    }
   ],
   "source": [
    "np.log1p(alldata['ordered_units']).skew()"
   ]
  },
  {
   "cell_type": "code",
   "execution_count": 66,
   "id": "2f28bbdf-f820-42fe-870b-f41833dc28b2",
   "metadata": {
    "collapsed": true,
    "jupyter": {
     "outputs_hidden": true
    },
    "tags": []
   },
   "outputs": [
    {
     "data": {
      "text/plain": [
       "((array([-3.0532325 , -2.77648076, -2.62123772, -2.51134701, -2.4253611 ,\n",
       "         -2.35426865, -2.29339597, -2.23999504, -2.19230805, -2.14914009,\n",
       "         -2.10964062, -2.07318196, -2.03928718, -2.00758509, -1.97778092,\n",
       "         -1.94963656, -1.92295678, -1.89757944, -1.8733684 , -1.85020814,\n",
       "         -1.8279998 , -1.80665808, -1.78610886, -1.76628731, -1.74713637,\n",
       "         -1.72860557, -1.71065003, -1.69322964, -1.67630845, -1.65985406,\n",
       "         -1.64383717, -1.62823122, -1.61301203, -1.59815754, -1.58364755,\n",
       "         -1.56946353, -1.5555884 , -1.54200646, -1.52870315, -1.51566502,\n",
       "         -1.50287957, -1.49033518, -1.47802101, -1.46592698, -1.45404365,\n",
       "         -1.44236216, -1.43087425, -1.41957213, -1.40844849, -1.39749644,\n",
       "         -1.3867095 , -1.37608155, -1.36560679, -1.35527976, -1.34509528,\n",
       "         -1.33504844, -1.32513458, -1.31534928, -1.30568833, -1.29614772,\n",
       "         -1.28672367, -1.27741252, -1.26821082, -1.25911527, -1.25012271,\n",
       "         -1.24123012, -1.23243461, -1.22373343, -1.21512393, -1.20660356,\n",
       "         -1.1981699 , -1.18982061, -1.18155345, -1.17336627, -1.16525698,\n",
       "         -1.15722362, -1.14926424, -1.14137702, -1.13356017, -1.12581197,\n",
       "         -1.11813078, -1.110515  , -1.10296309, -1.09547357, -1.08804499,\n",
       "         -1.08067598, -1.07336519, -1.06611132, -1.05891312, -1.05176937,\n",
       "         -1.0446789 , -1.03764056, -1.03065325, -1.02371591, -1.01682748,\n",
       "         -1.00998697, -1.0031934 , -0.99644581, -0.98974329, -0.98308494,\n",
       "         -0.97646989, -0.9698973 , -0.96336634, -0.95687621, -0.95042614,\n",
       "         -0.94401538, -0.93764317, -0.93130882, -0.92501161, -0.91875087,\n",
       "         -0.91252594, -0.90633617, -0.90018093, -0.89405961, -0.88797161,\n",
       "         -0.88191634, -0.87589324, -0.86990174, -0.86394132, -0.85801143,\n",
       "         -0.85211155, -0.84624119, -0.84039985, -0.83458705, -0.8288023 ,\n",
       "         -0.82304516, -0.81731518, -0.8116119 , -0.8059349 , -0.80028375,\n",
       "         -0.79465805, -0.78905739, -0.78348137, -0.7779296 , -0.77240171,\n",
       "         -0.76689731, -0.76141606, -0.75595759, -0.75052155, -0.7451076 ,\n",
       "         -0.7397154 , -0.73434463, -0.72899495, -0.72366605, -0.71835763,\n",
       "         -0.71306937, -0.70780098, -0.70255216, -0.69732263, -0.6921121 ,\n",
       "         -0.68692029, -0.68174693, -0.67659175, -0.6714545 , -0.6663349 ,\n",
       "         -0.66123271, -0.65614767, -0.65107954, -0.64602808, -0.64099306,\n",
       "         -0.63597423, -0.63097137, -0.62598425, -0.62101265, -0.61605636,\n",
       "         -0.61111515, -0.60618882, -0.60127716, -0.59637996, -0.59149702,\n",
       "         -0.58662814, -0.58177313, -0.57693179, -0.57210394, -0.56728939,\n",
       "         -0.56248795, -0.55769945, -0.5529237 , -0.54816052, -0.54340975,\n",
       "         -0.53867121, -0.53394474, -0.52923017, -0.52452733, -0.51983606,\n",
       "         -0.51515621, -0.51048761, -0.50583011, -0.50118355, -0.4965478 ,\n",
       "         -0.49192269, -0.48730808, -0.48270382, -0.47810977, -0.47352579,\n",
       "         -0.46895174, -0.46438748, -0.45983288, -0.45528779, -0.45075209,\n",
       "         -0.44622565, -0.44170832, -0.4372    , -0.43270054, -0.42820983,\n",
       "         -0.42372773, -0.41925413, -0.41478891, -0.41033194, -0.4058831 ,\n",
       "         -0.40144229, -0.39700938, -0.39258425, -0.38816681, -0.38375692,\n",
       "         -0.37935448, -0.37495938, -0.37057152, -0.36619077, -0.36181705,\n",
       "         -0.35745023, -0.35309022, -0.34873691, -0.3443902 , -0.34004999,\n",
       "         -0.33571617, -0.33138865, -0.32706733, -0.32275211, -0.31844289,\n",
       "         -0.31413957, -0.30984206, -0.30555027, -0.3012641 , -0.29698345,\n",
       "         -0.29270824, -0.28843838, -0.28417376, -0.27991431, -0.27565993,\n",
       "         -0.27141054, -0.26716604, -0.26292634, -0.25869137, -0.25446104,\n",
       "         -0.25023525, -0.24601392, -0.24179698, -0.23758433, -0.23337589,\n",
       "         -0.22917158, -0.22497132, -0.22077503, -0.21658261, -0.21239401,\n",
       "         -0.20820912, -0.20402788, -0.1998502 , -0.19567601, -0.19150522,\n",
       "         -0.18733776, -0.18317355, -0.17901252, -0.17485459, -0.17069967,\n",
       "         -0.1665477 , -0.1623986 , -0.15825229, -0.1541087 , -0.14996776,\n",
       "         -0.14582939, -0.14169351, -0.13756005, -0.13342894, -0.12930011,\n",
       "         -0.12517349, -0.12104899, -0.11692655, -0.1128061 , -0.10868756,\n",
       "         -0.10457086, -0.10045594, -0.09634271, -0.09223112, -0.08812108,\n",
       "         -0.08401253, -0.0799054 , -0.07579962, -0.07169511, -0.06759181,\n",
       "         -0.06348965, -0.05938856, -0.05528847, -0.0511893 , -0.047091  ,\n",
       "         -0.04299349, -0.03889669, -0.03480055, -0.030705  , -0.02660996,\n",
       "         -0.02251536, -0.01842115, -0.01432724, -0.01023357, -0.00614007,\n",
       "         -0.00204668,  0.00204668,  0.00614007,  0.01023357,  0.01432724,\n",
       "          0.01842115,  0.02251536,  0.02660996,  0.030705  ,  0.03480055,\n",
       "          0.03889669,  0.04299349,  0.047091  ,  0.0511893 ,  0.05528847,\n",
       "          0.05938856,  0.06348965,  0.06759181,  0.07169511,  0.07579962,\n",
       "          0.0799054 ,  0.08401253,  0.08812108,  0.09223112,  0.09634271,\n",
       "          0.10045594,  0.10457086,  0.10868756,  0.1128061 ,  0.11692655,\n",
       "          0.12104899,  0.12517349,  0.12930011,  0.13342894,  0.13756005,\n",
       "          0.14169351,  0.14582939,  0.14996776,  0.1541087 ,  0.15825229,\n",
       "          0.1623986 ,  0.1665477 ,  0.17069967,  0.17485459,  0.17901252,\n",
       "          0.18317355,  0.18733776,  0.19150522,  0.19567601,  0.1998502 ,\n",
       "          0.20402788,  0.20820912,  0.21239401,  0.21658261,  0.22077503,\n",
       "          0.22497132,  0.22917158,  0.23337589,  0.23758433,  0.24179698,\n",
       "          0.24601392,  0.25023525,  0.25446104,  0.25869137,  0.26292634,\n",
       "          0.26716604,  0.27141054,  0.27565993,  0.27991431,  0.28417376,\n",
       "          0.28843838,  0.29270824,  0.29698345,  0.3012641 ,  0.30555027,\n",
       "          0.30984206,  0.31413957,  0.31844289,  0.32275211,  0.32706733,\n",
       "          0.33138865,  0.33571617,  0.34004999,  0.3443902 ,  0.34873691,\n",
       "          0.35309022,  0.35745023,  0.36181705,  0.36619077,  0.37057152,\n",
       "          0.37495938,  0.37935448,  0.38375692,  0.38816681,  0.39258425,\n",
       "          0.39700938,  0.40144229,  0.4058831 ,  0.41033194,  0.41478891,\n",
       "          0.41925413,  0.42372773,  0.42820983,  0.43270054,  0.4372    ,\n",
       "          0.44170832,  0.44622565,  0.45075209,  0.45528779,  0.45983288,\n",
       "          0.46438748,  0.46895174,  0.47352579,  0.47810977,  0.48270382,\n",
       "          0.48730808,  0.49192269,  0.4965478 ,  0.50118355,  0.50583011,\n",
       "          0.51048761,  0.51515621,  0.51983606,  0.52452733,  0.52923017,\n",
       "          0.53394474,  0.53867121,  0.54340975,  0.54816052,  0.5529237 ,\n",
       "          0.55769945,  0.56248795,  0.56728939,  0.57210394,  0.57693179,\n",
       "          0.58177313,  0.58662814,  0.59149702,  0.59637996,  0.60127716,\n",
       "          0.60618882,  0.61111515,  0.61605636,  0.62101265,  0.62598425,\n",
       "          0.63097137,  0.63597423,  0.64099306,  0.64602808,  0.65107954,\n",
       "          0.65614767,  0.66123271,  0.6663349 ,  0.6714545 ,  0.67659175,\n",
       "          0.68174693,  0.68692029,  0.6921121 ,  0.69732263,  0.70255216,\n",
       "          0.70780098,  0.71306937,  0.71835763,  0.72366605,  0.72899495,\n",
       "          0.73434463,  0.7397154 ,  0.7451076 ,  0.75052155,  0.75595759,\n",
       "          0.76141606,  0.76689731,  0.77240171,  0.7779296 ,  0.78348137,\n",
       "          0.78905739,  0.79465805,  0.80028375,  0.8059349 ,  0.8116119 ,\n",
       "          0.81731518,  0.82304516,  0.8288023 ,  0.83458705,  0.84039985,\n",
       "          0.84624119,  0.85211155,  0.85801143,  0.86394132,  0.86990174,\n",
       "          0.87589324,  0.88191634,  0.88797161,  0.89405961,  0.90018093,\n",
       "          0.90633617,  0.91252594,  0.91875087,  0.92501161,  0.93130882,\n",
       "          0.93764317,  0.94401538,  0.95042614,  0.95687621,  0.96336634,\n",
       "          0.9698973 ,  0.97646989,  0.98308494,  0.98974329,  0.99644581,\n",
       "          1.0031934 ,  1.00998697,  1.01682748,  1.02371591,  1.03065325,\n",
       "          1.03764056,  1.0446789 ,  1.05176937,  1.05891312,  1.06611132,\n",
       "          1.07336519,  1.08067598,  1.08804499,  1.09547357,  1.10296309,\n",
       "          1.110515  ,  1.11813078,  1.12581197,  1.13356017,  1.14137702,\n",
       "          1.14926424,  1.15722362,  1.16525698,  1.17336627,  1.18155345,\n",
       "          1.18982061,  1.1981699 ,  1.20660356,  1.21512393,  1.22373343,\n",
       "          1.23243461,  1.24123012,  1.25012271,  1.25911527,  1.26821082,\n",
       "          1.27741252,  1.28672367,  1.29614772,  1.30568833,  1.31534928,\n",
       "          1.32513458,  1.33504844,  1.34509528,  1.35527976,  1.36560679,\n",
       "          1.37608155,  1.3867095 ,  1.39749644,  1.40844849,  1.41957213,\n",
       "          1.43087425,  1.44236216,  1.45404365,  1.46592698,  1.47802101,\n",
       "          1.49033518,  1.50287957,  1.51566502,  1.52870315,  1.54200646,\n",
       "          1.5555884 ,  1.56946353,  1.58364755,  1.59815754,  1.61301203,\n",
       "          1.62823122,  1.64383717,  1.65985406,  1.67630845,  1.69322964,\n",
       "          1.71065003,  1.72860557,  1.74713637,  1.76628731,  1.78610886,\n",
       "          1.80665808,  1.8279998 ,  1.85020814,  1.8733684 ,  1.89757944,\n",
       "          1.92295678,  1.94963656,  1.97778092,  2.00758509,  2.03928718,\n",
       "          2.07318196,  2.10964062,  2.14914009,  2.19230805,  2.23999504,\n",
       "          2.29339597,  2.35426865,  2.4253611 ,  2.51134701,  2.62123772,\n",
       "          2.77648076,  3.0532325 ]),\n",
       "  array([  1,   2,   3,   4,   4,   6,   9,   9,  11,  15,  15,  15,  19,\n",
       "          21,  23,  25,  25,  25,  26,  27,  28,  29,  29,  29,  31,  31,\n",
       "          31,  31,  34,  34,  35,  36,  38,  38,  40,  40,  41,  41,  42,\n",
       "          43,  44,  44,  45,  47,  48,  51,  51,  52,  53,  54,  55,  56,\n",
       "          56,  56,  56,  57,  59,  59,  59,  60,  60,  61,  62,  62,  62,\n",
       "          62,  64,  68,  70,  71,  71,  74,  74,  75,  75,  75,  75,  77,\n",
       "          79,  79,  79,  80,  80,  80,  80,  80,  81,  81,  82,  83,  83,\n",
       "          83,  83,  84,  85,  85,  85,  85,  85,  86,  86,  86,  86,  87,\n",
       "          87,  87,  87,  88,  88,  88,  89,  89,  89,  91,  91,  92,  92,\n",
       "          93,  93,  93,  93,  93,  93,  93,  94,  94,  94,  95,  96,  97,\n",
       "          97,  98, 100, 100, 100, 100, 101, 102, 102, 102, 103, 103, 105,\n",
       "         106, 106, 108, 108, 109, 110, 111, 111, 111, 112, 113, 113, 113,\n",
       "         114, 114, 116, 116, 117, 117, 117, 117, 117, 119, 119, 119, 120,\n",
       "         121, 121, 121, 121, 121, 122, 122, 123, 124, 124, 124, 124, 125,\n",
       "         125, 126, 126, 126, 127, 127, 127, 127, 128, 128, 128, 128, 129,\n",
       "         129, 129, 130, 130, 130, 131, 131, 132, 132, 132, 132, 133, 133,\n",
       "         133, 133, 133, 134, 134, 134, 135, 135, 135, 135, 136, 136, 136,\n",
       "         136, 136, 136, 137, 137, 137, 137, 138, 138, 138, 138, 139, 139,\n",
       "         139, 139, 140, 140, 140, 140, 140, 140, 140, 141, 141, 141, 141,\n",
       "         142, 142, 142, 143, 143, 143, 144, 144, 144, 145, 145, 145, 145,\n",
       "         145, 145, 146, 147, 147, 147, 147, 147, 147, 148, 148, 148, 148,\n",
       "         148, 149, 149, 149, 149, 149, 149, 149, 150, 150, 150, 150, 150,\n",
       "         150, 150, 150, 151, 151, 151, 151, 151, 151, 152, 152, 152, 152,\n",
       "         153, 153, 153, 153, 153, 154, 154, 154, 154, 155, 155, 155, 155,\n",
       "         155, 155, 155, 155, 155, 156, 157, 158, 158, 158, 158, 158, 159,\n",
       "         159, 159, 159, 159, 159, 160, 160, 160, 160, 160, 161, 161, 162,\n",
       "         162, 162, 162, 162, 163, 163, 163, 163, 164, 164, 165, 165, 165,\n",
       "         166, 166, 166, 166, 166, 166, 166, 167, 167, 167, 167, 167, 167,\n",
       "         168, 168, 168, 168, 168, 169, 169, 169, 169, 169, 169, 169, 169,\n",
       "         170, 170, 170, 170, 170, 171, 171, 171, 171, 171, 172, 172, 172,\n",
       "         172, 172, 172, 172, 173, 173, 173, 174, 174, 174, 174, 174, 175,\n",
       "         175, 175, 176, 176, 176, 177, 177, 177, 177, 178, 178, 178, 178,\n",
       "         178, 178, 178, 179, 180, 180, 180, 180, 180, 180, 180, 181, 181,\n",
       "         182, 182, 182, 182, 183, 183, 183, 184, 184, 184, 184, 185, 185,\n",
       "         185, 186, 186, 186, 187, 187, 189, 190, 190, 191, 191, 191, 192,\n",
       "         192, 192, 193, 193, 194, 194, 194, 194, 195, 195, 195, 195, 195,\n",
       "         195, 196, 196, 197, 197, 198, 198, 198, 198, 199, 199, 199, 199,\n",
       "         199, 200, 200, 200, 200, 201, 201, 201, 202, 202, 203, 204, 204,\n",
       "         205, 206, 206, 206, 206, 206, 207, 207, 207, 207, 209, 210, 211,\n",
       "         211, 211, 212, 212, 213, 214, 214, 216, 217, 218, 218, 221, 223,\n",
       "         224, 225, 226, 226, 227, 227, 229, 229, 229, 229, 230, 231, 231,\n",
       "         233, 233, 233, 234, 234, 235, 235, 236, 237, 237, 237, 237, 238,\n",
       "         240, 240, 240, 240, 241, 241, 244, 245, 246, 247, 250, 251, 251,\n",
       "         257, 257, 261, 265, 266, 274, 278, 279, 283, 286, 286, 286, 293,\n",
       "         301, 303, 303, 304, 310, 311, 314, 316, 325, 327, 333, 348, 353,\n",
       "         362, 365, 370, 372, 410, 414, 416, 423, 425, 427, 428, 435, 443,\n",
       "         460, 474, 483, 490, 513, 546, 551, 557, 577, 601, 615, 721, 753,\n",
       "         886], dtype=int64)),\n",
       " (89.57507487559973, 163.7941176470588, 0.9002753501171666))"
      ]
     },
     "execution_count": 66,
     "metadata": {},
     "output_type": "execute_result"
    },
    {
     "data": {
      "image/png": "[encoded data removed]",
      "text/plain": [
       "<Figure size 432x288 with 1 Axes>"
      ]
     },
     "metadata": {
      "needs_background": "light"
     },
     "output_type": "display_data"
    }
   ],
   "source": [
    "plt.figure()\n",
    "stats.probplot(a, plot=plt)"
   ]
  },
  {
   "cell_type": "code",
   "execution_count": 58,
   "id": "6ff0ceb7-8fe3-4e85-b34e-08ed0f9ecdb8",
   "metadata": {},
   "outputs": [
    {
     "data": {
      "text/plain": [
       "((array([-3.0532325 , -2.77648076, -2.62123772, -2.51134701, -2.4253611 ,\n",
       "         -2.35426865, -2.29339597, -2.23999504, -2.19230805, -2.14914009,\n",
       "         -2.10964062, -2.07318196, -2.03928718, -2.00758509, -1.97778092,\n",
       "         -1.94963656, -1.92295678, -1.89757944, -1.8733684 , -1.85020814,\n",
       "         -1.8279998 , -1.80665808, -1.78610886, -1.76628731, -1.74713637,\n",
       "         -1.72860557, -1.71065003, -1.69322964, -1.67630845, -1.65985406,\n",
       "         -1.64383717, -1.62823122, -1.61301203, -1.59815754, -1.58364755,\n",
       "         -1.56946353, -1.5555884 , -1.54200646, -1.52870315, -1.51566502,\n",
       "         -1.50287957, -1.49033518, -1.47802101, -1.46592698, -1.45404365,\n",
       "         -1.44236216, -1.43087425, -1.41957213, -1.40844849, -1.39749644,\n",
       "         -1.3867095 , -1.37608155, -1.36560679, -1.35527976, -1.34509528,\n",
       "         -1.33504844, -1.32513458, -1.31534928, -1.30568833, -1.29614772,\n",
       "         -1.28672367, -1.27741252, -1.26821082, -1.25911527, -1.25012271,\n",
       "         -1.24123012, -1.23243461, -1.22373343, -1.21512393, -1.20660356,\n",
       "         -1.1981699 , -1.18982061, -1.18155345, -1.17336627, -1.16525698,\n",
       "         -1.15722362, -1.14926424, -1.14137702, -1.13356017, -1.12581197,\n",
       "         -1.11813078, -1.110515  , -1.10296309, -1.09547357, -1.08804499,\n",
       "         -1.08067598, -1.07336519, -1.06611132, -1.05891312, -1.05176937,\n",
       "         -1.0446789 , -1.03764056, -1.03065325, -1.02371591, -1.01682748,\n",
       "         -1.00998697, -1.0031934 , -0.99644581, -0.98974329, -0.98308494,\n",
       "         -0.97646989, -0.9698973 , -0.96336634, -0.95687621, -0.95042614,\n",
       "         -0.94401538, -0.93764317, -0.93130882, -0.92501161, -0.91875087,\n",
       "         -0.91252594, -0.90633617, -0.90018093, -0.89405961, -0.88797161,\n",
       "         -0.88191634, -0.87589324, -0.86990174, -0.86394132, -0.85801143,\n",
       "         -0.85211155, -0.84624119, -0.84039985, -0.83458705, -0.8288023 ,\n",
       "         -0.82304516, -0.81731518, -0.8116119 , -0.8059349 , -0.80028375,\n",
       "         -0.79465805, -0.78905739, -0.78348137, -0.7779296 , -0.77240171,\n",
       "         -0.76689731, -0.76141606, -0.75595759, -0.75052155, -0.7451076 ,\n",
       "         -0.7397154 , -0.73434463, -0.72899495, -0.72366605, -0.71835763,\n",
       "         -0.71306937, -0.70780098, -0.70255216, -0.69732263, -0.6921121 ,\n",
       "         -0.68692029, -0.68174693, -0.67659175, -0.6714545 , -0.6663349 ,\n",
       "         -0.66123271, -0.65614767, -0.65107954, -0.64602808, -0.64099306,\n",
       "         -0.63597423, -0.63097137, -0.62598425, -0.62101265, -0.61605636,\n",
       "         -0.61111515, -0.60618882, -0.60127716, -0.59637996, -0.59149702,\n",
       "         -0.58662814, -0.58177313, -0.57693179, -0.57210394, -0.56728939,\n",
       "         -0.56248795, -0.55769945, -0.5529237 , -0.54816052, -0.54340975,\n",
       "         -0.53867121, -0.53394474, -0.52923017, -0.52452733, -0.51983606,\n",
       "         -0.51515621, -0.51048761, -0.50583011, -0.50118355, -0.4965478 ,\n",
       "         -0.49192269, -0.48730808, -0.48270382, -0.47810977, -0.47352579,\n",
       "         -0.46895174, -0.46438748, -0.45983288, -0.45528779, -0.45075209,\n",
       "         -0.44622565, -0.44170832, -0.4372    , -0.43270054, -0.42820983,\n",
       "         -0.42372773, -0.41925413, -0.41478891, -0.41033194, -0.4058831 ,\n",
       "         -0.40144229, -0.39700938, -0.39258425, -0.38816681, -0.38375692,\n",
       "         -0.37935448, -0.37495938, -0.37057152, -0.36619077, -0.36181705,\n",
       "         -0.35745023, -0.35309022, -0.34873691, -0.3443902 , -0.34004999,\n",
       "         -0.33571617, -0.33138865, -0.32706733, -0.32275211, -0.31844289,\n",
       "         -0.31413957, -0.30984206, -0.30555027, -0.3012641 , -0.29698345,\n",
       "         -0.29270824, -0.28843838, -0.28417376, -0.27991431, -0.27565993,\n",
       "         -0.27141054, -0.26716604, -0.26292634, -0.25869137, -0.25446104,\n",
       "         -0.25023525, -0.24601392, -0.24179698, -0.23758433, -0.23337589,\n",
       "         -0.22917158, -0.22497132, -0.22077503, -0.21658261, -0.21239401,\n",
       "         -0.20820912, -0.20402788, -0.1998502 , -0.19567601, -0.19150522,\n",
       "         -0.18733776, -0.18317355, -0.17901252, -0.17485459, -0.17069967,\n",
       "         -0.1665477 , -0.1623986 , -0.15825229, -0.1541087 , -0.14996776,\n",
       "         -0.14582939, -0.14169351, -0.13756005, -0.13342894, -0.12930011,\n",
       "         -0.12517349, -0.12104899, -0.11692655, -0.1128061 , -0.10868756,\n",
       "         -0.10457086, -0.10045594, -0.09634271, -0.09223112, -0.08812108,\n",
       "         -0.08401253, -0.0799054 , -0.07579962, -0.07169511, -0.06759181,\n",
       "         -0.06348965, -0.05938856, -0.05528847, -0.0511893 , -0.047091  ,\n",
       "         -0.04299349, -0.03889669, -0.03480055, -0.030705  , -0.02660996,\n",
       "         -0.02251536, -0.01842115, -0.01432724, -0.01023357, -0.00614007,\n",
       "         -0.00204668,  0.00204668,  0.00614007,  0.01023357,  0.01432724,\n",
       "          0.01842115,  0.02251536,  0.02660996,  0.030705  ,  0.03480055,\n",
       "          0.03889669,  0.04299349,  0.047091  ,  0.0511893 ,  0.05528847,\n",
       "          0.05938856,  0.06348965,  0.06759181,  0.07169511,  0.07579962,\n",
       "          0.0799054 ,  0.08401253,  0.08812108,  0.09223112,  0.09634271,\n",
       "          0.10045594,  0.10457086,  0.10868756,  0.1128061 ,  0.11692655,\n",
       "          0.12104899,  0.12517349,  0.12930011,  0.13342894,  0.13756005,\n",
       "          0.14169351,  0.14582939,  0.14996776,  0.1541087 ,  0.15825229,\n",
       "          0.1623986 ,  0.1665477 ,  0.17069967,  0.17485459,  0.17901252,\n",
       "          0.18317355,  0.18733776,  0.19150522,  0.19567601,  0.1998502 ,\n",
       "          0.20402788,  0.20820912,  0.21239401,  0.21658261,  0.22077503,\n",
       "          0.22497132,  0.22917158,  0.23337589,  0.23758433,  0.24179698,\n",
       "          0.24601392,  0.25023525,  0.25446104,  0.25869137,  0.26292634,\n",
       "          0.26716604,  0.27141054,  0.27565993,  0.27991431,  0.28417376,\n",
       "          0.28843838,  0.29270824,  0.29698345,  0.3012641 ,  0.30555027,\n",
       "          0.30984206,  0.31413957,  0.31844289,  0.32275211,  0.32706733,\n",
       "          0.33138865,  0.33571617,  0.34004999,  0.3443902 ,  0.34873691,\n",
       "          0.35309022,  0.35745023,  0.36181705,  0.36619077,  0.37057152,\n",
       "          0.37495938,  0.37935448,  0.38375692,  0.38816681,  0.39258425,\n",
       "          0.39700938,  0.40144229,  0.4058831 ,  0.41033194,  0.41478891,\n",
       "          0.41925413,  0.42372773,  0.42820983,  0.43270054,  0.4372    ,\n",
       "          0.44170832,  0.44622565,  0.45075209,  0.45528779,  0.45983288,\n",
       "          0.46438748,  0.46895174,  0.47352579,  0.47810977,  0.48270382,\n",
       "          0.48730808,  0.49192269,  0.4965478 ,  0.50118355,  0.50583011,\n",
       "          0.51048761,  0.51515621,  0.51983606,  0.52452733,  0.52923017,\n",
       "          0.53394474,  0.53867121,  0.54340975,  0.54816052,  0.5529237 ,\n",
       "          0.55769945,  0.56248795,  0.56728939,  0.57210394,  0.57693179,\n",
       "          0.58177313,  0.58662814,  0.59149702,  0.59637996,  0.60127716,\n",
       "          0.60618882,  0.61111515,  0.61605636,  0.62101265,  0.62598425,\n",
       "          0.63097137,  0.63597423,  0.64099306,  0.64602808,  0.65107954,\n",
       "          0.65614767,  0.66123271,  0.6663349 ,  0.6714545 ,  0.67659175,\n",
       "          0.68174693,  0.68692029,  0.6921121 ,  0.69732263,  0.70255216,\n",
       "          0.70780098,  0.71306937,  0.71835763,  0.72366605,  0.72899495,\n",
       "          0.73434463,  0.7397154 ,  0.7451076 ,  0.75052155,  0.75595759,\n",
       "          0.76141606,  0.76689731,  0.77240171,  0.7779296 ,  0.78348137,\n",
       "          0.78905739,  0.79465805,  0.80028375,  0.8059349 ,  0.8116119 ,\n",
       "          0.81731518,  0.82304516,  0.8288023 ,  0.83458705,  0.84039985,\n",
       "          0.84624119,  0.85211155,  0.85801143,  0.86394132,  0.86990174,\n",
       "          0.87589324,  0.88191634,  0.88797161,  0.89405961,  0.90018093,\n",
       "          0.90633617,  0.91252594,  0.91875087,  0.92501161,  0.93130882,\n",
       "          0.93764317,  0.94401538,  0.95042614,  0.95687621,  0.96336634,\n",
       "          0.9698973 ,  0.97646989,  0.98308494,  0.98974329,  0.99644581,\n",
       "          1.0031934 ,  1.00998697,  1.01682748,  1.02371591,  1.03065325,\n",
       "          1.03764056,  1.0446789 ,  1.05176937,  1.05891312,  1.06611132,\n",
       "          1.07336519,  1.08067598,  1.08804499,  1.09547357,  1.10296309,\n",
       "          1.110515  ,  1.11813078,  1.12581197,  1.13356017,  1.14137702,\n",
       "          1.14926424,  1.15722362,  1.16525698,  1.17336627,  1.18155345,\n",
       "          1.18982061,  1.1981699 ,  1.20660356,  1.21512393,  1.22373343,\n",
       "          1.23243461,  1.24123012,  1.25012271,  1.25911527,  1.26821082,\n",
       "          1.27741252,  1.28672367,  1.29614772,  1.30568833,  1.31534928,\n",
       "          1.32513458,  1.33504844,  1.34509528,  1.35527976,  1.36560679,\n",
       "          1.37608155,  1.3867095 ,  1.39749644,  1.40844849,  1.41957213,\n",
       "          1.43087425,  1.44236216,  1.45404365,  1.46592698,  1.47802101,\n",
       "          1.49033518,  1.50287957,  1.51566502,  1.52870315,  1.54200646,\n",
       "          1.5555884 ,  1.56946353,  1.58364755,  1.59815754,  1.61301203,\n",
       "          1.62823122,  1.64383717,  1.65985406,  1.67630845,  1.69322964,\n",
       "          1.71065003,  1.72860557,  1.74713637,  1.76628731,  1.78610886,\n",
       "          1.80665808,  1.8279998 ,  1.85020814,  1.8733684 ,  1.89757944,\n",
       "          1.92295678,  1.94963656,  1.97778092,  2.00758509,  2.03928718,\n",
       "          2.07318196,  2.10964062,  2.14914009,  2.19230805,  2.23999504,\n",
       "          2.29339597,  2.35426865,  2.4253611 ,  2.51134701,  2.62123772,\n",
       "          2.77648076,  3.0532325 ]),\n",
       "  array([0.        , 0.69314718, 1.09861229, 1.38629436, 1.38629436,\n",
       "         1.79175947, 2.19722458, 2.19722458, 2.39789527, 2.7080502 ,\n",
       "         2.7080502 , 2.7080502 , 2.94443898, 3.04452244, 3.13549422,\n",
       "         3.21887582, 3.21887582, 3.21887582, 3.25809654, 3.29583687,\n",
       "         3.33220451, 3.36729583, 3.36729583, 3.36729583, 3.4339872 ,\n",
       "         3.4339872 , 3.4339872 , 3.4339872 , 3.52636052, 3.52636052,\n",
       "         3.55534806, 3.58351894, 3.63758616, 3.63758616, 3.68887945,\n",
       "         3.68887945, 3.71357207, 3.71357207, 3.73766962, 3.76120012,\n",
       "         3.78418963, 3.78418963, 3.80666249, 3.8501476 , 3.87120101,\n",
       "         3.93182563, 3.93182563, 3.95124372, 3.97029191, 3.98898405,\n",
       "         4.00733319, 4.02535169, 4.02535169, 4.02535169, 4.02535169,\n",
       "         4.04305127, 4.07753744, 4.07753744, 4.07753744, 4.09434456,\n",
       "         4.09434456, 4.11087386, 4.12713439, 4.12713439, 4.12713439,\n",
       "         4.12713439, 4.15888308, 4.21950771, 4.24849524, 4.26267988,\n",
       "         4.26267988, 4.30406509, 4.30406509, 4.31748811, 4.31748811,\n",
       "         4.31748811, 4.31748811, 4.34380542, 4.36944785, 4.36944785,\n",
       "         4.36944785, 4.38202663, 4.38202663, 4.38202663, 4.38202663,\n",
       "         4.38202663, 4.39444915, 4.39444915, 4.40671925, 4.41884061,\n",
       "         4.41884061, 4.41884061, 4.41884061, 4.4308168 , 4.44265126,\n",
       "         4.44265126, 4.44265126, 4.44265126, 4.44265126, 4.4543473 ,\n",
       "         4.4543473 , 4.4543473 , 4.4543473 , 4.46590812, 4.46590812,\n",
       "         4.46590812, 4.46590812, 4.47733681, 4.47733681, 4.47733681,\n",
       "         4.48863637, 4.48863637, 4.48863637, 4.51085951, 4.51085951,\n",
       "         4.52178858, 4.52178858, 4.53259949, 4.53259949, 4.53259949,\n",
       "         4.53259949, 4.53259949, 4.53259949, 4.53259949, 4.54329478,\n",
       "         4.54329478, 4.54329478, 4.55387689, 4.56434819, 4.57471098,\n",
       "         4.57471098, 4.58496748, 4.60517019, 4.60517019, 4.60517019,\n",
       "         4.60517019, 4.61512052, 4.62497281, 4.62497281, 4.62497281,\n",
       "         4.63472899, 4.63472899, 4.65396035, 4.66343909, 4.66343909,\n",
       "         4.68213123, 4.68213123, 4.69134788, 4.70048037, 4.7095302 ,\n",
       "         4.7095302 , 4.7095302 , 4.71849887, 4.72738782, 4.72738782,\n",
       "         4.72738782, 4.73619845, 4.73619845, 4.75359019, 4.75359019,\n",
       "         4.76217393, 4.76217393, 4.76217393, 4.76217393, 4.76217393,\n",
       "         4.77912349, 4.77912349, 4.77912349, 4.78749174, 4.79579055,\n",
       "         4.79579055, 4.79579055, 4.79579055, 4.79579055, 4.80402104,\n",
       "         4.80402104, 4.81218436, 4.82028157, 4.82028157, 4.82028157,\n",
       "         4.82028157, 4.82831374, 4.82831374, 4.83628191, 4.83628191,\n",
       "         4.83628191, 4.84418709, 4.84418709, 4.84418709, 4.84418709,\n",
       "         4.85203026, 4.85203026, 4.85203026, 4.85203026, 4.8598124 ,\n",
       "         4.8598124 , 4.8598124 , 4.86753445, 4.86753445, 4.86753445,\n",
       "         4.87519732, 4.87519732, 4.88280192, 4.88280192, 4.88280192,\n",
       "         4.88280192, 4.89034913, 4.89034913, 4.89034913, 4.89034913,\n",
       "         4.89034913, 4.8978398 , 4.8978398 , 4.8978398 , 4.90527478,\n",
       "         4.90527478, 4.90527478, 4.90527478, 4.91265489, 4.91265489,\n",
       "         4.91265489, 4.91265489, 4.91265489, 4.91265489, 4.91998093,\n",
       "         4.91998093, 4.91998093, 4.91998093, 4.92725369, 4.92725369,\n",
       "         4.92725369, 4.92725369, 4.93447393, 4.93447393, 4.93447393,\n",
       "         4.93447393, 4.94164242, 4.94164242, 4.94164242, 4.94164242,\n",
       "         4.94164242, 4.94164242, 4.94164242, 4.94875989, 4.94875989,\n",
       "         4.94875989, 4.94875989, 4.95582706, 4.95582706, 4.95582706,\n",
       "         4.96284463, 4.96284463, 4.96284463, 4.9698133 , 4.9698133 ,\n",
       "         4.9698133 , 4.97673374, 4.97673374, 4.97673374, 4.97673374,\n",
       "         4.97673374, 4.97673374, 4.98360662, 4.99043259, 4.99043259,\n",
       "         4.99043259, 4.99043259, 4.99043259, 4.99043259, 4.99721227,\n",
       "         4.99721227, 4.99721227, 4.99721227, 4.99721227, 5.00394631,\n",
       "         5.00394631, 5.00394631, 5.00394631, 5.00394631, 5.00394631,\n",
       "         5.00394631, 5.01063529, 5.01063529, 5.01063529, 5.01063529,\n",
       "         5.01063529, 5.01063529, 5.01063529, 5.01063529, 5.01727984,\n",
       "         5.01727984, 5.01727984, 5.01727984, 5.01727984, 5.01727984,\n",
       "         5.02388052, 5.02388052, 5.02388052, 5.02388052, 5.03043792,\n",
       "         5.03043792, 5.03043792, 5.03043792, 5.03043792, 5.0369526 ,\n",
       "         5.0369526 , 5.0369526 , 5.0369526 , 5.04342512, 5.04342512,\n",
       "         5.04342512, 5.04342512, 5.04342512, 5.04342512, 5.04342512,\n",
       "         5.04342512, 5.04342512, 5.04985601, 5.05624581, 5.06259503,\n",
       "         5.06259503, 5.06259503, 5.06259503, 5.06259503, 5.0689042 ,\n",
       "         5.0689042 , 5.0689042 , 5.0689042 , 5.0689042 , 5.0689042 ,\n",
       "         5.07517382, 5.07517382, 5.07517382, 5.07517382, 5.07517382,\n",
       "         5.08140436, 5.08140436, 5.08759634, 5.08759634, 5.08759634,\n",
       "         5.08759634, 5.08759634, 5.0937502 , 5.0937502 , 5.0937502 ,\n",
       "         5.0937502 , 5.09986643, 5.09986643, 5.10594547, 5.10594547,\n",
       "         5.10594547, 5.11198779, 5.11198779, 5.11198779, 5.11198779,\n",
       "         5.11198779, 5.11198779, 5.11198779, 5.11799381, 5.11799381,\n",
       "         5.11799381, 5.11799381, 5.11799381, 5.11799381, 5.12396398,\n",
       "         5.12396398, 5.12396398, 5.12396398, 5.12396398, 5.12989871,\n",
       "         5.12989871, 5.12989871, 5.12989871, 5.12989871, 5.12989871,\n",
       "         5.12989871, 5.12989871, 5.13579844, 5.13579844, 5.13579844,\n",
       "         5.13579844, 5.13579844, 5.14166356, 5.14166356, 5.14166356,\n",
       "         5.14166356, 5.14166356, 5.14749448, 5.14749448, 5.14749448,\n",
       "         5.14749448, 5.14749448, 5.14749448, 5.14749448, 5.15329159,\n",
       "         5.15329159, 5.15329159, 5.1590553 , 5.1590553 , 5.1590553 ,\n",
       "         5.1590553 , 5.1590553 , 5.16478597, 5.16478597, 5.16478597,\n",
       "         5.170484  , 5.170484  , 5.170484  , 5.17614973, 5.17614973,\n",
       "         5.17614973, 5.17614973, 5.18178355, 5.18178355, 5.18178355,\n",
       "         5.18178355, 5.18178355, 5.18178355, 5.18178355, 5.18738581,\n",
       "         5.19295685, 5.19295685, 5.19295685, 5.19295685, 5.19295685,\n",
       "         5.19295685, 5.19295685, 5.19849703, 5.19849703, 5.20400669,\n",
       "         5.20400669, 5.20400669, 5.20400669, 5.20948615, 5.20948615,\n",
       "         5.20948615, 5.21493576, 5.21493576, 5.21493576, 5.21493576,\n",
       "         5.22035583, 5.22035583, 5.22035583, 5.22574667, 5.22574667,\n",
       "         5.22574667, 5.23110862, 5.23110862, 5.24174702, 5.24702407,\n",
       "         5.24702407, 5.25227343, 5.25227343, 5.25227343, 5.25749537,\n",
       "         5.25749537, 5.25749537, 5.26269019, 5.26269019, 5.26785816,\n",
       "         5.26785816, 5.26785816, 5.26785816, 5.27299956, 5.27299956,\n",
       "         5.27299956, 5.27299956, 5.27299956, 5.27299956, 5.27811466,\n",
       "         5.27811466, 5.28320373, 5.28320373, 5.28826703, 5.28826703,\n",
       "         5.28826703, 5.28826703, 5.29330482, 5.29330482, 5.29330482,\n",
       "         5.29330482, 5.29330482, 5.29831737, 5.29831737, 5.29831737,\n",
       "         5.29831737, 5.30330491, 5.30330491, 5.30330491, 5.3082677 ,\n",
       "         5.3082677 , 5.31320598, 5.31811999, 5.31811999, 5.32300998,\n",
       "         5.32787617, 5.32787617, 5.32787617, 5.32787617, 5.32787617,\n",
       "         5.33271879, 5.33271879, 5.33271879, 5.33271879, 5.34233425,\n",
       "         5.34710753, 5.35185813, 5.35185813, 5.35185813, 5.35658627,\n",
       "         5.35658627, 5.36129217, 5.36597602, 5.36597602, 5.37527841,\n",
       "         5.37989735, 5.38449506, 5.38449506, 5.3981627 , 5.40717177,\n",
       "         5.41164605, 5.4161004 , 5.420535  , 5.420535  , 5.42495002,\n",
       "         5.42495002, 5.433722  , 5.433722  , 5.433722  , 5.433722  ,\n",
       "         5.43807931, 5.44241771, 5.44241771, 5.45103845, 5.45103845,\n",
       "         5.45103845, 5.45532112, 5.45532112, 5.45958551, 5.45958551,\n",
       "         5.46383181, 5.46806014, 5.46806014, 5.46806014, 5.46806014,\n",
       "         5.47227067, 5.48063892, 5.48063892, 5.48063892, 5.48063892,\n",
       "         5.48479693, 5.48479693, 5.49716823, 5.50125821, 5.50533154,\n",
       "         5.50938834, 5.52146092, 5.52545294, 5.52545294, 5.54907608,\n",
       "         5.54907608, 5.56452041, 5.57972983, 5.58349631, 5.61312811,\n",
       "         5.62762111, 5.63121178, 5.6454469 , 5.65599181, 5.65599181,\n",
       "         5.65599181, 5.68017261, 5.70711026, 5.71373281, 5.71373281,\n",
       "         5.7170277 , 5.7365723 , 5.73979291, 5.74939299, 5.75574221,\n",
       "         5.78382518, 5.78996017, 5.80814249, 5.85220248, 5.86646806,\n",
       "         5.89164421, 5.89989735, 5.91350301, 5.91889385, 6.01615716,\n",
       "         6.02586597, 6.03068526, 6.04737218, 6.05208917, 6.05678401,\n",
       "         6.0591232 , 6.07534603, 6.09356977, 6.13122649, 6.16120732,\n",
       "         6.18001665, 6.19440539, 6.24027585, 6.30261898, 6.31173481,\n",
       "         6.32256524, 6.35784227, 6.39859493, 6.42162227, 6.58063914,\n",
       "         6.62406523, 6.78671695])),\n",
       " (0.6623865206151178, 4.90723395179389, 0.9112763116499015))"
      ]
     },
     "execution_count": 58,
     "metadata": {},
     "output_type": "execute_result"
    },
    {
     "data": {
      "image/png": "[encoded data removed]",
      "text/plain": [
       "<Figure size 432x288 with 1 Axes>"
      ]
     },
     "metadata": {
      "needs_background": "light"
     },
     "output_type": "display_data"
    }
   ],
   "source": [
    "stats.probplot(np.log(alldata.ordered_units), plot=plt)"
   ]
  },
  {
   "cell_type": "code",
   "execution_count": 22,
   "id": "4c6405e4-872c-47f3-8b98-7fe970c712b6",
   "metadata": {
    "tags": []
   },
   "outputs": [],
   "source": [
    "dtrain = xgb.DMatrix(x_train, y_train)\n",
    "dtest = xgb.DMatrix(x_test, y_test)\n",
    "\n",
    "params = {'eta': 0.3,\n",
    "          'objective': 'reg:squarederror',\n",
    "          'gamma': 0,\n",
    "          'max_depth': 5,\n",
    "          'subsample': 0.5,\n",
    "          'colsample_bytree': 1,\n",
    "          'base_score': 0.5,\n",
    "          'n_jobs': 8}\n",
    "\n",
    "a = {}  # 记录验证集结果\n",
    "model = xgb.train(params, dtrain, 300, early_stopping_rounds=20, evals=[\n",
    "                  (dtest, 'test')], evals_result=a, verbose_eval=False)"
   ]
  },
  {
   "cell_type": "markdown",
   "id": "fe419330-41b8-4fdd-af00-e644bf902f6e",
   "metadata": {},
   "source": [
    "## 测试"
   ]
  },
  {
   "cell_type": "markdown",
   "id": "00330fe6-0bb7-4d91-b043-c147319b68a4",
   "metadata": {},
   "source": [
    "### sklearn api"
   ]
  },
  {
   "cell_type": "code",
   "execution_count": 50,
   "id": "76cc57f4-433c-42a0-ac47-204abae2f94b",
   "metadata": {},
   "outputs": [
    {
     "name": "stdout",
     "output_type": "stream",
     "text": [
      "metrics1: 0.982\n",
      "metrics2: 0.646\n",
      "r2: 0.768\n"
     ]
    }
   ],
   "source": [
    "y_pred = xgbr.predict(x_test)\n",
    "print('metrics1: {:.3f}\\nmetrics2: {:.3f}\\nr2: {:.3f}'.format(metrics1(y_test, y_pred),\n",
    "                                                              metrics2(\n",
    "                                                                  y_test, y_pred),\n",
    "                                                              r2_score(y_test, y_pred)))"
   ]
  },
  {
   "cell_type": "code",
   "execution_count": 24,
   "id": "6e52120a-87b8-4acc-8ddf-5fbc4100bcab",
   "metadata": {
    "tags": []
   },
   "outputs": [
    {
     "data": {
      "text/plain": [
       "<matplotlib.legend.Legend at 0x22ef61ca278>"
      ]
     },
     "execution_count": 24,
     "metadata": {},
     "output_type": "execute_result"
    },
    {
     "data": {
      "image/png": "[encoded data removed]",
      "text/plain": [
       "<Figure size 1080x288 with 1 Axes>"
      ]
     },
     "metadata": {
      "needs_background": "light"
     },
     "output_type": "display_data"
    }
   ],
   "source": [
    "plt.figure(figsize=(15, 4))\n",
    "plt.plot(y_test.values, label='true')\n",
    "plt.plot(y_pred, label='predict')\n",
    "plt.xticks(rotation=90)\n",
    "plt.grid()\n",
    "plt.legend()"
   ]
  },
  {
   "cell_type": "markdown",
   "id": "3de6b509-1f09-45e9-93e1-41ce0fca1fac",
   "metadata": {},
   "source": [
    "### xgboost api"
   ]
  },
  {
   "cell_type": "code",
   "execution_count": 25,
   "id": "11feb4c5-759d-4f9d-9c7e-e5e19209a0b6",
   "metadata": {},
   "outputs": [],
   "source": [
    "dtest = xgb.DMatrix(x_test, y_test)"
   ]
  },
  {
   "cell_type": "code",
   "execution_count": 26,
   "id": "2a1fcba7-c825-47a5-8aad-d9da7b5e4b05",
   "metadata": {
    "tags": []
   },
   "outputs": [
    {
     "name": "stdout",
     "output_type": "stream",
     "text": [
      "metrics1: 0.953\n",
      "metrics2: 0.660\n",
      "r2: 0.755\n"
     ]
    }
   ],
   "source": [
    "y_pred = model.predict(dtest)\n",
    "print('metrics1: {:.3f}\\nmetrics2: {:.3f}\\nr2: {:.3f}'.format(metrics1(y_test, y_pred),\n",
    "                                                              metrics2(\n",
    "                                                                  y_test, y_pred),\n",
    "                                                              r2_score(y_test, y_pred)))"
   ]
  },
  {
   "cell_type": "code",
   "execution_count": 27,
   "id": "8d64e389-ffae-4baa-94ed-6687a8a652c8",
   "metadata": {
    "tags": []
   },
   "outputs": [
    {
     "data": {
      "text/plain": [
       "<matplotlib.legend.Legend at 0x22ef687c470>"
      ]
     },
     "execution_count": 27,
     "metadata": {},
     "output_type": "execute_result"
    },
    {
     "data": {
      "image/png": "[encoded data removed]",
      "text/plain": [
       "<Figure size 1080x288 with 1 Axes>"
      ]
     },
     "metadata": {
      "needs_background": "light"
     },
     "output_type": "display_data"
    }
   ],
   "source": [
    "plt.figure(figsize=(15, 4))\n",
    "plt.plot(y_test.values, label='true')\n",
    "plt.plot(y_pred, label='predict')\n",
    "plt.xticks(rotation=90)\n",
    "plt.grid()\n",
    "plt.legend()"
   ]
  },
  {
   "cell_type": "code",
   "execution_count": 28,
   "id": "e0636bb9-17ce-4068-b643-b65107a8d651",
   "metadata": {
    "tags": []
   },
   "outputs": [
    {
     "data": {
      "text/plain": [
       "{'f564': 89593.85459285715,\n",
       " 'f285': 39322.42478433333,\n",
       " 'f654': 26240.087293636367,\n",
       " 'f605': 21635.837735166668,\n",
       " 'f650': 9338.080597499998,\n",
       " 'f645': 9892.578776666667,\n",
       " 'f550': 41439.92449954545,\n",
       " 'f656': 14924.236813333331,\n",
       " 'f284': 25138.39070714286,\n",
       " 'f556': 10433.2501697,\n",
       " 'f619': 26411.52759,\n",
       " 'f551': 9101.358430343753,\n",
       " 'f135': 225.6022335,\n",
       " 'f658': 17200.919808,\n",
       " 'f7': 18140.11322,\n",
       " 'f595': 12610.093992500002,\n",
       " 'f659': 7443.579485384615,\n",
       " 'f344': 4083.5857316666666,\n",
       " 'f587': 4137.113763333333,\n",
       " 'f553': 10091.823335625,\n",
       " 'f558': 8452.740248333334,\n",
       " 'f646': 7262.768275,\n",
       " 'f348': 17867.25,\n",
       " 'f0': 932.0838159199999,\n",
       " 'f19': 1562.5228266666666,\n",
       " 'f648': 26543.160267058825,\n",
       " 'f559': 8277.507608571428,\n",
       " 'f632': 3643.577556666667,\n",
       " 'f350': 13124.06885,\n",
       " 'f342': 7001.6601565,\n",
       " 'f13': 6954.459443375,\n",
       " 'f8': 4562.751492222222,\n",
       " 'f288': 29486.181333333338,\n",
       " 'f289': 20249.074136666666,\n",
       " 'f4': 7464.268495,\n",
       " 'f602': 11549.645072000001,\n",
       " 'f115': 8550.07813,\n",
       " 'f10': 9406.5264,\n",
       " 'f596': 5537.260333333333,\n",
       " 'f287': 13668.928760799998,\n",
       " 'f653': 11770.817797142856,\n",
       " 'f651': 7559.120975,\n",
       " 'f625': 4915.5779,\n",
       " 'f572': 4066.1450194999998,\n",
       " 'f127': 3844.053225,\n",
       " 'f536': 1062.96387,\n",
       " 'f326': 13825.926981818182,\n",
       " 'f588': 9306.011968000003,\n",
       " 'f552': 5871.010343333334,\n",
       " 'f603': 5672.056842999999,\n",
       " 'f319': 4269.210889,\n",
       " 'f6': 1626.6092401666672,\n",
       " 'f330': 2052.487794,\n",
       " 'f283': 7210.512386,\n",
       " 'f581': 9954.777820000001,\n",
       " 'f580': 4608.339849714285,\n",
       " 'f569': 6055.967124000001,\n",
       " 'f600': 2732.798081818182,\n",
       " 'f315': 748.5577403333333,\n",
       " 'f555': 7911.480925000001,\n",
       " 'f622': 3467.04688,\n",
       " 'f624': 8762.809526166666,\n",
       " 'f562': 12842.378052499998,\n",
       " 'f598': 3526.1753214444443,\n",
       " 'f331': 1007.1034168,\n",
       " 'f657': 7298.61557,\n",
       " 'f290': 1151.9465335,\n",
       " 'f281': 1292.599121,\n",
       " 'f293': 1171.37305,\n",
       " 'f16': 3154.79004,\n",
       " 'f15': 1548.3828125,\n",
       " 'f655': 6893.881784,\n",
       " 'f351': 7437.54311,\n",
       " 'f324': 7995.7229115,\n",
       " 'f322': 1542.83887,\n",
       " 'f347': 3615.4765030500002,\n",
       " 'f25': 3586.109316,\n",
       " 'f28': 1957.0832500000001,\n",
       " 'f599': 3180.684918882353,\n",
       " 'f9': 4058.21582,\n",
       " 'f224': 5109.776301428573,\n",
       " 'f460': 7495.10449,\n",
       " 'f601': 2868.601325454545,\n",
       " 'f318': 11232.2656,\n",
       " 'f321': 7138.937535555556,\n",
       " 'f626': 4925.142970000001,\n",
       " 'f148': 2087.64648,\n",
       " 'f325': 4940.087321666667,\n",
       " 'f394': 4503.431681666666,\n",
       " 'f14': 15464.2344,\n",
       " 'f22': 2308.88892,\n",
       " 'f20': 980.8022475,\n",
       " 'f623': 3690.2060075,\n",
       " 'f576': 3702.3803960000005,\n",
       " 'f606': 3441.496825,\n",
       " 'f442': 1001.10333275,\n",
       " 'f101': 3571.6250925000004,\n",
       " 'f349': 4175.61133,\n",
       " 'f613': 4846.9910275,\n",
       " 'f565': 7097.030784999999,\n",
       " 'f246': 4678.77051,\n",
       " 'f66': 44.8345947,\n",
       " 'f65': 50.519043,\n",
       " 'f571': 5609.42267,\n",
       " 'f172': 1064.2428247,\n",
       " 'f356': 180.149413922,\n",
       " 'f449': 4270.441326666667,\n",
       " 'f617': 6081.84174,\n",
       " 'f87': 250.32017763333332,\n",
       " 'f276': 843.611816,\n",
       " 'f585': 5602.588706666666,\n",
       " 'f591': 4854.779785,\n",
       " 'f548': 2091.9714341500003,\n",
       " 'f464': 4382.55566,\n",
       " 'f134': 2020.5320165925002,\n",
       " 'f447': 4773.703245,\n",
       " 'f510': 1307.53711,\n",
       " 'f513': 566.318848,\n",
       " 'f219': 3606.66602,\n",
       " 'f194': 2033.8842785000002,\n",
       " 'f200': 1495.71905868,\n",
       " 'f631': 5472.2251,\n",
       " 'f185': 1497.7875133333334,\n",
       " 'f452': 3638.81592,\n",
       " 'f628': 3720.3884804285713,\n",
       " 'f616': 1579.0352766666667,\n",
       " 'f96': 285.24841335,\n",
       " 'f88': 62.49297323,\n",
       " 'f637': 3432.8317880000004,\n",
       " 'f474': 3114.7035250666668,\n",
       " 'f618': 3280.0396520000004,\n",
       " 'f11': 2944.9189433333327,\n",
       " 'f413': 932.9188223333334,\n",
       " 'f535': 281.7459335,\n",
       " 'f530': 307.15756124,\n",
       " 'f532': 74.6537781,\n",
       " 'f216': 121.28125,\n",
       " 'f594': 3684.0181357142856,\n",
       " 'f614': 6328.23193,\n",
       " 'f566': 3932.743262,\n",
       " 'f274': 826.1848145,\n",
       " 'f75': 275.9707573306667,\n",
       " 'f149': 332.8217775,\n",
       " 'f133': 7939.83789,\n",
       " 'f327': 3007.85657,\n",
       " 'f136': 2230.2385754,\n",
       " 'f457': 1582.4775375,\n",
       " 'f12': 3040.5505375,\n",
       " 'f55': 2170.13525,\n",
       " 'f298': 584.546386,\n",
       " 'f417': 1402.9975582999998,\n",
       " 'f244': 687.365723,\n",
       " 'f607': 3654.380696666667,\n",
       " 'f100': 2646.3597833333333,\n",
       " 'f451': 6861.66016,\n",
       " 'f563': 4707.65039,\n",
       " 'f343': 4528.705075,\n",
       " 'f311': 1321.32861,\n",
       " 'f316': 754.932617,\n",
       " 'f48': 557.426758,\n",
       " 'f267': 60.9303589,\n",
       " 'f597': 2222.7242562999995,\n",
       " 'f557': 4342.360044999999,\n",
       " 'f395': 253.836197,\n",
       " 'f160': 580.907959,\n",
       " 'f2': 207.01560985,\n",
       " 'f323': 269.930908,\n",
       " 'f633': 3740.62276,\n",
       " 'f137': 2713.607997285714,\n",
       " 'f554': 3917.07739,\n",
       " 'f203': 1427.434878,\n",
       " 'f429': 1464.91357,\n",
       " 'f403': 156.810944,\n",
       " 'f177': 299.9963075,\n",
       " 'f309': 1033.55762,\n",
       " 'f390': 2605.8877,\n",
       " 'f445': 1336.389402815,\n",
       " 'f294': 311.6457825,\n",
       " 'f329': 2335.48877,\n",
       " 'f336': 991.864014,\n",
       " 'f432': 591.9921875,\n",
       " 'f212': 3161.7098766666672,\n",
       " 'f450': 3468.78369,\n",
       " 'f320': 1700.586425,\n",
       " 'f69': 213.870117,\n",
       " 'f448': 3272.331216666667,\n",
       " 'f621': 1209.51392,\n",
       " 'f422': 1409.97583,\n",
       " 'f130': 482.585938,\n",
       " 'f126': 436.808594,\n",
       " 'f629': 2608.755696666667,\n",
       " 'f286': 2020.5911984,\n",
       " 'f483': 122.21875,\n",
       " 'f166': 218.335968,\n",
       " 'f170': 144.10998532499997,\n",
       " 'f635': 1693.6376140000002,\n",
       " 'f584': 2118.1096993333335,\n",
       " 'f353': 2838.85791,\n",
       " 'f456': 2361.00195,\n",
       " 'f144': 282.993164,\n",
       " 'f337': 2387.7738466666665,\n",
       " 'f18': 2532.70935,\n",
       " 'f568': 2015.054566,\n",
       " 'f500': 1526.3252,\n",
       " 'f263': 2665.66162,\n",
       " 'f86': 879.891113,\n",
       " 'f472': 594.4055186,\n",
       " 'f627': 3344.961201666667,\n",
       " 'f593': 2194.106104,\n",
       " 'f217': 878.2355552666668,\n",
       " 'f150': 1490.6637549999998,\n",
       " 'f639': 3241.26538,\n",
       " 'f549': 423.765869,\n",
       " 'f165': 1714.25781,\n",
       " 'f1': 807.10385879,\n",
       " 'f60': 2540.86389,\n",
       " 'f197': 2146.6213700000003,\n",
       " 'f453': 2331.6767166666664,\n",
       " 'f232': 2173.1604,\n",
       " 'f577': 2260.50531,\n",
       " 'f147': 410.07489025,\n",
       " 'f27': 638.725586,\n",
       " 'f5': 245.338989,\n",
       " 'f473': 175.936523,\n",
       " 'f573': 2035.432446,\n",
       " 'f521': 1383.04492,\n",
       " 'f652': 509.776855,\n",
       " 'f314': 50.4105301,\n",
       " 'f376': 1277.18506,\n",
       " 'f67': 712.687135,\n",
       " 'f612': 359.661133,\n",
       " 'f61': 1.78512084,\n",
       " 'f575': 5141.32373,\n",
       " 'f506': 1132.0564,\n",
       " 'f509': 64.5883789,\n",
       " 'f444': 3092.13062,\n",
       " 'f241': 1218.29688,\n",
       " 'f80': 276.949219,\n",
       " 'f328': 263.491211,\n",
       " 'f643': 1985.2381599999999,\n",
       " 'f254': 306.039307,\n",
       " 'f317': 2110.16989,\n",
       " 'f590': 1987.6222426,\n",
       " 'f240': 1758.08179,\n",
       " 'f592': 2882.54443,\n",
       " 'f443': 537.506104,\n",
       " 'f191': 1247.80518,\n",
       " 'f52': 191.180176,\n",
       " 'f504': 2911.9873,\n",
       " 'f398': 1280.80762,\n",
       " 'f250': 1245.524415,\n",
       " 'f578': 1731.2991955,\n",
       " 'f609': 1837.38904,\n",
       " 'f386': 660.743652,\n",
       " 'f258': 140.19677745,\n",
       " 'f179': 126.18457,\n",
       " 'f534': 107.15859999999999,\n",
       " 'f218': 14.3065796,\n",
       " 'f153': 1452.17383,\n",
       " 'f131': 2922.18018,\n",
       " 'f586': 1847.63979,\n",
       " 'f477': 58.15039065,\n",
       " 'f438': 753.787477,\n",
       " 'f145': 2010.14014,\n",
       " 'f471': 1753.69385,\n",
       " 'f132': 2210.40332,\n",
       " 'f43': 163.962158,\n",
       " 'f561': 2313.56616,\n",
       " 'f24': 820.4027424999999,\n",
       " 'f259': 2541.43848,\n",
       " 'f253': 891.95459,\n",
       " 'f523': 109.5471499,\n",
       " 'f23': 15.640625,\n",
       " 'f209': 1158.8678,\n",
       " 'f400': 692.603699,\n",
       " 'f615': 954.9458800000001,\n",
       " 'f95': 537.5422151500001,\n",
       " 'f98': 689.910645,\n",
       " 'f412': 65.4411621,\n",
       " 'f252': 894.9522986500001,\n",
       " 'f214': 1763.77869,\n",
       " 'f430': 1146.84033,\n",
       " 'f346': 521.9614256666667,\n",
       " 'f341': 1738.2550466666669,\n",
       " 'f649': 2121.09668,\n",
       " 'f292': 170.069336,\n",
       " 'f608': 2211.9722466666667,\n",
       " 'f640': 2244.95703,\n",
       " 'f50': 340.781494,\n",
       " 'f360': 370.6116945,\n",
       " 'f34': 362.668457,\n",
       " 'f295': 1851.19519,\n",
       " 'f151': 1561.44092,\n",
       " 'f493': 1664.54126,\n",
       " 'f260': 1704.53613,\n",
       " 'f560': 2006.84428,\n",
       " 'f233': 1400.00415,\n",
       " 'f225': 1411.7168,\n",
       " 'f220': 199.634491,\n",
       " 'f243': 512.47699,\n",
       " 'f416': 296.362305,\n",
       " 'f411': 631.746093,\n",
       " 'f83': 289.369385,\n",
       " 'f533': 98.60380574999999,\n",
       " 'f393': 1910.75684,\n",
       " 'f367': 1025.50537,\n",
       " 'f157': 1045.06348,\n",
       " 'f187': 180.21582,\n",
       " 'f270': 26.3035889,\n",
       " 'f164': 1549.92773,\n",
       " 'f155': 23.2509766,\n",
       " 'f423': 1501.50635,\n",
       " 'f604': 179.42535393,\n",
       " 'f47': 8.06213379,\n",
       " 'f642': 1622.31775,\n",
       " 'f248': 235.50805682,\n",
       " 'f306': 87.7119141,\n",
       " 'f582': 1554.35107,\n",
       " 'f574': 1655.61108,\n",
       " 'f382': 58.9251862,\n",
       " 'f365': 465.227295,\n",
       " 'f545': 384.105347,\n",
       " 'f72': 355.305298,\n",
       " 'f272': 1082.41357,\n",
       " 'f440': 1068.67517,\n",
       " 'f363': 1003.39063,\n",
       " 'f159': 455.876953,\n",
       " 'f62': 68.6860123,\n",
       " 'f583': 1688.62573,\n",
       " 'f611': 1696.36963,\n",
       " 'f636': 1249.7182,\n",
       " 'f630': 1349.5321,\n",
       " 'f211': 201.868774,\n",
       " 'f213': 11.706543,\n",
       " 'f379': 757.75769,\n",
       " 'f378': 267.926758,\n",
       " 'f377': 125.965332,\n",
       " 'f567': 1351.1736666666668,\n",
       " 'f335': 56.501709,\n",
       " 'f345': 973.6525859999999,\n",
       " 'f644': 1514.1442473333334,\n",
       " 'f620': 786.3179335,\n",
       " 'f261': 85.9001465,\n",
       " 'f277': 187.61816399999998,\n",
       " 'f275': 464.698242,\n",
       " 'f531': 498.002319,\n",
       " 'f527': 452.70385699999997,\n",
       " 'f59': 622.630371,\n",
       " 'f410': 656.502441,\n",
       " 'f196': 1350.83057,\n",
       " 'f58': 1088.27148,\n",
       " 'f245': 983.634888,\n",
       " 'f405': 161.520996,\n",
       " 'f33': 6.585783,\n",
       " 'f332': 1380.77759,\n",
       " 'f17': 1049.00928,\n",
       " 'f579': 1952.53076,\n",
       " 'f333': 471.8483278,\n",
       " 'f458': 411.222534,\n",
       " 'f21': 1081.79907,\n",
       " 'f204': 1055.63123,\n",
       " 'f222': 1008.6527115,\n",
       " 'f184': 13.6882935,\n",
       " 'f57': 1469.8412700000001,\n",
       " 'f102': 63.8670425,\n",
       " 'f186': 147.479095,\n",
       " 'f425': 267.157837,\n",
       " 'f455': 1214.5552375,\n",
       " 'f54': 1127.71716,\n",
       " 'f93': 409.049316,\n",
       " 'f266': 629.826233,\n",
       " 'f463': 186.720215,\n",
       " 'f406': 268.550293,\n",
       " 'f638': 1604.52295,\n",
       " 'f26': 1618.22778,\n",
       " 'f540': 268.316895,\n",
       " 'f481': 881.40271,\n",
       " 'f202': 1202.22546,\n",
       " 'f372': 387.73877,\n",
       " 'f140': 834.632324,\n",
       " 'f210': 880.666748,\n",
       " 'f517': 643.058228,\n",
       " 'f231': 339.040771,\n",
       " 'f269': 67.7053833,\n",
       " 'f37': 292.640747,\n",
       " 'f358': 1.08294678,\n",
       " 'f300': 138.101563,\n",
       " 'f384': 845.936707,\n",
       " 'f512': 265.878052}"
      ]
     },
     "execution_count": 28,
     "metadata": {},
     "output_type": "execute_result"
    }
   ],
   "source": [
    "model.get_score(importance_type='gain')"
   ]
  },
  {
   "cell_type": "code",
   "execution_count": 29,
   "id": "471c6358-fc9a-4fd2-b827-7f87583206e4",
   "metadata": {},
   "outputs": [
    {
     "data": {
      "image/svg+xml": [
       "<?xml version=\"1.0\" encoding=\"UTF-8\" standalone=\"no\"?>\r\n",
       "<!DOCTYPE svg PUBLIC \"-//W3C//DTD SVG 1.1//EN\"\r\n",
       " \"http://www.w3.org/Graphics/SVG/1.1/DTD/svg11.dtd\">\r\n",
       "<!-- Generated by graphviz version 2.49.0 (20210828.1703)\r\n",
       " -->\r\n",
       "<!-- Pages: 1 -->\r\n",
       "<svg width=\"855pt\" height=\"479pt\"\r\n",
       " viewBox=\"0.00 0.00 854.69 479.00\" xmlns=\"http://www.w3.org/2000/svg\" xmlns:xlink=\"http://www.w3.org/1999/xlink\">\r\n",
       "<g id=\"graph0\" class=\"graph\" transform=\"scale(1 1) rotate(0) translate(4 475)\">\r\n",
       "<polygon fill=\"white\" stroke=\"transparent\" points=\"-4,4 -4,-475 850.69,-475 850.69,4 -4,4\"/>\r\n",
       "<!-- 0 -->\r\n",
       "<g id=\"node1\" class=\"node\">\r\n",
       "<title>0</title>\r\n",
       "<ellipse fill=\"none\" stroke=\"black\" cx=\"550.84\" cy=\"-453\" rx=\"43.59\" ry=\"18\"/>\r\n",
       "<text text-anchor=\"middle\" x=\"550.84\" y=\"-449.3\" font-family=\"Times New Roman,serif\" font-size=\"14.00\">f564&lt;0.5</text>\r\n",
       "</g>\r\n",
       "<!-- 1 -->\r\n",
       "<g id=\"node2\" class=\"node\">\r\n",
       "<title>1</title>\r\n",
       "<ellipse fill=\"none\" stroke=\"black\" cx=\"470.84\" cy=\"-366\" rx=\"43.59\" ry=\"18\"/>\r\n",
       "<text text-anchor=\"middle\" x=\"470.84\" y=\"-362.3\" font-family=\"Times New Roman,serif\" font-size=\"14.00\">f285&lt;0.5</text>\r\n",
       "</g>\r\n",
       "<!-- 0&#45;&gt;1 -->\r\n",
       "<g id=\"edge1\" class=\"edge\">\r\n",
       "<title>0&#45;&gt;1</title>\r\n",
       "<path fill=\"none\" stroke=\"#0000ff\" d=\"M535.8,-436.01C523.73,-423.19 506.62,-405.01 492.98,-390.52\"/>\r\n",
       "<polygon fill=\"#0000ff\" stroke=\"#0000ff\" points=\"495.23,-387.8 485.82,-382.92 490.13,-392.6 495.23,-387.8\"/>\r\n",
       "<text text-anchor=\"middle\" x=\"550.34\" y=\"-405.8\" font-family=\"Times New Roman,serif\" font-size=\"14.00\">yes, missing</text>\r\n",
       "</g>\r\n",
       "<!-- 2 -->\r\n",
       "<g id=\"node3\" class=\"node\">\r\n",
       "<title>2</title>\r\n",
       "<ellipse fill=\"none\" stroke=\"black\" cx=\"630.84\" cy=\"-366\" rx=\"43.59\" ry=\"18\"/>\r\n",
       "<text text-anchor=\"middle\" x=\"630.84\" y=\"-362.3\" font-family=\"Times New Roman,serif\" font-size=\"14.00\">f550&lt;0.5</text>\r\n",
       "</g>\r\n",
       "<!-- 0&#45;&gt;2 -->\r\n",
       "<g id=\"edge2\" class=\"edge\">\r\n",
       "<title>0&#45;&gt;2</title>\r\n",
       "<path fill=\"none\" stroke=\"#ff0000\" d=\"M568.69,-436.42C575.21,-430.52 582.52,-423.62 588.84,-417 596.6,-408.88 604.63,-399.57 611.58,-391.19\"/>\r\n",
       "<polygon fill=\"#ff0000\" stroke=\"#ff0000\" points=\"614.48,-393.17 618.1,-383.21 609.06,-388.74 614.48,-393.17\"/>\r\n",
       "<text text-anchor=\"middle\" x=\"610.34\" y=\"-405.8\" font-family=\"Times New Roman,serif\" font-size=\"14.00\">no</text>\r\n",
       "</g>\r\n",
       "<!-- 3 -->\r\n",
       "<g id=\"node4\" class=\"node\">\r\n",
       "<title>3</title>\r\n",
       "<ellipse fill=\"none\" stroke=\"black\" cx=\"338.84\" cy=\"-279\" rx=\"43.59\" ry=\"18\"/>\r\n",
       "<text text-anchor=\"middle\" x=\"338.84\" y=\"-275.3\" font-family=\"Times New Roman,serif\" font-size=\"14.00\">f654&lt;0.5</text>\r\n",
       "</g>\r\n",
       "<!-- 1&#45;&gt;3 -->\r\n",
       "<g id=\"edge3\" class=\"edge\">\r\n",
       "<title>1&#45;&gt;3</title>\r\n",
       "<path fill=\"none\" stroke=\"#0000ff\" d=\"M440.79,-352.68C427.24,-346.61 411.29,-338.71 397.84,-330 385.75,-322.16 373.43,-312.11 363.2,-303.08\"/>\r\n",
       "<polygon fill=\"#0000ff\" stroke=\"#0000ff\" points=\"365.25,-300.22 355.48,-296.11 360.56,-305.41 365.25,-300.22\"/>\r\n",
       "<text text-anchor=\"middle\" x=\"432.34\" y=\"-318.8\" font-family=\"Times New Roman,serif\" font-size=\"14.00\">yes, missing</text>\r\n",
       "</g>\r\n",
       "<!-- 4 -->\r\n",
       "<g id=\"node5\" class=\"node\">\r\n",
       "<title>4</title>\r\n",
       "<ellipse fill=\"none\" stroke=\"black\" cx=\"470.84\" cy=\"-279\" rx=\"70.69\" ry=\"18\"/>\r\n",
       "<text text-anchor=\"middle\" x=\"470.84\" y=\"-275.3\" font-family=\"Times New Roman,serif\" font-size=\"14.00\">leaf=132.825012</text>\r\n",
       "</g>\r\n",
       "<!-- 1&#45;&gt;4 -->\r\n",
       "<g id=\"edge4\" class=\"edge\">\r\n",
       "<title>1&#45;&gt;4</title>\r\n",
       "<path fill=\"none\" stroke=\"#ff0000\" d=\"M470.84,-347.8C470.84,-336.16 470.84,-320.55 470.84,-307.24\"/>\r\n",
       "<polygon fill=\"#ff0000\" stroke=\"#ff0000\" points=\"474.34,-307.18 470.84,-297.18 467.34,-307.18 474.34,-307.18\"/>\r\n",
       "<text text-anchor=\"middle\" x=\"478.34\" y=\"-318.8\" font-family=\"Times New Roman,serif\" font-size=\"14.00\">no</text>\r\n",
       "</g>\r\n",
       "<!-- 5 -->\r\n",
       "<g id=\"node14\" class=\"node\">\r\n",
       "<title>5</title>\r\n",
       "<ellipse fill=\"none\" stroke=\"black\" cx=\"630.84\" cy=\"-279\" rx=\"70.69\" ry=\"18\"/>\r\n",
       "<text text-anchor=\"middle\" x=\"630.84\" y=\"-275.3\" font-family=\"Times New Roman,serif\" font-size=\"14.00\">leaf=107.982353</text>\r\n",
       "</g>\r\n",
       "<!-- 2&#45;&gt;5 -->\r\n",
       "<g id=\"edge13\" class=\"edge\">\r\n",
       "<title>2&#45;&gt;5</title>\r\n",
       "<path fill=\"none\" stroke=\"#0000ff\" d=\"M630.84,-347.8C630.84,-336.16 630.84,-320.55 630.84,-307.24\"/>\r\n",
       "<polygon fill=\"#0000ff\" stroke=\"#0000ff\" points=\"634.34,-307.18 630.84,-297.18 627.34,-307.18 634.34,-307.18\"/>\r\n",
       "<text text-anchor=\"middle\" x=\"665.34\" y=\"-318.8\" font-family=\"Times New Roman,serif\" font-size=\"14.00\">yes, missing</text>\r\n",
       "</g>\r\n",
       "<!-- 6 -->\r\n",
       "<g id=\"node15\" class=\"node\">\r\n",
       "<title>6</title>\r\n",
       "<ellipse fill=\"none\" stroke=\"black\" cx=\"762.84\" cy=\"-279\" rx=\"43.59\" ry=\"18\"/>\r\n",
       "<text text-anchor=\"middle\" x=\"762.84\" y=\"-275.3\" font-family=\"Times New Roman,serif\" font-size=\"14.00\">f656&lt;0.5</text>\r\n",
       "</g>\r\n",
       "<!-- 2&#45;&gt;6 -->\r\n",
       "<g id=\"edge14\" class=\"edge\">\r\n",
       "<title>2&#45;&gt;6</title>\r\n",
       "<path fill=\"none\" stroke=\"#ff0000\" d=\"M660.9,-352.68C674.45,-346.61 690.4,-338.71 703.84,-330 715.93,-322.16 728.26,-312.11 738.49,-303.08\"/>\r\n",
       "<polygon fill=\"#ff0000\" stroke=\"#ff0000\" points=\"741.13,-305.41 746.21,-296.11 736.44,-300.22 741.13,-305.41\"/>\r\n",
       "<text text-anchor=\"middle\" x=\"729.34\" y=\"-318.8\" font-family=\"Times New Roman,serif\" font-size=\"14.00\">no</text>\r\n",
       "</g>\r\n",
       "<!-- 7 -->\r\n",
       "<g id=\"node6\" class=\"node\">\r\n",
       "<title>7</title>\r\n",
       "<ellipse fill=\"none\" stroke=\"black\" cx=\"310.84\" cy=\"-192\" rx=\"43.59\" ry=\"18\"/>\r\n",
       "<text text-anchor=\"middle\" x=\"310.84\" y=\"-188.3\" font-family=\"Times New Roman,serif\" font-size=\"14.00\">f605&lt;0.5</text>\r\n",
       "</g>\r\n",
       "<!-- 3&#45;&gt;7 -->\r\n",
       "<g id=\"edge5\" class=\"edge\">\r\n",
       "<title>3&#45;&gt;7</title>\r\n",
       "<path fill=\"none\" stroke=\"#0000ff\" d=\"M333.18,-260.8C329.28,-248.97 324.03,-233.03 319.6,-219.58\"/>\r\n",
       "<polygon fill=\"#0000ff\" stroke=\"#0000ff\" points=\"322.86,-218.29 316.41,-209.89 316.21,-220.48 322.86,-218.29\"/>\r\n",
       "<text text-anchor=\"middle\" x=\"361.34\" y=\"-231.8\" font-family=\"Times New Roman,serif\" font-size=\"14.00\">yes, missing</text>\r\n",
       "</g>\r\n",
       "<!-- 8 -->\r\n",
       "<g id=\"node7\" class=\"node\">\r\n",
       "<title>8</title>\r\n",
       "<ellipse fill=\"none\" stroke=\"black\" cx=\"442.84\" cy=\"-192\" rx=\"70.69\" ry=\"18\"/>\r\n",
       "<text text-anchor=\"middle\" x=\"442.84\" y=\"-188.3\" font-family=\"Times New Roman,serif\" font-size=\"14.00\">leaf=99.1000061</text>\r\n",
       "</g>\r\n",
       "<!-- 3&#45;&gt;8 -->\r\n",
       "<g id=\"edge6\" class=\"edge\">\r\n",
       "<title>3&#45;&gt;8</title>\r\n",
       "<path fill=\"none\" stroke=\"#ff0000\" d=\"M366.24,-264.86C377.23,-258.94 389.68,-251.4 399.84,-243 408.67,-235.7 417.17,-226.48 424.24,-217.94\"/>\r\n",
       "<polygon fill=\"#ff0000\" stroke=\"#ff0000\" points=\"427.04,-220.05 430.55,-210.05 421.57,-215.67 427.04,-220.05\"/>\r\n",
       "<text text-anchor=\"middle\" x=\"422.34\" y=\"-231.8\" font-family=\"Times New Roman,serif\" font-size=\"14.00\">no</text>\r\n",
       "</g>\r\n",
       "<!-- 11 -->\r\n",
       "<g id=\"node8\" class=\"node\">\r\n",
       "<title>11</title>\r\n",
       "<ellipse fill=\"none\" stroke=\"black\" cx=\"230.84\" cy=\"-105\" rx=\"43.59\" ry=\"18\"/>\r\n",
       "<text text-anchor=\"middle\" x=\"230.84\" y=\"-101.3\" font-family=\"Times New Roman,serif\" font-size=\"14.00\">f650&lt;0.5</text>\r\n",
       "</g>\r\n",
       "<!-- 7&#45;&gt;11 -->\r\n",
       "<g id=\"edge7\" class=\"edge\">\r\n",
       "<title>7&#45;&gt;11</title>\r\n",
       "<path fill=\"none\" stroke=\"#0000ff\" d=\"M295.8,-175.01C283.73,-162.19 266.62,-144.01 252.98,-129.52\"/>\r\n",
       "<polygon fill=\"#0000ff\" stroke=\"#0000ff\" points=\"255.23,-126.8 245.82,-121.92 250.13,-131.6 255.23,-126.8\"/>\r\n",
       "<text text-anchor=\"middle\" x=\"310.34\" y=\"-144.8\" font-family=\"Times New Roman,serif\" font-size=\"14.00\">yes, missing</text>\r\n",
       "</g>\r\n",
       "<!-- 12 -->\r\n",
       "<g id=\"node9\" class=\"node\">\r\n",
       "<title>12</title>\r\n",
       "<ellipse fill=\"none\" stroke=\"black\" cx=\"390.84\" cy=\"-105\" rx=\"43.59\" ry=\"18\"/>\r\n",
       "<text text-anchor=\"middle\" x=\"390.84\" y=\"-101.3\" font-family=\"Times New Roman,serif\" font-size=\"14.00\">f645&lt;0.5</text>\r\n",
       "</g>\r\n",
       "<!-- 7&#45;&gt;12 -->\r\n",
       "<g id=\"edge8\" class=\"edge\">\r\n",
       "<title>7&#45;&gt;12</title>\r\n",
       "<path fill=\"none\" stroke=\"#ff0000\" d=\"M328.69,-175.42C335.21,-169.52 342.52,-162.62 348.84,-156 356.6,-147.88 364.63,-138.57 371.58,-130.19\"/>\r\n",
       "<polygon fill=\"#ff0000\" stroke=\"#ff0000\" points=\"374.48,-132.17 378.1,-122.21 369.06,-127.74 374.48,-132.17\"/>\r\n",
       "<text text-anchor=\"middle\" x=\"370.34\" y=\"-144.8\" font-family=\"Times New Roman,serif\" font-size=\"14.00\">no</text>\r\n",
       "</g>\r\n",
       "<!-- 13 -->\r\n",
       "<g id=\"node10\" class=\"node\">\r\n",
       "<title>13</title>\r\n",
       "<ellipse fill=\"none\" stroke=\"black\" cx=\"70.84\" cy=\"-18\" rx=\"70.69\" ry=\"18\"/>\r\n",
       "<text text-anchor=\"middle\" x=\"70.84\" y=\"-14.3\" font-family=\"Times New Roman,serif\" font-size=\"14.00\">leaf=39.9224586</text>\r\n",
       "</g>\r\n",
       "<!-- 11&#45;&gt;13 -->\r\n",
       "<g id=\"edge9\" class=\"edge\">\r\n",
       "<title>11&#45;&gt;13</title>\r\n",
       "<path fill=\"none\" stroke=\"#0000ff\" d=\"M202.87,-91.19C189.18,-84.76 172.52,-76.72 157.84,-69 140.57,-59.91 121.76,-49.21 106.06,-40.04\"/>\r\n",
       "<polygon fill=\"#0000ff\" stroke=\"#0000ff\" points=\"107.61,-36.88 97.21,-34.84 104.06,-42.92 107.61,-36.88\"/>\r\n",
       "<text text-anchor=\"middle\" x=\"192.34\" y=\"-57.8\" font-family=\"Times New Roman,serif\" font-size=\"14.00\">yes, missing</text>\r\n",
       "</g>\r\n",
       "<!-- 14 -->\r\n",
       "<g id=\"node11\" class=\"node\">\r\n",
       "<title>14</title>\r\n",
       "<ellipse fill=\"none\" stroke=\"black\" cx=\"230.84\" cy=\"-18\" rx=\"70.69\" ry=\"18\"/>\r\n",
       "<text text-anchor=\"middle\" x=\"230.84\" y=\"-14.3\" font-family=\"Times New Roman,serif\" font-size=\"14.00\">leaf=4.10000038</text>\r\n",
       "</g>\r\n",
       "<!-- 11&#45;&gt;14 -->\r\n",
       "<g id=\"edge10\" class=\"edge\">\r\n",
       "<title>11&#45;&gt;14</title>\r\n",
       "<path fill=\"none\" stroke=\"#ff0000\" d=\"M230.84,-86.8C230.84,-75.16 230.84,-59.55 230.84,-46.24\"/>\r\n",
       "<polygon fill=\"#ff0000\" stroke=\"#ff0000\" points=\"234.34,-46.18 230.84,-36.18 227.34,-46.18 234.34,-46.18\"/>\r\n",
       "<text text-anchor=\"middle\" x=\"238.34\" y=\"-57.8\" font-family=\"Times New Roman,serif\" font-size=\"14.00\">no</text>\r\n",
       "</g>\r\n",
       "<!-- 15 -->\r\n",
       "<g id=\"node12\" class=\"node\">\r\n",
       "<title>15</title>\r\n",
       "<ellipse fill=\"none\" stroke=\"black\" cx=\"390.84\" cy=\"-18\" rx=\"70.69\" ry=\"18\"/>\r\n",
       "<text text-anchor=\"middle\" x=\"390.84\" y=\"-14.3\" font-family=\"Times New Roman,serif\" font-size=\"14.00\">leaf=52.4789505</text>\r\n",
       "</g>\r\n",
       "<!-- 12&#45;&gt;15 -->\r\n",
       "<g id=\"edge11\" class=\"edge\">\r\n",
       "<title>12&#45;&gt;15</title>\r\n",
       "<path fill=\"none\" stroke=\"#0000ff\" d=\"M390.84,-86.8C390.84,-75.16 390.84,-59.55 390.84,-46.24\"/>\r\n",
       "<polygon fill=\"#0000ff\" stroke=\"#0000ff\" points=\"394.34,-46.18 390.84,-36.18 387.34,-46.18 394.34,-46.18\"/>\r\n",
       "<text text-anchor=\"middle\" x=\"425.34\" y=\"-57.8\" font-family=\"Times New Roman,serif\" font-size=\"14.00\">yes, missing</text>\r\n",
       "</g>\r\n",
       "<!-- 16 -->\r\n",
       "<g id=\"node13\" class=\"node\">\r\n",
       "<title>16</title>\r\n",
       "<ellipse fill=\"none\" stroke=\"black\" cx=\"550.84\" cy=\"-18\" rx=\"70.69\" ry=\"18\"/>\r\n",
       "<text text-anchor=\"middle\" x=\"550.84\" y=\"-14.3\" font-family=\"Times New Roman,serif\" font-size=\"14.00\">leaf=22.2000008</text>\r\n",
       "</g>\r\n",
       "<!-- 12&#45;&gt;16 -->\r\n",
       "<g id=\"edge12\" class=\"edge\">\r\n",
       "<title>12&#45;&gt;16</title>\r\n",
       "<path fill=\"none\" stroke=\"#ff0000\" d=\"M418.82,-91.19C432.51,-84.76 449.17,-76.72 463.84,-69 481.11,-59.91 499.93,-49.21 515.63,-40.04\"/>\r\n",
       "<polygon fill=\"#ff0000\" stroke=\"#ff0000\" points=\"517.63,-42.92 524.48,-34.84 514.08,-36.88 517.63,-42.92\"/>\r\n",
       "<text text-anchor=\"middle\" x=\"498.34\" y=\"-57.8\" font-family=\"Times New Roman,serif\" font-size=\"14.00\">no</text>\r\n",
       "</g>\r\n",
       "<!-- 9 -->\r\n",
       "<g id=\"node16\" class=\"node\">\r\n",
       "<title>9</title>\r\n",
       "<ellipse fill=\"none\" stroke=\"black\" cx=\"615.84\" cy=\"-192\" rx=\"70.69\" ry=\"18\"/>\r\n",
       "<text text-anchor=\"middle\" x=\"615.84\" y=\"-188.3\" font-family=\"Times New Roman,serif\" font-size=\"14.00\">leaf=63.5250015</text>\r\n",
       "</g>\r\n",
       "<!-- 6&#45;&gt;9 -->\r\n",
       "<g id=\"edge15\" class=\"edge\">\r\n",
       "<title>6&#45;&gt;9</title>\r\n",
       "<path fill=\"none\" stroke=\"#0000ff\" d=\"M735.74,-264.75C723.16,-258.42 708.1,-250.58 694.84,-243 679.33,-234.12 662.54,-223.63 648.45,-214.55\"/>\r\n",
       "<polygon fill=\"#0000ff\" stroke=\"#0000ff\" points=\"650.35,-211.61 640.05,-209.11 646.54,-217.49 650.35,-211.61\"/>\r\n",
       "<text text-anchor=\"middle\" x=\"729.34\" y=\"-231.8\" font-family=\"Times New Roman,serif\" font-size=\"14.00\">yes, missing</text>\r\n",
       "</g>\r\n",
       "<!-- 10 -->\r\n",
       "<g id=\"node17\" class=\"node\">\r\n",
       "<title>10</title>\r\n",
       "<ellipse fill=\"none\" stroke=\"black\" cx=\"775.84\" cy=\"-192\" rx=\"70.69\" ry=\"18\"/>\r\n",
       "<text text-anchor=\"middle\" x=\"775.84\" y=\"-188.3\" font-family=\"Times New Roman,serif\" font-size=\"14.00\">leaf=10.7000008</text>\r\n",
       "</g>\r\n",
       "<!-- 6&#45;&gt;10 -->\r\n",
       "<g id=\"edge16\" class=\"edge\">\r\n",
       "<title>6&#45;&gt;10</title>\r\n",
       "<path fill=\"none\" stroke=\"#ff0000\" d=\"M765.47,-260.8C767.25,-249.16 769.64,-233.55 771.68,-220.24\"/>\r\n",
       "<polygon fill=\"#ff0000\" stroke=\"#ff0000\" points=\"775.16,-220.59 773.22,-210.18 768.25,-219.53 775.16,-220.59\"/>\r\n",
       "<text text-anchor=\"middle\" x=\"777.34\" y=\"-231.8\" font-family=\"Times New Roman,serif\" font-size=\"14.00\">no</text>\r\n",
       "</g>\r\n",
       "</g>\r\n",
       "</svg>\r\n"
      ],
      "text/plain": [
       "<graphviz.files.Source at 0x22ef5dade80>"
      ]
     },
     "execution_count": 29,
     "metadata": {},
     "output_type": "execute_result"
    }
   ],
   "source": [
    "xgb.to_graphviz(model, num_trees=0)"
   ]
  },
  {
   "cell_type": "code",
   "execution_count": 30,
   "id": "3d66f43c-243d-4c29-8e55-8679fd60e0d1",
   "metadata": {},
   "outputs": [
    {
     "name": "stdout",
     "output_type": "stream",
     "text": [
      "[18:01:18] WARNING: C:/Users/Administrator/workspace/xgboost-win64_release_1.4.0/src/learner.cc:1095: Starting in XGBoost 1.3.0, the default evaluation metric used with the objective 'multi:softprob' was changed from 'merror' to 'mlogloss'. Explicitly set eval_metric if you'd like to restore the old behavior.\n"
     ]
    },
    {
     "data": {
      "text/plain": [
       "array([0.00959796, 0.01645038, 0.67658573, 0.29736587], dtype=float32)"
      ]
     },
     "execution_count": 30,
     "metadata": {},
     "output_type": "execute_result"
    },
    {
     "data": {
      "image/png": "[encoded data removed]",
      "text/plain": [
       "<Figure size 432x288 with 1 Axes>"
      ]
     },
     "metadata": {
      "needs_background": "light"
     },
     "output_type": "display_data"
    }
   ],
   "source": [
    "import xgboost\n",
    "from xgboost import XGBClassifier\n",
    "from sklearn.datasets import load_iris\n",
    "\n",
    "iris = load_iris()\n",
    "x, y = iris.data, iris.target\n",
    "model = XGBClassifier()\n",
    "model.fit(x, y)\n",
    "# 如果输入是没有表头的array,会自动以f1,f2开始,需要更换表头\n",
    "# 画树结构图的时候也需要替换表头\n",
    "\n",
    "model.get_booster().feature_names = iris.feature_names\n",
    "# max_num_features指定排名最靠前的多少特征\n",
    "# height=0.2指定柱状图每个柱子的粗细,默认是0.2\n",
    "# importance_type='weight'默认是用特征子树中的出现次数(被选择次数),还有\"gain\"和\"cover\"\n",
    "xgboost.plot_importance(model, max_num_features=5, importance_type='gain')\n",
    "\n",
    "# f_score就是feature score\n",
    "model.feature_importances_  # 这里的特征重要性就是gain进行归一化之后的值"
   ]
  },
  {
   "cell_type": "code",
   "execution_count": 31,
   "id": "dd4b31d8-f739-4a84-92f8-9afe79e24dec",
   "metadata": {},
   "outputs": [
    {
     "data": {
      "text/plain": [
       "1.0"
      ]
     },
     "execution_count": 31,
     "metadata": {},
     "output_type": "execute_result"
    }
   ],
   "source": [
    "model.feature_importances_.sum()"
   ]
  },
  {
   "cell_type": "code",
   "execution_count": 32,
   "id": "4c049132-c614-473f-8d0f-b19f32f17f4c",
   "metadata": {},
   "outputs": [
    {
     "data": {
      "text/plain": [
       "0.6766022886607264"
      ]
     },
     "execution_count": 32,
     "metadata": {},
     "output_type": "execute_result"
    }
   ],
   "source": [
    "2.9918/(2.9918+1.3149+0.0727+0.0424)"
   ]
  },
  {
   "cell_type": "code",
   "execution_count": 33,
   "id": "6f243925-4941-47e8-a29c-4125a1fd33ae",
   "metadata": {},
   "outputs": [
    {
     "data": {
      "image/svg+xml": [
       "<?xml version=\"1.0\" encoding=\"UTF-8\" standalone=\"no\"?>\r\n",
       "<!DOCTYPE svg PUBLIC \"-//W3C//DTD SVG 1.1//EN\"\r\n",
       " \"http://www.w3.org/Graphics/SVG/1.1/DTD/svg11.dtd\">\r\n",
       "<!-- Generated by graphviz version 2.49.0 (20210828.1703)\r\n",
       " -->\r\n",
       "<!-- Pages: 1 -->\r\n",
       "<svg width=\"955pt\" height=\"392pt\"\r\n",
       " viewBox=\"0.00 0.00 955.39 392.00\" xmlns=\"http://www.w3.org/2000/svg\" xmlns:xlink=\"http://www.w3.org/1999/xlink\">\r\n",
       "<g id=\"graph0\" class=\"graph\" transform=\"scale(1 1) rotate(0) translate(4 388)\">\r\n",
       "<polygon fill=\"white\" stroke=\"transparent\" points=\"-4,4 -4,-388 951.39,-388 951.39,4 -4,4\"/>\r\n",
       "<!-- 0 -->\r\n",
       "<g id=\"node1\" class=\"node\">\r\n",
       "<title>0</title>\r\n",
       "<ellipse fill=\"none\" stroke=\"black\" cx=\"439.39\" cy=\"-366\" rx=\"118.08\" ry=\"18\"/>\r\n",
       "<text text-anchor=\"middle\" x=\"439.39\" y=\"-362.3\" font-family=\"Times New Roman,serif\" font-size=\"14.00\">petal length (cm)&lt;2.45000005</text>\r\n",
       "</g>\r\n",
       "<!-- 1 -->\r\n",
       "<g id=\"node2\" class=\"node\">\r\n",
       "<title>1</title>\r\n",
       "<ellipse fill=\"none\" stroke=\"black\" cx=\"393.39\" cy=\"-279\" rx=\"77.99\" ry=\"18\"/>\r\n",
       "<text text-anchor=\"middle\" x=\"393.39\" y=\"-275.3\" font-family=\"Times New Roman,serif\" font-size=\"14.00\">leaf=&#45;0.215311036</text>\r\n",
       "</g>\r\n",
       "<!-- 0&#45;&gt;1 -->\r\n",
       "<g id=\"edge1\" class=\"edge\">\r\n",
       "<title>0&#45;&gt;1</title>\r\n",
       "<path fill=\"none\" stroke=\"#0000ff\" d=\"M430.08,-347.8C423.56,-335.74 414.72,-319.4 407.35,-305.79\"/>\r\n",
       "<polygon fill=\"#0000ff\" stroke=\"#0000ff\" points=\"410.37,-304.01 402.53,-296.89 404.21,-307.35 410.37,-304.01\"/>\r\n",
       "<text text-anchor=\"middle\" x=\"453.89\" y=\"-318.8\" font-family=\"Times New Roman,serif\" font-size=\"14.00\">yes, missing</text>\r\n",
       "</g>\r\n",
       "<!-- 2 -->\r\n",
       "<g id=\"node3\" class=\"node\">\r\n",
       "<title>2</title>\r\n",
       "<ellipse fill=\"none\" stroke=\"black\" cx=\"580.39\" cy=\"-279\" rx=\"90.98\" ry=\"18\"/>\r\n",
       "<text text-anchor=\"middle\" x=\"580.39\" y=\"-275.3\" font-family=\"Times New Roman,serif\" font-size=\"14.00\">petal width (cm)&lt;1.75</text>\r\n",
       "</g>\r\n",
       "<!-- 0&#45;&gt;2 -->\r\n",
       "<g id=\"edge2\" class=\"edge\">\r\n",
       "<title>0&#45;&gt;2</title>\r\n",
       "<path fill=\"none\" stroke=\"#ff0000\" d=\"M466.91,-348.41C489.09,-335.04 520.43,-316.15 544.56,-301.6\"/>\r\n",
       "<polygon fill=\"#ff0000\" stroke=\"#ff0000\" points=\"546.66,-304.42 553.42,-296.26 543.05,-298.43 546.66,-304.42\"/>\r\n",
       "<text text-anchor=\"middle\" x=\"525.89\" y=\"-318.8\" font-family=\"Times New Roman,serif\" font-size=\"14.00\">no</text>\r\n",
       "</g>\r\n",
       "<!-- 3 -->\r\n",
       "<g id=\"node4\" class=\"node\">\r\n",
       "<title>3</title>\r\n",
       "<ellipse fill=\"none\" stroke=\"black\" cx=\"433.39\" cy=\"-192\" rx=\"118.08\" ry=\"18\"/>\r\n",
       "<text text-anchor=\"middle\" x=\"433.39\" y=\"-188.3\" font-family=\"Times New Roman,serif\" font-size=\"14.00\">petal length (cm)&lt;4.94999981</text>\r\n",
       "</g>\r\n",
       "<!-- 2&#45;&gt;3 -->\r\n",
       "<g id=\"edge3\" class=\"edge\">\r\n",
       "<title>2&#45;&gt;3</title>\r\n",
       "<path fill=\"none\" stroke=\"#0000ff\" d=\"M552.4,-261.81C529.32,-248.47 496.39,-229.43 471.01,-214.75\"/>\r\n",
       "<polygon fill=\"#0000ff\" stroke=\"#0000ff\" points=\"472.45,-211.54 462.04,-209.56 468.94,-217.6 472.45,-211.54\"/>\r\n",
       "<text text-anchor=\"middle\" x=\"550.89\" y=\"-231.8\" font-family=\"Times New Roman,serif\" font-size=\"14.00\">yes, missing</text>\r\n",
       "</g>\r\n",
       "<!-- 4 -->\r\n",
       "<g id=\"node5\" class=\"node\">\r\n",
       "<title>4</title>\r\n",
       "<ellipse fill=\"none\" stroke=\"black\" cx=\"688.39\" cy=\"-192\" rx=\"118.08\" ry=\"18\"/>\r\n",
       "<text text-anchor=\"middle\" x=\"688.39\" y=\"-188.3\" font-family=\"Times New Roman,serif\" font-size=\"14.00\">petal length (cm)&lt;4.85000038</text>\r\n",
       "</g>\r\n",
       "<!-- 2&#45;&gt;4 -->\r\n",
       "<g id=\"edge4\" class=\"edge\">\r\n",
       "<title>2&#45;&gt;4</title>\r\n",
       "<path fill=\"none\" stroke=\"#ff0000\" d=\"M601.47,-261.41C617.87,-248.51 640.81,-230.45 659.01,-216.13\"/>\r\n",
       "<polygon fill=\"#ff0000\" stroke=\"#ff0000\" points=\"661.3,-218.77 667,-209.84 656.97,-213.27 661.3,-218.77\"/>\r\n",
       "<text text-anchor=\"middle\" x=\"648.89\" y=\"-231.8\" font-family=\"Times New Roman,serif\" font-size=\"14.00\">no</text>\r\n",
       "</g>\r\n",
       "<!-- 5 -->\r\n",
       "<g id=\"node6\" class=\"node\">\r\n",
       "<title>5</title>\r\n",
       "<ellipse fill=\"none\" stroke=\"black\" cx=\"204.39\" cy=\"-105\" rx=\"116.98\" ry=\"18\"/>\r\n",
       "<text text-anchor=\"middle\" x=\"204.39\" y=\"-101.3\" font-family=\"Times New Roman,serif\" font-size=\"14.00\">petal width (cm)&lt;1.54999995</text>\r\n",
       "</g>\r\n",
       "<!-- 3&#45;&gt;5 -->\r\n",
       "<g id=\"edge5\" class=\"edge\">\r\n",
       "<title>3&#45;&gt;5</title>\r\n",
       "<path fill=\"none\" stroke=\"#0000ff\" d=\"M390.59,-175.11C352.6,-161.01 296.98,-140.37 256.43,-125.32\"/>\r\n",
       "<polygon fill=\"#0000ff\" stroke=\"#0000ff\" points=\"257.58,-122.01 246.99,-121.81 255.14,-128.57 257.58,-122.01\"/>\r\n",
       "<text text-anchor=\"middle\" x=\"367.89\" y=\"-144.8\" font-family=\"Times New Roman,serif\" font-size=\"14.00\">yes, missing</text>\r\n",
       "</g>\r\n",
       "<!-- 6 -->\r\n",
       "<g id=\"node7\" class=\"node\">\r\n",
       "<title>6</title>\r\n",
       "<ellipse fill=\"none\" stroke=\"black\" cx=\"456.39\" cy=\"-105\" rx=\"116.98\" ry=\"18\"/>\r\n",
       "<text text-anchor=\"middle\" x=\"456.39\" y=\"-101.3\" font-family=\"Times New Roman,serif\" font-size=\"14.00\">petal width (cm)&lt;1.54999995</text>\r\n",
       "</g>\r\n",
       "<!-- 3&#45;&gt;6 -->\r\n",
       "<g id=\"edge6\" class=\"edge\">\r\n",
       "<title>3&#45;&gt;6</title>\r\n",
       "<path fill=\"none\" stroke=\"#ff0000\" d=\"M438.05,-173.8C441.23,-162.05 445.51,-146.24 449.13,-132.84\"/>\r\n",
       "<polygon fill=\"#ff0000\" stroke=\"#ff0000\" points=\"452.51,-133.74 451.75,-123.18 445.76,-131.91 452.51,-133.74\"/>\r\n",
       "<text text-anchor=\"middle\" x=\"453.89\" y=\"-144.8\" font-family=\"Times New Roman,serif\" font-size=\"14.00\">no</text>\r\n",
       "</g>\r\n",
       "<!-- 7 -->\r\n",
       "<g id=\"node12\" class=\"node\">\r\n",
       "<title>7</title>\r\n",
       "<ellipse fill=\"none\" stroke=\"black\" cx=\"684.39\" cy=\"-105\" rx=\"89.08\" ry=\"18\"/>\r\n",
       "<text text-anchor=\"middle\" x=\"684.39\" y=\"-101.3\" font-family=\"Times New Roman,serif\" font-size=\"14.00\">leaf=&#45;7.66345476e&#45;09</text>\r\n",
       "</g>\r\n",
       "<!-- 4&#45;&gt;7 -->\r\n",
       "<g id=\"edge11\" class=\"edge\">\r\n",
       "<title>4&#45;&gt;7</title>\r\n",
       "<path fill=\"none\" stroke=\"#0000ff\" d=\"M687.58,-173.8C687.04,-162.16 686.3,-146.55 685.68,-133.24\"/>\r\n",
       "<polygon fill=\"#0000ff\" stroke=\"#0000ff\" points=\"689.17,-133 685.2,-123.18 682.18,-133.33 689.17,-133\"/>\r\n",
       "<text text-anchor=\"middle\" x=\"721.89\" y=\"-144.8\" font-family=\"Times New Roman,serif\" font-size=\"14.00\">yes, missing</text>\r\n",
       "</g>\r\n",
       "<!-- 8 -->\r\n",
       "<g id=\"node13\" class=\"node\">\r\n",
       "<title>8</title>\r\n",
       "<ellipse fill=\"none\" stroke=\"black\" cx=\"869.39\" cy=\"-105\" rx=\"77.99\" ry=\"18\"/>\r\n",
       "<text text-anchor=\"middle\" x=\"869.39\" y=\"-101.3\" font-family=\"Times New Roman,serif\" font-size=\"14.00\">leaf=&#45;0.213812172</text>\r\n",
       "</g>\r\n",
       "<!-- 4&#45;&gt;8 -->\r\n",
       "<g id=\"edge12\" class=\"edge\">\r\n",
       "<title>4&#45;&gt;8</title>\r\n",
       "<path fill=\"none\" stroke=\"#ff0000\" d=\"M723.29,-174.61C752.9,-160.71 795.46,-140.72 827.02,-125.9\"/>\r\n",
       "<polygon fill=\"#ff0000\" stroke=\"#ff0000\" points=\"828.87,-128.9 836.43,-121.48 825.89,-122.56 828.87,-128.9\"/>\r\n",
       "<text text-anchor=\"middle\" x=\"796.89\" y=\"-144.8\" font-family=\"Times New Roman,serif\" font-size=\"14.00\">no</text>\r\n",
       "</g>\r\n",
       "<!-- 9 -->\r\n",
       "<g id=\"node8\" class=\"node\">\r\n",
       "<title>9</title>\r\n",
       "<ellipse fill=\"none\" stroke=\"black\" cx=\"75.39\" cy=\"-18\" rx=\"75.29\" ry=\"18\"/>\r\n",
       "<text text-anchor=\"middle\" x=\"75.39\" y=\"-14.3\" font-family=\"Times New Roman,serif\" font-size=\"14.00\">leaf=0.428571463</text>\r\n",
       "</g>\r\n",
       "<!-- 5&#45;&gt;9 -->\r\n",
       "<g id=\"edge7\" class=\"edge\">\r\n",
       "<title>5&#45;&gt;9</title>\r\n",
       "<path fill=\"none\" stroke=\"#0000ff\" d=\"M178,-87.41C168.9,-81.64 158.67,-75.08 149.39,-69 135.59,-59.95 120.48,-49.78 107.52,-40.99\"/>\r\n",
       "<polygon fill=\"#0000ff\" stroke=\"#0000ff\" points=\"109.18,-37.88 98.94,-35.15 105.24,-43.67 109.18,-37.88\"/>\r\n",
       "<text text-anchor=\"middle\" x=\"183.89\" y=\"-57.8\" font-family=\"Times New Roman,serif\" font-size=\"14.00\">yes, missing</text>\r\n",
       "</g>\r\n",
       "<!-- 10 -->\r\n",
       "<g id=\"node9\" class=\"node\">\r\n",
       "<title>10</title>\r\n",
       "<ellipse fill=\"none\" stroke=\"black\" cx=\"244.39\" cy=\"-18\" rx=\"75.29\" ry=\"18\"/>\r\n",
       "<text text-anchor=\"middle\" x=\"244.39\" y=\"-14.3\" font-family=\"Times New Roman,serif\" font-size=\"14.00\">leaf=0.128571421</text>\r\n",
       "</g>\r\n",
       "<!-- 5&#45;&gt;10 -->\r\n",
       "<g id=\"edge8\" class=\"edge\">\r\n",
       "<title>5&#45;&gt;10</title>\r\n",
       "<path fill=\"none\" stroke=\"#ff0000\" d=\"M212.49,-86.8C218.07,-74.93 225.6,-58.93 231.95,-45.45\"/>\r\n",
       "<polygon fill=\"#ff0000\" stroke=\"#ff0000\" points=\"235.22,-46.71 236.31,-36.18 228.89,-43.73 235.22,-46.71\"/>\r\n",
       "<text text-anchor=\"middle\" x=\"234.89\" y=\"-57.8\" font-family=\"Times New Roman,serif\" font-size=\"14.00\">no</text>\r\n",
       "</g>\r\n",
       "<!-- 11 -->\r\n",
       "<g id=\"node10\" class=\"node\">\r\n",
       "<title>11</title>\r\n",
       "<ellipse fill=\"none\" stroke=\"black\" cx=\"435.39\" cy=\"-18\" rx=\"77.99\" ry=\"18\"/>\r\n",
       "<text text-anchor=\"middle\" x=\"435.39\" y=\"-14.3\" font-family=\"Times New Roman,serif\" font-size=\"14.00\">leaf=&#45;0.128571451</text>\r\n",
       "</g>\r\n",
       "<!-- 6&#45;&gt;11 -->\r\n",
       "<g id=\"edge9\" class=\"edge\">\r\n",
       "<title>6&#45;&gt;11</title>\r\n",
       "<path fill=\"none\" stroke=\"#0000ff\" d=\"M452.14,-86.8C449.27,-75.16 445.41,-59.55 442.12,-46.24\"/>\r\n",
       "<polygon fill=\"#0000ff\" stroke=\"#0000ff\" points=\"445.43,-45.04 439.64,-36.18 438.64,-46.72 445.43,-45.04\"/>\r\n",
       "<text text-anchor=\"middle\" x=\"481.89\" y=\"-57.8\" font-family=\"Times New Roman,serif\" font-size=\"14.00\">yes, missing</text>\r\n",
       "</g>\r\n",
       "<!-- 12 -->\r\n",
       "<g id=\"node11\" class=\"node\">\r\n",
       "<title>12</title>\r\n",
       "<ellipse fill=\"none\" stroke=\"black\" cx=\"606.39\" cy=\"-18\" rx=\"75.29\" ry=\"18\"/>\r\n",
       "<text text-anchor=\"middle\" x=\"606.39\" y=\"-14.3\" font-family=\"Times New Roman,serif\" font-size=\"14.00\">leaf=0.128571421</text>\r\n",
       "</g>\r\n",
       "<!-- 6&#45;&gt;12 -->\r\n",
       "<g id=\"edge10\" class=\"edge\">\r\n",
       "<title>6&#45;&gt;12</title>\r\n",
       "<path fill=\"none\" stroke=\"#ff0000\" d=\"M486.76,-87.6C497.43,-81.79 509.47,-75.16 520.39,-69 536.99,-59.64 555.26,-49.06 570.67,-40.05\"/>\r\n",
       "<polygon fill=\"#ff0000\" stroke=\"#ff0000\" points=\"572.52,-43.02 579.38,-34.95 568.99,-36.98 572.52,-43.02\"/>\r\n",
       "<text text-anchor=\"middle\" x=\"554.89\" y=\"-57.8\" font-family=\"Times New Roman,serif\" font-size=\"14.00\">no</text>\r\n",
       "</g>\r\n",
       "</g>\r\n",
       "</svg>\r\n"
      ],
      "text/plain": [
       "<graphviz.files.Source at 0x22ef5c85080>"
      ]
     },
     "execution_count": 33,
     "metadata": {},
     "output_type": "execute_result"
    }
   ],
   "source": [
    "xgb.to_graphviz(model, num_trees=1)"
   ]
  },
  {
   "cell_type": "code",
   "execution_count": 34,
   "id": "c5381199-7c3d-4994-ada5-241bc2b93f37",
   "metadata": {},
   "outputs": [],
   "source": [
    "from sklearn.tree import DecisionTreeClassifier"
   ]
  },
  {
   "cell_type": "code",
   "execution_count": 35,
   "id": "d447552f-45a8-409b-b90b-b065c7d59901",
   "metadata": {},
   "outputs": [],
   "source": [
    "dt = DecisionTreeClassifier(max_depth=2)"
   ]
  },
  {
   "cell_type": "code",
   "execution_count": 36,
   "id": "69db9610-8e22-4734-81bd-5396cb7cb7b0",
   "metadata": {},
   "outputs": [
    {
     "data": {
      "text/plain": [
       "DecisionTreeClassifier(max_depth=2)"
      ]
     },
     "execution_count": 36,
     "metadata": {},
     "output_type": "execute_result"
    }
   ],
   "source": [
    "dt.fit(x, y)"
   ]
  },
  {
   "cell_type": "code",
   "execution_count": 37,
   "id": "fce50630-1bfb-405a-a1fc-0d04f9e1d32f",
   "metadata": {},
   "outputs": [],
   "source": [
    "import graphviz\n",
    "from sklearn import tree\n",
    "import pydotplus\n",
    "from IPython.display import Image"
   ]
  },
  {
   "cell_type": "code",
   "execution_count": 38,
   "id": "b2ef1d0a-2def-471d-89b9-1477a9cf57d3",
   "metadata": {},
   "outputs": [
    {
     "data": {
      "text/plain": [
       "array([0.        , 0.        , 0.56199095, 0.43800905])"
      ]
     },
     "execution_count": 38,
     "metadata": {},
     "output_type": "execute_result"
    }
   ],
   "source": [
    "# 对于决策树来说，特征重要性就等于这个特征分裂的时候的总信息增益，这个特征有可能分裂，加到一起就行\n",
    "dt.feature_importances_"
   ]
  },
  {
   "cell_type": "code",
   "execution_count": 39,
   "id": "43fa5105-deda-4418-9822-2ab931b1c52c",
   "metadata": {},
   "outputs": [
    {
     "data": {
      "image/png": "[encoded data removed]",
      "text/plain": [
       "<IPython.core.display.Image object>"
      ]
     },
     "execution_count": 39,
     "metadata": {},
     "output_type": "execute_result"
    }
   ],
   "source": [
    "dot = tree.export_graphviz(dt)\n",
    "graph = pydotplus.graph_from_dot_data(dot)\n",
    "Image(graph.create_png())"
   ]
  }
 ],
 "metadata": {
  "kernelspec": {
   "display_name": "Python 3",
   "language": "python",
   "name": "python3"
  },
  "language_info": {
   "codemirror_mode": {
    "name": "ipython",
    "version": 3
   },
   "file_extension": ".py",
   "mimetype": "text/x-python",
   "name": "python",
   "nbconvert_exporter": "python",
   "pygments_lexer": "ipython3",
   "version": "3.7.0"
  },
  "toc-autonumbering": false,
  "toc-showcode": false,
  "toc-showmarkdowntxt": false
 },
 "nbformat": 4,
 "nbformat_minor": 5
}
