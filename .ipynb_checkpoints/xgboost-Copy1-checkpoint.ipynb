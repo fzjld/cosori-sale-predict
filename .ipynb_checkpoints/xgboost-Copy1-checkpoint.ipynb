{
 "cells": [
  {
   "cell_type": "code",
   "execution_count": 187,
   "id": "73b20828-5422-423d-85ff-449137ac570c",
   "metadata": {},
   "outputs": [],
   "source": [
    "import xgboost as xgb\n",
    "import os\n",
    "import seaborn as sns\n",
    "import pandas as pd\n",
    "import numpy as np\n",
    "from xgboost import XGBRegressor\n",
    "from sklearn.model_selection import train_test_split\n",
    "from sklearn.preprocessing import OneHotEncoder, LabelEncoder, OrdinalEncoder\n",
    "from sklearn.metrics import mean_squared_error, r2_score\n",
    "import time\n",
    "# from sklearn.externals import joblib\n",
    "import joblib\n",
    "import pickle\n",
    "import pylab as plt\n",
    "from sklearn.model_selection import cross_val_score\n",
    "import warnings\n",
    "warnings.filterwarnings('ignore')\n",
    "\n",
    "pd.set_option('display.max_rows', 100)\n",
    "pd.set_option('display.max_columns', None)\n",
    "pd.set_option('display.float_format', lambda x: '%.4f' % x)\n",
    "np.set_printoptions(suppress=True)\n",
    "sns.set_style({'font.sans-serif': ['simhei', 'Arial']})   # 解决画图中文乱码\n",
    "\n",
    "%matplotlib inline"
   ]
  },
  {
   "cell_type": "code",
   "execution_count": 116,
   "id": "5638c9d2-20d8-4cfc-be0c-e635641bb771",
   "metadata": {},
   "outputs": [
    {
     "data": {
      "text/html": [
       "<div>\n",
       "<style scoped>\n",
       "    .dataframe tbody tr th:only-of-type {\n",
       "        vertical-align: middle;\n",
       "    }\n",
       "\n",
       "    .dataframe tbody tr th {\n",
       "        vertical-align: top;\n",
       "    }\n",
       "\n",
       "    .dataframe thead th {\n",
       "        text-align: right;\n",
       "    }\n",
       "</style>\n",
       "<table border=\"1\" class=\"dataframe\">\n",
       "  <thead>\n",
       "    <tr style=\"text-align: right;\">\n",
       "      <th></th>\n",
       "      <th>id</th>\n",
       "      <th>site_id</th>\n",
       "      <th>asin</th>\n",
       "      <th>data_date</th>\n",
       "      <th>product_title</th>\n",
       "      <th>ordered_revenue</th>\n",
       "      <th>ordered_revenue_of_total</th>\n",
       "      <th>ordered_revenue_last_year</th>\n",
       "      <th>ordered_units</th>\n",
       "      <th>ordered_units_of_total</th>\n",
       "      <th>...</th>\n",
       "      <th>glance_views</th>\n",
       "      <th>change_in_glance_view_prior_period</th>\n",
       "      <th>change_in_gv_last_year</th>\n",
       "      <th>conversion_rate</th>\n",
       "      <th>rep_oos</th>\n",
       "      <th>rep_oos_of_total</th>\n",
       "      <th>rep_oos_prior_period</th>\n",
       "      <th>lbb_price</th>\n",
       "      <th>create_time</th>\n",
       "      <th>update_time</th>\n",
       "    </tr>\n",
       "  </thead>\n",
       "  <tbody>\n",
       "    <tr>\n",
       "      <th>0</th>\n",
       "      <td>1</td>\n",
       "      <td>eb766123-9f24-436e-9117-49c739816794</td>\n",
       "      <td>B07GJBBGHG</td>\n",
       "      <td>2021/1/2</td>\n",
       "      <td>COSORI 5.8QT Electric Hot Air Fryers Oven Oill...</td>\n",
       "      <td>153827.18</td>\n",
       "      <td>0.13</td>\n",
       "      <td>1.26</td>\n",
       "      <td>1284</td>\n",
       "      <td>0.06</td>\n",
       "      <td>...</td>\n",
       "      <td>40220.0</td>\n",
       "      <td>0.00</td>\n",
       "      <td>1.19</td>\n",
       "      <td>0.03</td>\n",
       "      <td>0.02</td>\n",
       "      <td>0.14</td>\n",
       "      <td>0.15</td>\n",
       "      <td>0.0</td>\n",
       "      <td>2021/1/4 6:48</td>\n",
       "      <td>2021/1/4 6:48</td>\n",
       "    </tr>\n",
       "    <tr>\n",
       "      <th>1</th>\n",
       "      <td>5</td>\n",
       "      <td>eb766123-9f24-436e-9117-49c739816794</td>\n",
       "      <td>B07VLKMMJ5</td>\n",
       "      <td>2021/1/2</td>\n",
       "      <td>COSORI Smart WiFi Air Fryer 5.8QT(100 Recipes)...</td>\n",
       "      <td>44065.14</td>\n",
       "      <td>0.04</td>\n",
       "      <td>0.45</td>\n",
       "      <td>367</td>\n",
       "      <td>0.02</td>\n",
       "      <td>...</td>\n",
       "      <td>11543.0</td>\n",
       "      <td>-0.01</td>\n",
       "      <td>1.45</td>\n",
       "      <td>0.03</td>\n",
       "      <td>0.01</td>\n",
       "      <td>0.02</td>\n",
       "      <td>1.26</td>\n",
       "      <td>0.0</td>\n",
       "      <td>2021/1/4 6:48</td>\n",
       "      <td>2021/1/4 6:48</td>\n",
       "    </tr>\n",
       "    <tr>\n",
       "      <th>2</th>\n",
       "      <td>9</td>\n",
       "      <td>eb766123-9f24-436e-9117-49c739816794</td>\n",
       "      <td>B07T2LCKNF</td>\n",
       "      <td>2021/1/2</td>\n",
       "      <td>COSORI Air Fryer Max XL(100 Recipes) 5.8 QT El...</td>\n",
       "      <td>28797.60</td>\n",
       "      <td>0.02</td>\n",
       "      <td>4.14</td>\n",
       "      <td>241</td>\n",
       "      <td>0.01</td>\n",
       "      <td>...</td>\n",
       "      <td>5897.0</td>\n",
       "      <td>0.10</td>\n",
       "      <td>3.25</td>\n",
       "      <td>0.04</td>\n",
       "      <td>0.00</td>\n",
       "      <td>0.00</td>\n",
       "      <td>NaN</td>\n",
       "      <td>0.0</td>\n",
       "      <td>2021/1/4 6:48</td>\n",
       "      <td>2021/1/4 6:48</td>\n",
       "    </tr>\n",
       "  </tbody>\n",
       "</table>\n",
       "<p>3 rows × 25 columns</p>\n",
       "</div>"
      ],
      "text/plain": [
       "   id                               site_id        asin data_date  \\\n",
       "0   1  eb766123-9f24-436e-9117-49c739816794  B07GJBBGHG  2021/1/2   \n",
       "1   5  eb766123-9f24-436e-9117-49c739816794  B07VLKMMJ5  2021/1/2   \n",
       "2   9  eb766123-9f24-436e-9117-49c739816794  B07T2LCKNF  2021/1/2   \n",
       "\n",
       "                                       product_title  ordered_revenue  \\\n",
       "0  COSORI 5.8QT Electric Hot Air Fryers Oven Oill...        153827.18   \n",
       "1  COSORI Smart WiFi Air Fryer 5.8QT(100 Recipes)...         44065.14   \n",
       "2  COSORI Air Fryer Max XL(100 Recipes) 5.8 QT El...         28797.60   \n",
       "\n",
       "   ordered_revenue_of_total  ordered_revenue_last_year  ordered_units  \\\n",
       "0                      0.13                       1.26           1284   \n",
       "1                      0.04                       0.45            367   \n",
       "2                      0.02                       4.14            241   \n",
       "\n",
       "   ordered_units_of_total  ...  glance_views  \\\n",
       "0                    0.06  ...       40220.0   \n",
       "1                    0.02  ...       11543.0   \n",
       "2                    0.01  ...        5897.0   \n",
       "\n",
       "   change_in_glance_view_prior_period  change_in_gv_last_year  \\\n",
       "0                                0.00                    1.19   \n",
       "1                               -0.01                    1.45   \n",
       "2                                0.10                    3.25   \n",
       "\n",
       "   conversion_rate  rep_oos  rep_oos_of_total  rep_oos_prior_period  \\\n",
       "0             0.03     0.02              0.14                  0.15   \n",
       "1             0.03     0.01              0.02                  1.26   \n",
       "2             0.04     0.00              0.00                   NaN   \n",
       "\n",
       "   lbb_price    create_time    update_time  \n",
       "0        0.0  2021/1/4 6:48  2021/1/4 6:48  \n",
       "1        0.0  2021/1/4 6:48  2021/1/4 6:48  \n",
       "2        0.0  2021/1/4 6:48  2021/1/4 6:48  \n",
       "\n",
       "[3 rows x 25 columns]"
      ]
     },
     "execution_count": 116,
     "metadata": {},
     "output_type": "execute_result"
    }
   ],
   "source": [
    "data = pd.read_csv('./data.csv', encoding='GBK')\n",
    "data.head(3)"
   ]
  },
  {
   "cell_type": "code",
   "execution_count": 4,
   "id": "73a2d885-5e0e-4a4d-8108-14b7bb49492f",
   "metadata": {},
   "outputs": [],
   "source": [
    "data.data_date = pd.to_datetime(data.data_date)"
   ]
  },
  {
   "cell_type": "code",
   "execution_count": 5,
   "id": "5a32529b-80b8-4395-886c-9bd944ef51c9",
   "metadata": {},
   "outputs": [],
   "source": [
    "group = data.groupby(['asin', 'data_date']).agg({'ordered_units': sum})\n",
    "group = group.reset_index()"
   ]
  },
  {
   "cell_type": "code",
   "execution_count": 6,
   "id": "497d9048-412e-4185-b338-acebbf83cd4d",
   "metadata": {},
   "outputs": [
    {
     "data": {
      "text/html": [
       "<div>\n",
       "<style scoped>\n",
       "    .dataframe tbody tr th:only-of-type {\n",
       "        vertical-align: middle;\n",
       "    }\n",
       "\n",
       "    .dataframe tbody tr th {\n",
       "        vertical-align: top;\n",
       "    }\n",
       "\n",
       "    .dataframe thead th {\n",
       "        text-align: right;\n",
       "    }\n",
       "</style>\n",
       "<table border=\"1\" class=\"dataframe\">\n",
       "  <thead>\n",
       "    <tr style=\"text-align: right;\">\n",
       "      <th></th>\n",
       "      <th>asin</th>\n",
       "      <th>data_date</th>\n",
       "      <th>ordered_units</th>\n",
       "    </tr>\n",
       "  </thead>\n",
       "  <tbody>\n",
       "    <tr>\n",
       "      <th>0</th>\n",
       "      <td>B071D7BTTW</td>\n",
       "      <td>2019-12-02</td>\n",
       "      <td>23</td>\n",
       "    </tr>\n",
       "    <tr>\n",
       "      <th>1</th>\n",
       "      <td>B071D7BTTW</td>\n",
       "      <td>2019-12-03</td>\n",
       "      <td>3</td>\n",
       "    </tr>\n",
       "    <tr>\n",
       "      <th>28899</th>\n",
       "      <td>B09BB74CLW</td>\n",
       "      <td>2021-08-21</td>\n",
       "      <td>0</td>\n",
       "    </tr>\n",
       "    <tr>\n",
       "      <th>28900</th>\n",
       "      <td>B09BB74CLW</td>\n",
       "      <td>2021-08-22</td>\n",
       "      <td>0</td>\n",
       "    </tr>\n",
       "  </tbody>\n",
       "</table>\n",
       "</div>"
      ],
      "text/plain": [
       "             asin  data_date  ordered_units\n",
       "0      B071D7BTTW 2019-12-02             23\n",
       "1      B071D7BTTW 2019-12-03              3\n",
       "28899  B09BB74CLW 2021-08-21              0\n",
       "28900  B09BB74CLW 2021-08-22              0"
      ]
     },
     "execution_count": 6,
     "metadata": {},
     "output_type": "execute_result"
    }
   ],
   "source": [
    "group.head(2).append(group.tail(2))"
   ]
  },
  {
   "cell_type": "code",
   "execution_count": 193,
   "id": "8fa3753a-8906-47dd-9922-f83b678cc34b",
   "metadata": {},
   "outputs": [
    {
     "data": {
      "text/html": [
       "<div>\n",
       "<style scoped>\n",
       "    .dataframe tbody tr th:only-of-type {\n",
       "        vertical-align: middle;\n",
       "    }\n",
       "\n",
       "    .dataframe tbody tr th {\n",
       "        vertical-align: top;\n",
       "    }\n",
       "\n",
       "    .dataframe thead th {\n",
       "        text-align: right;\n",
       "    }\n",
       "</style>\n",
       "<table border=\"1\" class=\"dataframe\">\n",
       "  <thead>\n",
       "    <tr style=\"text-align: right;\">\n",
       "      <th></th>\n",
       "      <th>category</th>\n",
       "      <th>Product Name</th>\n",
       "      <th>asin</th>\n",
       "      <th>online_time</th>\n",
       "    </tr>\n",
       "  </thead>\n",
       "  <tbody>\n",
       "    <tr>\n",
       "      <th>0</th>\n",
       "      <td>炸锅</td>\n",
       "      <td>CP158-AF Air Fryer(Black)</td>\n",
       "      <td>B07GJBBGHG</td>\n",
       "      <td>2018-10-21</td>\n",
       "    </tr>\n",
       "    <tr>\n",
       "      <th>1</th>\n",
       "      <td>炸锅</td>\n",
       "      <td>CP158-AF Air Fryer(Red)</td>\n",
       "      <td>B07T2LGN8P</td>\n",
       "      <td>2019-06-24</td>\n",
       "    </tr>\n",
       "  </tbody>\n",
       "</table>\n",
       "</div>"
      ],
      "text/plain": [
       "  category               Product Name        asin online_time\n",
       "0       炸锅  CP158-AF Air Fryer(Black)  B07GJBBGHG  2018-10-21\n",
       "1       炸锅    CP158-AF Air Fryer(Red)  B07T2LGN8P  2019-06-24"
      ]
     },
     "execution_count": 193,
     "metadata": {},
     "output_type": "execute_result"
    }
   ],
   "source": [
    "cats = pd.read_excel('./COSORI 产品信息.xlsx')\n",
    "cats.rename(columns={'ASIN': 'asin', '产品线': 'category', '上线时间': 'online_time'}, inplace=True)\n",
    "cats.head(2)"
   ]
  },
  {
   "cell_type": "code",
   "execution_count": 196,
   "id": "a97516c6-1834-4878-a8c4-b38b0095272b",
   "metadata": {},
   "outputs": [],
   "source": [
    "cats1 = pd.merge(group, cats[['asin', 'category']], on=['asin'], how='left')"
   ]
  },
  {
   "cell_type": "code",
   "execution_count": 197,
   "id": "8f35ee62-dadb-44fc-bb45-bba91d7258f8",
   "metadata": {},
   "outputs": [
    {
     "data": {
      "text/html": [
       "<div>\n",
       "<style scoped>\n",
       "    .dataframe tbody tr th:only-of-type {\n",
       "        vertical-align: middle;\n",
       "    }\n",
       "\n",
       "    .dataframe tbody tr th {\n",
       "        vertical-align: top;\n",
       "    }\n",
       "\n",
       "    .dataframe thead th {\n",
       "        text-align: right;\n",
       "    }\n",
       "</style>\n",
       "<table border=\"1\" class=\"dataframe\">\n",
       "  <thead>\n",
       "    <tr style=\"text-align: right;\">\n",
       "      <th></th>\n",
       "      <th>asin</th>\n",
       "      <th>data_date</th>\n",
       "      <th>ordered_units</th>\n",
       "      <th>category</th>\n",
       "    </tr>\n",
       "  </thead>\n",
       "  <tbody>\n",
       "    <tr>\n",
       "      <th>0</th>\n",
       "      <td>B071D7BTTW</td>\n",
       "      <td>2019-12-02</td>\n",
       "      <td>23</td>\n",
       "      <td>搅拌机</td>\n",
       "    </tr>\n",
       "    <tr>\n",
       "      <th>1</th>\n",
       "      <td>B071D7BTTW</td>\n",
       "      <td>2019-12-03</td>\n",
       "      <td>3</td>\n",
       "      <td>搅拌机</td>\n",
       "    </tr>\n",
       "  </tbody>\n",
       "</table>\n",
       "</div>"
      ],
      "text/plain": [
       "         asin  data_date  ordered_units category\n",
       "0  B071D7BTTW 2019-12-02             23      搅拌机\n",
       "1  B071D7BTTW 2019-12-03              3      搅拌机"
      ]
     },
     "execution_count": 197,
     "metadata": {},
     "output_type": "execute_result"
    }
   ],
   "source": [
    "cats1.head(2)"
   ]
  },
  {
   "cell_type": "markdown",
   "id": "13569ee9-0c40-44f3-97b5-eb8b748ce27f",
   "metadata": {},
   "source": [
    "## category"
   ]
  },
  {
   "cell_type": "code",
   "execution_count": 20,
   "id": "d00bb6c5-2ba5-4d25-a3d0-757af66a72f2",
   "metadata": {},
   "outputs": [],
   "source": [
    "def barplot(x, y, data, ci=0):\n",
    "    plt.figure(figsize=(15, 5))\n",
    "    plt.xticks(rotation=90)\n",
    "    sns.barplot(x, y, data=data, estimator=np.sum, ci=ci)"
   ]
  },
  {
   "cell_type": "code",
   "execution_count": 21,
   "id": "c958d5ee-5b8d-43f6-bb9a-2bd226457579",
   "metadata": {},
   "outputs": [
    {
     "data": {
      "image/png": "[encoded data removed]",
      "text/plain": [
       "<Figure size 1080x360 with 1 Axes>"
      ]
     },
     "metadata": {
      "needs_background": "light"
     },
     "output_type": "display_data"
    }
   ],
   "source": [
    "barplot('category', 'ordered_units', cats1)"
   ]
  },
  {
   "cell_type": "code",
   "execution_count": 192,
   "id": "378ec98f-0492-4007-9a3b-27067b307157",
   "metadata": {
    "collapsed": true,
    "jupyter": {
     "outputs_hidden": true
    },
    "tags": []
   },
   "outputs": [
    {
     "data": {
      "text/html": [
       "<div>\n",
       "<style scoped>\n",
       "    .dataframe tbody tr th:only-of-type {\n",
       "        vertical-align: middle;\n",
       "    }\n",
       "\n",
       "    .dataframe tbody tr th {\n",
       "        vertical-align: top;\n",
       "    }\n",
       "\n",
       "    .dataframe thead th {\n",
       "        text-align: right;\n",
       "    }\n",
       "</style>\n",
       "<table border=\"1\" class=\"dataframe\">\n",
       "  <thead>\n",
       "    <tr style=\"text-align: right;\">\n",
       "      <th></th>\n",
       "      <th>ordered_units</th>\n",
       "    </tr>\n",
       "    <tr>\n",
       "      <th>category</th>\n",
       "      <th></th>\n",
       "    </tr>\n",
       "  </thead>\n",
       "  <tbody>\n",
       "    <tr>\n",
       "      <th>磨豆机</th>\n",
       "      <td>97</td>\n",
       "    </tr>\n",
       "    <tr>\n",
       "      <th>面包机</th>\n",
       "      <td>427</td>\n",
       "    </tr>\n",
       "    <tr>\n",
       "      <th>烤箱配件</th>\n",
       "      <td>2802</td>\n",
       "    </tr>\n",
       "    <tr>\n",
       "      <th>搅拌机</th>\n",
       "      <td>11670</td>\n",
       "    </tr>\n",
       "    <tr>\n",
       "      <th>干果机配件</th>\n",
       "      <td>26083</td>\n",
       "    </tr>\n",
       "    <tr>\n",
       "      <th>咖啡</th>\n",
       "      <td>72345</td>\n",
       "    </tr>\n",
       "    <tr>\n",
       "      <th>烤箱</th>\n",
       "      <td>92592</td>\n",
       "    </tr>\n",
       "    <tr>\n",
       "      <th>干果机</th>\n",
       "      <td>132172</td>\n",
       "    </tr>\n",
       "    <tr>\n",
       "      <th>炸锅配件</th>\n",
       "      <td>137110</td>\n",
       "    </tr>\n",
       "    <tr>\n",
       "      <th>水壶</th>\n",
       "      <td>310530</td>\n",
       "    </tr>\n",
       "    <tr>\n",
       "      <th>炸锅</th>\n",
       "      <td>1090362</td>\n",
       "    </tr>\n",
       "  </tbody>\n",
       "</table>\n",
       "</div>"
      ],
      "text/plain": [
       "          ordered_units\n",
       "category               \n",
       "磨豆机                  97\n",
       "面包机                 427\n",
       "烤箱配件               2802\n",
       "搅拌机               11670\n",
       "干果机配件             26083\n",
       "咖啡                72345\n",
       "烤箱                92592\n",
       "干果机              132172\n",
       "炸锅配件             137110\n",
       "水壶               310530\n",
       "炸锅              1090362"
      ]
     },
     "execution_count": 192,
     "metadata": {},
     "output_type": "execute_result"
    }
   ],
   "source": [
    "cats1.groupby('category').sum().sort_values('ordered_units')"
   ]
  },
  {
   "cell_type": "markdown",
   "id": "da94feb5-652e-4fa4-9235-121fb7c4dabe",
   "metadata": {},
   "source": [
    "从表格中分析出炸锅最好卖，某些产品的销量非常不好，继续进行分析，看是否是销量不好还是数据太少"
   ]
  },
  {
   "cell_type": "code",
   "execution_count": 210,
   "id": "c49e8f1a-d239-4899-a62c-0ec54daa11d4",
   "metadata": {
    "collapsed": true,
    "jupyter": {
     "outputs_hidden": true
    },
    "tags": []
   },
   "outputs": [
    {
     "data": {
      "text/html": [
       "<div>\n",
       "<style scoped>\n",
       "    .dataframe tbody tr th:only-of-type {\n",
       "        vertical-align: middle;\n",
       "    }\n",
       "\n",
       "    .dataframe tbody tr th {\n",
       "        vertical-align: top;\n",
       "    }\n",
       "\n",
       "    .dataframe thead th {\n",
       "        text-align: right;\n",
       "    }\n",
       "</style>\n",
       "<table border=\"1\" class=\"dataframe\">\n",
       "  <thead>\n",
       "    <tr style=\"text-align: right;\">\n",
       "      <th></th>\n",
       "      <th></th>\n",
       "      <th></th>\n",
       "      <th>ordered_units</th>\n",
       "    </tr>\n",
       "    <tr>\n",
       "      <th>category</th>\n",
       "      <th>asin</th>\n",
       "      <th>data_date</th>\n",
       "      <th></th>\n",
       "    </tr>\n",
       "  </thead>\n",
       "  <tbody>\n",
       "    <tr>\n",
       "      <th rowspan=\"51\" valign=\"top\">磨豆机</th>\n",
       "      <th rowspan=\"38\" valign=\"top\">B0999CJBD9</th>\n",
       "      <th>2021-07-16</th>\n",
       "      <td>1</td>\n",
       "    </tr>\n",
       "    <tr>\n",
       "      <th>2021-07-17</th>\n",
       "      <td>1</td>\n",
       "    </tr>\n",
       "    <tr>\n",
       "      <th>2021-07-18</th>\n",
       "      <td>2</td>\n",
       "    </tr>\n",
       "    <tr>\n",
       "      <th>2021-07-19</th>\n",
       "      <td>1</td>\n",
       "    </tr>\n",
       "    <tr>\n",
       "      <th>2021-07-20</th>\n",
       "      <td>0</td>\n",
       "    </tr>\n",
       "    <tr>\n",
       "      <th>2021-07-21</th>\n",
       "      <td>0</td>\n",
       "    </tr>\n",
       "    <tr>\n",
       "      <th>2021-07-22</th>\n",
       "      <td>0</td>\n",
       "    </tr>\n",
       "    <tr>\n",
       "      <th>2021-07-23</th>\n",
       "      <td>0</td>\n",
       "    </tr>\n",
       "    <tr>\n",
       "      <th>2021-07-24</th>\n",
       "      <td>0</td>\n",
       "    </tr>\n",
       "    <tr>\n",
       "      <th>2021-07-25</th>\n",
       "      <td>1</td>\n",
       "    </tr>\n",
       "    <tr>\n",
       "      <th>2021-07-26</th>\n",
       "      <td>0</td>\n",
       "    </tr>\n",
       "    <tr>\n",
       "      <th>2021-07-27</th>\n",
       "      <td>0</td>\n",
       "    </tr>\n",
       "    <tr>\n",
       "      <th>2021-07-28</th>\n",
       "      <td>1</td>\n",
       "    </tr>\n",
       "    <tr>\n",
       "      <th>2021-07-29</th>\n",
       "      <td>4</td>\n",
       "    </tr>\n",
       "    <tr>\n",
       "      <th>2021-07-30</th>\n",
       "      <td>2</td>\n",
       "    </tr>\n",
       "    <tr>\n",
       "      <th>2021-07-31</th>\n",
       "      <td>0</td>\n",
       "    </tr>\n",
       "    <tr>\n",
       "      <th>2021-08-01</th>\n",
       "      <td>2</td>\n",
       "    </tr>\n",
       "    <tr>\n",
       "      <th>2021-08-02</th>\n",
       "      <td>3</td>\n",
       "    </tr>\n",
       "    <tr>\n",
       "      <th>2021-08-03</th>\n",
       "      <td>5</td>\n",
       "    </tr>\n",
       "    <tr>\n",
       "      <th>2021-08-04</th>\n",
       "      <td>2</td>\n",
       "    </tr>\n",
       "    <tr>\n",
       "      <th>2021-08-05</th>\n",
       "      <td>5</td>\n",
       "    </tr>\n",
       "    <tr>\n",
       "      <th>2021-08-06</th>\n",
       "      <td>4</td>\n",
       "    </tr>\n",
       "    <tr>\n",
       "      <th>2021-08-07</th>\n",
       "      <td>2</td>\n",
       "    </tr>\n",
       "    <tr>\n",
       "      <th>2021-08-08</th>\n",
       "      <td>6</td>\n",
       "    </tr>\n",
       "    <tr>\n",
       "      <th>2021-08-09</th>\n",
       "      <td>4</td>\n",
       "    </tr>\n",
       "    <tr>\n",
       "      <th>2021-08-10</th>\n",
       "      <td>2</td>\n",
       "    </tr>\n",
       "    <tr>\n",
       "      <th>2021-08-11</th>\n",
       "      <td>4</td>\n",
       "    </tr>\n",
       "    <tr>\n",
       "      <th>2021-08-12</th>\n",
       "      <td>3</td>\n",
       "    </tr>\n",
       "    <tr>\n",
       "      <th>2021-08-13</th>\n",
       "      <td>1</td>\n",
       "    </tr>\n",
       "    <tr>\n",
       "      <th>2021-08-14</th>\n",
       "      <td>4</td>\n",
       "    </tr>\n",
       "    <tr>\n",
       "      <th>2021-08-15</th>\n",
       "      <td>1</td>\n",
       "    </tr>\n",
       "    <tr>\n",
       "      <th>2021-08-16</th>\n",
       "      <td>4</td>\n",
       "    </tr>\n",
       "    <tr>\n",
       "      <th>2021-08-17</th>\n",
       "      <td>2</td>\n",
       "    </tr>\n",
       "    <tr>\n",
       "      <th>2021-08-18</th>\n",
       "      <td>6</td>\n",
       "    </tr>\n",
       "    <tr>\n",
       "      <th>2021-08-19</th>\n",
       "      <td>0</td>\n",
       "    </tr>\n",
       "    <tr>\n",
       "      <th>2021-08-20</th>\n",
       "      <td>4</td>\n",
       "    </tr>\n",
       "    <tr>\n",
       "      <th>2021-08-21</th>\n",
       "      <td>6</td>\n",
       "    </tr>\n",
       "    <tr>\n",
       "      <th>2021-08-22</th>\n",
       "      <td>2</td>\n",
       "    </tr>\n",
       "    <tr>\n",
       "      <th rowspan=\"13\" valign=\"top\">B09BB74CLW</th>\n",
       "      <th>2021-08-10</th>\n",
       "      <td>1</td>\n",
       "    </tr>\n",
       "    <tr>\n",
       "      <th>2021-08-11</th>\n",
       "      <td>0</td>\n",
       "    </tr>\n",
       "    <tr>\n",
       "      <th>2021-08-12</th>\n",
       "      <td>1</td>\n",
       "    </tr>\n",
       "    <tr>\n",
       "      <th>2021-08-13</th>\n",
       "      <td>2</td>\n",
       "    </tr>\n",
       "    <tr>\n",
       "      <th>2021-08-14</th>\n",
       "      <td>2</td>\n",
       "    </tr>\n",
       "    <tr>\n",
       "      <th>2021-08-15</th>\n",
       "      <td>0</td>\n",
       "    </tr>\n",
       "    <tr>\n",
       "      <th>2021-08-16</th>\n",
       "      <td>1</td>\n",
       "    </tr>\n",
       "    <tr>\n",
       "      <th>2021-08-17</th>\n",
       "      <td>0</td>\n",
       "    </tr>\n",
       "    <tr>\n",
       "      <th>2021-08-18</th>\n",
       "      <td>2</td>\n",
       "    </tr>\n",
       "    <tr>\n",
       "      <th>2021-08-19</th>\n",
       "      <td>1</td>\n",
       "    </tr>\n",
       "    <tr>\n",
       "      <th>2021-08-20</th>\n",
       "      <td>2</td>\n",
       "    </tr>\n",
       "    <tr>\n",
       "      <th>2021-08-21</th>\n",
       "      <td>0</td>\n",
       "    </tr>\n",
       "    <tr>\n",
       "      <th>2021-08-22</th>\n",
       "      <td>0</td>\n",
       "    </tr>\n",
       "  </tbody>\n",
       "</table>\n",
       "</div>"
      ],
      "text/plain": [
       "                                ordered_units\n",
       "category asin       data_date                \n",
       "磨豆机      B0999CJBD9 2021-07-16              1\n",
       "                    2021-07-17              1\n",
       "                    2021-07-18              2\n",
       "                    2021-07-19              1\n",
       "                    2021-07-20              0\n",
       "                    2021-07-21              0\n",
       "                    2021-07-22              0\n",
       "                    2021-07-23              0\n",
       "                    2021-07-24              0\n",
       "                    2021-07-25              1\n",
       "                    2021-07-26              0\n",
       "                    2021-07-27              0\n",
       "                    2021-07-28              1\n",
       "                    2021-07-29              4\n",
       "                    2021-07-30              2\n",
       "                    2021-07-31              0\n",
       "                    2021-08-01              2\n",
       "                    2021-08-02              3\n",
       "                    2021-08-03              5\n",
       "                    2021-08-04              2\n",
       "                    2021-08-05              5\n",
       "                    2021-08-06              4\n",
       "                    2021-08-07              2\n",
       "                    2021-08-08              6\n",
       "                    2021-08-09              4\n",
       "                    2021-08-10              2\n",
       "                    2021-08-11              4\n",
       "                    2021-08-12              3\n",
       "                    2021-08-13              1\n",
       "                    2021-08-14              4\n",
       "                    2021-08-15              1\n",
       "                    2021-08-16              4\n",
       "                    2021-08-17              2\n",
       "                    2021-08-18              6\n",
       "                    2021-08-19              0\n",
       "                    2021-08-20              4\n",
       "                    2021-08-21              6\n",
       "                    2021-08-22              2\n",
       "         B09BB74CLW 2021-08-10              1\n",
       "                    2021-08-11              0\n",
       "                    2021-08-12              1\n",
       "                    2021-08-13              2\n",
       "                    2021-08-14              2\n",
       "                    2021-08-15              0\n",
       "                    2021-08-16              1\n",
       "                    2021-08-17              0\n",
       "                    2021-08-18              2\n",
       "                    2021-08-19              1\n",
       "                    2021-08-20              2\n",
       "                    2021-08-21              0\n",
       "                    2021-08-22              0"
      ]
     },
     "execution_count": 210,
     "metadata": {},
     "output_type": "execute_result"
    }
   ],
   "source": [
    "cats1[cats1['category']== '磨豆机'].groupby(['category', 'asin', 'data_date']).sum()"
   ]
  },
  {
   "cell_type": "markdown",
   "id": "5907b605-b6be-4cf1-b6a3-b2b662466c4d",
   "metadata": {},
   "source": [
    "经过分析得出，磨豆机的销量少是因为上线时间离现在太近，数据量不多"
   ]
  },
  {
   "cell_type": "markdown",
   "id": "01c84e0f-b536-4ae5-8470-ed686eb17896",
   "metadata": {},
   "source": [
    "## asin"
   ]
  },
  {
   "cell_type": "code",
   "execution_count": 23,
   "id": "8a2460ee-7973-47d9-843a-9c2669af774f",
   "metadata": {},
   "outputs": [
    {
     "data": {
      "image/png": "[encoded data removed]",
      "text/plain": [
       "<Figure size 1080x360 with 1 Axes>"
      ]
     },
     "metadata": {
      "needs_background": "light"
     },
     "output_type": "display_data"
    }
   ],
   "source": [
    "barplot('asin', 'ordered_units', cats1)"
   ]
  },
  {
   "cell_type": "code",
   "execution_count": 198,
   "id": "c2e04b50-550a-418f-a9f7-48e03fe203f5",
   "metadata": {
    "collapsed": true,
    "jupyter": {
     "outputs_hidden": true
    },
    "tags": []
   },
   "outputs": [
    {
     "data": {
      "text/html": [
       "<div>\n",
       "<style scoped>\n",
       "    .dataframe tbody tr th:only-of-type {\n",
       "        vertical-align: middle;\n",
       "    }\n",
       "\n",
       "    .dataframe tbody tr th {\n",
       "        vertical-align: top;\n",
       "    }\n",
       "\n",
       "    .dataframe thead th {\n",
       "        text-align: right;\n",
       "    }\n",
       "</style>\n",
       "<table border=\"1\" class=\"dataframe\">\n",
       "  <thead>\n",
       "    <tr style=\"text-align: right;\">\n",
       "      <th></th>\n",
       "      <th></th>\n",
       "      <th>ordered_units</th>\n",
       "    </tr>\n",
       "    <tr>\n",
       "      <th>category</th>\n",
       "      <th>asin</th>\n",
       "      <th></th>\n",
       "    </tr>\n",
       "  </thead>\n",
       "  <tbody>\n",
       "    <tr>\n",
       "      <th rowspan=\"2\" valign=\"top\">炸锅</th>\n",
       "      <th>B07GJBBGHG</th>\n",
       "      <td>565112</td>\n",
       "    </tr>\n",
       "    <tr>\n",
       "      <th>B07VLKMMJ5</th>\n",
       "      <td>225923</td>\n",
       "    </tr>\n",
       "    <tr>\n",
       "      <th>水壶</th>\n",
       "      <th>B07FKN76ZS</th>\n",
       "      <td>133772</td>\n",
       "    </tr>\n",
       "    <tr>\n",
       "      <th>炸锅配件</th>\n",
       "      <th>B07QHSZGXC</th>\n",
       "      <td>107044</td>\n",
       "    </tr>\n",
       "    <tr>\n",
       "      <th>干果机</th>\n",
       "      <th>B07PY5M579</th>\n",
       "      <td>85859</td>\n",
       "    </tr>\n",
       "    <tr>\n",
       "      <th>水壶</th>\n",
       "      <th>B07T1CH2HH</th>\n",
       "      <td>73052</td>\n",
       "    </tr>\n",
       "    <tr>\n",
       "      <th>烤箱</th>\n",
       "      <th>B07W67NQMN</th>\n",
       "      <td>54061</td>\n",
       "    </tr>\n",
       "    <tr>\n",
       "      <th rowspan=\"3\" valign=\"top\">炸锅</th>\n",
       "      <th>B07T2LCKNF</th>\n",
       "      <td>53771</td>\n",
       "    </tr>\n",
       "    <tr>\n",
       "      <th>B085W3GN5J</th>\n",
       "      <td>49748</td>\n",
       "    </tr>\n",
       "    <tr>\n",
       "      <th>B07GJJ71XS</th>\n",
       "      <td>48931</td>\n",
       "    </tr>\n",
       "    <tr>\n",
       "      <th>干果机</th>\n",
       "      <th>B07MPC7C8G</th>\n",
       "      <td>41012</td>\n",
       "    </tr>\n",
       "    <tr>\n",
       "      <th rowspan=\"3\" valign=\"top\">炸锅</th>\n",
       "      <th>B07NL1L4SL</th>\n",
       "      <td>39571</td>\n",
       "    </tr>\n",
       "    <tr>\n",
       "      <th>B07T2LGN8P</th>\n",
       "      <td>35414</td>\n",
       "    </tr>\n",
       "    <tr>\n",
       "      <th>B07WBSVH33</th>\n",
       "      <td>29346</td>\n",
       "    </tr>\n",
       "    <tr>\n",
       "      <th rowspan=\"2\" valign=\"top\">咖啡</th>\n",
       "      <th>B089SGRVBJ</th>\n",
       "      <td>27186</td>\n",
       "    </tr>\n",
       "    <tr>\n",
       "      <th>B0821DTMGT</th>\n",
       "      <td>26619</td>\n",
       "    </tr>\n",
       "    <tr>\n",
       "      <th>水壶</th>\n",
       "      <th>B08PP48979</th>\n",
       "      <td>25266</td>\n",
       "    </tr>\n",
       "    <tr>\n",
       "      <th>咖啡</th>\n",
       "      <th>B074NYJL9J</th>\n",
       "      <td>18540</td>\n",
       "    </tr>\n",
       "    <tr>\n",
       "      <th>炸锅配件</th>\n",
       "      <th>B07QDSNFS2</th>\n",
       "      <td>18376</td>\n",
       "    </tr>\n",
       "    <tr>\n",
       "      <th rowspan=\"2\" valign=\"top\">水壶</th>\n",
       "      <th>B07VXVFKWV</th>\n",
       "      <td>16760</td>\n",
       "    </tr>\n",
       "    <tr>\n",
       "      <th>B07FP5PHG4</th>\n",
       "      <td>14736</td>\n",
       "    </tr>\n",
       "    <tr>\n",
       "      <th>烤箱</th>\n",
       "      <th>B0895GS9NW</th>\n",
       "      <td>13830</td>\n",
       "    </tr>\n",
       "    <tr>\n",
       "      <th>水壶</th>\n",
       "      <th>B083JBM9CZ</th>\n",
       "      <td>13760</td>\n",
       "    </tr>\n",
       "    <tr>\n",
       "      <th>干果机配件</th>\n",
       "      <th>B07X2JP8HP</th>\n",
       "      <td>10894</td>\n",
       "    </tr>\n",
       "    <tr>\n",
       "      <th>烤箱</th>\n",
       "      <th>B08K8T3W2V</th>\n",
       "      <td>10842</td>\n",
       "    </tr>\n",
       "    <tr>\n",
       "      <th>炸锅配件</th>\n",
       "      <th>B07LCW5S2H</th>\n",
       "      <td>10568</td>\n",
       "    </tr>\n",
       "    <tr>\n",
       "      <th>水壶</th>\n",
       "      <th>B081LQMXKP</th>\n",
       "      <td>9743</td>\n",
       "    </tr>\n",
       "    <tr>\n",
       "      <th>干果机配件</th>\n",
       "      <th>B07WYYRZK7</th>\n",
       "      <td>9139</td>\n",
       "    </tr>\n",
       "    <tr>\n",
       "      <th>炸锅</th>\n",
       "      <th>B07YBB5SKG</th>\n",
       "      <td>8138</td>\n",
       "    </tr>\n",
       "    <tr>\n",
       "      <th>烤箱</th>\n",
       "      <th>B0895G46CG</th>\n",
       "      <td>8032</td>\n",
       "    </tr>\n",
       "    <tr>\n",
       "      <th>炸锅</th>\n",
       "      <th>B089ZT66H9</th>\n",
       "      <td>7571</td>\n",
       "    </tr>\n",
       "    <tr>\n",
       "      <th>搅拌机</th>\n",
       "      <th>B07T1BCN91</th>\n",
       "      <td>7510</td>\n",
       "    </tr>\n",
       "    <tr>\n",
       "      <th rowspan=\"2\" valign=\"top\">水壶</th>\n",
       "      <th>B08BFS92RP</th>\n",
       "      <td>6401</td>\n",
       "    </tr>\n",
       "    <tr>\n",
       "      <th>B08BFMV68M</th>\n",
       "      <td>6170</td>\n",
       "    </tr>\n",
       "    <tr>\n",
       "      <th rowspan=\"2\" valign=\"top\">炸锅</th>\n",
       "      <th>B07SKJV5KV</th>\n",
       "      <td>6169</td>\n",
       "    </tr>\n",
       "    <tr>\n",
       "      <th>B08L39951F</th>\n",
       "      <td>5719</td>\n",
       "    </tr>\n",
       "    <tr>\n",
       "      <th>水壶</th>\n",
       "      <th>B07VXQMR7G</th>\n",
       "      <td>5591</td>\n",
       "    </tr>\n",
       "    <tr>\n",
       "      <th>干果机</th>\n",
       "      <th>B08GBY2BK8</th>\n",
       "      <td>5301</td>\n",
       "    </tr>\n",
       "    <tr>\n",
       "      <th>水壶</th>\n",
       "      <th>B07W8MGPJX</th>\n",
       "      <td>5279</td>\n",
       "    </tr>\n",
       "    <tr>\n",
       "      <th rowspan=\"3\" valign=\"top\">炸锅</th>\n",
       "      <th>B07XS37FPV</th>\n",
       "      <td>5108</td>\n",
       "    </tr>\n",
       "    <tr>\n",
       "      <th>B07T4HX1LH</th>\n",
       "      <td>4978</td>\n",
       "    </tr>\n",
       "    <tr>\n",
       "      <th>B081NLFM91</th>\n",
       "      <td>4863</td>\n",
       "    </tr>\n",
       "    <tr>\n",
       "      <th>烤箱</th>\n",
       "      <th>B07YL6QWLK</th>\n",
       "      <td>3907</td>\n",
       "    </tr>\n",
       "    <tr>\n",
       "      <th rowspan=\"2\" valign=\"top\">干果机配件</th>\n",
       "      <th>B07X3JDVHK</th>\n",
       "      <td>3290</td>\n",
       "    </tr>\n",
       "    <tr>\n",
       "      <th>B07WZF33ZT</th>\n",
       "      <td>2760</td>\n",
       "    </tr>\n",
       "    <tr>\n",
       "      <th>搅拌机</th>\n",
       "      <th>B076DZJSHL</th>\n",
       "      <td>1760</td>\n",
       "    </tr>\n",
       "    <tr>\n",
       "      <th>烤箱</th>\n",
       "      <th>B08L3L4ZZX</th>\n",
       "      <td>1391</td>\n",
       "    </tr>\n",
       "    <tr>\n",
       "      <th>烤箱配件</th>\n",
       "      <th>B08NSVZY1K</th>\n",
       "      <td>1220</td>\n",
       "    </tr>\n",
       "    <tr>\n",
       "      <th>搅拌机</th>\n",
       "      <th>B07RWPQ9TM</th>\n",
       "      <td>1208</td>\n",
       "    </tr>\n",
       "    <tr>\n",
       "      <th>炸锅配件</th>\n",
       "      <th>B07QDSHKV1</th>\n",
       "      <td>953</td>\n",
       "    </tr>\n",
       "    <tr>\n",
       "      <th>搅拌机</th>\n",
       "      <th>B071D7BTTW</th>\n",
       "      <td>640</td>\n",
       "    </tr>\n",
       "    <tr>\n",
       "      <th rowspan=\"2\" valign=\"top\">烤箱配件</th>\n",
       "      <th>B08QM92YBH</th>\n",
       "      <td>581</td>\n",
       "    </tr>\n",
       "    <tr>\n",
       "      <th>B095346VH6</th>\n",
       "      <td>572</td>\n",
       "    </tr>\n",
       "    <tr>\n",
       "      <th>搅拌机</th>\n",
       "      <th>B07VNPQ2NF</th>\n",
       "      <td>552</td>\n",
       "    </tr>\n",
       "    <tr>\n",
       "      <th>烤箱</th>\n",
       "      <th>B08FX4BR51</th>\n",
       "      <td>529</td>\n",
       "    </tr>\n",
       "    <tr>\n",
       "      <th>面包机</th>\n",
       "      <th>B08LYY2HHJ</th>\n",
       "      <td>421</td>\n",
       "    </tr>\n",
       "    <tr>\n",
       "      <th rowspan=\"2\" valign=\"top\">烤箱配件</th>\n",
       "      <th>B08THPNHJK</th>\n",
       "      <td>224</td>\n",
       "    </tr>\n",
       "    <tr>\n",
       "      <th>B08PC1WNNX</th>\n",
       "      <td>205</td>\n",
       "    </tr>\n",
       "    <tr>\n",
       "      <th>炸锅配件</th>\n",
       "      <th>B08YDQSG55</th>\n",
       "      <td>169</td>\n",
       "    </tr>\n",
       "    <tr>\n",
       "      <th rowspan=\"2\" valign=\"top\">磨豆机</th>\n",
       "      <th>B0999CJBD9</th>\n",
       "      <td>85</td>\n",
       "    </tr>\n",
       "    <tr>\n",
       "      <th>B09BB74CLW</th>\n",
       "      <td>12</td>\n",
       "    </tr>\n",
       "    <tr>\n",
       "      <th>面包机</th>\n",
       "      <th>B097HG13D1</th>\n",
       "      <td>6</td>\n",
       "    </tr>\n",
       "    <tr>\n",
       "      <th>咖啡</th>\n",
       "      <th>B07G9J4745</th>\n",
       "      <td>0</td>\n",
       "    </tr>\n",
       "  </tbody>\n",
       "</table>\n",
       "</div>"
      ],
      "text/plain": [
       "                     ordered_units\n",
       "category asin                     \n",
       "炸锅       B07GJBBGHG         565112\n",
       "         B07VLKMMJ5         225923\n",
       "水壶       B07FKN76ZS         133772\n",
       "炸锅配件     B07QHSZGXC         107044\n",
       "干果机      B07PY5M579          85859\n",
       "水壶       B07T1CH2HH          73052\n",
       "烤箱       B07W67NQMN          54061\n",
       "炸锅       B07T2LCKNF          53771\n",
       "         B085W3GN5J          49748\n",
       "         B07GJJ71XS          48931\n",
       "干果机      B07MPC7C8G          41012\n",
       "炸锅       B07NL1L4SL          39571\n",
       "         B07T2LGN8P          35414\n",
       "         B07WBSVH33          29346\n",
       "咖啡       B089SGRVBJ          27186\n",
       "         B0821DTMGT          26619\n",
       "水壶       B08PP48979          25266\n",
       "咖啡       B074NYJL9J          18540\n",
       "炸锅配件     B07QDSNFS2          18376\n",
       "水壶       B07VXVFKWV          16760\n",
       "         B07FP5PHG4          14736\n",
       "烤箱       B0895GS9NW          13830\n",
       "水壶       B083JBM9CZ          13760\n",
       "干果机配件    B07X2JP8HP          10894\n",
       "烤箱       B08K8T3W2V          10842\n",
       "炸锅配件     B07LCW5S2H          10568\n",
       "水壶       B081LQMXKP           9743\n",
       "干果机配件    B07WYYRZK7           9139\n",
       "炸锅       B07YBB5SKG           8138\n",
       "烤箱       B0895G46CG           8032\n",
       "炸锅       B089ZT66H9           7571\n",
       "搅拌机      B07T1BCN91           7510\n",
       "水壶       B08BFS92RP           6401\n",
       "         B08BFMV68M           6170\n",
       "炸锅       B07SKJV5KV           6169\n",
       "         B08L39951F           5719\n",
       "水壶       B07VXQMR7G           5591\n",
       "干果机      B08GBY2BK8           5301\n",
       "水壶       B07W8MGPJX           5279\n",
       "炸锅       B07XS37FPV           5108\n",
       "         B07T4HX1LH           4978\n",
       "         B081NLFM91           4863\n",
       "烤箱       B07YL6QWLK           3907\n",
       "干果机配件    B07X3JDVHK           3290\n",
       "         B07WZF33ZT           2760\n",
       "搅拌机      B076DZJSHL           1760\n",
       "烤箱       B08L3L4ZZX           1391\n",
       "烤箱配件     B08NSVZY1K           1220\n",
       "搅拌机      B07RWPQ9TM           1208\n",
       "炸锅配件     B07QDSHKV1            953\n",
       "搅拌机      B071D7BTTW            640\n",
       "烤箱配件     B08QM92YBH            581\n",
       "         B095346VH6            572\n",
       "搅拌机      B07VNPQ2NF            552\n",
       "烤箱       B08FX4BR51            529\n",
       "面包机      B08LYY2HHJ            421\n",
       "烤箱配件     B08THPNHJK            224\n",
       "         B08PC1WNNX            205\n",
       "炸锅配件     B08YDQSG55            169\n",
       "磨豆机      B0999CJBD9             85\n",
       "         B09BB74CLW             12\n",
       "面包机      B097HG13D1              6\n",
       "咖啡       B07G9J4745              0"
      ]
     },
     "execution_count": 198,
     "metadata": {},
     "output_type": "execute_result"
    }
   ],
   "source": [
    "cats1.groupby(['category', 'asin']).sum().sort_values('ordered_units', ascending=False)"
   ]
  },
  {
   "cell_type": "code",
   "execution_count": 213,
   "id": "431bae12-9693-4539-a29d-bd490759898f",
   "metadata": {
    "collapsed": true,
    "jupyter": {
     "outputs_hidden": true
    },
    "tags": []
   },
   "outputs": [
    {
     "data": {
      "text/html": [
       "<div>\n",
       "<style scoped>\n",
       "    .dataframe tbody tr th:only-of-type {\n",
       "        vertical-align: middle;\n",
       "    }\n",
       "\n",
       "    .dataframe tbody tr th {\n",
       "        vertical-align: top;\n",
       "    }\n",
       "\n",
       "    .dataframe thead th {\n",
       "        text-align: right;\n",
       "    }\n",
       "</style>\n",
       "<table border=\"1\" class=\"dataframe\">\n",
       "  <thead>\n",
       "    <tr style=\"text-align: right;\">\n",
       "      <th></th>\n",
       "      <th>asin</th>\n",
       "      <th>data_date</th>\n",
       "      <th>ordered_units</th>\n",
       "      <th>category</th>\n",
       "    </tr>\n",
       "  </thead>\n",
       "  <tbody>\n",
       "    <tr>\n",
       "      <th>3114</th>\n",
       "      <td>B07G9J4745</td>\n",
       "      <td>2019-12-27</td>\n",
       "      <td>0</td>\n",
       "      <td>咖啡</td>\n",
       "    </tr>\n",
       "    <tr>\n",
       "      <th>3115</th>\n",
       "      <td>B07G9J4745</td>\n",
       "      <td>2019-12-28</td>\n",
       "      <td>0</td>\n",
       "      <td>咖啡</td>\n",
       "    </tr>\n",
       "    <tr>\n",
       "      <th>3116</th>\n",
       "      <td>B07G9J4745</td>\n",
       "      <td>2019-12-29</td>\n",
       "      <td>0</td>\n",
       "      <td>咖啡</td>\n",
       "    </tr>\n",
       "  </tbody>\n",
       "</table>\n",
       "</div>"
      ],
      "text/plain": [
       "            asin  data_date  ordered_units category\n",
       "3114  B07G9J4745 2019-12-27              0       咖啡\n",
       "3115  B07G9J4745 2019-12-28              0       咖啡\n",
       "3116  B07G9J4745 2019-12-29              0       咖啡"
      ]
     },
     "execution_count": 213,
     "metadata": {},
     "output_type": "execute_result"
    }
   ],
   "source": [
    "cats1[cats1['asin'] == 'B07G9J4745']"
   ]
  },
  {
   "cell_type": "markdown",
   "id": "d20a4f10-426b-4080-8370-b6c6b55b57a3",
   "metadata": {},
   "source": [
    "可以从图中看出两款炸锅销量非常高，有销量为0的产品不参与建模"
   ]
  },
  {
   "cell_type": "code",
   "execution_count": null,
   "id": "ce17b96d-fc34-4aab-8a11-6088d70d8d3a",
   "metadata": {},
   "outputs": [],
   "source": []
  },
  {
   "cell_type": "markdown",
   "id": "b6f8616d-c4ed-45c2-ade3-c8147bbc9e09",
   "metadata": {},
   "source": [
    "## 数据预处理"
   ]
  },
  {
   "cell_type": "code",
   "execution_count": null,
   "id": "c0afff07-277a-4dad-a31d-d68a95038a15",
   "metadata": {},
   "outputs": [
    {
     "data": {
      "text/plain": [
       "(9, 3)"
      ]
     },
     "execution_count": 45,
     "metadata": {},
     "output_type": "execute_result"
    }
   ],
   "source": [
    "group[group.ordered_units > 5500].shape"
   ]
  },
  {
   "cell_type": "code",
   "execution_count": null,
   "id": "b7ca501f-3570-40b6-89e9-aa4507fa511e",
   "metadata": {},
   "outputs": [],
   "source": [
    "group.drop(group[group.ordered_units > 5500].index, inplace=True)"
   ]
  },
  {
   "cell_type": "code",
   "execution_count": 258,
   "id": "fa6c6656-0708-4108-85dc-ea0154dd0a41",
   "metadata": {},
   "outputs": [],
   "source": [
    "o = OrdinalEncoder()"
   ]
  },
  {
   "cell_type": "code",
   "execution_count": 262,
   "id": "3db2fcde-9b4a-4f3b-8c48-aa70dadd3d18",
   "metadata": {},
   "outputs": [
    {
     "data": {
      "text/plain": [
       "(28840, 1)"
      ]
     },
     "execution_count": 262,
     "metadata": {},
     "output_type": "execute_result"
    }
   ],
   "source": [
    "o.fit_transform(cats1.category.values.reshape(-1, 1)).shape"
   ]
  },
  {
   "cell_type": "markdown",
   "id": "0cc4341f-a068-4435-a3f0-d1e3c5e9feb1",
   "metadata": {},
   "source": [
    "删除掉销量小于0的数据"
   ]
  },
  {
   "cell_type": "code",
   "execution_count": 39,
   "id": "79d11286-285c-4da7-afb4-30e44b4a23be",
   "metadata": {
    "tags": []
   },
   "outputs": [
    {
     "data": {
      "text/html": [
       "<div>\n",
       "<style scoped>\n",
       "    .dataframe tbody tr th:only-of-type {\n",
       "        vertical-align: middle;\n",
       "    }\n",
       "\n",
       "    .dataframe tbody tr th {\n",
       "        vertical-align: top;\n",
       "    }\n",
       "\n",
       "    .dataframe thead th {\n",
       "        text-align: right;\n",
       "    }\n",
       "</style>\n",
       "<table border=\"1\" class=\"dataframe\">\n",
       "  <thead>\n",
       "    <tr style=\"text-align: right;\">\n",
       "      <th></th>\n",
       "      <th>asin</th>\n",
       "      <th>data_date</th>\n",
       "      <th>ordered_units</th>\n",
       "    </tr>\n",
       "  </thead>\n",
       "  <tbody>\n",
       "  </tbody>\n",
       "</table>\n",
       "</div>"
      ],
      "text/plain": [
       "Empty DataFrame\n",
       "Columns: [asin, data_date, ordered_units]\n",
       "Index: []"
      ]
     },
     "execution_count": 39,
     "metadata": {},
     "output_type": "execute_result"
    }
   ],
   "source": [
    "group[group['ordered_units'] < 0]"
   ]
  },
  {
   "cell_type": "code",
   "execution_count": 38,
   "id": "ce4f877e-5425-41a2-ad18-ca07b150f610",
   "metadata": {},
   "outputs": [],
   "source": [
    "group.drop(group[group['ordered_units'] < 0].index, inplace=True)"
   ]
  },
  {
   "cell_type": "code",
   "execution_count": 48,
   "id": "47c4b346-ec5e-40e1-830f-3b4514f5790b",
   "metadata": {},
   "outputs": [
    {
     "data": {
      "text/plain": [
       "<AxesSubplot:xlabel='ordered_units'>"
      ]
     },
     "execution_count": 48,
     "metadata": {},
     "output_type": "execute_result"
    },
    {
     "data": {
      "image/png": "[encoded data removed]",
      "text/plain": [
       "<Figure size 432x288 with 1 Axes>"
      ]
     },
     "metadata": {
      "needs_background": "light"
     },
     "output_type": "display_data"
    }
   ],
   "source": [
    "sns.boxplot(group.ordered_units)"
   ]
  },
  {
   "cell_type": "code",
   "execution_count": 90,
   "id": "ee701035-ca75-40ed-b7c5-66171d30cc6d",
   "metadata": {},
   "outputs": [
    {
     "data": {
      "text/html": [
       "<div>\n",
       "<style scoped>\n",
       "    .dataframe tbody tr th:only-of-type {\n",
       "        vertical-align: middle;\n",
       "    }\n",
       "\n",
       "    .dataframe tbody tr th {\n",
       "        vertical-align: top;\n",
       "    }\n",
       "\n",
       "    .dataframe thead th {\n",
       "        text-align: right;\n",
       "    }\n",
       "</style>\n",
       "<table border=\"1\" class=\"dataframe\">\n",
       "  <thead>\n",
       "    <tr style=\"text-align: right;\">\n",
       "      <th></th>\n",
       "      <th>ordered_units</th>\n",
       "    </tr>\n",
       "    <tr>\n",
       "      <th>asin</th>\n",
       "      <th></th>\n",
       "    </tr>\n",
       "  </thead>\n",
       "  <tbody>\n",
       "    <tr>\n",
       "      <th>B07G9J4745</th>\n",
       "      <td>0</td>\n",
       "    </tr>\n",
       "    <tr>\n",
       "      <th>B097HG13D1</th>\n",
       "      <td>6</td>\n",
       "    </tr>\n",
       "    <tr>\n",
       "      <th>B09BB74CLW</th>\n",
       "      <td>12</td>\n",
       "    </tr>\n",
       "    <tr>\n",
       "      <th>B0999CJBD9</th>\n",
       "      <td>85</td>\n",
       "    </tr>\n",
       "    <tr>\n",
       "      <th>B08YDQSG55</th>\n",
       "      <td>171</td>\n",
       "    </tr>\n",
       "    <tr>\n",
       "      <th>...</th>\n",
       "      <td>...</td>\n",
       "    </tr>\n",
       "    <tr>\n",
       "      <th>B07PY5M579</th>\n",
       "      <td>85873</td>\n",
       "    </tr>\n",
       "    <tr>\n",
       "      <th>B07QHSZGXC</th>\n",
       "      <td>107045</td>\n",
       "    </tr>\n",
       "    <tr>\n",
       "      <th>B07FKN76ZS</th>\n",
       "      <td>133777</td>\n",
       "    </tr>\n",
       "    <tr>\n",
       "      <th>B07VLKMMJ5</th>\n",
       "      <td>171444</td>\n",
       "    </tr>\n",
       "    <tr>\n",
       "      <th>B07GJBBGHG</th>\n",
       "      <td>508923</td>\n",
       "    </tr>\n",
       "  </tbody>\n",
       "</table>\n",
       "<p>63 rows × 1 columns</p>\n",
       "</div>"
      ],
      "text/plain": [
       "            ordered_units\n",
       "asin                     \n",
       "B07G9J4745              0\n",
       "B097HG13D1              6\n",
       "B09BB74CLW             12\n",
       "B0999CJBD9             85\n",
       "B08YDQSG55            171\n",
       "...                   ...\n",
       "B07PY5M579          85873\n",
       "B07QHSZGXC         107045\n",
       "B07FKN76ZS         133777\n",
       "B07VLKMMJ5         171444\n",
       "B07GJBBGHG         508923\n",
       "\n",
       "[63 rows x 1 columns]"
      ]
     },
     "execution_count": 90,
     "metadata": {},
     "output_type": "execute_result"
    }
   ],
   "source": [
    "group.groupby('asin').sum().sort_values('ordered_units')"
   ]
  },
  {
   "cell_type": "markdown",
   "id": "c8583699-271c-460e-a4c7-78801c9abe6a",
   "metadata": {},
   "source": [
    "## 划分数据集\n",
    "\n",
    "选取最后一个月的数据作为测试集，其余的为训练集"
   ]
  },
  {
   "cell_type": "code",
   "execution_count": 33,
   "id": "2f4bc2ec-12d9-486d-8981-e9858751f810",
   "metadata": {},
   "outputs": [
    {
     "data": {
      "text/html": [
       "<div>\n",
       "<style scoped>\n",
       "    .dataframe tbody tr th:only-of-type {\n",
       "        vertical-align: middle;\n",
       "    }\n",
       "\n",
       "    .dataframe tbody tr th {\n",
       "        vertical-align: top;\n",
       "    }\n",
       "\n",
       "    .dataframe thead th {\n",
       "        text-align: right;\n",
       "    }\n",
       "</style>\n",
       "<table border=\"1\" class=\"dataframe\">\n",
       "  <thead>\n",
       "    <tr style=\"text-align: right;\">\n",
       "      <th></th>\n",
       "      <th>asin</th>\n",
       "      <th>data_date</th>\n",
       "      <th>ordered_units</th>\n",
       "    </tr>\n",
       "  </thead>\n",
       "  <tbody>\n",
       "    <tr>\n",
       "      <th>0</th>\n",
       "      <td>B071D7BTTW</td>\n",
       "      <td>2019-12-02</td>\n",
       "      <td>23</td>\n",
       "    </tr>\n",
       "    <tr>\n",
       "      <th>1</th>\n",
       "      <td>B071D7BTTW</td>\n",
       "      <td>2019-12-03</td>\n",
       "      <td>3</td>\n",
       "    </tr>\n",
       "  </tbody>\n",
       "</table>\n",
       "</div>"
      ],
      "text/plain": [
       "         asin  data_date  ordered_units\n",
       "0  B071D7BTTW 2019-12-02             23\n",
       "1  B071D7BTTW 2019-12-03              3"
      ]
     },
     "execution_count": 33,
     "metadata": {},
     "output_type": "execute_result"
    }
   ],
   "source": [
    "group.head(2)"
   ]
  },
  {
   "cell_type": "code",
   "execution_count": 34,
   "id": "fe82faaf-80fb-47f9-b34f-2686010ac34a",
   "metadata": {},
   "outputs": [],
   "source": [
    "train = group[(group['data_date'] >= '2019-12-02')\n",
    "              & (group['data_date'] <= '2021-07-22')].copy()"
   ]
  },
  {
   "cell_type": "code",
   "execution_count": 214,
   "id": "a63cca3c-01ad-4e0f-b996-d3c1f51a2855",
   "metadata": {},
   "outputs": [
    {
     "data": {
      "text/html": [
       "<div>\n",
       "<style scoped>\n",
       "    .dataframe tbody tr th:only-of-type {\n",
       "        vertical-align: middle;\n",
       "    }\n",
       "\n",
       "    .dataframe tbody tr th {\n",
       "        vertical-align: top;\n",
       "    }\n",
       "\n",
       "    .dataframe thead th {\n",
       "        text-align: right;\n",
       "    }\n",
       "</style>\n",
       "<table border=\"1\" class=\"dataframe\">\n",
       "  <thead>\n",
       "    <tr style=\"text-align: right;\">\n",
       "      <th></th>\n",
       "      <th>asin</th>\n",
       "      <th>ordered_units</th>\n",
       "      <th>year</th>\n",
       "      <th>month</th>\n",
       "      <th>day</th>\n",
       "    </tr>\n",
       "  </thead>\n",
       "  <tbody>\n",
       "    <tr>\n",
       "      <th>0</th>\n",
       "      <td>B071D7BTTW</td>\n",
       "      <td>23</td>\n",
       "      <td>2019</td>\n",
       "      <td>12</td>\n",
       "      <td>2</td>\n",
       "    </tr>\n",
       "    <tr>\n",
       "      <th>1</th>\n",
       "      <td>B071D7BTTW</td>\n",
       "      <td>3</td>\n",
       "      <td>2019</td>\n",
       "      <td>12</td>\n",
       "      <td>3</td>\n",
       "    </tr>\n",
       "    <tr>\n",
       "      <th>2</th>\n",
       "      <td>B071D7BTTW</td>\n",
       "      <td>3</td>\n",
       "      <td>2019</td>\n",
       "      <td>12</td>\n",
       "      <td>4</td>\n",
       "    </tr>\n",
       "    <tr>\n",
       "      <th>3</th>\n",
       "      <td>B071D7BTTW</td>\n",
       "      <td>4</td>\n",
       "      <td>2019</td>\n",
       "      <td>12</td>\n",
       "      <td>5</td>\n",
       "    </tr>\n",
       "    <tr>\n",
       "      <th>4</th>\n",
       "      <td>B071D7BTTW</td>\n",
       "      <td>8</td>\n",
       "      <td>2019</td>\n",
       "      <td>12</td>\n",
       "      <td>6</td>\n",
       "    </tr>\n",
       "    <tr>\n",
       "      <th>...</th>\n",
       "      <td>...</td>\n",
       "      <td>...</td>\n",
       "      <td>...</td>\n",
       "      <td>...</td>\n",
       "      <td>...</td>\n",
       "    </tr>\n",
       "    <tr>\n",
       "      <th>28852</th>\n",
       "      <td>B0999CJBD9</td>\n",
       "      <td>2</td>\n",
       "      <td>2021</td>\n",
       "      <td>7</td>\n",
       "      <td>18</td>\n",
       "    </tr>\n",
       "    <tr>\n",
       "      <th>28853</th>\n",
       "      <td>B0999CJBD9</td>\n",
       "      <td>1</td>\n",
       "      <td>2021</td>\n",
       "      <td>7</td>\n",
       "      <td>19</td>\n",
       "    </tr>\n",
       "    <tr>\n",
       "      <th>28854</th>\n",
       "      <td>B0999CJBD9</td>\n",
       "      <td>0</td>\n",
       "      <td>2021</td>\n",
       "      <td>7</td>\n",
       "      <td>20</td>\n",
       "    </tr>\n",
       "    <tr>\n",
       "      <th>28855</th>\n",
       "      <td>B0999CJBD9</td>\n",
       "      <td>0</td>\n",
       "      <td>2021</td>\n",
       "      <td>7</td>\n",
       "      <td>21</td>\n",
       "    </tr>\n",
       "    <tr>\n",
       "      <th>28856</th>\n",
       "      <td>B0999CJBD9</td>\n",
       "      <td>0</td>\n",
       "      <td>2021</td>\n",
       "      <td>7</td>\n",
       "      <td>22</td>\n",
       "    </tr>\n",
       "  </tbody>\n",
       "</table>\n",
       "<p>27039 rows × 5 columns</p>\n",
       "</div>"
      ],
      "text/plain": [
       "             asin  ordered_units  year  month  day\n",
       "0      B071D7BTTW             23  2019     12    2\n",
       "1      B071D7BTTW              3  2019     12    3\n",
       "2      B071D7BTTW              3  2019     12    4\n",
       "3      B071D7BTTW              4  2019     12    5\n",
       "4      B071D7BTTW              8  2019     12    6\n",
       "...           ...            ...   ...    ...  ...\n",
       "28852  B0999CJBD9              2  2021      7   18\n",
       "28853  B0999CJBD9              1  2021      7   19\n",
       "28854  B0999CJBD9              0  2021      7   20\n",
       "28855  B0999CJBD9              0  2021      7   21\n",
       "28856  B0999CJBD9              0  2021      7   22\n",
       "\n",
       "[27039 rows x 5 columns]"
      ]
     },
     "execution_count": 214,
     "metadata": {},
     "output_type": "execute_result"
    }
   ],
   "source": [
    "train = train.[asin == 'B07FKN76ZS' or asin == ''"
   ]
  },
  {
   "cell_type": "code",
   "execution_count": 35,
   "id": "6fdf5395-b819-4c17-8e38-cd07adafd740",
   "metadata": {},
   "outputs": [
    {
     "data": {
      "text/html": [
       "<div>\n",
       "<style scoped>\n",
       "    .dataframe tbody tr th:only-of-type {\n",
       "        vertical-align: middle;\n",
       "    }\n",
       "\n",
       "    .dataframe tbody tr th {\n",
       "        vertical-align: top;\n",
       "    }\n",
       "\n",
       "    .dataframe thead th {\n",
       "        text-align: right;\n",
       "    }\n",
       "</style>\n",
       "<table border=\"1\" class=\"dataframe\">\n",
       "  <thead>\n",
       "    <tr style=\"text-align: right;\">\n",
       "      <th></th>\n",
       "      <th>asin</th>\n",
       "      <th>data_date</th>\n",
       "      <th>ordered_units</th>\n",
       "    </tr>\n",
       "  </thead>\n",
       "  <tbody>\n",
       "    <tr>\n",
       "      <th>0</th>\n",
       "      <td>B071D7BTTW</td>\n",
       "      <td>2019-12-02</td>\n",
       "      <td>23</td>\n",
       "    </tr>\n",
       "    <tr>\n",
       "      <th>1</th>\n",
       "      <td>B071D7BTTW</td>\n",
       "      <td>2019-12-03</td>\n",
       "      <td>3</td>\n",
       "    </tr>\n",
       "    <tr>\n",
       "      <th>2</th>\n",
       "      <td>B071D7BTTW</td>\n",
       "      <td>2019-12-04</td>\n",
       "      <td>3</td>\n",
       "    </tr>\n",
       "  </tbody>\n",
       "</table>\n",
       "</div>"
      ],
      "text/plain": [
       "         asin  data_date  ordered_units\n",
       "0  B071D7BTTW 2019-12-02             23\n",
       "1  B071D7BTTW 2019-12-03              3\n",
       "2  B071D7BTTW 2019-12-04              3"
      ]
     },
     "execution_count": 35,
     "metadata": {},
     "output_type": "execute_result"
    }
   ],
   "source": [
    "train.head(3)"
   ]
  },
  {
   "cell_type": "code",
   "execution_count": 69,
   "id": "920cf2bc-adf7-40d5-b5d8-7e054099c057",
   "metadata": {},
   "outputs": [],
   "source": [
    "test = group[(group['data_date'] >= '2021-07-23')\n",
    "             & (group['data_date'] <= '2021-08-22')].copy()"
   ]
  },
  {
   "cell_type": "code",
   "execution_count": 70,
   "id": "7eac0b01-3623-4a43-a3d4-20051e74199c",
   "metadata": {},
   "outputs": [
    {
     "data": {
      "text/plain": [
       "(1862, 3)"
      ]
     },
     "execution_count": 70,
     "metadata": {},
     "output_type": "execute_result"
    }
   ],
   "source": [
    "test.shape"
   ]
  },
  {
   "cell_type": "markdown",
   "id": "1145eda8-a6d2-4b3a-98f0-4d48d9e15384",
   "metadata": {},
   "source": [
    "## 创造特征"
   ]
  },
  {
   "cell_type": "code",
   "execution_count": 36,
   "id": "08ccb6ec-e79e-4a6c-a89c-07eb1bfd30d7",
   "metadata": {},
   "outputs": [],
   "source": [
    "train['year'] = group.data_date.dt.year\n",
    "train['month'] = group.data_date.dt.month\n",
    "train['day'] = group.data_date.dt.day\n",
    "train = train.drop('data_date', axis=1)"
   ]
  },
  {
   "cell_type": "code",
   "execution_count": 37,
   "id": "ba3c67ee-d208-46fa-8a3b-ba8f033eb54d",
   "metadata": {},
   "outputs": [
    {
     "data": {
      "text/html": [
       "<div>\n",
       "<style scoped>\n",
       "    .dataframe tbody tr th:only-of-type {\n",
       "        vertical-align: middle;\n",
       "    }\n",
       "\n",
       "    .dataframe tbody tr th {\n",
       "        vertical-align: top;\n",
       "    }\n",
       "\n",
       "    .dataframe thead th {\n",
       "        text-align: right;\n",
       "    }\n",
       "</style>\n",
       "<table border=\"1\" class=\"dataframe\">\n",
       "  <thead>\n",
       "    <tr style=\"text-align: right;\">\n",
       "      <th></th>\n",
       "      <th>asin</th>\n",
       "      <th>ordered_units</th>\n",
       "      <th>year</th>\n",
       "      <th>month</th>\n",
       "      <th>day</th>\n",
       "    </tr>\n",
       "  </thead>\n",
       "  <tbody>\n",
       "    <tr>\n",
       "      <th>0</th>\n",
       "      <td>B071D7BTTW</td>\n",
       "      <td>23</td>\n",
       "      <td>2019</td>\n",
       "      <td>12</td>\n",
       "      <td>2</td>\n",
       "    </tr>\n",
       "    <tr>\n",
       "      <th>1</th>\n",
       "      <td>B071D7BTTW</td>\n",
       "      <td>3</td>\n",
       "      <td>2019</td>\n",
       "      <td>12</td>\n",
       "      <td>3</td>\n",
       "    </tr>\n",
       "    <tr>\n",
       "      <th>2</th>\n",
       "      <td>B071D7BTTW</td>\n",
       "      <td>3</td>\n",
       "      <td>2019</td>\n",
       "      <td>12</td>\n",
       "      <td>4</td>\n",
       "    </tr>\n",
       "  </tbody>\n",
       "</table>\n",
       "</div>"
      ],
      "text/plain": [
       "         asin  ordered_units  year  month  day\n",
       "0  B071D7BTTW             23  2019     12    2\n",
       "1  B071D7BTTW              3  2019     12    3\n",
       "2  B071D7BTTW              3  2019     12    4"
      ]
     },
     "execution_count": 37,
     "metadata": {},
     "output_type": "execute_result"
    }
   ],
   "source": [
    "train.head(3)"
   ]
  },
  {
   "cell_type": "code",
   "execution_count": 38,
   "id": "38fcdf42-2692-4980-902d-c8b2441ff3e6",
   "metadata": {},
   "outputs": [],
   "source": [
    "x_train = train.drop('ordered_units', axis=1)\n",
    "y_train = train['ordered_units']"
   ]
  },
  {
   "cell_type": "code",
   "execution_count": 39,
   "id": "5867c906-fee2-497f-8fcf-2324ea919540",
   "metadata": {},
   "outputs": [
    {
     "data": {
      "text/plain": [
       "Index(['asin', 'ordered_units', 'year', 'month', 'day'], dtype='object')"
      ]
     },
     "execution_count": 39,
     "metadata": {},
     "output_type": "execute_result"
    }
   ],
   "source": [
    "train.columns"
   ]
  },
  {
   "cell_type": "code",
   "execution_count": 40,
   "id": "c14b2997-dbfa-47dd-a41f-84ef8da75de2",
   "metadata": {
    "collapsed": true,
    "jupyter": {
     "outputs_hidden": true
    },
    "tags": []
   },
   "outputs": [
    {
     "data": {
      "text/plain": [
       "<AxesSubplot:xlabel='year', ylabel='ordered_units'>"
      ]
     },
     "execution_count": 40,
     "metadata": {},
     "output_type": "execute_result"
    },
    {
     "data": {
      "image/png": "[encoded data removed]",
      "text/plain": [
       "<Figure size 432x288 with 1 Axes>"
      ]
     },
     "metadata": {
      "needs_background": "light"
     },
     "output_type": "display_data"
    }
   ],
   "source": [
    "sns.barplot('year', 'ordered_units', data=train, estimator=np.sum)"
   ]
  },
  {
   "cell_type": "code",
   "execution_count": 109,
   "id": "ca75f9c7-54c6-4ded-b36f-13c9688b3858",
   "metadata": {
    "collapsed": true,
    "jupyter": {
     "outputs_hidden": true
    },
    "tags": []
   },
   "outputs": [
    {
     "data": {
      "text/plain": [
       "<AxesSubplot:xlabel='day', ylabel='ordered_units'>"
      ]
     },
     "execution_count": 109,
     "metadata": {},
     "output_type": "execute_result"
    },
    {
     "data": {
      "image/png": "[encoded data removed]",
      "text/plain": [
       "<Figure size 720x360 with 1 Axes>"
      ]
     },
     "metadata": {
      "needs_background": "light"
     },
     "output_type": "display_data"
    }
   ],
   "source": [
    "plt.figure(figsize=(10, 5))\n",
    "plt.xticks(rotation=90)\n",
    "sns.barplot('day', 'ordered_units', data=train, ci=0, estimator=np.sum)"
   ]
  },
  {
   "cell_type": "code",
   "execution_count": 111,
   "id": "f300436f-ea2c-40fc-b42b-a3f562f557d5",
   "metadata": {
    "collapsed": true,
    "jupyter": {
     "outputs_hidden": true
    },
    "tags": []
   },
   "outputs": [
    {
     "data": {
      "text/plain": [
       "<AxesSubplot:xlabel='month', ylabel='ordered_units'>"
      ]
     },
     "execution_count": 111,
     "metadata": {},
     "output_type": "execute_result"
    },
    {
     "data": {
      "image/png": "[encoded data removed]",
      "text/plain": [
       "<Figure size 720x360 with 1 Axes>"
      ]
     },
     "metadata": {
      "needs_background": "light"
     },
     "output_type": "display_data"
    }
   ],
   "source": [
    "plt.figure(figsize=(10, 5))\n",
    "plt.xticks(rotation=90)\n",
    "sns.barplot('month', 'ordered_units', data=train, ci=0, estimator=np.sum)"
   ]
  },
  {
   "cell_type": "code",
   "execution_count": 42,
   "id": "20299f7b-5858-4b8b-bc71-543eae38dc4b",
   "metadata": {},
   "outputs": [
    {
     "data": {
      "text/plain": [
       "(27039, 108)"
      ]
     },
     "execution_count": 42,
     "metadata": {},
     "output_type": "execute_result"
    }
   ],
   "source": [
    "encoder = OneHotEncoder(sparse=False, handle_unknown='ignore')\n",
    "x_train = encoder.fit_transform(x_train)\n",
    "x_train.shape"
   ]
  },
  {
   "cell_type": "markdown",
   "id": "0b25cf6f-0109-4077-9e7f-108d80e33729",
   "metadata": {},
   "source": [
    "## 训练"
   ]
  },
  {
   "cell_type": "code",
   "execution_count": 43,
   "id": "dd55c4b0-77e2-46aa-8fab-214590843d8c",
   "metadata": {},
   "outputs": [],
   "source": [
    "dtrain = xgb.DMatrix(x_train, y_train)"
   ]
  },
  {
   "cell_type": "code",
   "execution_count": 44,
   "id": "2906beb6-3968-4d67-aed4-64708d5a2031",
   "metadata": {},
   "outputs": [
    {
     "data": {
      "text/plain": [
       "3.542707920074463"
      ]
     },
     "execution_count": 44,
     "metadata": {},
     "output_type": "execute_result"
    }
   ],
   "source": [
    "ts = time.time()\n",
    "params = {'eta': 0.2,\n",
    "          'gamma': 1, \n",
    "          'max_depth': 4,\n",
    "          'subsample': 0.8,\n",
    "          'colsample_bytree': 1,\n",
    "          'n_jobs': 8}\n",
    "model = xgb.train(params, dtrain, 200)\n",
    "time.time() - ts"
   ]
  },
  {
   "cell_type": "code",
   "execution_count": 99,
   "id": "b30014a4-3159-45ed-abdb-2d10a14ea8c9",
   "metadata": {},
   "outputs": [],
   "source": [
    "result_cv = xgb.cv(params, dtrain, num_boost_round=500)"
   ]
  },
  {
   "cell_type": "markdown",
   "id": "2f5a47d3-c613-4ce5-b06e-9e109fc2e576",
   "metadata": {},
   "source": [
    "## 评判标准"
   ]
  },
  {
   "cell_type": "code",
   "execution_count": 130,
   "id": "ee276bf0-170a-4bb9-97a4-fd7ac9876741",
   "metadata": {},
   "outputs": [],
   "source": [
    "def metrics(y_true, y_pred):\n",
    "    return 1 - (abs(y_true - y_pred) / y_true).mean()"
   ]
  },
  {
   "cell_type": "code",
   "execution_count": 46,
   "id": "18a9011a-577f-4d5d-88ce-699dba24629b",
   "metadata": {},
   "outputs": [
    {
     "data": {
      "text/plain": [
       "0.9072615333182259"
      ]
     },
     "execution_count": 46,
     "metadata": {},
     "output_type": "execute_result"
    }
   ],
   "source": [
    "# 训练集的r2\n",
    "r2_score(y_train, model.predict(dtrain))"
   ]
  },
  {
   "cell_type": "code",
   "execution_count": 66,
   "id": "22383924-f880-4db6-961f-9a5efc0de80a",
   "metadata": {},
   "outputs": [
    {
     "data": {
      "text/plain": [
       "0.5683069126093565"
      ]
     },
     "execution_count": 66,
     "metadata": {},
     "output_type": "execute_result"
    }
   ],
   "source": [
    "metrics(y_train, model.predict(dtrain))"
   ]
  },
  {
   "cell_type": "markdown",
   "id": "45e8aae6-797b-4aea-8002-f418041750b5",
   "metadata": {},
   "source": [
    "## 测试1: B074NYJL9J:2021-7-22 ~ 2021-8-22"
   ]
  },
  {
   "cell_type": "code",
   "execution_count": 71,
   "id": "6ae10cbb-e2a3-4416-8e85-1533ffa1e488",
   "metadata": {},
   "outputs": [
    {
     "data": {
      "text/html": [
       "<div>\n",
       "<style scoped>\n",
       "    .dataframe tbody tr th:only-of-type {\n",
       "        vertical-align: middle;\n",
       "    }\n",
       "\n",
       "    .dataframe tbody tr th {\n",
       "        vertical-align: top;\n",
       "    }\n",
       "\n",
       "    .dataframe thead th {\n",
       "        text-align: right;\n",
       "    }\n",
       "</style>\n",
       "<table border=\"1\" class=\"dataframe\">\n",
       "  <thead>\n",
       "    <tr style=\"text-align: right;\">\n",
       "      <th></th>\n",
       "      <th>asin</th>\n",
       "      <th>ordered_units</th>\n",
       "      <th>year</th>\n",
       "      <th>month</th>\n",
       "      <th>day</th>\n",
       "    </tr>\n",
       "  </thead>\n",
       "  <tbody>\n",
       "    <tr>\n",
       "      <th>1210</th>\n",
       "      <td>B074NYJL9J</td>\n",
       "      <td>25</td>\n",
       "      <td>2021</td>\n",
       "      <td>7</td>\n",
       "      <td>23</td>\n",
       "    </tr>\n",
       "    <tr>\n",
       "      <th>1211</th>\n",
       "      <td>B074NYJL9J</td>\n",
       "      <td>12</td>\n",
       "      <td>2021</td>\n",
       "      <td>7</td>\n",
       "      <td>24</td>\n",
       "    </tr>\n",
       "    <tr>\n",
       "      <th>1212</th>\n",
       "      <td>B074NYJL9J</td>\n",
       "      <td>23</td>\n",
       "      <td>2021</td>\n",
       "      <td>7</td>\n",
       "      <td>25</td>\n",
       "    </tr>\n",
       "  </tbody>\n",
       "</table>\n",
       "</div>"
      ],
      "text/plain": [
       "            asin  ordered_units  year  month  day\n",
       "1210  B074NYJL9J             25  2021      7   23\n",
       "1211  B074NYJL9J             12  2021      7   24\n",
       "1212  B074NYJL9J             23  2021      7   25"
      ]
     },
     "execution_count": 71,
     "metadata": {},
     "output_type": "execute_result"
    }
   ],
   "source": [
    "test_1 = test[test['asin'] == 'B074NYJL9J']\n",
    "# 对测试数据构造特征\n",
    "test_1['year'] = test_1.data_date.dt.year\n",
    "test_1['month'] = test_1.data_date.dt.month\n",
    "test_1['day'] = test_1.data_date.dt.day\n",
    "test_1.drop('data_date', axis=1, inplace=True)\n",
    "test_1.head(3)"
   ]
  },
  {
   "cell_type": "code",
   "execution_count": 73,
   "id": "8afe44b7-bdca-43e2-bc6e-a0722c630a9e",
   "metadata": {},
   "outputs": [],
   "source": [
    "x_test_1 = test_1.drop('ordered_units', axis=1)\n",
    "y_test_1 = test_1['ordered_units']"
   ]
  },
  {
   "cell_type": "code",
   "execution_count": 74,
   "id": "50ac0a68-516b-4e1f-b81b-9b8da8e9de06",
   "metadata": {},
   "outputs": [],
   "source": [
    "# 编码\n",
    "x_test_1 = encoder.transform(x_test_1)"
   ]
  },
  {
   "cell_type": "code",
   "execution_count": 94,
   "id": "66984185-3ffd-403a-8b88-b77d05b24c4b",
   "metadata": {},
   "outputs": [],
   "source": [
    "dtest1 = xgb.DMatrix(x_test_1, y_test_1)"
   ]
  },
  {
   "cell_type": "code",
   "execution_count": 95,
   "id": "13b9e9ff-84c7-482b-bf8c-d8fe75ff912f",
   "metadata": {},
   "outputs": [
    {
     "data": {
      "text/plain": [
       "array([21.719864, 16.06972 , 17.652971, 16.92581 , 15.547683, 18.510885,\n",
       "       18.201082, 16.746908, 15.749893, 23.976732, 23.22043 , 23.330732,\n",
       "       23.778069, 41.577633, 23.52737 , 24.893461, 24.893461, 25.15337 ,\n",
       "       25.695383, 25.915892, 25.594664, 26.48132 , 21.40054 , 26.315168,\n",
       "       26.928299, 27.779554, 25.867132, 25.06982 , 24.893461, 29.95689 ,\n",
       "       17.157433], dtype=float32)"
      ]
     },
     "execution_count": 95,
     "metadata": {},
     "output_type": "execute_result"
    }
   ],
   "source": [
    "model.predict(dtest1)"
   ]
  },
  {
   "cell_type": "code",
   "execution_count": 96,
   "id": "b53f7a8a-00fc-4e37-9fd2-10483dd6f668",
   "metadata": {},
   "outputs": [
    {
     "data": {
      "text/plain": [
       "0.3463527965545654"
      ]
     },
     "execution_count": 96,
     "metadata": {},
     "output_type": "execute_result"
    }
   ],
   "source": [
    "metrics(y_test_1, model.predict(dtest1))"
   ]
  },
  {
   "cell_type": "code",
   "execution_count": 97,
   "id": "f66e4881-7240-41b7-ab82-cd5bf78aa88a",
   "metadata": {},
   "outputs": [
    {
     "data": {
      "text/plain": [
       "-1.9231196675634599"
      ]
     },
     "execution_count": 97,
     "metadata": {},
     "output_type": "execute_result"
    }
   ],
   "source": [
    "r2_score(y_test_1, model.predict(dtest1))"
   ]
  },
  {
   "cell_type": "code",
   "execution_count": 79,
   "id": "9907ecbf-a6d9-48a3-8fb2-e7f8158513fb",
   "metadata": {},
   "outputs": [
    {
     "data": {
      "text/plain": [
       "<matplotlib.legend.Legend at 0x252ab74fac8>"
      ]
     },
     "execution_count": 79,
     "metadata": {},
     "output_type": "execute_result"
    },
    {
     "data": {
      "image/png": "[encoded data removed]",
      "text/plain": [
       "<Figure size 432x288 with 1 Axes>"
      ]
     },
     "metadata": {
      "needs_background": "light"
     },
     "output_type": "display_data"
    }
   ],
   "source": [
    "plt.plot(model.predict(dtest), c='cyan', label='predict')\n",
    "plt.plot(y_test_1.values, c='b', label='true')\n",
    "plt.legend()"
   ]
  },
  {
   "cell_type": "markdown",
   "id": "074613e3-2f46-4e4f-b1d0-c1261bbef704",
   "metadata": {},
   "source": [
    "## 测试2：B071D7BTTW:2021-7-22 ~ 2021-8-22"
   ]
  },
  {
   "cell_type": "code",
   "execution_count": 80,
   "id": "516bc772-89bf-4104-990f-08627416bf35",
   "metadata": {},
   "outputs": [
    {
     "data": {
      "text/html": [
       "<div>\n",
       "<style scoped>\n",
       "    .dataframe tbody tr th:only-of-type {\n",
       "        vertical-align: middle;\n",
       "    }\n",
       "\n",
       "    .dataframe tbody tr th {\n",
       "        vertical-align: top;\n",
       "    }\n",
       "\n",
       "    .dataframe thead th {\n",
       "        text-align: right;\n",
       "    }\n",
       "</style>\n",
       "<table border=\"1\" class=\"dataframe\">\n",
       "  <thead>\n",
       "    <tr style=\"text-align: right;\">\n",
       "      <th></th>\n",
       "      <th>asin</th>\n",
       "      <th>ordered_units</th>\n",
       "      <th>year</th>\n",
       "      <th>month</th>\n",
       "      <th>day</th>\n",
       "    </tr>\n",
       "  </thead>\n",
       "  <tbody>\n",
       "    <tr>\n",
       "      <th>586</th>\n",
       "      <td>B071D7BTTW</td>\n",
       "      <td>0</td>\n",
       "      <td>2021</td>\n",
       "      <td>7</td>\n",
       "      <td>23</td>\n",
       "    </tr>\n",
       "    <tr>\n",
       "      <th>587</th>\n",
       "      <td>B071D7BTTW</td>\n",
       "      <td>0</td>\n",
       "      <td>2021</td>\n",
       "      <td>7</td>\n",
       "      <td>24</td>\n",
       "    </tr>\n",
       "    <tr>\n",
       "      <th>588</th>\n",
       "      <td>B071D7BTTW</td>\n",
       "      <td>0</td>\n",
       "      <td>2021</td>\n",
       "      <td>7</td>\n",
       "      <td>25</td>\n",
       "    </tr>\n",
       "  </tbody>\n",
       "</table>\n",
       "</div>"
      ],
      "text/plain": [
       "           asin  ordered_units  year  month  day\n",
       "586  B071D7BTTW              0  2021      7   23\n",
       "587  B071D7BTTW              0  2021      7   24\n",
       "588  B071D7BTTW              0  2021      7   25"
      ]
     },
     "execution_count": 80,
     "metadata": {},
     "output_type": "execute_result"
    }
   ],
   "source": [
    "test_2 = test[test['asin'] == 'B071D7BTTW']\n",
    "# 对测试数据构造特征\n",
    "test_2['year'] = test_2.data_date.dt.year\n",
    "test_2['month'] = test_2.data_date.dt.month\n",
    "test_2['day'] = test_2.data_date.dt.day\n",
    "test_2.drop('data_date', axis=1, inplace=True)\n",
    "test_2.head(3)"
   ]
  },
  {
   "cell_type": "code",
   "execution_count": 81,
   "id": "bd5c344e-49f9-4724-960f-cf00ca5fd719",
   "metadata": {},
   "outputs": [],
   "source": [
    "x_test_2 = test_2.drop('ordered_units', axis=1)\n",
    "y_test_2 = test_2['ordered_units']"
   ]
  },
  {
   "cell_type": "code",
   "execution_count": 85,
   "id": "a87195c6-c5c9-4d7e-a266-55e7d8e83e22",
   "metadata": {},
   "outputs": [],
   "source": [
    "# 编码\n",
    "x_test_2 = encoder.transform(x_test_2)\n",
    "\n",
    "dtest = xgb.DMatrix(x_test_2, y_test_2)\n",
    "\n",
    "model.predict(dtest)"
   ]
  },
  {
   "cell_type": "code",
   "execution_count": 88,
   "id": "16227499-d151-43f7-a218-61cf97c1027a",
   "metadata": {},
   "outputs": [
    {
     "data": {
      "text/plain": [
       "-18.397040888667107"
      ]
     },
     "execution_count": 88,
     "metadata": {},
     "output_type": "execute_result"
    }
   ],
   "source": [
    "metrics(y_test_2, model.predict(dtest))"
   ]
  },
  {
   "cell_type": "code",
   "execution_count": 89,
   "id": "627d2315-d1c8-40a1-934f-241a487fc898",
   "metadata": {},
   "outputs": [
    {
     "data": {
      "text/plain": [
       "<matplotlib.legend.Legend at 0x252ab98a3c8>"
      ]
     },
     "execution_count": 89,
     "metadata": {},
     "output_type": "execute_result"
    },
    {
     "data": {
      "image/png": "[encoded data removed]",
      "text/plain": [
       "<Figure size 432x288 with 1 Axes>"
      ]
     },
     "metadata": {
      "needs_background": "light"
     },
     "output_type": "display_data"
    }
   ],
   "source": [
    "plt.plot(model.predict(dtest), c='cyan', label='predict')\n",
    "plt.plot(y_test_2.values, c='b', label='true')\n",
    "plt.legend()"
   ]
  },
  {
   "cell_type": "markdown",
   "id": "3692ba5a-d2bc-453f-8d8d-80a9385750cd",
   "metadata": {},
   "source": [
    "## 测试3：B07FKN76ZS, 电水壶"
   ]
  },
  {
   "cell_type": "code",
   "execution_count": 120,
   "id": "d138f138-86a1-412b-a9a1-3722b4877e9c",
   "metadata": {},
   "outputs": [],
   "source": [
    "def create_feature(asin):\n",
    "    test1 = test[test['asin'] == asin]\n",
    "    # 对测试数据构造特征\n",
    "    test1['year'] = test1.data_date.dt.year\n",
    "    test1['month'] = test1.data_date.dt.month\n",
    "    test1['day'] = test1.data_date.dt.day\n",
    "    test1.drop('data_date', axis=1, inplace=True)\n",
    "    return test1"
   ]
  },
  {
   "cell_type": "code",
   "execution_count": 121,
   "id": "a4c32a72-b9b1-42ab-ae25-ebc4cbde29d7",
   "metadata": {},
   "outputs": [],
   "source": [
    "test3 = create_feature('B07FKN76ZS')"
   ]
  },
  {
   "cell_type": "code",
   "execution_count": 126,
   "id": "9d7f36f8-13d0-4bdb-9783-e8c3a388a31c",
   "metadata": {},
   "outputs": [],
   "source": [
    "x_test_3 = test3.drop('ordered_units', axis=1)\n",
    "y_test_3 = test3['ordered_units']"
   ]
  },
  {
   "cell_type": "code",
   "execution_count": 132,
   "id": "6378dc72-783f-4cef-9512-34f186f7c361",
   "metadata": {
    "tags": []
   },
   "outputs": [],
   "source": [
    "x_test_3 = encoder.transform(x_test_3)\n",
    "dtest = xgb.DMatrix(x_test_3, y_test_3)\n",
    "y_pred_3 = model.predict(dtest)"
   ]
  },
  {
   "cell_type": "code",
   "execution_count": 134,
   "id": "a1d04818-8dfa-45b6-9d77-d744d3ce6e49",
   "metadata": {},
   "outputs": [
    {
     "data": {
      "text/plain": [
       "-0.17077456892523846"
      ]
     },
     "execution_count": 134,
     "metadata": {},
     "output_type": "execute_result"
    }
   ],
   "source": [
    "metrics(y_test_3, y_pred_3)"
   ]
  },
  {
   "cell_type": "code",
   "execution_count": 140,
   "id": "bd6b3072-d1d4-4963-b962-c9b74cee2240",
   "metadata": {},
   "outputs": [
    {
     "data": {
      "text/plain": [
       "<matplotlib.legend.Legend at 0x252a7b0e048>"
      ]
     },
     "execution_count": 140,
     "metadata": {},
     "output_type": "execute_result"
    },
    {
     "data": {
      "image/png": "[encoded data removed]",
      "text/plain": [
       "<Figure size 432x288 with 1 Axes>"
      ]
     },
     "metadata": {
      "needs_background": "light"
     },
     "output_type": "display_data"
    }
   ],
   "source": [
    "plt.plot(y_test_3.values, label='true')\n",
    "plt.plot(y_pred_3, label='predict')\n",
    "plt.legend()"
   ]
  },
  {
   "cell_type": "markdown",
   "id": "49a56c4a-088f-4fbf-8c99-7e236b54fb7c",
   "metadata": {},
   "source": [
    "## 测试4：B07QHSZGXC, 炸锅配件"
   ]
  },
  {
   "cell_type": "code",
   "execution_count": 141,
   "id": "a6ff4887-cdb4-4946-ad9a-4f8bdd15fe10",
   "metadata": {},
   "outputs": [],
   "source": [
    "test4 = create_feature('B07QHSZGXC')"
   ]
  },
  {
   "cell_type": "code",
   "execution_count": 142,
   "id": "d7e51d24-54be-470d-a8e3-70e9e7de9f66",
   "metadata": {},
   "outputs": [],
   "source": [
    "x_test_4 = test4.drop('ordered_units', axis=1)\n",
    "y_test_4 = test4['ordered_units']"
   ]
  },
  {
   "cell_type": "code",
   "execution_count": 145,
   "id": "12fa444e-da95-4158-b126-ba8e36746efb",
   "metadata": {
    "tags": []
   },
   "outputs": [],
   "source": [
    "x_test_4 = encoder.transform(x_test_4)\n",
    "dtest = xgb.DMatrix(x_test_4, y_test_4)\n",
    "y_pred_4 = model.predict(dtest)"
   ]
  },
  {
   "cell_type": "code",
   "execution_count": 146,
   "id": "5a062489-12c6-42f6-bae3-06d8e4ac61cc",
   "metadata": {},
   "outputs": [
    {
     "data": {
      "text/plain": [
       "0.8640822637170381"
      ]
     },
     "execution_count": 146,
     "metadata": {},
     "output_type": "execute_result"
    }
   ],
   "source": [
    "metrics(y_test_4, y_pred_4)"
   ]
  },
  {
   "cell_type": "code",
   "execution_count": 166,
   "id": "8d64e389-ffae-4baa-94ed-6687a8a652c8",
   "metadata": {},
   "outputs": [
    {
     "data": {
      "text/plain": [
       "<matplotlib.legend.Legend at 0x252b04437b8>"
      ]
     },
     "execution_count": 166,
     "metadata": {},
     "output_type": "execute_result"
    },
    {
     "data": {
      "image/png": "[encoded data removed]",
      "text/plain": [
       "<Figure size 720x360 with 1 Axes>"
      ]
     },
     "metadata": {
      "needs_background": "light"
     },
     "output_type": "display_data"
    }
   ],
   "source": [
    "plt.figure(figsize=(10,5))\n",
    "plt.plot(test[test['asin']=='B07QHSZGXC'].data_date, y_test_4.values, label='true')\n",
    "plt.plot(test[test['asin']=='B07QHSZGXC'].data_date, y_pred_4, label='predict')\n",
    "plt.xticks(rotation=90)\n",
    "plt.legend()"
   ]
  },
  {
   "cell_type": "markdown",
   "id": "7f3227b4-0675-432a-a8e0-a8b9ee4b4498",
   "metadata": {},
   "source": [
    "## 保存读取"
   ]
  },
  {
   "cell_type": "code",
   "execution_count": 72,
   "id": "dda2c912-f544-491f-bf6c-e66eae0c79eb",
   "metadata": {},
   "outputs": [],
   "source": [
    "import joblib"
   ]
  },
  {
   "cell_type": "code",
   "execution_count": 45,
   "id": "0885fcde-24d5-4be7-b623-c0ab72999812",
   "metadata": {},
   "outputs": [
    {
     "data": {
      "text/plain": [
       "['onehot.pkl']"
      ]
     },
     "execution_count": 45,
     "metadata": {},
     "output_type": "execute_result"
    }
   ],
   "source": [
    "joblib.dump(encoder, 'onehot.pkl')"
   ]
  },
  {
   "cell_type": "code",
   "execution_count": 2,
   "id": "bb24a653-1ee7-40bc-85b8-5e0f9f75cd00",
   "metadata": {},
   "outputs": [],
   "source": [
    "encoder = joblib.load('onehot.pkl')"
   ]
  }
 ],
 "metadata": {
  "kernelspec": {
   "display_name": "Python 3",
   "language": "python",
   "name": "python3"
  },
  "language_info": {
   "codemirror_mode": {
    "name": "ipython",
    "version": 3
   },
   "file_extension": ".py",
   "mimetype": "text/x-python",
   "name": "python",
   "nbconvert_exporter": "python",
   "pygments_lexer": "ipython3",
   "version": "3.7.0"
  },
  "toc-autonumbering": false
 },
 "nbformat": 4,
 "nbformat_minor": 5
}
