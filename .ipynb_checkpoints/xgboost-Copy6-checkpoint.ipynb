{
 "cells": [
  {
   "cell_type": "markdown",
   "id": "a8d04ebd-6bcb-4755-8f82-950541c326bd",
   "metadata": {},
   "source": [
    "- 将weight单独作为特征输入到模型中"
   ]
  },
  {
   "cell_type": "code",
   "execution_count": 1,
   "id": "73b20828-5422-423d-85ff-449137ac570c",
   "metadata": {},
   "outputs": [],
   "source": [
    "import xgboost as xgb\n",
    "import os\n",
    "import seaborn as sns\n",
    "import pandas as pd\n",
    "import numpy as np\n",
    "from xgboost import XGBRegressor\n",
    "from sklearn.model_selection import train_test_split\n",
    "from sklearn.preprocessing import OneHotEncoder, LabelEncoder, OrdinalEncoder\n",
    "from sklearn.metrics import mean_squared_error, r2_score\n",
    "import time\n",
    "# from sklearn.externals import joblib\n",
    "import joblib\n",
    "import pickle\n",
    "import pylab as plt\n",
    "from sklearn.model_selection import cross_val_score\n",
    "import warnings\n",
    "import torch.nn as nn\n",
    "warnings.filterwarnings('ignore')\n",
    "\n",
    "pd.set_option('display.max_rows', 100)\n",
    "pd.set_option('display.max_columns', None)\n",
    "pd.set_option('display.float_format', lambda x: '%.4f' % x)\n",
    "np.set_printoptions(suppress=True)\n",
    "sns.set_style({'font.sans-serif': ['simhei', 'Arial']})   # 解决画图中文乱码\n",
    "\n",
    "%matplotlib inline"
   ]
  },
  {
   "cell_type": "code",
   "execution_count": 2,
   "id": "5638c9d2-20d8-4cfc-be0c-e635641bb771",
   "metadata": {},
   "outputs": [
    {
     "data": {
      "text/html": [
       "<div>\n",
       "<style scoped>\n",
       "    .dataframe tbody tr th:only-of-type {\n",
       "        vertical-align: middle;\n",
       "    }\n",
       "\n",
       "    .dataframe tbody tr th {\n",
       "        vertical-align: top;\n",
       "    }\n",
       "\n",
       "    .dataframe thead th {\n",
       "        text-align: right;\n",
       "    }\n",
       "</style>\n",
       "<table border=\"1\" class=\"dataframe\">\n",
       "  <thead>\n",
       "    <tr style=\"text-align: right;\">\n",
       "      <th></th>\n",
       "      <th>id</th>\n",
       "      <th>site_id</th>\n",
       "      <th>asin</th>\n",
       "      <th>data_date</th>\n",
       "      <th>product_title</th>\n",
       "      <th>ordered_revenue</th>\n",
       "      <th>ordered_revenue_of_total</th>\n",
       "      <th>ordered_revenue_last_year</th>\n",
       "      <th>ordered_units</th>\n",
       "      <th>ordered_units_of_total</th>\n",
       "      <th>ordered_units_prior_period</th>\n",
       "      <th>ordered_units_last_year</th>\n",
       "      <th>subcategory_sales_rank</th>\n",
       "      <th>average_sales_price</th>\n",
       "      <th>average_sales_price_prior_period</th>\n",
       "      <th>glance_views</th>\n",
       "      <th>change_in_glance_view_prior_period</th>\n",
       "      <th>change_in_gv_last_year</th>\n",
       "      <th>conversion_rate</th>\n",
       "      <th>rep_oos</th>\n",
       "      <th>rep_oos_of_total</th>\n",
       "      <th>rep_oos_prior_period</th>\n",
       "      <th>lbb_price</th>\n",
       "      <th>create_time</th>\n",
       "      <th>update_time</th>\n",
       "    </tr>\n",
       "  </thead>\n",
       "  <tbody>\n",
       "    <tr>\n",
       "      <th>0</th>\n",
       "      <td>1</td>\n",
       "      <td>eb766123-9f24-436e-9117-49c739816794</td>\n",
       "      <td>B07GJBBGHG</td>\n",
       "      <td>2021-01-02</td>\n",
       "      <td>COSORI 5.8QT Electric Hot Air Fryers Oven Oill...</td>\n",
       "      <td>153827.1800</td>\n",
       "      <td>0.1300</td>\n",
       "      <td>1.2600</td>\n",
       "      <td>1284</td>\n",
       "      <td>0.0600</td>\n",
       "      <td>-0.1300</td>\n",
       "      <td>1.2600</td>\n",
       "      <td>1.0000</td>\n",
       "      <td>119.8000</td>\n",
       "      <td>0.0000</td>\n",
       "      <td>40220.0000</td>\n",
       "      <td>0.0000</td>\n",
       "      <td>1.1900</td>\n",
       "      <td>0.0300</td>\n",
       "      <td>0.0200</td>\n",
       "      <td>0.1400</td>\n",
       "      <td>0.1500</td>\n",
       "      <td>0.0000</td>\n",
       "      <td>2021/1/4 6:48</td>\n",
       "      <td>2021/1/4 6:48</td>\n",
       "    </tr>\n",
       "  </tbody>\n",
       "</table>\n",
       "</div>"
      ],
      "text/plain": [
       "   id                               site_id        asin  data_date  \\\n",
       "0   1  eb766123-9f24-436e-9117-49c739816794  B07GJBBGHG 2021-01-02   \n",
       "\n",
       "                                       product_title  ordered_revenue  \\\n",
       "0  COSORI 5.8QT Electric Hot Air Fryers Oven Oill...      153827.1800   \n",
       "\n",
       "   ordered_revenue_of_total  ordered_revenue_last_year  ordered_units  \\\n",
       "0                    0.1300                     1.2600           1284   \n",
       "\n",
       "   ordered_units_of_total  ordered_units_prior_period  \\\n",
       "0                  0.0600                     -0.1300   \n",
       "\n",
       "   ordered_units_last_year  subcategory_sales_rank  average_sales_price  \\\n",
       "0                   1.2600                  1.0000             119.8000   \n",
       "\n",
       "   average_sales_price_prior_period  glance_views  \\\n",
       "0                            0.0000    40220.0000   \n",
       "\n",
       "   change_in_glance_view_prior_period  change_in_gv_last_year  \\\n",
       "0                              0.0000                  1.1900   \n",
       "\n",
       "   conversion_rate  rep_oos  rep_oos_of_total  rep_oos_prior_period  \\\n",
       "0           0.0300   0.0200            0.1400                0.1500   \n",
       "\n",
       "   lbb_price    create_time    update_time  \n",
       "0     0.0000  2021/1/4 6:48  2021/1/4 6:48  "
      ]
     },
     "execution_count": 2,
     "metadata": {},
     "output_type": "execute_result"
    }
   ],
   "source": [
    "data = pd.read_csv('./data.csv', encoding='GBK')\n",
    "data.data_date = pd.to_datetime(data.data_date)\n",
    "data.head(1)"
   ]
  },
  {
   "cell_type": "code",
   "execution_count": 3,
   "id": "62525d6e-4824-410f-84df-1ad6bb5d15df",
   "metadata": {},
   "outputs": [
    {
     "data": {
      "text/plain": [
       "(626, 2)"
      ]
     },
     "execution_count": 3,
     "metadata": {},
     "output_type": "execute_result"
    }
   ],
   "source": [
    "alldata = data[(data.asin=='B07QHSZGXC')][['data_date','ordered_units']].sort_values('data_date')\n",
    "alldata.shape"
   ]
  },
  {
   "cell_type": "code",
   "execution_count": 4,
   "id": "c6d14d10-df30-4a18-9496-b9a10c5fd0db",
   "metadata": {},
   "outputs": [
    {
     "data": {
      "text/html": [
       "<div>\n",
       "<style scoped>\n",
       "    .dataframe tbody tr th:only-of-type {\n",
       "        vertical-align: middle;\n",
       "    }\n",
       "\n",
       "    .dataframe tbody tr th {\n",
       "        vertical-align: top;\n",
       "    }\n",
       "\n",
       "    .dataframe thead th {\n",
       "        text-align: right;\n",
       "    }\n",
       "</style>\n",
       "<table border=\"1\" class=\"dataframe\">\n",
       "  <thead>\n",
       "    <tr style=\"text-align: right;\">\n",
       "      <th></th>\n",
       "      <th>data_date</th>\n",
       "      <th>ordered_units</th>\n",
       "    </tr>\n",
       "  </thead>\n",
       "  <tbody>\n",
       "    <tr>\n",
       "      <th>15974</th>\n",
       "      <td>2019-12-02</td>\n",
       "      <td>1034</td>\n",
       "    </tr>\n",
       "    <tr>\n",
       "      <th>15937</th>\n",
       "      <td>2019-12-03</td>\n",
       "      <td>193</td>\n",
       "    </tr>\n",
       "  </tbody>\n",
       "</table>\n",
       "</div>"
      ],
      "text/plain": [
       "       data_date  ordered_units\n",
       "15974 2019-12-02           1034\n",
       "15937 2019-12-03            193"
      ]
     },
     "execution_count": 4,
     "metadata": {},
     "output_type": "execute_result"
    }
   ],
   "source": [
    "alldata.head(2)"
   ]
  },
  {
   "cell_type": "markdown",
   "id": "b6f8616d-c4ed-45c2-ade3-c8147bbc9e09",
   "metadata": {},
   "source": [
    "## 数据预处理"
   ]
  },
  {
   "cell_type": "markdown",
   "id": "f33d9ffc-ad44-4c9a-8409-3004615fbaba",
   "metadata": {},
   "source": [
    "### 异常值，删除小于等于0的数值和离群点"
   ]
  },
  {
   "cell_type": "code",
   "execution_count": 5,
   "id": "6ad7f835-580d-4e82-995c-ecbfa1f2ca2d",
   "metadata": {},
   "outputs": [],
   "source": [
    "alldata.drop(alldata[alldata.ordered_units <= 0].index, inplace=True)"
   ]
  },
  {
   "cell_type": "code",
   "execution_count": 6,
   "id": "acc2edf9-eeef-42bf-8973-708a5385c24f",
   "metadata": {
    "tags": []
   },
   "outputs": [
    {
     "data": {
      "text/plain": [
       "<AxesSubplot:xlabel='ordered_units'>"
      ]
     },
     "execution_count": 6,
     "metadata": {},
     "output_type": "execute_result"
    },
    {
     "data": {
      "image/png": "[encoded data removed]",
      "text/plain": [
       "<Figure size 432x288 with 1 Axes>"
      ]
     },
     "metadata": {
      "needs_background": "light"
     },
     "output_type": "display_data"
    }
   ],
   "source": [
    "sns.boxplot(alldata.ordered_units)"
   ]
  },
  {
   "cell_type": "code",
   "execution_count": 7,
   "id": "c0afff07-277a-4dad-a31d-d68a95038a15",
   "metadata": {},
   "outputs": [],
   "source": [
    "alldata.drop(alldata[alldata.ordered_units > 1000].index, inplace=True)"
   ]
  },
  {
   "cell_type": "code",
   "execution_count": 8,
   "id": "812c61fd-d731-4c15-9818-9c18b4091107",
   "metadata": {},
   "outputs": [
    {
     "data": {
      "text/plain": [
       "(612, 2)"
      ]
     },
     "execution_count": 8,
     "metadata": {},
     "output_type": "execute_result"
    }
   ],
   "source": [
    "alldata.shape"
   ]
  },
  {
   "cell_type": "markdown",
   "id": "9b402ed9-0a79-4124-9105-adc4d2bfc621",
   "metadata": {},
   "source": [
    "### 设置样本权重"
   ]
  },
  {
   "cell_type": "code",
   "execution_count": 9,
   "id": "f44e85c2-44a2-4369-87e5-f1b8f30f6eaf",
   "metadata": {},
   "outputs": [],
   "source": [
    "alldata['weight'] = alldata.data_date.apply(lambda x: (\n",
    "    x - pd.to_datetime('2019-12-02')).days)"
   ]
  },
  {
   "cell_type": "code",
   "execution_count": 10,
   "id": "addba760-c1c1-49ac-9d56-604b63c2a744",
   "metadata": {},
   "outputs": [
    {
     "data": {
      "text/html": [
       "<div>\n",
       "<style scoped>\n",
       "    .dataframe tbody tr th:only-of-type {\n",
       "        vertical-align: middle;\n",
       "    }\n",
       "\n",
       "    .dataframe tbody tr th {\n",
       "        vertical-align: top;\n",
       "    }\n",
       "\n",
       "    .dataframe thead th {\n",
       "        text-align: right;\n",
       "    }\n",
       "</style>\n",
       "<table border=\"1\" class=\"dataframe\">\n",
       "  <thead>\n",
       "    <tr style=\"text-align: right;\">\n",
       "      <th></th>\n",
       "      <th>data_date</th>\n",
       "      <th>ordered_units</th>\n",
       "      <th>weight</th>\n",
       "    </tr>\n",
       "  </thead>\n",
       "  <tbody>\n",
       "    <tr>\n",
       "      <th>15937</th>\n",
       "      <td>2019-12-03</td>\n",
       "      <td>193</td>\n",
       "      <td>1</td>\n",
       "    </tr>\n",
       "  </tbody>\n",
       "</table>\n",
       "</div>"
      ],
      "text/plain": [
       "       data_date  ordered_units  weight\n",
       "15937 2019-12-03            193       1"
      ]
     },
     "execution_count": 10,
     "metadata": {},
     "output_type": "execute_result"
    }
   ],
   "source": [
    "alldata.head(1)"
   ]
  },
  {
   "cell_type": "markdown",
   "id": "7760e0c0-69df-453b-a770-ffe63b16d73e",
   "metadata": {},
   "source": [
    "### 缺失值"
   ]
  },
  {
   "cell_type": "code",
   "execution_count": 11,
   "id": "c8d0af97-d65f-4a7a-b103-bc85154e7930",
   "metadata": {},
   "outputs": [
    {
     "data": {
      "text/plain": [
       "data_date        0\n",
       "ordered_units    0\n",
       "weight           0\n",
       "dtype: int64"
      ]
     },
     "execution_count": 11,
     "metadata": {},
     "output_type": "execute_result"
    }
   ],
   "source": [
    "alldata.isnull().sum()"
   ]
  },
  {
   "cell_type": "markdown",
   "id": "de005c50-1832-458f-89d9-17c41a7d01b5",
   "metadata": {},
   "source": [
    "无缺失值不用处理"
   ]
  },
  {
   "cell_type": "markdown",
   "id": "1145eda8-a6d2-4b3a-98f0-4d48d9e15384",
   "metadata": {},
   "source": [
    "### 创造特征"
   ]
  },
  {
   "cell_type": "code",
   "execution_count": 12,
   "id": "da1ad1d7-93fe-4028-b470-d3b0faa4ee2b",
   "metadata": {},
   "outputs": [],
   "source": [
    "def create_feature(df):\n",
    "    df['year'] = df.data_date.dt.year\n",
    "    df['month'] = df.data_date.dt.month\n",
    "    df['day'] = df.data_date.dt.day\n",
    "    df['weekday'] = df.data_date.dt.weekday\n",
    "\n",
    "    df.drop('data_date', axis=1, inplace=True)\n",
    "    return df"
   ]
  },
  {
   "cell_type": "code",
   "execution_count": 13,
   "id": "96a34693-43cf-4ebd-a38d-00d3e59531b2",
   "metadata": {},
   "outputs": [],
   "source": [
    "alldata = create_feature(alldata)"
   ]
  },
  {
   "cell_type": "code",
   "execution_count": 14,
   "id": "ba3c67ee-d208-46fa-8a3b-ba8f033eb54d",
   "metadata": {},
   "outputs": [
    {
     "data": {
      "text/html": [
       "<div>\n",
       "<style scoped>\n",
       "    .dataframe tbody tr th:only-of-type {\n",
       "        vertical-align: middle;\n",
       "    }\n",
       "\n",
       "    .dataframe tbody tr th {\n",
       "        vertical-align: top;\n",
       "    }\n",
       "\n",
       "    .dataframe thead th {\n",
       "        text-align: right;\n",
       "    }\n",
       "</style>\n",
       "<table border=\"1\" class=\"dataframe\">\n",
       "  <thead>\n",
       "    <tr style=\"text-align: right;\">\n",
       "      <th></th>\n",
       "      <th>ordered_units</th>\n",
       "      <th>weight</th>\n",
       "      <th>year</th>\n",
       "      <th>month</th>\n",
       "      <th>day</th>\n",
       "      <th>weekday</th>\n",
       "    </tr>\n",
       "  </thead>\n",
       "  <tbody>\n",
       "    <tr>\n",
       "      <th>15937</th>\n",
       "      <td>193</td>\n",
       "      <td>1</td>\n",
       "      <td>2019</td>\n",
       "      <td>12</td>\n",
       "      <td>3</td>\n",
       "      <td>1</td>\n",
       "    </tr>\n",
       "    <tr>\n",
       "      <th>15902</th>\n",
       "      <td>212</td>\n",
       "      <td>2</td>\n",
       "      <td>2019</td>\n",
       "      <td>12</td>\n",
       "      <td>4</td>\n",
       "      <td>2</td>\n",
       "    </tr>\n",
       "    <tr>\n",
       "      <th>15869</th>\n",
       "      <td>211</td>\n",
       "      <td>3</td>\n",
       "      <td>2019</td>\n",
       "      <td>12</td>\n",
       "      <td>5</td>\n",
       "      <td>3</td>\n",
       "    </tr>\n",
       "  </tbody>\n",
       "</table>\n",
       "</div>"
      ],
      "text/plain": [
       "       ordered_units  weight  year  month  day  weekday\n",
       "15937            193       1  2019     12    3        1\n",
       "15902            212       2  2019     12    4        2\n",
       "15869            211       3  2019     12    5        3"
      ]
     },
     "execution_count": 14,
     "metadata": {},
     "output_type": "execute_result"
    }
   ],
   "source": [
    "alldata.head(3)"
   ]
  },
  {
   "cell_type": "code",
   "execution_count": 15,
   "id": "79f58828-3de5-42b8-8b2a-a6e671e14d86",
   "metadata": {},
   "outputs": [],
   "source": [
    "x = alldata.drop('ordered_units', axis=1)\n",
    "y = alldata['ordered_units']\n",
    "x_train, x_test, y_train, y_test = train_test_split(x, y, test_size=0.1, random_state=0)"
   ]
  },
  {
   "cell_type": "markdown",
   "id": "fadb456c-69e7-4faa-a107-faf5f2bd1993",
   "metadata": {},
   "source": [
    "### 编码"
   ]
  },
  {
   "cell_type": "code",
   "execution_count": 16,
   "id": "39c75cd8-a009-4cf5-8a8d-144b152e084c",
   "metadata": {},
   "outputs": [
    {
     "data": {
      "text/html": [
       "<div>\n",
       "<style scoped>\n",
       "    .dataframe tbody tr th:only-of-type {\n",
       "        vertical-align: middle;\n",
       "    }\n",
       "\n",
       "    .dataframe tbody tr th {\n",
       "        vertical-align: top;\n",
       "    }\n",
       "\n",
       "    .dataframe thead th {\n",
       "        text-align: right;\n",
       "    }\n",
       "</style>\n",
       "<table border=\"1\" class=\"dataframe\">\n",
       "  <thead>\n",
       "    <tr style=\"text-align: right;\">\n",
       "      <th></th>\n",
       "      <th>weight</th>\n",
       "      <th>year</th>\n",
       "      <th>month</th>\n",
       "      <th>day</th>\n",
       "      <th>weekday</th>\n",
       "    </tr>\n",
       "  </thead>\n",
       "  <tbody>\n",
       "    <tr>\n",
       "      <th>16633</th>\n",
       "      <td>410</td>\n",
       "      <td>2021</td>\n",
       "      <td>1</td>\n",
       "      <td>15</td>\n",
       "      <td>4</td>\n",
       "    </tr>\n",
       "    <tr>\n",
       "      <th>15361</th>\n",
       "      <td>18</td>\n",
       "      <td>2019</td>\n",
       "      <td>12</td>\n",
       "      <td>20</td>\n",
       "      <td>4</td>\n",
       "    </tr>\n",
       "  </tbody>\n",
       "</table>\n",
       "</div>"
      ],
      "text/plain": [
       "       weight  year  month  day  weekday\n",
       "16633     410  2021      1   15        4\n",
       "15361      18  2019     12   20        4"
      ]
     },
     "execution_count": 16,
     "metadata": {},
     "output_type": "execute_result"
    }
   ],
   "source": [
    "x_train.head(2)"
   ]
  },
  {
   "cell_type": "code",
   "execution_count": 17,
   "id": "20299f7b-5858-4b8b-bc71-543eae38dc4b",
   "metadata": {},
   "outputs": [
    {
     "data": {
      "text/plain": [
       "(550, 603)"
      ]
     },
     "execution_count": 17,
     "metadata": {},
     "output_type": "execute_result"
    }
   ],
   "source": [
    "encoder = OneHotEncoder(sparse=False, handle_unknown='ignore')\n",
    "x_train = encoder.fit_transform(x_train)\n",
    "x_train.shape"
   ]
  },
  {
   "cell_type": "code",
   "execution_count": 18,
   "id": "60e39b79-4664-4c2b-9677-8fcebda7ab54",
   "metadata": {},
   "outputs": [],
   "source": [
    "x_test = encoder.transform(x_test)"
   ]
  },
  {
   "cell_type": "markdown",
   "id": "6006a595-bcb9-4e71-9770-8d1295c21928",
   "metadata": {},
   "source": [
    "## 评判标准"
   ]
  },
  {
   "cell_type": "code",
   "execution_count": 19,
   "id": "400c6c26-6cd7-485b-ad00-1f91a9cfb6d8",
   "metadata": {},
   "outputs": [],
   "source": [
    "def metrics1(y_true, y_pred):\n",
    "    return 1 - (abs(y_true.sum() - y_pred.sum()) / y_true.sum())\n",
    "\n",
    "def metrics2(y_true, y_pred):\n",
    "    return 1 - (abs(y_true - y_pred) / y_true).mean()"
   ]
  },
  {
   "cell_type": "markdown",
   "id": "0b25cf6f-0109-4077-9e7f-108d80e33729",
   "metadata": {},
   "source": [
    "## 训练"
   ]
  },
  {
   "cell_type": "markdown",
   "id": "167490ec-f77f-4b52-bca1-35e268b3d722",
   "metadata": {},
   "source": [
    "### sklearn api"
   ]
  },
  {
   "cell_type": "code",
   "execution_count": 20,
   "id": "0e8d3478-5ed1-4afc-a713-318b6f015ef1",
   "metadata": {},
   "outputs": [],
   "source": [
    "xgbr = XGBRegressor(n_estimators=1500, \n",
    "             learning_rate=0.3, \n",
    "             max_depth=5, \n",
    "             subsample=0.8, \n",
    "             colsample_bytree=1, \n",
    "             objective='reg:squarederror',\n",
    "             base_score=0.5,\n",
    "             gamma=0,\n",
    "             n_jobs=8)"
   ]
  },
  {
   "cell_type": "code",
   "execution_count": 21,
   "id": "3d50aad1-1127-43d2-a2ca-ddd8a45cc7e7",
   "metadata": {
    "tags": []
   },
   "outputs": [
    {
     "name": "stdout",
     "output_type": "stream",
     "text": [
      "[0]\tvalidation_0-rmse:154.25540\n",
      "[1]\tvalidation_0-rmse:122.38364\n",
      "[2]\tvalidation_0-rmse:104.27074\n",
      "[3]\tvalidation_0-rmse:92.75091\n",
      "[4]\tvalidation_0-rmse:86.41016\n",
      "[5]\tvalidation_0-rmse:82.12442\n",
      "[6]\tvalidation_0-rmse:79.58036\n",
      "[7]\tvalidation_0-rmse:76.72334\n",
      "[8]\tvalidation_0-rmse:75.65611\n",
      "[9]\tvalidation_0-rmse:74.94233\n",
      "[10]\tvalidation_0-rmse:74.14591\n",
      "[11]\tvalidation_0-rmse:73.95249\n",
      "[12]\tvalidation_0-rmse:72.28938\n",
      "[13]\tvalidation_0-rmse:72.23556\n",
      "[14]\tvalidation_0-rmse:72.10578\n",
      "[15]\tvalidation_0-rmse:71.87485\n",
      "[16]\tvalidation_0-rmse:71.86485\n",
      "[17]\tvalidation_0-rmse:72.96227\n",
      "[18]\tvalidation_0-rmse:73.30297\n",
      "[19]\tvalidation_0-rmse:73.41652\n",
      "[20]\tvalidation_0-rmse:73.40372\n",
      "[21]\tvalidation_0-rmse:73.12312\n",
      "[22]\tvalidation_0-rmse:73.82044\n",
      "[23]\tvalidation_0-rmse:76.28346\n",
      "[24]\tvalidation_0-rmse:76.38163\n",
      "[25]\tvalidation_0-rmse:76.62601\n",
      "[26]\tvalidation_0-rmse:76.73647\n",
      "[27]\tvalidation_0-rmse:76.06133\n",
      "[28]\tvalidation_0-rmse:75.68337\n",
      "[29]\tvalidation_0-rmse:75.34209\n",
      "[30]\tvalidation_0-rmse:76.65482\n",
      "[31]\tvalidation_0-rmse:76.72135\n",
      "[32]\tvalidation_0-rmse:76.90307\n",
      "[33]\tvalidation_0-rmse:76.67297\n",
      "[34]\tvalidation_0-rmse:76.79257\n",
      "[35]\tvalidation_0-rmse:76.83244\n",
      "[36]\tvalidation_0-rmse:76.50056\n"
     ]
    },
    {
     "data": {
      "text/plain": [
       "XGBRegressor(base_score=0.5, booster='gbtree', colsample_bylevel=1,\n",
       "             colsample_bynode=1, colsample_bytree=1, gamma=0, gpu_id=-1,\n",
       "             importance_type='gain', interaction_constraints='',\n",
       "             learning_rate=0.3, max_delta_step=0, max_depth=5,\n",
       "             min_child_weight=1, missing=nan, monotone_constraints='()',\n",
       "             n_estimators=1500, n_jobs=8, num_parallel_tree=1, random_state=0,\n",
       "             reg_alpha=0, reg_lambda=1, scale_pos_weight=1, subsample=0.8,\n",
       "             tree_method='exact', validate_parameters=1, verbosity=None)"
      ]
     },
     "execution_count": 21,
     "metadata": {},
     "output_type": "execute_result"
    }
   ],
   "source": [
    "xgbr.fit(x_train, y_train,  early_stopping_rounds=20, eval_set=[(x_test, y_test)])"
   ]
  },
  {
   "cell_type": "markdown",
   "id": "bb3ba10d-23b7-4765-b2f7-ffb93222c625",
   "metadata": {},
   "source": [
    "### xgboost api"
   ]
  },
  {
   "cell_type": "code",
   "execution_count": 23,
   "id": "4c6405e4-872c-47f3-8b98-7fe970c712b6",
   "metadata": {
    "tags": []
   },
   "outputs": [
    {
     "name": "stdout",
     "output_type": "stream",
     "text": [
      "[0]\ttest-rmse:154.25540\n",
      "[1]\ttest-rmse:122.38364\n",
      "[2]\ttest-rmse:104.27074\n",
      "[3]\ttest-rmse:92.75091\n",
      "[4]\ttest-rmse:86.41016\n",
      "[5]\ttest-rmse:82.12442\n",
      "[6]\ttest-rmse:79.58036\n",
      "[7]\ttest-rmse:76.72334\n",
      "[8]\ttest-rmse:75.65611\n",
      "[9]\ttest-rmse:74.94233\n",
      "[10]\ttest-rmse:74.14591\n",
      "[11]\ttest-rmse:73.95249\n",
      "[12]\ttest-rmse:72.28938\n",
      "[13]\ttest-rmse:72.23556\n",
      "[14]\ttest-rmse:72.10578\n",
      "[15]\ttest-rmse:71.87485\n",
      "[16]\ttest-rmse:71.86485\n",
      "[17]\ttest-rmse:72.96227\n",
      "[18]\ttest-rmse:73.30297\n",
      "[19]\ttest-rmse:73.41652\n",
      "[20]\ttest-rmse:73.40372\n",
      "[21]\ttest-rmse:73.12312\n",
      "[22]\ttest-rmse:73.82044\n",
      "[23]\ttest-rmse:76.28346\n",
      "[24]\ttest-rmse:76.38163\n",
      "[25]\ttest-rmse:76.62601\n",
      "[26]\ttest-rmse:76.73647\n",
      "[27]\ttest-rmse:76.06133\n",
      "[28]\ttest-rmse:75.68337\n",
      "[29]\ttest-rmse:75.34209\n",
      "[30]\ttest-rmse:76.65482\n",
      "[31]\ttest-rmse:76.72135\n",
      "[32]\ttest-rmse:76.90307\n",
      "[33]\ttest-rmse:76.67297\n",
      "[34]\ttest-rmse:76.79257\n",
      "[35]\ttest-rmse:76.83244\n",
      "running time: 0.153\n"
     ]
    }
   ],
   "source": [
    "dtrain = xgb.DMatrix(x_train, y_train)\n",
    "dtest = xgb.DMatrix(x_test, y_test)\n",
    "\n",
    "params = {'eta': 0.3,\n",
    "          'objective': 'reg:squarederror',\n",
    "          'gamma': 0,\n",
    "          'max_depth': 5,\n",
    "          'subsample': 0.8,\n",
    "          'colsample_bytree': 1,\n",
    "          'base_score': 0.5,\n",
    "          'n_jobs': 8}\n",
    "\n",
    "model = xgb.train(params, dtrain, 1500, early_stopping_rounds=20, evals=[(dtest, 'test')])"
   ]
  },
  {
   "cell_type": "markdown",
   "id": "fe419330-41b8-4fdd-af00-e644bf902f6e",
   "metadata": {},
   "source": [
    "## 测试"
   ]
  },
  {
   "cell_type": "markdown",
   "id": "00330fe6-0bb7-4d91-b043-c147319b68a4",
   "metadata": {},
   "source": [
    "### sklearn api"
   ]
  },
  {
   "cell_type": "code",
   "execution_count": 24,
   "id": "76cc57f4-433c-42a0-ac47-204abae2f94b",
   "metadata": {},
   "outputs": [
    {
     "name": "stdout",
     "output_type": "stream",
     "text": [
      "metrics1: 0.906\n",
      "metrics2: 0.561\n",
      "r2: 0.339\n"
     ]
    }
   ],
   "source": [
    "y_pred = xgbr.predict(x_test)\n",
    "print('metrics1: {:.3f}\\nmetrics2: {:.3f}\\nr2: {:.3f}'.format(metrics1(y_test, y_pred), \n",
    "                                                              metrics2(y_test, y_pred), \n",
    "                                                              r2_score(y_test, y_pred)))"
   ]
  },
  {
   "cell_type": "code",
   "execution_count": 25,
   "id": "6e52120a-87b8-4acc-8ddf-5fbc4100bcab",
   "metadata": {
    "jupyter": {
     "source_hidden": true
    },
    "tags": []
   },
   "outputs": [
    {
     "data": {
      "text/plain": [
       "<matplotlib.legend.Legend at 0x297637f05f8>"
      ]
     },
     "execution_count": 25,
     "metadata": {},
     "output_type": "execute_result"
    },
    {
     "data": {
      "image/png": "[encoded data removed]",
      "text/plain": [
       "<Figure size 720x360 with 1 Axes>"
      ]
     },
     "metadata": {
      "needs_background": "light"
     },
     "output_type": "display_data"
    }
   ],
   "source": [
    "plt.figure(figsize=(10, 5))\n",
    "plt.plot(y_test.values, label='true')\n",
    "plt.plot(y_pred, label='predict')\n",
    "plt.xticks(rotation=90)\n",
    "plt.grid()\n",
    "plt.legend()"
   ]
  },
  {
   "cell_type": "markdown",
   "id": "3de6b509-1f09-45e9-93e1-41ce0fca1fac",
   "metadata": {},
   "source": [
    "### xgboost api"
   ]
  },
  {
   "cell_type": "code",
   "execution_count": 26,
   "id": "11feb4c5-759d-4f9d-9c7e-e5e19209a0b6",
   "metadata": {},
   "outputs": [],
   "source": [
    "dtest = xgb.DMatrix(x_test, y_test)"
   ]
  },
  {
   "cell_type": "code",
   "execution_count": 27,
   "id": "2a1fcba7-c825-47a5-8aad-d9da7b5e4b05",
   "metadata": {
    "tags": []
   },
   "outputs": [
    {
     "name": "stdout",
     "output_type": "stream",
     "text": [
      "metrics1: 0.885\n",
      "metrics2: 0.592\n",
      "r2: 0.251\n"
     ]
    }
   ],
   "source": [
    "y_pred = model.predict(dtest)\n",
    "print('metrics1: {:.3f}\\nmetrics2: {:.3f}\\nr2: {:.3f}'.format(metrics1(y_test, y_pred), \n",
    "                                                              metrics2(y_test, y_pred), \n",
    "                                                              r2_score(y_test, y_pred)))"
   ]
  },
  {
   "cell_type": "code",
   "execution_count": 28,
   "id": "8d64e389-ffae-4baa-94ed-6687a8a652c8",
   "metadata": {
    "jupyter": {
     "source_hidden": true
    },
    "tags": []
   },
   "outputs": [
    {
     "data": {
      "text/plain": [
       "<matplotlib.legend.Legend at 0x297638706a0>"
      ]
     },
     "execution_count": 28,
     "metadata": {},
     "output_type": "execute_result"
    },
    {
     "data": {
      "image/png": "[encoded data removed]",
      "text/plain": [
       "<Figure size 720x360 with 1 Axes>"
      ]
     },
     "metadata": {
      "needs_background": "light"
     },
     "output_type": "display_data"
    }
   ],
   "source": [
    "plt.figure(figsize=(10, 5))\n",
    "plt.plot(y_test.values, label='true')\n",
    "plt.plot(y_pred, label='predict')\n",
    "plt.xticks(rotation=90)\n",
    "plt.grid()\n",
    "plt.legend()"
   ]
  },
  {
   "cell_type": "code",
   "execution_count": 29,
   "id": "e0636bb9-17ce-4068-b643-b65107a8d651",
   "metadata": {
    "tags": []
   },
   "outputs": [
    {
     "data": {
      "text/plain": [
       "{'f564': 205001.5718375,\n",
       " 'f291': 53440.036046,\n",
       " 'f556': 28645.509545555557,\n",
       " 'f555': 43755.428700000004,\n",
       " 'f290': 37954.40097785714,\n",
       " 'f551': 30762.38363333333,\n",
       " 'f131': 865.148438,\n",
       " 'f550': 96491.31013499999,\n",
       " 'f347': 38496.75,\n",
       " 'f346': 35294.65625,\n",
       " 'f352': 5068.75,\n",
       " 'f6': 6004.1464844,\n",
       " 'f18': 7894.25,\n",
       " 'f17': 3465.576710133333,\n",
       " 'f559': 39735.116700000006,\n",
       " 'f563': 27665.163940000002,\n",
       " 'f348': 15343.373046666668,\n",
       " 'f353': 17125.125,\n",
       " 'f3': 13721.140995000002,\n",
       " 'f8': 19865.59896666667,\n",
       " 'f24': 404.5625,\n",
       " 'f326': 25539.442526363637,\n",
       " 'f350': 10892.891599999999,\n",
       " 'f597': 7099.679225,\n",
       " 'f19': 5679.0625,\n",
       " 'f324': 20691.872520833334,\n",
       " 'f345': 20987.534695000002,\n",
       " 'f351': 14824.38981,\n",
       " 'f7': 11111.819013333334,\n",
       " 'f562': 29509.263033333333,\n",
       " 'f292': 6250.813965,\n",
       " 'f293': 5965.810545,\n",
       " 'f331': 21016.6992975,\n",
       " 'f587': 8285.086940000001,\n",
       " 'f595': 7980.688313333332,\n",
       " 'f553': 14548.663590000002,\n",
       " 'f560': 27390.0132,\n",
       " 'f323': 14169.378843333332,\n",
       " 'f548': 1276.70117,\n",
       " 'f249': 8758.76563,\n",
       " 'f557': 28381.65335,\n",
       " 'f602': 22591.55055,\n",
       " 'f565': 14244.5703,\n",
       " 'f442': 457.32327295000005,\n",
       " 'f139': 422.789063,\n",
       " 'f452': 9390.25245,\n",
       " 'f453': 8581.401855,\n",
       " 'f451': 8271.472655,\n",
       " 'f330': 13840.883308,\n",
       " 'f552': 8725.434092,\n",
       " 'f354': 8281.978116,\n",
       " 'f554': 12096.490589999998,\n",
       " 'f396': 8057.79004,\n",
       " 'f395': 4080.92871,\n",
       " 'f601': 3889.2750979999996,\n",
       " 'f576': 2791.05273,\n",
       " 'f81': 454.365448215,\n",
       " 'f11': 11156.52636,\n",
       " 'f332': 10789.202780000001,\n",
       " 'f102': 8905.41992,\n",
       " 'f304': 7368.71875,\n",
       " 'f397': 3591.75732,\n",
       " 'f424': 583.059082,\n",
       " 'f439': 651.01709,\n",
       " 'f128': 478.363281,\n",
       " 'f126': 148.7387094,\n",
       " 'f454': 7213.06055,\n",
       " 'f329': 8969.4254175,\n",
       " 'f580': 10396.517085,\n",
       " 'f338': 8527.822505,\n",
       " 'f599': 4064.4364239999995,\n",
       " 'f96': 2510.67188,\n",
       " 'f68': 3079.74414,\n",
       " 'f206': 1858.75159,\n",
       " 'f463': 1752.88477,\n",
       " 'f368': 460.20108,\n",
       " 'f491': 1.65727139,\n",
       " 'f566': 10005.457515,\n",
       " 'f588': 10626.3672,\n",
       " 'f223': 6978.367797500001,\n",
       " 'f188': 2241.25977,\n",
       " 'f471': 1687.56604,\n",
       " 'f27': 1502.63086,\n",
       " 'f533': 1580.95996,\n",
       " 'f381': 23.9187603,\n",
       " 'f355': 5167.61914,\n",
       " 'f322': 12118.992189999999,\n",
       " 'f325': 7225.759155000001,\n",
       " 'f295': 2938.73242,\n",
       " 'f289': 2473.59375,\n",
       " 'f507': 2090.59668,\n",
       " 'f519': 1669.60376,\n",
       " 'f195': 6715.82813,\n",
       " 'f333': 6615.82983,\n",
       " 'f590': 8826.83105,\n",
       " 'f306': 7527.49707,\n",
       " 'f164': 2203.08301,\n",
       " 'f598': 6069.59668,\n",
       " 'f49': 2424.4375,\n",
       " 'f473': 994.900879,\n",
       " 'f527': 24.586853,\n",
       " 'f581': 10122.89968,\n",
       " 'f69': 32.569036499999996,\n",
       " 'f572': 5863.77344,\n",
       " 'f109': 5327.05176,\n",
       " 'f594': 5211.918455,\n",
       " 'f539': 1182.91382,\n",
       " 'f586': 7553.786620000001,\n",
       " 'f169': 4223.20239,\n",
       " 'f600': 2056.2916666666665,\n",
       " 'f186': 2088.18945,\n",
       " 'f321': 8761.215816666667,\n",
       " 'f12': 6454.91016,\n",
       " 'f10': 4710.24365,\n",
       " 'f13': 4901.355225,\n",
       " 'f212': 5143.6438800000005,\n",
       " 'f582': 6669.96826,\n",
       " 'f302': 5993.24707,\n",
       " 'f301': 5834.86328,\n",
       " 'f70': 3904.15869,\n",
       " 'f370': 1176.73438,\n",
       " 'f440': 574.704102,\n",
       " 'f425': 577.469727,\n",
       " 'f436': 477.722412,\n",
       " 'f127': 298.766602,\n",
       " 'f138': 326.936523,\n",
       " 'f569': 3039.39404,\n",
       " 'f356': 2735.64038,\n",
       " 'f43': 1425.8418,\n",
       " 'f549': 1888.10498,\n",
       " 'f161': 2042.7373,\n",
       " 'f577': 5121.67236,\n",
       " 'f318': 8694.04102,\n",
       " 'f336': 4647.03564,\n",
       " 'f593': 4637.53516,\n",
       " 'f450': 4480.77588,\n",
       " 'f447': 1273.72266,\n",
       " 'f320': 4842.81055,\n",
       " 'f369': 1332.78711,\n",
       " 'f492': 916.255859,\n",
       " 'f334': 4113.02295,\n",
       " 'f479': 3929.58594,\n",
       " 'f300': 4379.02734,\n",
       " 'f426': 470.400177,\n",
       " 'f130': 288.938965,\n",
       " 'f502': 2060.19189,\n",
       " 'f421': 1753.9541,\n",
       " 'f52': 44.3162537,\n",
       " 'f25': 1436.14453,\n",
       " 'f22': 1581.3584}"
      ]
     },
     "execution_count": 29,
     "metadata": {},
     "output_type": "execute_result"
    }
   ],
   "source": [
    "model.get_score(importance_type='gain')"
   ]
  },
  {
   "cell_type": "code",
   "execution_count": 30,
   "id": "471c6358-fc9a-4fd2-b827-7f87583206e4",
   "metadata": {},
   "outputs": [
    {
     "data": {
      "image/svg+xml": [
       "<?xml version=\"1.0\" encoding=\"UTF-8\" standalone=\"no\"?>\r\n",
       "<!DOCTYPE svg PUBLIC \"-//W3C//DTD SVG 1.1//EN\"\r\n",
       " \"http://www.w3.org/Graphics/SVG/1.1/DTD/svg11.dtd\">\r\n",
       "<!-- Generated by graphviz version 2.49.0 (20210828.1703)\r\n",
       " -->\r\n",
       "<!-- Pages: 1 -->\r\n",
       "<svg width=\"1598pt\" height=\"479pt\"\r\n",
       " viewBox=\"0.00 0.00 1597.69 479.00\" xmlns=\"http://www.w3.org/2000/svg\" xmlns:xlink=\"http://www.w3.org/1999/xlink\">\r\n",
       "<g id=\"graph0\" class=\"graph\" transform=\"scale(1 1) rotate(0) translate(4 475)\">\r\n",
       "<polygon fill=\"white\" stroke=\"transparent\" points=\"-4,4 -4,-475 1593.69,-475 1593.69,4 -4,4\"/>\r\n",
       "<!-- 0 -->\r\n",
       "<g id=\"node1\" class=\"node\">\r\n",
       "<title>0</title>\r\n",
       "<ellipse fill=\"none\" stroke=\"black\" cx=\"1005.84\" cy=\"-453\" rx=\"43.59\" ry=\"18\"/>\r\n",
       "<text text-anchor=\"middle\" x=\"1005.84\" y=\"-449.3\" font-family=\"Times New Roman,serif\" font-size=\"14.00\">f564&lt;0.5</text>\r\n",
       "</g>\r\n",
       "<!-- 1 -->\r\n",
       "<g id=\"node2\" class=\"node\">\r\n",
       "<title>1</title>\r\n",
       "<ellipse fill=\"none\" stroke=\"black\" cx=\"939.84\" cy=\"-366\" rx=\"43.59\" ry=\"18\"/>\r\n",
       "<text text-anchor=\"middle\" x=\"939.84\" y=\"-362.3\" font-family=\"Times New Roman,serif\" font-size=\"14.00\">f291&lt;0.5</text>\r\n",
       "</g>\r\n",
       "<!-- 0&#45;&gt;1 -->\r\n",
       "<g id=\"edge1\" class=\"edge\">\r\n",
       "<title>0&#45;&gt;1</title>\r\n",
       "<path fill=\"none\" stroke=\"#0000ff\" d=\"M988.64,-436.35C982.69,-430.55 976.18,-423.73 970.84,-417 964.85,-409.44 959.06,-400.65 954.14,-392.57\"/>\r\n",
       "<polygon fill=\"#0000ff\" stroke=\"#0000ff\" points=\"957.09,-390.68 948.99,-383.85 951.06,-394.24 957.09,-390.68\"/>\r\n",
       "<text text-anchor=\"middle\" x=\"1005.34\" y=\"-405.8\" font-family=\"Times New Roman,serif\" font-size=\"14.00\">yes, missing</text>\r\n",
       "</g>\r\n",
       "<!-- 2 -->\r\n",
       "<g id=\"node3\" class=\"node\">\r\n",
       "<title>2</title>\r\n",
       "<ellipse fill=\"none\" stroke=\"black\" cx=\"1145.84\" cy=\"-366\" rx=\"43.59\" ry=\"18\"/>\r\n",
       "<text text-anchor=\"middle\" x=\"1145.84\" y=\"-362.3\" font-family=\"Times New Roman,serif\" font-size=\"14.00\">f550&lt;0.5</text>\r\n",
       "</g>\r\n",
       "<!-- 0&#45;&gt;2 -->\r\n",
       "<g id=\"edge2\" class=\"edge\">\r\n",
       "<title>0&#45;&gt;2</title>\r\n",
       "<path fill=\"none\" stroke=\"#ff0000\" d=\"M1029.28,-437.77C1052.39,-423.74 1087.91,-402.17 1113.67,-386.54\"/>\r\n",
       "<polygon fill=\"#ff0000\" stroke=\"#ff0000\" points=\"1115.6,-389.46 1122.33,-381.27 1111.97,-383.47 1115.6,-389.46\"/>\r\n",
       "<text text-anchor=\"middle\" x=\"1092.34\" y=\"-405.8\" font-family=\"Times New Roman,serif\" font-size=\"14.00\">no</text>\r\n",
       "</g>\r\n",
       "<!-- 3 -->\r\n",
       "<g id=\"node4\" class=\"node\">\r\n",
       "<title>3</title>\r\n",
       "<ellipse fill=\"none\" stroke=\"black\" cx=\"649.84\" cy=\"-279\" rx=\"43.59\" ry=\"18\"/>\r\n",
       "<text text-anchor=\"middle\" x=\"649.84\" y=\"-275.3\" font-family=\"Times New Roman,serif\" font-size=\"14.00\">f556&lt;0.5</text>\r\n",
       "</g>\r\n",
       "<!-- 1&#45;&gt;3 -->\r\n",
       "<g id=\"edge3\" class=\"edge\">\r\n",
       "<title>1&#45;&gt;3</title>\r\n",
       "<path fill=\"none\" stroke=\"#0000ff\" d=\"M905.44,-354.92C852.68,-339.45 751.82,-309.89 693.82,-292.89\"/>\r\n",
       "<polygon fill=\"#0000ff\" stroke=\"#0000ff\" points=\"694.79,-289.53 684.2,-290.07 692.82,-296.24 694.79,-289.53\"/>\r\n",
       "<text text-anchor=\"middle\" x=\"847.34\" y=\"-318.8\" font-family=\"Times New Roman,serif\" font-size=\"14.00\">yes, missing</text>\r\n",
       "</g>\r\n",
       "<!-- 4 -->\r\n",
       "<g id=\"node5\" class=\"node\">\r\n",
       "<title>4</title>\r\n",
       "<ellipse fill=\"none\" stroke=\"black\" cx=\"939.84\" cy=\"-279\" rx=\"70.69\" ry=\"18\"/>\r\n",
       "<text text-anchor=\"middle\" x=\"939.84\" y=\"-275.3\" font-family=\"Times New Roman,serif\" font-size=\"14.00\">leaf=132.825012</text>\r\n",
       "</g>\r\n",
       "<!-- 1&#45;&gt;4 -->\r\n",
       "<g id=\"edge4\" class=\"edge\">\r\n",
       "<title>1&#45;&gt;4</title>\r\n",
       "<path fill=\"none\" stroke=\"#ff0000\" d=\"M939.84,-347.8C939.84,-336.16 939.84,-320.55 939.84,-307.24\"/>\r\n",
       "<polygon fill=\"#ff0000\" stroke=\"#ff0000\" points=\"943.34,-307.18 939.84,-297.18 936.34,-307.18 943.34,-307.18\"/>\r\n",
       "<text text-anchor=\"middle\" x=\"947.34\" y=\"-318.8\" font-family=\"Times New Roman,serif\" font-size=\"14.00\">no</text>\r\n",
       "</g>\r\n",
       "<!-- 5 -->\r\n",
       "<g id=\"node18\" class=\"node\">\r\n",
       "<title>5</title>\r\n",
       "<ellipse fill=\"none\" stroke=\"black\" cx=\"1145.84\" cy=\"-279\" rx=\"43.59\" ry=\"18\"/>\r\n",
       "<text text-anchor=\"middle\" x=\"1145.84\" y=\"-275.3\" font-family=\"Times New Roman,serif\" font-size=\"14.00\">f347&lt;0.5</text>\r\n",
       "</g>\r\n",
       "<!-- 2&#45;&gt;5 -->\r\n",
       "<g id=\"edge17\" class=\"edge\">\r\n",
       "<title>2&#45;&gt;5</title>\r\n",
       "<path fill=\"none\" stroke=\"#0000ff\" d=\"M1145.84,-347.8C1145.84,-336.16 1145.84,-320.55 1145.84,-307.24\"/>\r\n",
       "<polygon fill=\"#0000ff\" stroke=\"#0000ff\" points=\"1149.34,-307.18 1145.84,-297.18 1142.34,-307.18 1149.34,-307.18\"/>\r\n",
       "<text text-anchor=\"middle\" x=\"1180.34\" y=\"-318.8\" font-family=\"Times New Roman,serif\" font-size=\"14.00\">yes, missing</text>\r\n",
       "</g>\r\n",
       "<!-- 6 -->\r\n",
       "<g id=\"node19\" class=\"node\">\r\n",
       "<title>6</title>\r\n",
       "<ellipse fill=\"none\" stroke=\"black\" cx=\"1358.84\" cy=\"-279\" rx=\"34.39\" ry=\"18\"/>\r\n",
       "<text text-anchor=\"middle\" x=\"1358.84\" y=\"-275.3\" font-family=\"Times New Roman,serif\" font-size=\"14.00\">f6&lt;0.5</text>\r\n",
       "</g>\r\n",
       "<!-- 2&#45;&gt;6 -->\r\n",
       "<g id=\"edge18\" class=\"edge\">\r\n",
       "<title>2&#45;&gt;6</title>\r\n",
       "<path fill=\"none\" stroke=\"#ff0000\" d=\"M1176.36,-352.82C1215.13,-337.35 1281.91,-310.7 1323.04,-294.29\"/>\r\n",
       "<polygon fill=\"#ff0000\" stroke=\"#ff0000\" points=\"1324.42,-297.51 1332.41,-290.55 1321.83,-291 1324.42,-297.51\"/>\r\n",
       "<text text-anchor=\"middle\" x=\"1273.34\" y=\"-318.8\" font-family=\"Times New Roman,serif\" font-size=\"14.00\">no</text>\r\n",
       "</g>\r\n",
       "<!-- 7 -->\r\n",
       "<g id=\"node6\" class=\"node\">\r\n",
       "<title>7</title>\r\n",
       "<ellipse fill=\"none\" stroke=\"black\" cx=\"442.84\" cy=\"-192\" rx=\"43.59\" ry=\"18\"/>\r\n",
       "<text text-anchor=\"middle\" x=\"442.84\" y=\"-188.3\" font-family=\"Times New Roman,serif\" font-size=\"14.00\">f555&lt;0.5</text>\r\n",
       "</g>\r\n",
       "<!-- 3&#45;&gt;7 -->\r\n",
       "<g id=\"edge5\" class=\"edge\">\r\n",
       "<title>3&#45;&gt;7</title>\r\n",
       "<path fill=\"none\" stroke=\"#0000ff\" d=\"M619.74,-265.64C583.38,-250.71 522.12,-225.55 482.09,-209.11\"/>\r\n",
       "<polygon fill=\"#0000ff\" stroke=\"#0000ff\" points=\"483.22,-205.8 472.64,-205.24 480.56,-212.27 483.22,-205.8\"/>\r\n",
       "<text text-anchor=\"middle\" x=\"593.34\" y=\"-231.8\" font-family=\"Times New Roman,serif\" font-size=\"14.00\">yes, missing</text>\r\n",
       "</g>\r\n",
       "<!-- 8 -->\r\n",
       "<g id=\"node7\" class=\"node\">\r\n",
       "<title>8</title>\r\n",
       "<ellipse fill=\"none\" stroke=\"black\" cx=\"649.84\" cy=\"-192\" rx=\"43.59\" ry=\"18\"/>\r\n",
       "<text text-anchor=\"middle\" x=\"649.84\" y=\"-188.3\" font-family=\"Times New Roman,serif\" font-size=\"14.00\">f551&lt;0.5</text>\r\n",
       "</g>\r\n",
       "<!-- 3&#45;&gt;8 -->\r\n",
       "<g id=\"edge6\" class=\"edge\">\r\n",
       "<title>3&#45;&gt;8</title>\r\n",
       "<path fill=\"none\" stroke=\"#ff0000\" d=\"M649.84,-260.8C649.84,-249.16 649.84,-233.55 649.84,-220.24\"/>\r\n",
       "<polygon fill=\"#ff0000\" stroke=\"#ff0000\" points=\"653.34,-220.18 649.84,-210.18 646.34,-220.18 653.34,-220.18\"/>\r\n",
       "<text text-anchor=\"middle\" x=\"657.34\" y=\"-231.8\" font-family=\"Times New Roman,serif\" font-size=\"14.00\">no</text>\r\n",
       "</g>\r\n",
       "<!-- 13 -->\r\n",
       "<g id=\"node8\" class=\"node\">\r\n",
       "<title>13</title>\r\n",
       "<ellipse fill=\"none\" stroke=\"black\" cx=\"230.84\" cy=\"-105\" rx=\"43.59\" ry=\"18\"/>\r\n",
       "<text text-anchor=\"middle\" x=\"230.84\" y=\"-101.3\" font-family=\"Times New Roman,serif\" font-size=\"14.00\">f290&lt;0.5</text>\r\n",
       "</g>\r\n",
       "<!-- 7&#45;&gt;13 -->\r\n",
       "<g id=\"edge7\" class=\"edge\">\r\n",
       "<title>7&#45;&gt;13</title>\r\n",
       "<path fill=\"none\" stroke=\"#0000ff\" d=\"M412.47,-178.82C375.16,-163.86 311.77,-138.45 270.61,-121.94\"/>\r\n",
       "<polygon fill=\"#0000ff\" stroke=\"#0000ff\" points=\"271.75,-118.63 261.16,-118.16 269.14,-125.13 271.75,-118.63\"/>\r\n",
       "<text text-anchor=\"middle\" x=\"384.34\" y=\"-144.8\" font-family=\"Times New Roman,serif\" font-size=\"14.00\">yes, missing</text>\r\n",
       "</g>\r\n",
       "<!-- 14 -->\r\n",
       "<g id=\"node9\" class=\"node\">\r\n",
       "<title>14</title>\r\n",
       "<ellipse fill=\"none\" stroke=\"black\" cx=\"442.84\" cy=\"-105\" rx=\"43.59\" ry=\"18\"/>\r\n",
       "<text text-anchor=\"middle\" x=\"442.84\" y=\"-101.3\" font-family=\"Times New Roman,serif\" font-size=\"14.00\">f551&lt;0.5</text>\r\n",
       "</g>\r\n",
       "<!-- 7&#45;&gt;14 -->\r\n",
       "<g id=\"edge8\" class=\"edge\">\r\n",
       "<title>7&#45;&gt;14</title>\r\n",
       "<path fill=\"none\" stroke=\"#ff0000\" d=\"M442.84,-173.8C442.84,-162.16 442.84,-146.55 442.84,-133.24\"/>\r\n",
       "<polygon fill=\"#ff0000\" stroke=\"#ff0000\" points=\"446.34,-133.18 442.84,-123.18 439.34,-133.18 446.34,-133.18\"/>\r\n",
       "<text text-anchor=\"middle\" x=\"450.34\" y=\"-144.8\" font-family=\"Times New Roman,serif\" font-size=\"14.00\">no</text>\r\n",
       "</g>\r\n",
       "<!-- 15 -->\r\n",
       "<g id=\"node14\" class=\"node\">\r\n",
       "<title>15</title>\r\n",
       "<ellipse fill=\"none\" stroke=\"black\" cx=\"627.84\" cy=\"-105\" rx=\"70.69\" ry=\"18\"/>\r\n",
       "<text text-anchor=\"middle\" x=\"627.84\" y=\"-101.3\" font-family=\"Times New Roman,serif\" font-size=\"14.00\">leaf=44.0562515</text>\r\n",
       "</g>\r\n",
       "<!-- 8&#45;&gt;15 -->\r\n",
       "<g id=\"edge13\" class=\"edge\">\r\n",
       "<title>8&#45;&gt;15</title>\r\n",
       "<path fill=\"none\" stroke=\"#0000ff\" d=\"M645.39,-173.8C642.38,-162.16 638.34,-146.55 634.89,-133.24\"/>\r\n",
       "<polygon fill=\"#0000ff\" stroke=\"#0000ff\" points=\"638.18,-131.98 632.29,-123.18 631.41,-133.73 638.18,-131.98\"/>\r\n",
       "<text text-anchor=\"middle\" x=\"675.34\" y=\"-144.8\" font-family=\"Times New Roman,serif\" font-size=\"14.00\">yes, missing</text>\r\n",
       "</g>\r\n",
       "<!-- 16 -->\r\n",
       "<g id=\"node15\" class=\"node\">\r\n",
       "<title>16</title>\r\n",
       "<ellipse fill=\"none\" stroke=\"black\" cx=\"759.84\" cy=\"-105\" rx=\"43.59\" ry=\"18\"/>\r\n",
       "<text text-anchor=\"middle\" x=\"759.84\" y=\"-101.3\" font-family=\"Times New Roman,serif\" font-size=\"14.00\">f131&lt;0.5</text>\r\n",
       "</g>\r\n",
       "<!-- 8&#45;&gt;16 -->\r\n",
       "<g id=\"edge14\" class=\"edge\">\r\n",
       "<title>8&#45;&gt;16</title>\r\n",
       "<path fill=\"none\" stroke=\"#ff0000\" d=\"M677.84,-178.21C689.51,-172.25 702.87,-164.58 713.84,-156 723.38,-148.54 732.66,-139.03 740.35,-130.31\"/>\r\n",
       "<polygon fill=\"#ff0000\" stroke=\"#ff0000\" points=\"743.1,-132.48 746.94,-122.61 737.78,-127.94 743.1,-132.48\"/>\r\n",
       "<text text-anchor=\"middle\" x=\"738.34\" y=\"-144.8\" font-family=\"Times New Roman,serif\" font-size=\"14.00\">no</text>\r\n",
       "</g>\r\n",
       "<!-- 21 -->\r\n",
       "<g id=\"node10\" class=\"node\">\r\n",
       "<title>21</title>\r\n",
       "<ellipse fill=\"none\" stroke=\"black\" cx=\"70.84\" cy=\"-18\" rx=\"70.69\" ry=\"18\"/>\r\n",
       "<text text-anchor=\"middle\" x=\"70.84\" y=\"-14.3\" font-family=\"Times New Roman,serif\" font-size=\"14.00\">leaf=46.5173645</text>\r\n",
       "</g>\r\n",
       "<!-- 13&#45;&gt;21 -->\r\n",
       "<g id=\"edge9\" class=\"edge\">\r\n",
       "<title>13&#45;&gt;21</title>\r\n",
       "<path fill=\"none\" stroke=\"#0000ff\" d=\"M202.87,-91.19C189.18,-84.76 172.52,-76.72 157.84,-69 140.57,-59.91 121.76,-49.21 106.06,-40.04\"/>\r\n",
       "<polygon fill=\"#0000ff\" stroke=\"#0000ff\" points=\"107.61,-36.88 97.21,-34.84 104.06,-42.92 107.61,-36.88\"/>\r\n",
       "<text text-anchor=\"middle\" x=\"192.34\" y=\"-57.8\" font-family=\"Times New Roman,serif\" font-size=\"14.00\">yes, missing</text>\r\n",
       "</g>\r\n",
       "<!-- 22 -->\r\n",
       "<g id=\"node11\" class=\"node\">\r\n",
       "<title>22</title>\r\n",
       "<ellipse fill=\"none\" stroke=\"black\" cx=\"230.84\" cy=\"-18\" rx=\"70.69\" ry=\"18\"/>\r\n",
       "<text text-anchor=\"middle\" x=\"230.84\" y=\"-14.3\" font-family=\"Times New Roman,serif\" font-size=\"14.00\">leaf=112.875008</text>\r\n",
       "</g>\r\n",
       "<!-- 13&#45;&gt;22 -->\r\n",
       "<g id=\"edge10\" class=\"edge\">\r\n",
       "<title>13&#45;&gt;22</title>\r\n",
       "<path fill=\"none\" stroke=\"#ff0000\" d=\"M230.84,-86.8C230.84,-75.16 230.84,-59.55 230.84,-46.24\"/>\r\n",
       "<polygon fill=\"#ff0000\" stroke=\"#ff0000\" points=\"234.34,-46.18 230.84,-36.18 227.34,-46.18 234.34,-46.18\"/>\r\n",
       "<text text-anchor=\"middle\" x=\"238.34\" y=\"-57.8\" font-family=\"Times New Roman,serif\" font-size=\"14.00\">no</text>\r\n",
       "</g>\r\n",
       "<!-- 23 -->\r\n",
       "<g id=\"node12\" class=\"node\">\r\n",
       "<title>23</title>\r\n",
       "<ellipse fill=\"none\" stroke=\"black\" cx=\"390.84\" cy=\"-18\" rx=\"70.69\" ry=\"18\"/>\r\n",
       "<text text-anchor=\"middle\" x=\"390.84\" y=\"-14.3\" font-family=\"Times New Roman,serif\" font-size=\"14.00\">leaf=45.2475014</text>\r\n",
       "</g>\r\n",
       "<!-- 14&#45;&gt;23 -->\r\n",
       "<g id=\"edge11\" class=\"edge\">\r\n",
       "<title>14&#45;&gt;23</title>\r\n",
       "<path fill=\"none\" stroke=\"#0000ff\" d=\"M432.57,-87.21C425.14,-75.06 414.97,-58.43 406.52,-44.63\"/>\r\n",
       "<polygon fill=\"#0000ff\" stroke=\"#0000ff\" points=\"409.48,-42.75 401.27,-36.05 403.51,-46.41 409.48,-42.75\"/>\r\n",
       "<text text-anchor=\"middle\" x=\"455.34\" y=\"-57.8\" font-family=\"Times New Roman,serif\" font-size=\"14.00\">yes, missing</text>\r\n",
       "</g>\r\n",
       "<!-- 24 -->\r\n",
       "<g id=\"node13\" class=\"node\">\r\n",
       "<title>24</title>\r\n",
       "<ellipse fill=\"none\" stroke=\"black\" cx=\"550.84\" cy=\"-18\" rx=\"70.69\" ry=\"18\"/>\r\n",
       "<text text-anchor=\"middle\" x=\"550.84\" y=\"-14.3\" font-family=\"Times New Roman,serif\" font-size=\"14.00\">leaf=19.9096165</text>\r\n",
       "</g>\r\n",
       "<!-- 14&#45;&gt;24 -->\r\n",
       "<g id=\"edge12\" class=\"edge\">\r\n",
       "<title>14&#45;&gt;24</title>\r\n",
       "<path fill=\"none\" stroke=\"#ff0000\" d=\"M465.34,-89.4C474.37,-83.32 484.77,-76.05 493.84,-69 504.48,-60.73 515.72,-51.08 525.39,-42.48\"/>\r\n",
       "<polygon fill=\"#ff0000\" stroke=\"#ff0000\" points=\"527.99,-44.84 533.08,-35.55 523.31,-39.64 527.99,-44.84\"/>\r\n",
       "<text text-anchor=\"middle\" x=\"519.34\" y=\"-57.8\" font-family=\"Times New Roman,serif\" font-size=\"14.00\">no</text>\r\n",
       "</g>\r\n",
       "<!-- 25 -->\r\n",
       "<g id=\"node16\" class=\"node\">\r\n",
       "<title>25</title>\r\n",
       "<ellipse fill=\"none\" stroke=\"black\" cx=\"710.84\" cy=\"-18\" rx=\"70.69\" ry=\"18\"/>\r\n",
       "<text text-anchor=\"middle\" x=\"710.84\" y=\"-14.3\" font-family=\"Times New Roman,serif\" font-size=\"14.00\">leaf=10.0956516</text>\r\n",
       "</g>\r\n",
       "<!-- 16&#45;&gt;25 -->\r\n",
       "<g id=\"edge15\" class=\"edge\">\r\n",
       "<title>16&#45;&gt;25</title>\r\n",
       "<path fill=\"none\" stroke=\"#0000ff\" d=\"M750.16,-87.21C743.23,-75.18 733.76,-58.75 725.85,-45.03\"/>\r\n",
       "<polygon fill=\"#0000ff\" stroke=\"#0000ff\" points=\"728.7,-42.96 720.67,-36.05 722.63,-46.46 728.7,-42.96\"/>\r\n",
       "<text text-anchor=\"middle\" x=\"773.34\" y=\"-57.8\" font-family=\"Times New Roman,serif\" font-size=\"14.00\">yes, missing</text>\r\n",
       "</g>\r\n",
       "<!-- 26 -->\r\n",
       "<g id=\"node17\" class=\"node\">\r\n",
       "<title>26</title>\r\n",
       "<ellipse fill=\"none\" stroke=\"black\" cx=\"874.84\" cy=\"-18\" rx=\"75.29\" ry=\"18\"/>\r\n",
       "<text text-anchor=\"middle\" x=\"874.84\" y=\"-14.3\" font-family=\"Times New Roman,serif\" font-size=\"14.00\">leaf=0.525000036</text>\r\n",
       "</g>\r\n",
       "<!-- 16&#45;&gt;26 -->\r\n",
       "<g id=\"edge16\" class=\"edge\">\r\n",
       "<title>16&#45;&gt;26</title>\r\n",
       "<path fill=\"none\" stroke=\"#ff0000\" d=\"M782.38,-89.39C791.62,-83.25 802.36,-75.94 811.84,-69 823.61,-60.39 836.25,-50.49 847.11,-41.78\"/>\r\n",
       "<polygon fill=\"#ff0000\" stroke=\"#ff0000\" points=\"849.43,-44.4 855.01,-35.4 845.03,-38.96 849.43,-44.4\"/>\r\n",
       "<text text-anchor=\"middle\" x=\"839.34\" y=\"-57.8\" font-family=\"Times New Roman,serif\" font-size=\"14.00\">no</text>\r\n",
       "</g>\r\n",
       "<!-- 9 -->\r\n",
       "<g id=\"node20\" class=\"node\">\r\n",
       "<title>9</title>\r\n",
       "<ellipse fill=\"none\" stroke=\"black\" cx=\"1068.84\" cy=\"-192\" rx=\"43.59\" ry=\"18\"/>\r\n",
       "<text text-anchor=\"middle\" x=\"1068.84\" y=\"-188.3\" font-family=\"Times New Roman,serif\" font-size=\"14.00\">f346&lt;0.5</text>\r\n",
       "</g>\r\n",
       "<!-- 5&#45;&gt;9 -->\r\n",
       "<g id=\"edge19\" class=\"edge\">\r\n",
       "<title>5&#45;&gt;9</title>\r\n",
       "<path fill=\"none\" stroke=\"#0000ff\" d=\"M1122.27,-263.73C1113.93,-257.96 1104.88,-250.82 1097.84,-243 1091.4,-235.85 1085.72,-227.04 1081.13,-218.82\"/>\r\n",
       "<polygon fill=\"#0000ff\" stroke=\"#0000ff\" points=\"1084.19,-217.11 1076.42,-209.9 1077.99,-220.38 1084.19,-217.11\"/>\r\n",
       "<text text-anchor=\"middle\" x=\"1132.34\" y=\"-231.8\" font-family=\"Times New Roman,serif\" font-size=\"14.00\">yes, missing</text>\r\n",
       "</g>\r\n",
       "<!-- 10 -->\r\n",
       "<g id=\"node21\" class=\"node\">\r\n",
       "<title>10</title>\r\n",
       "<ellipse fill=\"none\" stroke=\"black\" cx=\"1200.84\" cy=\"-192\" rx=\"70.69\" ry=\"18\"/>\r\n",
       "<text text-anchor=\"middle\" x=\"1200.84\" y=\"-188.3\" font-family=\"Times New Roman,serif\" font-size=\"14.00\">leaf=16.5750008</text>\r\n",
       "</g>\r\n",
       "<!-- 5&#45;&gt;10 -->\r\n",
       "<g id=\"edge20\" class=\"edge\">\r\n",
       "<title>5&#45;&gt;10</title>\r\n",
       "<path fill=\"none\" stroke=\"#ff0000\" d=\"M1156.71,-261.21C1164.57,-249.06 1175.33,-232.43 1184.26,-218.63\"/>\r\n",
       "<polygon fill=\"#ff0000\" stroke=\"#ff0000\" points=\"1187.32,-220.35 1189.81,-210.05 1181.44,-216.54 1187.32,-220.35\"/>\r\n",
       "<text text-anchor=\"middle\" x=\"1184.34\" y=\"-231.8\" font-family=\"Times New Roman,serif\" font-size=\"14.00\">no</text>\r\n",
       "</g>\r\n",
       "<!-- 11 -->\r\n",
       "<g id=\"node26\" class=\"node\">\r\n",
       "<title>11</title>\r\n",
       "<ellipse fill=\"none\" stroke=\"black\" cx=\"1358.84\" cy=\"-192\" rx=\"38.99\" ry=\"18\"/>\r\n",
       "<text text-anchor=\"middle\" x=\"1358.84\" y=\"-188.3\" font-family=\"Times New Roman,serif\" font-size=\"14.00\">f18&lt;0.5</text>\r\n",
       "</g>\r\n",
       "<!-- 6&#45;&gt;11 -->\r\n",
       "<g id=\"edge25\" class=\"edge\">\r\n",
       "<title>6&#45;&gt;11</title>\r\n",
       "<path fill=\"none\" stroke=\"#0000ff\" d=\"M1358.84,-260.8C1358.84,-249.16 1358.84,-233.55 1358.84,-220.24\"/>\r\n",
       "<polygon fill=\"#0000ff\" stroke=\"#0000ff\" points=\"1362.34,-220.18 1358.84,-210.18 1355.34,-220.18 1362.34,-220.18\"/>\r\n",
       "<text text-anchor=\"middle\" x=\"1393.34\" y=\"-231.8\" font-family=\"Times New Roman,serif\" font-size=\"14.00\">yes, missing</text>\r\n",
       "</g>\r\n",
       "<!-- 12 -->\r\n",
       "<g id=\"node27\" class=\"node\">\r\n",
       "<title>12</title>\r\n",
       "<ellipse fill=\"none\" stroke=\"black\" cx=\"1486.84\" cy=\"-192\" rx=\"70.69\" ry=\"18\"/>\r\n",
       "<text text-anchor=\"middle\" x=\"1486.84\" y=\"-188.3\" font-family=\"Times New Roman,serif\" font-size=\"14.00\">leaf=11.1750002</text>\r\n",
       "</g>\r\n",
       "<!-- 6&#45;&gt;12 -->\r\n",
       "<g id=\"edge26\" class=\"edge\">\r\n",
       "<title>6&#45;&gt;12</title>\r\n",
       "<path fill=\"none\" stroke=\"#ff0000\" d=\"M1385.52,-267.44C1399.81,-261.25 1417.39,-252.73 1431.84,-243 1443.05,-235.46 1454.29,-225.72 1463.66,-216.85\"/>\r\n",
       "<polygon fill=\"#ff0000\" stroke=\"#ff0000\" points=\"1466.32,-219.14 1471.05,-209.66 1461.44,-214.13 1466.32,-219.14\"/>\r\n",
       "<text text-anchor=\"middle\" x=\"1459.34\" y=\"-231.8\" font-family=\"Times New Roman,serif\" font-size=\"14.00\">no</text>\r\n",
       "</g>\r\n",
       "<!-- 17 -->\r\n",
       "<g id=\"node22\" class=\"node\">\r\n",
       "<title>17</title>\r\n",
       "<ellipse fill=\"none\" stroke=\"black\" cx=\"1046.84\" cy=\"-105\" rx=\"43.59\" ry=\"18\"/>\r\n",
       "<text text-anchor=\"middle\" x=\"1046.84\" y=\"-101.3\" font-family=\"Times New Roman,serif\" font-size=\"14.00\">f352&lt;0.5</text>\r\n",
       "</g>\r\n",
       "<!-- 9&#45;&gt;17 -->\r\n",
       "<g id=\"edge21\" class=\"edge\">\r\n",
       "<title>9&#45;&gt;17</title>\r\n",
       "<path fill=\"none\" stroke=\"#0000ff\" d=\"M1064.39,-173.8C1061.38,-162.16 1057.34,-146.55 1053.89,-133.24\"/>\r\n",
       "<polygon fill=\"#0000ff\" stroke=\"#0000ff\" points=\"1057.18,-131.98 1051.29,-123.18 1050.41,-133.73 1057.18,-131.98\"/>\r\n",
       "<text text-anchor=\"middle\" x=\"1094.34\" y=\"-144.8\" font-family=\"Times New Roman,serif\" font-size=\"14.00\">yes, missing</text>\r\n",
       "</g>\r\n",
       "<!-- 18 -->\r\n",
       "<g id=\"node23\" class=\"node\">\r\n",
       "<title>18</title>\r\n",
       "<ellipse fill=\"none\" stroke=\"black\" cx=\"1161.84\" cy=\"-105\" rx=\"53.09\" ry=\"18\"/>\r\n",
       "<text text-anchor=\"middle\" x=\"1161.84\" y=\"-101.3\" font-family=\"Times New Roman,serif\" font-size=\"14.00\">leaf=22.875</text>\r\n",
       "</g>\r\n",
       "<!-- 9&#45;&gt;18 -->\r\n",
       "<g id=\"edge22\" class=\"edge\">\r\n",
       "<title>9&#45;&gt;18</title>\r\n",
       "<path fill=\"none\" stroke=\"#ff0000\" d=\"M1098.79,-178.85C1110.37,-173.13 1123.14,-165.46 1132.84,-156 1139.73,-149.28 1145.53,-140.58 1150.09,-132.32\"/>\r\n",
       "<polygon fill=\"#ff0000\" stroke=\"#ff0000\" points=\"1153.26,-133.82 1154.7,-123.32 1147.03,-130.63 1153.26,-133.82\"/>\r\n",
       "<text text-anchor=\"middle\" x=\"1152.34\" y=\"-144.8\" font-family=\"Times New Roman,serif\" font-size=\"14.00\">no</text>\r\n",
       "</g>\r\n",
       "<!-- 27 -->\r\n",
       "<g id=\"node24\" class=\"node\">\r\n",
       "<title>27</title>\r\n",
       "<ellipse fill=\"none\" stroke=\"black\" cx=\"1038.84\" cy=\"-18\" rx=\"70.69\" ry=\"18\"/>\r\n",
       "<text text-anchor=\"middle\" x=\"1038.84\" y=\"-14.3\" font-family=\"Times New Roman,serif\" font-size=\"14.00\">leaf=122.827499</text>\r\n",
       "</g>\r\n",
       "<!-- 17&#45;&gt;27 -->\r\n",
       "<g id=\"edge23\" class=\"edge\">\r\n",
       "<title>17&#45;&gt;27</title>\r\n",
       "<path fill=\"none\" stroke=\"#0000ff\" d=\"M1045.22,-86.8C1044.13,-75.16 1042.66,-59.55 1041.41,-46.24\"/>\r\n",
       "<polygon fill=\"#0000ff\" stroke=\"#0000ff\" points=\"1044.88,-45.8 1040.46,-36.18 1037.91,-46.46 1044.88,-45.8\"/>\r\n",
       "<text text-anchor=\"middle\" x=\"1078.34\" y=\"-57.8\" font-family=\"Times New Roman,serif\" font-size=\"14.00\">yes, missing</text>\r\n",
       "</g>\r\n",
       "<!-- 28 -->\r\n",
       "<g id=\"node25\" class=\"node\">\r\n",
       "<title>28</title>\r\n",
       "<ellipse fill=\"none\" stroke=\"black\" cx=\"1198.84\" cy=\"-18\" rx=\"70.69\" ry=\"18\"/>\r\n",
       "<text text-anchor=\"middle\" x=\"1198.84\" y=\"-14.3\" font-family=\"Times New Roman,serif\" font-size=\"14.00\">leaf=34.2750015</text>\r\n",
       "</g>\r\n",
       "<!-- 17&#45;&gt;28 -->\r\n",
       "<g id=\"edge24\" class=\"edge\">\r\n",
       "<title>17&#45;&gt;28</title>\r\n",
       "<path fill=\"none\" stroke=\"#ff0000\" d=\"M1074.38,-90.9C1087.39,-84.54 1103.05,-76.63 1116.84,-69 1133.03,-60.04 1150.59,-49.45 1165.3,-40.33\"/>\r\n",
       "<polygon fill=\"#ff0000\" stroke=\"#ff0000\" points=\"1167.41,-43.14 1174.04,-34.87 1163.71,-37.2 1167.41,-43.14\"/>\r\n",
       "<text text-anchor=\"middle\" x=\"1150.34\" y=\"-57.8\" font-family=\"Times New Roman,serif\" font-size=\"14.00\">no</text>\r\n",
       "</g>\r\n",
       "<!-- 19 -->\r\n",
       "<g id=\"node28\" class=\"node\">\r\n",
       "<title>19</title>\r\n",
       "<ellipse fill=\"none\" stroke=\"black\" cx=\"1358.84\" cy=\"-105\" rx=\"38.99\" ry=\"18\"/>\r\n",
       "<text text-anchor=\"middle\" x=\"1358.84\" y=\"-101.3\" font-family=\"Times New Roman,serif\" font-size=\"14.00\">f17&lt;0.5</text>\r\n",
       "</g>\r\n",
       "<!-- 11&#45;&gt;19 -->\r\n",
       "<g id=\"edge27\" class=\"edge\">\r\n",
       "<title>11&#45;&gt;19</title>\r\n",
       "<path fill=\"none\" stroke=\"#0000ff\" d=\"M1358.84,-173.8C1358.84,-162.16 1358.84,-146.55 1358.84,-133.24\"/>\r\n",
       "<polygon fill=\"#0000ff\" stroke=\"#0000ff\" points=\"1362.34,-133.18 1358.84,-123.18 1355.34,-133.18 1362.34,-133.18\"/>\r\n",
       "<text text-anchor=\"middle\" x=\"1393.34\" y=\"-144.8\" font-family=\"Times New Roman,serif\" font-size=\"14.00\">yes, missing</text>\r\n",
       "</g>\r\n",
       "<!-- 20 -->\r\n",
       "<g id=\"node29\" class=\"node\">\r\n",
       "<title>20</title>\r\n",
       "<ellipse fill=\"none\" stroke=\"black\" cx=\"1486.84\" cy=\"-105\" rx=\"70.69\" ry=\"18\"/>\r\n",
       "<text text-anchor=\"middle\" x=\"1486.84\" y=\"-101.3\" font-family=\"Times New Roman,serif\" font-size=\"14.00\">leaf=13.7250004</text>\r\n",
       "</g>\r\n",
       "<!-- 11&#45;&gt;20 -->\r\n",
       "<g id=\"edge28\" class=\"edge\">\r\n",
       "<title>11&#45;&gt;20</title>\r\n",
       "<path fill=\"none\" stroke=\"#ff0000\" d=\"M1387.62,-179.53C1401.5,-173.42 1418.09,-165.26 1431.84,-156 1443.05,-148.46 1454.29,-138.72 1463.66,-129.85\"/>\r\n",
       "<polygon fill=\"#ff0000\" stroke=\"#ff0000\" points=\"1466.32,-132.14 1471.05,-122.66 1461.44,-127.13 1466.32,-132.14\"/>\r\n",
       "<text text-anchor=\"middle\" x=\"1459.34\" y=\"-144.8\" font-family=\"Times New Roman,serif\" font-size=\"14.00\">no</text>\r\n",
       "</g>\r\n",
       "<!-- 29 -->\r\n",
       "<g id=\"node30\" class=\"node\">\r\n",
       "<title>29</title>\r\n",
       "<ellipse fill=\"none\" stroke=\"black\" cx=\"1358.84\" cy=\"-18\" rx=\"70.69\" ry=\"18\"/>\r\n",
       "<text text-anchor=\"middle\" x=\"1358.84\" y=\"-14.3\" font-family=\"Times New Roman,serif\" font-size=\"14.00\">leaf=62.7947426</text>\r\n",
       "</g>\r\n",
       "<!-- 19&#45;&gt;29 -->\r\n",
       "<g id=\"edge29\" class=\"edge\">\r\n",
       "<title>19&#45;&gt;29</title>\r\n",
       "<path fill=\"none\" stroke=\"#0000ff\" d=\"M1358.84,-86.8C1358.84,-75.16 1358.84,-59.55 1358.84,-46.24\"/>\r\n",
       "<polygon fill=\"#0000ff\" stroke=\"#0000ff\" points=\"1362.34,-46.18 1358.84,-36.18 1355.34,-46.18 1362.34,-46.18\"/>\r\n",
       "<text text-anchor=\"middle\" x=\"1393.34\" y=\"-57.8\" font-family=\"Times New Roman,serif\" font-size=\"14.00\">yes, missing</text>\r\n",
       "</g>\r\n",
       "<!-- 30 -->\r\n",
       "<g id=\"node31\" class=\"node\">\r\n",
       "<title>30</title>\r\n",
       "<ellipse fill=\"none\" stroke=\"black\" cx=\"1518.84\" cy=\"-18\" rx=\"70.69\" ry=\"18\"/>\r\n",
       "<text text-anchor=\"middle\" x=\"1518.84\" y=\"-14.3\" font-family=\"Times New Roman,serif\" font-size=\"14.00\">leaf=15.8250008</text>\r\n",
       "</g>\r\n",
       "<!-- 19&#45;&gt;30 -->\r\n",
       "<g id=\"edge30\" class=\"edge\">\r\n",
       "<title>19&#45;&gt;30</title>\r\n",
       "<path fill=\"none\" stroke=\"#ff0000\" d=\"M1385.44,-91.83C1399.38,-85.31 1416.67,-76.98 1431.84,-69 1449.11,-59.91 1467.93,-49.21 1483.63,-40.04\"/>\r\n",
       "<polygon fill=\"#ff0000\" stroke=\"#ff0000\" points=\"1485.63,-42.92 1492.48,-34.84 1482.08,-36.88 1485.63,-42.92\"/>\r\n",
       "<text text-anchor=\"middle\" x=\"1466.34\" y=\"-57.8\" font-family=\"Times New Roman,serif\" font-size=\"14.00\">no</text>\r\n",
       "</g>\r\n",
       "</g>\r\n",
       "</svg>\r\n"
      ],
      "text/plain": [
       "<graphviz.files.Source at 0x29763841630>"
      ]
     },
     "execution_count": 30,
     "metadata": {},
     "output_type": "execute_result"
    }
   ],
   "source": [
    "xgb.to_graphviz(model, num_trees=0)"
   ]
  },
  {
   "cell_type": "code",
   "execution_count": 31,
   "id": "3d66f43c-243d-4c29-8e55-8679fd60e0d1",
   "metadata": {},
   "outputs": [
    {
     "name": "stdout",
     "output_type": "stream",
     "text": [
      "[14:07:12] WARNING: C:/Users/Administrator/workspace/xgboost-win64_release_1.4.0/src/learner.cc:1095: Starting in XGBoost 1.3.0, the default evaluation metric used with the objective 'multi:softprob' was changed from 'merror' to 'mlogloss'. Explicitly set eval_metric if you'd like to restore the old behavior.\n"
     ]
    },
    {
     "data": {
      "text/plain": [
       "array([0.00959796, 0.01645038, 0.67658573, 0.29736587], dtype=float32)"
      ]
     },
     "execution_count": 31,
     "metadata": {},
     "output_type": "execute_result"
    },
    {
     "data": {
      "image/png": "[encoded data removed]",
      "text/plain": [
       "<Figure size 432x288 with 1 Axes>"
      ]
     },
     "metadata": {
      "needs_background": "light"
     },
     "output_type": "display_data"
    }
   ],
   "source": [
    "import xgboost\n",
    "from xgboost import XGBClassifier\n",
    "from sklearn.datasets import load_iris\n",
    "\n",
    "iris = load_iris()\n",
    "x, y = iris.data, iris.target\n",
    "model = XGBClassifier()\n",
    "model.fit(x, y)\n",
    "# 如果输入是没有表头的array,会自动以f1,f2开始,需要更换表头\n",
    "# 画树结构图的时候也需要替换表头\n",
    "\n",
    "model.get_booster().feature_names = iris.feature_names\n",
    "# max_num_features指定排名最靠前的多少特征\n",
    "# height=0.2指定柱状图每个柱子的粗细,默认是0.2\n",
    "# importance_type='weight'默认是用特征子树中的出现次数(被选择次数),还有\"gain\"和\"cover\"\n",
    "xgboost.plot_importance(model, max_num_features=5, importance_type='gain')\n",
    "\n",
    "# f_score就是feature score\n",
    "model.feature_importances_  # 这里的特征重要性就是gain进行归一化之后的值"
   ]
  },
  {
   "cell_type": "code",
   "execution_count": 32,
   "id": "dd4b31d8-f739-4a84-92f8-9afe79e24dec",
   "metadata": {},
   "outputs": [
    {
     "data": {
      "text/plain": [
       "1.0"
      ]
     },
     "execution_count": 32,
     "metadata": {},
     "output_type": "execute_result"
    }
   ],
   "source": [
    "model.feature_importances_.sum()"
   ]
  },
  {
   "cell_type": "code",
   "execution_count": 33,
   "id": "4c049132-c614-473f-8d0f-b19f32f17f4c",
   "metadata": {},
   "outputs": [
    {
     "data": {
      "text/plain": [
       "0.6766022886607264"
      ]
     },
     "execution_count": 33,
     "metadata": {},
     "output_type": "execute_result"
    }
   ],
   "source": [
    "2.9918/(2.9918+1.3149+0.0727+0.0424)"
   ]
  },
  {
   "cell_type": "code",
   "execution_count": 34,
   "id": "6f243925-4941-47e8-a29c-4125a1fd33ae",
   "metadata": {},
   "outputs": [
    {
     "data": {
      "image/svg+xml": [
       "<?xml version=\"1.0\" encoding=\"UTF-8\" standalone=\"no\"?>\r\n",
       "<!DOCTYPE svg PUBLIC \"-//W3C//DTD SVG 1.1//EN\"\r\n",
       " \"http://www.w3.org/Graphics/SVG/1.1/DTD/svg11.dtd\">\r\n",
       "<!-- Generated by graphviz version 2.49.0 (20210828.1703)\r\n",
       " -->\r\n",
       "<!-- Pages: 1 -->\r\n",
       "<svg width=\"955pt\" height=\"392pt\"\r\n",
       " viewBox=\"0.00 0.00 955.39 392.00\" xmlns=\"http://www.w3.org/2000/svg\" xmlns:xlink=\"http://www.w3.org/1999/xlink\">\r\n",
       "<g id=\"graph0\" class=\"graph\" transform=\"scale(1 1) rotate(0) translate(4 388)\">\r\n",
       "<polygon fill=\"white\" stroke=\"transparent\" points=\"-4,4 -4,-388 951.39,-388 951.39,4 -4,4\"/>\r\n",
       "<!-- 0 -->\r\n",
       "<g id=\"node1\" class=\"node\">\r\n",
       "<title>0</title>\r\n",
       "<ellipse fill=\"none\" stroke=\"black\" cx=\"439.39\" cy=\"-366\" rx=\"118.08\" ry=\"18\"/>\r\n",
       "<text text-anchor=\"middle\" x=\"439.39\" y=\"-362.3\" font-family=\"Times New Roman,serif\" font-size=\"14.00\">petal length (cm)&lt;2.45000005</text>\r\n",
       "</g>\r\n",
       "<!-- 1 -->\r\n",
       "<g id=\"node2\" class=\"node\">\r\n",
       "<title>1</title>\r\n",
       "<ellipse fill=\"none\" stroke=\"black\" cx=\"393.39\" cy=\"-279\" rx=\"77.99\" ry=\"18\"/>\r\n",
       "<text text-anchor=\"middle\" x=\"393.39\" y=\"-275.3\" font-family=\"Times New Roman,serif\" font-size=\"14.00\">leaf=&#45;0.215311036</text>\r\n",
       "</g>\r\n",
       "<!-- 0&#45;&gt;1 -->\r\n",
       "<g id=\"edge1\" class=\"edge\">\r\n",
       "<title>0&#45;&gt;1</title>\r\n",
       "<path fill=\"none\" stroke=\"#0000ff\" d=\"M430.08,-347.8C423.56,-335.74 414.72,-319.4 407.35,-305.79\"/>\r\n",
       "<polygon fill=\"#0000ff\" stroke=\"#0000ff\" points=\"410.37,-304.01 402.53,-296.89 404.21,-307.35 410.37,-304.01\"/>\r\n",
       "<text text-anchor=\"middle\" x=\"453.89\" y=\"-318.8\" font-family=\"Times New Roman,serif\" font-size=\"14.00\">yes, missing</text>\r\n",
       "</g>\r\n",
       "<!-- 2 -->\r\n",
       "<g id=\"node3\" class=\"node\">\r\n",
       "<title>2</title>\r\n",
       "<ellipse fill=\"none\" stroke=\"black\" cx=\"580.39\" cy=\"-279\" rx=\"90.98\" ry=\"18\"/>\r\n",
       "<text text-anchor=\"middle\" x=\"580.39\" y=\"-275.3\" font-family=\"Times New Roman,serif\" font-size=\"14.00\">petal width (cm)&lt;1.75</text>\r\n",
       "</g>\r\n",
       "<!-- 0&#45;&gt;2 -->\r\n",
       "<g id=\"edge2\" class=\"edge\">\r\n",
       "<title>0&#45;&gt;2</title>\r\n",
       "<path fill=\"none\" stroke=\"#ff0000\" d=\"M466.91,-348.41C489.09,-335.04 520.43,-316.15 544.56,-301.6\"/>\r\n",
       "<polygon fill=\"#ff0000\" stroke=\"#ff0000\" points=\"546.66,-304.42 553.42,-296.26 543.05,-298.43 546.66,-304.42\"/>\r\n",
       "<text text-anchor=\"middle\" x=\"525.89\" y=\"-318.8\" font-family=\"Times New Roman,serif\" font-size=\"14.00\">no</text>\r\n",
       "</g>\r\n",
       "<!-- 3 -->\r\n",
       "<g id=\"node4\" class=\"node\">\r\n",
       "<title>3</title>\r\n",
       "<ellipse fill=\"none\" stroke=\"black\" cx=\"433.39\" cy=\"-192\" rx=\"118.08\" ry=\"18\"/>\r\n",
       "<text text-anchor=\"middle\" x=\"433.39\" y=\"-188.3\" font-family=\"Times New Roman,serif\" font-size=\"14.00\">petal length (cm)&lt;4.94999981</text>\r\n",
       "</g>\r\n",
       "<!-- 2&#45;&gt;3 -->\r\n",
       "<g id=\"edge3\" class=\"edge\">\r\n",
       "<title>2&#45;&gt;3</title>\r\n",
       "<path fill=\"none\" stroke=\"#0000ff\" d=\"M552.4,-261.81C529.32,-248.47 496.39,-229.43 471.01,-214.75\"/>\r\n",
       "<polygon fill=\"#0000ff\" stroke=\"#0000ff\" points=\"472.45,-211.54 462.04,-209.56 468.94,-217.6 472.45,-211.54\"/>\r\n",
       "<text text-anchor=\"middle\" x=\"550.89\" y=\"-231.8\" font-family=\"Times New Roman,serif\" font-size=\"14.00\">yes, missing</text>\r\n",
       "</g>\r\n",
       "<!-- 4 -->\r\n",
       "<g id=\"node5\" class=\"node\">\r\n",
       "<title>4</title>\r\n",
       "<ellipse fill=\"none\" stroke=\"black\" cx=\"688.39\" cy=\"-192\" rx=\"118.08\" ry=\"18\"/>\r\n",
       "<text text-anchor=\"middle\" x=\"688.39\" y=\"-188.3\" font-family=\"Times New Roman,serif\" font-size=\"14.00\">petal length (cm)&lt;4.85000038</text>\r\n",
       "</g>\r\n",
       "<!-- 2&#45;&gt;4 -->\r\n",
       "<g id=\"edge4\" class=\"edge\">\r\n",
       "<title>2&#45;&gt;4</title>\r\n",
       "<path fill=\"none\" stroke=\"#ff0000\" d=\"M601.47,-261.41C617.87,-248.51 640.81,-230.45 659.01,-216.13\"/>\r\n",
       "<polygon fill=\"#ff0000\" stroke=\"#ff0000\" points=\"661.3,-218.77 667,-209.84 656.97,-213.27 661.3,-218.77\"/>\r\n",
       "<text text-anchor=\"middle\" x=\"648.89\" y=\"-231.8\" font-family=\"Times New Roman,serif\" font-size=\"14.00\">no</text>\r\n",
       "</g>\r\n",
       "<!-- 5 -->\r\n",
       "<g id=\"node6\" class=\"node\">\r\n",
       "<title>5</title>\r\n",
       "<ellipse fill=\"none\" stroke=\"black\" cx=\"204.39\" cy=\"-105\" rx=\"116.98\" ry=\"18\"/>\r\n",
       "<text text-anchor=\"middle\" x=\"204.39\" y=\"-101.3\" font-family=\"Times New Roman,serif\" font-size=\"14.00\">petal width (cm)&lt;1.54999995</text>\r\n",
       "</g>\r\n",
       "<!-- 3&#45;&gt;5 -->\r\n",
       "<g id=\"edge5\" class=\"edge\">\r\n",
       "<title>3&#45;&gt;5</title>\r\n",
       "<path fill=\"none\" stroke=\"#0000ff\" d=\"M390.59,-175.11C352.6,-161.01 296.98,-140.37 256.43,-125.32\"/>\r\n",
       "<polygon fill=\"#0000ff\" stroke=\"#0000ff\" points=\"257.58,-122.01 246.99,-121.81 255.14,-128.57 257.58,-122.01\"/>\r\n",
       "<text text-anchor=\"middle\" x=\"367.89\" y=\"-144.8\" font-family=\"Times New Roman,serif\" font-size=\"14.00\">yes, missing</text>\r\n",
       "</g>\r\n",
       "<!-- 6 -->\r\n",
       "<g id=\"node7\" class=\"node\">\r\n",
       "<title>6</title>\r\n",
       "<ellipse fill=\"none\" stroke=\"black\" cx=\"456.39\" cy=\"-105\" rx=\"116.98\" ry=\"18\"/>\r\n",
       "<text text-anchor=\"middle\" x=\"456.39\" y=\"-101.3\" font-family=\"Times New Roman,serif\" font-size=\"14.00\">petal width (cm)&lt;1.54999995</text>\r\n",
       "</g>\r\n",
       "<!-- 3&#45;&gt;6 -->\r\n",
       "<g id=\"edge6\" class=\"edge\">\r\n",
       "<title>3&#45;&gt;6</title>\r\n",
       "<path fill=\"none\" stroke=\"#ff0000\" d=\"M438.05,-173.8C441.23,-162.05 445.51,-146.24 449.13,-132.84\"/>\r\n",
       "<polygon fill=\"#ff0000\" stroke=\"#ff0000\" points=\"452.51,-133.74 451.75,-123.18 445.76,-131.91 452.51,-133.74\"/>\r\n",
       "<text text-anchor=\"middle\" x=\"453.89\" y=\"-144.8\" font-family=\"Times New Roman,serif\" font-size=\"14.00\">no</text>\r\n",
       "</g>\r\n",
       "<!-- 7 -->\r\n",
       "<g id=\"node12\" class=\"node\">\r\n",
       "<title>7</title>\r\n",
       "<ellipse fill=\"none\" stroke=\"black\" cx=\"684.39\" cy=\"-105\" rx=\"89.08\" ry=\"18\"/>\r\n",
       "<text text-anchor=\"middle\" x=\"684.39\" y=\"-101.3\" font-family=\"Times New Roman,serif\" font-size=\"14.00\">leaf=&#45;7.66345476e&#45;09</text>\r\n",
       "</g>\r\n",
       "<!-- 4&#45;&gt;7 -->\r\n",
       "<g id=\"edge11\" class=\"edge\">\r\n",
       "<title>4&#45;&gt;7</title>\r\n",
       "<path fill=\"none\" stroke=\"#0000ff\" d=\"M687.58,-173.8C687.04,-162.16 686.3,-146.55 685.68,-133.24\"/>\r\n",
       "<polygon fill=\"#0000ff\" stroke=\"#0000ff\" points=\"689.17,-133 685.2,-123.18 682.18,-133.33 689.17,-133\"/>\r\n",
       "<text text-anchor=\"middle\" x=\"721.89\" y=\"-144.8\" font-family=\"Times New Roman,serif\" font-size=\"14.00\">yes, missing</text>\r\n",
       "</g>\r\n",
       "<!-- 8 -->\r\n",
       "<g id=\"node13\" class=\"node\">\r\n",
       "<title>8</title>\r\n",
       "<ellipse fill=\"none\" stroke=\"black\" cx=\"869.39\" cy=\"-105\" rx=\"77.99\" ry=\"18\"/>\r\n",
       "<text text-anchor=\"middle\" x=\"869.39\" y=\"-101.3\" font-family=\"Times New Roman,serif\" font-size=\"14.00\">leaf=&#45;0.213812172</text>\r\n",
       "</g>\r\n",
       "<!-- 4&#45;&gt;8 -->\r\n",
       "<g id=\"edge12\" class=\"edge\">\r\n",
       "<title>4&#45;&gt;8</title>\r\n",
       "<path fill=\"none\" stroke=\"#ff0000\" d=\"M723.29,-174.61C752.9,-160.71 795.46,-140.72 827.02,-125.9\"/>\r\n",
       "<polygon fill=\"#ff0000\" stroke=\"#ff0000\" points=\"828.87,-128.9 836.43,-121.48 825.89,-122.56 828.87,-128.9\"/>\r\n",
       "<text text-anchor=\"middle\" x=\"796.89\" y=\"-144.8\" font-family=\"Times New Roman,serif\" font-size=\"14.00\">no</text>\r\n",
       "</g>\r\n",
       "<!-- 9 -->\r\n",
       "<g id=\"node8\" class=\"node\">\r\n",
       "<title>9</title>\r\n",
       "<ellipse fill=\"none\" stroke=\"black\" cx=\"75.39\" cy=\"-18\" rx=\"75.29\" ry=\"18\"/>\r\n",
       "<text text-anchor=\"middle\" x=\"75.39\" y=\"-14.3\" font-family=\"Times New Roman,serif\" font-size=\"14.00\">leaf=0.428571463</text>\r\n",
       "</g>\r\n",
       "<!-- 5&#45;&gt;9 -->\r\n",
       "<g id=\"edge7\" class=\"edge\">\r\n",
       "<title>5&#45;&gt;9</title>\r\n",
       "<path fill=\"none\" stroke=\"#0000ff\" d=\"M178,-87.41C168.9,-81.64 158.67,-75.08 149.39,-69 135.59,-59.95 120.48,-49.78 107.52,-40.99\"/>\r\n",
       "<polygon fill=\"#0000ff\" stroke=\"#0000ff\" points=\"109.18,-37.88 98.94,-35.15 105.24,-43.67 109.18,-37.88\"/>\r\n",
       "<text text-anchor=\"middle\" x=\"183.89\" y=\"-57.8\" font-family=\"Times New Roman,serif\" font-size=\"14.00\">yes, missing</text>\r\n",
       "</g>\r\n",
       "<!-- 10 -->\r\n",
       "<g id=\"node9\" class=\"node\">\r\n",
       "<title>10</title>\r\n",
       "<ellipse fill=\"none\" stroke=\"black\" cx=\"244.39\" cy=\"-18\" rx=\"75.29\" ry=\"18\"/>\r\n",
       "<text text-anchor=\"middle\" x=\"244.39\" y=\"-14.3\" font-family=\"Times New Roman,serif\" font-size=\"14.00\">leaf=0.128571421</text>\r\n",
       "</g>\r\n",
       "<!-- 5&#45;&gt;10 -->\r\n",
       "<g id=\"edge8\" class=\"edge\">\r\n",
       "<title>5&#45;&gt;10</title>\r\n",
       "<path fill=\"none\" stroke=\"#ff0000\" d=\"M212.49,-86.8C218.07,-74.93 225.6,-58.93 231.95,-45.45\"/>\r\n",
       "<polygon fill=\"#ff0000\" stroke=\"#ff0000\" points=\"235.22,-46.71 236.31,-36.18 228.89,-43.73 235.22,-46.71\"/>\r\n",
       "<text text-anchor=\"middle\" x=\"234.89\" y=\"-57.8\" font-family=\"Times New Roman,serif\" font-size=\"14.00\">no</text>\r\n",
       "</g>\r\n",
       "<!-- 11 -->\r\n",
       "<g id=\"node10\" class=\"node\">\r\n",
       "<title>11</title>\r\n",
       "<ellipse fill=\"none\" stroke=\"black\" cx=\"435.39\" cy=\"-18\" rx=\"77.99\" ry=\"18\"/>\r\n",
       "<text text-anchor=\"middle\" x=\"435.39\" y=\"-14.3\" font-family=\"Times New Roman,serif\" font-size=\"14.00\">leaf=&#45;0.128571451</text>\r\n",
       "</g>\r\n",
       "<!-- 6&#45;&gt;11 -->\r\n",
       "<g id=\"edge9\" class=\"edge\">\r\n",
       "<title>6&#45;&gt;11</title>\r\n",
       "<path fill=\"none\" stroke=\"#0000ff\" d=\"M452.14,-86.8C449.27,-75.16 445.41,-59.55 442.12,-46.24\"/>\r\n",
       "<polygon fill=\"#0000ff\" stroke=\"#0000ff\" points=\"445.43,-45.04 439.64,-36.18 438.64,-46.72 445.43,-45.04\"/>\r\n",
       "<text text-anchor=\"middle\" x=\"481.89\" y=\"-57.8\" font-family=\"Times New Roman,serif\" font-size=\"14.00\">yes, missing</text>\r\n",
       "</g>\r\n",
       "<!-- 12 -->\r\n",
       "<g id=\"node11\" class=\"node\">\r\n",
       "<title>12</title>\r\n",
       "<ellipse fill=\"none\" stroke=\"black\" cx=\"606.39\" cy=\"-18\" rx=\"75.29\" ry=\"18\"/>\r\n",
       "<text text-anchor=\"middle\" x=\"606.39\" y=\"-14.3\" font-family=\"Times New Roman,serif\" font-size=\"14.00\">leaf=0.128571421</text>\r\n",
       "</g>\r\n",
       "<!-- 6&#45;&gt;12 -->\r\n",
       "<g id=\"edge10\" class=\"edge\">\r\n",
       "<title>6&#45;&gt;12</title>\r\n",
       "<path fill=\"none\" stroke=\"#ff0000\" d=\"M486.76,-87.6C497.43,-81.79 509.47,-75.16 520.39,-69 536.99,-59.64 555.26,-49.06 570.67,-40.05\"/>\r\n",
       "<polygon fill=\"#ff0000\" stroke=\"#ff0000\" points=\"572.52,-43.02 579.38,-34.95 568.99,-36.98 572.52,-43.02\"/>\r\n",
       "<text text-anchor=\"middle\" x=\"554.89\" y=\"-57.8\" font-family=\"Times New Roman,serif\" font-size=\"14.00\">no</text>\r\n",
       "</g>\r\n",
       "</g>\r\n",
       "</svg>\r\n"
      ],
      "text/plain": [
       "<graphviz.files.Source at 0x297638a9320>"
      ]
     },
     "execution_count": 34,
     "metadata": {},
     "output_type": "execute_result"
    }
   ],
   "source": [
    "xgb.to_graphviz(model, num_trees=1)"
   ]
  },
  {
   "cell_type": "code",
   "execution_count": 35,
   "id": "c5381199-7c3d-4994-ada5-241bc2b93f37",
   "metadata": {},
   "outputs": [],
   "source": [
    "from sklearn.tree import DecisionTreeClassifier"
   ]
  },
  {
   "cell_type": "code",
   "execution_count": 36,
   "id": "d447552f-45a8-409b-b90b-b065c7d59901",
   "metadata": {},
   "outputs": [],
   "source": [
    "dt = DecisionTreeClassifier(max_depth=2)"
   ]
  },
  {
   "cell_type": "code",
   "execution_count": 37,
   "id": "69db9610-8e22-4734-81bd-5396cb7cb7b0",
   "metadata": {},
   "outputs": [
    {
     "data": {
      "text/plain": [
       "DecisionTreeClassifier(max_depth=2)"
      ]
     },
     "execution_count": 37,
     "metadata": {},
     "output_type": "execute_result"
    }
   ],
   "source": [
    "dt.fit(x, y)"
   ]
  },
  {
   "cell_type": "code",
   "execution_count": 38,
   "id": "fce50630-1bfb-405a-a1fc-0d04f9e1d32f",
   "metadata": {},
   "outputs": [],
   "source": [
    "import graphviz\n",
    "from sklearn import tree\n",
    "import pydotplus\n",
    "from IPython.display import Image"
   ]
  },
  {
   "cell_type": "code",
   "execution_count": 39,
   "id": "b2ef1d0a-2def-471d-89b9-1477a9cf57d3",
   "metadata": {},
   "outputs": [
    {
     "data": {
      "text/plain": [
       "array([0., 0., 0., 1.])"
      ]
     },
     "execution_count": 39,
     "metadata": {},
     "output_type": "execute_result"
    }
   ],
   "source": [
    "# 对于决策树来说，特征重要性就等于这个特征分裂的时候的总信息增益，这个特征有可能分裂，加到一起就行\n",
    "dt.feature_importances_"
   ]
  },
  {
   "cell_type": "code",
   "execution_count": 40,
   "id": "43fa5105-deda-4418-9822-2ab931b1c52c",
   "metadata": {},
   "outputs": [
    {
     "data": {
      "image/png": "[encoded data removed]",
      "text/plain": [
       "<IPython.core.display.Image object>"
      ]
     },
     "execution_count": 40,
     "metadata": {},
     "output_type": "execute_result"
    }
   ],
   "source": [
    "dot = tree.export_graphviz(dt)\n",
    "graph = pydotplus.graph_from_dot_data(dot)\n",
    "Image(graph.create_png())"
   ]
  }
 ],
 "metadata": {
  "kernelspec": {
   "display_name": "Python 3",
   "language": "python",
   "name": "python3"
  },
  "language_info": {
   "codemirror_mode": {
    "name": "ipython",
    "version": 3
   },
   "file_extension": ".py",
   "mimetype": "text/x-python",
   "name": "python",
   "nbconvert_exporter": "python",
   "pygments_lexer": "ipython3",
   "version": "3.7.0"
  },
  "toc-autonumbering": false,
  "toc-showcode": false,
  "toc-showmarkdowntxt": false
 },
 "nbformat": 4,
 "nbformat_minor": 5
}
