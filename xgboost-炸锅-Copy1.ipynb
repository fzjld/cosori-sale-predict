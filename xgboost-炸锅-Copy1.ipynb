{
 "cells": [
  {
   "cell_type": "markdown",
   "id": "a8d04ebd-6bcb-4755-8f82-950541c326bd",
   "metadata": {},
   "source": [
    "- 添加更多的特征，例如季度\n",
    "- 使用网格搜索技术设置超参数"
   ]
  },
  {
   "cell_type": "code",
   "execution_count": 1,
   "id": "0ce4f689-1b71-41c5-b56e-622126e670df",
   "metadata": {},
   "outputs": [],
   "source": [
    "# import xgboost as xgb\n",
    "import os\n",
    "import seaborn as sns\n",
    "import pandas as pd\n",
    "import numpy as np\n",
    "from xgboost import XGBRegressor\n",
    "from sklearn.model_selection import train_test_split\n",
    "from sklearn.preprocessing import OneHotEncoder, LabelEncoder, OrdinalEncoder\n",
    "from sklearn.metrics import mean_squared_error, r2_score\n",
    "from time import time\n",
    "from scipy import stats\n",
    "import joblib\n",
    "import pickle\n",
    "import pylab as plt\n",
    "from sklearn.model_selection import cross_val_score, GridSearchCV\n",
    "import torch.nn as nn\n",
    "import lightgbm as lgb\n",
    "from utils import *\n",
    "from sklearn import pipeline\n",
    "\n",
    "\n",
    "import warnings\n",
    "warnings.filterwarnings('ignore')\n",
    "\n",
    "pd.set_option('display.max_rows', 100)\n",
    "pd.set_option('display.max_columns', None)\n",
    "pd.set_option('display.float_format', lambda x: '%.4f' % x)\n",
    "np.set_printoptions(suppress=True)\n",
    "sns.set_style({'font.sans-serif': ['simhei', 'Arial']})   # 解决画图中文乱码\n",
    "\n",
    "%matplotlib inline"
   ]
  },
  {
   "cell_type": "code",
   "execution_count": 2,
   "id": "aeed7a9a-ede0-41d0-b6b0-34d96e959c5a",
   "metadata": {},
   "outputs": [],
   "source": [
    "p = Prediction('B07VLKMMJ5', '2019-10-2', '2019-10-4')"
   ]
  },
  {
   "cell_type": "code",
   "execution_count": 4,
   "id": "328f179c-c080-43dd-a27e-4f61303f21cf",
   "metadata": {},
   "outputs": [],
   "source": [
    "from sklearn.model_selection import KFold"
   ]
  },
  {
   "cell_type": "code",
   "execution_count": 22,
   "id": "e7edd731-4cbf-4b11-83bd-dc5d8e667a48",
   "metadata": {},
   "outputs": [],
   "source": [
    "x = np.arange(25).reshape(5, 5)"
   ]
  },
  {
   "cell_type": "code",
   "execution_count": 23,
   "id": "239f6751-3108-445d-8b4a-80759c7fb815",
   "metadata": {},
   "outputs": [],
   "source": [
    "kf = KFold(n_splits=3)"
   ]
  },
  {
   "cell_type": "code",
   "execution_count": 24,
   "id": "8640267b-7393-4aae-ad03-a5711c72e5e2",
   "metadata": {},
   "outputs": [
    {
     "name": "stdout",
     "output_type": "stream",
     "text": [
      "(array([2, 3, 4]), array([0, 1]))\n",
      "(array([0, 1, 4]), array([2, 3]))\n",
      "(array([0, 1, 2, 3]), array([4]))\n"
     ]
    }
   ],
   "source": [
    "for i in kf.split(x):\n",
    "    print(i)"
   ]
  },
  {
   "cell_type": "code",
   "execution_count": 3,
   "id": "8bc8066f-b0f4-4174-9262-67b04f3e100c",
   "metadata": {},
   "outputs": [
    {
     "name": "stdout",
     "output_type": "stream",
     "text": [
      "[0]\tvalidation_0-rmse:1312.72375\tvalidation_1-rmse:655.73218\n",
      "[1]\tvalidation_0-rmse:1123.42029\tvalidation_1-rmse:631.28449\n",
      "[2]\tvalidation_0-rmse:977.50421\tvalidation_1-rmse:604.61200\n",
      "[3]\tvalidation_0-rmse:882.03143\tvalidation_1-rmse:586.13855\n",
      "[4]\tvalidation_0-rmse:768.34992\tvalidation_1-rmse:540.66644\n",
      "[5]\tvalidation_0-rmse:728.00763\tvalidation_1-rmse:534.57428\n",
      "[6]\tvalidation_0-rmse:696.64630\tvalidation_1-rmse:550.47492\n",
      "[7]\tvalidation_0-rmse:679.26605\tvalidation_1-rmse:550.21692\n",
      "[8]\tvalidation_0-rmse:662.40942\tvalidation_1-rmse:557.69916\n",
      "[9]\tvalidation_0-rmse:566.32703\tvalidation_1-rmse:571.54944\n",
      "[10]\tvalidation_0-rmse:528.99963\tvalidation_1-rmse:608.65088\n",
      "[11]\tvalidation_0-rmse:483.13504\tvalidation_1-rmse:594.46710\n",
      "[12]\tvalidation_0-rmse:441.33551\tvalidation_1-rmse:595.68781\n",
      "[13]\tvalidation_0-rmse:374.11029\tvalidation_1-rmse:590.74823\n",
      "[14]\tvalidation_0-rmse:328.56720\tvalidation_1-rmse:591.09930\n",
      "[15]\tvalidation_0-rmse:282.44608\tvalidation_1-rmse:588.72162\n",
      "[16]\tvalidation_0-rmse:238.40059\tvalidation_1-rmse:586.92987\n",
      "[17]\tvalidation_0-rmse:222.08304\tvalidation_1-rmse:576.36841\n",
      "[18]\tvalidation_0-rmse:196.47021\tvalidation_1-rmse:576.42902\n",
      "[19]\tvalidation_0-rmse:183.27324\tvalidation_1-rmse:575.97040\n",
      "[20]\tvalidation_0-rmse:163.41173\tvalidation_1-rmse:576.30432\n",
      "[21]\tvalidation_0-rmse:158.81482\tvalidation_1-rmse:578.46588\n",
      "[22]\tvalidation_0-rmse:144.26004\tvalidation_1-rmse:577.15710\n",
      "[23]\tvalidation_0-rmse:133.30823\tvalidation_1-rmse:572.82782\n",
      "[24]\tvalidation_0-rmse:126.27647\tvalidation_1-rmse:572.95789\n",
      "[25]\tvalidation_0-rmse:121.60867\tvalidation_1-rmse:581.07568\n"
     ]
    },
    {
     "data": {
      "text/plain": [
       "0.516203173442896"
      ]
     },
     "execution_count": 3,
     "metadata": {},
     "output_type": "execute_result"
    }
   ],
   "source": [
    "# 加载数据\n",
    "alldata = p.load_data()\n",
    "\n",
    "alldata = p.data_preprocessing(alldata)\n",
    "\n",
    "alldata = p.create_features(alldata)\n",
    "\n",
    "alldata.head()\n",
    "\n",
    "x_train, x_test, y_train, y_test = p.split_dataset(alldata.drop('ordered_units', axis=1),\n",
    "                                                   alldata.ordered_units, 0.1, 0)\n",
    "\n",
    "x_train, x_test = p.encode(x_train, x_test)\n",
    "\n",
    "model = p.train(x_train, y_train, x_test, y_test)\n",
    "\n",
    "model.score(x_test, y_test)"
   ]
  },
  {
   "cell_type": "code",
   "execution_count": 2,
   "id": "5638c9d2-20d8-4cfc-be0c-e635641bb771",
   "metadata": {},
   "outputs": [
    {
     "data": {
      "text/html": [
       "<div>\n",
       "<style scoped>\n",
       "    .dataframe tbody tr th:only-of-type {\n",
       "        vertical-align: middle;\n",
       "    }\n",
       "\n",
       "    .dataframe tbody tr th {\n",
       "        vertical-align: top;\n",
       "    }\n",
       "\n",
       "    .dataframe thead th {\n",
       "        text-align: right;\n",
       "    }\n",
       "</style>\n",
       "<table border=\"1\" class=\"dataframe\">\n",
       "  <thead>\n",
       "    <tr style=\"text-align: right;\">\n",
       "      <th></th>\n",
       "      <th>id</th>\n",
       "      <th>site_id</th>\n",
       "      <th>asin</th>\n",
       "      <th>data_date</th>\n",
       "      <th>product_title</th>\n",
       "      <th>ordered_revenue</th>\n",
       "      <th>ordered_revenue_of_total</th>\n",
       "      <th>ordered_revenue_last_year</th>\n",
       "      <th>ordered_units</th>\n",
       "      <th>ordered_units_of_total</th>\n",
       "      <th>ordered_units_prior_period</th>\n",
       "      <th>ordered_units_last_year</th>\n",
       "      <th>subcategory_sales_rank</th>\n",
       "      <th>average_sales_price</th>\n",
       "      <th>average_sales_price_prior_period</th>\n",
       "      <th>glance_views</th>\n",
       "      <th>change_in_glance_view_prior_period</th>\n",
       "      <th>change_in_gv_last_year</th>\n",
       "      <th>conversion_rate</th>\n",
       "      <th>rep_oos</th>\n",
       "      <th>rep_oos_of_total</th>\n",
       "      <th>rep_oos_prior_period</th>\n",
       "      <th>lbb_price</th>\n",
       "      <th>create_time</th>\n",
       "      <th>update_time</th>\n",
       "    </tr>\n",
       "  </thead>\n",
       "  <tbody>\n",
       "    <tr>\n",
       "      <th>0</th>\n",
       "      <td>1</td>\n",
       "      <td>eb766123-9f24-436e-9117-49c739816794</td>\n",
       "      <td>B07GJBBGHG</td>\n",
       "      <td>2021-01-02</td>\n",
       "      <td>COSORI 5.8QT Electric Hot Air Fryers Oven Oill...</td>\n",
       "      <td>153827.1800</td>\n",
       "      <td>0.1300</td>\n",
       "      <td>1.2600</td>\n",
       "      <td>1284</td>\n",
       "      <td>0.0600</td>\n",
       "      <td>-0.1300</td>\n",
       "      <td>1.2600</td>\n",
       "      <td>1.0000</td>\n",
       "      <td>119.8000</td>\n",
       "      <td>0.0000</td>\n",
       "      <td>40220.0000</td>\n",
       "      <td>0.0000</td>\n",
       "      <td>1.1900</td>\n",
       "      <td>0.0300</td>\n",
       "      <td>0.0200</td>\n",
       "      <td>0.1400</td>\n",
       "      <td>0.1500</td>\n",
       "      <td>0.0000</td>\n",
       "      <td>2021/1/4 6:48</td>\n",
       "      <td>2021/1/4 6:48</td>\n",
       "    </tr>\n",
       "  </tbody>\n",
       "</table>\n",
       "</div>"
      ],
      "text/plain": [
       "   id                               site_id        asin  data_date  \\\n",
       "0   1  eb766123-9f24-436e-9117-49c739816794  B07GJBBGHG 2021-01-02   \n",
       "\n",
       "                                       product_title  ordered_revenue  \\\n",
       "0  COSORI 5.8QT Electric Hot Air Fryers Oven Oill...      153827.1800   \n",
       "\n",
       "   ordered_revenue_of_total  ordered_revenue_last_year  ordered_units  \\\n",
       "0                    0.1300                     1.2600           1284   \n",
       "\n",
       "   ordered_units_of_total  ordered_units_prior_period  \\\n",
       "0                  0.0600                     -0.1300   \n",
       "\n",
       "   ordered_units_last_year  subcategory_sales_rank  average_sales_price  \\\n",
       "0                   1.2600                  1.0000             119.8000   \n",
       "\n",
       "   average_sales_price_prior_period  glance_views  \\\n",
       "0                            0.0000    40220.0000   \n",
       "\n",
       "   change_in_glance_view_prior_period  change_in_gv_last_year  \\\n",
       "0                              0.0000                  1.1900   \n",
       "\n",
       "   conversion_rate  rep_oos  rep_oos_of_total  rep_oos_prior_period  \\\n",
       "0           0.0300   0.0200            0.1400                0.1500   \n",
       "\n",
       "   lbb_price    create_time    update_time  \n",
       "0     0.0000  2021/1/4 6:48  2021/1/4 6:48  "
      ]
     },
     "execution_count": 2,
     "metadata": {},
     "output_type": "execute_result"
    }
   ],
   "source": [
    "data = pd.read_csv('./data.csv', encoding='GBK')\n",
    "data.data_date = pd.to_datetime(data.data_date)\n",
    "data.head(1)"
   ]
  },
  {
   "cell_type": "code",
   "execution_count": 3,
   "id": "96e80699-9f33-480d-bbde-58525fde2520",
   "metadata": {},
   "outputs": [],
   "source": [
    "import pandas as pd\n",
    "from sklearn.model_selection import train_test_split\n",
    "from sklearn.preprocessing import OneHotEncoder\n",
    "from xgboost import XGBRegressor\n",
    "\n",
    "\n",
    "class Prediction(object):\n",
    "\n",
    "    def __init__(self, asin, start, end):\n",
    "        self.asin = asin\n",
    "        self.start = start\n",
    "        self.end = end\n",
    "        self.data = pd.read_csv('./data.csv', encoding='GBK')\n",
    "        self.data.data_date = pd.to_datetime(data.data_date)\n",
    "\n",
    "    def load_data(self):\n",
    "        self.alldata = self.data[(data.asin == self.asin)][['data_date',\n",
    "                                                            'ordered_units']].sort_values('data_date')\n",
    "        return self.alldata\n",
    "\n",
    "    def data_preprocessing(self, alldata, outliars):\n",
    "        '''\n",
    "            对数据进行预处理，\n",
    "            1.添加权重属性\n",
    "            2.删掉小于等于0的点\n",
    "        '''\n",
    "        # 删除小于等于0的异常值\n",
    "        self.alldata.drop(\n",
    "            self.alldata[self.alldata.ordered_units <= 0].index, inplace=True)\n",
    "\n",
    "        # 删除掉异常值\n",
    "        self.alldata.drop(\n",
    "            self.alldata[self.alldata.ordered_units >= outliars].index, inplace=True)\n",
    "\n",
    "        return self.alldata\n",
    "\n",
    "    def create_features(self, df):\n",
    "        '''创造特征'''\n",
    "        self.alldata['weight'] = self.alldata.data_date.apply(lambda x: (\n",
    "            x - pd.to_datetime('2019-12-02')).days)\n",
    "        df['year'] = df.data_date.dt.year\n",
    "        df['month'] = df.data_date.dt.month\n",
    "        df['day'] = df.data_date.dt.day\n",
    "        df['weekday'] = df.data_date.dt.weekday  # 周几\n",
    "        df['quarter'] = df.data_date.dt.quarter  # 季度\n",
    "        df['weekofyear'] = df.data_date.dt.weekofyear\n",
    "\n",
    "        df.drop('data_date', axis=1, inplace=True)  # 删掉原日期\n",
    "        return df\n",
    "\n",
    "    def split_dataset(self, x, y, test_size, random_state):\n",
    "        x_train, x_test, y_train, y_test = train_test_split(\n",
    "            x, y, test_size=test_size, random_state=random_state)\n",
    "        return x_train, x_test, y_train, y_test\n",
    "\n",
    "    def encode(self, x_train, x_test):\n",
    "        weight_cat = list(range(1, 1000))\n",
    "        year_category = [2019, 2020, 2021, 2022]\n",
    "        month_category = list(range(1, 13))\n",
    "        day_category = list(range(1, 32))\n",
    "        weekday_cat = list(range(0, 7))\n",
    "        quarter_cat = [1, 2, 3, 4]\n",
    "        weekofyear_cat = list(range(1, 54))\n",
    "\n",
    "        encoder = OneHotEncoder(sparse=False,\n",
    "                                categories=[weight_cat, year_category, month_category,\n",
    "                                            day_category, weekday_cat, quarter_cat, weekofyear_cat],\n",
    "                                handle_unknown='ignore')\n",
    "\n",
    "        x_train = encoder.fit_transform(x_train)\n",
    "        x_test = encoder.transform(x_test)\n",
    "        return pd.DataFrame(x_train, columns=encoder.get_feature_names()), pd.DataFrame(x_test, columns=encoder.get_feature_names())\n",
    "\n",
    "    def train(self, x_train, y_train):\n",
    "        xgbr = XGBRegressor(n_estimators=200,\n",
    "                            learning_rate=0.35,\n",
    "                            max_depth=7,\n",
    "                            subsample=0.6,\n",
    "                            colsample_bytree=0.7,\n",
    "                            objective='reg:squarederror',\n",
    "                            base_score=0.5,\n",
    "                            gamma=1,\n",
    "                            n_jobs=8, verbosity=1)\n",
    "\n",
    "        xgbr.fit(x_train, y_train, eval_set=[(x_train, y_train), (x_test, y_test)],\n",
    "                 early_stopping_rounds=20, verbose=True)\n",
    "\n",
    "        return xgbr"
   ]
  },
  {
   "cell_type": "code",
   "execution_count": 6,
   "id": "50dc47d3-66fe-4349-bc68-dc9684d41760",
   "metadata": {},
   "outputs": [
    {
     "ename": "NameError",
     "evalue": "name 'data' is not defined",
     "output_type": "error",
     "traceback": [
      "\u001b[1;31m---------------------------------------------------------------------------\u001b[0m",
      "\u001b[1;31mNameError\u001b[0m                                 Traceback (most recent call last)",
      "\u001b[1;32m<ipython-input-6-bbe4770af051>\u001b[0m in \u001b[0;36m<module>\u001b[1;34m\u001b[0m\n\u001b[0;32m      2\u001b[0m \u001b[1;33m\u001b[0m\u001b[0m\n\u001b[0;32m      3\u001b[0m \u001b[1;31m# 加载数据\u001b[0m\u001b[1;33m\u001b[0m\u001b[1;33m\u001b[0m\u001b[0m\n\u001b[1;32m----> 4\u001b[1;33m \u001b[0malldata\u001b[0m \u001b[1;33m=\u001b[0m \u001b[0mp\u001b[0m\u001b[1;33m.\u001b[0m\u001b[0mload_data\u001b[0m\u001b[1;33m(\u001b[0m\u001b[1;33m)\u001b[0m\u001b[1;33m\u001b[0m\u001b[0m\n\u001b[0m\u001b[0;32m      5\u001b[0m \u001b[1;33m\u001b[0m\u001b[0m\n\u001b[0;32m      6\u001b[0m \u001b[0malldata\u001b[0m \u001b[1;33m=\u001b[0m \u001b[0mp\u001b[0m\u001b[1;33m.\u001b[0m\u001b[0mdata_preprocessing\u001b[0m\u001b[1;33m(\u001b[0m\u001b[0malldata\u001b[0m\u001b[1;33m)\u001b[0m\u001b[1;33m\u001b[0m\u001b[0m\n",
      "\u001b[1;32mE:\\jupyter\\销量预测项目\\utils.py\u001b[0m in \u001b[0;36mload_data\u001b[1;34m(self)\u001b[0m\n\u001b[0;32m     22\u001b[0m \u001b[1;33m\u001b[0m\u001b[0m\n\u001b[0;32m     23\u001b[0m     \u001b[1;32mdef\u001b[0m \u001b[0mload_data\u001b[0m\u001b[1;33m(\u001b[0m\u001b[0mself\u001b[0m\u001b[1;33m)\u001b[0m\u001b[1;33m:\u001b[0m\u001b[1;33m\u001b[0m\u001b[0m\n\u001b[1;32m---> 24\u001b[1;33m         self.alldata = data[(data.asin == self.asin)][['data_date',\n\u001b[0m\u001b[0;32m     25\u001b[0m                                                        'ordered_units']].sort_values('data_date')\n\u001b[0;32m     26\u001b[0m         \u001b[1;32mreturn\u001b[0m \u001b[0mself\u001b[0m\u001b[1;33m.\u001b[0m\u001b[0malldata\u001b[0m\u001b[1;33m\u001b[0m\u001b[0m\n",
      "\u001b[1;31mNameError\u001b[0m: name 'data' is not defined"
     ]
    }
   ],
   "source": [
    "p = Prediction('B07VLKMMJ5', '2019-10-2', '2019-10-4')\n",
    "\n",
    "# 加载数据\n",
    "alldata = p.load_data()\n",
    "\n",
    "alldata = p.data_preprocessing(alldata)\n",
    "\n",
    "alldata = p.create_features(alldata)\n",
    "\n",
    "alldata.head()\n",
    "\n",
    "x_train, x_test, y_train, y_test = p.split_dataset(alldata.drop('ordered_units', axis=1),\n",
    "                                                   alldata.ordered_units, 0.1, 0)\n",
    "\n",
    "x_train.shape, x_test.shape\n",
    "\n",
    "x_train.head(1)\n",
    "\n",
    "x_train, x_test = p.encode(x_train, x_test)\n",
    "\n",
    "model = p.train(x_train, y_train)\n",
    "\n",
    "model.score(x_test, y_test)"
   ]
  },
  {
   "cell_type": "code",
   "execution_count": 157,
   "id": "bb28eebf-1492-4d1d-a3b7-63f8c970d198",
   "metadata": {},
   "outputs": [],
   "source": [
    "from sklearn.pipeline import Pipeline"
   ]
  },
  {
   "cell_type": "code",
   "execution_count": 167,
   "id": "69266331-819e-4fdd-9048-2a6d33b24799",
   "metadata": {},
   "outputs": [
    {
     "data": {
      "text/plain": [
       "[0, 1, 2, 3, 4, 5, 6]"
      ]
     },
     "execution_count": 167,
     "metadata": {},
     "output_type": "execute_result"
    }
   ],
   "source": [
    "sorted(x_train.weekday.unique())"
   ]
  },
  {
   "cell_type": "code",
   "execution_count": 168,
   "id": "7a0a1ee0-aa3d-4256-a35a-3c71f0e7dbf0",
   "metadata": {},
   "outputs": [],
   "source": [
    "weight_cat = list(range(1, 1000))\n",
    "year_category = [2019, 2020, 2021, 2022]\n",
    "month_category = list(range(1, 13))\n",
    "day_category = list(range(1, 32))\n",
    "weekday_cat = list(range(0, 7))\n",
    "quarter_cat = [1, 2, 3, 4]\n",
    "weekofyear_cat = list(range(1, 54))\n",
    "\n",
    "encoder = OneHotEncoder(sparse=False,\n",
    "                        categories=[weight_cat, year_category, month_category,\n",
    "                                    day_category, weekday_cat, quarter_cat, weekofyear_cat],\n",
    "                        handle_unknown='ignore')"
   ]
  },
  {
   "cell_type": "code",
   "execution_count": 172,
   "id": "822c42bf-80ad-4178-bd11-28b885b52997",
   "metadata": {
    "tags": []
   },
   "outputs": [],
   "source": [
    "pl = Pipeline(steps=[\n",
    "    ('encoder', encoder),\n",
    "    ('model', xgbr)\n",
    "], verbose=False)"
   ]
  },
  {
   "cell_type": "code",
   "execution_count": 173,
   "id": "50611daf-d6ba-462e-9c3b-bd2cb4954f3e",
   "metadata": {},
   "outputs": [
    {
     "ename": "ValueError",
     "evalue": "Shape mismatch: if categories is an array, it has to be of shape (n_features,).",
     "output_type": "error",
     "traceback": [
      "\u001b[1;31m---------------------------------------------------------------------------\u001b[0m",
      "\u001b[1;31mValueError\u001b[0m                                Traceback (most recent call last)",
      "\u001b[1;32m<ipython-input-173-1c6c35e14939>\u001b[0m in \u001b[0;36m<module>\u001b[1;34m\u001b[0m\n\u001b[1;32m----> 1\u001b[1;33m \u001b[0mpl\u001b[0m\u001b[1;33m.\u001b[0m\u001b[0mfit\u001b[0m\u001b[1;33m(\u001b[0m\u001b[0mx_train\u001b[0m\u001b[1;33m,\u001b[0m \u001b[0my_train\u001b[0m\u001b[1;33m)\u001b[0m\u001b[1;33m\u001b[0m\u001b[0m\n\u001b[0m",
      "\u001b[1;32mE:\\anaconda\\lib\\site-packages\\sklearn\\pipeline.py\u001b[0m in \u001b[0;36mfit\u001b[1;34m(self, X, y, **fit_params)\u001b[0m\n\u001b[0;32m    339\u001b[0m         \"\"\"\n\u001b[0;32m    340\u001b[0m         \u001b[0mfit_params_steps\u001b[0m \u001b[1;33m=\u001b[0m \u001b[0mself\u001b[0m\u001b[1;33m.\u001b[0m\u001b[0m_check_fit_params\u001b[0m\u001b[1;33m(\u001b[0m\u001b[1;33m**\u001b[0m\u001b[0mfit_params\u001b[0m\u001b[1;33m)\u001b[0m\u001b[1;33m\u001b[0m\u001b[0m\n\u001b[1;32m--> 341\u001b[1;33m         \u001b[0mXt\u001b[0m \u001b[1;33m=\u001b[0m \u001b[0mself\u001b[0m\u001b[1;33m.\u001b[0m\u001b[0m_fit\u001b[0m\u001b[1;33m(\u001b[0m\u001b[0mX\u001b[0m\u001b[1;33m,\u001b[0m \u001b[0my\u001b[0m\u001b[1;33m,\u001b[0m \u001b[1;33m**\u001b[0m\u001b[0mfit_params_steps\u001b[0m\u001b[1;33m)\u001b[0m\u001b[1;33m\u001b[0m\u001b[0m\n\u001b[0m\u001b[0;32m    342\u001b[0m         with _print_elapsed_time('Pipeline',\n\u001b[0;32m    343\u001b[0m                                  self._log_message(len(self.steps) - 1)):\n",
      "\u001b[1;32mE:\\anaconda\\lib\\site-packages\\sklearn\\pipeline.py\u001b[0m in \u001b[0;36m_fit\u001b[1;34m(self, X, y, **fit_params_steps)\u001b[0m\n\u001b[0;32m    305\u001b[0m                 \u001b[0mmessage_clsname\u001b[0m\u001b[1;33m=\u001b[0m\u001b[1;34m'Pipeline'\u001b[0m\u001b[1;33m,\u001b[0m\u001b[1;33m\u001b[0m\u001b[0m\n\u001b[0;32m    306\u001b[0m                 \u001b[0mmessage\u001b[0m\u001b[1;33m=\u001b[0m\u001b[0mself\u001b[0m\u001b[1;33m.\u001b[0m\u001b[0m_log_message\u001b[0m\u001b[1;33m(\u001b[0m\u001b[0mstep_idx\u001b[0m\u001b[1;33m)\u001b[0m\u001b[1;33m,\u001b[0m\u001b[1;33m\u001b[0m\u001b[0m\n\u001b[1;32m--> 307\u001b[1;33m                 **fit_params_steps[name])\n\u001b[0m\u001b[0;32m    308\u001b[0m             \u001b[1;31m# Replace the transformer of the step with the fitted\u001b[0m\u001b[1;33m\u001b[0m\u001b[1;33m\u001b[0m\u001b[0m\n\u001b[0;32m    309\u001b[0m             \u001b[1;31m# transformer. This is necessary when loading the transformer\u001b[0m\u001b[1;33m\u001b[0m\u001b[1;33m\u001b[0m\u001b[0m\n",
      "\u001b[1;32mE:\\anaconda\\lib\\site-packages\\joblib\\memory.py\u001b[0m in \u001b[0;36m__call__\u001b[1;34m(self, *args, **kwargs)\u001b[0m\n\u001b[0;32m    350\u001b[0m \u001b[1;33m\u001b[0m\u001b[0m\n\u001b[0;32m    351\u001b[0m     \u001b[1;32mdef\u001b[0m \u001b[0m__call__\u001b[0m\u001b[1;33m(\u001b[0m\u001b[0mself\u001b[0m\u001b[1;33m,\u001b[0m \u001b[1;33m*\u001b[0m\u001b[0margs\u001b[0m\u001b[1;33m,\u001b[0m \u001b[1;33m**\u001b[0m\u001b[0mkwargs\u001b[0m\u001b[1;33m)\u001b[0m\u001b[1;33m:\u001b[0m\u001b[1;33m\u001b[0m\u001b[0m\n\u001b[1;32m--> 352\u001b[1;33m         \u001b[1;32mreturn\u001b[0m \u001b[0mself\u001b[0m\u001b[1;33m.\u001b[0m\u001b[0mfunc\u001b[0m\u001b[1;33m(\u001b[0m\u001b[1;33m*\u001b[0m\u001b[0margs\u001b[0m\u001b[1;33m,\u001b[0m \u001b[1;33m**\u001b[0m\u001b[0mkwargs\u001b[0m\u001b[1;33m)\u001b[0m\u001b[1;33m\u001b[0m\u001b[0m\n\u001b[0m\u001b[0;32m    353\u001b[0m \u001b[1;33m\u001b[0m\u001b[0m\n\u001b[0;32m    354\u001b[0m     \u001b[1;32mdef\u001b[0m \u001b[0mcall_and_shelve\u001b[0m\u001b[1;33m(\u001b[0m\u001b[0mself\u001b[0m\u001b[1;33m,\u001b[0m \u001b[1;33m*\u001b[0m\u001b[0margs\u001b[0m\u001b[1;33m,\u001b[0m \u001b[1;33m**\u001b[0m\u001b[0mkwargs\u001b[0m\u001b[1;33m)\u001b[0m\u001b[1;33m:\u001b[0m\u001b[1;33m\u001b[0m\u001b[0m\n",
      "\u001b[1;32mE:\\anaconda\\lib\\site-packages\\sklearn\\pipeline.py\u001b[0m in \u001b[0;36m_fit_transform_one\u001b[1;34m(transformer, X, y, weight, message_clsname, message, **fit_params)\u001b[0m\n\u001b[0;32m    752\u001b[0m     \u001b[1;32mwith\u001b[0m \u001b[0m_print_elapsed_time\u001b[0m\u001b[1;33m(\u001b[0m\u001b[0mmessage_clsname\u001b[0m\u001b[1;33m,\u001b[0m \u001b[0mmessage\u001b[0m\u001b[1;33m)\u001b[0m\u001b[1;33m:\u001b[0m\u001b[1;33m\u001b[0m\u001b[0m\n\u001b[0;32m    753\u001b[0m         \u001b[1;32mif\u001b[0m \u001b[0mhasattr\u001b[0m\u001b[1;33m(\u001b[0m\u001b[0mtransformer\u001b[0m\u001b[1;33m,\u001b[0m \u001b[1;34m'fit_transform'\u001b[0m\u001b[1;33m)\u001b[0m\u001b[1;33m:\u001b[0m\u001b[1;33m\u001b[0m\u001b[0m\n\u001b[1;32m--> 754\u001b[1;33m             \u001b[0mres\u001b[0m \u001b[1;33m=\u001b[0m \u001b[0mtransformer\u001b[0m\u001b[1;33m.\u001b[0m\u001b[0mfit_transform\u001b[0m\u001b[1;33m(\u001b[0m\u001b[0mX\u001b[0m\u001b[1;33m,\u001b[0m \u001b[0my\u001b[0m\u001b[1;33m,\u001b[0m \u001b[1;33m**\u001b[0m\u001b[0mfit_params\u001b[0m\u001b[1;33m)\u001b[0m\u001b[1;33m\u001b[0m\u001b[0m\n\u001b[0m\u001b[0;32m    755\u001b[0m         \u001b[1;32melse\u001b[0m\u001b[1;33m:\u001b[0m\u001b[1;33m\u001b[0m\u001b[0m\n\u001b[0;32m    756\u001b[0m             \u001b[0mres\u001b[0m \u001b[1;33m=\u001b[0m \u001b[0mtransformer\u001b[0m\u001b[1;33m.\u001b[0m\u001b[0mfit\u001b[0m\u001b[1;33m(\u001b[0m\u001b[0mX\u001b[0m\u001b[1;33m,\u001b[0m \u001b[0my\u001b[0m\u001b[1;33m,\u001b[0m \u001b[1;33m**\u001b[0m\u001b[0mfit_params\u001b[0m\u001b[1;33m)\u001b[0m\u001b[1;33m.\u001b[0m\u001b[0mtransform\u001b[0m\u001b[1;33m(\u001b[0m\u001b[0mX\u001b[0m\u001b[1;33m)\u001b[0m\u001b[1;33m\u001b[0m\u001b[0m\n",
      "\u001b[1;32mE:\\anaconda\\lib\\site-packages\\sklearn\\preprocessing\\_encoders.py\u001b[0m in \u001b[0;36mfit_transform\u001b[1;34m(self, X, y)\u001b[0m\n\u001b[0;32m    449\u001b[0m         \"\"\"\n\u001b[0;32m    450\u001b[0m         \u001b[0mself\u001b[0m\u001b[1;33m.\u001b[0m\u001b[0m_validate_keywords\u001b[0m\u001b[1;33m(\u001b[0m\u001b[1;33m)\u001b[0m\u001b[1;33m\u001b[0m\u001b[0m\n\u001b[1;32m--> 451\u001b[1;33m         \u001b[1;32mreturn\u001b[0m \u001b[0msuper\u001b[0m\u001b[1;33m(\u001b[0m\u001b[1;33m)\u001b[0m\u001b[1;33m.\u001b[0m\u001b[0mfit_transform\u001b[0m\u001b[1;33m(\u001b[0m\u001b[0mX\u001b[0m\u001b[1;33m,\u001b[0m \u001b[0my\u001b[0m\u001b[1;33m)\u001b[0m\u001b[1;33m\u001b[0m\u001b[0m\n\u001b[0m\u001b[0;32m    452\u001b[0m \u001b[1;33m\u001b[0m\u001b[0m\n\u001b[0;32m    453\u001b[0m     \u001b[1;32mdef\u001b[0m \u001b[0mtransform\u001b[0m\u001b[1;33m(\u001b[0m\u001b[0mself\u001b[0m\u001b[1;33m,\u001b[0m \u001b[0mX\u001b[0m\u001b[1;33m)\u001b[0m\u001b[1;33m:\u001b[0m\u001b[1;33m\u001b[0m\u001b[0m\n",
      "\u001b[1;32mE:\\anaconda\\lib\\site-packages\\sklearn\\base.py\u001b[0m in \u001b[0;36mfit_transform\u001b[1;34m(self, X, y, **fit_params)\u001b[0m\n\u001b[0;32m    700\u001b[0m         \u001b[1;32melse\u001b[0m\u001b[1;33m:\u001b[0m\u001b[1;33m\u001b[0m\u001b[0m\n\u001b[0;32m    701\u001b[0m             \u001b[1;31m# fit method of arity 2 (supervised transformation)\u001b[0m\u001b[1;33m\u001b[0m\u001b[1;33m\u001b[0m\u001b[0m\n\u001b[1;32m--> 702\u001b[1;33m             \u001b[1;32mreturn\u001b[0m \u001b[0mself\u001b[0m\u001b[1;33m.\u001b[0m\u001b[0mfit\u001b[0m\u001b[1;33m(\u001b[0m\u001b[0mX\u001b[0m\u001b[1;33m,\u001b[0m \u001b[0my\u001b[0m\u001b[1;33m,\u001b[0m \u001b[1;33m**\u001b[0m\u001b[0mfit_params\u001b[0m\u001b[1;33m)\u001b[0m\u001b[1;33m.\u001b[0m\u001b[0mtransform\u001b[0m\u001b[1;33m(\u001b[0m\u001b[0mX\u001b[0m\u001b[1;33m)\u001b[0m\u001b[1;33m\u001b[0m\u001b[0m\n\u001b[0m\u001b[0;32m    703\u001b[0m \u001b[1;33m\u001b[0m\u001b[0m\n\u001b[0;32m    704\u001b[0m \u001b[1;33m\u001b[0m\u001b[0m\n",
      "\u001b[1;32mE:\\anaconda\\lib\\site-packages\\sklearn\\preprocessing\\_encoders.py\u001b[0m in \u001b[0;36mfit\u001b[1;34m(self, X, y)\u001b[0m\n\u001b[0;32m    422\u001b[0m         \u001b[0mself\u001b[0m\u001b[1;33m.\u001b[0m\u001b[0m_validate_keywords\u001b[0m\u001b[1;33m(\u001b[0m\u001b[1;33m)\u001b[0m\u001b[1;33m\u001b[0m\u001b[0m\n\u001b[0;32m    423\u001b[0m         self._fit(X, handle_unknown=self.handle_unknown,\n\u001b[1;32m--> 424\u001b[1;33m                   force_all_finite='allow-nan')\n\u001b[0m\u001b[0;32m    425\u001b[0m         \u001b[0mself\u001b[0m\u001b[1;33m.\u001b[0m\u001b[0mdrop_idx_\u001b[0m \u001b[1;33m=\u001b[0m \u001b[0mself\u001b[0m\u001b[1;33m.\u001b[0m\u001b[0m_compute_drop_idx\u001b[0m\u001b[1;33m(\u001b[0m\u001b[1;33m)\u001b[0m\u001b[1;33m\u001b[0m\u001b[0m\n\u001b[0;32m    426\u001b[0m         \u001b[1;32mreturn\u001b[0m \u001b[0mself\u001b[0m\u001b[1;33m\u001b[0m\u001b[0m\n",
      "\u001b[1;32mE:\\anaconda\\lib\\site-packages\\sklearn\\preprocessing\\_encoders.py\u001b[0m in \u001b[0;36m_fit\u001b[1;34m(self, X, handle_unknown, force_all_finite)\u001b[0m\n\u001b[0;32m     80\u001b[0m         \u001b[1;32mif\u001b[0m \u001b[0mself\u001b[0m\u001b[1;33m.\u001b[0m\u001b[0mcategories\u001b[0m \u001b[1;33m!=\u001b[0m \u001b[1;34m'auto'\u001b[0m\u001b[1;33m:\u001b[0m\u001b[1;33m\u001b[0m\u001b[0m\n\u001b[0;32m     81\u001b[0m             \u001b[1;32mif\u001b[0m \u001b[0mlen\u001b[0m\u001b[1;33m(\u001b[0m\u001b[0mself\u001b[0m\u001b[1;33m.\u001b[0m\u001b[0mcategories\u001b[0m\u001b[1;33m)\u001b[0m \u001b[1;33m!=\u001b[0m \u001b[0mn_features\u001b[0m\u001b[1;33m:\u001b[0m\u001b[1;33m\u001b[0m\u001b[0m\n\u001b[1;32m---> 82\u001b[1;33m                 raise ValueError(\"Shape mismatch: if categories is an array,\"\n\u001b[0m\u001b[0;32m     83\u001b[0m                                  \" it has to be of shape (n_features,).\")\n\u001b[0;32m     84\u001b[0m \u001b[1;33m\u001b[0m\u001b[0m\n",
      "\u001b[1;31mValueError\u001b[0m: Shape mismatch: if categories is an array, it has to be of shape (n_features,)."
     ]
    }
   ],
   "source": [
    "pl.fit(x_train, y_train)"
   ]
  },
  {
   "cell_type": "code",
   "execution_count": 127,
   "id": "cccd229c-0252-4e10-aa7a-64531c446f60",
   "metadata": {},
   "outputs": [
    {
     "name": "stdout",
     "output_type": "stream",
     "text": [
      "<slot wrapper '__init__' of 'object' objects>\n"
     ]
    }
   ],
   "source": [
    "Prediction.a()"
   ]
  },
  {
   "cell_type": "code",
   "execution_count": 3,
   "id": "62525d6e-4824-410f-84df-1ad6bb5d15df",
   "metadata": {},
   "outputs": [
    {
     "data": {
      "text/plain": [
       "(581, 2)"
      ]
     },
     "execution_count": 3,
     "metadata": {},
     "output_type": "execute_result"
    }
   ],
   "source": [
    "alldata = data[(data.asin == 'B07VLKMMJ5')][['data_date',\n",
    "                                             'ordered_units']].sort_values('data_date')\n",
    "alldata.shape"
   ]
  },
  {
   "cell_type": "code",
   "execution_count": 20,
   "id": "c6d14d10-df30-4a18-9496-b9a10c5fd0db",
   "metadata": {
    "collapsed": true,
    "jupyter": {
     "outputs_hidden": true
    },
    "tags": []
   },
   "outputs": [
    {
     "data": {
      "text/html": [
       "<div>\n",
       "<style scoped>\n",
       "    .dataframe tbody tr th:only-of-type {\n",
       "        vertical-align: middle;\n",
       "    }\n",
       "\n",
       "    .dataframe tbody tr th {\n",
       "        vertical-align: top;\n",
       "    }\n",
       "\n",
       "    .dataframe thead th {\n",
       "        text-align: right;\n",
       "    }\n",
       "</style>\n",
       "<table border=\"1\" class=\"dataframe\">\n",
       "  <thead>\n",
       "    <tr style=\"text-align: right;\">\n",
       "      <th></th>\n",
       "      <th>data_date</th>\n",
       "      <th>ordered_units</th>\n",
       "    </tr>\n",
       "  </thead>\n",
       "  <tbody>\n",
       "    <tr>\n",
       "      <th>15973</th>\n",
       "      <td>2019-12-02</td>\n",
       "      <td>340</td>\n",
       "    </tr>\n",
       "    <tr>\n",
       "      <th>15935</th>\n",
       "      <td>2019-12-03</td>\n",
       "      <td>100</td>\n",
       "    </tr>\n",
       "    <tr>\n",
       "      <th>28662</th>\n",
       "      <td>2021-08-21</td>\n",
       "      <td>152</td>\n",
       "    </tr>\n",
       "    <tr>\n",
       "      <th>28844</th>\n",
       "      <td>2021-08-22</td>\n",
       "      <td>161</td>\n",
       "    </tr>\n",
       "  </tbody>\n",
       "</table>\n",
       "</div>"
      ],
      "text/plain": [
       "       data_date  ordered_units\n",
       "15973 2019-12-02            340\n",
       "15935 2019-12-03            100\n",
       "28662 2021-08-21            152\n",
       "28844 2021-08-22            161"
      ]
     },
     "execution_count": 20,
     "metadata": {},
     "output_type": "execute_result"
    }
   ],
   "source": [
    "alldata.head(2).append(alldata.tail(2))"
   ]
  },
  {
   "cell_type": "code",
   "execution_count": 5,
   "id": "c6ffca30-169a-457f-a85c-a83bcacf0716",
   "metadata": {
    "collapsed": true,
    "jupyter": {
     "outputs_hidden": true,
     "source_hidden": true
    },
    "tags": []
   },
   "outputs": [
    {
     "data": {
      "text/plain": [
       "[<matplotlib.lines.Line2D at 0x200dc17b9e8>]"
      ]
     },
     "execution_count": 5,
     "metadata": {},
     "output_type": "execute_result"
    },
    {
     "data": {
      "image/png": "[encoded data removed]",
      "text/plain": [
       "<Figure size 1080x360 with 1 Axes>"
      ]
     },
     "metadata": {
      "needs_background": "light"
     },
     "output_type": "display_data"
    }
   ],
   "source": [
    "plt.figure(figsize=(15, 5))\n",
    "plt.xticks(rotation=90)\n",
    "plt.plot(alldata.data_date, alldata.ordered_units)"
   ]
  },
  {
   "cell_type": "code",
   "execution_count": 8,
   "id": "ba1e819a-67a7-4140-b434-f00f08d8bf54",
   "metadata": {
    "collapsed": true,
    "jupyter": {
     "outputs_hidden": true
    },
    "tags": []
   },
   "outputs": [
    {
     "data": {
      "text/plain": [
       "<AxesSubplot:xlabel='ordered_units', ylabel='Density'>"
      ]
     },
     "execution_count": 8,
     "metadata": {},
     "output_type": "execute_result"
    },
    {
     "data": {
      "image/png": "[encoded data removed]",
      "text/plain": [
       "<Figure size 432x288 with 1 Axes>"
      ]
     },
     "metadata": {
      "needs_background": "light"
     },
     "output_type": "display_data"
    }
   ],
   "source": [
    "sns.distplot(alldata.ordered_units, fit=stats.norm)"
   ]
  },
  {
   "cell_type": "code",
   "execution_count": 9,
   "id": "684672f2-b245-4319-9c16-4ab341ca7555",
   "metadata": {},
   "outputs": [
    {
     "data": {
      "text/plain": [
       "(12.136233398378591, -0.6106008836933018)"
      ]
     },
     "execution_count": 9,
     "metadata": {},
     "output_type": "execute_result"
    }
   ],
   "source": [
    "alldata.ordered_units.skew(), np.log1p(alldata.ordered_units).skew()"
   ]
  },
  {
   "cell_type": "code",
   "execution_count": 10,
   "id": "2caaf226-81bb-4873-b1d9-36fa8884f5df",
   "metadata": {},
   "outputs": [
    {
     "data": {
      "text/plain": [
       "2.6588675922109113"
      ]
     },
     "execution_count": 10,
     "metadata": {},
     "output_type": "execute_result"
    }
   ],
   "source": [
    "from scipy.special import boxcox1p\n",
    "boxcox1p(alldata.ordered_units, 0.21).skew()"
   ]
  },
  {
   "cell_type": "code",
   "execution_count": 10,
   "id": "394d939d-8c82-425d-9c0d-0b423ca8d60e",
   "metadata": {},
   "outputs": [
    {
     "data": {
      "text/plain": [
       "<AxesSubplot:xlabel='ordered_units', ylabel='Density'>"
      ]
     },
     "execution_count": 10,
     "metadata": {},
     "output_type": "execute_result"
    },
    {
     "data": {
      "image/png": "[encoded data removed]",
      "text/plain": [
       "<Figure size 432x288 with 1 Axes>"
      ]
     },
     "metadata": {
      "needs_background": "light"
     },
     "output_type": "display_data"
    }
   ],
   "source": [
    "sns.distplot(boxcox1p(alldata.ordered_units, 0.21), fit=stats.norm)"
   ]
  },
  {
   "cell_type": "markdown",
   "id": "b6f8616d-c4ed-45c2-ade3-c8147bbc9e09",
   "metadata": {},
   "source": [
    "## 数据预处理"
   ]
  },
  {
   "cell_type": "markdown",
   "id": "f33d9ffc-ad44-4c9a-8409-3004615fbaba",
   "metadata": {},
   "source": [
    "### 异常值，删除小于等于0的数值和离群点"
   ]
  },
  {
   "cell_type": "code",
   "execution_count": 14,
   "id": "5b8650ff-e9bc-499a-9f58-06c1f624bc3b",
   "metadata": {},
   "outputs": [
    {
     "name": "stdout",
     "output_type": "stream",
     "text": [
      "       data_date  ordered_units\n",
      "15930 2019-12-04            -36\n",
      "12228 2020-03-18              0\n",
      "11750 2020-03-31              0\n",
      "10961 2020-04-22              0\n",
      "10742 2020-04-28              0\n",
      "10476 2020-05-05              0\n",
      "5846  2020-08-31              0\n"
     ]
    },
    {
     "data": {
      "text/plain": [
       "Int64Index([15930, 12228, 11750, 10961, 10742, 10476, 5846], dtype='int64')"
      ]
     },
     "execution_count": 14,
     "metadata": {},
     "output_type": "execute_result"
    }
   ],
   "source": [
    "print(alldata[alldata.ordered_units <= 0])\n",
    "alldata[alldata.ordered_units <= 0].index"
   ]
  },
  {
   "cell_type": "code",
   "execution_count": 15,
   "id": "6ad7f835-580d-4e82-995c-ecbfa1f2ca2d",
   "metadata": {},
   "outputs": [],
   "source": [
    "alldata.drop(alldata[alldata.ordered_units <= 0].index, inplace=True)"
   ]
  },
  {
   "cell_type": "code",
   "execution_count": 16,
   "id": "acc2edf9-eeef-42bf-8973-708a5385c24f",
   "metadata": {
    "tags": []
   },
   "outputs": [
    {
     "data": {
      "text/plain": [
       "<AxesSubplot:xlabel='ordered_units'>"
      ]
     },
     "execution_count": 16,
     "metadata": {},
     "output_type": "execute_result"
    },
    {
     "data": {
      "image/png": "[encoded data removed]",
      "text/plain": [
       "<Figure size 432x288 with 1 Axes>"
      ]
     },
     "metadata": {
      "needs_background": "light"
     },
     "output_type": "display_data"
    }
   ],
   "source": [
    "sns.boxplot(alldata.ordered_units)"
   ]
  },
  {
   "cell_type": "code",
   "execution_count": 17,
   "id": "352e29d5-97ac-4e2b-8934-3b84352eca5b",
   "metadata": {},
   "outputs": [
    {
     "data": {
      "text/plain": [
       "Int64Index([3878, 25151, 25209], dtype='int64')"
      ]
     },
     "execution_count": 17,
     "metadata": {},
     "output_type": "execute_result"
    }
   ],
   "source": [
    "alldata[alldata.ordered_units > 5000].index"
   ]
  },
  {
   "cell_type": "code",
   "execution_count": 18,
   "id": "c0afff07-277a-4dad-a31d-d68a95038a15",
   "metadata": {},
   "outputs": [],
   "source": [
    "alldata.drop(alldata[alldata.ordered_units > 5000].index, inplace=True)"
   ]
  },
  {
   "cell_type": "code",
   "execution_count": 19,
   "id": "812c61fd-d731-4c15-9818-9c18b4091107",
   "metadata": {},
   "outputs": [
    {
     "data": {
      "text/plain": [
       "(571, 2)"
      ]
     },
     "execution_count": 19,
     "metadata": {},
     "output_type": "execute_result"
    }
   ],
   "source": [
    "alldata.shape"
   ]
  },
  {
   "cell_type": "markdown",
   "id": "9b402ed9-0a79-4124-9105-adc4d2bfc621",
   "metadata": {},
   "source": [
    "### 设置样本权重"
   ]
  },
  {
   "cell_type": "code",
   "execution_count": 21,
   "id": "f44e85c2-44a2-4369-87e5-f1b8f30f6eaf",
   "metadata": {},
   "outputs": [],
   "source": [
    "alldata['weight'] = alldata.data_date.apply(lambda x: (\n",
    "    x - pd.to_datetime('2019-12-02')).days)"
   ]
  },
  {
   "cell_type": "code",
   "execution_count": 22,
   "id": "addba760-c1c1-49ac-9d56-604b63c2a744",
   "metadata": {},
   "outputs": [
    {
     "data": {
      "text/html": [
       "<div>\n",
       "<style scoped>\n",
       "    .dataframe tbody tr th:only-of-type {\n",
       "        vertical-align: middle;\n",
       "    }\n",
       "\n",
       "    .dataframe tbody tr th {\n",
       "        vertical-align: top;\n",
       "    }\n",
       "\n",
       "    .dataframe thead th {\n",
       "        text-align: right;\n",
       "    }\n",
       "</style>\n",
       "<table border=\"1\" class=\"dataframe\">\n",
       "  <thead>\n",
       "    <tr style=\"text-align: right;\">\n",
       "      <th></th>\n",
       "      <th>data_date</th>\n",
       "      <th>ordered_units</th>\n",
       "      <th>weight</th>\n",
       "    </tr>\n",
       "  </thead>\n",
       "  <tbody>\n",
       "    <tr>\n",
       "      <th>15973</th>\n",
       "      <td>2019-12-02</td>\n",
       "      <td>340</td>\n",
       "      <td>0</td>\n",
       "    </tr>\n",
       "  </tbody>\n",
       "</table>\n",
       "</div>"
      ],
      "text/plain": [
       "       data_date  ordered_units  weight\n",
       "15973 2019-12-02            340       0"
      ]
     },
     "execution_count": 22,
     "metadata": {},
     "output_type": "execute_result"
    }
   ],
   "source": [
    "alldata.head(1)"
   ]
  },
  {
   "cell_type": "markdown",
   "id": "7760e0c0-69df-453b-a770-ffe63b16d73e",
   "metadata": {},
   "source": [
    "### 缺失值"
   ]
  },
  {
   "cell_type": "code",
   "execution_count": 23,
   "id": "c8d0af97-d65f-4a7a-b103-bc85154e7930",
   "metadata": {},
   "outputs": [
    {
     "data": {
      "text/plain": [
       "data_date        0\n",
       "ordered_units    0\n",
       "weight           0\n",
       "dtype: int64"
      ]
     },
     "execution_count": 23,
     "metadata": {},
     "output_type": "execute_result"
    }
   ],
   "source": [
    "alldata.isnull().sum()"
   ]
  },
  {
   "cell_type": "markdown",
   "id": "de005c50-1832-458f-89d9-17c41a7d01b5",
   "metadata": {},
   "source": [
    "无缺失值不用处理"
   ]
  },
  {
   "cell_type": "markdown",
   "id": "1145eda8-a6d2-4b3a-98f0-4d48d9e15384",
   "metadata": {},
   "source": [
    "### 创造特征"
   ]
  },
  {
   "cell_type": "code",
   "execution_count": 24,
   "id": "da1ad1d7-93fe-4028-b470-d3b0faa4ee2b",
   "metadata": {},
   "outputs": [],
   "source": [
    "def create_feature(df):\n",
    "    df['year'] = df.data_date.dt.year\n",
    "    df['month'] = df.data_date.dt.month\n",
    "    df['day'] = df.data_date.dt.day\n",
    "    df['weekday'] = df.data_date.dt.weekday  # 周几\n",
    "    df['quarter'] = df.data_date.dt.quarter  # 季度\n",
    "    df['weekofyear'] = df.data_date.dt.weekofyear\n",
    "\n",
    "    df.drop('data_date', axis=1, inplace=True)\n",
    "    return df"
   ]
  },
  {
   "cell_type": "code",
   "execution_count": 25,
   "id": "96a34693-43cf-4ebd-a38d-00d3e59531b2",
   "metadata": {},
   "outputs": [],
   "source": [
    "alldata = create_feature(alldata)"
   ]
  },
  {
   "cell_type": "code",
   "execution_count": 26,
   "id": "ba3c67ee-d208-46fa-8a3b-ba8f033eb54d",
   "metadata": {},
   "outputs": [
    {
     "data": {
      "text/html": [
       "<div>\n",
       "<style scoped>\n",
       "    .dataframe tbody tr th:only-of-type {\n",
       "        vertical-align: middle;\n",
       "    }\n",
       "\n",
       "    .dataframe tbody tr th {\n",
       "        vertical-align: top;\n",
       "    }\n",
       "\n",
       "    .dataframe thead th {\n",
       "        text-align: right;\n",
       "    }\n",
       "</style>\n",
       "<table border=\"1\" class=\"dataframe\">\n",
       "  <thead>\n",
       "    <tr style=\"text-align: right;\">\n",
       "      <th></th>\n",
       "      <th>ordered_units</th>\n",
       "      <th>weight</th>\n",
       "      <th>year</th>\n",
       "      <th>month</th>\n",
       "      <th>day</th>\n",
       "      <th>weekday</th>\n",
       "      <th>quarter</th>\n",
       "      <th>weekofyear</th>\n",
       "    </tr>\n",
       "  </thead>\n",
       "  <tbody>\n",
       "    <tr>\n",
       "      <th>15973</th>\n",
       "      <td>340</td>\n",
       "      <td>0</td>\n",
       "      <td>2019</td>\n",
       "      <td>12</td>\n",
       "      <td>2</td>\n",
       "      <td>0</td>\n",
       "      <td>4</td>\n",
       "      <td>49</td>\n",
       "    </tr>\n",
       "    <tr>\n",
       "      <th>15935</th>\n",
       "      <td>100</td>\n",
       "      <td>1</td>\n",
       "      <td>2019</td>\n",
       "      <td>12</td>\n",
       "      <td>3</td>\n",
       "      <td>1</td>\n",
       "      <td>4</td>\n",
       "      <td>49</td>\n",
       "    </tr>\n",
       "    <tr>\n",
       "      <th>15870</th>\n",
       "      <td>39</td>\n",
       "      <td>3</td>\n",
       "      <td>2019</td>\n",
       "      <td>12</td>\n",
       "      <td>5</td>\n",
       "      <td>3</td>\n",
       "      <td>4</td>\n",
       "      <td>49</td>\n",
       "    </tr>\n",
       "  </tbody>\n",
       "</table>\n",
       "</div>"
      ],
      "text/plain": [
       "       ordered_units  weight  year  month  day  weekday  quarter  weekofyear\n",
       "15973            340       0  2019     12    2        0        4          49\n",
       "15935            100       1  2019     12    3        1        4          49\n",
       "15870             39       3  2019     12    5        3        4          49"
      ]
     },
     "execution_count": 26,
     "metadata": {},
     "output_type": "execute_result"
    }
   ],
   "source": [
    "alldata.head(3)"
   ]
  },
  {
   "cell_type": "code",
   "execution_count": 164,
   "id": "b841874d-23e8-4644-a127-8aae2c956580",
   "metadata": {},
   "outputs": [
    {
     "data": {
      "text/plain": [
       "array([0, 1, 2, 5, 4, 3, 6], dtype=int64)"
      ]
     },
     "execution_count": 164,
     "metadata": {},
     "output_type": "execute_result"
    }
   ],
   "source": [
    "x_train.weekday.unique()"
   ]
  },
  {
   "cell_type": "code",
   "execution_count": 162,
   "id": "79f58828-3de5-42b8-8b2a-a6e671e14d86",
   "metadata": {},
   "outputs": [],
   "source": [
    "x = alldata.drop('ordered_units', axis=1)\n",
    "y = alldata['ordered_units']\n",
    "x_train, x_test, y_train, y_test = train_test_split(\n",
    "    x, y, test_size=0.1)"
   ]
  },
  {
   "cell_type": "markdown",
   "id": "fadb456c-69e7-4faa-a107-faf5f2bd1993",
   "metadata": {},
   "source": [
    "### 编码"
   ]
  },
  {
   "cell_type": "code",
   "execution_count": 29,
   "id": "39c75cd8-a009-4cf5-8a8d-144b152e084c",
   "metadata": {},
   "outputs": [
    {
     "data": {
      "text/html": [
       "<div>\n",
       "<style scoped>\n",
       "    .dataframe tbody tr th:only-of-type {\n",
       "        vertical-align: middle;\n",
       "    }\n",
       "\n",
       "    .dataframe tbody tr th {\n",
       "        vertical-align: top;\n",
       "    }\n",
       "\n",
       "    .dataframe thead th {\n",
       "        text-align: right;\n",
       "    }\n",
       "</style>\n",
       "<table border=\"1\" class=\"dataframe\">\n",
       "  <thead>\n",
       "    <tr style=\"text-align: right;\">\n",
       "      <th></th>\n",
       "      <th>weight</th>\n",
       "      <th>year</th>\n",
       "      <th>month</th>\n",
       "      <th>day</th>\n",
       "      <th>weekday</th>\n",
       "      <th>quarter</th>\n",
       "      <th>weekofyear</th>\n",
       "    </tr>\n",
       "  </thead>\n",
       "  <tbody>\n",
       "    <tr>\n",
       "      <th>16260</th>\n",
       "      <td>403</td>\n",
       "      <td>2021</td>\n",
       "      <td>1</td>\n",
       "      <td>8</td>\n",
       "      <td>4</td>\n",
       "      <td>1</td>\n",
       "      <td>1</td>\n",
       "    </tr>\n",
       "    <tr>\n",
       "      <th>2537</th>\n",
       "      <td>346</td>\n",
       "      <td>2020</td>\n",
       "      <td>11</td>\n",
       "      <td>12</td>\n",
       "      <td>3</td>\n",
       "      <td>4</td>\n",
       "      <td>46</td>\n",
       "    </tr>\n",
       "  </tbody>\n",
       "</table>\n",
       "</div>"
      ],
      "text/plain": [
       "       weight  year  month  day  weekday  quarter  weekofyear\n",
       "16260     403  2021      1    8        4        1           1\n",
       "2537      346  2020     11   12        3        4          46"
      ]
     },
     "execution_count": 29,
     "metadata": {},
     "output_type": "execute_result"
    }
   ],
   "source": [
    "x_train.head(2)"
   ]
  },
  {
   "cell_type": "code",
   "execution_count": 30,
   "id": "20299f7b-5858-4b8b-bc71-543eae38dc4b",
   "metadata": {},
   "outputs": [
    {
     "data": {
      "text/plain": [
       "((513, 623), (58, 623))"
      ]
     },
     "execution_count": 30,
     "metadata": {},
     "output_type": "execute_result"
    }
   ],
   "source": [
    "encoder = OneHotEncoder(sparse=False, handle_unknown='ignore')\n",
    "x_train = encoder.fit_transform(x_train)\n",
    "x_test = encoder.transform(x_test)\n",
    "x_train.shape, x_test.shape"
   ]
  },
  {
   "cell_type": "markdown",
   "id": "0b25cf6f-0109-4077-9e7f-108d80e33729",
   "metadata": {},
   "source": [
    "## 训练"
   ]
  },
  {
   "cell_type": "markdown",
   "id": "167490ec-f77f-4b52-bca1-35e268b3d722",
   "metadata": {},
   "source": [
    "### sklearn api"
   ]
  },
  {
   "cell_type": "code",
   "execution_count": 33,
   "id": "1a3a5551-d56c-4043-bc89-a7c54dce37ea",
   "metadata": {},
   "outputs": [
    {
     "name": "stdout",
     "output_type": "stream",
     "text": [
      "0.6076963697825202\n"
     ]
    },
    {
     "data": {
      "text/plain": [
       "1.8117451667785645"
      ]
     },
     "execution_count": 33,
     "metadata": {},
     "output_type": "execute_result"
    }
   ],
   "source": [
    "ts = time()\n",
    "print(cross_val_score(xgbr, x_train, y_train, cv=5).mean())\n",
    "time() - ts"
   ]
  },
  {
   "cell_type": "code",
   "execution_count": 32,
   "id": "0e8d3478-5ed1-4afc-a713-318b6f015ef1",
   "metadata": {
    "collapsed": true,
    "jupyter": {
     "outputs_hidden": true
    },
    "tags": []
   },
   "outputs": [
    {
     "name": "stdout",
     "output_type": "stream",
     "text": [
      "[0]\tvalidation_0-rmse:471.73657\tvalidation_1-rmse:646.30981\n",
      "[1]\tvalidation_0-rmse:345.95514\tvalidation_1-rmse:500.22086\n",
      "[2]\tvalidation_0-rmse:297.62564\tvalidation_1-rmse:460.25171\n",
      "[3]\tvalidation_0-rmse:225.38251\tvalidation_1-rmse:374.13165\n",
      "[4]\tvalidation_0-rmse:199.62248\tvalidation_1-rmse:382.64358\n",
      "[5]\tvalidation_0-rmse:172.60646\tvalidation_1-rmse:333.37878\n",
      "[6]\tvalidation_0-rmse:144.99190\tvalidation_1-rmse:305.52411\n",
      "[7]\tvalidation_0-rmse:140.32585\tvalidation_1-rmse:305.18408\n",
      "[8]\tvalidation_0-rmse:131.80075\tvalidation_1-rmse:301.86633\n",
      "[9]\tvalidation_0-rmse:121.74366\tvalidation_1-rmse:306.85394\n",
      "[10]\tvalidation_0-rmse:110.86061\tvalidation_1-rmse:286.83194\n",
      "[11]\tvalidation_0-rmse:101.38938\tvalidation_1-rmse:276.68820\n",
      "[12]\tvalidation_0-rmse:97.90314\tvalidation_1-rmse:258.81097\n",
      "[13]\tvalidation_0-rmse:93.95652\tvalidation_1-rmse:256.11188\n",
      "[14]\tvalidation_0-rmse:90.72839\tvalidation_1-rmse:261.06702\n",
      "[15]\tvalidation_0-rmse:88.02765\tvalidation_1-rmse:260.18012\n",
      "[16]\tvalidation_0-rmse:84.92268\tvalidation_1-rmse:262.59482\n",
      "[17]\tvalidation_0-rmse:81.90476\tvalidation_1-rmse:261.91480\n",
      "[18]\tvalidation_0-rmse:80.10053\tvalidation_1-rmse:263.38641\n",
      "[19]\tvalidation_0-rmse:78.27348\tvalidation_1-rmse:263.10852\n",
      "[20]\tvalidation_0-rmse:74.45040\tvalidation_1-rmse:255.44200\n",
      "[21]\tvalidation_0-rmse:72.74126\tvalidation_1-rmse:257.81546\n",
      "[22]\tvalidation_0-rmse:71.50146\tvalidation_1-rmse:259.80469\n",
      "[23]\tvalidation_0-rmse:70.47909\tvalidation_1-rmse:259.62946\n",
      "[24]\tvalidation_0-rmse:68.31421\tvalidation_1-rmse:257.48975\n",
      "[25]\tvalidation_0-rmse:66.48756\tvalidation_1-rmse:249.92831\n",
      "[26]\tvalidation_0-rmse:65.17655\tvalidation_1-rmse:251.92320\n",
      "[27]\tvalidation_0-rmse:63.30919\tvalidation_1-rmse:252.56564\n",
      "[28]\tvalidation_0-rmse:62.22813\tvalidation_1-rmse:253.71579\n",
      "[29]\tvalidation_0-rmse:61.50340\tvalidation_1-rmse:253.14375\n",
      "[30]\tvalidation_0-rmse:60.30131\tvalidation_1-rmse:253.07951\n",
      "[31]\tvalidation_0-rmse:59.19578\tvalidation_1-rmse:252.82794\n",
      "[32]\tvalidation_0-rmse:58.56505\tvalidation_1-rmse:253.04527\n",
      "[33]\tvalidation_0-rmse:57.81836\tvalidation_1-rmse:253.68083\n",
      "[34]\tvalidation_0-rmse:56.99810\tvalidation_1-rmse:253.72231\n",
      "[35]\tvalidation_0-rmse:56.37711\tvalidation_1-rmse:249.55156\n",
      "[36]\tvalidation_0-rmse:54.64166\tvalidation_1-rmse:249.12373\n",
      "[37]\tvalidation_0-rmse:53.99497\tvalidation_1-rmse:248.92218\n",
      "[38]\tvalidation_0-rmse:53.00803\tvalidation_1-rmse:246.96761\n",
      "[39]\tvalidation_0-rmse:51.67732\tvalidation_1-rmse:246.27171\n",
      "[40]\tvalidation_0-rmse:51.11681\tvalidation_1-rmse:245.94348\n",
      "[41]\tvalidation_0-rmse:50.21721\tvalidation_1-rmse:247.14981\n",
      "[42]\tvalidation_0-rmse:49.42166\tvalidation_1-rmse:247.47879\n",
      "[43]\tvalidation_0-rmse:48.70473\tvalidation_1-rmse:247.67348\n",
      "[44]\tvalidation_0-rmse:46.99066\tvalidation_1-rmse:247.05040\n",
      "[45]\tvalidation_0-rmse:46.10149\tvalidation_1-rmse:247.20638\n",
      "[46]\tvalidation_0-rmse:43.52680\tvalidation_1-rmse:244.37286\n",
      "[47]\tvalidation_0-rmse:42.44247\tvalidation_1-rmse:243.85925\n",
      "[48]\tvalidation_0-rmse:41.96915\tvalidation_1-rmse:243.94459\n",
      "[49]\tvalidation_0-rmse:41.47156\tvalidation_1-rmse:243.82573\n",
      "[50]\tvalidation_0-rmse:40.89931\tvalidation_1-rmse:243.84448\n",
      "[51]\tvalidation_0-rmse:39.19016\tvalidation_1-rmse:244.06522\n",
      "[52]\tvalidation_0-rmse:38.79245\tvalidation_1-rmse:244.03458\n",
      "[53]\tvalidation_0-rmse:38.55235\tvalidation_1-rmse:244.00304\n",
      "[54]\tvalidation_0-rmse:38.00861\tvalidation_1-rmse:243.98047\n",
      "[55]\tvalidation_0-rmse:37.35957\tvalidation_1-rmse:243.96323\n",
      "[56]\tvalidation_0-rmse:36.72449\tvalidation_1-rmse:244.02315\n",
      "[57]\tvalidation_0-rmse:36.16682\tvalidation_1-rmse:244.75273\n",
      "[58]\tvalidation_0-rmse:35.73308\tvalidation_1-rmse:244.55963\n",
      "[59]\tvalidation_0-rmse:35.05413\tvalidation_1-rmse:246.23167\n",
      "[60]\tvalidation_0-rmse:34.57748\tvalidation_1-rmse:245.25472\n",
      "[61]\tvalidation_0-rmse:34.27874\tvalidation_1-rmse:245.20001\n",
      "[62]\tvalidation_0-rmse:33.92738\tvalidation_1-rmse:245.23689\n",
      "[63]\tvalidation_0-rmse:32.75067\tvalidation_1-rmse:243.37648\n",
      "[64]\tvalidation_0-rmse:32.49458\tvalidation_1-rmse:244.28081\n",
      "[65]\tvalidation_0-rmse:32.05017\tvalidation_1-rmse:244.37665\n",
      "[66]\tvalidation_0-rmse:30.18733\tvalidation_1-rmse:245.23535\n",
      "[67]\tvalidation_0-rmse:29.82951\tvalidation_1-rmse:245.26035\n",
      "[68]\tvalidation_0-rmse:29.58556\tvalidation_1-rmse:245.24446\n",
      "[69]\tvalidation_0-rmse:29.38690\tvalidation_1-rmse:245.24396\n",
      "[70]\tvalidation_0-rmse:28.70908\tvalidation_1-rmse:244.70685\n",
      "[71]\tvalidation_0-rmse:28.22124\tvalidation_1-rmse:246.37938\n",
      "[72]\tvalidation_0-rmse:27.76912\tvalidation_1-rmse:246.71117\n",
      "[73]\tvalidation_0-rmse:27.42387\tvalidation_1-rmse:246.66322\n",
      "[74]\tvalidation_0-rmse:27.14607\tvalidation_1-rmse:246.62436\n",
      "[75]\tvalidation_0-rmse:26.90677\tvalidation_1-rmse:245.94197\n",
      "[76]\tvalidation_0-rmse:26.41591\tvalidation_1-rmse:245.26739\n",
      "[77]\tvalidation_0-rmse:26.05617\tvalidation_1-rmse:246.91029\n",
      "[78]\tvalidation_0-rmse:25.86582\tvalidation_1-rmse:247.04822\n",
      "[79]\tvalidation_0-rmse:25.58269\tvalidation_1-rmse:247.04277\n",
      "[80]\tvalidation_0-rmse:25.18332\tvalidation_1-rmse:245.99095\n",
      "[81]\tvalidation_0-rmse:24.79607\tvalidation_1-rmse:246.93529\n",
      "[82]\tvalidation_0-rmse:24.39842\tvalidation_1-rmse:246.96985\n",
      "[83]\tvalidation_0-rmse:24.06408\tvalidation_1-rmse:246.90364\n"
     ]
    },
    {
     "data": {
      "text/plain": [
       "XGBRegressor(base_score=0.5, booster='gbtree', colsample_bylevel=1,\n",
       "             colsample_bynode=1, colsample_bytree=0.7, gamma=1, gpu_id=-1,\n",
       "             importance_type='gain', interaction_constraints='',\n",
       "             learning_rate=0.35, max_delta_step=0, max_depth=7,\n",
       "             min_child_weight=1, missing=nan, monotone_constraints='()',\n",
       "             n_estimators=200, n_jobs=8, num_parallel_tree=1, random_state=0,\n",
       "             reg_alpha=0, reg_lambda=1, scale_pos_weight=1, subsample=0.6,\n",
       "             tree_method='exact', validate_parameters=1, verbosity=1)"
      ]
     },
     "execution_count": 32,
     "metadata": {},
     "output_type": "execute_result"
    }
   ],
   "source": [
    "xgbr = XGBRegressor(n_estimators=200,\n",
    "                    learning_rate=0.35,\n",
    "                    max_depth=7,\n",
    "                    subsample=0.6,\n",
    "                    colsample_bytree=0.7,\n",
    "                    objective='reg:squarederror',\n",
    "                    base_score=0.5,\n",
    "                    gamma=1,\n",
    "                    n_jobs=8, verbosity=1)\n",
    "\n",
    "xgbr.fit(x_train, y_train, eval_set=[(x_train, y_train), (x_test, y_test)],\n",
    "         early_stopping_rounds=20, verbose=True)"
   ]
  },
  {
   "cell_type": "code",
   "execution_count": null,
   "id": "eede13fb-f7de-4082-828c-563b6b20d160",
   "metadata": {},
   "outputs": [],
   "source": [
    "# 网格搜索\n",
    "# params_grid = {'learning_rate': np.arange(0, 1, 0.05)}\n",
    "\n",
    "# params_grid = {'max_depth': range(0, 8, 1)}\n",
    "\n",
    "# params_grid = {'subsample': np.arange(0, 1, 0.05)}\n",
    "params_grid = {'colsample_bytree': np.arange(0, 1, 0.05)}\n",
    "\n",
    "gridCV = GridSearchCV(xgbr, params_grid, cv=5, scoring='r2', n_jobs=8)\n",
    "\n",
    "ts = time()\n",
    "gridCV.fit(x_train, y_train)\n",
    "print(time() - ts)\n",
    "gridCV.best_params_, gridCV.best_score_"
   ]
  },
  {
   "cell_type": "code",
   "execution_count": null,
   "id": "8760765a-f182-4231-90bb-3ab0d43af422",
   "metadata": {},
   "outputs": [],
   "source": [
    "result = xgbr.evals_result()\n",
    "plt.plot(result['validation_0']['rmse'])\n",
    "plt.plot(result['validation_1']['rmse'])"
   ]
  },
  {
   "cell_type": "markdown",
   "id": "bb3ba10d-23b7-4765-b2f7-ffb93222c625",
   "metadata": {},
   "source": [
    "### xgboost api"
   ]
  },
  {
   "cell_type": "code",
   "execution_count": 38,
   "id": "4c6405e4-872c-47f3-8b98-7fe970c712b6",
   "metadata": {
    "collapsed": true,
    "jupyter": {
     "outputs_hidden": true
    },
    "tags": []
   },
   "outputs": [
    {
     "name": "stdout",
     "output_type": "stream",
     "text": [
      "[0]\ttest-rmse:787.05859\n",
      "[1]\ttest-rmse:605.59271\n",
      "[2]\ttest-rmse:535.71790\n",
      "[3]\ttest-rmse:504.41638\n",
      "[4]\ttest-rmse:451.57785\n",
      "[5]\ttest-rmse:416.67691\n",
      "[6]\ttest-rmse:368.91260\n",
      "[7]\ttest-rmse:337.75443\n",
      "[8]\ttest-rmse:336.24973\n",
      "[9]\ttest-rmse:334.07410\n",
      "[10]\ttest-rmse:320.31738\n",
      "[11]\ttest-rmse:320.45258\n",
      "[12]\ttest-rmse:305.20642\n",
      "[13]\ttest-rmse:285.16476\n",
      "[14]\ttest-rmse:286.65512\n",
      "[15]\ttest-rmse:284.19476\n",
      "[16]\ttest-rmse:284.05826\n",
      "[17]\ttest-rmse:283.70371\n",
      "[18]\ttest-rmse:279.53226\n",
      "[19]\ttest-rmse:281.19687\n",
      "[20]\ttest-rmse:277.47406\n",
      "[21]\ttest-rmse:278.99527\n",
      "[22]\ttest-rmse:273.31439\n",
      "[23]\ttest-rmse:263.51685\n",
      "[24]\ttest-rmse:261.43713\n",
      "[25]\ttest-rmse:255.99350\n",
      "[26]\ttest-rmse:256.36807\n",
      "[27]\ttest-rmse:255.47286\n",
      "[28]\ttest-rmse:254.09540\n",
      "[29]\ttest-rmse:256.87180\n",
      "[30]\ttest-rmse:258.02121\n",
      "[31]\ttest-rmse:252.14825\n",
      "[32]\ttest-rmse:259.23050\n",
      "[33]\ttest-rmse:261.94702\n",
      "[34]\ttest-rmse:259.51361\n",
      "[35]\ttest-rmse:260.83997\n",
      "[36]\ttest-rmse:257.71121\n",
      "[37]\ttest-rmse:259.52267\n",
      "[38]\ttest-rmse:266.07889\n",
      "[39]\ttest-rmse:259.49432\n",
      "[40]\ttest-rmse:259.80453\n",
      "[41]\ttest-rmse:260.76218\n",
      "[42]\ttest-rmse:260.21356\n",
      "[43]\ttest-rmse:252.00769\n",
      "[44]\ttest-rmse:250.13261\n",
      "[45]\ttest-rmse:252.78278\n",
      "[46]\ttest-rmse:250.78601\n",
      "[47]\ttest-rmse:253.06047\n",
      "[48]\ttest-rmse:252.72423\n",
      "[49]\ttest-rmse:254.15414\n",
      "[50]\ttest-rmse:254.56889\n",
      "[51]\ttest-rmse:257.14062\n",
      "[52]\ttest-rmse:255.93312\n",
      "[53]\ttest-rmse:254.03284\n",
      "[54]\ttest-rmse:252.11551\n",
      "[55]\ttest-rmse:250.71370\n",
      "[56]\ttest-rmse:249.98627\n",
      "[57]\ttest-rmse:249.21081\n",
      "[58]\ttest-rmse:249.09166\n",
      "[59]\ttest-rmse:249.54633\n",
      "[60]\ttest-rmse:249.08185\n",
      "[61]\ttest-rmse:247.98508\n",
      "[62]\ttest-rmse:246.80408\n",
      "[63]\ttest-rmse:248.27844\n",
      "[64]\ttest-rmse:247.30556\n",
      "[65]\ttest-rmse:246.65703\n",
      "[66]\ttest-rmse:244.42323\n",
      "[67]\ttest-rmse:241.21217\n",
      "[68]\ttest-rmse:238.19881\n",
      "[69]\ttest-rmse:242.58142\n",
      "[70]\ttest-rmse:244.56546\n",
      "[71]\ttest-rmse:244.74786\n",
      "[72]\ttest-rmse:246.17410\n",
      "[73]\ttest-rmse:246.11646\n",
      "[74]\ttest-rmse:247.32744\n",
      "[75]\ttest-rmse:246.04793\n",
      "[76]\ttest-rmse:243.21490\n",
      "[77]\ttest-rmse:243.78812\n",
      "[78]\ttest-rmse:247.25171\n",
      "[79]\ttest-rmse:251.47815\n",
      "[80]\ttest-rmse:252.76279\n",
      "[81]\ttest-rmse:251.71710\n",
      "[82]\ttest-rmse:251.40764\n",
      "[83]\ttest-rmse:252.60289\n",
      "[84]\ttest-rmse:251.46544\n",
      "[85]\ttest-rmse:252.78674\n",
      "[86]\ttest-rmse:253.49190\n",
      "[87]\ttest-rmse:251.10969\n"
     ]
    }
   ],
   "source": [
    "dtrain = xgb.DMatrix(x_train, y_train)\n",
    "dtest = xgb.DMatrix(x_test, y_test)\n",
    "\n",
    "params = {'eta': 0.3,\n",
    "          'objective': 'reg:squarederror',\n",
    "          'gamma': 0,\n",
    "          'max_depth': 5,\n",
    "          'subsample': 0.5,\n",
    "          'colsample_bytree': 1,\n",
    "          'base_score': 0.5,\n",
    "          'n_jobs': 8}\n",
    "\n",
    "a = {}  # 记录验证集结果\n",
    "model = xgb.train(params, dtrain, 300, early_stopping_rounds=20, evals=[\n",
    "                  (dtest, 'test')], evals_result=a, verbose_eval=True)"
   ]
  },
  {
   "cell_type": "markdown",
   "id": "fe419330-41b8-4fdd-af00-e644bf902f6e",
   "metadata": {},
   "source": [
    "## 测试"
   ]
  },
  {
   "cell_type": "markdown",
   "id": "00330fe6-0bb7-4d91-b043-c147319b68a4",
   "metadata": {},
   "source": [
    "### sklearn api"
   ]
  },
  {
   "cell_type": "code",
   "execution_count": 34,
   "id": "76cc57f4-433c-42a0-ac47-204abae2f94b",
   "metadata": {},
   "outputs": [
    {
     "name": "stdout",
     "output_type": "stream",
     "text": [
      "metrics1: 0.964\n",
      "metrics2: 0.608\n",
      "r2: 0.832\n"
     ]
    }
   ],
   "source": [
    "y_pred = xgbr.predict(x_test)\n",
    "print('metrics1: {:.3f}\\nmetrics2: {:.3f}\\nr2: {:.3f}'.format(metrics1(y_test, y_pred),\n",
    "                                                              metrics2(\n",
    "                                                                  y_test, y_pred),\n",
    "                                                              r2_score(y_test, y_pred)))"
   ]
  },
  {
   "cell_type": "code",
   "execution_count": null,
   "id": "c538bb84-5f41-4c6e-a2b3-433cfd88e522",
   "metadata": {},
   "outputs": [],
   "source": [
    "StackingClassifier()"
   ]
  },
  {
   "cell_type": "code",
   "execution_count": 51,
   "id": "2fbc6fab-2733-450f-a8b8-c81333fa853d",
   "metadata": {
    "collapsed": true,
    "jupyter": {
     "outputs_hidden": true
    },
    "tags": []
   },
   "outputs": [
    {
     "data": {
      "text/html": [
       "<div>\n",
       "<style scoped>\n",
       "    .dataframe tbody tr th:only-of-type {\n",
       "        vertical-align: middle;\n",
       "    }\n",
       "\n",
       "    .dataframe tbody tr th {\n",
       "        vertical-align: top;\n",
       "    }\n",
       "\n",
       "    .dataframe thead th {\n",
       "        text-align: right;\n",
       "    }\n",
       "</style>\n",
       "<table border=\"1\" class=\"dataframe\">\n",
       "  <thead>\n",
       "    <tr style=\"text-align: right;\">\n",
       "      <th></th>\n",
       "      <th>y_test:</th>\n",
       "      <th>y_pred:</th>\n",
       "    </tr>\n",
       "  </thead>\n",
       "  <tbody>\n",
       "    <tr>\n",
       "      <th>26561</th>\n",
       "      <td>386</td>\n",
       "      <td>387.6656</td>\n",
       "    </tr>\n",
       "    <tr>\n",
       "      <th>4426</th>\n",
       "      <td>59</td>\n",
       "      <td>107.5794</td>\n",
       "    </tr>\n",
       "    <tr>\n",
       "      <th>15118</th>\n",
       "      <td>202</td>\n",
       "      <td>-4.3442</td>\n",
       "    </tr>\n",
       "    <tr>\n",
       "      <th>1188</th>\n",
       "      <td>2402</td>\n",
       "      <td>2230.8232</td>\n",
       "    </tr>\n",
       "    <tr>\n",
       "      <th>16054</th>\n",
       "      <td>189</td>\n",
       "      <td>142.1463</td>\n",
       "    </tr>\n",
       "    <tr>\n",
       "      <th>9612</th>\n",
       "      <td>240</td>\n",
       "      <td>227.6934</td>\n",
       "    </tr>\n",
       "    <tr>\n",
       "      <th>22444</th>\n",
       "      <td>183</td>\n",
       "      <td>145.3681</td>\n",
       "    </tr>\n",
       "    <tr>\n",
       "      <th>8909</th>\n",
       "      <td>156</td>\n",
       "      <td>217.2443</td>\n",
       "    </tr>\n",
       "    <tr>\n",
       "      <th>13780</th>\n",
       "      <td>192</td>\n",
       "      <td>196.5644</td>\n",
       "    </tr>\n",
       "    <tr>\n",
       "      <th>28240</th>\n",
       "      <td>125</td>\n",
       "      <td>183.3165</td>\n",
       "    </tr>\n",
       "    <tr>\n",
       "      <th>25386</th>\n",
       "      <td>317</td>\n",
       "      <td>316.3529</td>\n",
       "    </tr>\n",
       "    <tr>\n",
       "      <th>12607</th>\n",
       "      <td>135</td>\n",
       "      <td>125.7821</td>\n",
       "    </tr>\n",
       "    <tr>\n",
       "      <th>6857</th>\n",
       "      <td>164</td>\n",
       "      <td>150.1705</td>\n",
       "    </tr>\n",
       "    <tr>\n",
       "      <th>3420</th>\n",
       "      <td>174</td>\n",
       "      <td>115.2887</td>\n",
       "    </tr>\n",
       "    <tr>\n",
       "      <th>26262</th>\n",
       "      <td>216</td>\n",
       "      <td>154.3288</td>\n",
       "    </tr>\n",
       "    <tr>\n",
       "      <th>7145</th>\n",
       "      <td>165</td>\n",
       "      <td>238.9643</td>\n",
       "    </tr>\n",
       "    <tr>\n",
       "      <th>21765</th>\n",
       "      <td>197</td>\n",
       "      <td>191.6031</td>\n",
       "    </tr>\n",
       "    <tr>\n",
       "      <th>3511</th>\n",
       "      <td>190</td>\n",
       "      <td>116.3231</td>\n",
       "    </tr>\n",
       "    <tr>\n",
       "      <th>23241</th>\n",
       "      <td>136</td>\n",
       "      <td>146.9563</td>\n",
       "    </tr>\n",
       "    <tr>\n",
       "      <th>25675</th>\n",
       "      <td>272</td>\n",
       "      <td>171.2670</td>\n",
       "    </tr>\n",
       "    <tr>\n",
       "      <th>2960</th>\n",
       "      <td>104</td>\n",
       "      <td>73.6998</td>\n",
       "    </tr>\n",
       "    <tr>\n",
       "      <th>2868</th>\n",
       "      <td>86</td>\n",
       "      <td>101.4474</td>\n",
       "    </tr>\n",
       "    <tr>\n",
       "      <th>28844</th>\n",
       "      <td>161</td>\n",
       "      <td>145.9483</td>\n",
       "    </tr>\n",
       "    <tr>\n",
       "      <th>26799</th>\n",
       "      <td>389</td>\n",
       "      <td>193.2490</td>\n",
       "    </tr>\n",
       "    <tr>\n",
       "      <th>18449</th>\n",
       "      <td>195</td>\n",
       "      <td>141.1398</td>\n",
       "    </tr>\n",
       "    <tr>\n",
       "      <th>24058</th>\n",
       "      <td>91</td>\n",
       "      <td>139.2065</td>\n",
       "    </tr>\n",
       "    <tr>\n",
       "      <th>7780</th>\n",
       "      <td>384</td>\n",
       "      <td>332.6603</td>\n",
       "    </tr>\n",
       "    <tr>\n",
       "      <th>27935</th>\n",
       "      <td>416</td>\n",
       "      <td>262.2492</td>\n",
       "    </tr>\n",
       "    <tr>\n",
       "      <th>19658</th>\n",
       "      <td>205</td>\n",
       "      <td>218.0267</td>\n",
       "    </tr>\n",
       "    <tr>\n",
       "      <th>24919</th>\n",
       "      <td>107</td>\n",
       "      <td>175.4338</td>\n",
       "    </tr>\n",
       "    <tr>\n",
       "      <th>8750</th>\n",
       "      <td>201</td>\n",
       "      <td>207.3128</td>\n",
       "    </tr>\n",
       "    <tr>\n",
       "      <th>12831</th>\n",
       "      <td>145</td>\n",
       "      <td>187.9136</td>\n",
       "    </tr>\n",
       "    <tr>\n",
       "      <th>7621</th>\n",
       "      <td>343</td>\n",
       "      <td>315.9181</td>\n",
       "    </tr>\n",
       "    <tr>\n",
       "      <th>14473</th>\n",
       "      <td>236</td>\n",
       "      <td>261.8642</td>\n",
       "    </tr>\n",
       "    <tr>\n",
       "      <th>14577</th>\n",
       "      <td>188</td>\n",
       "      <td>235.0533</td>\n",
       "    </tr>\n",
       "    <tr>\n",
       "      <th>24228</th>\n",
       "      <td>58</td>\n",
       "      <td>131.0308</td>\n",
       "    </tr>\n",
       "    <tr>\n",
       "      <th>1037</th>\n",
       "      <td>4127</td>\n",
       "      <td>2559.0227</td>\n",
       "    </tr>\n",
       "    <tr>\n",
       "      <th>17738</th>\n",
       "      <td>119</td>\n",
       "      <td>196.3216</td>\n",
       "    </tr>\n",
       "    <tr>\n",
       "      <th>18724</th>\n",
       "      <td>243</td>\n",
       "      <td>162.5831</td>\n",
       "    </tr>\n",
       "    <tr>\n",
       "      <th>17681</th>\n",
       "      <td>148</td>\n",
       "      <td>173.5195</td>\n",
       "    </tr>\n",
       "    <tr>\n",
       "      <th>8246</th>\n",
       "      <td>154</td>\n",
       "      <td>177.9294</td>\n",
       "    </tr>\n",
       "    <tr>\n",
       "      <th>263</th>\n",
       "      <td>375</td>\n",
       "      <td>388.4035</td>\n",
       "    </tr>\n",
       "    <tr>\n",
       "      <th>27876</th>\n",
       "      <td>465</td>\n",
       "      <td>368.0493</td>\n",
       "    </tr>\n",
       "    <tr>\n",
       "      <th>7821</th>\n",
       "      <td>367</td>\n",
       "      <td>396.9198</td>\n",
       "    </tr>\n",
       "    <tr>\n",
       "      <th>15457</th>\n",
       "      <td>438</td>\n",
       "      <td>1150.5581</td>\n",
       "    </tr>\n",
       "    <tr>\n",
       "      <th>5773</th>\n",
       "      <td>109</td>\n",
       "      <td>126.5162</td>\n",
       "    </tr>\n",
       "    <tr>\n",
       "      <th>1921</th>\n",
       "      <td>249</td>\n",
       "      <td>324.3044</td>\n",
       "    </tr>\n",
       "    <tr>\n",
       "      <th>1874</th>\n",
       "      <td>261</td>\n",
       "      <td>336.5924</td>\n",
       "    </tr>\n",
       "    <tr>\n",
       "      <th>2630</th>\n",
       "      <td>446</td>\n",
       "      <td>454.1458</td>\n",
       "    </tr>\n",
       "    <tr>\n",
       "      <th>20493</th>\n",
       "      <td>139</td>\n",
       "      <td>188.5129</td>\n",
       "    </tr>\n",
       "    <tr>\n",
       "      <th>24861</th>\n",
       "      <td>103</td>\n",
       "      <td>171.1296</td>\n",
       "    </tr>\n",
       "    <tr>\n",
       "      <th>14980</th>\n",
       "      <td>162</td>\n",
       "      <td>57.1695</td>\n",
       "    </tr>\n",
       "    <tr>\n",
       "      <th>2207</th>\n",
       "      <td>953</td>\n",
       "      <td>1126.8014</td>\n",
       "    </tr>\n",
       "    <tr>\n",
       "      <th>17571</th>\n",
       "      <td>189</td>\n",
       "      <td>162.5425</td>\n",
       "    </tr>\n",
       "    <tr>\n",
       "      <th>23884</th>\n",
       "      <td>78</td>\n",
       "      <td>130.1269</td>\n",
       "    </tr>\n",
       "    <tr>\n",
       "      <th>26739</th>\n",
       "      <td>277</td>\n",
       "      <td>385.4293</td>\n",
       "    </tr>\n",
       "    <tr>\n",
       "      <th>2679</th>\n",
       "      <td>87</td>\n",
       "      <td>498.0484</td>\n",
       "    </tr>\n",
       "    <tr>\n",
       "      <th>8284</th>\n",
       "      <td>150</td>\n",
       "      <td>142.3364</td>\n",
       "    </tr>\n",
       "  </tbody>\n",
       "</table>\n",
       "</div>"
      ],
      "text/plain": [
       "       y_test:   y_pred:\n",
       "26561      386  387.6656\n",
       "4426        59  107.5794\n",
       "15118      202   -4.3442\n",
       "1188      2402 2230.8232\n",
       "16054      189  142.1463\n",
       "9612       240  227.6934\n",
       "22444      183  145.3681\n",
       "8909       156  217.2443\n",
       "13780      192  196.5644\n",
       "28240      125  183.3165\n",
       "25386      317  316.3529\n",
       "12607      135  125.7821\n",
       "6857       164  150.1705\n",
       "3420       174  115.2887\n",
       "26262      216  154.3288\n",
       "7145       165  238.9643\n",
       "21765      197  191.6031\n",
       "3511       190  116.3231\n",
       "23241      136  146.9563\n",
       "25675      272  171.2670\n",
       "2960       104   73.6998\n",
       "2868        86  101.4474\n",
       "28844      161  145.9483\n",
       "26799      389  193.2490\n",
       "18449      195  141.1398\n",
       "24058       91  139.2065\n",
       "7780       384  332.6603\n",
       "27935      416  262.2492\n",
       "19658      205  218.0267\n",
       "24919      107  175.4338\n",
       "8750       201  207.3128\n",
       "12831      145  187.9136\n",
       "7621       343  315.9181\n",
       "14473      236  261.8642\n",
       "14577      188  235.0533\n",
       "24228       58  131.0308\n",
       "1037      4127 2559.0227\n",
       "17738      119  196.3216\n",
       "18724      243  162.5831\n",
       "17681      148  173.5195\n",
       "8246       154  177.9294\n",
       "263        375  388.4035\n",
       "27876      465  368.0493\n",
       "7821       367  396.9198\n",
       "15457      438 1150.5581\n",
       "5773       109  126.5162\n",
       "1921       249  324.3044\n",
       "1874       261  336.5924\n",
       "2630       446  454.1458\n",
       "20493      139  188.5129\n",
       "24861      103  171.1296\n",
       "14980      162   57.1695\n",
       "2207       953 1126.8014\n",
       "17571      189  162.5425\n",
       "23884       78  130.1269\n",
       "26739      277  385.4293\n",
       "2679        87  498.0484\n",
       "8284       150  142.3364"
      ]
     },
     "execution_count": 51,
     "metadata": {},
     "output_type": "execute_result"
    }
   ],
   "source": [
    "pd.DataFrame(data={'y_test:': y_test, 'y_pred:': y_pred})"
   ]
  },
  {
   "cell_type": "code",
   "execution_count": 119,
   "id": "ff745199-6c3a-458f-8def-22f9d2bbf985",
   "metadata": {},
   "outputs": [],
   "source": [
    "class aaa():\n",
    "    def __init__(self, age, name):\n",
    "        self.age = age\n",
    "        self.name = name\n",
    "\n",
    "    e = 1\n",
    "\n",
    "    @classmethod\n",
    "    def bb(cls):\n",
    "        print(cls(21, 'qq').age)\n",
    "        print(cls.e)\n",
    "        print('a')\n",
    "\n",
    "    @staticmethod\n",
    "    def nima():\n",
    "        print('static')\n",
    "\n",
    "    def func1(self):\n",
    "        print('nima')\n",
    "\n",
    "    @classmethod\n",
    "    def func2(cls):\n",
    "        return cls.__init__\n",
    "\n",
    "    def func3(self):\n",
    "        self.func1()"
   ]
  },
  {
   "cell_type": "code",
   "execution_count": 124,
   "id": "634397c3-ad0c-4b50-bf56-addac707a1b3",
   "metadata": {},
   "outputs": [],
   "source": [
    "getattr(ss, 'age')\n",
    "setattr(ss, 'age', 21)"
   ]
  },
  {
   "cell_type": "code",
   "execution_count": 120,
   "id": "09ecc6b9-408d-4a3a-a026-a85d0590440f",
   "metadata": {},
   "outputs": [
    {
     "data": {
      "text/plain": [
       "<function __main__.aaa.__init__(self, age, name)>"
      ]
     },
     "execution_count": 120,
     "metadata": {},
     "output_type": "execute_result"
    }
   ],
   "source": [
    "ss = aaa(1, 1)\n",
    "ss.func2()"
   ]
  },
  {
   "cell_type": "code",
   "execution_count": 87,
   "id": "43dbe130-552d-48a1-97fb-c37ee2da372f",
   "metadata": {},
   "outputs": [
    {
     "name": "stdout",
     "output_type": "stream",
     "text": [
      "21\n",
      "1\n",
      "a\n"
     ]
    }
   ],
   "source": [
    "aaa.bb()"
   ]
  },
  {
   "cell_type": "code",
   "execution_count": 90,
   "id": "e81d4f0c-7a7d-4d6f-8e3b-3fbc5eec7fc0",
   "metadata": {},
   "outputs": [],
   "source": []
  },
  {
   "cell_type": "code",
   "execution_count": 69,
   "id": "02a5ae0c-54f9-4ad7-a4cc-0cfd92d98693",
   "metadata": {},
   "outputs": [
    {
     "name": "stdout",
     "output_type": "stream",
     "text": [
      "<__main__.aaa object at 0x00000200E2456FD0>\n"
     ]
    }
   ],
   "source": [
    "print(ss)"
   ]
  },
  {
   "cell_type": "code",
   "execution_count": 64,
   "id": "cf45f708-8029-44d0-9d32-469b24a74eb2",
   "metadata": {},
   "outputs": [
    {
     "data": {
      "text/plain": [
       "1"
      ]
     },
     "execution_count": 64,
     "metadata": {},
     "output_type": "execute_result"
    }
   ],
   "source": [
    "aaa.e"
   ]
  },
  {
   "cell_type": "code",
   "execution_count": 62,
   "id": "18ca0ec1-a3c6-410c-a1f7-0c85e95c27bc",
   "metadata": {},
   "outputs": [
    {
     "name": "stdout",
     "output_type": "stream",
     "text": [
      "static\n"
     ]
    }
   ],
   "source": [
    "aaa.nima()"
   ]
  },
  {
   "cell_type": "code",
   "execution_count": 73,
   "id": "207eaef0-7b95-463b-81c3-baeba5757ca7",
   "metadata": {},
   "outputs": [
    {
     "name": "stdout",
     "output_type": "stream",
     "text": [
      "1\n",
      "a\n"
     ]
    }
   ],
   "source": [
    "aaa.bb()"
   ]
  },
  {
   "cell_type": "code",
   "execution_count": 56,
   "id": "6eda645e-d5c2-4e7a-9959-0345b04f622b",
   "metadata": {},
   "outputs": [
    {
     "data": {
      "text/plain": [
       "1.9812753200531006"
      ]
     },
     "execution_count": 56,
     "metadata": {},
     "output_type": "execute_result"
    }
   ],
   "source": [
    "ts = time()\n",
    "cross_val_score(xgbr, x_train, y_train, cv=5)\n",
    "time() - ts"
   ]
  },
  {
   "cell_type": "code",
   "execution_count": 53,
   "id": "01e8ffd6-e790-4462-b38f-7d9eaeee8d19",
   "metadata": {},
   "outputs": [],
   "source": [
    "from sklearn.ensemble import StackingClassifier"
   ]
  },
  {
   "cell_type": "code",
   "execution_count": 52,
   "id": "fdf653ee-25dc-42ee-9509-f8ee8f515811",
   "metadata": {},
   "outputs": [
    {
     "data": {
      "text/plain": [
       "[[], [], []]"
      ]
     },
     "execution_count": 52,
     "metadata": {},
     "output_type": "execute_result"
    }
   ],
   "source": [
    "[list() for x in [1, 2, 3]]"
   ]
  },
  {
   "cell_type": "code",
   "execution_count": 35,
   "id": "6e52120a-87b8-4acc-8ddf-5fbc4100bcab",
   "metadata": {
    "tags": []
   },
   "outputs": [
    {
     "data": {
      "text/plain": [
       "<matplotlib.legend.Legend at 0x200df9b5278>"
      ]
     },
     "execution_count": 35,
     "metadata": {},
     "output_type": "execute_result"
    },
    {
     "data": {
      "image/png": "[encoded data removed]",
      "text/plain": [
       "<Figure size 1080x288 with 1 Axes>"
      ]
     },
     "metadata": {
      "needs_background": "light"
     },
     "output_type": "display_data"
    }
   ],
   "source": [
    "plt.figure(figsize=(15, 4))\n",
    "plt.plot(y_test.values, label='true')\n",
    "plt.plot(y_pred, label='predict')\n",
    "plt.xticks(rotation=90)\n",
    "plt.grid()\n",
    "plt.legend()"
   ]
  },
  {
   "cell_type": "markdown",
   "id": "3de6b509-1f09-45e9-93e1-41ce0fca1fac",
   "metadata": {},
   "source": [
    "### xgboost api"
   ]
  },
  {
   "cell_type": "code",
   "execution_count": 35,
   "id": "11feb4c5-759d-4f9d-9c7e-e5e19209a0b6",
   "metadata": {},
   "outputs": [],
   "source": [
    "dtest = xgb.DMatrix(x_test, y_test)"
   ]
  },
  {
   "cell_type": "code",
   "execution_count": 36,
   "id": "2a1fcba7-c825-47a5-8aad-d9da7b5e4b05",
   "metadata": {
    "tags": []
   },
   "outputs": [
    {
     "name": "stdout",
     "output_type": "stream",
     "text": [
      "metrics1: 0.939\n",
      "metrics2: 0.732\n",
      "r2: 0.858\n"
     ]
    }
   ],
   "source": [
    "y_pred = model.predict(dtest)\n",
    "print('metrics1: {:.3f}\\nmetrics2: {:.3f}\\nr2: {:.3f}'.format(metrics1(y_test, y_pred),\n",
    "                                                              metrics2(\n",
    "                                                                  y_test, y_pred),\n",
    "                                                              r2_score(y_test, y_pred)))"
   ]
  },
  {
   "cell_type": "code",
   "execution_count": 37,
   "id": "8d64e389-ffae-4baa-94ed-6687a8a652c8",
   "metadata": {
    "tags": []
   },
   "outputs": [
    {
     "data": {
      "text/plain": [
       "<matplotlib.legend.Legend at 0x1db41b59f98>"
      ]
     },
     "execution_count": 37,
     "metadata": {},
     "output_type": "execute_result"
    },
    {
     "data": {
      "image/png": "[encoded data removed]",
      "text/plain": [
       "<Figure size 1080x288 with 1 Axes>"
      ]
     },
     "metadata": {
      "needs_background": "light"
     },
     "output_type": "display_data"
    }
   ],
   "source": [
    "plt.figure(figsize=(15, 4))\n",
    "plt.plot(y_test.values, label='true')\n",
    "plt.plot(y_pred, label='predict')\n",
    "plt.xticks(rotation=90)\n",
    "plt.grid()\n",
    "plt.legend()"
   ]
  },
  {
   "cell_type": "code",
   "execution_count": null,
   "id": "e0636bb9-17ce-4068-b643-b65107a8d651",
   "metadata": {
    "tags": []
   },
   "outputs": [],
   "source": [
    "model.get_score(importance_type='gain')"
   ]
  },
  {
   "cell_type": "code",
   "execution_count": null,
   "id": "471c6358-fc9a-4fd2-b827-7f87583206e4",
   "metadata": {},
   "outputs": [],
   "source": [
    "xgb.to_graphviz(model, num_trees=0)"
   ]
  },
  {
   "cell_type": "code",
   "execution_count": null,
   "id": "3d66f43c-243d-4c29-8e55-8679fd60e0d1",
   "metadata": {},
   "outputs": [],
   "source": [
    "import xgboost\n",
    "from xgboost import XGBClassifier\n",
    "from sklearn.datasets import load_iris\n",
    "\n",
    "iris = load_iris()\n",
    "x, y = iris.data, iris.target\n",
    "model = XGBClassifier()\n",
    "model.fit(x, y)\n",
    "# 如果输入是没有表头的array,会自动以f1,f2开始,需要更换表头\n",
    "# 画树结构图的时候也需要替换表头\n",
    "\n",
    "model.get_booster().feature_names = iris.feature_names\n",
    "# max_num_features指定排名最靠前的多少特征\n",
    "# height=0.2指定柱状图每个柱子的粗细,默认是0.2\n",
    "# importance_type='weight'默认是用特征子树中的出现次数(被选择次数),还有\"gain\"和\"cover\"\n",
    "xgboost.plot_importance(model, max_num_features=5, importance_type='gain')\n",
    "\n",
    "# f_score就是feature score\n",
    "model.feature_importances_  # 这里的特征重要性就是gain进行归一化之后的值"
   ]
  },
  {
   "cell_type": "code",
   "execution_count": null,
   "id": "dd4b31d8-f739-4a84-92f8-9afe79e24dec",
   "metadata": {},
   "outputs": [],
   "source": [
    "model.feature_importances_.sum()"
   ]
  },
  {
   "cell_type": "code",
   "execution_count": null,
   "id": "4c049132-c614-473f-8d0f-b19f32f17f4c",
   "metadata": {},
   "outputs": [],
   "source": [
    "2.9918/(2.9918+1.3149+0.0727+0.0424)"
   ]
  },
  {
   "cell_type": "code",
   "execution_count": null,
   "id": "6f243925-4941-47e8-a29c-4125a1fd33ae",
   "metadata": {},
   "outputs": [],
   "source": [
    "xgb.to_graphviz(model, num_trees=1)"
   ]
  },
  {
   "cell_type": "code",
   "execution_count": null,
   "id": "c5381199-7c3d-4994-ada5-241bc2b93f37",
   "metadata": {},
   "outputs": [],
   "source": [
    "from sklearn.tree import DecisionTreeClassifier"
   ]
  },
  {
   "cell_type": "code",
   "execution_count": null,
   "id": "d447552f-45a8-409b-b90b-b065c7d59901",
   "metadata": {},
   "outputs": [],
   "source": [
    "dt = DecisionTreeClassifier(max_depth=2)"
   ]
  },
  {
   "cell_type": "code",
   "execution_count": null,
   "id": "69db9610-8e22-4734-81bd-5396cb7cb7b0",
   "metadata": {},
   "outputs": [],
   "source": [
    "dt.fit(x, y)"
   ]
  },
  {
   "cell_type": "code",
   "execution_count": null,
   "id": "fce50630-1bfb-405a-a1fc-0d04f9e1d32f",
   "metadata": {},
   "outputs": [],
   "source": [
    "import graphviz\n",
    "from sklearn import tree\n",
    "import pydotplus\n",
    "from IPython.display import Image"
   ]
  },
  {
   "cell_type": "code",
   "execution_count": null,
   "id": "b2ef1d0a-2def-471d-89b9-1477a9cf57d3",
   "metadata": {},
   "outputs": [],
   "source": [
    "# 对于决策树来说，特征重要性就等于这个特征分裂的时候的总信息增益，这个特征有可能分裂，加到一起就行\n",
    "dt.feature_importances_"
   ]
  },
  {
   "cell_type": "code",
   "execution_count": null,
   "id": "43fa5105-deda-4418-9822-2ab931b1c52c",
   "metadata": {},
   "outputs": [],
   "source": [
    "dot = tree.export_graphviz(dt)\n",
    "graph = pydotplus.graph_from_dot_data(dot)\n",
    "Image(graph.create_png())"
   ]
  }
 ],
 "metadata": {
  "kernelspec": {
   "display_name": "Python 3",
   "language": "python",
   "name": "python3"
  },
  "language_info": {
   "codemirror_mode": {
    "name": "ipython",
    "version": 3
   },
   "file_extension": ".py",
   "mimetype": "text/x-python",
   "name": "python",
   "nbconvert_exporter": "python",
   "pygments_lexer": "ipython3",
   "version": "3.7.0"
  },
  "toc-autonumbering": false,
  "toc-showcode": false,
  "toc-showmarkdowntxt": false
 },
 "nbformat": 4,
 "nbformat_minor": 5
}
