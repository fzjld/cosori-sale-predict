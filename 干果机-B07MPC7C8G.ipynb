{
 "cells": [
  {
   "cell_type": "code",
   "execution_count": 1,
   "id": "73b20828-5422-423d-85ff-449137ac570c",
   "metadata": {},
   "outputs": [],
   "source": [
    "import xgboost as xgb\n",
    "import os\n",
    "import seaborn as sns\n",
    "import pandas as pd\n",
    "import numpy as np\n",
    "from xgboost import XGBRegressor\n",
    "from sklearn.model_selection import train_test_split\n",
    "from sklearn.preprocessing import OneHotEncoder, LabelEncoder, OrdinalEncoder\n",
    "from sklearn.metrics import mean_squared_error, r2_score\n",
    "from time import time\n",
    "from scipy import stats\n",
    "import joblib\n",
    "import pickle\n",
    "import pylab as plt\n",
    "from sklearn.model_selection import cross_val_score, GridSearchCV\n",
    "import torch.nn as nn\n",
    "import lightgbm as lgb\n",
    "from utils import *\n",
    "\n",
    "\n",
    "import warnings\n",
    "warnings.filterwarnings('ignore')\n",
    "\n",
    "pd.set_option('display.max_rows', 100)\n",
    "pd.set_option('display.max_columns', None)\n",
    "pd.set_option('display.float_format', lambda x: '%.4f' % x)\n",
    "np.set_printoptions(suppress=True)\n",
    "sns.set_style({'font.sans-serif': ['simhei', 'Arial']})   # 解决画图中文乱码\n",
    "\n",
    "%matplotlib inline"
   ]
  },
  {
   "cell_type": "code",
   "execution_count": 2,
   "id": "5638c9d2-20d8-4cfc-be0c-e635641bb771",
   "metadata": {},
   "outputs": [
    {
     "data": {
      "text/html": [
       "<div>\n",
       "<style scoped>\n",
       "    .dataframe tbody tr th:only-of-type {\n",
       "        vertical-align: middle;\n",
       "    }\n",
       "\n",
       "    .dataframe tbody tr th {\n",
       "        vertical-align: top;\n",
       "    }\n",
       "\n",
       "    .dataframe thead th {\n",
       "        text-align: right;\n",
       "    }\n",
       "</style>\n",
       "<table border=\"1\" class=\"dataframe\">\n",
       "  <thead>\n",
       "    <tr style=\"text-align: right;\">\n",
       "      <th></th>\n",
       "      <th>id</th>\n",
       "      <th>site_id</th>\n",
       "      <th>asin</th>\n",
       "      <th>data_date</th>\n",
       "      <th>product_title</th>\n",
       "      <th>ordered_revenue</th>\n",
       "      <th>ordered_revenue_of_total</th>\n",
       "      <th>ordered_revenue_last_year</th>\n",
       "      <th>ordered_units</th>\n",
       "      <th>ordered_units_of_total</th>\n",
       "      <th>ordered_units_prior_period</th>\n",
       "      <th>ordered_units_last_year</th>\n",
       "      <th>subcategory_sales_rank</th>\n",
       "      <th>average_sales_price</th>\n",
       "      <th>average_sales_price_prior_period</th>\n",
       "      <th>glance_views</th>\n",
       "      <th>change_in_glance_view_prior_period</th>\n",
       "      <th>change_in_gv_last_year</th>\n",
       "      <th>conversion_rate</th>\n",
       "      <th>rep_oos</th>\n",
       "      <th>rep_oos_of_total</th>\n",
       "      <th>rep_oos_prior_period</th>\n",
       "      <th>lbb_price</th>\n",
       "      <th>create_time</th>\n",
       "      <th>update_time</th>\n",
       "    </tr>\n",
       "  </thead>\n",
       "  <tbody>\n",
       "    <tr>\n",
       "      <th>0</th>\n",
       "      <td>1</td>\n",
       "      <td>eb766123-9f24-436e-9117-49c739816794</td>\n",
       "      <td>B07GJBBGHG</td>\n",
       "      <td>2021-01-02</td>\n",
       "      <td>COSORI 5.8QT Electric Hot Air Fryers Oven Oill...</td>\n",
       "      <td>153827.1800</td>\n",
       "      <td>0.1300</td>\n",
       "      <td>1.2600</td>\n",
       "      <td>1284</td>\n",
       "      <td>0.0600</td>\n",
       "      <td>-0.1300</td>\n",
       "      <td>1.2600</td>\n",
       "      <td>1.0000</td>\n",
       "      <td>119.8000</td>\n",
       "      <td>0.0000</td>\n",
       "      <td>40220.0000</td>\n",
       "      <td>0.0000</td>\n",
       "      <td>1.1900</td>\n",
       "      <td>0.0300</td>\n",
       "      <td>0.0200</td>\n",
       "      <td>0.1400</td>\n",
       "      <td>0.1500</td>\n",
       "      <td>0.0000</td>\n",
       "      <td>2021/1/4 6:48</td>\n",
       "      <td>2021/1/4 6:48</td>\n",
       "    </tr>\n",
       "  </tbody>\n",
       "</table>\n",
       "</div>"
      ],
      "text/plain": [
       "   id                               site_id        asin  data_date  \\\n",
       "0   1  eb766123-9f24-436e-9117-49c739816794  B07GJBBGHG 2021-01-02   \n",
       "\n",
       "                                       product_title  ordered_revenue  \\\n",
       "0  COSORI 5.8QT Electric Hot Air Fryers Oven Oill...      153827.1800   \n",
       "\n",
       "   ordered_revenue_of_total  ordered_revenue_last_year  ordered_units  \\\n",
       "0                    0.1300                     1.2600           1284   \n",
       "\n",
       "   ordered_units_of_total  ordered_units_prior_period  \\\n",
       "0                  0.0600                     -0.1300   \n",
       "\n",
       "   ordered_units_last_year  subcategory_sales_rank  average_sales_price  \\\n",
       "0                   1.2600                  1.0000             119.8000   \n",
       "\n",
       "   average_sales_price_prior_period  glance_views  \\\n",
       "0                            0.0000    40220.0000   \n",
       "\n",
       "   change_in_glance_view_prior_period  change_in_gv_last_year  \\\n",
       "0                              0.0000                  1.1900   \n",
       "\n",
       "   conversion_rate  rep_oos  rep_oos_of_total  rep_oos_prior_period  \\\n",
       "0           0.0300   0.0200            0.1400                0.1500   \n",
       "\n",
       "   lbb_price    create_time    update_time  \n",
       "0     0.0000  2021/1/4 6:48  2021/1/4 6:48  "
      ]
     },
     "execution_count": 2,
     "metadata": {},
     "output_type": "execute_result"
    }
   ],
   "source": [
    "data = pd.read_csv('./data.csv', encoding='GBK')\n",
    "data.data_date = pd.to_datetime(data.data_date)\n",
    "data.head(1)"
   ]
  },
  {
   "cell_type": "code",
   "execution_count": 3,
   "id": "62525d6e-4824-410f-84df-1ad6bb5d15df",
   "metadata": {},
   "outputs": [
    {
     "data": {
      "text/plain": [
       "(626, 2)"
      ]
     },
     "execution_count": 3,
     "metadata": {},
     "output_type": "execute_result"
    }
   ],
   "source": [
    "alldata = data[(data.asin == 'B07MPC7C8G')][['data_date',\n",
    "                                             'ordered_units']].sort_values('data_date')\n",
    "alldata.shape"
   ]
  },
  {
   "cell_type": "code",
   "execution_count": 4,
   "id": "c6d14d10-df30-4a18-9496-b9a10c5fd0db",
   "metadata": {},
   "outputs": [
    {
     "data": {
      "text/html": [
       "<div>\n",
       "<style scoped>\n",
       "    .dataframe tbody tr th:only-of-type {\n",
       "        vertical-align: middle;\n",
       "    }\n",
       "\n",
       "    .dataframe tbody tr th {\n",
       "        vertical-align: top;\n",
       "    }\n",
       "\n",
       "    .dataframe thead th {\n",
       "        text-align: right;\n",
       "    }\n",
       "</style>\n",
       "<table border=\"1\" class=\"dataframe\">\n",
       "  <thead>\n",
       "    <tr style=\"text-align: right;\">\n",
       "      <th></th>\n",
       "      <th>data_date</th>\n",
       "      <th>ordered_units</th>\n",
       "    </tr>\n",
       "  </thead>\n",
       "  <tbody>\n",
       "    <tr>\n",
       "      <th>15976</th>\n",
       "      <td>2019-12-02</td>\n",
       "      <td>434</td>\n",
       "    </tr>\n",
       "    <tr>\n",
       "      <th>15940</th>\n",
       "      <td>2019-12-03</td>\n",
       "      <td>70</td>\n",
       "    </tr>\n",
       "    <tr>\n",
       "      <th>28672</th>\n",
       "      <td>2021-08-21</td>\n",
       "      <td>60</td>\n",
       "    </tr>\n",
       "    <tr>\n",
       "      <th>28854</th>\n",
       "      <td>2021-08-22</td>\n",
       "      <td>67</td>\n",
       "    </tr>\n",
       "  </tbody>\n",
       "</table>\n",
       "</div>"
      ],
      "text/plain": [
       "       data_date  ordered_units\n",
       "15976 2019-12-02            434\n",
       "15940 2019-12-03             70\n",
       "28672 2021-08-21             60\n",
       "28854 2021-08-22             67"
      ]
     },
     "execution_count": 4,
     "metadata": {},
     "output_type": "execute_result"
    }
   ],
   "source": [
    "alldata.head(2).append(alldata.tail(2))"
   ]
  },
  {
   "cell_type": "code",
   "execution_count": 5,
   "id": "a3b50cc1-0d5c-44bd-8e0e-256c39669d12",
   "metadata": {},
   "outputs": [
    {
     "data": {
      "text/plain": [
       "65.51437699680511"
      ]
     },
     "execution_count": 5,
     "metadata": {},
     "output_type": "execute_result"
    }
   ],
   "source": [
    "alldata.ordered_units.mean()"
   ]
  },
  {
   "cell_type": "code",
   "execution_count": 6,
   "id": "c6ffca30-169a-457f-a85c-a83bcacf0716",
   "metadata": {},
   "outputs": [
    {
     "data": {
      "image/png": "[encoded data removed]",
      "text/plain": [
       "<Figure size 1080x360 with 1 Axes>"
      ]
     },
     "metadata": {
      "needs_background": "light"
     },
     "output_type": "display_data"
    }
   ],
   "source": [
    "plt.figure(figsize=(15, 5))\n",
    "plt.xticks(rotation=90)\n",
    "plt.plot(alldata.data_date, alldata.ordered_units)\n",
    "plt.grid()"
   ]
  },
  {
   "cell_type": "code",
   "execution_count": 6,
   "id": "ba1e819a-67a7-4140-b434-f00f08d8bf54",
   "metadata": {},
   "outputs": [
    {
     "data": {
      "text/plain": [
       "<AxesSubplot:xlabel='ordered_units', ylabel='Density'>"
      ]
     },
     "execution_count": 6,
     "metadata": {},
     "output_type": "execute_result"
    },
    {
     "data": {
      "image/png": "[encoded data removed]",
      "text/plain": [
       "<Figure size 432x288 with 1 Axes>"
      ]
     },
     "metadata": {
      "needs_background": "light"
     },
     "output_type": "display_data"
    }
   ],
   "source": [
    "sns.distplot(alldata.ordered_units, fit=stats.norm)"
   ]
  },
  {
   "cell_type": "code",
   "execution_count": 8,
   "id": "684672f2-b245-4319-9c16-4ab341ca7555",
   "metadata": {},
   "outputs": [
    {
     "data": {
      "text/plain": [
       "(4.151797276485558, -1.0743319706739503)"
      ]
     },
     "execution_count": 8,
     "metadata": {},
     "output_type": "execute_result"
    }
   ],
   "source": [
    "alldata.ordered_units.skew(), np.log1p(alldata.ordered_units).skew()"
   ]
  },
  {
   "cell_type": "code",
   "execution_count": 9,
   "id": "2caaf226-81bb-4873-b1d9-36fa8884f5df",
   "metadata": {},
   "outputs": [
    {
     "data": {
      "text/plain": [
       "0.1081354031457522"
      ]
     },
     "execution_count": 9,
     "metadata": {},
     "output_type": "execute_result"
    }
   ],
   "source": [
    "from scipy.special import boxcox1p\n",
    "boxcox1p(alldata.ordered_units, 0.21).skew()"
   ]
  },
  {
   "cell_type": "code",
   "execution_count": 10,
   "id": "394d939d-8c82-425d-9c0d-0b423ca8d60e",
   "metadata": {},
   "outputs": [
    {
     "data": {
      "text/plain": [
       "<AxesSubplot:xlabel='ordered_units', ylabel='Density'>"
      ]
     },
     "execution_count": 10,
     "metadata": {},
     "output_type": "execute_result"
    },
    {
     "data": {
      "image/png": "[encoded data removed]",
      "text/plain": [
       "<Figure size 432x288 with 1 Axes>"
      ]
     },
     "metadata": {
      "needs_background": "light"
     },
     "output_type": "display_data"
    }
   ],
   "source": [
    "sns.distplot(boxcox1p(alldata.ordered_units, 0.21), fit=stats.norm)"
   ]
  },
  {
   "cell_type": "markdown",
   "id": "b6f8616d-c4ed-45c2-ade3-c8147bbc9e09",
   "metadata": {},
   "source": [
    "## 数据预处理"
   ]
  },
  {
   "cell_type": "markdown",
   "id": "f33d9ffc-ad44-4c9a-8409-3004615fbaba",
   "metadata": {},
   "source": [
    "### 异常值，删除小于等于0的数值和离群点"
   ]
  },
  {
   "cell_type": "code",
   "execution_count": 8,
   "id": "5b8650ff-e9bc-499a-9f58-06c1f624bc3b",
   "metadata": {
    "tags": []
   },
   "outputs": [
    {
     "data": {
      "text/plain": [
       "Int64Index([8241, 8163, 8124, 8083, 8044, 8008, 7970, 7930, 7656, 7296], dtype='int64')"
      ]
     },
     "execution_count": 8,
     "metadata": {},
     "output_type": "execute_result"
    }
   ],
   "source": [
    "alldata[alldata.ordered_units <= 0].index"
   ]
  },
  {
   "cell_type": "code",
   "execution_count": 9,
   "id": "6ad7f835-580d-4e82-995c-ecbfa1f2ca2d",
   "metadata": {},
   "outputs": [],
   "source": [
    "alldata.drop(alldata[alldata.ordered_units <= 0].index, inplace=True)"
   ]
  },
  {
   "cell_type": "code",
   "execution_count": 10,
   "id": "acc2edf9-eeef-42bf-8973-708a5385c24f",
   "metadata": {
    "tags": []
   },
   "outputs": [
    {
     "data": {
      "text/plain": [
       "<AxesSubplot:xlabel='ordered_units'>"
      ]
     },
     "execution_count": 10,
     "metadata": {},
     "output_type": "execute_result"
    },
    {
     "data": {
      "image/png": "[encoded data removed]",
      "text/plain": [
       "<Figure size 432x288 with 1 Axes>"
      ]
     },
     "metadata": {
      "needs_background": "light"
     },
     "output_type": "display_data"
    }
   ],
   "source": [
    "sns.boxplot(alldata.ordered_units)"
   ]
  },
  {
   "cell_type": "code",
   "execution_count": 11,
   "id": "352e29d5-97ac-4e2b-8934-3b84352eca5b",
   "metadata": {},
   "outputs": [
    {
     "data": {
      "text/plain": [
       "Int64Index([3885], dtype='int64')"
      ]
     },
     "execution_count": 11,
     "metadata": {},
     "output_type": "execute_result"
    }
   ],
   "source": [
    "alldata[alldata.ordered_units > 750].index"
   ]
  },
  {
   "cell_type": "code",
   "execution_count": 12,
   "id": "c0afff07-277a-4dad-a31d-d68a95038a15",
   "metadata": {},
   "outputs": [],
   "source": [
    "alldata.drop(alldata[alldata.ordered_units > 750].index, inplace=True)"
   ]
  },
  {
   "cell_type": "code",
   "execution_count": 13,
   "id": "812c61fd-d731-4c15-9818-9c18b4091107",
   "metadata": {},
   "outputs": [
    {
     "data": {
      "text/plain": [
       "(615, 2)"
      ]
     },
     "execution_count": 13,
     "metadata": {},
     "output_type": "execute_result"
    }
   ],
   "source": [
    "alldata.shape"
   ]
  },
  {
   "cell_type": "markdown",
   "id": "7760e0c0-69df-453b-a770-ffe63b16d73e",
   "metadata": {},
   "source": [
    "### 缺失值"
   ]
  },
  {
   "cell_type": "code",
   "execution_count": 16,
   "id": "c8d0af97-d65f-4a7a-b103-bc85154e7930",
   "metadata": {},
   "outputs": [
    {
     "data": {
      "text/plain": [
       "data_date        0\n",
       "ordered_units    0\n",
       "weight           0\n",
       "dtype: int64"
      ]
     },
     "execution_count": 16,
     "metadata": {},
     "output_type": "execute_result"
    }
   ],
   "source": [
    "alldata.isnull().sum()"
   ]
  },
  {
   "cell_type": "markdown",
   "id": "de005c50-1832-458f-89d9-17c41a7d01b5",
   "metadata": {},
   "source": [
    "无缺失值不用处理"
   ]
  },
  {
   "cell_type": "markdown",
   "id": "1145eda8-a6d2-4b3a-98f0-4d48d9e15384",
   "metadata": {},
   "source": [
    "### 创造特征"
   ]
  },
  {
   "cell_type": "code",
   "execution_count": 33,
   "id": "da1ad1d7-93fe-4028-b470-d3b0faa4ee2b",
   "metadata": {},
   "outputs": [],
   "source": [
    "def create_feature(df):\n",
    "    df['weight'] = df.data_date.apply(lambda x: (\n",
    "        x - pd.to_datetime('2019-12-02')).days)\n",
    "    df['year'] = df.data_date.dt.year\n",
    "    df['month'] = df.data_date.dt.month\n",
    "    df['day'] = df.data_date.dt.day\n",
    "    df['weekday'] = df.data_date.dt.weekday  # 周几\n",
    "    df['quarter'] = df.data_date.dt.quarter  # 季度\n",
    "    df['weekofyear'] = df.data_date.dt.weekofyear\n",
    "\n",
    "    df.drop('data_date', axis=1, inplace=True)\n",
    "    return df"
   ]
  },
  {
   "cell_type": "code",
   "execution_count": 18,
   "id": "96a34693-43cf-4ebd-a38d-00d3e59531b2",
   "metadata": {},
   "outputs": [],
   "source": [
    "alldata = create_feature(alldata)"
   ]
  },
  {
   "cell_type": "code",
   "execution_count": 19,
   "id": "ba3c67ee-d208-46fa-8a3b-ba8f033eb54d",
   "metadata": {},
   "outputs": [
    {
     "data": {
      "text/html": [
       "<div>\n",
       "<style scoped>\n",
       "    .dataframe tbody tr th:only-of-type {\n",
       "        vertical-align: middle;\n",
       "    }\n",
       "\n",
       "    .dataframe tbody tr th {\n",
       "        vertical-align: top;\n",
       "    }\n",
       "\n",
       "    .dataframe thead th {\n",
       "        text-align: right;\n",
       "    }\n",
       "</style>\n",
       "<table border=\"1\" class=\"dataframe\">\n",
       "  <thead>\n",
       "    <tr style=\"text-align: right;\">\n",
       "      <th></th>\n",
       "      <th>ordered_units</th>\n",
       "      <th>weight</th>\n",
       "      <th>year</th>\n",
       "      <th>month</th>\n",
       "      <th>day</th>\n",
       "      <th>weekday</th>\n",
       "      <th>quarter</th>\n",
       "      <th>weekofyear</th>\n",
       "    </tr>\n",
       "  </thead>\n",
       "  <tbody>\n",
       "    <tr>\n",
       "      <th>15976</th>\n",
       "      <td>434</td>\n",
       "      <td>0</td>\n",
       "      <td>2019</td>\n",
       "      <td>12</td>\n",
       "      <td>2</td>\n",
       "      <td>0</td>\n",
       "      <td>4</td>\n",
       "      <td>49</td>\n",
       "    </tr>\n",
       "    <tr>\n",
       "      <th>15940</th>\n",
       "      <td>70</td>\n",
       "      <td>1</td>\n",
       "      <td>2019</td>\n",
       "      <td>12</td>\n",
       "      <td>3</td>\n",
       "      <td>1</td>\n",
       "      <td>4</td>\n",
       "      <td>49</td>\n",
       "    </tr>\n",
       "    <tr>\n",
       "      <th>15906</th>\n",
       "      <td>71</td>\n",
       "      <td>2</td>\n",
       "      <td>2019</td>\n",
       "      <td>12</td>\n",
       "      <td>4</td>\n",
       "      <td>2</td>\n",
       "      <td>4</td>\n",
       "      <td>49</td>\n",
       "    </tr>\n",
       "  </tbody>\n",
       "</table>\n",
       "</div>"
      ],
      "text/plain": [
       "       ordered_units  weight  year  month  day  weekday  quarter  weekofyear\n",
       "15976            434       0  2019     12    2        0        4          49\n",
       "15940             70       1  2019     12    3        1        4          49\n",
       "15906             71       2  2019     12    4        2        4          49"
      ]
     },
     "execution_count": 19,
     "metadata": {},
     "output_type": "execute_result"
    }
   ],
   "source": [
    "alldata.head(3)"
   ]
  },
  {
   "cell_type": "code",
   "execution_count": 20,
   "id": "79f58828-3de5-42b8-8b2a-a6e671e14d86",
   "metadata": {},
   "outputs": [],
   "source": [
    "x = alldata.drop('ordered_units', axis=1)\n",
    "y = alldata['ordered_units']\n",
    "x_train, x_test, y_train, y_test = train_test_split(\n",
    "    x, y, test_size=0.1)"
   ]
  },
  {
   "cell_type": "code",
   "execution_count": 21,
   "id": "c92a23e5-cf4b-48aa-9b4b-5a7985b58984",
   "metadata": {},
   "outputs": [
    {
     "data": {
      "text/html": [
       "<div>\n",
       "<style scoped>\n",
       "    .dataframe tbody tr th:only-of-type {\n",
       "        vertical-align: middle;\n",
       "    }\n",
       "\n",
       "    .dataframe tbody tr th {\n",
       "        vertical-align: top;\n",
       "    }\n",
       "\n",
       "    .dataframe thead th {\n",
       "        text-align: right;\n",
       "    }\n",
       "</style>\n",
       "<table border=\"1\" class=\"dataframe\">\n",
       "  <thead>\n",
       "    <tr style=\"text-align: right;\">\n",
       "      <th></th>\n",
       "      <th>weight</th>\n",
       "      <th>year</th>\n",
       "      <th>month</th>\n",
       "      <th>day</th>\n",
       "      <th>weekday</th>\n",
       "      <th>quarter</th>\n",
       "      <th>weekofyear</th>\n",
       "    </tr>\n",
       "  </thead>\n",
       "  <tbody>\n",
       "    <tr>\n",
       "      <th>2971</th>\n",
       "      <td>337</td>\n",
       "      <td>2020</td>\n",
       "      <td>11</td>\n",
       "      <td>3</td>\n",
       "      <td>1</td>\n",
       "      <td>4</td>\n",
       "      <td>45</td>\n",
       "    </tr>\n",
       "    <tr>\n",
       "      <th>9154</th>\n",
       "      <td>189</td>\n",
       "      <td>2020</td>\n",
       "      <td>6</td>\n",
       "      <td>8</td>\n",
       "      <td>0</td>\n",
       "      <td>2</td>\n",
       "      <td>24</td>\n",
       "    </tr>\n",
       "  </tbody>\n",
       "</table>\n",
       "</div>"
      ],
      "text/plain": [
       "      weight  year  month  day  weekday  quarter  weekofyear\n",
       "2971     337  2020     11    3        1        4          45\n",
       "9154     189  2020      6    8        0        2          24"
      ]
     },
     "execution_count": 21,
     "metadata": {},
     "output_type": "execute_result"
    }
   ],
   "source": [
    "x_train.head(2)"
   ]
  },
  {
   "cell_type": "markdown",
   "id": "fadb456c-69e7-4faa-a107-faf5f2bd1993",
   "metadata": {},
   "source": [
    "### 编码"
   ]
  },
  {
   "cell_type": "code",
   "execution_count": 22,
   "id": "20299f7b-5858-4b8b-bc71-543eae38dc4b",
   "metadata": {},
   "outputs": [
    {
     "data": {
      "text/plain": [
       "((553, 1110), (62, 1110))"
      ]
     },
     "execution_count": 22,
     "metadata": {},
     "output_type": "execute_result"
    }
   ],
   "source": [
    "weight_cat = list(range(1, 1000))\n",
    "year_category = [2019, 2020, 2021, 2022]\n",
    "month_category = list(range(1, 13))\n",
    "day_category = list(range(1, 32))\n",
    "weekday_cat = list(range(7))\n",
    "quarter_cat = [1, 2, 3, 4]\n",
    "weekofyear_cat = list(range(1, 54))\n",
    "\n",
    "encoder = OneHotEncoder(sparse=False,\n",
    "                        categories=[weight_cat, year_category, month_category,\n",
    "                                    day_category, weekday_cat, quarter_cat, weekofyear_cat],\n",
    "                        handle_unknown='ignore')\n",
    "x_train = encoder.fit_transform(x_train)\n",
    "x_test = encoder.transform(x_test)\n",
    "x_train.shape, x_test.shape"
   ]
  },
  {
   "cell_type": "markdown",
   "id": "0b25cf6f-0109-4077-9e7f-108d80e33729",
   "metadata": {},
   "source": [
    "## 训练"
   ]
  },
  {
   "cell_type": "markdown",
   "id": "167490ec-f77f-4b52-bca1-35e268b3d722",
   "metadata": {},
   "source": [
    "### sklearn api"
   ]
  },
  {
   "cell_type": "code",
   "execution_count": 27,
   "id": "1a3a5551-d56c-4043-bc89-a7c54dce37ea",
   "metadata": {},
   "outputs": [
    {
     "name": "stdout",
     "output_type": "stream",
     "text": [
      "0.32000629278074316\n"
     ]
    },
    {
     "data": {
      "text/plain": [
       "1.9076037406921387"
      ]
     },
     "execution_count": 27,
     "metadata": {},
     "output_type": "execute_result"
    }
   ],
   "source": [
    "ts = time()\n",
    "print(cross_val_score(xgbr, x_train, y_train, cv=5).mean())\n",
    "time() - ts"
   ]
  },
  {
   "cell_type": "code",
   "execution_count": 23,
   "id": "0e8d3478-5ed1-4afc-a713-318b6f015ef1",
   "metadata": {
    "tags": []
   },
   "outputs": [
    {
     "name": "stdout",
     "output_type": "stream",
     "text": [
      "[0]\tvalidation_0-rmse:64.90218\tvalidation_1-rmse:89.71648\n",
      "[1]\tvalidation_0-rmse:52.46609\tvalidation_1-rmse:77.14529\n",
      "[2]\tvalidation_0-rmse:43.58354\tvalidation_1-rmse:68.36581\n",
      "[3]\tvalidation_0-rmse:37.51474\tvalidation_1-rmse:60.24598\n",
      "[4]\tvalidation_0-rmse:34.20521\tvalidation_1-rmse:57.79243\n",
      "[5]\tvalidation_0-rmse:30.40690\tvalidation_1-rmse:57.47164\n",
      "[6]\tvalidation_0-rmse:27.88637\tvalidation_1-rmse:55.84566\n",
      "[7]\tvalidation_0-rmse:26.73168\tvalidation_1-rmse:55.30261\n",
      "[8]\tvalidation_0-rmse:25.12962\tvalidation_1-rmse:55.37929\n",
      "[9]\tvalidation_0-rmse:24.37259\tvalidation_1-rmse:54.93452\n",
      "[10]\tvalidation_0-rmse:23.80167\tvalidation_1-rmse:54.71755\n",
      "[11]\tvalidation_0-rmse:23.19803\tvalidation_1-rmse:55.16791\n",
      "[12]\tvalidation_0-rmse:21.37794\tvalidation_1-rmse:53.02930\n",
      "[13]\tvalidation_0-rmse:20.90505\tvalidation_1-rmse:52.53189\n",
      "[14]\tvalidation_0-rmse:17.90772\tvalidation_1-rmse:50.41431\n",
      "[15]\tvalidation_0-rmse:17.45212\tvalidation_1-rmse:50.34656\n",
      "[16]\tvalidation_0-rmse:16.86551\tvalidation_1-rmse:50.19495\n",
      "[17]\tvalidation_0-rmse:16.53087\tvalidation_1-rmse:50.30066\n",
      "[18]\tvalidation_0-rmse:15.94988\tvalidation_1-rmse:51.05250\n",
      "[19]\tvalidation_0-rmse:15.47781\tvalidation_1-rmse:50.52953\n",
      "[20]\tvalidation_0-rmse:15.15804\tvalidation_1-rmse:50.40048\n",
      "[21]\tvalidation_0-rmse:14.96652\tvalidation_1-rmse:50.63141\n",
      "[22]\tvalidation_0-rmse:14.76607\tvalidation_1-rmse:50.67441\n",
      "[23]\tvalidation_0-rmse:14.51153\tvalidation_1-rmse:50.75721\n",
      "[24]\tvalidation_0-rmse:14.21695\tvalidation_1-rmse:50.38264\n",
      "[25]\tvalidation_0-rmse:14.04165\tvalidation_1-rmse:50.38824\n",
      "[26]\tvalidation_0-rmse:13.64198\tvalidation_1-rmse:49.96300\n",
      "[27]\tvalidation_0-rmse:12.18788\tvalidation_1-rmse:50.04735\n",
      "[28]\tvalidation_0-rmse:12.06625\tvalidation_1-rmse:50.16806\n",
      "[29]\tvalidation_0-rmse:11.89067\tvalidation_1-rmse:50.10627\n",
      "[30]\tvalidation_0-rmse:11.10882\tvalidation_1-rmse:49.37893\n",
      "[31]\tvalidation_0-rmse:10.98251\tvalidation_1-rmse:49.33552\n",
      "[32]\tvalidation_0-rmse:10.87218\tvalidation_1-rmse:49.30764\n",
      "[33]\tvalidation_0-rmse:10.69958\tvalidation_1-rmse:49.21436\n",
      "[34]\tvalidation_0-rmse:10.50043\tvalidation_1-rmse:49.07375\n",
      "[35]\tvalidation_0-rmse:10.26630\tvalidation_1-rmse:49.11183\n",
      "[36]\tvalidation_0-rmse:10.11654\tvalidation_1-rmse:49.05443\n",
      "[37]\tvalidation_0-rmse:10.00397\tvalidation_1-rmse:49.04281\n",
      "[38]\tvalidation_0-rmse:9.75698\tvalidation_1-rmse:48.85922\n",
      "[39]\tvalidation_0-rmse:9.66726\tvalidation_1-rmse:48.43624\n",
      "[40]\tvalidation_0-rmse:9.52507\tvalidation_1-rmse:48.48378\n",
      "[41]\tvalidation_0-rmse:9.32556\tvalidation_1-rmse:48.41740\n",
      "[42]\tvalidation_0-rmse:9.19817\tvalidation_1-rmse:48.35656\n",
      "[43]\tvalidation_0-rmse:9.08279\tvalidation_1-rmse:48.20845\n",
      "[44]\tvalidation_0-rmse:9.03790\tvalidation_1-rmse:48.00879\n",
      "[45]\tvalidation_0-rmse:8.96617\tvalidation_1-rmse:48.38270\n",
      "[46]\tvalidation_0-rmse:8.82445\tvalidation_1-rmse:48.23734\n",
      "[47]\tvalidation_0-rmse:8.73703\tvalidation_1-rmse:48.29180\n",
      "[48]\tvalidation_0-rmse:8.40576\tvalidation_1-rmse:48.43548\n",
      "[49]\tvalidation_0-rmse:8.32122\tvalidation_1-rmse:48.42059\n",
      "[50]\tvalidation_0-rmse:8.25395\tvalidation_1-rmse:48.47690\n",
      "[51]\tvalidation_0-rmse:8.18437\tvalidation_1-rmse:48.41477\n",
      "[52]\tvalidation_0-rmse:8.05267\tvalidation_1-rmse:48.40861\n",
      "[53]\tvalidation_0-rmse:7.92915\tvalidation_1-rmse:48.32449\n",
      "[54]\tvalidation_0-rmse:7.86505\tvalidation_1-rmse:48.32610\n",
      "[55]\tvalidation_0-rmse:7.75676\tvalidation_1-rmse:48.35620\n",
      "[56]\tvalidation_0-rmse:7.69257\tvalidation_1-rmse:48.20455\n",
      "[57]\tvalidation_0-rmse:7.59682\tvalidation_1-rmse:48.13776\n",
      "[58]\tvalidation_0-rmse:7.56705\tvalidation_1-rmse:48.21836\n",
      "[59]\tvalidation_0-rmse:7.47720\tvalidation_1-rmse:48.19177\n",
      "[60]\tvalidation_0-rmse:7.33442\tvalidation_1-rmse:48.12302\n",
      "[61]\tvalidation_0-rmse:7.26439\tvalidation_1-rmse:48.15345\n",
      "[62]\tvalidation_0-rmse:7.20349\tvalidation_1-rmse:48.10889\n",
      "[63]\tvalidation_0-rmse:7.09037\tvalidation_1-rmse:48.16891\n"
     ]
    },
    {
     "data": {
      "text/plain": [
       "XGBRegressor(base_score=0.5, booster='gbtree', colsample_bylevel=1,\n",
       "             colsample_bynode=1, colsample_bytree=0.7, gamma=1, gpu_id=-1,\n",
       "             importance_type='gain', interaction_constraints='',\n",
       "             learning_rate=0.35, max_delta_step=0, max_depth=7,\n",
       "             min_child_weight=1, missing=nan, monotone_constraints='()',\n",
       "             n_estimators=200, n_jobs=8, num_parallel_tree=1, random_state=0,\n",
       "             reg_alpha=0, reg_lambda=1, scale_pos_weight=1, subsample=0.6,\n",
       "             tree_method='exact', validate_parameters=1, verbosity=1)"
      ]
     },
     "execution_count": 23,
     "metadata": {},
     "output_type": "execute_result"
    }
   ],
   "source": [
    "xgbr = XGBRegressor(n_estimators=200,\n",
    "                    learning_rate=0.35,\n",
    "                    max_depth=7,\n",
    "                    subsample=0.6,\n",
    "                    colsample_bytree=0.7,\n",
    "                    objective='reg:squarederror',\n",
    "                    base_score=0.5,\n",
    "                    gamma=1,\n",
    "                    n_jobs=8, \n",
    "                    verbosity=1)\n",
    "\n",
    "xgbr.fit(x_train, y_train, eval_set=[(x_train, y_train), (x_test, y_test)],\n",
    "         early_stopping_rounds=20, verbose=True)"
   ]
  },
  {
   "cell_type": "code",
   "execution_count": null,
   "id": "eede13fb-f7de-4082-828c-563b6b20d160",
   "metadata": {},
   "outputs": [],
   "source": [
    "# 网格搜索\n",
    "# params_grid = {'learning_rate': np.arange(0, 1, 0.05)}\n",
    "\n",
    "# params_grid = {'max_depth': range(0, 8, 1)}\n",
    "\n",
    "# params_grid = {'subsample': np.arange(0, 1, 0.05)}\n",
    "params_grid = {'colsample_bytree': np.arange(0, 1, 0.05)}\n",
    "\n",
    "gridCV = GridSearchCV(xgbr, params_grid, cv=5, scoring='r2', n_jobs=8)\n",
    "\n",
    "ts = time()\n",
    "gridCV.fit(x_train, y_train)\n",
    "print(time() - ts)\n",
    "gridCV.best_params_, gridCV.best_score_"
   ]
  },
  {
   "cell_type": "code",
   "execution_count": 28,
   "id": "8760765a-f182-4231-90bb-3ab0d43af422",
   "metadata": {},
   "outputs": [
    {
     "data": {
      "text/plain": [
       "[<matplotlib.lines.Line2D at 0x299e792db70>]"
      ]
     },
     "execution_count": 28,
     "metadata": {},
     "output_type": "execute_result"
    },
    {
     "data": {
      "image/png": "[encoded data removed]",
      "text/plain": [
       "<Figure size 432x288 with 1 Axes>"
      ]
     },
     "metadata": {
      "needs_background": "light"
     },
     "output_type": "display_data"
    }
   ],
   "source": [
    "result = xgbr.evals_result()\n",
    "plt.plot(result['validation_0']['rmse'])\n",
    "plt.plot(result['validation_1']['rmse'])"
   ]
  },
  {
   "cell_type": "markdown",
   "id": "fe419330-41b8-4fdd-af00-e644bf902f6e",
   "metadata": {},
   "source": [
    "## 测试"
   ]
  },
  {
   "cell_type": "markdown",
   "id": "00330fe6-0bb7-4d91-b043-c147319b68a4",
   "metadata": {},
   "source": [
    "### sklearn api"
   ]
  },
  {
   "cell_type": "code",
   "execution_count": 24,
   "id": "76cc57f4-433c-42a0-ac47-204abae2f94b",
   "metadata": {},
   "outputs": [
    {
     "name": "stdout",
     "output_type": "stream",
     "text": [
      "metrics1: 0.883\n",
      "metrics2: 0.642\n",
      "r2: 0.655\n"
     ]
    }
   ],
   "source": [
    "y_pred = xgbr.predict(x_test)\n",
    "print('metrics1: {:.3f}\\nmetrics2: {:.3f}\\nr2: {:.3f}'.format(metrics1(y_test, y_pred),\n",
    "                                                              metrics2(\n",
    "                                                                  y_test, y_pred),\n",
    "                                                              r2_score(y_test, y_pred)))"
   ]
  },
  {
   "cell_type": "code",
   "execution_count": 25,
   "id": "6e52120a-87b8-4acc-8ddf-5fbc4100bcab",
   "metadata": {
    "tags": []
   },
   "outputs": [
    {
     "data": {
      "text/plain": [
       "<matplotlib.legend.Legend at 0x254172cd898>"
      ]
     },
     "execution_count": 25,
     "metadata": {},
     "output_type": "execute_result"
    },
    {
     "data": {
      "image/png": "[encoded data removed]",
      "text/plain": [
       "<Figure size 1080x288 with 1 Axes>"
      ]
     },
     "metadata": {
      "needs_background": "light"
     },
     "output_type": "display_data"
    }
   ],
   "source": [
    "plt.figure(figsize=(15, 4))\n",
    "plt.plot(y_test.values, label='true')\n",
    "plt.plot(y_pred, label='predict')\n",
    "plt.xticks(rotation=90)\n",
    "plt.grid()\n",
    "plt.legend(fontsize=15)"
   ]
  },
  {
   "cell_type": "code",
   "execution_count": 26,
   "id": "d60496e3-499a-43a9-918e-ecd4cd027cf5",
   "metadata": {},
   "outputs": [
    {
     "data": {
      "text/html": [
       "<div>\n",
       "<style scoped>\n",
       "    .dataframe tbody tr th:only-of-type {\n",
       "        vertical-align: middle;\n",
       "    }\n",
       "\n",
       "    .dataframe tbody tr th {\n",
       "        vertical-align: top;\n",
       "    }\n",
       "\n",
       "    .dataframe thead th {\n",
       "        text-align: right;\n",
       "    }\n",
       "</style>\n",
       "<table border=\"1\" class=\"dataframe\">\n",
       "  <thead>\n",
       "    <tr style=\"text-align: right;\">\n",
       "      <th></th>\n",
       "      <th>ordered_units</th>\n",
       "      <th>weight</th>\n",
       "      <th>year</th>\n",
       "      <th>month</th>\n",
       "      <th>day</th>\n",
       "      <th>weekday</th>\n",
       "      <th>quarter</th>\n",
       "      <th>weekofyear</th>\n",
       "    </tr>\n",
       "  </thead>\n",
       "  <tbody>\n",
       "    <tr>\n",
       "      <th>28732</th>\n",
       "      <td>57</td>\n",
       "      <td>625</td>\n",
       "      <td>2021</td>\n",
       "      <td>8</td>\n",
       "      <td>18</td>\n",
       "      <td>2</td>\n",
       "      <td>3</td>\n",
       "      <td>33</td>\n",
       "    </tr>\n",
       "    <tr>\n",
       "      <th>28618</th>\n",
       "      <td>39</td>\n",
       "      <td>626</td>\n",
       "      <td>2021</td>\n",
       "      <td>8</td>\n",
       "      <td>19</td>\n",
       "      <td>3</td>\n",
       "      <td>3</td>\n",
       "      <td>33</td>\n",
       "    </tr>\n",
       "    <tr>\n",
       "      <th>28550</th>\n",
       "      <td>75</td>\n",
       "      <td>627</td>\n",
       "      <td>2021</td>\n",
       "      <td>8</td>\n",
       "      <td>20</td>\n",
       "      <td>4</td>\n",
       "      <td>3</td>\n",
       "      <td>33</td>\n",
       "    </tr>\n",
       "    <tr>\n",
       "      <th>28672</th>\n",
       "      <td>60</td>\n",
       "      <td>628</td>\n",
       "      <td>2021</td>\n",
       "      <td>8</td>\n",
       "      <td>21</td>\n",
       "      <td>5</td>\n",
       "      <td>3</td>\n",
       "      <td>33</td>\n",
       "    </tr>\n",
       "    <tr>\n",
       "      <th>28854</th>\n",
       "      <td>67</td>\n",
       "      <td>629</td>\n",
       "      <td>2021</td>\n",
       "      <td>8</td>\n",
       "      <td>22</td>\n",
       "      <td>6</td>\n",
       "      <td>3</td>\n",
       "      <td>33</td>\n",
       "    </tr>\n",
       "  </tbody>\n",
       "</table>\n",
       "</div>"
      ],
      "text/plain": [
       "       ordered_units  weight  year  month  day  weekday  quarter  weekofyear\n",
       "28732             57     625  2021      8   18        2        3          33\n",
       "28618             39     626  2021      8   19        3        3          33\n",
       "28550             75     627  2021      8   20        4        3          33\n",
       "28672             60     628  2021      8   21        5        3          33\n",
       "28854             67     629  2021      8   22        6        3          33"
      ]
     },
     "execution_count": 26,
     "metadata": {},
     "output_type": "execute_result"
    }
   ],
   "source": [
    "alldata.tail()"
   ]
  },
  {
   "cell_type": "code",
   "execution_count": 31,
   "id": "5770892f-951f-4ee8-b255-904866f44e16",
   "metadata": {},
   "outputs": [],
   "source": [
    "date_pred = pd.DataFrame({'data_date': pd.date_range('2021-8-23', periods=30)})"
   ]
  },
  {
   "cell_type": "code",
   "execution_count": 34,
   "id": "8035be26-ce42-4096-b8f6-3b35a5f9d7a8",
   "metadata": {
    "collapsed": true,
    "jupyter": {
     "outputs_hidden": true
    },
    "tags": []
   },
   "outputs": [
    {
     "data": {
      "text/html": [
       "<div>\n",
       "<style scoped>\n",
       "    .dataframe tbody tr th:only-of-type {\n",
       "        vertical-align: middle;\n",
       "    }\n",
       "\n",
       "    .dataframe tbody tr th {\n",
       "        vertical-align: top;\n",
       "    }\n",
       "\n",
       "    .dataframe thead th {\n",
       "        text-align: right;\n",
       "    }\n",
       "</style>\n",
       "<table border=\"1\" class=\"dataframe\">\n",
       "  <thead>\n",
       "    <tr style=\"text-align: right;\">\n",
       "      <th></th>\n",
       "      <th>weight</th>\n",
       "      <th>year</th>\n",
       "      <th>month</th>\n",
       "      <th>day</th>\n",
       "      <th>weekday</th>\n",
       "      <th>quarter</th>\n",
       "      <th>weekofyear</th>\n",
       "    </tr>\n",
       "  </thead>\n",
       "  <tbody>\n",
       "    <tr>\n",
       "      <th>0</th>\n",
       "      <td>630</td>\n",
       "      <td>2021</td>\n",
       "      <td>8</td>\n",
       "      <td>23</td>\n",
       "      <td>0</td>\n",
       "      <td>3</td>\n",
       "      <td>34</td>\n",
       "    </tr>\n",
       "    <tr>\n",
       "      <th>1</th>\n",
       "      <td>631</td>\n",
       "      <td>2021</td>\n",
       "      <td>8</td>\n",
       "      <td>24</td>\n",
       "      <td>1</td>\n",
       "      <td>3</td>\n",
       "      <td>34</td>\n",
       "    </tr>\n",
       "    <tr>\n",
       "      <th>2</th>\n",
       "      <td>632</td>\n",
       "      <td>2021</td>\n",
       "      <td>8</td>\n",
       "      <td>25</td>\n",
       "      <td>2</td>\n",
       "      <td>3</td>\n",
       "      <td>34</td>\n",
       "    </tr>\n",
       "    <tr>\n",
       "      <th>3</th>\n",
       "      <td>633</td>\n",
       "      <td>2021</td>\n",
       "      <td>8</td>\n",
       "      <td>26</td>\n",
       "      <td>3</td>\n",
       "      <td>3</td>\n",
       "      <td>34</td>\n",
       "    </tr>\n",
       "    <tr>\n",
       "      <th>4</th>\n",
       "      <td>634</td>\n",
       "      <td>2021</td>\n",
       "      <td>8</td>\n",
       "      <td>27</td>\n",
       "      <td>4</td>\n",
       "      <td>3</td>\n",
       "      <td>34</td>\n",
       "    </tr>\n",
       "    <tr>\n",
       "      <th>5</th>\n",
       "      <td>635</td>\n",
       "      <td>2021</td>\n",
       "      <td>8</td>\n",
       "      <td>28</td>\n",
       "      <td>5</td>\n",
       "      <td>3</td>\n",
       "      <td>34</td>\n",
       "    </tr>\n",
       "    <tr>\n",
       "      <th>6</th>\n",
       "      <td>636</td>\n",
       "      <td>2021</td>\n",
       "      <td>8</td>\n",
       "      <td>29</td>\n",
       "      <td>6</td>\n",
       "      <td>3</td>\n",
       "      <td>34</td>\n",
       "    </tr>\n",
       "    <tr>\n",
       "      <th>7</th>\n",
       "      <td>637</td>\n",
       "      <td>2021</td>\n",
       "      <td>8</td>\n",
       "      <td>30</td>\n",
       "      <td>0</td>\n",
       "      <td>3</td>\n",
       "      <td>35</td>\n",
       "    </tr>\n",
       "    <tr>\n",
       "      <th>8</th>\n",
       "      <td>638</td>\n",
       "      <td>2021</td>\n",
       "      <td>8</td>\n",
       "      <td>31</td>\n",
       "      <td>1</td>\n",
       "      <td>3</td>\n",
       "      <td>35</td>\n",
       "    </tr>\n",
       "    <tr>\n",
       "      <th>9</th>\n",
       "      <td>639</td>\n",
       "      <td>2021</td>\n",
       "      <td>9</td>\n",
       "      <td>1</td>\n",
       "      <td>2</td>\n",
       "      <td>3</td>\n",
       "      <td>35</td>\n",
       "    </tr>\n",
       "    <tr>\n",
       "      <th>10</th>\n",
       "      <td>640</td>\n",
       "      <td>2021</td>\n",
       "      <td>9</td>\n",
       "      <td>2</td>\n",
       "      <td>3</td>\n",
       "      <td>3</td>\n",
       "      <td>35</td>\n",
       "    </tr>\n",
       "    <tr>\n",
       "      <th>11</th>\n",
       "      <td>641</td>\n",
       "      <td>2021</td>\n",
       "      <td>9</td>\n",
       "      <td>3</td>\n",
       "      <td>4</td>\n",
       "      <td>3</td>\n",
       "      <td>35</td>\n",
       "    </tr>\n",
       "    <tr>\n",
       "      <th>12</th>\n",
       "      <td>642</td>\n",
       "      <td>2021</td>\n",
       "      <td>9</td>\n",
       "      <td>4</td>\n",
       "      <td>5</td>\n",
       "      <td>3</td>\n",
       "      <td>35</td>\n",
       "    </tr>\n",
       "    <tr>\n",
       "      <th>13</th>\n",
       "      <td>643</td>\n",
       "      <td>2021</td>\n",
       "      <td>9</td>\n",
       "      <td>5</td>\n",
       "      <td>6</td>\n",
       "      <td>3</td>\n",
       "      <td>35</td>\n",
       "    </tr>\n",
       "    <tr>\n",
       "      <th>14</th>\n",
       "      <td>644</td>\n",
       "      <td>2021</td>\n",
       "      <td>9</td>\n",
       "      <td>6</td>\n",
       "      <td>0</td>\n",
       "      <td>3</td>\n",
       "      <td>36</td>\n",
       "    </tr>\n",
       "    <tr>\n",
       "      <th>15</th>\n",
       "      <td>645</td>\n",
       "      <td>2021</td>\n",
       "      <td>9</td>\n",
       "      <td>7</td>\n",
       "      <td>1</td>\n",
       "      <td>3</td>\n",
       "      <td>36</td>\n",
       "    </tr>\n",
       "    <tr>\n",
       "      <th>16</th>\n",
       "      <td>646</td>\n",
       "      <td>2021</td>\n",
       "      <td>9</td>\n",
       "      <td>8</td>\n",
       "      <td>2</td>\n",
       "      <td>3</td>\n",
       "      <td>36</td>\n",
       "    </tr>\n",
       "    <tr>\n",
       "      <th>17</th>\n",
       "      <td>647</td>\n",
       "      <td>2021</td>\n",
       "      <td>9</td>\n",
       "      <td>9</td>\n",
       "      <td>3</td>\n",
       "      <td>3</td>\n",
       "      <td>36</td>\n",
       "    </tr>\n",
       "    <tr>\n",
       "      <th>18</th>\n",
       "      <td>648</td>\n",
       "      <td>2021</td>\n",
       "      <td>9</td>\n",
       "      <td>10</td>\n",
       "      <td>4</td>\n",
       "      <td>3</td>\n",
       "      <td>36</td>\n",
       "    </tr>\n",
       "    <tr>\n",
       "      <th>19</th>\n",
       "      <td>649</td>\n",
       "      <td>2021</td>\n",
       "      <td>9</td>\n",
       "      <td>11</td>\n",
       "      <td>5</td>\n",
       "      <td>3</td>\n",
       "      <td>36</td>\n",
       "    </tr>\n",
       "    <tr>\n",
       "      <th>20</th>\n",
       "      <td>650</td>\n",
       "      <td>2021</td>\n",
       "      <td>9</td>\n",
       "      <td>12</td>\n",
       "      <td>6</td>\n",
       "      <td>3</td>\n",
       "      <td>36</td>\n",
       "    </tr>\n",
       "    <tr>\n",
       "      <th>21</th>\n",
       "      <td>651</td>\n",
       "      <td>2021</td>\n",
       "      <td>9</td>\n",
       "      <td>13</td>\n",
       "      <td>0</td>\n",
       "      <td>3</td>\n",
       "      <td>37</td>\n",
       "    </tr>\n",
       "    <tr>\n",
       "      <th>22</th>\n",
       "      <td>652</td>\n",
       "      <td>2021</td>\n",
       "      <td>9</td>\n",
       "      <td>14</td>\n",
       "      <td>1</td>\n",
       "      <td>3</td>\n",
       "      <td>37</td>\n",
       "    </tr>\n",
       "    <tr>\n",
       "      <th>23</th>\n",
       "      <td>653</td>\n",
       "      <td>2021</td>\n",
       "      <td>9</td>\n",
       "      <td>15</td>\n",
       "      <td>2</td>\n",
       "      <td>3</td>\n",
       "      <td>37</td>\n",
       "    </tr>\n",
       "    <tr>\n",
       "      <th>24</th>\n",
       "      <td>654</td>\n",
       "      <td>2021</td>\n",
       "      <td>9</td>\n",
       "      <td>16</td>\n",
       "      <td>3</td>\n",
       "      <td>3</td>\n",
       "      <td>37</td>\n",
       "    </tr>\n",
       "    <tr>\n",
       "      <th>25</th>\n",
       "      <td>655</td>\n",
       "      <td>2021</td>\n",
       "      <td>9</td>\n",
       "      <td>17</td>\n",
       "      <td>4</td>\n",
       "      <td>3</td>\n",
       "      <td>37</td>\n",
       "    </tr>\n",
       "    <tr>\n",
       "      <th>26</th>\n",
       "      <td>656</td>\n",
       "      <td>2021</td>\n",
       "      <td>9</td>\n",
       "      <td>18</td>\n",
       "      <td>5</td>\n",
       "      <td>3</td>\n",
       "      <td>37</td>\n",
       "    </tr>\n",
       "    <tr>\n",
       "      <th>27</th>\n",
       "      <td>657</td>\n",
       "      <td>2021</td>\n",
       "      <td>9</td>\n",
       "      <td>19</td>\n",
       "      <td>6</td>\n",
       "      <td>3</td>\n",
       "      <td>37</td>\n",
       "    </tr>\n",
       "    <tr>\n",
       "      <th>28</th>\n",
       "      <td>658</td>\n",
       "      <td>2021</td>\n",
       "      <td>9</td>\n",
       "      <td>20</td>\n",
       "      <td>0</td>\n",
       "      <td>3</td>\n",
       "      <td>38</td>\n",
       "    </tr>\n",
       "    <tr>\n",
       "      <th>29</th>\n",
       "      <td>659</td>\n",
       "      <td>2021</td>\n",
       "      <td>9</td>\n",
       "      <td>21</td>\n",
       "      <td>1</td>\n",
       "      <td>3</td>\n",
       "      <td>38</td>\n",
       "    </tr>\n",
       "  </tbody>\n",
       "</table>\n",
       "</div>"
      ],
      "text/plain": [
       "    weight  year  month  day  weekday  quarter  weekofyear\n",
       "0      630  2021      8   23        0        3          34\n",
       "1      631  2021      8   24        1        3          34\n",
       "2      632  2021      8   25        2        3          34\n",
       "3      633  2021      8   26        3        3          34\n",
       "4      634  2021      8   27        4        3          34\n",
       "5      635  2021      8   28        5        3          34\n",
       "6      636  2021      8   29        6        3          34\n",
       "7      637  2021      8   30        0        3          35\n",
       "8      638  2021      8   31        1        3          35\n",
       "9      639  2021      9    1        2        3          35\n",
       "10     640  2021      9    2        3        3          35\n",
       "11     641  2021      9    3        4        3          35\n",
       "12     642  2021      9    4        5        3          35\n",
       "13     643  2021      9    5        6        3          35\n",
       "14     644  2021      9    6        0        3          36\n",
       "15     645  2021      9    7        1        3          36\n",
       "16     646  2021      9    8        2        3          36\n",
       "17     647  2021      9    9        3        3          36\n",
       "18     648  2021      9   10        4        3          36\n",
       "19     649  2021      9   11        5        3          36\n",
       "20     650  2021      9   12        6        3          36\n",
       "21     651  2021      9   13        0        3          37\n",
       "22     652  2021      9   14        1        3          37\n",
       "23     653  2021      9   15        2        3          37\n",
       "24     654  2021      9   16        3        3          37\n",
       "25     655  2021      9   17        4        3          37\n",
       "26     656  2021      9   18        5        3          37\n",
       "27     657  2021      9   19        6        3          37\n",
       "28     658  2021      9   20        0        3          38\n",
       "29     659  2021      9   21        1        3          38"
      ]
     },
     "execution_count": 34,
     "metadata": {},
     "output_type": "execute_result"
    }
   ],
   "source": [
    "create_feature(date_pred)"
   ]
  },
  {
   "cell_type": "code",
   "execution_count": 35,
   "id": "f0a24f8f-deb9-4cb6-8f4f-5ef63b2ccdcb",
   "metadata": {},
   "outputs": [],
   "source": [
    "date_pred = encoder.transform(date_pred)"
   ]
  },
  {
   "cell_type": "code",
   "execution_count": 36,
   "id": "591e7661-4934-4e6f-b42f-ff9a3bfff338",
   "metadata": {},
   "outputs": [
    {
     "data": {
      "text/plain": [
       "[<matplotlib.lines.Line2D at 0x25417b00710>]"
      ]
     },
     "execution_count": 36,
     "metadata": {},
     "output_type": "execute_result"
    },
    {
     "data": {
      "image/png": "[encoded data removed]",
      "text/plain": [
       "<Figure size 432x288 with 1 Axes>"
      ]
     },
     "metadata": {
      "needs_background": "light"
     },
     "output_type": "display_data"
    }
   ],
   "source": [
    "plt.plot(xgbr.predict(date_pred))"
   ]
  },
  {
   "cell_type": "code",
   "execution_count": 37,
   "id": "ec51bb18-dcbc-4893-8a64-a1c67d2857eb",
   "metadata": {},
   "outputs": [],
   "source": [
    "from sklearn.model_selection import TimeSeriesSplit"
   ]
  },
  {
   "cell_type": "code",
   "execution_count": 38,
   "id": "ed1e628e-8a2e-459c-9c23-d98edb6b0903",
   "metadata": {},
   "outputs": [],
   "source": [
    "a = np.random.randn(10, 10)"
   ]
  },
  {
   "cell_type": "code",
   "execution_count": 39,
   "id": "19da680b-ac3e-413f-ae2f-2cff2565957e",
   "metadata": {},
   "outputs": [],
   "source": [
    "tss = TimeSeriesSplit(n_splits=9)"
   ]
  },
  {
   "cell_type": "code",
   "execution_count": 40,
   "id": "8e7c622b-bbf5-4bdf-b310-8bb06830565c",
   "metadata": {},
   "outputs": [
    {
     "name": "stdout",
     "output_type": "stream",
     "text": [
      "(array([0]), array([1]))\n",
      "(array([0, 1]), array([2]))\n",
      "(array([0, 1, 2]), array([3]))\n",
      "(array([0, 1, 2, 3]), array([4]))\n",
      "(array([0, 1, 2, 3, 4]), array([5]))\n",
      "(array([0, 1, 2, 3, 4, 5]), array([6]))\n",
      "(array([0, 1, 2, 3, 4, 5, 6]), array([7]))\n",
      "(array([0, 1, 2, 3, 4, 5, 6, 7]), array([8]))\n",
      "(array([0, 1, 2, 3, 4, 5, 6, 7, 8]), array([9]))\n"
     ]
    }
   ],
   "source": [
    "for i in tss.split(a):\n",
    "    print(i)"
   ]
  },
  {
   "cell_type": "code",
   "execution_count": 41,
   "id": "2f39c053-416e-4182-9e5f-67d7f399e80b",
   "metadata": {},
   "outputs": [
    {
     "data": {
      "text/plain": [
       "array([0.408846  , 0.33701845, 0.51729329, 0.05600082, 0.40083795,\n",
       "       0.63809845, 0.77533316, 0.80992753, 0.7627919 ])"
      ]
     },
     "execution_count": 41,
     "metadata": {},
     "output_type": "execute_result"
    }
   ],
   "source": [
    "cross_val_score(xgbr, x_train, y_train, cv=tss, )"
   ]
  }
 ],
 "metadata": {
  "kernelspec": {
   "display_name": "Python 3",
   "language": "python",
   "name": "python3"
  },
  "language_info": {
   "codemirror_mode": {
    "name": "ipython",
    "version": 3
   },
   "file_extension": ".py",
   "mimetype": "text/x-python",
   "name": "python",
   "nbconvert_exporter": "python",
   "pygments_lexer": "ipython3",
   "version": "3.7.0"
  },
  "toc-autonumbering": false,
  "toc-showcode": false,
  "toc-showmarkdowntxt": false
 },
 "nbformat": 4,
 "nbformat_minor": 5
}
