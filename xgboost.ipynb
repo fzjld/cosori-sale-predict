{
 "cells": [
  {
   "cell_type": "code",
   "execution_count": 404,
   "id": "73b20828-5422-423d-85ff-449137ac570c",
   "metadata": {},
   "outputs": [],
   "source": [
    "import pandas as pd\n",
    "import numpy as np\n",
    "from xgboost import XGBRegressor\n",
    "from sklearn.model_selection import train_test_split\n",
    "from sklearn.preprocessing import OneHotEncoder\n",
    "from sklearn.metrics import mean_squared_error\n",
    "import time\n",
    "# from sklearn.externals import joblib\n",
    "import joblib\n",
    "import pickle\n",
    "import pylab as plt\n",
    "from sklearn.model_selection import cross_val_score\n",
    "import warnings\n",
    "warnings.filterwarnings('ignore')\n",
    "\n",
    "%matplotlib inline"
   ]
  },
  {
   "cell_type": "code",
   "execution_count": 38,
   "id": "5638c9d2-20d8-4cfc-be0c-e635641bb771",
   "metadata": {},
   "outputs": [],
   "source": [
    "data = pd.read_csv('./data.csv', encoding='GBK')"
   ]
  },
  {
   "cell_type": "code",
   "execution_count": 39,
   "id": "15357489-bcaf-4698-b401-d3074974ab7e",
   "metadata": {},
   "outputs": [
    {
     "data": {
      "text/plain": [
       "(28901, 25)"
      ]
     },
     "execution_count": 39,
     "metadata": {},
     "output_type": "execute_result"
    }
   ],
   "source": [
    "data.shape"
   ]
  },
  {
   "cell_type": "code",
   "execution_count": 40,
   "id": "db012706-4b58-4268-9adc-e2a52762c07e",
   "metadata": {
    "tags": []
   },
   "outputs": [
    {
     "data": {
      "text/html": [
       "<div>\n",
       "<style scoped>\n",
       "    .dataframe tbody tr th:only-of-type {\n",
       "        vertical-align: middle;\n",
       "    }\n",
       "\n",
       "    .dataframe tbody tr th {\n",
       "        vertical-align: top;\n",
       "    }\n",
       "\n",
       "    .dataframe thead th {\n",
       "        text-align: right;\n",
       "    }\n",
       "</style>\n",
       "<table border=\"1\" class=\"dataframe\">\n",
       "  <thead>\n",
       "    <tr style=\"text-align: right;\">\n",
       "      <th></th>\n",
       "      <th>id</th>\n",
       "      <th>site_id</th>\n",
       "      <th>asin</th>\n",
       "      <th>data_date</th>\n",
       "      <th>product_title</th>\n",
       "      <th>ordered_revenue</th>\n",
       "      <th>ordered_revenue_of_total</th>\n",
       "      <th>ordered_revenue_last_year</th>\n",
       "      <th>ordered_units</th>\n",
       "      <th>ordered_units_of_total</th>\n",
       "      <th>...</th>\n",
       "      <th>glance_views</th>\n",
       "      <th>change_in_glance_view_prior_period</th>\n",
       "      <th>change_in_gv_last_year</th>\n",
       "      <th>conversion_rate</th>\n",
       "      <th>rep_oos</th>\n",
       "      <th>rep_oos_of_total</th>\n",
       "      <th>rep_oos_prior_period</th>\n",
       "      <th>lbb_price</th>\n",
       "      <th>create_time</th>\n",
       "      <th>update_time</th>\n",
       "    </tr>\n",
       "  </thead>\n",
       "  <tbody>\n",
       "    <tr>\n",
       "      <th>0</th>\n",
       "      <td>1</td>\n",
       "      <td>eb766123-9f24-436e-9117-49c739816794</td>\n",
       "      <td>B07GJBBGHG</td>\n",
       "      <td>2021/1/2</td>\n",
       "      <td>COSORI 5.8QT Electric Hot Air Fryers Oven Oill...</td>\n",
       "      <td>153827.18</td>\n",
       "      <td>0.13</td>\n",
       "      <td>1.26</td>\n",
       "      <td>1284</td>\n",
       "      <td>0.06</td>\n",
       "      <td>...</td>\n",
       "      <td>40220.0</td>\n",
       "      <td>0.00</td>\n",
       "      <td>1.19</td>\n",
       "      <td>0.03</td>\n",
       "      <td>0.02</td>\n",
       "      <td>0.14</td>\n",
       "      <td>0.15</td>\n",
       "      <td>0.0</td>\n",
       "      <td>2021/1/4 6:48</td>\n",
       "      <td>2021/1/4 6:48</td>\n",
       "    </tr>\n",
       "    <tr>\n",
       "      <th>1</th>\n",
       "      <td>5</td>\n",
       "      <td>eb766123-9f24-436e-9117-49c739816794</td>\n",
       "      <td>B07VLKMMJ5</td>\n",
       "      <td>2021/1/2</td>\n",
       "      <td>COSORI Smart WiFi Air Fryer 5.8QT(100 Recipes)...</td>\n",
       "      <td>44065.14</td>\n",
       "      <td>0.04</td>\n",
       "      <td>0.45</td>\n",
       "      <td>367</td>\n",
       "      <td>0.02</td>\n",
       "      <td>...</td>\n",
       "      <td>11543.0</td>\n",
       "      <td>-0.01</td>\n",
       "      <td>1.45</td>\n",
       "      <td>0.03</td>\n",
       "      <td>0.01</td>\n",
       "      <td>0.02</td>\n",
       "      <td>1.26</td>\n",
       "      <td>0.0</td>\n",
       "      <td>2021/1/4 6:48</td>\n",
       "      <td>2021/1/4 6:48</td>\n",
       "    </tr>\n",
       "    <tr>\n",
       "      <th>2</th>\n",
       "      <td>9</td>\n",
       "      <td>eb766123-9f24-436e-9117-49c739816794</td>\n",
       "      <td>B07T2LCKNF</td>\n",
       "      <td>2021/1/2</td>\n",
       "      <td>COSORI Air Fryer Max XL(100 Recipes) 5.8 QT El...</td>\n",
       "      <td>28797.60</td>\n",
       "      <td>0.02</td>\n",
       "      <td>4.14</td>\n",
       "      <td>241</td>\n",
       "      <td>0.01</td>\n",
       "      <td>...</td>\n",
       "      <td>5897.0</td>\n",
       "      <td>0.10</td>\n",
       "      <td>3.25</td>\n",
       "      <td>0.04</td>\n",
       "      <td>0.00</td>\n",
       "      <td>0.00</td>\n",
       "      <td>NaN</td>\n",
       "      <td>0.0</td>\n",
       "      <td>2021/1/4 6:48</td>\n",
       "      <td>2021/1/4 6:48</td>\n",
       "    </tr>\n",
       "  </tbody>\n",
       "</table>\n",
       "<p>3 rows × 25 columns</p>\n",
       "</div>"
      ],
      "text/plain": [
       "   id                               site_id        asin data_date  \\\n",
       "0   1  eb766123-9f24-436e-9117-49c739816794  B07GJBBGHG  2021/1/2   \n",
       "1   5  eb766123-9f24-436e-9117-49c739816794  B07VLKMMJ5  2021/1/2   \n",
       "2   9  eb766123-9f24-436e-9117-49c739816794  B07T2LCKNF  2021/1/2   \n",
       "\n",
       "                                       product_title  ordered_revenue  \\\n",
       "0  COSORI 5.8QT Electric Hot Air Fryers Oven Oill...        153827.18   \n",
       "1  COSORI Smart WiFi Air Fryer 5.8QT(100 Recipes)...         44065.14   \n",
       "2  COSORI Air Fryer Max XL(100 Recipes) 5.8 QT El...         28797.60   \n",
       "\n",
       "   ordered_revenue_of_total  ordered_revenue_last_year  ordered_units  \\\n",
       "0                      0.13                       1.26           1284   \n",
       "1                      0.04                       0.45            367   \n",
       "2                      0.02                       4.14            241   \n",
       "\n",
       "   ordered_units_of_total  ...  glance_views  \\\n",
       "0                    0.06  ...       40220.0   \n",
       "1                    0.02  ...       11543.0   \n",
       "2                    0.01  ...        5897.0   \n",
       "\n",
       "   change_in_glance_view_prior_period  change_in_gv_last_year  \\\n",
       "0                                0.00                    1.19   \n",
       "1                               -0.01                    1.45   \n",
       "2                                0.10                    3.25   \n",
       "\n",
       "   conversion_rate  rep_oos  rep_oos_of_total  rep_oos_prior_period  \\\n",
       "0             0.03     0.02              0.14                  0.15   \n",
       "1             0.03     0.01              0.02                  1.26   \n",
       "2             0.04     0.00              0.00                   NaN   \n",
       "\n",
       "   lbb_price    create_time    update_time  \n",
       "0        0.0  2021/1/4 6:48  2021/1/4 6:48  \n",
       "1        0.0  2021/1/4 6:48  2021/1/4 6:48  \n",
       "2        0.0  2021/1/4 6:48  2021/1/4 6:48  \n",
       "\n",
       "[3 rows x 25 columns]"
      ]
     },
     "execution_count": 40,
     "metadata": {},
     "output_type": "execute_result"
    }
   ],
   "source": [
    "data.head(3)"
   ]
  },
  {
   "cell_type": "code",
   "execution_count": 42,
   "id": "73a2d885-5e0e-4a4d-8108-14b7bb49492f",
   "metadata": {},
   "outputs": [],
   "source": [
    "data.data_date = pd.to_datetime(data.data_date)"
   ]
  },
  {
   "cell_type": "code",
   "execution_count": 43,
   "id": "5a32529b-80b8-4395-886c-9bd944ef51c9",
   "metadata": {},
   "outputs": [],
   "source": [
    "group = data.groupby([ 'asin', 'data_date']).agg({'ordered_units':sum})\n",
    "group = group.reset_index()"
   ]
  },
  {
   "cell_type": "code",
   "execution_count": 44,
   "id": "497d9048-412e-4185-b338-acebbf83cd4d",
   "metadata": {},
   "outputs": [
    {
     "data": {
      "text/html": [
       "<div>\n",
       "<style scoped>\n",
       "    .dataframe tbody tr th:only-of-type {\n",
       "        vertical-align: middle;\n",
       "    }\n",
       "\n",
       "    .dataframe tbody tr th {\n",
       "        vertical-align: top;\n",
       "    }\n",
       "\n",
       "    .dataframe thead th {\n",
       "        text-align: right;\n",
       "    }\n",
       "</style>\n",
       "<table border=\"1\" class=\"dataframe\">\n",
       "  <thead>\n",
       "    <tr style=\"text-align: right;\">\n",
       "      <th></th>\n",
       "      <th>asin</th>\n",
       "      <th>data_date</th>\n",
       "      <th>ordered_units</th>\n",
       "    </tr>\n",
       "  </thead>\n",
       "  <tbody>\n",
       "    <tr>\n",
       "      <th>0</th>\n",
       "      <td>B071D7BTTW</td>\n",
       "      <td>2019-12-02</td>\n",
       "      <td>23</td>\n",
       "    </tr>\n",
       "    <tr>\n",
       "      <th>1</th>\n",
       "      <td>B071D7BTTW</td>\n",
       "      <td>2019-12-03</td>\n",
       "      <td>3</td>\n",
       "    </tr>\n",
       "    <tr>\n",
       "      <th>2</th>\n",
       "      <td>B071D7BTTW</td>\n",
       "      <td>2019-12-04</td>\n",
       "      <td>3</td>\n",
       "    </tr>\n",
       "    <tr>\n",
       "      <th>3</th>\n",
       "      <td>B071D7BTTW</td>\n",
       "      <td>2019-12-05</td>\n",
       "      <td>4</td>\n",
       "    </tr>\n",
       "    <tr>\n",
       "      <th>4</th>\n",
       "      <td>B071D7BTTW</td>\n",
       "      <td>2019-12-06</td>\n",
       "      <td>8</td>\n",
       "    </tr>\n",
       "  </tbody>\n",
       "</table>\n",
       "</div>"
      ],
      "text/plain": [
       "         asin  data_date  ordered_units\n",
       "0  B071D7BTTW 2019-12-02             23\n",
       "1  B071D7BTTW 2019-12-03              3\n",
       "2  B071D7BTTW 2019-12-04              3\n",
       "3  B071D7BTTW 2019-12-05              4\n",
       "4  B071D7BTTW 2019-12-06              8"
      ]
     },
     "execution_count": 44,
     "metadata": {},
     "output_type": "execute_result"
    }
   ],
   "source": [
    "group.head()"
   ]
  },
  {
   "cell_type": "code",
   "execution_count": 115,
   "id": "920cf2bc-adf7-40d5-b5d8-7e054099c057",
   "metadata": {},
   "outputs": [
    {
     "data": {
      "text/html": [
       "<div>\n",
       "<style scoped>\n",
       "    .dataframe tbody tr th:only-of-type {\n",
       "        vertical-align: middle;\n",
       "    }\n",
       "\n",
       "    .dataframe tbody tr th {\n",
       "        vertical-align: top;\n",
       "    }\n",
       "\n",
       "    .dataframe thead th {\n",
       "        text-align: right;\n",
       "    }\n",
       "</style>\n",
       "<table border=\"1\" class=\"dataframe\">\n",
       "  <thead>\n",
       "    <tr style=\"text-align: right;\">\n",
       "      <th></th>\n",
       "      <th>asin</th>\n",
       "      <th>data_date</th>\n",
       "      <th>ordered_units</th>\n",
       "    </tr>\n",
       "  </thead>\n",
       "  <tbody>\n",
       "    <tr>\n",
       "      <th>615</th>\n",
       "      <td>B074NYJL9J</td>\n",
       "      <td>2019-12-02</td>\n",
       "      <td>482</td>\n",
       "    </tr>\n",
       "    <tr>\n",
       "      <th>616</th>\n",
       "      <td>B074NYJL9J</td>\n",
       "      <td>2019-12-03</td>\n",
       "      <td>102</td>\n",
       "    </tr>\n",
       "    <tr>\n",
       "      <th>617</th>\n",
       "      <td>B074NYJL9J</td>\n",
       "      <td>2019-12-04</td>\n",
       "      <td>151</td>\n",
       "    </tr>\n",
       "    <tr>\n",
       "      <th>618</th>\n",
       "      <td>B074NYJL9J</td>\n",
       "      <td>2019-12-05</td>\n",
       "      <td>167</td>\n",
       "    </tr>\n",
       "    <tr>\n",
       "      <th>619</th>\n",
       "      <td>B074NYJL9J</td>\n",
       "      <td>2019-12-06</td>\n",
       "      <td>188</td>\n",
       "    </tr>\n",
       "    <tr>\n",
       "      <th>...</th>\n",
       "      <td>...</td>\n",
       "      <td>...</td>\n",
       "      <td>...</td>\n",
       "    </tr>\n",
       "    <tr>\n",
       "      <th>1236</th>\n",
       "      <td>B074NYJL9J</td>\n",
       "      <td>2021-08-18</td>\n",
       "      <td>24</td>\n",
       "    </tr>\n",
       "    <tr>\n",
       "      <th>1237</th>\n",
       "      <td>B074NYJL9J</td>\n",
       "      <td>2021-08-19</td>\n",
       "      <td>12</td>\n",
       "    </tr>\n",
       "    <tr>\n",
       "      <th>1238</th>\n",
       "      <td>B074NYJL9J</td>\n",
       "      <td>2021-08-20</td>\n",
       "      <td>6</td>\n",
       "    </tr>\n",
       "    <tr>\n",
       "      <th>1239</th>\n",
       "      <td>B074NYJL9J</td>\n",
       "      <td>2021-08-21</td>\n",
       "      <td>10</td>\n",
       "    </tr>\n",
       "    <tr>\n",
       "      <th>1240</th>\n",
       "      <td>B074NYJL9J</td>\n",
       "      <td>2021-08-22</td>\n",
       "      <td>5</td>\n",
       "    </tr>\n",
       "  </tbody>\n",
       "</table>\n",
       "<p>626 rows × 3 columns</p>\n",
       "</div>"
      ],
      "text/plain": [
       "            asin  data_date  ordered_units\n",
       "615   B074NYJL9J 2019-12-02            482\n",
       "616   B074NYJL9J 2019-12-03            102\n",
       "617   B074NYJL9J 2019-12-04            151\n",
       "618   B074NYJL9J 2019-12-05            167\n",
       "619   B074NYJL9J 2019-12-06            188\n",
       "...          ...        ...            ...\n",
       "1236  B074NYJL9J 2021-08-18             24\n",
       "1237  B074NYJL9J 2021-08-19             12\n",
       "1238  B074NYJL9J 2021-08-20              6\n",
       "1239  B074NYJL9J 2021-08-21             10\n",
       "1240  B074NYJL9J 2021-08-22              5\n",
       "\n",
       "[626 rows x 3 columns]"
      ]
     },
     "execution_count": 115,
     "metadata": {},
     "output_type": "execute_result"
    }
   ],
   "source": [
    "a"
   ]
  },
  {
   "cell_type": "code",
   "execution_count": 63,
   "id": "61de899c-5a93-4275-bf60-ff7eb63799c3",
   "metadata": {},
   "outputs": [],
   "source": [
    "a = group.groupby('asin').get_group('B074NYJL9J')\n",
    "plt.plot(a['data_date'], a['ordered_units'])"
   ]
  },
  {
   "cell_type": "code",
   "execution_count": 9,
   "id": "d1557027-a157-428e-aecd-09283ca3e27f",
   "metadata": {},
   "outputs": [],
   "source": [
    "group.data_date = pd.to_datetime(group.data_date)"
   ]
  },
  {
   "cell_type": "code",
   "execution_count": 10,
   "id": "08ccb6ec-e79e-4a6c-a89c-07eb1bfd30d7",
   "metadata": {},
   "outputs": [],
   "source": [
    "group['month'] = group.data_date.dt.month\n",
    "group['year'] = group.data_date.dt.year\n",
    "group['day'] = group.data_date.dt.day"
   ]
  },
  {
   "cell_type": "code",
   "execution_count": 11,
   "id": "7b0dc9e7-398c-4ad0-bf36-f262607a8c5f",
   "metadata": {},
   "outputs": [
    {
     "data": {
      "text/html": [
       "<div>\n",
       "<style scoped>\n",
       "    .dataframe tbody tr th:only-of-type {\n",
       "        vertical-align: middle;\n",
       "    }\n",
       "\n",
       "    .dataframe tbody tr th {\n",
       "        vertical-align: top;\n",
       "    }\n",
       "\n",
       "    .dataframe thead th {\n",
       "        text-align: right;\n",
       "    }\n",
       "</style>\n",
       "<table border=\"1\" class=\"dataframe\">\n",
       "  <thead>\n",
       "    <tr style=\"text-align: right;\">\n",
       "      <th></th>\n",
       "      <th>asin</th>\n",
       "      <th>data_date</th>\n",
       "      <th>ordered_units</th>\n",
       "      <th>month</th>\n",
       "      <th>year</th>\n",
       "      <th>day</th>\n",
       "    </tr>\n",
       "  </thead>\n",
       "  <tbody>\n",
       "    <tr>\n",
       "      <th>0</th>\n",
       "      <td>B071D7BTTW</td>\n",
       "      <td>2019-12-10</td>\n",
       "      <td>5</td>\n",
       "      <td>12</td>\n",
       "      <td>2019</td>\n",
       "      <td>10</td>\n",
       "    </tr>\n",
       "    <tr>\n",
       "      <th>1</th>\n",
       "      <td>B071D7BTTW</td>\n",
       "      <td>2019-12-11</td>\n",
       "      <td>0</td>\n",
       "      <td>12</td>\n",
       "      <td>2019</td>\n",
       "      <td>11</td>\n",
       "    </tr>\n",
       "    <tr>\n",
       "      <th>2</th>\n",
       "      <td>B071D7BTTW</td>\n",
       "      <td>2019-12-12</td>\n",
       "      <td>1</td>\n",
       "      <td>12</td>\n",
       "      <td>2019</td>\n",
       "      <td>12</td>\n",
       "    </tr>\n",
       "    <tr>\n",
       "      <th>3</th>\n",
       "      <td>B071D7BTTW</td>\n",
       "      <td>2019-12-13</td>\n",
       "      <td>0</td>\n",
       "      <td>12</td>\n",
       "      <td>2019</td>\n",
       "      <td>13</td>\n",
       "    </tr>\n",
       "    <tr>\n",
       "      <th>4</th>\n",
       "      <td>B071D7BTTW</td>\n",
       "      <td>2019-12-14</td>\n",
       "      <td>0</td>\n",
       "      <td>12</td>\n",
       "      <td>2019</td>\n",
       "      <td>14</td>\n",
       "    </tr>\n",
       "    <tr>\n",
       "      <th>28896</th>\n",
       "      <td>B09BB74CLW</td>\n",
       "      <td>2021-08-18</td>\n",
       "      <td>2</td>\n",
       "      <td>8</td>\n",
       "      <td>2021</td>\n",
       "      <td>18</td>\n",
       "    </tr>\n",
       "    <tr>\n",
       "      <th>28897</th>\n",
       "      <td>B09BB74CLW</td>\n",
       "      <td>2021-08-19</td>\n",
       "      <td>1</td>\n",
       "      <td>8</td>\n",
       "      <td>2021</td>\n",
       "      <td>19</td>\n",
       "    </tr>\n",
       "    <tr>\n",
       "      <th>28898</th>\n",
       "      <td>B09BB74CLW</td>\n",
       "      <td>2021-08-20</td>\n",
       "      <td>2</td>\n",
       "      <td>8</td>\n",
       "      <td>2021</td>\n",
       "      <td>20</td>\n",
       "    </tr>\n",
       "    <tr>\n",
       "      <th>28899</th>\n",
       "      <td>B09BB74CLW</td>\n",
       "      <td>2021-08-21</td>\n",
       "      <td>0</td>\n",
       "      <td>8</td>\n",
       "      <td>2021</td>\n",
       "      <td>21</td>\n",
       "    </tr>\n",
       "    <tr>\n",
       "      <th>28900</th>\n",
       "      <td>B09BB74CLW</td>\n",
       "      <td>2021-08-22</td>\n",
       "      <td>0</td>\n",
       "      <td>8</td>\n",
       "      <td>2021</td>\n",
       "      <td>22</td>\n",
       "    </tr>\n",
       "  </tbody>\n",
       "</table>\n",
       "</div>"
      ],
      "text/plain": [
       "             asin  data_date  ordered_units  month  year  day\n",
       "0      B071D7BTTW 2019-12-10              5     12  2019   10\n",
       "1      B071D7BTTW 2019-12-11              0     12  2019   11\n",
       "2      B071D7BTTW 2019-12-12              1     12  2019   12\n",
       "3      B071D7BTTW 2019-12-13              0     12  2019   13\n",
       "4      B071D7BTTW 2019-12-14              0     12  2019   14\n",
       "28896  B09BB74CLW 2021-08-18              2      8  2021   18\n",
       "28897  B09BB74CLW 2021-08-19              1      8  2021   19\n",
       "28898  B09BB74CLW 2021-08-20              2      8  2021   20\n",
       "28899  B09BB74CLW 2021-08-21              0      8  2021   21\n",
       "28900  B09BB74CLW 2021-08-22              0      8  2021   22"
      ]
     },
     "execution_count": 11,
     "metadata": {},
     "output_type": "execute_result"
    }
   ],
   "source": [
    "group.head().append(group.tail())"
   ]
  },
  {
   "cell_type": "code",
   "execution_count": 13,
   "id": "56383963-fae4-4b23-92f0-2c5009a90d6f",
   "metadata": {},
   "outputs": [],
   "source": [
    "group1 = group.drop('data_date', axis=1)"
   ]
  },
  {
   "cell_type": "code",
   "execution_count": 15,
   "id": "d772dac7-1877-404a-8fc3-7c9aa5b78880",
   "metadata": {
    "collapsed": true,
    "jupyter": {
     "outputs_hidden": true
    },
    "tags": []
   },
   "outputs": [
    {
     "data": {
      "text/html": [
       "<div>\n",
       "<style scoped>\n",
       "    .dataframe tbody tr th:only-of-type {\n",
       "        vertical-align: middle;\n",
       "    }\n",
       "\n",
       "    .dataframe tbody tr th {\n",
       "        vertical-align: top;\n",
       "    }\n",
       "\n",
       "    .dataframe thead th {\n",
       "        text-align: right;\n",
       "    }\n",
       "</style>\n",
       "<table border=\"1\" class=\"dataframe\">\n",
       "  <thead>\n",
       "    <tr style=\"text-align: right;\">\n",
       "      <th></th>\n",
       "      <th>asin</th>\n",
       "      <th>ordered_units</th>\n",
       "      <th>month</th>\n",
       "      <th>year</th>\n",
       "      <th>day</th>\n",
       "    </tr>\n",
       "  </thead>\n",
       "  <tbody>\n",
       "    <tr>\n",
       "      <th>0</th>\n",
       "      <td>B071D7BTTW</td>\n",
       "      <td>5</td>\n",
       "      <td>12</td>\n",
       "      <td>2019</td>\n",
       "      <td>10</td>\n",
       "    </tr>\n",
       "    <tr>\n",
       "      <th>1</th>\n",
       "      <td>B071D7BTTW</td>\n",
       "      <td>0</td>\n",
       "      <td>12</td>\n",
       "      <td>2019</td>\n",
       "      <td>11</td>\n",
       "    </tr>\n",
       "    <tr>\n",
       "      <th>2</th>\n",
       "      <td>B071D7BTTW</td>\n",
       "      <td>1</td>\n",
       "      <td>12</td>\n",
       "      <td>2019</td>\n",
       "      <td>12</td>\n",
       "    </tr>\n",
       "    <tr>\n",
       "      <th>3</th>\n",
       "      <td>B071D7BTTW</td>\n",
       "      <td>0</td>\n",
       "      <td>12</td>\n",
       "      <td>2019</td>\n",
       "      <td>13</td>\n",
       "    </tr>\n",
       "    <tr>\n",
       "      <th>4</th>\n",
       "      <td>B071D7BTTW</td>\n",
       "      <td>0</td>\n",
       "      <td>12</td>\n",
       "      <td>2019</td>\n",
       "      <td>14</td>\n",
       "    </tr>\n",
       "    <tr>\n",
       "      <th>...</th>\n",
       "      <td>...</td>\n",
       "      <td>...</td>\n",
       "      <td>...</td>\n",
       "      <td>...</td>\n",
       "      <td>...</td>\n",
       "    </tr>\n",
       "    <tr>\n",
       "      <th>28896</th>\n",
       "      <td>B09BB74CLW</td>\n",
       "      <td>2</td>\n",
       "      <td>8</td>\n",
       "      <td>2021</td>\n",
       "      <td>18</td>\n",
       "    </tr>\n",
       "    <tr>\n",
       "      <th>28897</th>\n",
       "      <td>B09BB74CLW</td>\n",
       "      <td>1</td>\n",
       "      <td>8</td>\n",
       "      <td>2021</td>\n",
       "      <td>19</td>\n",
       "    </tr>\n",
       "    <tr>\n",
       "      <th>28898</th>\n",
       "      <td>B09BB74CLW</td>\n",
       "      <td>2</td>\n",
       "      <td>8</td>\n",
       "      <td>2021</td>\n",
       "      <td>20</td>\n",
       "    </tr>\n",
       "    <tr>\n",
       "      <th>28899</th>\n",
       "      <td>B09BB74CLW</td>\n",
       "      <td>0</td>\n",
       "      <td>8</td>\n",
       "      <td>2021</td>\n",
       "      <td>21</td>\n",
       "    </tr>\n",
       "    <tr>\n",
       "      <th>28900</th>\n",
       "      <td>B09BB74CLW</td>\n",
       "      <td>0</td>\n",
       "      <td>8</td>\n",
       "      <td>2021</td>\n",
       "      <td>22</td>\n",
       "    </tr>\n",
       "  </tbody>\n",
       "</table>\n",
       "<p>28901 rows × 5 columns</p>\n",
       "</div>"
      ],
      "text/plain": [
       "             asin  ordered_units  month  year  day\n",
       "0      B071D7BTTW              5     12  2019   10\n",
       "1      B071D7BTTW              0     12  2019   11\n",
       "2      B071D7BTTW              1     12  2019   12\n",
       "3      B071D7BTTW              0     12  2019   13\n",
       "4      B071D7BTTW              0     12  2019   14\n",
       "...           ...            ...    ...   ...  ...\n",
       "28896  B09BB74CLW              2      8  2021   18\n",
       "28897  B09BB74CLW              1      8  2021   19\n",
       "28898  B09BB74CLW              2      8  2021   20\n",
       "28899  B09BB74CLW              0      8  2021   21\n",
       "28900  B09BB74CLW              0      8  2021   22\n",
       "\n",
       "[28901 rows x 5 columns]"
      ]
     },
     "execution_count": 15,
     "metadata": {},
     "output_type": "execute_result"
    }
   ],
   "source": [
    "group1"
   ]
  },
  {
   "cell_type": "code",
   "execution_count": 14,
   "id": "319984f7-857f-4329-ab1f-b2d3240dbfdd",
   "metadata": {},
   "outputs": [],
   "source": [
    "encoder = OneHotEncoder(sparse=False)"
   ]
  },
  {
   "cell_type": "code",
   "execution_count": 20,
   "id": "c1ac6fae-a3a3-4c41-a367-46d3db9d2ad3",
   "metadata": {},
   "outputs": [
    {
     "data": {
      "text/html": [
       "<div>\n",
       "<style scoped>\n",
       "    .dataframe tbody tr th:only-of-type {\n",
       "        vertical-align: middle;\n",
       "    }\n",
       "\n",
       "    .dataframe tbody tr th {\n",
       "        vertical-align: top;\n",
       "    }\n",
       "\n",
       "    .dataframe thead th {\n",
       "        text-align: right;\n",
       "    }\n",
       "</style>\n",
       "<table border=\"1\" class=\"dataframe\">\n",
       "  <thead>\n",
       "    <tr style=\"text-align: right;\">\n",
       "      <th></th>\n",
       "      <th>asin</th>\n",
       "      <th>ordered_units</th>\n",
       "      <th>month</th>\n",
       "      <th>year</th>\n",
       "      <th>day</th>\n",
       "    </tr>\n",
       "  </thead>\n",
       "  <tbody>\n",
       "    <tr>\n",
       "      <th>0</th>\n",
       "      <td>B071D7BTTW</td>\n",
       "      <td>5</td>\n",
       "      <td>12</td>\n",
       "      <td>2019</td>\n",
       "      <td>10</td>\n",
       "    </tr>\n",
       "    <tr>\n",
       "      <th>1</th>\n",
       "      <td>B071D7BTTW</td>\n",
       "      <td>0</td>\n",
       "      <td>12</td>\n",
       "      <td>2019</td>\n",
       "      <td>11</td>\n",
       "    </tr>\n",
       "    <tr>\n",
       "      <th>2</th>\n",
       "      <td>B071D7BTTW</td>\n",
       "      <td>1</td>\n",
       "      <td>12</td>\n",
       "      <td>2019</td>\n",
       "      <td>12</td>\n",
       "    </tr>\n",
       "    <tr>\n",
       "      <th>3</th>\n",
       "      <td>B071D7BTTW</td>\n",
       "      <td>0</td>\n",
       "      <td>12</td>\n",
       "      <td>2019</td>\n",
       "      <td>13</td>\n",
       "    </tr>\n",
       "    <tr>\n",
       "      <th>4</th>\n",
       "      <td>B071D7BTTW</td>\n",
       "      <td>0</td>\n",
       "      <td>12</td>\n",
       "      <td>2019</td>\n",
       "      <td>14</td>\n",
       "    </tr>\n",
       "    <tr>\n",
       "      <th>...</th>\n",
       "      <td>...</td>\n",
       "      <td>...</td>\n",
       "      <td>...</td>\n",
       "      <td>...</td>\n",
       "      <td>...</td>\n",
       "    </tr>\n",
       "    <tr>\n",
       "      <th>28896</th>\n",
       "      <td>B09BB74CLW</td>\n",
       "      <td>2</td>\n",
       "      <td>8</td>\n",
       "      <td>2021</td>\n",
       "      <td>18</td>\n",
       "    </tr>\n",
       "    <tr>\n",
       "      <th>28897</th>\n",
       "      <td>B09BB74CLW</td>\n",
       "      <td>1</td>\n",
       "      <td>8</td>\n",
       "      <td>2021</td>\n",
       "      <td>19</td>\n",
       "    </tr>\n",
       "    <tr>\n",
       "      <th>28898</th>\n",
       "      <td>B09BB74CLW</td>\n",
       "      <td>2</td>\n",
       "      <td>8</td>\n",
       "      <td>2021</td>\n",
       "      <td>20</td>\n",
       "    </tr>\n",
       "    <tr>\n",
       "      <th>28899</th>\n",
       "      <td>B09BB74CLW</td>\n",
       "      <td>0</td>\n",
       "      <td>8</td>\n",
       "      <td>2021</td>\n",
       "      <td>21</td>\n",
       "    </tr>\n",
       "    <tr>\n",
       "      <th>28900</th>\n",
       "      <td>B09BB74CLW</td>\n",
       "      <td>0</td>\n",
       "      <td>8</td>\n",
       "      <td>2021</td>\n",
       "      <td>22</td>\n",
       "    </tr>\n",
       "  </tbody>\n",
       "</table>\n",
       "<p>28901 rows × 5 columns</p>\n",
       "</div>"
      ],
      "text/plain": [
       "             asin  ordered_units  month  year  day\n",
       "0      B071D7BTTW              5     12  2019   10\n",
       "1      B071D7BTTW              0     12  2019   11\n",
       "2      B071D7BTTW              1     12  2019   12\n",
       "3      B071D7BTTW              0     12  2019   13\n",
       "4      B071D7BTTW              0     12  2019   14\n",
       "...           ...            ...    ...   ...  ...\n",
       "28896  B09BB74CLW              2      8  2021   18\n",
       "28897  B09BB74CLW              1      8  2021   19\n",
       "28898  B09BB74CLW              2      8  2021   20\n",
       "28899  B09BB74CLW              0      8  2021   21\n",
       "28900  B09BB74CLW              0      8  2021   22\n",
       "\n",
       "[28901 rows x 5 columns]"
      ]
     },
     "execution_count": 20,
     "metadata": {},
     "output_type": "execute_result"
    }
   ],
   "source": [
    "group1"
   ]
  },
  {
   "cell_type": "code",
   "execution_count": 348,
   "id": "b5b9e242-5e95-4915-aefd-fd7f5da11881",
   "metadata": {},
   "outputs": [],
   "source": [
    "data = encoder.fit_transform(group1[['asin', 'month', 'year', 'day']])"
   ]
  },
  {
   "cell_type": "code",
   "execution_count": 349,
   "id": "2b1fdf3c-eecb-4cd5-be52-860998061e0d",
   "metadata": {},
   "outputs": [
    {
     "data": {
      "text/plain": [
       "(28901, 109)"
      ]
     },
     "execution_count": 349,
     "metadata": {},
     "output_type": "execute_result"
    }
   ],
   "source": [
    "data.shape"
   ]
  },
  {
   "cell_type": "code",
   "execution_count": 23,
   "id": "75beaa0b-02d3-4266-b76e-d0c8005b7f8c",
   "metadata": {},
   "outputs": [],
   "source": [
    "# x = data.drop('ordered_units', axis=1)\n",
    "y = group['ordered_units']"
   ]
  },
  {
   "cell_type": "code",
   "execution_count": 24,
   "id": "e2bcbf3b-b5e2-4640-b2bf-eb452bac4aba",
   "metadata": {},
   "outputs": [],
   "source": [
    "x_train, x_valid, y_train, y_valid = train_test_split(data, y, test_size=0.2)"
   ]
  },
  {
   "cell_type": "code",
   "execution_count": 336,
   "id": "ebbc0c57-aa50-4335-88dd-3f1d6484294d",
   "metadata": {},
   "outputs": [],
   "source": [
    "y_pred = xgr.predict(x_valid)"
   ]
  },
  {
   "cell_type": "code",
   "execution_count": 337,
   "id": "01854f67-4ea7-48a2-8038-9ba18a684942",
   "metadata": {},
   "outputs": [
    {
     "data": {
      "text/plain": [
       "230.0199377922727"
      ]
     },
     "execution_count": 337,
     "metadata": {},
     "output_type": "execute_result"
    }
   ],
   "source": [
    "np.sqrt(mean_squared_error(y_valid, y_pred))"
   ]
  },
  {
   "cell_type": "markdown",
   "id": "7f3227b4-0675-432a-a8e0-a8b9ee4b4498",
   "metadata": {},
   "source": [
    "## 保存读取"
   ]
  },
  {
   "cell_type": "code",
   "execution_count": 45,
   "id": "0885fcde-24d5-4be7-b623-c0ab72999812",
   "metadata": {},
   "outputs": [
    {
     "data": {
      "text/plain": [
       "['onehot.pkl']"
      ]
     },
     "execution_count": 45,
     "metadata": {},
     "output_type": "execute_result"
    }
   ],
   "source": [
    "joblib.dump(encoder, 'onehot.pkl')"
   ]
  },
  {
   "cell_type": "code",
   "execution_count": 238,
   "id": "bb24a653-1ee7-40bc-85b8-5e0f9f75cd00",
   "metadata": {},
   "outputs": [],
   "source": [
    "encoder = joblib.load('onehot.pkl')"
   ]
  },
  {
   "cell_type": "code",
   "execution_count": 182,
   "id": "910d9f3f-29da-4eef-a7e4-9481f80ca128",
   "metadata": {},
   "outputs": [],
   "source": [
    "def predict(asin, encoder, start_time='2019-12-01', end_time='2021-8-24'):\n",
    "    date_range = pd.date_range(start_time, end_time)\n",
    "    c = pd.DataFrame({'date':date_range, 'asin': asin})\n",
    "    c['month'] = c.date.dt.month\n",
    "    c['year'] = c.date.dt.year\n",
    "    c['day'] = c.date.dt.day\n",
    "    c1 = c.drop('date', axis=1)\n",
    "    x1 = e.transform(c1)\n",
    "    y_pred = xgr.predict(x1)\n",
    "    plt.plot(c['date'], y_pred, c='r')\n",
    "    \n",
    "    return y_pred"
   ]
  },
  {
   "cell_type": "markdown",
   "id": "407314b6-5e61-4f09-9997-8e3a0749efe2",
   "metadata": {},
   "source": [
    "只能预测2021年内的数据"
   ]
  },
  {
   "cell_type": "code",
   "execution_count": 287,
   "id": "41071948-5790-424d-b238-c65edccb128c",
   "metadata": {},
   "outputs": [
    {
     "data": {
      "text/plain": [
       "array(['B071D7BTTW', 'B074NYJL9J', 'B076DZJSHL', 'B07FKN76ZS',\n",
       "       'B07FP5PHG4', 'B07G9J4745', 'B07GJBBGHG', 'B07GJJ71XS',\n",
       "       'B07LCW5S2H', 'B07MPC7C8G', 'B07NL1L4SL', 'B07PY5M579',\n",
       "       'B07QDSHKV1', 'B07QDSNFS2', 'B07QHSZGXC', 'B07RWPQ9TM',\n",
       "       'B07SKJV5KV', 'B07T1BCN91', 'B07T1CH2HH', 'B07T2LCKNF',\n",
       "       'B07T2LGN8P', 'B07T4HX1LH', 'B07VLKMMJ5', 'B07VNPQ2NF',\n",
       "       'B07VXQMR7G', 'B07VXVFKWV', 'B07W67NQMN', 'B07W8MGPJX',\n",
       "       'B07WBSVH33', 'B07WYYRZK7', 'B07WZF33ZT', 'B07X2JP8HP',\n",
       "       'B07X3JDVHK', 'B07XS37FPV', 'B07YBB5SKG', 'B07YL6QWLK',\n",
       "       'B081LQMXKP', 'B081NLFM91', 'B0821DTMGT', 'B083JBM9CZ',\n",
       "       'B085W3GN5J', 'B0895G46CG', 'B0895GS9NW', 'B089SGRVBJ',\n",
       "       'B089ZT66H9', 'B08BFMV68M', 'B08BFS92RP', 'B08FX4BR51',\n",
       "       'B08GBY2BK8', 'B08K8T3W2V', 'B08L39951F', 'B08L3L4ZZX',\n",
       "       'B08LYY2HHJ', 'B08NSVZY1K', 'B08PC1WNNX', 'B08PP48979',\n",
       "       'B08QM92YBH', 'B08THPNHJK', 'B08YDQSG55', 'B095346VH6',\n",
       "       'B097HG13D1', 'B0999CJBD9', 'B09BB74CLW'], dtype=object)"
      ]
     },
     "execution_count": 287,
     "metadata": {},
     "output_type": "execute_result"
    }
   ],
   "source": [
    "group.asin.unique()"
   ]
  },
  {
   "cell_type": "code",
   "execution_count": 429,
   "id": "f62aaa61-b092-45fe-9e58-7083acb9647a",
   "metadata": {},
   "outputs": [],
   "source": [
    "asin = 'B074NYJL9J'"
   ]
  },
  {
   "cell_type": "code",
   "execution_count": 430,
   "id": "9cbe5474-11af-4b45-adff-7200456bd115",
   "metadata": {},
   "outputs": [],
   "source": [
    "def get_y_true(asin, start, end):\n",
    "    \"\"\"\n",
    "    指定型号的产品销量和日期\n",
    "    \"\"\"\n",
    "    a = group[(group['asin'] == asin)\n",
    "      & (group['data_date'] >= start) \n",
    "      & (group['data_date'] <= end)\n",
    "     ]\n",
    "    y_train = a['ordered_units']\n",
    "    \n",
    "    a['month'] = a.data_date.dt.month\n",
    "    a['year'] = a.data_date.dt.year\n",
    "    a['day'] = a.data_date.dt.day\n",
    "    x_train = a.drop(['data_date', 'ordered_units'], axis=1)\n",
    "    \n",
    "    return x_train, y_train"
   ]
  },
  {
   "cell_type": "markdown",
   "id": "094fb506-6dad-4436-9079-d5ea20d698b4",
   "metadata": {},
   "source": [
    "2019-12-02 ~ 2021-7-22的数据为训练数据，2021-7-22 ~ 2021-8-22的数据为验证数据"
   ]
  },
  {
   "cell_type": "code",
   "execution_count": 431,
   "id": "3c632827-b022-4149-9910-0c318821f462",
   "metadata": {},
   "outputs": [],
   "source": [
    "x_train, y_train = get_y_true(asin, '2019-12-02', '2021-07-22')"
   ]
  },
  {
   "cell_type": "code",
   "execution_count": 432,
   "id": "bed7b2fa-123b-4f05-97b4-b1ac63c3564b",
   "metadata": {},
   "outputs": [],
   "source": [
    "x_valid, y_valid = get_y_true(asin, '2021-07-23', '2021-08-22')"
   ]
  },
  {
   "cell_type": "code",
   "execution_count": 433,
   "id": "ca5dfc1c-0573-48ee-8ac8-dceca51fe214",
   "metadata": {},
   "outputs": [
    {
     "data": {
      "text/html": [
       "<div>\n",
       "<style scoped>\n",
       "    .dataframe tbody tr th:only-of-type {\n",
       "        vertical-align: middle;\n",
       "    }\n",
       "\n",
       "    .dataframe tbody tr th {\n",
       "        vertical-align: top;\n",
       "    }\n",
       "\n",
       "    .dataframe thead th {\n",
       "        text-align: right;\n",
       "    }\n",
       "</style>\n",
       "<table border=\"1\" class=\"dataframe\">\n",
       "  <thead>\n",
       "    <tr style=\"text-align: right;\">\n",
       "      <th></th>\n",
       "      <th>asin</th>\n",
       "      <th>month</th>\n",
       "      <th>year</th>\n",
       "      <th>day</th>\n",
       "    </tr>\n",
       "  </thead>\n",
       "  <tbody>\n",
       "    <tr>\n",
       "      <th>1210</th>\n",
       "      <td>B074NYJL9J</td>\n",
       "      <td>7</td>\n",
       "      <td>2021</td>\n",
       "      <td>23</td>\n",
       "    </tr>\n",
       "    <tr>\n",
       "      <th>1211</th>\n",
       "      <td>B074NYJL9J</td>\n",
       "      <td>7</td>\n",
       "      <td>2021</td>\n",
       "      <td>24</td>\n",
       "    </tr>\n",
       "    <tr>\n",
       "      <th>1212</th>\n",
       "      <td>B074NYJL9J</td>\n",
       "      <td>7</td>\n",
       "      <td>2021</td>\n",
       "      <td>25</td>\n",
       "    </tr>\n",
       "    <tr>\n",
       "      <th>1213</th>\n",
       "      <td>B074NYJL9J</td>\n",
       "      <td>7</td>\n",
       "      <td>2021</td>\n",
       "      <td>26</td>\n",
       "    </tr>\n",
       "    <tr>\n",
       "      <th>1214</th>\n",
       "      <td>B074NYJL9J</td>\n",
       "      <td>7</td>\n",
       "      <td>2021</td>\n",
       "      <td>27</td>\n",
       "    </tr>\n",
       "    <tr>\n",
       "      <th>1215</th>\n",
       "      <td>B074NYJL9J</td>\n",
       "      <td>7</td>\n",
       "      <td>2021</td>\n",
       "      <td>28</td>\n",
       "    </tr>\n",
       "    <tr>\n",
       "      <th>1216</th>\n",
       "      <td>B074NYJL9J</td>\n",
       "      <td>7</td>\n",
       "      <td>2021</td>\n",
       "      <td>29</td>\n",
       "    </tr>\n",
       "    <tr>\n",
       "      <th>1217</th>\n",
       "      <td>B074NYJL9J</td>\n",
       "      <td>7</td>\n",
       "      <td>2021</td>\n",
       "      <td>30</td>\n",
       "    </tr>\n",
       "    <tr>\n",
       "      <th>1218</th>\n",
       "      <td>B074NYJL9J</td>\n",
       "      <td>7</td>\n",
       "      <td>2021</td>\n",
       "      <td>31</td>\n",
       "    </tr>\n",
       "    <tr>\n",
       "      <th>1219</th>\n",
       "      <td>B074NYJL9J</td>\n",
       "      <td>8</td>\n",
       "      <td>2021</td>\n",
       "      <td>1</td>\n",
       "    </tr>\n",
       "    <tr>\n",
       "      <th>1220</th>\n",
       "      <td>B074NYJL9J</td>\n",
       "      <td>8</td>\n",
       "      <td>2021</td>\n",
       "      <td>2</td>\n",
       "    </tr>\n",
       "    <tr>\n",
       "      <th>1221</th>\n",
       "      <td>B074NYJL9J</td>\n",
       "      <td>8</td>\n",
       "      <td>2021</td>\n",
       "      <td>3</td>\n",
       "    </tr>\n",
       "    <tr>\n",
       "      <th>1222</th>\n",
       "      <td>B074NYJL9J</td>\n",
       "      <td>8</td>\n",
       "      <td>2021</td>\n",
       "      <td>4</td>\n",
       "    </tr>\n",
       "    <tr>\n",
       "      <th>1223</th>\n",
       "      <td>B074NYJL9J</td>\n",
       "      <td>8</td>\n",
       "      <td>2021</td>\n",
       "      <td>5</td>\n",
       "    </tr>\n",
       "    <tr>\n",
       "      <th>1224</th>\n",
       "      <td>B074NYJL9J</td>\n",
       "      <td>8</td>\n",
       "      <td>2021</td>\n",
       "      <td>6</td>\n",
       "    </tr>\n",
       "    <tr>\n",
       "      <th>1225</th>\n",
       "      <td>B074NYJL9J</td>\n",
       "      <td>8</td>\n",
       "      <td>2021</td>\n",
       "      <td>7</td>\n",
       "    </tr>\n",
       "    <tr>\n",
       "      <th>1226</th>\n",
       "      <td>B074NYJL9J</td>\n",
       "      <td>8</td>\n",
       "      <td>2021</td>\n",
       "      <td>8</td>\n",
       "    </tr>\n",
       "    <tr>\n",
       "      <th>1227</th>\n",
       "      <td>B074NYJL9J</td>\n",
       "      <td>8</td>\n",
       "      <td>2021</td>\n",
       "      <td>9</td>\n",
       "    </tr>\n",
       "    <tr>\n",
       "      <th>1228</th>\n",
       "      <td>B074NYJL9J</td>\n",
       "      <td>8</td>\n",
       "      <td>2021</td>\n",
       "      <td>10</td>\n",
       "    </tr>\n",
       "    <tr>\n",
       "      <th>1229</th>\n",
       "      <td>B074NYJL9J</td>\n",
       "      <td>8</td>\n",
       "      <td>2021</td>\n",
       "      <td>11</td>\n",
       "    </tr>\n",
       "    <tr>\n",
       "      <th>1230</th>\n",
       "      <td>B074NYJL9J</td>\n",
       "      <td>8</td>\n",
       "      <td>2021</td>\n",
       "      <td>12</td>\n",
       "    </tr>\n",
       "    <tr>\n",
       "      <th>1231</th>\n",
       "      <td>B074NYJL9J</td>\n",
       "      <td>8</td>\n",
       "      <td>2021</td>\n",
       "      <td>13</td>\n",
       "    </tr>\n",
       "    <tr>\n",
       "      <th>1232</th>\n",
       "      <td>B074NYJL9J</td>\n",
       "      <td>8</td>\n",
       "      <td>2021</td>\n",
       "      <td>14</td>\n",
       "    </tr>\n",
       "    <tr>\n",
       "      <th>1233</th>\n",
       "      <td>B074NYJL9J</td>\n",
       "      <td>8</td>\n",
       "      <td>2021</td>\n",
       "      <td>15</td>\n",
       "    </tr>\n",
       "    <tr>\n",
       "      <th>1234</th>\n",
       "      <td>B074NYJL9J</td>\n",
       "      <td>8</td>\n",
       "      <td>2021</td>\n",
       "      <td>16</td>\n",
       "    </tr>\n",
       "    <tr>\n",
       "      <th>1235</th>\n",
       "      <td>B074NYJL9J</td>\n",
       "      <td>8</td>\n",
       "      <td>2021</td>\n",
       "      <td>17</td>\n",
       "    </tr>\n",
       "    <tr>\n",
       "      <th>1236</th>\n",
       "      <td>B074NYJL9J</td>\n",
       "      <td>8</td>\n",
       "      <td>2021</td>\n",
       "      <td>18</td>\n",
       "    </tr>\n",
       "    <tr>\n",
       "      <th>1237</th>\n",
       "      <td>B074NYJL9J</td>\n",
       "      <td>8</td>\n",
       "      <td>2021</td>\n",
       "      <td>19</td>\n",
       "    </tr>\n",
       "    <tr>\n",
       "      <th>1238</th>\n",
       "      <td>B074NYJL9J</td>\n",
       "      <td>8</td>\n",
       "      <td>2021</td>\n",
       "      <td>20</td>\n",
       "    </tr>\n",
       "    <tr>\n",
       "      <th>1239</th>\n",
       "      <td>B074NYJL9J</td>\n",
       "      <td>8</td>\n",
       "      <td>2021</td>\n",
       "      <td>21</td>\n",
       "    </tr>\n",
       "    <tr>\n",
       "      <th>1240</th>\n",
       "      <td>B074NYJL9J</td>\n",
       "      <td>8</td>\n",
       "      <td>2021</td>\n",
       "      <td>22</td>\n",
       "    </tr>\n",
       "  </tbody>\n",
       "</table>\n",
       "</div>"
      ],
      "text/plain": [
       "            asin  month  year  day\n",
       "1210  B074NYJL9J      7  2021   23\n",
       "1211  B074NYJL9J      7  2021   24\n",
       "1212  B074NYJL9J      7  2021   25\n",
       "1213  B074NYJL9J      7  2021   26\n",
       "1214  B074NYJL9J      7  2021   27\n",
       "1215  B074NYJL9J      7  2021   28\n",
       "1216  B074NYJL9J      7  2021   29\n",
       "1217  B074NYJL9J      7  2021   30\n",
       "1218  B074NYJL9J      7  2021   31\n",
       "1219  B074NYJL9J      8  2021    1\n",
       "1220  B074NYJL9J      8  2021    2\n",
       "1221  B074NYJL9J      8  2021    3\n",
       "1222  B074NYJL9J      8  2021    4\n",
       "1223  B074NYJL9J      8  2021    5\n",
       "1224  B074NYJL9J      8  2021    6\n",
       "1225  B074NYJL9J      8  2021    7\n",
       "1226  B074NYJL9J      8  2021    8\n",
       "1227  B074NYJL9J      8  2021    9\n",
       "1228  B074NYJL9J      8  2021   10\n",
       "1229  B074NYJL9J      8  2021   11\n",
       "1230  B074NYJL9J      8  2021   12\n",
       "1231  B074NYJL9J      8  2021   13\n",
       "1232  B074NYJL9J      8  2021   14\n",
       "1233  B074NYJL9J      8  2021   15\n",
       "1234  B074NYJL9J      8  2021   16\n",
       "1235  B074NYJL9J      8  2021   17\n",
       "1236  B074NYJL9J      8  2021   18\n",
       "1237  B074NYJL9J      8  2021   19\n",
       "1238  B074NYJL9J      8  2021   20\n",
       "1239  B074NYJL9J      8  2021   21\n",
       "1240  B074NYJL9J      8  2021   22"
      ]
     },
     "execution_count": 433,
     "metadata": {},
     "output_type": "execute_result"
    }
   ],
   "source": [
    "x_valid"
   ]
  },
  {
   "cell_type": "code",
   "execution_count": 435,
   "id": "e04bed3e-67e0-4711-9621-99b02d744b49",
   "metadata": {},
   "outputs": [],
   "source": [
    "x_train = encoder.transform(x_train)\n",
    "x_valid = encoder.transform(x_valid)"
   ]
  },
  {
   "cell_type": "code",
   "execution_count": 436,
   "id": "06b7a2e6-e154-4e23-9875-7f10fd97639e",
   "metadata": {},
   "outputs": [],
   "source": [
    "xgbr = XGBRegressor()"
   ]
  },
  {
   "cell_type": "code",
   "execution_count": 437,
   "id": "e49220f0-383d-4f36-9a35-1dbcf0fc259b",
   "metadata": {},
   "outputs": [
    {
     "data": {
      "text/plain": [
       "XGBRegressor(base_score=0.5, booster='gbtree', colsample_bylevel=1,\n",
       "             colsample_bynode=1, colsample_bytree=1, gamma=0, gpu_id=-1,\n",
       "             importance_type='gain', interaction_constraints='',\n",
       "             learning_rate=0.300000012, max_delta_step=0, max_depth=6,\n",
       "             min_child_weight=1, missing=nan, monotone_constraints='()',\n",
       "             n_estimators=100, n_jobs=8, num_parallel_tree=1, random_state=0,\n",
       "             reg_alpha=0, reg_lambda=1, scale_pos_weight=1, subsample=1,\n",
       "             tree_method='exact', validate_parameters=1, verbosity=None)"
      ]
     },
     "execution_count": 437,
     "metadata": {},
     "output_type": "execute_result"
    }
   ],
   "source": [
    "xgbr.fit(x_train, y_train)"
   ]
  },
  {
   "cell_type": "code",
   "execution_count": 439,
   "id": "be7e82ef-56ea-4141-8c28-e76cd9a2af1c",
   "metadata": {},
   "outputs": [
    {
     "data": {
      "text/plain": [
       "(31, 109)"
      ]
     },
     "execution_count": 439,
     "metadata": {},
     "output_type": "execute_result"
    }
   ],
   "source": [
    "x_valid.shape"
   ]
  },
  {
   "cell_type": "code",
   "execution_count": 440,
   "id": "abef9628-e4f0-4b78-9743-25f79d25569e",
   "metadata": {
    "tags": []
   },
   "outputs": [
    {
     "data": {
      "text/plain": [
       "(31,)"
      ]
     },
     "execution_count": 440,
     "metadata": {},
     "output_type": "execute_result"
    }
   ],
   "source": [
    "y_valid.shape"
   ]
  },
  {
   "cell_type": "code",
   "execution_count": 441,
   "id": "d93e213f-2cd0-4c89-a18d-3f3bc4fa9d77",
   "metadata": {
    "tags": []
   },
   "outputs": [],
   "source": [
    "y_pred = xgbr.predict(x_valid)"
   ]
  },
  {
   "cell_type": "code",
   "execution_count": 442,
   "id": "c4647a78-a025-44a3-b3cf-deb2a239186d",
   "metadata": {},
   "outputs": [
    {
     "data": {
      "text/plain": [
       "112.30428810651584"
      ]
     },
     "execution_count": 442,
     "metadata": {},
     "output_type": "execute_result"
    }
   ],
   "source": [
    "mean_squared_error(y_valid, y_pred)"
   ]
  },
  {
   "cell_type": "code",
   "execution_count": 367,
   "id": "f32b4493-69f7-49de-a67e-e7550abed27b",
   "metadata": {},
   "outputs": [],
   "source": [
    "y_true = o.ordered_units"
   ]
  },
  {
   "cell_type": "code",
   "execution_count": 368,
   "id": "8c235e62-b013-47ae-a2ab-b8dd5384884e",
   "metadata": {},
   "outputs": [
    {
     "data": {
      "text/html": [
       "<div>\n",
       "<style scoped>\n",
       "    .dataframe tbody tr th:only-of-type {\n",
       "        vertical-align: middle;\n",
       "    }\n",
       "\n",
       "    .dataframe tbody tr th {\n",
       "        vertical-align: top;\n",
       "    }\n",
       "\n",
       "    .dataframe thead th {\n",
       "        text-align: right;\n",
       "    }\n",
       "</style>\n",
       "<table border=\"1\" class=\"dataframe\">\n",
       "  <thead>\n",
       "    <tr style=\"text-align: right;\">\n",
       "      <th></th>\n",
       "      <th>asin</th>\n",
       "      <th>month</th>\n",
       "      <th>year</th>\n",
       "      <th>day</th>\n",
       "    </tr>\n",
       "  </thead>\n",
       "  <tbody>\n",
       "    <tr>\n",
       "      <th>0</th>\n",
       "      <td>B071D7BTTW</td>\n",
       "      <td>12</td>\n",
       "      <td>2019</td>\n",
       "      <td>2</td>\n",
       "    </tr>\n",
       "    <tr>\n",
       "      <th>1</th>\n",
       "      <td>B071D7BTTW</td>\n",
       "      <td>12</td>\n",
       "      <td>2019</td>\n",
       "      <td>3</td>\n",
       "    </tr>\n",
       "    <tr>\n",
       "      <th>2</th>\n",
       "      <td>B071D7BTTW</td>\n",
       "      <td>12</td>\n",
       "      <td>2019</td>\n",
       "      <td>4</td>\n",
       "    </tr>\n",
       "    <tr>\n",
       "      <th>3</th>\n",
       "      <td>B071D7BTTW</td>\n",
       "      <td>12</td>\n",
       "      <td>2019</td>\n",
       "      <td>5</td>\n",
       "    </tr>\n",
       "    <tr>\n",
       "      <th>4</th>\n",
       "      <td>B071D7BTTW</td>\n",
       "      <td>12</td>\n",
       "      <td>2019</td>\n",
       "      <td>6</td>\n",
       "    </tr>\n",
       "    <tr>\n",
       "      <th>...</th>\n",
       "      <td>...</td>\n",
       "      <td>...</td>\n",
       "      <td>...</td>\n",
       "      <td>...</td>\n",
       "    </tr>\n",
       "    <tr>\n",
       "      <th>610</th>\n",
       "      <td>B071D7BTTW</td>\n",
       "      <td>8</td>\n",
       "      <td>2021</td>\n",
       "      <td>17</td>\n",
       "    </tr>\n",
       "    <tr>\n",
       "      <th>611</th>\n",
       "      <td>B071D7BTTW</td>\n",
       "      <td>8</td>\n",
       "      <td>2021</td>\n",
       "      <td>18</td>\n",
       "    </tr>\n",
       "    <tr>\n",
       "      <th>612</th>\n",
       "      <td>B071D7BTTW</td>\n",
       "      <td>8</td>\n",
       "      <td>2021</td>\n",
       "      <td>19</td>\n",
       "    </tr>\n",
       "    <tr>\n",
       "      <th>613</th>\n",
       "      <td>B071D7BTTW</td>\n",
       "      <td>8</td>\n",
       "      <td>2021</td>\n",
       "      <td>20</td>\n",
       "    </tr>\n",
       "    <tr>\n",
       "      <th>614</th>\n",
       "      <td>B071D7BTTW</td>\n",
       "      <td>8</td>\n",
       "      <td>2021</td>\n",
       "      <td>21</td>\n",
       "    </tr>\n",
       "  </tbody>\n",
       "</table>\n",
       "<p>615 rows × 4 columns</p>\n",
       "</div>"
      ],
      "text/plain": [
       "           asin  month  year  day\n",
       "0    B071D7BTTW     12  2019    2\n",
       "1    B071D7BTTW     12  2019    3\n",
       "2    B071D7BTTW     12  2019    4\n",
       "3    B071D7BTTW     12  2019    5\n",
       "4    B071D7BTTW     12  2019    6\n",
       "..          ...    ...   ...  ...\n",
       "610  B071D7BTTW      8  2021   17\n",
       "611  B071D7BTTW      8  2021   18\n",
       "612  B071D7BTTW      8  2021   19\n",
       "613  B071D7BTTW      8  2021   20\n",
       "614  B071D7BTTW      8  2021   21\n",
       "\n",
       "[615 rows x 4 columns]"
      ]
     },
     "execution_count": 368,
     "metadata": {},
     "output_type": "execute_result"
    }
   ],
   "source": [
    "m = pd.DataFrame({'date': o.data_date, 'asin': asin})\n",
    "m['month'] = m.date.dt.month\n",
    "m['year'] = m.date.dt.year\n",
    "m['day'] = m.date.dt.day\n",
    "m1 = m.drop('date', axis=1)\n",
    "m1"
   ]
  },
  {
   "cell_type": "code",
   "execution_count": 369,
   "id": "a8743cfc-eba4-4c53-b970-aae6d7a14800",
   "metadata": {},
   "outputs": [],
   "source": [
    "xx = encoder.transform(m1)"
   ]
  },
  {
   "cell_type": "code",
   "execution_count": null,
   "id": "8aaeed23-fe0b-4cca-875d-c77df1f1d7de",
   "metadata": {},
   "outputs": [],
   "source": [
    "xgr = XGBRegressor(n_estimators=1400)\n",
    "xgr.fit(data, y)"
   ]
  },
  {
   "cell_type": "code",
   "execution_count": 370,
   "id": "30234bc9-3c8f-4524-9e7c-cd3bd97bfff0",
   "metadata": {},
   "outputs": [
    {
     "data": {
      "text/plain": [
       "36.93794208200629"
      ]
     },
     "execution_count": 370,
     "metadata": {},
     "output_type": "execute_result"
    }
   ],
   "source": [
    "y_pred = xgr.predict(xx)\n",
    "mean_squared_error(y_true, y_pred)"
   ]
  },
  {
   "cell_type": "code",
   "execution_count": 371,
   "id": "80712b67-255a-409a-bb9d-256c259f1bd0",
   "metadata": {
    "tags": []
   },
   "outputs": [
    {
     "data": {
      "text/plain": [
       "[<matplotlib.lines.Line2D at 0x14b39e60320>]"
      ]
     },
     "execution_count": 371,
     "metadata": {},
     "output_type": "execute_result"
    },
    {
     "data": {
      "image/png": "[encoded data removed]",
      "text/plain": [
       "<Figure size 1080x576 with 1 Axes>"
      ]
     },
     "metadata": {
      "needs_background": "light"
     },
     "output_type": "display_data"
    }
   ],
   "source": [
    "plt.figure(figsize=(15, 8))\n",
    "plt.plot(o.data_date, y_true)\n",
    "plt.plot(o.data_date, y_pred)"
   ]
  },
  {
   "cell_type": "markdown",
   "id": "67aa16e5-d2cb-49dd-9a73-29115298f690",
   "metadata": {},
   "source": [
    "某些型号某些天可能没有数据"
   ]
  },
  {
   "cell_type": "code",
   "execution_count": 263,
   "id": "0b36dc2e-eb05-4a07-a155-6e983e4bcf0a",
   "metadata": {},
   "outputs": [
    {
     "data": {
      "image/png": "[encoded data removed]",
      "text/plain": [
       "<Figure size 432x288 with 1 Axes>"
      ]
     },
     "metadata": {
      "needs_background": "light"
     },
     "output_type": "display_data"
    }
   ],
   "source": [
    "y_pred = predict(asin, encoder, start_time, end_time)"
   ]
  },
  {
   "cell_type": "code",
   "execution_count": 134,
   "id": "90c71640-f504-457a-85ea-45e7e0a0adfd",
   "metadata": {},
   "outputs": [],
   "source": [
    "def true_plot(asin):\n",
    "    a = group.groupby('asin').get_group(asin)\n",
    "    plt.xticks(rotation=90)\n",
    "    plt.plot(a['data_date'], a['ordered_units'], c='b')"
   ]
  },
  {
   "cell_type": "code",
   "execution_count": 137,
   "id": "0cb45abe-ad98-4af2-8f76-83b8be286f74",
   "metadata": {},
   "outputs": [
    {
     "data": {
      "image/png": "[encoded data removed]",
      "text/plain": [
       "<Figure size 432x288 with 1 Axes>"
      ]
     },
     "metadata": {
      "needs_background": "light"
     },
     "output_type": "display_data"
    }
   ],
   "source": [
    "true_plot('B076DZJSHL')"
   ]
  },
  {
   "cell_type": "code",
   "execution_count": 183,
   "id": "59c10e4b-ed90-4ed3-8b56-de494173e4f3",
   "metadata": {},
   "outputs": [
    {
     "data": {
      "image/png": "[encoded data removed]",
      "text/plain": [
       "<Figure size 720x360 with 1 Axes>"
      ]
     },
     "metadata": {
      "needs_background": "light"
     },
     "output_type": "display_data"
    }
   ],
   "source": [
    "index = 9\n",
    "plt.figure(figsize=(10,5))\n",
    "predict(group.asin.unique()[index], encoder, '2019-12-09', '2021-12-30')\n",
    "true_plot(group.asin.unique()[index])"
   ]
  },
  {
   "cell_type": "code",
   "execution_count": 103,
   "id": "e13ffd2b-4098-4703-b1da-c3834bd0877e",
   "metadata": {},
   "outputs": [],
   "source": [
    "date_range = pd.date_range(start_time, end_time)"
   ]
  },
  {
   "cell_type": "code",
   "execution_count": 104,
   "id": "e2d3e945-da0a-43f3-a326-d4515baa75b3",
   "metadata": {},
   "outputs": [],
   "source": [
    "c = pd.DataFrame({'date':date_range, 'asin': asin})"
   ]
  },
  {
   "cell_type": "code",
   "execution_count": 105,
   "id": "42d511ca-98e0-49b3-a37a-5aa1fffb8e63",
   "metadata": {},
   "outputs": [],
   "source": [
    "# c['week'] = c.date.dt.week\n",
    "c['month'] = c.date.dt.month\n",
    "c['year'] = c.date.dt.year\n",
    "c['day'] = c.date.dt.day"
   ]
  },
  {
   "cell_type": "code",
   "execution_count": 106,
   "id": "66fe26f1-d3a0-4ff6-a817-c9e5af12b933",
   "metadata": {},
   "outputs": [
    {
     "data": {
      "text/html": [
       "<div>\n",
       "<style scoped>\n",
       "    .dataframe tbody tr th:only-of-type {\n",
       "        vertical-align: middle;\n",
       "    }\n",
       "\n",
       "    .dataframe tbody tr th {\n",
       "        vertical-align: top;\n",
       "    }\n",
       "\n",
       "    .dataframe thead th {\n",
       "        text-align: right;\n",
       "    }\n",
       "</style>\n",
       "<table border=\"1\" class=\"dataframe\">\n",
       "  <thead>\n",
       "    <tr style=\"text-align: right;\">\n",
       "      <th></th>\n",
       "      <th>date</th>\n",
       "      <th>asin</th>\n",
       "      <th>month</th>\n",
       "      <th>year</th>\n",
       "      <th>day</th>\n",
       "    </tr>\n",
       "  </thead>\n",
       "  <tbody>\n",
       "    <tr>\n",
       "      <th>0</th>\n",
       "      <td>2019-12-01</td>\n",
       "      <td>B074NYJL9J</td>\n",
       "      <td>12</td>\n",
       "      <td>2019</td>\n",
       "      <td>1</td>\n",
       "    </tr>\n",
       "    <tr>\n",
       "      <th>1</th>\n",
       "      <td>2019-12-02</td>\n",
       "      <td>B074NYJL9J</td>\n",
       "      <td>12</td>\n",
       "      <td>2019</td>\n",
       "      <td>2</td>\n",
       "    </tr>\n",
       "    <tr>\n",
       "      <th>2</th>\n",
       "      <td>2019-12-03</td>\n",
       "      <td>B074NYJL9J</td>\n",
       "      <td>12</td>\n",
       "      <td>2019</td>\n",
       "      <td>3</td>\n",
       "    </tr>\n",
       "    <tr>\n",
       "      <th>3</th>\n",
       "      <td>2019-12-04</td>\n",
       "      <td>B074NYJL9J</td>\n",
       "      <td>12</td>\n",
       "      <td>2019</td>\n",
       "      <td>4</td>\n",
       "    </tr>\n",
       "    <tr>\n",
       "      <th>4</th>\n",
       "      <td>2019-12-05</td>\n",
       "      <td>B074NYJL9J</td>\n",
       "      <td>12</td>\n",
       "      <td>2019</td>\n",
       "      <td>5</td>\n",
       "    </tr>\n",
       "  </tbody>\n",
       "</table>\n",
       "</div>"
      ],
      "text/plain": [
       "        date        asin  month  year  day\n",
       "0 2019-12-01  B074NYJL9J     12  2019    1\n",
       "1 2019-12-02  B074NYJL9J     12  2019    2\n",
       "2 2019-12-03  B074NYJL9J     12  2019    3\n",
       "3 2019-12-04  B074NYJL9J     12  2019    4\n",
       "4 2019-12-05  B074NYJL9J     12  2019    5"
      ]
     },
     "execution_count": 106,
     "metadata": {},
     "output_type": "execute_result"
    }
   ],
   "source": [
    "c.head()"
   ]
  }
 ],
 "metadata": {
  "kernelspec": {
   "display_name": "Python 3",
   "language": "python",
   "name": "python3"
  },
  "language_info": {
   "codemirror_mode": {
    "name": "ipython",
    "version": 3
   },
   "file_extension": ".py",
   "mimetype": "text/x-python",
   "name": "python",
   "nbconvert_exporter": "python",
   "pygments_lexer": "ipython3",
   "version": "3.7.0"
  },
  "toc-autonumbering": false
 },
 "nbformat": 4,
 "nbformat_minor": 5
}
