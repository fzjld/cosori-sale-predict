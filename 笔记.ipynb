{
 "cells": [
  {
   "cell_type": "code",
   "execution_count": 1,
   "id": "b5187273-7a9a-4895-8d3f-d365ad394e1e",
   "metadata": {},
   "outputs": [],
   "source": [
    "import pandas as pd\n",
    "import seaborn as sns\n",
    "import numpy as np"
   ]
  },
  {
   "cell_type": "markdown",
   "id": "e723a869-d4f2-4f4b-a3ef-c140ce52f234",
   "metadata": {},
   "source": [
    "#### pivot_table\n",
    "透视表就是和groupby差不多的功能"
   ]
  },
  {
   "cell_type": "code",
   "execution_count": 4,
   "id": "bbe55397-938c-412b-b8f1-f1c8318df87f",
   "metadata": {},
   "outputs": [],
   "source": [
    "tip = sns.load_dataset('tips')"
   ]
  },
  {
   "cell_type": "code",
   "execution_count": 5,
   "id": "017edc92-a671-47dc-9604-748becc04b17",
   "metadata": {},
   "outputs": [
    {
     "data": {
      "text/html": [
       "<div>\n",
       "<style scoped>\n",
       "    .dataframe tbody tr th:only-of-type {\n",
       "        vertical-align: middle;\n",
       "    }\n",
       "\n",
       "    .dataframe tbody tr th {\n",
       "        vertical-align: top;\n",
       "    }\n",
       "\n",
       "    .dataframe thead th {\n",
       "        text-align: right;\n",
       "    }\n",
       "</style>\n",
       "<table border=\"1\" class=\"dataframe\">\n",
       "  <thead>\n",
       "    <tr style=\"text-align: right;\">\n",
       "      <th></th>\n",
       "      <th>total_bill</th>\n",
       "      <th>tip</th>\n",
       "      <th>sex</th>\n",
       "      <th>smoker</th>\n",
       "      <th>day</th>\n",
       "      <th>time</th>\n",
       "      <th>size</th>\n",
       "    </tr>\n",
       "  </thead>\n",
       "  <tbody>\n",
       "    <tr>\n",
       "      <th>0</th>\n",
       "      <td>16.99</td>\n",
       "      <td>1.01</td>\n",
       "      <td>Female</td>\n",
       "      <td>No</td>\n",
       "      <td>Sun</td>\n",
       "      <td>Dinner</td>\n",
       "      <td>2</td>\n",
       "    </tr>\n",
       "    <tr>\n",
       "      <th>1</th>\n",
       "      <td>10.34</td>\n",
       "      <td>1.66</td>\n",
       "      <td>Male</td>\n",
       "      <td>No</td>\n",
       "      <td>Sun</td>\n",
       "      <td>Dinner</td>\n",
       "      <td>3</td>\n",
       "    </tr>\n",
       "    <tr>\n",
       "      <th>2</th>\n",
       "      <td>21.01</td>\n",
       "      <td>3.50</td>\n",
       "      <td>Male</td>\n",
       "      <td>No</td>\n",
       "      <td>Sun</td>\n",
       "      <td>Dinner</td>\n",
       "      <td>3</td>\n",
       "    </tr>\n",
       "    <tr>\n",
       "      <th>3</th>\n",
       "      <td>23.68</td>\n",
       "      <td>3.31</td>\n",
       "      <td>Male</td>\n",
       "      <td>No</td>\n",
       "      <td>Sun</td>\n",
       "      <td>Dinner</td>\n",
       "      <td>2</td>\n",
       "    </tr>\n",
       "    <tr>\n",
       "      <th>4</th>\n",
       "      <td>24.59</td>\n",
       "      <td>3.61</td>\n",
       "      <td>Female</td>\n",
       "      <td>No</td>\n",
       "      <td>Sun</td>\n",
       "      <td>Dinner</td>\n",
       "      <td>4</td>\n",
       "    </tr>\n",
       "    <tr>\n",
       "      <th>...</th>\n",
       "      <td>...</td>\n",
       "      <td>...</td>\n",
       "      <td>...</td>\n",
       "      <td>...</td>\n",
       "      <td>...</td>\n",
       "      <td>...</td>\n",
       "      <td>...</td>\n",
       "    </tr>\n",
       "    <tr>\n",
       "      <th>239</th>\n",
       "      <td>29.03</td>\n",
       "      <td>5.92</td>\n",
       "      <td>Male</td>\n",
       "      <td>No</td>\n",
       "      <td>Sat</td>\n",
       "      <td>Dinner</td>\n",
       "      <td>3</td>\n",
       "    </tr>\n",
       "    <tr>\n",
       "      <th>240</th>\n",
       "      <td>27.18</td>\n",
       "      <td>2.00</td>\n",
       "      <td>Female</td>\n",
       "      <td>Yes</td>\n",
       "      <td>Sat</td>\n",
       "      <td>Dinner</td>\n",
       "      <td>2</td>\n",
       "    </tr>\n",
       "    <tr>\n",
       "      <th>241</th>\n",
       "      <td>22.67</td>\n",
       "      <td>2.00</td>\n",
       "      <td>Male</td>\n",
       "      <td>Yes</td>\n",
       "      <td>Sat</td>\n",
       "      <td>Dinner</td>\n",
       "      <td>2</td>\n",
       "    </tr>\n",
       "    <tr>\n",
       "      <th>242</th>\n",
       "      <td>17.82</td>\n",
       "      <td>1.75</td>\n",
       "      <td>Male</td>\n",
       "      <td>No</td>\n",
       "      <td>Sat</td>\n",
       "      <td>Dinner</td>\n",
       "      <td>2</td>\n",
       "    </tr>\n",
       "    <tr>\n",
       "      <th>243</th>\n",
       "      <td>18.78</td>\n",
       "      <td>3.00</td>\n",
       "      <td>Female</td>\n",
       "      <td>No</td>\n",
       "      <td>Thur</td>\n",
       "      <td>Dinner</td>\n",
       "      <td>2</td>\n",
       "    </tr>\n",
       "  </tbody>\n",
       "</table>\n",
       "<p>244 rows × 7 columns</p>\n",
       "</div>"
      ],
      "text/plain": [
       "     total_bill   tip     sex smoker   day    time  size\n",
       "0         16.99  1.01  Female     No   Sun  Dinner     2\n",
       "1         10.34  1.66    Male     No   Sun  Dinner     3\n",
       "2         21.01  3.50    Male     No   Sun  Dinner     3\n",
       "3         23.68  3.31    Male     No   Sun  Dinner     2\n",
       "4         24.59  3.61  Female     No   Sun  Dinner     4\n",
       "..          ...   ...     ...    ...   ...     ...   ...\n",
       "239       29.03  5.92    Male     No   Sat  Dinner     3\n",
       "240       27.18  2.00  Female    Yes   Sat  Dinner     2\n",
       "241       22.67  2.00    Male    Yes   Sat  Dinner     2\n",
       "242       17.82  1.75    Male     No   Sat  Dinner     2\n",
       "243       18.78  3.00  Female     No  Thur  Dinner     2\n",
       "\n",
       "[244 rows x 7 columns]"
      ]
     },
     "execution_count": 5,
     "metadata": {},
     "output_type": "execute_result"
    }
   ],
   "source": [
    "tip"
   ]
  },
  {
   "cell_type": "markdown",
   "id": "6deb9feb-4e88-42f0-a3f0-e786f47503a6",
   "metadata": {},
   "source": [
    "- index表示分类的种类\n",
    "- value表示需要选取的属性\n",
    "- aggfunc表示对分组内的数值的操作"
   ]
  },
  {
   "cell_type": "code",
   "execution_count": 13,
   "id": "1cca6ac1-f67b-4b2f-9306-3535eea2b6bb",
   "metadata": {},
   "outputs": [
    {
     "data": {
      "text/html": [
       "<div>\n",
       "<style scoped>\n",
       "    .dataframe tbody tr th:only-of-type {\n",
       "        vertical-align: middle;\n",
       "    }\n",
       "\n",
       "    .dataframe tbody tr th {\n",
       "        vertical-align: top;\n",
       "    }\n",
       "\n",
       "    .dataframe thead tr th {\n",
       "        text-align: left;\n",
       "    }\n",
       "\n",
       "    .dataframe thead tr:last-of-type th {\n",
       "        text-align: right;\n",
       "    }\n",
       "</style>\n",
       "<table border=\"1\" class=\"dataframe\">\n",
       "  <thead>\n",
       "    <tr>\n",
       "      <th></th>\n",
       "      <th>amax</th>\n",
       "    </tr>\n",
       "    <tr>\n",
       "      <th></th>\n",
       "      <th>size</th>\n",
       "    </tr>\n",
       "    <tr>\n",
       "      <th>sex</th>\n",
       "      <th></th>\n",
       "    </tr>\n",
       "  </thead>\n",
       "  <tbody>\n",
       "    <tr>\n",
       "      <th>Male</th>\n",
       "      <td>6</td>\n",
       "    </tr>\n",
       "    <tr>\n",
       "      <th>Female</th>\n",
       "      <td>6</td>\n",
       "    </tr>\n",
       "  </tbody>\n",
       "</table>\n",
       "</div>"
      ],
      "text/plain": [
       "       amax\n",
       "       size\n",
       "sex        \n",
       "Male      6\n",
       "Female    6"
      ]
     },
     "execution_count": 13,
     "metadata": {},
     "output_type": "execute_result"
    }
   ],
   "source": [
    "pd.pivot_table(tip, index=['sex'], values=['size'], aggfunc=[np.max])"
   ]
  },
  {
   "cell_type": "markdown",
   "id": "37378c9c-66eb-448b-8ba2-2a3c6c2a5d27",
   "metadata": {},
   "source": [
    "#### pd.merge"
   ]
  },
  {
   "cell_type": "code",
   "execution_count": 14,
   "id": "1a29de07-7cbc-4a1f-973a-9831a4ab04dc",
   "metadata": {},
   "outputs": [
    {
     "data": {
      "text/plain": [
       "0.9402859586706311"
      ]
     },
     "execution_count": 14,
     "metadata": {},
     "output_type": "execute_result"
    }
   ],
   "source": [
    "def entropy(class1, class2):\n",
    "    p1 = (class1/(class1+class2))\n",
    "    p2 = (class2/(class1+class2))\n",
    "    return -(p1*np.log2(p1) + p2*np.log2(p2))\n",
    "\n",
    "\n",
    "np.log2(10)\n",
    "\n",
    "entropy(5, 9)"
   ]
  },
  {
   "cell_type": "code",
   "execution_count": 15,
   "id": "66a7bf46-2a64-4b44-b506-20dad5651718",
   "metadata": {},
   "outputs": [
    {
     "data": {
      "text/html": [
       "<div>\n",
       "<style scoped>\n",
       "    .dataframe tbody tr th:only-of-type {\n",
       "        vertical-align: middle;\n",
       "    }\n",
       "\n",
       "    .dataframe tbody tr th {\n",
       "        vertical-align: top;\n",
       "    }\n",
       "\n",
       "    .dataframe thead th {\n",
       "        text-align: right;\n",
       "    }\n",
       "</style>\n",
       "<table border=\"1\" class=\"dataframe\">\n",
       "  <thead>\n",
       "    <tr style=\"text-align: right;\">\n",
       "      <th></th>\n",
       "      <th>A</th>\n",
       "      <th>B</th>\n",
       "    </tr>\n",
       "  </thead>\n",
       "  <tbody>\n",
       "    <tr>\n",
       "      <th>0</th>\n",
       "      <td>0.450073</td>\n",
       "      <td>0.677415</td>\n",
       "    </tr>\n",
       "    <tr>\n",
       "      <th>1</th>\n",
       "      <td>0.223363</td>\n",
       "      <td>0.732161</td>\n",
       "    </tr>\n",
       "    <tr>\n",
       "      <th>2</th>\n",
       "      <td>0.826118</td>\n",
       "      <td>0.211952</td>\n",
       "    </tr>\n",
       "    <tr>\n",
       "      <th>3</th>\n",
       "      <td>0.867871</td>\n",
       "      <td>0.718140</td>\n",
       "    </tr>\n",
       "    <tr>\n",
       "      <th>4</th>\n",
       "      <td>0.312154</td>\n",
       "      <td>0.273487</td>\n",
       "    </tr>\n",
       "    <tr>\n",
       "      <th>5</th>\n",
       "      <td>0.262970</td>\n",
       "      <td>0.700996</td>\n",
       "    </tr>\n",
       "    <tr>\n",
       "      <th>6</th>\n",
       "      <td>0.047599</td>\n",
       "      <td>0.306127</td>\n",
       "    </tr>\n",
       "    <tr>\n",
       "      <th>7</th>\n",
       "      <td>0.042794</td>\n",
       "      <td>0.251824</td>\n",
       "    </tr>\n",
       "    <tr>\n",
       "      <th>8</th>\n",
       "      <td>0.120769</td>\n",
       "      <td>0.210285</td>\n",
       "    </tr>\n",
       "    <tr>\n",
       "      <th>9</th>\n",
       "      <td>0.446166</td>\n",
       "      <td>0.654446</td>\n",
       "    </tr>\n",
       "  </tbody>\n",
       "</table>\n",
       "</div>"
      ],
      "text/plain": [
       "          A         B\n",
       "0  0.450073  0.677415\n",
       "1  0.223363  0.732161\n",
       "2  0.826118  0.211952\n",
       "3  0.867871  0.718140\n",
       "4  0.312154  0.273487\n",
       "5  0.262970  0.700996\n",
       "6  0.047599  0.306127\n",
       "7  0.042794  0.251824\n",
       "8  0.120769  0.210285\n",
       "9  0.446166  0.654446"
      ]
     },
     "execution_count": 15,
     "metadata": {},
     "output_type": "execute_result"
    }
   ],
   "source": [
    "df1 = pd.DataFrame(np.random.random(20).reshape((10, 2)), columns=list('AB'))\n",
    "df1"
   ]
  },
  {
   "cell_type": "code",
   "execution_count": 20,
   "id": "e4c61ee4-78c0-4927-8dbd-5a80a7d23cff",
   "metadata": {},
   "outputs": [
    {
     "name": "stderr",
     "output_type": "stream",
     "text": [
      "E:\\anaconda\\lib\\site-packages\\pandas\\core\\generic.py:5507: SettingWithCopyWarning: \n",
      "A value is trying to be set on a copy of a slice from a DataFrame.\n",
      "Try using .loc[row_indexer,col_indexer] = value instead\n",
      "\n",
      "See the caveats in the documentation: https://pandas.pydata.org/pandas-docs/stable/user_guide/indexing.html#returning-a-view-versus-a-copy\n",
      "  self[name] = value\n"
     ]
    }
   ],
   "source": [
    "df1[df1['A'] < 0.5].B = 1"
   ]
  },
  {
   "cell_type": "code",
   "execution_count": 21,
   "id": "c5e413e9-da21-4181-8d00-e2c7dab26d58",
   "metadata": {},
   "outputs": [
    {
     "data": {
      "text/html": [
       "<div>\n",
       "<style scoped>\n",
       "    .dataframe tbody tr th:only-of-type {\n",
       "        vertical-align: middle;\n",
       "    }\n",
       "\n",
       "    .dataframe tbody tr th {\n",
       "        vertical-align: top;\n",
       "    }\n",
       "\n",
       "    .dataframe thead th {\n",
       "        text-align: right;\n",
       "    }\n",
       "</style>\n",
       "<table border=\"1\" class=\"dataframe\">\n",
       "  <thead>\n",
       "    <tr style=\"text-align: right;\">\n",
       "      <th></th>\n",
       "      <th>A</th>\n",
       "      <th>B</th>\n",
       "    </tr>\n",
       "  </thead>\n",
       "  <tbody>\n",
       "    <tr>\n",
       "      <th>0</th>\n",
       "      <td>0.450073</td>\n",
       "      <td>0.677415</td>\n",
       "    </tr>\n",
       "    <tr>\n",
       "      <th>1</th>\n",
       "      <td>0.223363</td>\n",
       "      <td>0.732161</td>\n",
       "    </tr>\n",
       "    <tr>\n",
       "      <th>2</th>\n",
       "      <td>0.826118</td>\n",
       "      <td>0.211952</td>\n",
       "    </tr>\n",
       "    <tr>\n",
       "      <th>3</th>\n",
       "      <td>0.867871</td>\n",
       "      <td>0.718140</td>\n",
       "    </tr>\n",
       "    <tr>\n",
       "      <th>4</th>\n",
       "      <td>0.312154</td>\n",
       "      <td>0.273487</td>\n",
       "    </tr>\n",
       "    <tr>\n",
       "      <th>5</th>\n",
       "      <td>0.262970</td>\n",
       "      <td>0.700996</td>\n",
       "    </tr>\n",
       "    <tr>\n",
       "      <th>6</th>\n",
       "      <td>0.047599</td>\n",
       "      <td>0.306127</td>\n",
       "    </tr>\n",
       "    <tr>\n",
       "      <th>7</th>\n",
       "      <td>0.042794</td>\n",
       "      <td>0.251824</td>\n",
       "    </tr>\n",
       "    <tr>\n",
       "      <th>8</th>\n",
       "      <td>0.120769</td>\n",
       "      <td>0.210285</td>\n",
       "    </tr>\n",
       "    <tr>\n",
       "      <th>9</th>\n",
       "      <td>0.446166</td>\n",
       "      <td>0.654446</td>\n",
       "    </tr>\n",
       "  </tbody>\n",
       "</table>\n",
       "</div>"
      ],
      "text/plain": [
       "          A         B\n",
       "0  0.450073  0.677415\n",
       "1  0.223363  0.732161\n",
       "2  0.826118  0.211952\n",
       "3  0.867871  0.718140\n",
       "4  0.312154  0.273487\n",
       "5  0.262970  0.700996\n",
       "6  0.047599  0.306127\n",
       "7  0.042794  0.251824\n",
       "8  0.120769  0.210285\n",
       "9  0.446166  0.654446"
      ]
     },
     "execution_count": 21,
     "metadata": {},
     "output_type": "execute_result"
    }
   ],
   "source": [
    "df1"
   ]
  },
  {
   "cell_type": "code",
   "execution_count": 22,
   "id": "aa24b642-c526-4f71-90aa-97ab3cca0d2a",
   "metadata": {},
   "outputs": [],
   "source": [
    "df1.loc[:, 'B'] = 1"
   ]
  },
  {
   "cell_type": "code",
   "execution_count": 23,
   "id": "a3b988ec-f05a-45a1-a81c-7a9e454936f6",
   "metadata": {},
   "outputs": [
    {
     "data": {
      "text/html": [
       "<div>\n",
       "<style scoped>\n",
       "    .dataframe tbody tr th:only-of-type {\n",
       "        vertical-align: middle;\n",
       "    }\n",
       "\n",
       "    .dataframe tbody tr th {\n",
       "        vertical-align: top;\n",
       "    }\n",
       "\n",
       "    .dataframe thead th {\n",
       "        text-align: right;\n",
       "    }\n",
       "</style>\n",
       "<table border=\"1\" class=\"dataframe\">\n",
       "  <thead>\n",
       "    <tr style=\"text-align: right;\">\n",
       "      <th></th>\n",
       "      <th>A</th>\n",
       "      <th>B</th>\n",
       "    </tr>\n",
       "  </thead>\n",
       "  <tbody>\n",
       "    <tr>\n",
       "      <th>0</th>\n",
       "      <td>0.450073</td>\n",
       "      <td>1</td>\n",
       "    </tr>\n",
       "    <tr>\n",
       "      <th>1</th>\n",
       "      <td>0.223363</td>\n",
       "      <td>1</td>\n",
       "    </tr>\n",
       "    <tr>\n",
       "      <th>2</th>\n",
       "      <td>0.826118</td>\n",
       "      <td>1</td>\n",
       "    </tr>\n",
       "    <tr>\n",
       "      <th>3</th>\n",
       "      <td>0.867871</td>\n",
       "      <td>1</td>\n",
       "    </tr>\n",
       "    <tr>\n",
       "      <th>4</th>\n",
       "      <td>0.312154</td>\n",
       "      <td>1</td>\n",
       "    </tr>\n",
       "    <tr>\n",
       "      <th>5</th>\n",
       "      <td>0.262970</td>\n",
       "      <td>1</td>\n",
       "    </tr>\n",
       "    <tr>\n",
       "      <th>6</th>\n",
       "      <td>0.047599</td>\n",
       "      <td>1</td>\n",
       "    </tr>\n",
       "    <tr>\n",
       "      <th>7</th>\n",
       "      <td>0.042794</td>\n",
       "      <td>1</td>\n",
       "    </tr>\n",
       "    <tr>\n",
       "      <th>8</th>\n",
       "      <td>0.120769</td>\n",
       "      <td>1</td>\n",
       "    </tr>\n",
       "    <tr>\n",
       "      <th>9</th>\n",
       "      <td>0.446166</td>\n",
       "      <td>1</td>\n",
       "    </tr>\n",
       "  </tbody>\n",
       "</table>\n",
       "</div>"
      ],
      "text/plain": [
       "          A  B\n",
       "0  0.450073  1\n",
       "1  0.223363  1\n",
       "2  0.826118  1\n",
       "3  0.867871  1\n",
       "4  0.312154  1\n",
       "5  0.262970  1\n",
       "6  0.047599  1\n",
       "7  0.042794  1\n",
       "8  0.120769  1\n",
       "9  0.446166  1"
      ]
     },
     "execution_count": 23,
     "metadata": {},
     "output_type": "execute_result"
    }
   ],
   "source": [
    "df1"
   ]
  },
  {
   "cell_type": "markdown",
   "id": "07cf9c82-df16-41c4-b4b7-f540ecb15481",
   "metadata": {},
   "source": [
    "x_train1 = torch.Tensor(x_train)\n",
    "y_train1 = torch.Tensor(y_train.values)\n",
    "\n",
    "class net(nn.Module):\n",
    "    def __init__(self):\n",
    "        super(net, self).__init__()\n",
    "        self.main = nn.Sequential(nn.Linear(54, 100), \n",
    "                           nn.ReLU(),\n",
    "                           nn.Linear(100, 100),\n",
    "                           nn.Linear(100, 1))\n",
    "    def forward(self, x):\n",
    "        return self.main(x)\n",
    "\n",
    "net1 = net()\n",
    "\n",
    "loss_func = nn.CrossEntropyLoss()\n",
    "optimizer = torch.optim.Adam(net1.parameters())\n",
    "\n",
    "for epoch in range(10):\n",
    "    out = net1(x_train1)\n",
    "    loss = loss_func(out, y_train1)\n",
    "    loss.backward()\n",
    "    optimizer.step()\n",
    "    optimizer.zero_grad()"
   ]
  },
  {
   "cell_type": "markdown",
   "id": "2f73f6e4-a3fe-48e1-849a-6cbc458cadb1",
   "metadata": {},
   "source": [
    "## 字典排序"
   ]
  },
  {
   "cell_type": "code",
   "execution_count": 1,
   "id": "6c4c7b98-4ccc-440b-857d-0064ea438df6",
   "metadata": {},
   "outputs": [],
   "source": [
    "a = dict()"
   ]
  },
  {
   "cell_type": "code",
   "execution_count": 2,
   "id": "e52b6cdf-bcab-45fd-a84a-350269659365",
   "metadata": {},
   "outputs": [],
   "source": [
    "a['a'] = 25\n",
    "a['b'] = 22\n",
    "a['c'] = 31\n",
    "a['d'] = 21"
   ]
  },
  {
   "cell_type": "code",
   "execution_count": 5,
   "id": "27558aee-d73e-4a3b-95d4-7dd5b16480a1",
   "metadata": {},
   "outputs": [
    {
     "data": {
      "text/plain": [
       "[('d', 21), ('b', 22), ('a', 25), ('c', 31)]"
      ]
     },
     "execution_count": 5,
     "metadata": {},
     "output_type": "execute_result"
    }
   ],
   "source": [
    "sorted_a = sorted(a.items(), key=lambda x: x[1])\n",
    "sorted_a"
   ]
  },
  {
   "cell_type": "code",
   "execution_count": 6,
   "id": "cb024259-fdbb-4047-a48c-d7809d93f97d",
   "metadata": {},
   "outputs": [
    {
     "data": {
      "text/plain": [
       "{'d': 21, 'b': 22, 'a': 25, 'c': 31}"
      ]
     },
     "execution_count": 6,
     "metadata": {},
     "output_type": "execute_result"
    }
   ],
   "source": [
    "dict(sorted_a)"
   ]
  },
  {
   "cell_type": "markdown",
   "id": "33e360b5-d6d7-4169-871c-410567010309",
   "metadata": {},
   "source": [
    "### 一阶差分"
   ]
  },
  {
   "cell_type": "code",
   "execution_count": 3,
   "id": "1e08fa14-ca1d-4d34-9624-21cc55896110",
   "metadata": {},
   "outputs": [],
   "source": [
    "a = pd.Series([1, 2, 3, 2, 4, 2])"
   ]
  },
  {
   "cell_type": "code",
   "execution_count": 8,
   "id": "ab5e1d26-7369-49b1-b053-8afb8bc17c72",
   "metadata": {},
   "outputs": [
    {
     "data": {
      "text/plain": [
       "0    NaN\n",
       "1    1.0\n",
       "2    1.0\n",
       "3   -1.0\n",
       "4    2.0\n",
       "5   -2.0\n",
       "dtype: float64"
      ]
     },
     "execution_count": 8,
     "metadata": {},
     "output_type": "execute_result"
    }
   ],
   "source": [
    "diff1 = a.diff(1)\n",
    "diff1"
   ]
  },
  {
   "cell_type": "code",
   "execution_count": 9,
   "id": "77d0cd5d-0b26-4e9e-8057-06f4d4421d57",
   "metadata": {},
   "outputs": [
    {
     "data": {
      "text/plain": [
       "0    NaN\n",
       "1    NaN\n",
       "2    0.0\n",
       "3   -2.0\n",
       "4    3.0\n",
       "5   -4.0\n",
       "dtype: float64"
      ]
     },
     "execution_count": 9,
     "metadata": {},
     "output_type": "execute_result"
    }
   ],
   "source": [
    "diff2 = diff1.diff(1)\n",
    "diff2"
   ]
  },
  {
   "cell_type": "markdown",
   "id": "9b886ed1-6e53-48f2-aa48-4bb168c9616f",
   "metadata": {},
   "source": [
    "## lstm"
   ]
  },
  {
   "cell_type": "code",
   "execution_count": 22,
   "id": "de3fef08-9e70-425a-9533-b355c84996e5",
   "metadata": {
    "tags": []
   },
   "outputs": [],
   "source": [
    "from tensorflow import keras \n",
    "import numpy\n",
    "from tensorflow.keras.layers import LSTM, Dense\n",
    "from tensorflow.keras.models import Sequential\n",
    "import seaborn as sns\n",
    "from sklearn.preprocessing import MinMaxScaler\n",
    "import numpy as np\n",
    "import pylab as plt\n",
    "from sklearn.metrics import r2_score\n",
    "%matplotlib inline"
   ]
  },
  {
   "cell_type": "code",
   "execution_count": 2,
   "id": "d6727482-b547-40d6-ab1d-b202a467a0ef",
   "metadata": {},
   "outputs": [
    {
     "data": {
      "text/plain": [
       "array([[112],\n",
       "       [118],\n",
       "       [132],\n",
       "       [129],\n",
       "       [121]], dtype=int64)"
      ]
     },
     "execution_count": 2,
     "metadata": {},
     "output_type": "execute_result"
    }
   ],
   "source": [
    "flight = sns.load_dataset('flights').passengers.values.reshape(-1, 1)\n",
    "flight[:5]"
   ]
  },
  {
   "cell_type": "code",
   "execution_count": 3,
   "id": "4ef6199b-6fba-40a3-af47-8eb1c1ec6658",
   "metadata": {},
   "outputs": [],
   "source": [
    "scaler = MinMaxScaler()\n",
    "flight1 = scaler.fit_transform(flight)"
   ]
  },
  {
   "cell_type": "code",
   "execution_count": 4,
   "id": "fbcedfe0-8d85-4122-bd46-a4508209be13",
   "metadata": {},
   "outputs": [],
   "source": [
    "train_size = int(len(flight) * 0.6)\n",
    "train = flight1[:train_size]\n",
    "test = flight1[train_size:]\n",
    "\n",
    "def create_dataset(dataset, look_back):\n",
    "    # 这里的look_back与timestep相同\n",
    "    dataX, dataY = [], []\n",
    "    for i in range(len(dataset)-look_back-1):\n",
    "        a = dataset[i:(i+look_back)]\n",
    "        dataX.append(a)\n",
    "        dataY.append(dataset[i + look_back])\n",
    "    return np.array(dataX), np.array(dataY)"
   ]
  },
  {
   "cell_type": "code",
   "execution_count": 5,
   "id": "293b3380-e9e1-4c6d-9460-aca8d50c16f3",
   "metadata": {},
   "outputs": [],
   "source": [
    "x_train, y_train = create_dataset(train, 2)\n",
    "x_test, y_test = create_dataset(test, 2)"
   ]
  },
  {
   "cell_type": "code",
   "execution_count": 6,
   "id": "2bc902fd-4b68-48cf-b9af-6960c94e5919",
   "metadata": {},
   "outputs": [],
   "source": [
    "x_train = numpy.reshape(x_train, (x_train.shape[0], x_train.shape[1], 1))\n",
    "x_test = numpy.reshape(x_test, (x_test.shape[0], x_test.shape[1] ,1 ))"
   ]
  },
  {
   "cell_type": "code",
   "execution_count": 7,
   "id": "55883ac7-1237-40df-8a0f-0b72b1480b6f",
   "metadata": {
    "collapsed": true,
    "jupyter": {
     "outputs_hidden": true
    },
    "tags": []
   },
   "outputs": [
    {
     "name": "stdout",
     "output_type": "stream",
     "text": [
      "WARNING:tensorflow:From E:\\anaconda\\lib\\site-packages\\tensorflow\\python\\ops\\init_ops.py:1251: calling VarianceScaling.__init__ (from tensorflow.python.ops.init_ops) with dtype is deprecated and will be removed in a future version.\n",
      "Instructions for updating:\n",
      "Call initializer instance with the dtype argument instead of passing it to the constructor\n",
      "WARNING:tensorflow:From E:\\anaconda\\lib\\site-packages\\tensorflow\\python\\ops\\math_grad.py:1250: add_dispatch_support.<locals>.wrapper (from tensorflow.python.ops.array_ops) is deprecated and will be removed in a future version.\n",
      "Instructions for updating:\n",
      "Use tf.where in 2.0, which has the same broadcast rule as np.where\n",
      "Epoch 1/100\n",
      "83/83 - 0s - loss: 0.0625\n",
      "Epoch 2/100\n",
      "83/83 - 0s - loss: 0.0264\n",
      "Epoch 3/100\n",
      "83/83 - 0s - loss: 0.0198\n",
      "Epoch 4/100\n",
      "83/83 - 0s - loss: 0.0183\n",
      "Epoch 5/100\n",
      "83/83 - 0s - loss: 0.0167\n",
      "Epoch 6/100\n",
      "83/83 - 0s - loss: 0.0157\n",
      "Epoch 7/100\n",
      "83/83 - 0s - loss: 0.0144\n",
      "Epoch 8/100\n",
      "83/83 - 0s - loss: 0.0135\n",
      "Epoch 9/100\n",
      "83/83 - 0s - loss: 0.0125\n",
      "Epoch 10/100\n",
      "83/83 - 0s - loss: 0.0117\n",
      "Epoch 11/100\n",
      "83/83 - 0s - loss: 0.0108\n",
      "Epoch 12/100\n",
      "83/83 - 0s - loss: 0.0098\n",
      "Epoch 13/100\n",
      "83/83 - 0s - loss: 0.0088\n",
      "Epoch 14/100\n",
      "83/83 - 0s - loss: 0.0079\n",
      "Epoch 15/100\n",
      "83/83 - 0s - loss: 0.0070\n",
      "Epoch 16/100\n",
      "83/83 - 0s - loss: 0.0060\n",
      "Epoch 17/100\n",
      "83/83 - 0s - loss: 0.0050\n",
      "Epoch 18/100\n",
      "83/83 - 0s - loss: 0.0043\n",
      "Epoch 19/100\n",
      "83/83 - 0s - loss: 0.0036\n",
      "Epoch 20/100\n",
      "83/83 - 0s - loss: 0.0032\n",
      "Epoch 21/100\n",
      "83/83 - 0s - loss: 0.0030\n",
      "Epoch 22/100\n",
      "83/83 - 0s - loss: 0.0028\n",
      "Epoch 23/100\n",
      "83/83 - 0s - loss: 0.0028\n",
      "Epoch 24/100\n",
      "83/83 - 0s - loss: 0.0027\n",
      "Epoch 25/100\n",
      "83/83 - 0s - loss: 0.0028\n",
      "Epoch 26/100\n",
      "83/83 - 0s - loss: 0.0027\n",
      "Epoch 27/100\n",
      "83/83 - 0s - loss: 0.0026\n",
      "Epoch 28/100\n",
      "83/83 - 0s - loss: 0.0028\n",
      "Epoch 29/100\n",
      "83/83 - 0s - loss: 0.0026\n",
      "Epoch 30/100\n",
      "83/83 - 0s - loss: 0.0027\n",
      "Epoch 31/100\n",
      "83/83 - 0s - loss: 0.0026\n",
      "Epoch 32/100\n",
      "83/83 - 0s - loss: 0.0027\n",
      "Epoch 33/100\n",
      "83/83 - 0s - loss: 0.0026\n",
      "Epoch 34/100\n",
      "83/83 - 0s - loss: 0.0026\n",
      "Epoch 35/100\n",
      "83/83 - 0s - loss: 0.0026\n",
      "Epoch 36/100\n",
      "83/83 - 0s - loss: 0.0026\n",
      "Epoch 37/100\n",
      "83/83 - 0s - loss: 0.0028\n",
      "Epoch 38/100\n",
      "83/83 - 0s - loss: 0.0026\n",
      "Epoch 39/100\n",
      "83/83 - 0s - loss: 0.0026\n",
      "Epoch 40/100\n",
      "83/83 - 0s - loss: 0.0026\n",
      "Epoch 41/100\n",
      "83/83 - 0s - loss: 0.0026\n",
      "Epoch 42/100\n",
      "83/83 - 0s - loss: 0.0025\n",
      "Epoch 43/100\n",
      "83/83 - 0s - loss: 0.0025\n",
      "Epoch 44/100\n",
      "83/83 - 0s - loss: 0.0025\n",
      "Epoch 45/100\n",
      "83/83 - 0s - loss: 0.0026\n",
      "Epoch 46/100\n",
      "83/83 - 0s - loss: 0.0025\n",
      "Epoch 47/100\n",
      "83/83 - 0s - loss: 0.0025\n",
      "Epoch 48/100\n",
      "83/83 - 0s - loss: 0.0025\n",
      "Epoch 49/100\n",
      "83/83 - 0s - loss: 0.0025\n",
      "Epoch 50/100\n",
      "83/83 - 0s - loss: 0.0025\n",
      "Epoch 51/100\n",
      "83/83 - 0s - loss: 0.0025\n",
      "Epoch 52/100\n",
      "83/83 - 0s - loss: 0.0025\n",
      "Epoch 53/100\n",
      "83/83 - 0s - loss: 0.0024\n",
      "Epoch 54/100\n",
      "83/83 - 0s - loss: 0.0025\n",
      "Epoch 55/100\n",
      "83/83 - 0s - loss: 0.0025\n",
      "Epoch 56/100\n",
      "83/83 - 0s - loss: 0.0024\n",
      "Epoch 57/100\n",
      "83/83 - 0s - loss: 0.0025\n",
      "Epoch 58/100\n",
      "83/83 - 0s - loss: 0.0025\n",
      "Epoch 59/100\n",
      "83/83 - 0s - loss: 0.0026\n",
      "Epoch 60/100\n",
      "83/83 - 0s - loss: 0.0024\n",
      "Epoch 61/100\n",
      "83/83 - 0s - loss: 0.0024\n",
      "Epoch 62/100\n",
      "83/83 - 0s - loss: 0.0024\n",
      "Epoch 63/100\n",
      "83/83 - 0s - loss: 0.0025\n",
      "Epoch 64/100\n",
      "83/83 - 0s - loss: 0.0024\n",
      "Epoch 65/100\n",
      "83/83 - 0s - loss: 0.0024\n",
      "Epoch 66/100\n",
      "83/83 - 0s - loss: 0.0024\n",
      "Epoch 67/100\n",
      "83/83 - 0s - loss: 0.0024\n",
      "Epoch 68/100\n",
      "83/83 - 0s - loss: 0.0024\n",
      "Epoch 69/100\n",
      "83/83 - 0s - loss: 0.0024\n",
      "Epoch 70/100\n",
      "83/83 - 0s - loss: 0.0024\n",
      "Epoch 71/100\n",
      "83/83 - 0s - loss: 0.0024\n",
      "Epoch 72/100\n",
      "83/83 - 0s - loss: 0.0022\n",
      "Epoch 73/100\n",
      "83/83 - 0s - loss: 0.0024\n",
      "Epoch 74/100\n",
      "83/83 - 0s - loss: 0.0023\n",
      "Epoch 75/100\n",
      "83/83 - 0s - loss: 0.0023\n",
      "Epoch 76/100\n",
      "83/83 - 0s - loss: 0.0023\n",
      "Epoch 77/100\n",
      "83/83 - 0s - loss: 0.0024\n",
      "Epoch 78/100\n",
      "83/83 - 0s - loss: 0.0023\n",
      "Epoch 79/100\n",
      "83/83 - 0s - loss: 0.0023\n",
      "Epoch 80/100\n",
      "83/83 - 0s - loss: 0.0023\n",
      "Epoch 81/100\n",
      "83/83 - 0s - loss: 0.0024\n",
      "Epoch 82/100\n",
      "83/83 - 0s - loss: 0.0022\n",
      "Epoch 83/100\n",
      "83/83 - 0s - loss: 0.0024\n",
      "Epoch 84/100\n",
      "83/83 - 0s - loss: 0.0023\n",
      "Epoch 85/100\n",
      "83/83 - 0s - loss: 0.0023\n",
      "Epoch 86/100\n",
      "83/83 - 0s - loss: 0.0023\n",
      "Epoch 87/100\n",
      "83/83 - 0s - loss: 0.0022\n",
      "Epoch 88/100\n",
      "83/83 - 0s - loss: 0.0022\n",
      "Epoch 89/100\n",
      "83/83 - 0s - loss: 0.0023\n",
      "Epoch 90/100\n",
      "83/83 - 0s - loss: 0.0023\n",
      "Epoch 91/100\n",
      "83/83 - 0s - loss: 0.0023\n",
      "Epoch 92/100\n",
      "83/83 - 0s - loss: 0.0023\n",
      "Epoch 93/100\n",
      "83/83 - 0s - loss: 0.0022\n",
      "Epoch 94/100\n",
      "83/83 - 0s - loss: 0.0023\n",
      "Epoch 95/100\n",
      "83/83 - 0s - loss: 0.0023\n",
      "Epoch 96/100\n",
      "83/83 - 0s - loss: 0.0023\n",
      "Epoch 97/100\n",
      "83/83 - 0s - loss: 0.0022\n",
      "Epoch 98/100\n",
      "83/83 - 0s - loss: 0.0022\n",
      "Epoch 99/100\n",
      "83/83 - 0s - loss: 0.0023\n",
      "Epoch 100/100\n",
      "83/83 - 0s - loss: 0.0023\n"
     ]
    },
    {
     "data": {
      "text/plain": [
       "<tensorflow.python.keras.callbacks.History at 0x17061d20dd8>"
      ]
     },
     "execution_count": 7,
     "metadata": {},
     "output_type": "execute_result"
    }
   ],
   "source": [
    "# create and fit the LSTM network\n",
    "model = Sequential()\n",
    "model.add(LSTM(4, input_shape=(None,1)))\n",
    "model.add(Dense(1))\n",
    "model.compile(loss='mean_squared_error', optimizer='adam')\n",
    "model.fit(x_train, y_train, epochs=100, batch_size=1, verbose=2)\n",
    "# model.save(os.path.join(\"DATA\",\"Test\" + \".h5\"))"
   ]
  },
  {
   "cell_type": "code",
   "execution_count": 8,
   "id": "84fcdb8a-d6d7-4908-b230-0fae9a4b40e4",
   "metadata": {},
   "outputs": [],
   "source": [
    "train_pred = model.predict(x_train)\n",
    "train_pred = scaler.inverse_transform(train_pred)\n",
    "y_train = scaler.inverse_transform(y_train)"
   ]
  },
  {
   "cell_type": "code",
   "execution_count": 9,
   "id": "820e6395-2487-40d4-b067-bcae9e19b661",
   "metadata": {},
   "outputs": [],
   "source": [
    "y_pred = model.predict(x_test)\n",
    "y_pred = scaler.inverse_transform(y_pred)\n",
    "y_test = scaler.inverse_transform(y_test)"
   ]
  },
  {
   "cell_type": "code",
   "execution_count": 20,
   "id": "eb52f429-f61e-4be8-9044-ec2a7a293364",
   "metadata": {},
   "outputs": [
    {
     "data": {
      "text/plain": [
       "array([[317.],\n",
       "       [313.],\n",
       "       [318.]])"
      ]
     },
     "execution_count": 20,
     "metadata": {},
     "output_type": "execute_result"
    }
   ],
   "source": [
    "scaler.inverse_transform(test)[:3]"
   ]
  },
  {
   "cell_type": "code",
   "execution_count": 17,
   "id": "b093045f-2225-4cc9-b07a-da121093baa1",
   "metadata": {},
   "outputs": [
    {
     "data": {
      "text/plain": [
       "(array([[317., 313.],\n",
       "        [313., 318.],\n",
       "        [318., 374.]]),\n",
       " array([[318.],\n",
       "        [374.],\n",
       "        [413.]]))"
      ]
     },
     "execution_count": 17,
     "metadata": {},
     "output_type": "execute_result"
    }
   ],
   "source": [
    "scaler.inverse_transform(x_test.squeeze())[:3], y_test[:3]"
   ]
  },
  {
   "cell_type": "code",
   "execution_count": 21,
   "id": "42ee725d-6954-4994-a0c5-7ef1f8c47e55",
   "metadata": {},
   "outputs": [
    {
     "data": {
      "text/plain": [
       "[<matplotlib.lines.Line2D at 0x17065e2e3c8>]"
      ]
     },
     "execution_count": 21,
     "metadata": {},
     "output_type": "execute_result"
    },
    {
     "data": {
      "image/png": "[encoded data removed]",
      "text/plain": [
       "<Figure size 432x288 with 1 Axes>"
      ]
     },
     "metadata": {
      "needs_background": "light"
     },
     "output_type": "display_data"
    }
   ],
   "source": [
    "plt.plot(y_pred[2:])\n",
    "plt.plot(y_test)"
   ]
  },
  {
   "cell_type": "code",
   "execution_count": 23,
   "id": "9ac77315-b454-424f-816a-4edbeb4693ff",
   "metadata": {},
   "outputs": [
    {
     "data": {
      "text/plain": [
       "0.4420271812407476"
      ]
     },
     "execution_count": 23,
     "metadata": {},
     "output_type": "execute_result"
    }
   ],
   "source": [
    "r2_score(y_test, y_pred)"
   ]
  },
  {
   "cell_type": "code",
   "execution_count": 11,
   "id": "b8664af9-26b6-4e69-bb02-d8ca5c81679f",
   "metadata": {},
   "outputs": [
    {
     "data": {
      "text/plain": [
       "[<matplotlib.lines.Line2D at 0x17063b57c88>]"
      ]
     },
     "execution_count": 11,
     "metadata": {},
     "output_type": "execute_result"
    },
    {
     "data": {
      "image/png": "[encoded data removed]",
      "text/plain": [
       "<Figure size 432x288 with 1 Axes>"
      ]
     },
     "metadata": {
      "needs_background": "light"
     },
     "output_type": "display_data"
    }
   ],
   "source": [
    "plt.plot(train_pred)\n",
    "plt.plot(y_train)"
   ]
  }
 ],
 "metadata": {
  "kernelspec": {
   "display_name": "Python 3",
   "language": "python",
   "name": "python3"
  },
  "language_info": {
   "codemirror_mode": {
    "name": "ipython",
    "version": 3
   },
   "file_extension": ".py",
   "mimetype": "text/x-python",
   "name": "python",
   "nbconvert_exporter": "python",
   "pygments_lexer": "ipython3",
   "version": "3.7.0"
  }
 },
 "nbformat": 4,
 "nbformat_minor": 5
}
