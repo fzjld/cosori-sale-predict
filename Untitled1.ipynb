{
 "cells": [
  {
   "cell_type": "code",
   "execution_count": 1,
   "id": "c2a4a3a8-d66f-48cd-8b92-201dddd9acf7",
   "metadata": {},
   "outputs": [],
   "source": [
    "import pymysql\n",
    "import pandas as pd\n",
    "import time"
   ]
  },
  {
   "cell_type": "code",
   "execution_count": 2,
   "id": "9200d051-70f6-4c13-ab09-0d4f4cbe2d76",
   "metadata": {},
   "outputs": [],
   "source": [
    "connect = pymysql.connect(user='chenxin',\n",
    "                          password='chenxin0825!',\n",
    "                          host='rm-wz96142hc4po8kogngo.mysql.rds.aliyuncs.com',\n",
    "                          database='mydb', port=3306)"
   ]
  },
  {
   "cell_type": "code",
   "execution_count": 3,
   "id": "310fd9b1-45bb-4a3c-bfb4-67bb96a5163a",
   "metadata": {},
   "outputs": [],
   "source": [
    "sql = 'select * from cosori'"
   ]
  },
  {
   "cell_type": "code",
   "execution_count": 5,
   "id": "62279034-429e-4478-9d9a-e14080b55234",
   "metadata": {},
   "outputs": [
    {
     "name": "stdout",
     "output_type": "stream",
     "text": [
      "2.4466769695281982\n"
     ]
    }
   ],
   "source": [
    "ts = time.time()\n",
    "data = pd.read_sql(sql, connect)\n",
    "print(time.time() - ts)"
   ]
  },
  {
   "cell_type": "code",
   "execution_count": 10,
   "id": "45db4821-0695-4e59-8808-c288f3c3a9a2",
   "metadata": {},
   "outputs": [
    {
     "name": "stdout",
     "output_type": "stream",
     "text": [
      "<class 'pandas.core.frame.DataFrame'>\n",
      "RangeIndex: 28901 entries, 0 to 28900\n",
      "Data columns (total 25 columns):\n",
      " #   Column                              Non-Null Count  Dtype \n",
      "---  ------                              --------------  ----- \n",
      " 0   id                                  28901 non-null  object\n",
      " 1   site_id                             28901 non-null  object\n",
      " 2   asin                                28901 non-null  object\n",
      " 3   data_date                           28901 non-null  object\n",
      " 4   product_title                       28894 non-null  object\n",
      " 5   ordered_revenue                     28901 non-null  object\n",
      " 6   ordered_revenue_of_total            28901 non-null  object\n",
      " 7   ordered_revenue_last_year           28901 non-null  object\n",
      " 8   ordered_units                       28901 non-null  object\n",
      " 9   ordered_units_of_total              28901 non-null  object\n",
      " 10  ordered_units_prior_period          28901 non-null  object\n",
      " 11  ordered_units_last_year             28901 non-null  object\n",
      " 12  subcategory_sales_rank              28901 non-null  object\n",
      " 13  average_sales_price                 28901 non-null  object\n",
      " 14  average_sales_price_prior_period    28901 non-null  object\n",
      " 15  glance_views                        28901 non-null  object\n",
      " 16  change_in_glance_view_prior_period  28901 non-null  object\n",
      " 17  change_in_gv_last_year              28901 non-null  object\n",
      " 18  conversion_rate                     28901 non-null  object\n",
      " 19  rep_oos                             28901 non-null  object\n",
      " 20  rep_oos_of_total                    28901 non-null  object\n",
      " 21  rep_oos_prior_period                28901 non-null  object\n",
      " 22  lbb_price                           28901 non-null  object\n",
      " 23  create_time                         28901 non-null  object\n",
      " 24  update_time                         28901 non-null  object\n",
      "dtypes: object(25)\n",
      "memory usage: 5.5+ MB\n"
     ]
    }
   ],
   "source": [
    "data.info()"
   ]
  },
  {
   "cell_type": "code",
   "execution_count": 7,
   "id": "43ba56b7-4359-46ad-b54f-39afa860e1e1",
   "metadata": {},
   "outputs": [
    {
     "data": {
      "text/plain": [
       "(28901, 25)"
      ]
     },
     "execution_count": 7,
     "metadata": {},
     "output_type": "execute_result"
    }
   ],
   "source": [
    "data.shape"
   ]
  },
  {
   "cell_type": "code",
   "execution_count": 13,
   "id": "3adc651f-f9bb-4559-89d5-aabeab0895c2",
   "metadata": {},
   "outputs": [],
   "source": [
    "connect.close()"
   ]
  },
  {
   "cell_type": "code",
   "execution_count": 9,
   "id": "ea14560b-a531-4834-bf32-c3a1246124d3",
   "metadata": {},
   "outputs": [
    {
     "data": {
      "text/html": [
       "<div>\n",
       "<style scoped>\n",
       "    .dataframe tbody tr th:only-of-type {\n",
       "        vertical-align: middle;\n",
       "    }\n",
       "\n",
       "    .dataframe tbody tr th {\n",
       "        vertical-align: top;\n",
       "    }\n",
       "\n",
       "    .dataframe thead th {\n",
       "        text-align: right;\n",
       "    }\n",
       "</style>\n",
       "<table border=\"1\" class=\"dataframe\">\n",
       "  <thead>\n",
       "    <tr style=\"text-align: right;\">\n",
       "      <th></th>\n",
       "      <th>id</th>\n",
       "      <th>site_id</th>\n",
       "      <th>asin</th>\n",
       "      <th>data_date</th>\n",
       "      <th>product_title</th>\n",
       "      <th>ordered_revenue</th>\n",
       "      <th>ordered_revenue_of_total</th>\n",
       "      <th>ordered_revenue_last_year</th>\n",
       "      <th>ordered_units</th>\n",
       "      <th>ordered_units_of_total</th>\n",
       "      <th>...</th>\n",
       "      <th>glance_views</th>\n",
       "      <th>change_in_glance_view_prior_period</th>\n",
       "      <th>change_in_gv_last_year</th>\n",
       "      <th>conversion_rate</th>\n",
       "      <th>rep_oos</th>\n",
       "      <th>rep_oos_of_total</th>\n",
       "      <th>rep_oos_prior_period</th>\n",
       "      <th>lbb_price</th>\n",
       "      <th>create_time</th>\n",
       "      <th>update_time</th>\n",
       "    </tr>\n",
       "  </thead>\n",
       "  <tbody>\n",
       "    <tr>\n",
       "      <th>0</th>\n",
       "      <td>1</td>\n",
       "      <td>eb766123-9f24-436e-9117-49c739816794</td>\n",
       "      <td>B07GJBBGHG</td>\n",
       "      <td>2021-01-02</td>\n",
       "      <td>COSORI 5.8QT Electric Hot Air Fryers Oven Oill...</td>\n",
       "      <td>153827.18</td>\n",
       "      <td>0.13</td>\n",
       "      <td>1.26</td>\n",
       "      <td>1284</td>\n",
       "      <td>0.06</td>\n",
       "      <td>...</td>\n",
       "      <td>40220</td>\n",
       "      <td>0</td>\n",
       "      <td>1.19</td>\n",
       "      <td>0.03</td>\n",
       "      <td>0.02</td>\n",
       "      <td>0.14</td>\n",
       "      <td>0.15</td>\n",
       "      <td>0</td>\n",
       "      <td>2021/1/4 6:48</td>\n",
       "      <td>2021/1/4 6:48</td>\n",
       "    </tr>\n",
       "  </tbody>\n",
       "</table>\n",
       "<p>1 rows × 25 columns</p>\n",
       "</div>"
      ],
      "text/plain": [
       "  id                               site_id        asin   data_date  \\\n",
       "0  1  eb766123-9f24-436e-9117-49c739816794  B07GJBBGHG  2021-01-02   \n",
       "\n",
       "                                       product_title ordered_revenue  \\\n",
       "0  COSORI 5.8QT Electric Hot Air Fryers Oven Oill...       153827.18   \n",
       "\n",
       "  ordered_revenue_of_total ordered_revenue_last_year ordered_units  \\\n",
       "0                     0.13                      1.26          1284   \n",
       "\n",
       "  ordered_units_of_total  ... glance_views change_in_glance_view_prior_period  \\\n",
       "0                   0.06  ...        40220                                  0   \n",
       "\n",
       "  change_in_gv_last_year conversion_rate rep_oos rep_oos_of_total  \\\n",
       "0                   1.19            0.03    0.02             0.14   \n",
       "\n",
       "  rep_oos_prior_period lbb_price    create_time    update_time  \n",
       "0                 0.15         0  2021/1/4 6:48  2021/1/4 6:48  \n",
       "\n",
       "[1 rows x 25 columns]"
      ]
     },
     "execution_count": 9,
     "metadata": {},
     "output_type": "execute_result"
    }
   ],
   "source": [
    "data.head(1)"
   ]
  }
 ],
 "metadata": {
  "kernelspec": {
   "display_name": "Python 3",
   "language": "python",
   "name": "python3"
  },
  "language_info": {
   "codemirror_mode": {
    "name": "ipython",
    "version": 3
   },
   "file_extension": ".py",
   "mimetype": "text/x-python",
   "name": "python",
   "nbconvert_exporter": "python",
   "pygments_lexer": "ipython3",
   "version": "3.7.0"
  }
 },
 "nbformat": 4,
 "nbformat_minor": 5
}
