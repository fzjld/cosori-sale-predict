{
 "cells": [
  {
   "cell_type": "code",
   "execution_count": 1,
   "id": "73b20828-5422-423d-85ff-449137ac570c",
   "metadata": {},
   "outputs": [],
   "source": [
    "import xgboost as xgb\n",
    "import os\n",
    "import seaborn as sns\n",
    "import pandas as pd\n",
    "import numpy as np\n",
    "from xgboost import XGBRegressor\n",
    "from sklearn.model_selection import train_test_split\n",
    "from sklearn.preprocessing import OneHotEncoder, LabelEncoder, OrdinalEncoder\n",
    "from sklearn.metrics import mean_squared_error, r2_score\n",
    "import time\n",
    "# from sklearn.externals import joblib\n",
    "import joblib\n",
    "import pickle\n",
    "import pylab as plt\n",
    "from sklearn.model_selection import cross_val_score\n",
    "import warnings\n",
    "warnings.filterwarnings('ignore')\n",
    "\n",
    "pd.set_option('display.max_rows', 100)\n",
    "pd.set_option('display.max_columns', None)\n",
    "pd.set_option('display.float_format', lambda x: '%.4f' % x)\n",
    "np.set_printoptions(suppress=True)\n",
    "sns.set_style({'font.sans-serif': ['simhei', 'Arial']})   # 解决画图中文乱码\n",
    "\n",
    "%matplotlib inline"
   ]
  },
  {
   "cell_type": "code",
   "execution_count": 2,
   "id": "5638c9d2-20d8-4cfc-be0c-e635641bb771",
   "metadata": {},
   "outputs": [
    {
     "data": {
      "text/html": [
       "<div>\n",
       "<style scoped>\n",
       "    .dataframe tbody tr th:only-of-type {\n",
       "        vertical-align: middle;\n",
       "    }\n",
       "\n",
       "    .dataframe tbody tr th {\n",
       "        vertical-align: top;\n",
       "    }\n",
       "\n",
       "    .dataframe thead th {\n",
       "        text-align: right;\n",
       "    }\n",
       "</style>\n",
       "<table border=\"1\" class=\"dataframe\">\n",
       "  <thead>\n",
       "    <tr style=\"text-align: right;\">\n",
       "      <th></th>\n",
       "      <th>id</th>\n",
       "      <th>site_id</th>\n",
       "      <th>asin</th>\n",
       "      <th>data_date</th>\n",
       "      <th>product_title</th>\n",
       "      <th>ordered_revenue</th>\n",
       "      <th>ordered_revenue_of_total</th>\n",
       "      <th>ordered_revenue_last_year</th>\n",
       "      <th>ordered_units</th>\n",
       "      <th>ordered_units_of_total</th>\n",
       "      <th>ordered_units_prior_period</th>\n",
       "      <th>ordered_units_last_year</th>\n",
       "      <th>subcategory_sales_rank</th>\n",
       "      <th>average_sales_price</th>\n",
       "      <th>average_sales_price_prior_period</th>\n",
       "      <th>glance_views</th>\n",
       "      <th>change_in_glance_view_prior_period</th>\n",
       "      <th>change_in_gv_last_year</th>\n",
       "      <th>conversion_rate</th>\n",
       "      <th>rep_oos</th>\n",
       "      <th>rep_oos_of_total</th>\n",
       "      <th>rep_oos_prior_period</th>\n",
       "      <th>lbb_price</th>\n",
       "      <th>create_time</th>\n",
       "      <th>update_time</th>\n",
       "    </tr>\n",
       "  </thead>\n",
       "  <tbody>\n",
       "    <tr>\n",
       "      <th>0</th>\n",
       "      <td>1</td>\n",
       "      <td>eb766123-9f24-436e-9117-49c739816794</td>\n",
       "      <td>B07GJBBGHG</td>\n",
       "      <td>2021/1/2</td>\n",
       "      <td>COSORI 5.8QT Electric Hot Air Fryers Oven Oill...</td>\n",
       "      <td>153827.1800</td>\n",
       "      <td>0.1300</td>\n",
       "      <td>1.2600</td>\n",
       "      <td>1284</td>\n",
       "      <td>0.0600</td>\n",
       "      <td>-0.1300</td>\n",
       "      <td>1.2600</td>\n",
       "      <td>1.0000</td>\n",
       "      <td>119.8000</td>\n",
       "      <td>0.0000</td>\n",
       "      <td>40220.0000</td>\n",
       "      <td>0.0000</td>\n",
       "      <td>1.1900</td>\n",
       "      <td>0.0300</td>\n",
       "      <td>0.0200</td>\n",
       "      <td>0.1400</td>\n",
       "      <td>0.1500</td>\n",
       "      <td>0.0000</td>\n",
       "      <td>2021/1/4 6:48</td>\n",
       "      <td>2021/1/4 6:48</td>\n",
       "    </tr>\n",
       "    <tr>\n",
       "      <th>1</th>\n",
       "      <td>5</td>\n",
       "      <td>eb766123-9f24-436e-9117-49c739816794</td>\n",
       "      <td>B07VLKMMJ5</td>\n",
       "      <td>2021/1/2</td>\n",
       "      <td>COSORI Smart WiFi Air Fryer 5.8QT(100 Recipes)...</td>\n",
       "      <td>44065.1400</td>\n",
       "      <td>0.0400</td>\n",
       "      <td>0.4500</td>\n",
       "      <td>367</td>\n",
       "      <td>0.0200</td>\n",
       "      <td>-0.1000</td>\n",
       "      <td>0.4400</td>\n",
       "      <td>2.0000</td>\n",
       "      <td>120.0700</td>\n",
       "      <td>0.0000</td>\n",
       "      <td>11543.0000</td>\n",
       "      <td>-0.0100</td>\n",
       "      <td>1.4500</td>\n",
       "      <td>0.0300</td>\n",
       "      <td>0.0100</td>\n",
       "      <td>0.0200</td>\n",
       "      <td>1.2600</td>\n",
       "      <td>0.0000</td>\n",
       "      <td>2021/1/4 6:48</td>\n",
       "      <td>2021/1/4 6:48</td>\n",
       "    </tr>\n",
       "  </tbody>\n",
       "</table>\n",
       "</div>"
      ],
      "text/plain": [
       "   id                               site_id        asin data_date  \\\n",
       "0   1  eb766123-9f24-436e-9117-49c739816794  B07GJBBGHG  2021/1/2   \n",
       "1   5  eb766123-9f24-436e-9117-49c739816794  B07VLKMMJ5  2021/1/2   \n",
       "\n",
       "                                       product_title  ordered_revenue  \\\n",
       "0  COSORI 5.8QT Electric Hot Air Fryers Oven Oill...      153827.1800   \n",
       "1  COSORI Smart WiFi Air Fryer 5.8QT(100 Recipes)...       44065.1400   \n",
       "\n",
       "   ordered_revenue_of_total  ordered_revenue_last_year  ordered_units  \\\n",
       "0                    0.1300                     1.2600           1284   \n",
       "1                    0.0400                     0.4500            367   \n",
       "\n",
       "   ordered_units_of_total  ordered_units_prior_period  \\\n",
       "0                  0.0600                     -0.1300   \n",
       "1                  0.0200                     -0.1000   \n",
       "\n",
       "   ordered_units_last_year  subcategory_sales_rank  average_sales_price  \\\n",
       "0                   1.2600                  1.0000             119.8000   \n",
       "1                   0.4400                  2.0000             120.0700   \n",
       "\n",
       "   average_sales_price_prior_period  glance_views  \\\n",
       "0                            0.0000    40220.0000   \n",
       "1                            0.0000    11543.0000   \n",
       "\n",
       "   change_in_glance_view_prior_period  change_in_gv_last_year  \\\n",
       "0                              0.0000                  1.1900   \n",
       "1                             -0.0100                  1.4500   \n",
       "\n",
       "   conversion_rate  rep_oos  rep_oos_of_total  rep_oos_prior_period  \\\n",
       "0           0.0300   0.0200            0.1400                0.1500   \n",
       "1           0.0300   0.0100            0.0200                1.2600   \n",
       "\n",
       "   lbb_price    create_time    update_time  \n",
       "0     0.0000  2021/1/4 6:48  2021/1/4 6:48  \n",
       "1     0.0000  2021/1/4 6:48  2021/1/4 6:48  "
      ]
     },
     "execution_count": 2,
     "metadata": {},
     "output_type": "execute_result"
    }
   ],
   "source": [
    "data = pd.read_csv('./data.csv', encoding='GBK')\n",
    "data.head(2)"
   ]
  },
  {
   "cell_type": "code",
   "execution_count": 27,
   "id": "79ce95a9-3901-46fb-ba05-24e872451342",
   "metadata": {
    "collapsed": true,
    "jupyter": {
     "outputs_hidden": true
    },
    "tags": []
   },
   "outputs": [
    {
     "data": {
      "text/plain": [
       "asin\n",
       "B07G9J4745         0\n",
       "B097HG13D1         6\n",
       "B09BB74CLW        12\n",
       "B0999CJBD9        85\n",
       "B08YDQSG55       169\n",
       "B08PC1WNNX       205\n",
       "B08THPNHJK       224\n",
       "B08LYY2HHJ       421\n",
       "B08FX4BR51       529\n",
       "B07VNPQ2NF       552\n",
       "B095346VH6       572\n",
       "B08QM92YBH       581\n",
       "B071D7BTTW       640\n",
       "B07QDSHKV1       953\n",
       "B07RWPQ9TM      1208\n",
       "B08NSVZY1K      1220\n",
       "B08L3L4ZZX      1391\n",
       "B076DZJSHL      1760\n",
       "B07WZF33ZT      2760\n",
       "B07X3JDVHK      3290\n",
       "B07YL6QWLK      3907\n",
       "B081NLFM91      4863\n",
       "B07T4HX1LH      4978\n",
       "B07XS37FPV      5108\n",
       "B07W8MGPJX      5279\n",
       "B08GBY2BK8      5301\n",
       "B07VXQMR7G      5591\n",
       "B08L39951F      5719\n",
       "B07SKJV5KV      6169\n",
       "B08BFMV68M      6170\n",
       "B08BFS92RP      6401\n",
       "B07T1BCN91      7510\n",
       "B089ZT66H9      7571\n",
       "B0895G46CG      8032\n",
       "B07YBB5SKG      8138\n",
       "B07WYYRZK7      9139\n",
       "B081LQMXKP      9743\n",
       "B07LCW5S2H     10568\n",
       "B08K8T3W2V     10842\n",
       "B07X2JP8HP     10894\n",
       "B083JBM9CZ     13760\n",
       "B0895GS9NW     13830\n",
       "B07FP5PHG4     14736\n",
       "B07VXVFKWV     16760\n",
       "B07QDSNFS2     18376\n",
       "B074NYJL9J     18540\n",
       "B08PP48979     25266\n",
       "B0821DTMGT     26619\n",
       "B089SGRVBJ     27186\n",
       "B07WBSVH33     29346\n",
       "B07T2LGN8P     35414\n",
       "B07NL1L4SL     39571\n",
       "B07MPC7C8G     41012\n",
       "B07GJJ71XS     48931\n",
       "B085W3GN5J     49748\n",
       "B07T2LCKNF     53771\n",
       "B07W67NQMN     54061\n",
       "B07T1CH2HH     73052\n",
       "B07PY5M579     85859\n",
       "B07QHSZGXC    107044\n",
       "B07FKN76ZS    133772\n",
       "B07VLKMMJ5    225923\n",
       "B07GJBBGHG    565112\n",
       "Name: ordered_units, dtype: int64"
      ]
     },
     "execution_count": 27,
     "metadata": {},
     "output_type": "execute_result"
    }
   ],
   "source": [
    "data.groupby(['asin']).sum()['ordered_units'].sort_values()"
   ]
  },
  {
   "cell_type": "code",
   "execution_count": 3,
   "id": "73a2d885-5e0e-4a4d-8108-14b7bb49492f",
   "metadata": {},
   "outputs": [],
   "source": [
    "data.data_date = pd.to_datetime(data.data_date)"
   ]
  },
  {
   "cell_type": "code",
   "execution_count": 5,
   "id": "c6ee435b-a599-4410-8b4d-b15cea8a9aaa",
   "metadata": {},
   "outputs": [],
   "source": [
    "train = data[(data['data_date'] >= '2019-12-02')\n",
    "              & (data['data_date'] <= '2021-07-22') \n",
    "              & ((data.asin == 'B07FKN76ZS') | \n",
    "                 (data.asin =='B07QHSZGXC'))].copy()[['data_date', 'asin', 'ordered_units']]"
   ]
  },
  {
   "cell_type": "code",
   "execution_count": 43,
   "id": "025fb67e-bc3e-45c5-9a7c-ab4c9df968ad",
   "metadata": {},
   "outputs": [],
   "source": [
    "test = data[(data['data_date'] >= '2021-07-23')\n",
    "             & (data['data_date'] <= '2021-08-22')\n",
    "            & ((data.asin == 'B07FKN76ZS') | \n",
    "               (data.asin =='B07QHSZGXC'))].copy()[['data_date', 'asin', 'ordered_units']]"
   ]
  },
  {
   "cell_type": "code",
   "execution_count": 6,
   "id": "7fbed184-929e-4a0e-926e-30ef775204b4",
   "metadata": {},
   "outputs": [],
   "source": [
    "train = train.groupby(['asin', 'data_date']).sum().reset_index()\n",
    "test = test.groupby(['asin', 'data_date']).sum().reset_index()"
   ]
  },
  {
   "cell_type": "code",
   "execution_count": 7,
   "id": "ff0010c1-1ba2-4d1f-b29b-ebdc461a38ac",
   "metadata": {},
   "outputs": [
    {
     "data": {
      "text/html": [
       "<div>\n",
       "<style scoped>\n",
       "    .dataframe tbody tr th:only-of-type {\n",
       "        vertical-align: middle;\n",
       "    }\n",
       "\n",
       "    .dataframe tbody tr th {\n",
       "        vertical-align: top;\n",
       "    }\n",
       "\n",
       "    .dataframe thead th {\n",
       "        text-align: right;\n",
       "    }\n",
       "</style>\n",
       "<table border=\"1\" class=\"dataframe\">\n",
       "  <thead>\n",
       "    <tr style=\"text-align: right;\">\n",
       "      <th></th>\n",
       "      <th>asin</th>\n",
       "      <th>data_date</th>\n",
       "      <th>ordered_units</th>\n",
       "    </tr>\n",
       "  </thead>\n",
       "  <tbody>\n",
       "    <tr>\n",
       "      <th>0</th>\n",
       "      <td>B07FKN76ZS</td>\n",
       "      <td>2019-12-02</td>\n",
       "      <td>2667</td>\n",
       "    </tr>\n",
       "    <tr>\n",
       "      <th>1</th>\n",
       "      <td>B07FKN76ZS</td>\n",
       "      <td>2019-12-03</td>\n",
       "      <td>684</td>\n",
       "    </tr>\n",
       "    <tr>\n",
       "      <th>1183</th>\n",
       "      <td>B07QHSZGXC</td>\n",
       "      <td>2021-07-21</td>\n",
       "      <td>160</td>\n",
       "    </tr>\n",
       "    <tr>\n",
       "      <th>1184</th>\n",
       "      <td>B07QHSZGXC</td>\n",
       "      <td>2021-07-22</td>\n",
       "      <td>171</td>\n",
       "    </tr>\n",
       "  </tbody>\n",
       "</table>\n",
       "</div>"
      ],
      "text/plain": [
       "            asin  data_date  ordered_units\n",
       "0     B07FKN76ZS 2019-12-02           2667\n",
       "1     B07FKN76ZS 2019-12-03            684\n",
       "1183  B07QHSZGXC 2021-07-21            160\n",
       "1184  B07QHSZGXC 2021-07-22            171"
      ]
     },
     "execution_count": 7,
     "metadata": {},
     "output_type": "execute_result"
    }
   ],
   "source": [
    "train.head(2).append(train.tail(2))"
   ]
  },
  {
   "cell_type": "markdown",
   "id": "58c6edc5-6d2d-4656-873f-a46cb3f01d4b",
   "metadata": {},
   "source": [
    "## ordered_units"
   ]
  },
  {
   "cell_type": "code",
   "execution_count": 8,
   "id": "ad1529b7-2591-4158-8a02-44c38f7e3798",
   "metadata": {},
   "outputs": [],
   "source": [
    "from scipy.stats import norm"
   ]
  },
  {
   "cell_type": "code",
   "execution_count": 9,
   "id": "5668c4ad-14a6-4a6c-828f-371347ef28c8",
   "metadata": {},
   "outputs": [
    {
     "data": {
      "text/plain": [
       "<AxesSubplot:xlabel='ordered_units', ylabel='Density'>"
      ]
     },
     "execution_count": 9,
     "metadata": {},
     "output_type": "execute_result"
    },
    {
     "data": {
      "image/png": "[encoded data removed]",
      "text/plain": [
       "<Figure size 432x288 with 1 Axes>"
      ]
     },
     "metadata": {
      "needs_background": "light"
     },
     "output_type": "display_data"
    }
   ],
   "source": [
    "sns.distplot(train.ordered_units, kde=True, fit=norm)"
   ]
  },
  {
   "cell_type": "markdown",
   "id": "b6f8616d-c4ed-45c2-ade3-c8147bbc9e09",
   "metadata": {},
   "source": [
    "## 数据预处理"
   ]
  },
  {
   "cell_type": "markdown",
   "id": "f33d9ffc-ad44-4c9a-8409-3004615fbaba",
   "metadata": {},
   "source": [
    "### 异常值，删除小于等于0的数值和离群点"
   ]
  },
  {
   "cell_type": "code",
   "execution_count": 12,
   "id": "6ad7f835-580d-4e82-995c-ecbfa1f2ca2d",
   "metadata": {},
   "outputs": [],
   "source": [
    "train.drop(train[train.ordered_units <= 0].index, inplace=True)"
   ]
  },
  {
   "cell_type": "code",
   "execution_count": 13,
   "id": "acc2edf9-eeef-42bf-8973-708a5385c24f",
   "metadata": {
    "tags": []
   },
   "outputs": [
    {
     "data": {
      "text/plain": [
       "<AxesSubplot:xlabel='ordered_units'>"
      ]
     },
     "execution_count": 13,
     "metadata": {},
     "output_type": "execute_result"
    },
    {
     "data": {
      "image/png": "[encoded data removed]",
      "text/plain": [
       "<Figure size 432x288 with 1 Axes>"
      ]
     },
     "metadata": {
      "needs_background": "light"
     },
     "output_type": "display_data"
    }
   ],
   "source": [
    "sns.boxplot(train.ordered_units)"
   ]
  },
  {
   "cell_type": "code",
   "execution_count": 14,
   "id": "c0afff07-277a-4dad-a31d-d68a95038a15",
   "metadata": {},
   "outputs": [],
   "source": [
    "train.drop(train[train.ordered_units > 1500].index, inplace=True)"
   ]
  },
  {
   "cell_type": "code",
   "execution_count": 15,
   "id": "812c61fd-d731-4c15-9818-9c18b4091107",
   "metadata": {},
   "outputs": [
    {
     "data": {
      "text/plain": [
       "(1169, 3)"
      ]
     },
     "execution_count": 15,
     "metadata": {},
     "output_type": "execute_result"
    }
   ],
   "source": [
    "train.shape"
   ]
  },
  {
   "cell_type": "markdown",
   "id": "7760e0c0-69df-453b-a770-ffe63b16d73e",
   "metadata": {},
   "source": [
    "### 缺失值"
   ]
  },
  {
   "cell_type": "code",
   "execution_count": 16,
   "id": "c8d0af97-d65f-4a7a-b103-bc85154e7930",
   "metadata": {},
   "outputs": [
    {
     "data": {
      "text/plain": [
       "asin             0\n",
       "data_date        0\n",
       "ordered_units    0\n",
       "dtype: int64"
      ]
     },
     "execution_count": 16,
     "metadata": {},
     "output_type": "execute_result"
    }
   ],
   "source": [
    "train.isnull().sum()"
   ]
  },
  {
   "cell_type": "markdown",
   "id": "de005c50-1832-458f-89d9-17c41a7d01b5",
   "metadata": {},
   "source": [
    "无缺失值不用处理"
   ]
  },
  {
   "cell_type": "markdown",
   "id": "1145eda8-a6d2-4b3a-98f0-4d48d9e15384",
   "metadata": {},
   "source": [
    "### 创造特征"
   ]
  },
  {
   "cell_type": "code",
   "execution_count": 17,
   "id": "08ccb6ec-e79e-4a6c-a89c-07eb1bfd30d7",
   "metadata": {},
   "outputs": [],
   "source": [
    "train['year'] = train.data_date.dt.year\n",
    "train['month'] = train.data_date.dt.month\n",
    "train['day'] = train.data_date.dt.day\n",
    "train = train.drop('data_date', axis=1)"
   ]
  },
  {
   "cell_type": "code",
   "execution_count": 18,
   "id": "ba3c67ee-d208-46fa-8a3b-ba8f033eb54d",
   "metadata": {},
   "outputs": [
    {
     "data": {
      "text/html": [
       "<div>\n",
       "<style scoped>\n",
       "    .dataframe tbody tr th:only-of-type {\n",
       "        vertical-align: middle;\n",
       "    }\n",
       "\n",
       "    .dataframe tbody tr th {\n",
       "        vertical-align: top;\n",
       "    }\n",
       "\n",
       "    .dataframe thead th {\n",
       "        text-align: right;\n",
       "    }\n",
       "</style>\n",
       "<table border=\"1\" class=\"dataframe\">\n",
       "  <thead>\n",
       "    <tr style=\"text-align: right;\">\n",
       "      <th></th>\n",
       "      <th>asin</th>\n",
       "      <th>ordered_units</th>\n",
       "      <th>year</th>\n",
       "      <th>month</th>\n",
       "      <th>day</th>\n",
       "    </tr>\n",
       "  </thead>\n",
       "  <tbody>\n",
       "    <tr>\n",
       "      <th>1</th>\n",
       "      <td>B07FKN76ZS</td>\n",
       "      <td>684</td>\n",
       "      <td>2019</td>\n",
       "      <td>12</td>\n",
       "      <td>3</td>\n",
       "    </tr>\n",
       "  </tbody>\n",
       "</table>\n",
       "</div>"
      ],
      "text/plain": [
       "         asin  ordered_units  year  month  day\n",
       "1  B07FKN76ZS            684  2019     12    3"
      ]
     },
     "execution_count": 18,
     "metadata": {},
     "output_type": "execute_result"
    }
   ],
   "source": [
    "train.head(1)"
   ]
  },
  {
   "cell_type": "code",
   "execution_count": 19,
   "id": "38fcdf42-2692-4980-902d-c8b2441ff3e6",
   "metadata": {},
   "outputs": [],
   "source": [
    "x_train = train.drop('ordered_units', axis=1)\n",
    "y_train = train['ordered_units']"
   ]
  },
  {
   "cell_type": "code",
   "execution_count": 22,
   "id": "d02bd133-a4f6-4f73-90cd-fc7c0e0cd684",
   "metadata": {},
   "outputs": [
    {
     "data": {
      "text/plain": [
       "227339"
      ]
     },
     "execution_count": 22,
     "metadata": {},
     "output_type": "execute_result"
    }
   ],
   "source": [
    "train.ordered_units.sum()"
   ]
  },
  {
   "cell_type": "code",
   "execution_count": 21,
   "id": "1c0711d3-fafc-4d01-a35c-a0c9376209aa",
   "metadata": {},
   "outputs": [
    {
     "data": {
      "text/plain": [
       "(1169, 5)"
      ]
     },
     "execution_count": 21,
     "metadata": {},
     "output_type": "execute_result"
    }
   ],
   "source": [
    "train.shape"
   ]
  },
  {
   "cell_type": "code",
   "execution_count": 20,
   "id": "c14b2997-dbfa-47dd-a41f-84ef8da75de2",
   "metadata": {
    "tags": []
   },
   "outputs": [
    {
     "data": {
      "text/plain": [
       "<AxesSubplot:xlabel='year', ylabel='ordered_units'>"
      ]
     },
     "execution_count": 20,
     "metadata": {},
     "output_type": "execute_result"
    },
    {
     "data": {
      "image/png": "[encoded data removed]",
      "text/plain": [
       "<Figure size 432x288 with 1 Axes>"
      ]
     },
     "metadata": {
      "needs_background": "light"
     },
     "output_type": "display_data"
    }
   ],
   "source": [
    "sns.barplot('year', 'ordered_units', data=train, estimator=np.sum)"
   ]
  },
  {
   "cell_type": "code",
   "execution_count": 28,
   "id": "ca75f9c7-54c6-4ded-b36f-13c9688b3858",
   "metadata": {
    "collapsed": true,
    "jupyter": {
     "outputs_hidden": true
    },
    "tags": []
   },
   "outputs": [
    {
     "data": {
      "text/plain": [
       "<AxesSubplot:xlabel='day', ylabel='ordered_units'>"
      ]
     },
     "execution_count": 28,
     "metadata": {},
     "output_type": "execute_result"
    },
    {
     "data": {
      "image/png": "[encoded data removed]",
      "text/plain": [
       "<Figure size 720x360 with 1 Axes>"
      ]
     },
     "metadata": {
      "needs_background": "light"
     },
     "output_type": "display_data"
    }
   ],
   "source": [
    "plt.figure(figsize=(10, 5))\n",
    "plt.xticks(rotation=90)\n",
    "sns.barplot('day', 'ordered_units', data=train, ci=0, estimator=np.sum)"
   ]
  },
  {
   "cell_type": "code",
   "execution_count": 29,
   "id": "f300436f-ea2c-40fc-b42b-a3f562f557d5",
   "metadata": {
    "collapsed": true,
    "jupyter": {
     "outputs_hidden": true
    },
    "tags": []
   },
   "outputs": [
    {
     "data": {
      "text/plain": [
       "<AxesSubplot:xlabel='month', ylabel='ordered_units'>"
      ]
     },
     "execution_count": 29,
     "metadata": {},
     "output_type": "execute_result"
    },
    {
     "data": {
      "image/png": "[encoded data removed]",
      "text/plain": [
       "<Figure size 720x360 with 1 Axes>"
      ]
     },
     "metadata": {
      "needs_background": "light"
     },
     "output_type": "display_data"
    }
   ],
   "source": [
    "plt.figure(figsize=(10, 5))\n",
    "plt.xticks(rotation=90)\n",
    "sns.barplot('month', 'ordered_units', data=train, ci=0, estimator=np.sum)"
   ]
  },
  {
   "cell_type": "markdown",
   "id": "fadb456c-69e7-4faa-a107-faf5f2bd1993",
   "metadata": {},
   "source": [
    "### 编码"
   ]
  },
  {
   "cell_type": "code",
   "execution_count": 30,
   "id": "20299f7b-5858-4b8b-bc71-543eae38dc4b",
   "metadata": {},
   "outputs": [
    {
     "data": {
      "text/plain": [
       "(1169, 48)"
      ]
     },
     "execution_count": 30,
     "metadata": {},
     "output_type": "execute_result"
    }
   ],
   "source": [
    "encoder = OneHotEncoder(sparse=False, handle_unknown='ignore')\n",
    "x_train = encoder.fit_transform(x_train)\n",
    "x_train.shape"
   ]
  },
  {
   "cell_type": "markdown",
   "id": "06c62239-e109-4ca8-bf7c-57f98f2255cb",
   "metadata": {},
   "source": [
    "## ordered_units"
   ]
  },
  {
   "cell_type": "code",
   "execution_count": 8,
   "id": "881e20f8-acee-4730-bdb1-b3602955c7b7",
   "metadata": {},
   "outputs": [],
   "source": [
    "from scipy.stats import norm"
   ]
  },
  {
   "cell_type": "code",
   "execution_count": 9,
   "id": "ff68fb17-09bc-49bf-a1f3-bc351f5cc92d",
   "metadata": {},
   "outputs": [
    {
     "data": {
      "text/plain": [
       "<AxesSubplot:xlabel='ordered_units', ylabel='Density'>"
      ]
     },
     "execution_count": 9,
     "metadata": {},
     "output_type": "execute_result"
    },
    {
     "data": {
      "image/png": "[encoded data removed]",
      "text/plain": [
       "<Figure size 432x288 with 1 Axes>"
      ]
     },
     "metadata": {
      "needs_background": "light"
     },
     "output_type": "display_data"
    }
   ],
   "source": [
    "sns.distplot(train.ordered_units, kde=True, fit=norm)"
   ]
  },
  {
   "cell_type": "markdown",
   "id": "0b25cf6f-0109-4077-9e7f-108d80e33729",
   "metadata": {},
   "source": [
    "## 训练"
   ]
  },
  {
   "cell_type": "code",
   "execution_count": 31,
   "id": "dd55c4b0-77e2-46aa-8fab-214590843d8c",
   "metadata": {},
   "outputs": [],
   "source": [
    "dtrain = xgb.DMatrix(x_train, y_train)"
   ]
  },
  {
   "cell_type": "code",
   "execution_count": 99,
   "id": "2906beb6-3968-4d67-aed4-64708d5a2031",
   "metadata": {},
   "outputs": [
    {
     "data": {
      "text/plain": [
       "0.843977689743042"
      ]
     },
     "execution_count": 99,
     "metadata": {},
     "output_type": "execute_result"
    }
   ],
   "source": [
    "ts = time.time()\n",
    "params = {'eta': 0.1,\n",
    "          'gamma': 5,\n",
    "          'max_depth': 4,\n",
    "          'subsample': 1,\n",
    "          'colsample_bytree': 1,\n",
    "          'min_child_weight': 15,\n",
    "          'n_jobs': 8}\n",
    "model = xgb.train(params, dtrain, 1500)\n",
    "time.time() - ts"
   ]
  },
  {
   "cell_type": "code",
   "execution_count": 100,
   "id": "b30014a4-3159-45ed-abdb-2d10a14ea8c9",
   "metadata": {},
   "outputs": [],
   "source": [
    "result_cv = xgb.cv(params, dtrain, num_boost_round=1500)"
   ]
  },
  {
   "cell_type": "code",
   "execution_count": 101,
   "id": "166f3c1d-aa48-4da9-a15a-de6b69d28298",
   "metadata": {},
   "outputs": [
    {
     "data": {
      "text/plain": [
       "<matplotlib.legend.Legend at 0x179754862e8>"
      ]
     },
     "execution_count": 101,
     "metadata": {},
     "output_type": "execute_result"
    },
    {
     "data": {
      "image/png": "[encoded data removed]",
      "text/plain": [
       "<Figure size 432x288 with 1 Axes>"
      ]
     },
     "metadata": {
      "needs_background": "light"
     },
     "output_type": "display_data"
    }
   ],
   "source": [
    "plt.plot(result_cv.iloc[:, 0], label='train')\n",
    "plt.plot(result_cv.iloc[:, 2], label='valid')\n",
    "plt.legend()"
   ]
  },
  {
   "cell_type": "markdown",
   "id": "2f5a47d3-c613-4ce5-b06e-9e109fc2e576",
   "metadata": {},
   "source": [
    "## 评判标准"
   ]
  },
  {
   "cell_type": "markdown",
   "id": "bf1be26c-e59f-4f45-97f6-2339e8e25d30",
   "metadata": {},
   "source": [
    "- 分开\n",
    "- 添加特征，weekday\n",
    "- 赋予权重"
   ]
  },
  {
   "cell_type": "code",
   "execution_count": 143,
   "id": "ee276bf0-170a-4bb9-97a4-fd7ac9876741",
   "metadata": {},
   "outputs": [],
   "source": [
    "def metrics1(y_true, y_pred):\n",
    "    return 1 - (abs(y_true.sum() - y_pred.sum()) / y_true.sum())"
   ]
  },
  {
   "cell_type": "code",
   "execution_count": 144,
   "id": "0145692b-bda3-4dbe-9cfa-b8b9a43ad5c8",
   "metadata": {},
   "outputs": [],
   "source": [
    "def metrics2(y_true, y_pred):\n",
    "    return 1 - (abs(y_true - y_pred) / y_true).mean()"
   ]
  },
  {
   "cell_type": "markdown",
   "id": "3692ba5a-d2bc-453f-8d8d-80a9385750cd",
   "metadata": {},
   "source": [
    "## 测试3：B07FKN76ZS, 电水壶"
   ]
  },
  {
   "cell_type": "code",
   "execution_count": 128,
   "id": "d138f138-86a1-412b-a9a1-3722b4877e9c",
   "metadata": {},
   "outputs": [],
   "source": [
    "def create_feature(asin):\n",
    "    test1 = test[test['asin'] == asin]\n",
    "    # 对测试数据构造特征\n",
    "    test1['year'] = test1.data_date.dt.year\n",
    "    test1['month'] = test1.data_date.dt.month\n",
    "    test1['day'] = test1.data_date.dt.day\n",
    "    test1.drop('data_date', axis=1, inplace=True)\n",
    "    return test1"
   ]
  },
  {
   "cell_type": "code",
   "execution_count": 129,
   "id": "a4c32a72-b9b1-42ab-ae25-ebc4cbde29d7",
   "metadata": {},
   "outputs": [
    {
     "data": {
      "text/html": [
       "<div>\n",
       "<style scoped>\n",
       "    .dataframe tbody tr th:only-of-type {\n",
       "        vertical-align: middle;\n",
       "    }\n",
       "\n",
       "    .dataframe tbody tr th {\n",
       "        vertical-align: top;\n",
       "    }\n",
       "\n",
       "    .dataframe thead th {\n",
       "        text-align: right;\n",
       "    }\n",
       "</style>\n",
       "<table border=\"1\" class=\"dataframe\">\n",
       "  <thead>\n",
       "    <tr style=\"text-align: right;\">\n",
       "      <th></th>\n",
       "      <th>asin</th>\n",
       "      <th>ordered_units</th>\n",
       "      <th>year</th>\n",
       "      <th>month</th>\n",
       "      <th>day</th>\n",
       "    </tr>\n",
       "  </thead>\n",
       "  <tbody>\n",
       "    <tr>\n",
       "      <th>26990</th>\n",
       "      <td>B07FKN76ZS</td>\n",
       "      <td>136</td>\n",
       "      <td>2021</td>\n",
       "      <td>7</td>\n",
       "      <td>26</td>\n",
       "    </tr>\n",
       "  </tbody>\n",
       "</table>\n",
       "</div>"
      ],
      "text/plain": [
       "             asin  ordered_units  year  month  day\n",
       "26990  B07FKN76ZS            136  2021      7   26"
      ]
     },
     "execution_count": 129,
     "metadata": {},
     "output_type": "execute_result"
    }
   ],
   "source": [
    "test3 = create_feature('B07FKN76ZS')\n",
    "test3.head(1)"
   ]
  },
  {
   "cell_type": "code",
   "execution_count": 141,
   "id": "9d7f36f8-13d0-4bdb-9783-e8c3a388a31c",
   "metadata": {},
   "outputs": [
    {
     "data": {
      "text/html": [
       "<div>\n",
       "<style scoped>\n",
       "    .dataframe tbody tr th:only-of-type {\n",
       "        vertical-align: middle;\n",
       "    }\n",
       "\n",
       "    .dataframe tbody tr th {\n",
       "        vertical-align: top;\n",
       "    }\n",
       "\n",
       "    .dataframe thead th {\n",
       "        text-align: right;\n",
       "    }\n",
       "</style>\n",
       "<table border=\"1\" class=\"dataframe\">\n",
       "  <thead>\n",
       "    <tr style=\"text-align: right;\">\n",
       "      <th></th>\n",
       "      <th>asin</th>\n",
       "      <th>year</th>\n",
       "      <th>month</th>\n",
       "      <th>day</th>\n",
       "    </tr>\n",
       "  </thead>\n",
       "  <tbody>\n",
       "    <tr>\n",
       "      <th>26990</th>\n",
       "      <td>B07FKN76ZS</td>\n",
       "      <td>2021</td>\n",
       "      <td>7</td>\n",
       "      <td>26</td>\n",
       "    </tr>\n",
       "    <tr>\n",
       "      <th>27050</th>\n",
       "      <td>B07FKN76ZS</td>\n",
       "      <td>2021</td>\n",
       "      <td>7</td>\n",
       "      <td>25</td>\n",
       "    </tr>\n",
       "    <tr>\n",
       "      <th>27114</th>\n",
       "      <td>B07FKN76ZS</td>\n",
       "      <td>2021</td>\n",
       "      <td>7</td>\n",
       "      <td>24</td>\n",
       "    </tr>\n",
       "    <tr>\n",
       "      <th>27173</th>\n",
       "      <td>B07FKN76ZS</td>\n",
       "      <td>2021</td>\n",
       "      <td>7</td>\n",
       "      <td>23</td>\n",
       "    </tr>\n",
       "    <tr>\n",
       "      <th>27232</th>\n",
       "      <td>B07FKN76ZS</td>\n",
       "      <td>2021</td>\n",
       "      <td>7</td>\n",
       "      <td>27</td>\n",
       "    </tr>\n",
       "    <tr>\n",
       "      <th>27350</th>\n",
       "      <td>B07FKN76ZS</td>\n",
       "      <td>2021</td>\n",
       "      <td>7</td>\n",
       "      <td>31</td>\n",
       "    </tr>\n",
       "    <tr>\n",
       "      <th>27412</th>\n",
       "      <td>B07FKN76ZS</td>\n",
       "      <td>2021</td>\n",
       "      <td>8</td>\n",
       "      <td>1</td>\n",
       "    </tr>\n",
       "    <tr>\n",
       "      <th>27475</th>\n",
       "      <td>B07FKN76ZS</td>\n",
       "      <td>2021</td>\n",
       "      <td>8</td>\n",
       "      <td>2</td>\n",
       "    </tr>\n",
       "    <tr>\n",
       "      <th>27536</th>\n",
       "      <td>B07FKN76ZS</td>\n",
       "      <td>2021</td>\n",
       "      <td>8</td>\n",
       "      <td>3</td>\n",
       "    </tr>\n",
       "    <tr>\n",
       "      <th>27594</th>\n",
       "      <td>B07FKN76ZS</td>\n",
       "      <td>2021</td>\n",
       "      <td>8</td>\n",
       "      <td>5</td>\n",
       "    </tr>\n",
       "  </tbody>\n",
       "</table>\n",
       "</div>"
      ],
      "text/plain": [
       "             asin  year  month  day\n",
       "26990  B07FKN76ZS  2021      7   26\n",
       "27050  B07FKN76ZS  2021      7   25\n",
       "27114  B07FKN76ZS  2021      7   24\n",
       "27173  B07FKN76ZS  2021      7   23\n",
       "27232  B07FKN76ZS  2021      7   27\n",
       "27350  B07FKN76ZS  2021      7   31\n",
       "27412  B07FKN76ZS  2021      8    1\n",
       "27475  B07FKN76ZS  2021      8    2\n",
       "27536  B07FKN76ZS  2021      8    3\n",
       "27594  B07FKN76ZS  2021      8    5"
      ]
     },
     "execution_count": 141,
     "metadata": {},
     "output_type": "execute_result"
    }
   ],
   "source": [
    "x_test_3 = test3.drop('ordered_units', axis=1)\n",
    "y_test_3 = test3['ordered_units']\n",
    "x_test_3.head(10)"
   ]
  },
  {
   "cell_type": "code",
   "execution_count": 145,
   "id": "6378dc72-783f-4cef-9512-34f186f7c361",
   "metadata": {
    "tags": []
   },
   "outputs": [
    {
     "data": {
      "text/plain": [
       "(-0.44929247423054597, -0.6558902167100327)"
      ]
     },
     "execution_count": 145,
     "metadata": {},
     "output_type": "execute_result"
    }
   ],
   "source": [
    "x_test_encoded = encoder.transform(x_test_3)\n",
    "dtest = xgb.DMatrix(x_test_encoded, y_test_3)\n",
    "y_pred_3 = model.predict(dtest)\n",
    "metrics1(y_test_3, y_pred_3), metrics2(y_test_3, y_pred_3)"
   ]
  },
  {
   "cell_type": "code",
   "execution_count": 132,
   "id": "23e275ef-900c-4846-b3f2-9e72474c9d04",
   "metadata": {},
   "outputs": [
    {
     "data": {
      "text/plain": [
       "26990    136\n",
       "27050     93\n",
       "27114     70\n",
       "27173     75\n",
       "27232     98\n",
       "27350     80\n",
       "27412    114\n",
       "27475     89\n",
       "27536     57\n",
       "27594     69\n",
       "27653     72\n",
       "27713     58\n",
       "27771     95\n",
       "27832     81\n",
       "27892     75\n",
       "27948     88\n",
       "28009     85\n",
       "28068     67\n",
       "28129     89\n",
       "28191     78\n",
       "28252    100\n",
       "28314     85\n",
       "28372     80\n",
       "28434     76\n",
       "28493     79\n",
       "28554     82\n",
       "28614     77\n",
       "28674     84\n",
       "28734     84\n",
       "28794     83\n",
       "28855     84\n",
       "Name: ordered_units, dtype: int64"
      ]
     },
     "execution_count": 132,
     "metadata": {},
     "output_type": "execute_result"
    }
   ],
   "source": [
    "y_test_3"
   ]
  },
  {
   "cell_type": "code",
   "execution_count": 133,
   "id": "bd6b3072-d1d4-4963-b962-c9b74cee2240",
   "metadata": {},
   "outputs": [
    {
     "data": {
      "text/plain": [
       "<matplotlib.legend.Legend at 0x179752d9860>"
      ]
     },
     "execution_count": 133,
     "metadata": {},
     "output_type": "execute_result"
    },
    {
     "data": {
      "image/png": "[encoded data removed]",
      "text/plain": [
       "<Figure size 720x360 with 1 Axes>"
      ]
     },
     "metadata": {
      "needs_background": "light"
     },
     "output_type": "display_data"
    }
   ],
   "source": [
    "plt.figure(figsize=(10,5))\n",
    "plt.plot(y_test_3.values, label='true')\n",
    "plt.plot(y_pred_3, label='predict')\n",
    "plt.grid()\n",
    "plt.legend()"
   ]
  },
  {
   "cell_type": "markdown",
   "id": "49a56c4a-088f-4fbf-8c99-7e236b54fb7c",
   "metadata": {},
   "source": [
    "## 测试4：B07QHSZGXC, 炸锅配件"
   ]
  },
  {
   "cell_type": "code",
   "execution_count": 134,
   "id": "a6ff4887-cdb4-4946-ad9a-4f8bdd15fe10",
   "metadata": {},
   "outputs": [],
   "source": [
    "test4 = create_feature('B07QHSZGXC')"
   ]
  },
  {
   "cell_type": "code",
   "execution_count": 135,
   "id": "d7e51d24-54be-470d-a8e3-70e9e7de9f66",
   "metadata": {},
   "outputs": [],
   "source": [
    "x_test_4 = test4.drop('ordered_units', axis=1)\n",
    "y_test_4 = test4['ordered_units']"
   ]
  },
  {
   "cell_type": "code",
   "execution_count": 136,
   "id": "12fa444e-da95-4158-b126-ba8e36746efb",
   "metadata": {
    "tags": []
   },
   "outputs": [],
   "source": [
    "x_test_4 = encoder.transform(x_test_4)\n",
    "dtest = xgb.DMatrix(x_test_4, y_test_4)\n",
    "y_pred_4 = model.predict(dtest)"
   ]
  },
  {
   "cell_type": "code",
   "execution_count": 137,
   "id": "5a062489-12c6-42f6-bae3-06d8e4ac61cc",
   "metadata": {},
   "outputs": [
    {
     "data": {
      "text/plain": [
       "0.7953339633562707"
      ]
     },
     "execution_count": 137,
     "metadata": {},
     "output_type": "execute_result"
    }
   ],
   "source": [
    "metrics(y_test_4, y_pred_4)"
   ]
  },
  {
   "cell_type": "code",
   "execution_count": 138,
   "id": "8d64e389-ffae-4baa-94ed-6687a8a652c8",
   "metadata": {},
   "outputs": [
    {
     "data": {
      "text/plain": [
       "<matplotlib.legend.Legend at 0x17977b7c320>"
      ]
     },
     "execution_count": 138,
     "metadata": {},
     "output_type": "execute_result"
    },
    {
     "data": {
      "image/png": "[encoded data removed]",
      "text/plain": [
       "<Figure size 720x360 with 1 Axes>"
      ]
     },
     "metadata": {
      "needs_background": "light"
     },
     "output_type": "display_data"
    }
   ],
   "source": [
    "plt.figure(figsize=(10,5))\n",
    "plt.plot(y_test_4.values, label='true')\n",
    "plt.plot(y_pred_4, label='predict')\n",
    "plt.xticks(rotation=90)\n",
    "plt.grid()\n",
    "plt.legend()"
   ]
  },
  {
   "cell_type": "code",
   "execution_count": null,
   "id": "3b6c50cd-5795-4e1c-9f65-fd2768021254",
   "metadata": {},
   "outputs": [],
   "source": []
  }
 ],
 "metadata": {
  "kernelspec": {
   "display_name": "Python 3",
   "language": "python",
   "name": "python3"
  },
  "language_info": {
   "codemirror_mode": {
    "name": "ipython",
    "version": 3
   },
   "file_extension": ".py",
   "mimetype": "text/x-python",
   "name": "python",
   "nbconvert_exporter": "python",
   "pygments_lexer": "ipython3",
   "version": "3.7.0"
  },
  "toc-autonumbering": false,
  "toc-showcode": false,
  "toc-showmarkdowntxt": false
 },
 "nbformat": 4,
 "nbformat_minor": 5
}
